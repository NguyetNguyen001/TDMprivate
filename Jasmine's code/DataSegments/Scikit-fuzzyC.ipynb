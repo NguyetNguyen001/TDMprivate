{
 "cells": [
  {
   "cell_type": "code",
   "execution_count": 1,
   "id": "01496918-f5be-4a40-be0b-fe6a997cd673",
   "metadata": {},
   "outputs": [
    {
     "name": "stdout",
     "output_type": "stream",
     "text": [
      "Requirement already satisfied: scikit-fda in /home/jle_linux/do-env/lib/python3.10/site-packages (0.9.1)\n",
      "Requirement already satisfied: dcor in /home/jle_linux/do-env/lib/python3.10/site-packages (from scikit-fda) (0.6)\n",
      "Requirement already satisfied: fdasrsf!=2.5.7,>=2.2.0 in /home/jle_linux/do-env/lib/python3.10/site-packages (from scikit-fda) (2.6.1)\n",
      "Requirement already satisfied: findiff in /home/jle_linux/do-env/lib/python3.10/site-packages (from scikit-fda) (0.12.1)\n",
      "Requirement already satisfied: lazy-loader in /home/jle_linux/do-env/lib/python3.10/site-packages (from scikit-fda) (0.4)\n",
      "Requirement already satisfied: matplotlib in /home/jle_linux/do-env/lib/python3.10/site-packages (from scikit-fda) (3.9.2)\n",
      "Requirement already satisfied: multimethod!=1.11,!=1.11.1,>=1.5 in /home/jle_linux/do-env/lib/python3.10/site-packages (from scikit-fda) (2.0)\n",
      "Requirement already satisfied: numpy>=1.16 in /home/jle_linux/do-env/lib/python3.10/site-packages (from scikit-fda) (2.1.1)\n",
      "Requirement already satisfied: pandas>=1.0 in /home/jle_linux/do-env/lib/python3.10/site-packages (from scikit-fda) (2.2.2)\n",
      "Requirement already satisfied: rdata in /home/jle_linux/do-env/lib/python3.10/site-packages (from scikit-fda) (0.11.2)\n",
      "Requirement already satisfied: scikit-datasets>=0.1.24 in /home/jle_linux/do-env/lib/python3.10/site-packages (from scikit-datasets[cran]>=0.1.24->scikit-fda) (0.2.4)\n",
      "Requirement already satisfied: scikit-learn>=0.20 in /home/jle_linux/do-env/lib/python3.10/site-packages (from scikit-fda) (1.5.2)\n",
      "Requirement already satisfied: scipy>=1.3.0 in /home/jle_linux/do-env/lib/python3.10/site-packages (from scikit-fda) (1.14.1)\n",
      "Requirement already satisfied: typing-extensions in /home/jle_linux/do-env/lib/python3.10/site-packages (from scikit-fda) (4.12.2)\n",
      "Requirement already satisfied: Cython in /home/jle_linux/do-env/lib/python3.10/site-packages (from fdasrsf!=2.5.7,>=2.2.0->scikit-fda) (3.0.11)\n",
      "Requirement already satisfied: joblib in /home/jle_linux/do-env/lib/python3.10/site-packages (from fdasrsf!=2.5.7,>=2.2.0->scikit-fda) (1.4.2)\n",
      "Requirement already satisfied: patsy in /home/jle_linux/do-env/lib/python3.10/site-packages (from fdasrsf!=2.5.7,>=2.2.0->scikit-fda) (1.0.1)\n",
      "Requirement already satisfied: tqdm in /home/jle_linux/do-env/lib/python3.10/site-packages (from fdasrsf!=2.5.7,>=2.2.0->scikit-fda) (4.67.1)\n",
      "Requirement already satisfied: six in /home/jle_linux/do-env/lib/python3.10/site-packages (from fdasrsf!=2.5.7,>=2.2.0->scikit-fda) (1.16.0)\n",
      "Requirement already satisfied: numba in /home/jle_linux/do-env/lib/python3.10/site-packages (from fdasrsf!=2.5.7,>=2.2.0->scikit-fda) (0.61.0)\n",
      "Requirement already satisfied: cffi>=1.0.0 in /home/jle_linux/do-env/lib/python3.10/site-packages (from fdasrsf!=2.5.7,>=2.2.0->scikit-fda) (1.17.1)\n",
      "Requirement already satisfied: pyparsing in /home/jle_linux/do-env/lib/python3.10/site-packages (from fdasrsf!=2.5.7,>=2.2.0->scikit-fda) (3.1.4)\n",
      "Requirement already satisfied: python-dateutil>=2.8.2 in /home/jle_linux/do-env/lib/python3.10/site-packages (from pandas>=1.0->scikit-fda) (2.9.0.post0)\n",
      "Requirement already satisfied: pytz>=2020.1 in /home/jle_linux/do-env/lib/python3.10/site-packages (from pandas>=1.0->scikit-fda) (2024.1)\n",
      "Requirement already satisfied: tzdata>=2022.7 in /home/jle_linux/do-env/lib/python3.10/site-packages (from pandas>=1.0->scikit-fda) (2024.1)\n",
      "Requirement already satisfied: threadpoolctl>=3.1.0 in /home/jle_linux/do-env/lib/python3.10/site-packages (from scikit-learn>=0.20->scikit-fda) (3.5.0)\n",
      "Requirement already satisfied: sympy in /home/jle_linux/do-env/lib/python3.10/site-packages (from findiff->scikit-fda) (1.13.3)\n",
      "Requirement already satisfied: packaging in /home/jle_linux/do-env/lib/python3.10/site-packages (from lazy-loader->scikit-fda) (24.1)\n",
      "Requirement already satisfied: contourpy>=1.0.1 in /home/jle_linux/do-env/lib/python3.10/site-packages (from matplotlib->scikit-fda) (1.3.0)\n",
      "Requirement already satisfied: cycler>=0.10 in /home/jle_linux/do-env/lib/python3.10/site-packages (from matplotlib->scikit-fda) (0.12.1)\n",
      "Requirement already satisfied: fonttools>=4.22.0 in /home/jle_linux/do-env/lib/python3.10/site-packages (from matplotlib->scikit-fda) (4.53.1)\n",
      "Requirement already satisfied: kiwisolver>=1.3.1 in /home/jle_linux/do-env/lib/python3.10/site-packages (from matplotlib->scikit-fda) (1.4.7)\n",
      "Requirement already satisfied: pillow>=8 in /home/jle_linux/do-env/lib/python3.10/site-packages (from matplotlib->scikit-fda) (10.4.0)\n",
      "Requirement already satisfied: xarray in /home/jle_linux/do-env/lib/python3.10/site-packages (from rdata->scikit-fda) (2025.1.1)\n",
      "Requirement already satisfied: pycparser in /home/jle_linux/do-env/lib/python3.10/site-packages (from cffi>=1.0.0->fdasrsf!=2.5.7,>=2.2.0->scikit-fda) (2.22)\n",
      "Requirement already satisfied: llvmlite<0.45,>=0.44.0dev0 in /home/jle_linux/do-env/lib/python3.10/site-packages (from numba->fdasrsf!=2.5.7,>=2.2.0->scikit-fda) (0.44.0)\n",
      "Requirement already satisfied: mpmath<1.4,>=1.1.0 in /home/jle_linux/do-env/lib/python3.10/site-packages (from sympy->findiff->scikit-fda) (1.3.0)\n",
      "\n",
      "\u001b[1m[\u001b[0m\u001b[34;49mnotice\u001b[0m\u001b[1;39;49m]\u001b[0m\u001b[39;49m A new release of pip is available: \u001b[0m\u001b[31;49m24.2\u001b[0m\u001b[39;49m -> \u001b[0m\u001b[32;49m24.3.1\u001b[0m\n",
      "\u001b[1m[\u001b[0m\u001b[34;49mnotice\u001b[0m\u001b[1;39;49m]\u001b[0m\u001b[39;49m To update, run: \u001b[0m\u001b[32;49mpip install --upgrade pip\u001b[0m\n",
      "Note: you may need to restart the kernel to use updated packages.\n"
     ]
    }
   ],
   "source": [
    "pip install scikit-fda"
   ]
  },
  {
   "cell_type": "code",
   "execution_count": 8,
   "id": "4101d32a-77a7-4570-b5be-8d8ee112f81b",
   "metadata": {},
   "outputs": [
    {
     "ename": "ImportError",
     "evalue": "cannot import name '_evaluate_grid' from 'skfda._utils' (/home/jle_linux/do-env/lib/python3.10/site-packages/skfda/_utils/__init__.py)",
     "output_type": "error",
     "traceback": [
      "\u001b[0;31m---------------------------------------------------------------------------\u001b[0m",
      "\u001b[0;31mImportError\u001b[0m                               Traceback (most recent call last)",
      "Cell \u001b[0;32mIn[8], line 6\u001b[0m\n\u001b[1;32m      3\u001b[0m \u001b[38;5;28;01mimport\u001b[39;00m \u001b[38;5;21;01mnumpy\u001b[39;00m \u001b[38;5;28;01mas\u001b[39;00m \u001b[38;5;21;01mnp\u001b[39;00m\n\u001b[1;32m      5\u001b[0m \u001b[38;5;28;01mfrom\u001b[39;00m \u001b[38;5;21;01mskfda\u001b[39;00m \u001b[38;5;28;01mimport\u001b[39;00m datasets\n\u001b[0;32m----> 6\u001b[0m \u001b[38;5;28;01mfrom\u001b[39;00m \u001b[38;5;21;01mskfda\u001b[39;00m\u001b[38;5;21;01m.\u001b[39;00m\u001b[38;5;21;01mexploratory\u001b[39;00m\u001b[38;5;21;01m.\u001b[39;00m\u001b[38;5;21;01mvisualization\u001b[39;00m\u001b[38;5;21;01m.\u001b[39;00m\u001b[38;5;21;01mclustering\u001b[39;00m \u001b[38;5;28;01mimport\u001b[39;00m (\n\u001b[1;32m      7\u001b[0m     ClusterMembershipLinesPlot,\n\u001b[1;32m      8\u001b[0m     ClusterMembershipPlot,\n\u001b[1;32m      9\u001b[0m     ClusterPlot,\n\u001b[1;32m     10\u001b[0m )\n\u001b[1;32m     11\u001b[0m \u001b[38;5;28;01mfrom\u001b[39;00m \u001b[38;5;21;01mskfda\u001b[39;00m\u001b[38;5;21;01m.\u001b[39;00m\u001b[38;5;21;01mml\u001b[39;00m\u001b[38;5;21;01m.\u001b[39;00m\u001b[38;5;21;01mclustering\u001b[39;00m \u001b[38;5;28;01mimport\u001b[39;00m FuzzyCMeans, KMeans\n",
      "File \u001b[0;32m~/do-env/lib/python3.10/site-packages/skfda/exploratory/visualization/clustering.py:21\u001b[0m\n\u001b[1;32m     18\u001b[0m \u001b[38;5;28;01mfrom\u001b[39;00m \u001b[38;5;21;01msklearn\u001b[39;00m\u001b[38;5;21;01m.\u001b[39;00m\u001b[38;5;21;01mutils\u001b[39;00m\u001b[38;5;21;01m.\u001b[39;00m\u001b[38;5;21;01mvalidation\u001b[39;00m \u001b[38;5;28;01mimport\u001b[39;00m check_is_fitted\n\u001b[1;32m     19\u001b[0m \u001b[38;5;28;01mfrom\u001b[39;00m \u001b[38;5;21;01mtyping_extensions\u001b[39;00m \u001b[38;5;28;01mimport\u001b[39;00m Protocol\n\u001b[0;32m---> 21\u001b[0m \u001b[38;5;28;01mfrom\u001b[39;00m \u001b[38;5;21;01m.\u001b[39;00m\u001b[38;5;21;01m.\u001b[39;00m\u001b[38;5;21;01m.\u001b[39;00m\u001b[38;5;21;01mmisc\u001b[39;00m\u001b[38;5;21;01m.\u001b[39;00m\u001b[38;5;21;01mvalidation\u001b[39;00m \u001b[38;5;28;01mimport\u001b[39;00m check_fdata_same_dimensions\n\u001b[1;32m     22\u001b[0m \u001b[38;5;28;01mfrom\u001b[39;00m \u001b[38;5;21;01m.\u001b[39;00m\u001b[38;5;21;01m.\u001b[39;00m\u001b[38;5;21;01m.\u001b[39;00m\u001b[38;5;21;01mrepresentation\u001b[39;00m \u001b[38;5;28;01mimport\u001b[39;00m FData, FDataGrid\n\u001b[1;32m     23\u001b[0m \u001b[38;5;28;01mfrom\u001b[39;00m \u001b[38;5;21;01m.\u001b[39;00m\u001b[38;5;21;01m.\u001b[39;00m\u001b[38;5;21;01m.\u001b[39;00m\u001b[38;5;21;01mtyping\u001b[39;00m\u001b[38;5;21;01m.\u001b[39;00m\u001b[38;5;21;01m_numpy\u001b[39;00m \u001b[38;5;28;01mimport\u001b[39;00m NDArrayFloat, NDArrayInt\n",
      "File \u001b[0;32m~/do-env/lib/python3.10/site-packages/skfda/misc/validation.py:12\u001b[0m\n\u001b[1;32m      9\u001b[0m \u001b[38;5;28;01mimport\u001b[39;00m \u001b[38;5;21;01mnumpy\u001b[39;00m \u001b[38;5;28;01mas\u001b[39;00m \u001b[38;5;21;01mnp\u001b[39;00m\n\u001b[1;32m     10\u001b[0m \u001b[38;5;28;01mfrom\u001b[39;00m \u001b[38;5;21;01msklearn\u001b[39;00m\u001b[38;5;21;01m.\u001b[39;00m\u001b[38;5;21;01mutils\u001b[39;00m \u001b[38;5;28;01mimport\u001b[39;00m check_random_state \u001b[38;5;28;01mas\u001b[39;00m _check_random_state\n\u001b[0;32m---> 12\u001b[0m \u001b[38;5;28;01mfrom\u001b[39;00m \u001b[38;5;21;01m.\u001b[39;00m\u001b[38;5;21;01m.\u001b[39;00m\u001b[38;5;21;01mrepresentation\u001b[39;00m \u001b[38;5;28;01mimport\u001b[39;00m FData, FDataBasis, FDataGrid\n\u001b[1;32m     13\u001b[0m \u001b[38;5;28;01mfrom\u001b[39;00m \u001b[38;5;21;01m.\u001b[39;00m\u001b[38;5;21;01m.\u001b[39;00m\u001b[38;5;21;01mtyping\u001b[39;00m\u001b[38;5;21;01m.\u001b[39;00m\u001b[38;5;21;01m_base\u001b[39;00m \u001b[38;5;28;01mimport\u001b[39;00m (\n\u001b[1;32m     14\u001b[0m     DomainRange,\n\u001b[1;32m     15\u001b[0m     DomainRangeLike,\n\u001b[0;32m   (...)\u001b[0m\n\u001b[1;32m     18\u001b[0m     RandomStateLike,\n\u001b[1;32m     19\u001b[0m )\n\u001b[1;32m     20\u001b[0m \u001b[38;5;28;01mfrom\u001b[39;00m \u001b[38;5;21;01m.\u001b[39;00m\u001b[38;5;21;01m.\u001b[39;00m\u001b[38;5;21;01mtyping\u001b[39;00m\u001b[38;5;21;01m.\u001b[39;00m\u001b[38;5;21;01m_numpy\u001b[39;00m \u001b[38;5;28;01mimport\u001b[39;00m ArrayLike\n",
      "File \u001b[0;32m~/do-env/lib/python3.10/site-packages/lazy_loader/__init__.py:82\u001b[0m, in \u001b[0;36mattach.<locals>.__getattr__\u001b[0;34m(name)\u001b[0m\n\u001b[1;32m     80\u001b[0m \u001b[38;5;28;01melif\u001b[39;00m name \u001b[38;5;129;01min\u001b[39;00m attr_to_modules:\n\u001b[1;32m     81\u001b[0m     submod_path \u001b[38;5;241m=\u001b[39m \u001b[38;5;124mf\u001b[39m\u001b[38;5;124m\"\u001b[39m\u001b[38;5;132;01m{\u001b[39;00mpackage_name\u001b[38;5;132;01m}\u001b[39;00m\u001b[38;5;124m.\u001b[39m\u001b[38;5;132;01m{\u001b[39;00mattr_to_modules[name]\u001b[38;5;132;01m}\u001b[39;00m\u001b[38;5;124m\"\u001b[39m\n\u001b[0;32m---> 82\u001b[0m     submod \u001b[38;5;241m=\u001b[39m \u001b[43mimportlib\u001b[49m\u001b[38;5;241;43m.\u001b[39;49m\u001b[43mimport_module\u001b[49m\u001b[43m(\u001b[49m\u001b[43msubmod_path\u001b[49m\u001b[43m)\u001b[49m\n\u001b[1;32m     83\u001b[0m     attr \u001b[38;5;241m=\u001b[39m \u001b[38;5;28mgetattr\u001b[39m(submod, name)\n\u001b[1;32m     85\u001b[0m     \u001b[38;5;66;03m# If the attribute lives in a file (module) with the same\u001b[39;00m\n\u001b[1;32m     86\u001b[0m     \u001b[38;5;66;03m# name as the attribute, ensure that the attribute and *not*\u001b[39;00m\n\u001b[1;32m     87\u001b[0m     \u001b[38;5;66;03m# the module is accessible on the package.\u001b[39;00m\n",
      "File \u001b[0;32m/usr/lib/python3.10/importlib/__init__.py:126\u001b[0m, in \u001b[0;36mimport_module\u001b[0;34m(name, package)\u001b[0m\n\u001b[1;32m    124\u001b[0m             \u001b[38;5;28;01mbreak\u001b[39;00m\n\u001b[1;32m    125\u001b[0m         level \u001b[38;5;241m+\u001b[39m\u001b[38;5;241m=\u001b[39m \u001b[38;5;241m1\u001b[39m\n\u001b[0;32m--> 126\u001b[0m \u001b[38;5;28;01mreturn\u001b[39;00m \u001b[43m_bootstrap\u001b[49m\u001b[38;5;241;43m.\u001b[39;49m\u001b[43m_gcd_import\u001b[49m\u001b[43m(\u001b[49m\u001b[43mname\u001b[49m\u001b[43m[\u001b[49m\u001b[43mlevel\u001b[49m\u001b[43m:\u001b[49m\u001b[43m]\u001b[49m\u001b[43m,\u001b[49m\u001b[43m \u001b[49m\u001b[43mpackage\u001b[49m\u001b[43m,\u001b[49m\u001b[43m \u001b[49m\u001b[43mlevel\u001b[49m\u001b[43m)\u001b[49m\n",
      "File \u001b[0;32m~/do-env/lib/python3.10/site-packages/skfda/representation/_functional_data.py:31\u001b[0m\n\u001b[1;32m     28\u001b[0m \u001b[38;5;28;01mfrom\u001b[39;00m \u001b[38;5;21;01mmatplotlib\u001b[39;00m\u001b[38;5;21;01m.\u001b[39;00m\u001b[38;5;21;01mfigure\u001b[39;00m \u001b[38;5;28;01mimport\u001b[39;00m Figure\n\u001b[1;32m     29\u001b[0m \u001b[38;5;28;01mfrom\u001b[39;00m \u001b[38;5;21;01mtyping_extensions\u001b[39;00m \u001b[38;5;28;01mimport\u001b[39;00m Literal, Protocol\n\u001b[0;32m---> 31\u001b[0m \u001b[38;5;28;01mfrom\u001b[39;00m \u001b[38;5;21;01m.\u001b[39;00m\u001b[38;5;21;01m.\u001b[39;00m\u001b[38;5;21;01m_utils\u001b[39;00m \u001b[38;5;28;01mimport\u001b[39;00m _evaluate_grid, _to_grid_points\n\u001b[1;32m     32\u001b[0m \u001b[38;5;28;01mfrom\u001b[39;00m \u001b[38;5;21;01m.\u001b[39;00m\u001b[38;5;21;01m.\u001b[39;00m\u001b[38;5;21;01mtyping\u001b[39;00m\u001b[38;5;21;01m.\u001b[39;00m\u001b[38;5;21;01m_base\u001b[39;00m \u001b[38;5;28;01mimport\u001b[39;00m (\n\u001b[1;32m     33\u001b[0m     DomainRange,\n\u001b[1;32m     34\u001b[0m     GridPointsLike,\n\u001b[1;32m     35\u001b[0m     LabelTuple,\n\u001b[1;32m     36\u001b[0m     LabelTupleLike,\n\u001b[1;32m     37\u001b[0m )\n\u001b[1;32m     38\u001b[0m \u001b[38;5;28;01mfrom\u001b[39;00m \u001b[38;5;21;01m.\u001b[39;00m\u001b[38;5;21;01m.\u001b[39;00m\u001b[38;5;21;01mtyping\u001b[39;00m\u001b[38;5;21;01m.\u001b[39;00m\u001b[38;5;21;01m_numpy\u001b[39;00m \u001b[38;5;28;01mimport\u001b[39;00m (\n\u001b[1;32m     39\u001b[0m     ArrayLike,\n\u001b[1;32m     40\u001b[0m     NDArrayBool,\n\u001b[0;32m   (...)\u001b[0m\n\u001b[1;32m     43\u001b[0m     NDArrayObject,\n\u001b[1;32m     44\u001b[0m )\n",
      "\u001b[0;31mImportError\u001b[0m: cannot import name '_evaluate_grid' from 'skfda._utils' (/home/jle_linux/do-env/lib/python3.10/site-packages/skfda/_utils/__init__.py)"
     ]
    }
   ],
   "source": [
    "import matplotlib\n",
    "import matplotlib.pyplot as plt\n",
    "import numpy as np\n",
    "\n",
    "from skfda import datasets\n",
    "from skfda.exploratory.visualization.clustering import (\n",
    "    ClusterMembershipLinesPlot,\n",
    "    ClusterMembershipPlot,\n",
    "    ClusterPlot,\n",
    ")\n",
    "from skfda.ml.clustering import FuzzyCMeans, KMeans"
   ]
  },
  {
   "cell_type": "code",
   "execution_count": 7,
   "id": "eb9ea474-cf8f-4181-9125-b1452453f12f",
   "metadata": {},
   "outputs": [
    {
     "ename": "ImportError",
     "evalue": "cannot import name '_evaluate_grid' from 'skfda._utils' (/home/jle_linux/do-env/lib/python3.10/site-packages/skfda/_utils/__init__.py)",
     "output_type": "error",
     "traceback": [
      "\u001b[0;31m---------------------------------------------------------------------------\u001b[0m",
      "\u001b[0;31mImportError\u001b[0m                               Traceback (most recent call last)",
      "Cell \u001b[0;32mIn[7], line 1\u001b[0m\n\u001b[0;32m----> 1\u001b[0m \u001b[38;5;28;01mfrom\u001b[39;00m \u001b[38;5;21;01mskfda\u001b[39;00m\u001b[38;5;21;01m.\u001b[39;00m\u001b[38;5;21;01mexploratory\u001b[39;00m\u001b[38;5;21;01m.\u001b[39;00m\u001b[38;5;21;01mvisualization\u001b[39;00m\u001b[38;5;21;01m.\u001b[39;00m\u001b[38;5;21;01mclustering\u001b[39;00m \u001b[38;5;28;01mimport\u001b[39;00m (\n\u001b[1;32m      2\u001b[0m     ClusterMembershipLinesPlot,\n\u001b[1;32m      3\u001b[0m     ClusterMembershipPlot,\n\u001b[1;32m      4\u001b[0m     ClusterPlot,\n\u001b[1;32m      5\u001b[0m )\n\u001b[1;32m      6\u001b[0m \u001b[38;5;28;01mfrom\u001b[39;00m \u001b[38;5;21;01mskfda\u001b[39;00m\u001b[38;5;21;01m.\u001b[39;00m\u001b[38;5;21;01mml\u001b[39;00m\u001b[38;5;21;01m.\u001b[39;00m\u001b[38;5;21;01mclustering\u001b[39;00m \u001b[38;5;28;01mimport\u001b[39;00m FuzzyCMeans, KMeans\n",
      "File \u001b[0;32m~/do-env/lib/python3.10/site-packages/skfda/exploratory/visualization/clustering.py:21\u001b[0m\n\u001b[1;32m     18\u001b[0m \u001b[38;5;28;01mfrom\u001b[39;00m \u001b[38;5;21;01msklearn\u001b[39;00m\u001b[38;5;21;01m.\u001b[39;00m\u001b[38;5;21;01mutils\u001b[39;00m\u001b[38;5;21;01m.\u001b[39;00m\u001b[38;5;21;01mvalidation\u001b[39;00m \u001b[38;5;28;01mimport\u001b[39;00m check_is_fitted\n\u001b[1;32m     19\u001b[0m \u001b[38;5;28;01mfrom\u001b[39;00m \u001b[38;5;21;01mtyping_extensions\u001b[39;00m \u001b[38;5;28;01mimport\u001b[39;00m Protocol\n\u001b[0;32m---> 21\u001b[0m \u001b[38;5;28;01mfrom\u001b[39;00m \u001b[38;5;21;01m.\u001b[39;00m\u001b[38;5;21;01m.\u001b[39;00m\u001b[38;5;21;01m.\u001b[39;00m\u001b[38;5;21;01mmisc\u001b[39;00m\u001b[38;5;21;01m.\u001b[39;00m\u001b[38;5;21;01mvalidation\u001b[39;00m \u001b[38;5;28;01mimport\u001b[39;00m check_fdata_same_dimensions\n\u001b[1;32m     22\u001b[0m \u001b[38;5;28;01mfrom\u001b[39;00m \u001b[38;5;21;01m.\u001b[39;00m\u001b[38;5;21;01m.\u001b[39;00m\u001b[38;5;21;01m.\u001b[39;00m\u001b[38;5;21;01mrepresentation\u001b[39;00m \u001b[38;5;28;01mimport\u001b[39;00m FData, FDataGrid\n\u001b[1;32m     23\u001b[0m \u001b[38;5;28;01mfrom\u001b[39;00m \u001b[38;5;21;01m.\u001b[39;00m\u001b[38;5;21;01m.\u001b[39;00m\u001b[38;5;21;01m.\u001b[39;00m\u001b[38;5;21;01mtyping\u001b[39;00m\u001b[38;5;21;01m.\u001b[39;00m\u001b[38;5;21;01m_numpy\u001b[39;00m \u001b[38;5;28;01mimport\u001b[39;00m NDArrayFloat, NDArrayInt\n",
      "File \u001b[0;32m~/do-env/lib/python3.10/site-packages/skfda/misc/validation.py:12\u001b[0m\n\u001b[1;32m      9\u001b[0m \u001b[38;5;28;01mimport\u001b[39;00m \u001b[38;5;21;01mnumpy\u001b[39;00m \u001b[38;5;28;01mas\u001b[39;00m \u001b[38;5;21;01mnp\u001b[39;00m\n\u001b[1;32m     10\u001b[0m \u001b[38;5;28;01mfrom\u001b[39;00m \u001b[38;5;21;01msklearn\u001b[39;00m\u001b[38;5;21;01m.\u001b[39;00m\u001b[38;5;21;01mutils\u001b[39;00m \u001b[38;5;28;01mimport\u001b[39;00m check_random_state \u001b[38;5;28;01mas\u001b[39;00m _check_random_state\n\u001b[0;32m---> 12\u001b[0m \u001b[38;5;28;01mfrom\u001b[39;00m \u001b[38;5;21;01m.\u001b[39;00m\u001b[38;5;21;01m.\u001b[39;00m\u001b[38;5;21;01mrepresentation\u001b[39;00m \u001b[38;5;28;01mimport\u001b[39;00m FData, FDataBasis, FDataGrid\n\u001b[1;32m     13\u001b[0m \u001b[38;5;28;01mfrom\u001b[39;00m \u001b[38;5;21;01m.\u001b[39;00m\u001b[38;5;21;01m.\u001b[39;00m\u001b[38;5;21;01mtyping\u001b[39;00m\u001b[38;5;21;01m.\u001b[39;00m\u001b[38;5;21;01m_base\u001b[39;00m \u001b[38;5;28;01mimport\u001b[39;00m (\n\u001b[1;32m     14\u001b[0m     DomainRange,\n\u001b[1;32m     15\u001b[0m     DomainRangeLike,\n\u001b[0;32m   (...)\u001b[0m\n\u001b[1;32m     18\u001b[0m     RandomStateLike,\n\u001b[1;32m     19\u001b[0m )\n\u001b[1;32m     20\u001b[0m \u001b[38;5;28;01mfrom\u001b[39;00m \u001b[38;5;21;01m.\u001b[39;00m\u001b[38;5;21;01m.\u001b[39;00m\u001b[38;5;21;01mtyping\u001b[39;00m\u001b[38;5;21;01m.\u001b[39;00m\u001b[38;5;21;01m_numpy\u001b[39;00m \u001b[38;5;28;01mimport\u001b[39;00m ArrayLike\n",
      "File \u001b[0;32m~/do-env/lib/python3.10/site-packages/lazy_loader/__init__.py:82\u001b[0m, in \u001b[0;36mattach.<locals>.__getattr__\u001b[0;34m(name)\u001b[0m\n\u001b[1;32m     80\u001b[0m \u001b[38;5;28;01melif\u001b[39;00m name \u001b[38;5;129;01min\u001b[39;00m attr_to_modules:\n\u001b[1;32m     81\u001b[0m     submod_path \u001b[38;5;241m=\u001b[39m \u001b[38;5;124mf\u001b[39m\u001b[38;5;124m\"\u001b[39m\u001b[38;5;132;01m{\u001b[39;00mpackage_name\u001b[38;5;132;01m}\u001b[39;00m\u001b[38;5;124m.\u001b[39m\u001b[38;5;132;01m{\u001b[39;00mattr_to_modules[name]\u001b[38;5;132;01m}\u001b[39;00m\u001b[38;5;124m\"\u001b[39m\n\u001b[0;32m---> 82\u001b[0m     submod \u001b[38;5;241m=\u001b[39m \u001b[43mimportlib\u001b[49m\u001b[38;5;241;43m.\u001b[39;49m\u001b[43mimport_module\u001b[49m\u001b[43m(\u001b[49m\u001b[43msubmod_path\u001b[49m\u001b[43m)\u001b[49m\n\u001b[1;32m     83\u001b[0m     attr \u001b[38;5;241m=\u001b[39m \u001b[38;5;28mgetattr\u001b[39m(submod, name)\n\u001b[1;32m     85\u001b[0m     \u001b[38;5;66;03m# If the attribute lives in a file (module) with the same\u001b[39;00m\n\u001b[1;32m     86\u001b[0m     \u001b[38;5;66;03m# name as the attribute, ensure that the attribute and *not*\u001b[39;00m\n\u001b[1;32m     87\u001b[0m     \u001b[38;5;66;03m# the module is accessible on the package.\u001b[39;00m\n",
      "File \u001b[0;32m/usr/lib/python3.10/importlib/__init__.py:126\u001b[0m, in \u001b[0;36mimport_module\u001b[0;34m(name, package)\u001b[0m\n\u001b[1;32m    124\u001b[0m             \u001b[38;5;28;01mbreak\u001b[39;00m\n\u001b[1;32m    125\u001b[0m         level \u001b[38;5;241m+\u001b[39m\u001b[38;5;241m=\u001b[39m \u001b[38;5;241m1\u001b[39m\n\u001b[0;32m--> 126\u001b[0m \u001b[38;5;28;01mreturn\u001b[39;00m \u001b[43m_bootstrap\u001b[49m\u001b[38;5;241;43m.\u001b[39;49m\u001b[43m_gcd_import\u001b[49m\u001b[43m(\u001b[49m\u001b[43mname\u001b[49m\u001b[43m[\u001b[49m\u001b[43mlevel\u001b[49m\u001b[43m:\u001b[49m\u001b[43m]\u001b[49m\u001b[43m,\u001b[49m\u001b[43m \u001b[49m\u001b[43mpackage\u001b[49m\u001b[43m,\u001b[49m\u001b[43m \u001b[49m\u001b[43mlevel\u001b[49m\u001b[43m)\u001b[49m\n",
      "File \u001b[0;32m~/do-env/lib/python3.10/site-packages/skfda/representation/_functional_data.py:31\u001b[0m\n\u001b[1;32m     28\u001b[0m \u001b[38;5;28;01mfrom\u001b[39;00m \u001b[38;5;21;01mmatplotlib\u001b[39;00m\u001b[38;5;21;01m.\u001b[39;00m\u001b[38;5;21;01mfigure\u001b[39;00m \u001b[38;5;28;01mimport\u001b[39;00m Figure\n\u001b[1;32m     29\u001b[0m \u001b[38;5;28;01mfrom\u001b[39;00m \u001b[38;5;21;01mtyping_extensions\u001b[39;00m \u001b[38;5;28;01mimport\u001b[39;00m Literal, Protocol\n\u001b[0;32m---> 31\u001b[0m \u001b[38;5;28;01mfrom\u001b[39;00m \u001b[38;5;21;01m.\u001b[39;00m\u001b[38;5;21;01m.\u001b[39;00m\u001b[38;5;21;01m_utils\u001b[39;00m \u001b[38;5;28;01mimport\u001b[39;00m _evaluate_grid, _to_grid_points\n\u001b[1;32m     32\u001b[0m \u001b[38;5;28;01mfrom\u001b[39;00m \u001b[38;5;21;01m.\u001b[39;00m\u001b[38;5;21;01m.\u001b[39;00m\u001b[38;5;21;01mtyping\u001b[39;00m\u001b[38;5;21;01m.\u001b[39;00m\u001b[38;5;21;01m_base\u001b[39;00m \u001b[38;5;28;01mimport\u001b[39;00m (\n\u001b[1;32m     33\u001b[0m     DomainRange,\n\u001b[1;32m     34\u001b[0m     GridPointsLike,\n\u001b[1;32m     35\u001b[0m     LabelTuple,\n\u001b[1;32m     36\u001b[0m     LabelTupleLike,\n\u001b[1;32m     37\u001b[0m )\n\u001b[1;32m     38\u001b[0m \u001b[38;5;28;01mfrom\u001b[39;00m \u001b[38;5;21;01m.\u001b[39;00m\u001b[38;5;21;01m.\u001b[39;00m\u001b[38;5;21;01mtyping\u001b[39;00m\u001b[38;5;21;01m.\u001b[39;00m\u001b[38;5;21;01m_numpy\u001b[39;00m \u001b[38;5;28;01mimport\u001b[39;00m (\n\u001b[1;32m     39\u001b[0m     ArrayLike,\n\u001b[1;32m     40\u001b[0m     NDArrayBool,\n\u001b[0;32m   (...)\u001b[0m\n\u001b[1;32m     43\u001b[0m     NDArrayObject,\n\u001b[1;32m     44\u001b[0m )\n",
      "\u001b[0;31mImportError\u001b[0m: cannot import name '_evaluate_grid' from 'skfda._utils' (/home/jle_linux/do-env/lib/python3.10/site-packages/skfda/_utils/__init__.py)"
     ]
    }
   ],
   "source": [
    "from skfda.exploratory.visualization.clustering import (\n",
    "    ClusterMembershipLinesPlot,\n",
    "    ClusterMembershipPlot,\n",
    "    ClusterPlot,\n",
    ")\n",
    "from skfda.ml.clustering import FuzzyCMeans, KMeans"
   ]
  }
 ],
 "metadata": {
  "kernelspec": {
   "display_name": "Python 3 (ipykernel)",
   "language": "python",
   "name": "python3"
  },
  "language_info": {
   "codemirror_mode": {
    "name": "ipython",
    "version": 3
   },
   "file_extension": ".py",
   "mimetype": "text/x-python",
   "name": "python",
   "nbconvert_exporter": "python",
   "pygments_lexer": "ipython3",
   "version": "3.10.12"
  }
 },
 "nbformat": 4,
 "nbformat_minor": 5
}
