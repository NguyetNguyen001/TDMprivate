{
 "cells": [
  {
   "cell_type": "code",
   "execution_count": 2,
   "id": "a4f3e3f0-c39c-413e-b309-171af1746f6f",
   "metadata": {},
   "outputs": [],
   "source": [
    "import numpy as np\n",
    "import pandas as pd\n",
    "import matplotlib.pyplot as plt\n",
    "import seaborn as sns\n",
    "%matplotlib inline\n",
    "\n",
    "import plotly as py\n",
    "import plotly.graph_objs as go\n",
    "\n",
    "from sklearn.cluster import KMeans\n",
    "\n",
    "import warnings\n",
    "warnings.filterwarnings('ignore')"
   ]
  },
  {
   "cell_type": "code",
   "execution_count": 10,
   "id": "8d59a949-1308-46c6-b989-175283d6db32",
   "metadata": {},
   "outputs": [],
   "source": [
    "import os\n",
    "for dirname, _, filenames in os.walk('/home/jle_linux/toy data/best_pose_58263e34-a45c-11ee-88ec-eb6a8d5269b4(in).csv'):\n",
    "    for filename in filenames:\n",
    "        print(os.path.join(dirname, filename))\n",
    "        "
   ]
  },
  {
   "cell_type": "code",
   "execution_count": 11,
   "id": "02c52d4e-7c72-4ced-90fe-ff032ba69bf9",
   "metadata": {},
   "outputs": [],
   "source": [
    "df = pd.read_csv('/home/jle_linux/toy data/best_pose_58263e34-a45c-11ee-88ec-eb6a8d5269b4(in).csv')"
   ]
  },
  {
   "cell_type": "code",
   "execution_count": 12,
   "id": "854bb05c-7c03-4564-ae29-d5268cc4b6e3",
   "metadata": {},
   "outputs": [
    {
     "data": {
      "text/html": [
       "<div>\n",
       "<style scoped>\n",
       "    .dataframe tbody tr th:only-of-type {\n",
       "        vertical-align: middle;\n",
       "    }\n",
       "\n",
       "    .dataframe tbody tr th {\n",
       "        vertical-align: top;\n",
       "    }\n",
       "\n",
       "    .dataframe thead th {\n",
       "        text-align: right;\n",
       "    }\n",
       "</style>\n",
       "<table border=\"1\" class=\"dataframe\">\n",
       "  <thead>\n",
       "    <tr style=\"text-align: right;\">\n",
       "      <th></th>\n",
       "      <th>Unnamed: 0</th>\n",
       "      <th>time</th>\n",
       "      <th>heightStdDev</th>\n",
       "      <th>longitudeStdDev</th>\n",
       "      <th>groupMetadataID</th>\n",
       "      <th>latitudeStdDev</th>\n",
       "      <th>differentialAge</th>\n",
       "      <th>longitude</th>\n",
       "      <th>solType</th>\n",
       "      <th>solutionAge</th>\n",
       "      <th>solStatus</th>\n",
       "      <th>latitude</th>\n",
       "      <th>numSatsInSolution</th>\n",
       "    </tr>\n",
       "  </thead>\n",
       "  <tbody>\n",
       "    <tr>\n",
       "      <th>0</th>\n",
       "      <td>0</td>\n",
       "      <td>1.694450e+18</td>\n",
       "      <td>0.030676</td>\n",
       "      <td>0.012783</td>\n",
       "      <td>58263e34-a45c-11ee-88ec-eb6a8d5269b4</td>\n",
       "      <td>0.012411</td>\n",
       "      <td>1.0</td>\n",
       "      <td>-82.135228</td>\n",
       "      <td>NARROW_INT</td>\n",
       "      <td>0.0</td>\n",
       "      <td>SOL_COMPUTED</td>\n",
       "      <td>39.378104</td>\n",
       "      <td>14</td>\n",
       "    </tr>\n",
       "    <tr>\n",
       "      <th>1</th>\n",
       "      <td>0</td>\n",
       "      <td>1.694450e+18</td>\n",
       "      <td>0.218763</td>\n",
       "      <td>0.136896</td>\n",
       "      <td>58263e34-a45c-11ee-88ec-eb6a8d5269b4</td>\n",
       "      <td>0.080366</td>\n",
       "      <td>1.0</td>\n",
       "      <td>-82.143940</td>\n",
       "      <td>NARROW_INT</td>\n",
       "      <td>0.0</td>\n",
       "      <td>SOL_COMPUTED</td>\n",
       "      <td>39.382745</td>\n",
       "      <td>10</td>\n",
       "    </tr>\n",
       "    <tr>\n",
       "      <th>2</th>\n",
       "      <td>1</td>\n",
       "      <td>1.694450e+18</td>\n",
       "      <td>0.027027</td>\n",
       "      <td>0.013242</td>\n",
       "      <td>58263e34-a45c-11ee-88ec-eb6a8d5269b4</td>\n",
       "      <td>0.015331</td>\n",
       "      <td>1.0</td>\n",
       "      <td>-82.114507</td>\n",
       "      <td>NARROW_INT</td>\n",
       "      <td>0.0</td>\n",
       "      <td>SOL_COMPUTED</td>\n",
       "      <td>39.329850</td>\n",
       "      <td>13</td>\n",
       "    </tr>\n",
       "    <tr>\n",
       "      <th>3</th>\n",
       "      <td>0</td>\n",
       "      <td>1.694450e+18</td>\n",
       "      <td>0.021111</td>\n",
       "      <td>0.010912</td>\n",
       "      <td>58263e34-a45c-11ee-88ec-eb6a8d5269b4</td>\n",
       "      <td>0.011871</td>\n",
       "      <td>1.0</td>\n",
       "      <td>-82.127983</td>\n",
       "      <td>NARROW_INT</td>\n",
       "      <td>0.0</td>\n",
       "      <td>SOL_COMPUTED</td>\n",
       "      <td>39.330354</td>\n",
       "      <td>15</td>\n",
       "    </tr>\n",
       "    <tr>\n",
       "      <th>4</th>\n",
       "      <td>0</td>\n",
       "      <td>1.694450e+18</td>\n",
       "      <td>0.019266</td>\n",
       "      <td>0.008685</td>\n",
       "      <td>58263e34-a45c-11ee-88ec-eb6a8d5269b4</td>\n",
       "      <td>0.010546</td>\n",
       "      <td>1.0</td>\n",
       "      <td>-82.105102</td>\n",
       "      <td>NARROW_INT</td>\n",
       "      <td>0.0</td>\n",
       "      <td>SOL_COMPUTED</td>\n",
       "      <td>39.320441</td>\n",
       "      <td>15</td>\n",
       "    </tr>\n",
       "  </tbody>\n",
       "</table>\n",
       "</div>"
      ],
      "text/plain": [
       "   Unnamed: 0          time  heightStdDev  longitudeStdDev  \\\n",
       "0           0  1.694450e+18      0.030676         0.012783   \n",
       "1           0  1.694450e+18      0.218763         0.136896   \n",
       "2           1  1.694450e+18      0.027027         0.013242   \n",
       "3           0  1.694450e+18      0.021111         0.010912   \n",
       "4           0  1.694450e+18      0.019266         0.008685   \n",
       "\n",
       "                        groupMetadataID  latitudeStdDev  differentialAge  \\\n",
       "0  58263e34-a45c-11ee-88ec-eb6a8d5269b4        0.012411              1.0   \n",
       "1  58263e34-a45c-11ee-88ec-eb6a8d5269b4        0.080366              1.0   \n",
       "2  58263e34-a45c-11ee-88ec-eb6a8d5269b4        0.015331              1.0   \n",
       "3  58263e34-a45c-11ee-88ec-eb6a8d5269b4        0.011871              1.0   \n",
       "4  58263e34-a45c-11ee-88ec-eb6a8d5269b4        0.010546              1.0   \n",
       "\n",
       "   longitude     solType  solutionAge     solStatus   latitude  \\\n",
       "0 -82.135228  NARROW_INT          0.0  SOL_COMPUTED  39.378104   \n",
       "1 -82.143940  NARROW_INT          0.0  SOL_COMPUTED  39.382745   \n",
       "2 -82.114507  NARROW_INT          0.0  SOL_COMPUTED  39.329850   \n",
       "3 -82.127983  NARROW_INT          0.0  SOL_COMPUTED  39.330354   \n",
       "4 -82.105102  NARROW_INT          0.0  SOL_COMPUTED  39.320441   \n",
       "\n",
       "   numSatsInSolution  \n",
       "0                 14  \n",
       "1                 10  \n",
       "2                 13  \n",
       "3                 15  \n",
       "4                 15  "
      ]
     },
     "execution_count": 12,
     "metadata": {},
     "output_type": "execute_result"
    }
   ],
   "source": [
    "df.head()"
   ]
  },
  {
   "cell_type": "code",
   "execution_count": 13,
   "id": "f515be85-6818-407d-88d0-95ac0e035add",
   "metadata": {},
   "outputs": [
    {
     "data": {
      "text/plain": [
       "Index(['Unnamed: 0', 'time', 'heightStdDev', 'longitudeStdDev',\n",
       "       'groupMetadataID', 'latitudeStdDev', 'differentialAge', 'longitude',\n",
       "       'solType', 'solutionAge', 'solStatus', 'latitude', 'numSatsInSolution'],\n",
       "      dtype='object')"
      ]
     },
     "execution_count": 13,
     "metadata": {},
     "output_type": "execute_result"
    }
   ],
   "source": [
    "df.columns"
   ]
  },
  {
   "cell_type": "code",
   "execution_count": 15,
   "id": "63a55c3e-d801-42c2-acad-1bdacf7c6569",
   "metadata": {},
   "outputs": [
    {
     "data": {
      "text/plain": [
       "<bound method DataFrame.info of       Unnamed: 0          time  heightStdDev  longitudeStdDev  \\\n",
       "0              0  1.694450e+18      0.030676         0.012783   \n",
       "1              0  1.694450e+18      0.218763         0.136896   \n",
       "2              1  1.694450e+18      0.027027         0.013242   \n",
       "3              0  1.694450e+18      0.021111         0.010912   \n",
       "4              0  1.694450e+18      0.019266         0.008685   \n",
       "...          ...           ...           ...              ...   \n",
       "2006           0  1.694450e+18      0.062004         0.022711   \n",
       "2007           1  1.694450e+18      0.016026         0.007843   \n",
       "2008           2  1.694450e+18      0.523547         0.455607   \n",
       "2009           3  1.694450e+18      0.024745         0.011439   \n",
       "2010           0  1.694450e+18      3.268128         1.926293   \n",
       "\n",
       "                           groupMetadataID  latitudeStdDev  differentialAge  \\\n",
       "0     58263e34-a45c-11ee-88ec-eb6a8d5269b4        0.012411              1.0   \n",
       "1     58263e34-a45c-11ee-88ec-eb6a8d5269b4        0.080366              1.0   \n",
       "2     58263e34-a45c-11ee-88ec-eb6a8d5269b4        0.015331              1.0   \n",
       "3     58263e34-a45c-11ee-88ec-eb6a8d5269b4        0.011871              1.0   \n",
       "4     58263e34-a45c-11ee-88ec-eb6a8d5269b4        0.010546              1.0   \n",
       "...                                    ...             ...              ...   \n",
       "2006  58263e34-a45c-11ee-88ec-eb6a8d5269b4        0.014480              1.0   \n",
       "2007  58263e34-a45c-11ee-88ec-eb6a8d5269b4        0.008630              1.0   \n",
       "2008  58263e34-a45c-11ee-88ec-eb6a8d5269b4        0.137115              2.0   \n",
       "2009  58263e34-a45c-11ee-88ec-eb6a8d5269b4        0.013364              1.0   \n",
       "2010  58263e34-a45c-11ee-88ec-eb6a8d5269b4        2.189957              2.0   \n",
       "\n",
       "      longitude     solType  solutionAge     solStatus   latitude  \\\n",
       "0    -82.135228  NARROW_INT          0.0  SOL_COMPUTED  39.378104   \n",
       "1    -82.143940  NARROW_INT          0.0  SOL_COMPUTED  39.382745   \n",
       "2    -82.114507  NARROW_INT          0.0  SOL_COMPUTED  39.329850   \n",
       "3    -82.127983  NARROW_INT          0.0  SOL_COMPUTED  39.330354   \n",
       "4    -82.105102  NARROW_INT          0.0  SOL_COMPUTED  39.320441   \n",
       "...         ...         ...          ...           ...        ...   \n",
       "2006 -82.104320  NARROW_INT          0.0  SOL_COMPUTED  39.323621   \n",
       "2007 -82.127426  NARROW_INT          0.0  SOL_COMPUTED  39.330300   \n",
       "2008 -82.103031  NARROW_INT          0.0  SOL_COMPUTED  39.327638   \n",
       "2009 -82.133260  NARROW_INT          0.0  SOL_COMPUTED  39.372002   \n",
       "2010 -82.144107     PSRDIFF          0.0  SOL_COMPUTED  39.379193   \n",
       "\n",
       "      numSatsInSolution  \n",
       "0                    14  \n",
       "1                    10  \n",
       "2                    13  \n",
       "3                    15  \n",
       "4                    15  \n",
       "...                 ...  \n",
       "2006                  8  \n",
       "2007                 16  \n",
       "2008                  8  \n",
       "2009                 13  \n",
       "2010                  5  \n",
       "\n",
       "[2011 rows x 13 columns]>"
      ]
     },
     "execution_count": 15,
     "metadata": {},
     "output_type": "execute_result"
    }
   ],
   "source": [
    "df.info"
   ]
  },
  {
   "cell_type": "code",
   "execution_count": 16,
   "id": "55b4241b-295b-4d56-99cf-59073115d588",
   "metadata": {},
   "outputs": [
    {
     "data": {
      "text/plain": [
       "<bound method NDFrame.describe of       Unnamed: 0          time  heightStdDev  longitudeStdDev  \\\n",
       "0              0  1.694450e+18      0.030676         0.012783   \n",
       "1              0  1.694450e+18      0.218763         0.136896   \n",
       "2              1  1.694450e+18      0.027027         0.013242   \n",
       "3              0  1.694450e+18      0.021111         0.010912   \n",
       "4              0  1.694450e+18      0.019266         0.008685   \n",
       "...          ...           ...           ...              ...   \n",
       "2006           0  1.694450e+18      0.062004         0.022711   \n",
       "2007           1  1.694450e+18      0.016026         0.007843   \n",
       "2008           2  1.694450e+18      0.523547         0.455607   \n",
       "2009           3  1.694450e+18      0.024745         0.011439   \n",
       "2010           0  1.694450e+18      3.268128         1.926293   \n",
       "\n",
       "                           groupMetadataID  latitudeStdDev  differentialAge  \\\n",
       "0     58263e34-a45c-11ee-88ec-eb6a8d5269b4        0.012411              1.0   \n",
       "1     58263e34-a45c-11ee-88ec-eb6a8d5269b4        0.080366              1.0   \n",
       "2     58263e34-a45c-11ee-88ec-eb6a8d5269b4        0.015331              1.0   \n",
       "3     58263e34-a45c-11ee-88ec-eb6a8d5269b4        0.011871              1.0   \n",
       "4     58263e34-a45c-11ee-88ec-eb6a8d5269b4        0.010546              1.0   \n",
       "...                                    ...             ...              ...   \n",
       "2006  58263e34-a45c-11ee-88ec-eb6a8d5269b4        0.014480              1.0   \n",
       "2007  58263e34-a45c-11ee-88ec-eb6a8d5269b4        0.008630              1.0   \n",
       "2008  58263e34-a45c-11ee-88ec-eb6a8d5269b4        0.137115              2.0   \n",
       "2009  58263e34-a45c-11ee-88ec-eb6a8d5269b4        0.013364              1.0   \n",
       "2010  58263e34-a45c-11ee-88ec-eb6a8d5269b4        2.189957              2.0   \n",
       "\n",
       "      longitude     solType  solutionAge     solStatus   latitude  \\\n",
       "0    -82.135228  NARROW_INT          0.0  SOL_COMPUTED  39.378104   \n",
       "1    -82.143940  NARROW_INT          0.0  SOL_COMPUTED  39.382745   \n",
       "2    -82.114507  NARROW_INT          0.0  SOL_COMPUTED  39.329850   \n",
       "3    -82.127983  NARROW_INT          0.0  SOL_COMPUTED  39.330354   \n",
       "4    -82.105102  NARROW_INT          0.0  SOL_COMPUTED  39.320441   \n",
       "...         ...         ...          ...           ...        ...   \n",
       "2006 -82.104320  NARROW_INT          0.0  SOL_COMPUTED  39.323621   \n",
       "2007 -82.127426  NARROW_INT          0.0  SOL_COMPUTED  39.330300   \n",
       "2008 -82.103031  NARROW_INT          0.0  SOL_COMPUTED  39.327638   \n",
       "2009 -82.133260  NARROW_INT          0.0  SOL_COMPUTED  39.372002   \n",
       "2010 -82.144107     PSRDIFF          0.0  SOL_COMPUTED  39.379193   \n",
       "\n",
       "      numSatsInSolution  \n",
       "0                    14  \n",
       "1                    10  \n",
       "2                    13  \n",
       "3                    15  \n",
       "4                    15  \n",
       "...                 ...  \n",
       "2006                  8  \n",
       "2007                 16  \n",
       "2008                  8  \n",
       "2009                 13  \n",
       "2010                  5  \n",
       "\n",
       "[2011 rows x 13 columns]>"
      ]
     },
     "execution_count": 16,
     "metadata": {},
     "output_type": "execute_result"
    }
   ],
   "source": [
    "df.describe"
   ]
  },
  {
   "cell_type": "code",
   "execution_count": 17,
   "id": "f3117f71-4dfd-4f49-9e47-730fa61ad5b7",
   "metadata": {},
   "outputs": [
    {
     "data": {
      "text/plain": [
       "<bound method DataFrame.sum of       Unnamed: 0   time  heightStdDev  longitudeStdDev  groupMetadataID  \\\n",
       "0          False  False         False            False            False   \n",
       "1          False  False         False            False            False   \n",
       "2          False  False         False            False            False   \n",
       "3          False  False         False            False            False   \n",
       "4          False  False         False            False            False   \n",
       "...          ...    ...           ...              ...              ...   \n",
       "2006       False  False         False            False            False   \n",
       "2007       False  False         False            False            False   \n",
       "2008       False  False         False            False            False   \n",
       "2009       False  False         False            False            False   \n",
       "2010       False  False         False            False            False   \n",
       "\n",
       "      latitudeStdDev  differentialAge  longitude  solType  solutionAge  \\\n",
       "0              False            False      False    False        False   \n",
       "1              False            False      False    False        False   \n",
       "2              False            False      False    False        False   \n",
       "3              False            False      False    False        False   \n",
       "4              False            False      False    False        False   \n",
       "...              ...              ...        ...      ...          ...   \n",
       "2006           False            False      False    False        False   \n",
       "2007           False            False      False    False        False   \n",
       "2008           False            False      False    False        False   \n",
       "2009           False            False      False    False        False   \n",
       "2010           False            False      False    False        False   \n",
       "\n",
       "      solStatus  latitude  numSatsInSolution  \n",
       "0         False     False              False  \n",
       "1         False     False              False  \n",
       "2         False     False              False  \n",
       "3         False     False              False  \n",
       "4         False     False              False  \n",
       "...         ...       ...                ...  \n",
       "2006      False     False              False  \n",
       "2007      False     False              False  \n",
       "2008      False     False              False  \n",
       "2009      False     False              False  \n",
       "2010      False     False              False  \n",
       "\n",
       "[2011 rows x 13 columns]>"
      ]
     },
     "execution_count": 17,
     "metadata": {},
     "output_type": "execute_result"
    }
   ],
   "source": [
    "df.isnull().sum #looking for null values "
   ]
  },
  {
   "cell_type": "code",
   "execution_count": 19,
   "id": "71b325eb-c3db-47d3-9ccb-70473dfa7f41",
   "metadata": {},
   "outputs": [
    {
     "data": {
      "text/plain": [
       "<Figure size 1500x700 with 0 Axes>"
      ]
     },
     "execution_count": 19,
     "metadata": {},
     "output_type": "execute_result"
    },
    {
     "data": {
      "text/plain": [
       "<Figure size 1500x700 with 0 Axes>"
      ]
     },
     "metadata": {},
     "output_type": "display_data"
    }
   ],
   "source": [
    "plt.figure(1 , figsize = (15 , 7))"
   ]
  },
  {
   "cell_type": "code",
   "execution_count": 22,
   "id": "4a70e096-acc9-46f9-b1ef-ce53a0c55357",
   "metadata": {},
   "outputs": [
    {
     "data": {
      "image/png": "[encoded data removed]",
      "text/plain": [
       "<Figure size 1500x700 with 1 Axes>"
      ]
     },
     "metadata": {},
     "output_type": "display_data"
    }
   ],
   "source": [
    "plt.figure(1 , figsize = (15 , 7))\n",
    "plt.title('heightStdDev v/s differentialAge', fontsize = 20)\n",
    "plt.xlabel('heightStdDev')\n",
    "plt.ylabel('differentialAge')\n",
    "plt.scatter( x = 'heightStdDev', y = 'differentialAge', data = df, s = 100)\n",
    "plt.show()"
   ]
  },
  {
   "cell_type": "code",
   "execution_count": 23,
   "id": "0f579b7b-5f6d-4379-b6a0-c0ddcaf21831",
   "metadata": {},
   "outputs": [],
   "source": [
    "X1 = df[['differentialAge' , 'heightStdDev']].iloc[: , :].values\n",
    "inertia = []\n",
    "for n in range(1 , 15):\n",
    "    algorithm = (KMeans(n_clusters = n ,init='k-means++', n_init = 10 ,max_iter=300, \n",
    "                        tol=0.0001,  random_state= 111  , algorithm='elkan') )\n",
    "    algorithm.fit(X1)\n",
    "    inertia.append(algorithm.inertia_)"
   ]
  },
  {
   "cell_type": "code",
   "execution_count": 25,
   "id": "91d792b9-4668-45c7-9069-5c3670e87af9",
   "metadata": {},
   "outputs": [
    {
     "data": {
      "image/png": "[encoded data removed]",
      "text/plain": [
       "<Figure size 1500x600 with 1 Axes>"
      ]
     },
     "metadata": {},
     "output_type": "display_data"
    }
   ],
   "source": [
    "plt.figure(1 , figsize = (15 ,6))\n",
    "plt.plot(np.arange(1 , 15) , inertia , 'o')\n",
    "plt.plot(np.arange(1 , 15) , inertia , '-' , alpha = 0.5)\n",
    "plt.xlabel('Number of Clusters') , plt.ylabel('Inertia')\n",
    "plt.show()"
   ]
  },
  {
   "cell_type": "code",
   "execution_count": 26,
   "id": "e02f31d6-80cd-4ddc-85b9-6b611d0cd837",
   "metadata": {},
   "outputs": [],
   "source": [
    "algorithm = (KMeans(n_clusters = 4 ,init='k-means++', n_init = 10 ,max_iter=300, \n",
    "                        tol=0.0001,  random_state= 111  , algorithm='elkan') )\n",
    "algorithm.fit(X1)\n",
    "labels1 = algorithm.labels_\n",
    "centroids1 = algorithm.cluster_centers_"
   ]
  },
  {
   "cell_type": "code",
   "execution_count": 27,
   "id": "6e09f4be-1e89-4a5f-96fc-ee4c38aa54dd",
   "metadata": {},
   "outputs": [],
   "source": [
    "h = 0.02\n",
    "x_min, x_max = X1[:, 0].min() - 1, X1[:, 0].max() + 1\n",
    "y_min, y_max = X1[:, 1].min() - 1, X1[:, 1].max() + 1\n",
    "xx, yy = np.meshgrid(np.arange(x_min, x_max, h), np.arange(y_min, y_max, h))\n",
    "Z = algorithm.predict(np.c_[xx.ravel(), yy.ravel()])"
   ]
  },
  {
   "cell_type": "code",
   "execution_count": 29,
   "id": "92d8f14b-8678-4138-9356-b4bb39c9f93f",
   "metadata": {},
   "outputs": [
    {
     "data": {
      "image/png": "[encoded data removed]",
      "text/plain": [
       "<Figure size 1500x700 with 1 Axes>"
      ]
     },
     "metadata": {},
     "output_type": "display_data"
    }
   ],
   "source": [
    "plt.figure(1 , figsize = (15 , 7) )\n",
    "plt.clf()\n",
    "Z = Z.reshape(xx.shape)\n",
    "plt.imshow(Z , interpolation='nearest', \n",
    "           extent=(xx.min(), xx.max(), yy.min(), yy.max()),\n",
    "           cmap = plt.cm.Pastel2, aspect = 'auto', origin='lower')\n",
    "\n",
    "plt.scatter( x = 'heightStdDev', y = 'differentialAge', data = df, c = labels1, s = 100)\n",
    "plt.scatter(x = centroids1[: , 0] , y =  centroids1[: , 1] , s = 300 , c = 'red' , alpha = 0.5)\n",
    "plt.ylabel('differentialAge') , plt.xlabel('heightStdDev')\n",
    "plt.show()"
   ]
  },
  {
   "cell_type": "code",
   "execution_count": null,
   "id": "d8f9de28-1a13-445a-93fc-77e07a917636",
   "metadata": {},
   "outputs": [],
   "source": []
  },
  {
   "cell_type": "code",
   "execution_count": null,
   "id": "c2a01f60-d53f-4e88-822b-6a49947889be",
   "metadata": {},
   "outputs": [],
   "source": []
  },
  {
   "cell_type": "code",
   "execution_count": null,
   "id": "370cf2af-ad7d-4376-b320-4241524c20ef",
   "metadata": {},
   "outputs": [],
   "source": []
  },
  {
   "cell_type": "code",
   "execution_count": null,
   "id": "c613cf6b-3f75-4725-ab71-e6e64b5f3cab",
   "metadata": {},
   "outputs": [],
   "source": []
  },
  {
   "cell_type": "code",
   "execution_count": null,
   "id": "e945a8e2-85c3-4615-9c01-0a617df10f90",
   "metadata": {},
   "outputs": [],
   "source": []
  },
  {
   "cell_type": "code",
   "execution_count": null,
   "id": "f8eba043-f984-427d-99a0-8bf3edd4385e",
   "metadata": {},
   "outputs": [],
   "source": []
  }
 ],
 "metadata": {
  "kernelspec": {
   "display_name": "Python 3 (ipykernel)",
   "language": "python",
   "name": "python3"
  },
  "language_info": {
   "codemirror_mode": {
    "name": "ipython",
    "version": 3
   },
   "file_extension": ".py",
   "mimetype": "text/x-python",
   "name": "python",
   "nbconvert_exporter": "python",
   "pygments_lexer": "ipython3",
   "version": "3.10.12"
  }
 },
 "nbformat": 4,
 "nbformat_minor": 5
}
