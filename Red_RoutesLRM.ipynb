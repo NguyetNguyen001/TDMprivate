{
 "cells": [
  {
   "cell_type": "code",
   "execution_count": 2,
   "id": "1f76fee4-2aba-4f21-aa4a-bafd489d1eab",
   "metadata": {},
   "outputs": [],
   "source": [
    "%load_ext rpy2.ipython"
   ]
  },
  {
   "cell_type": "code",
   "execution_count": 3,
   "id": "8127047f-ece1-45b7-87ed-2ee07abc0ed1",
   "metadata": {},
   "outputs": [
    {
     "data": {
      "text/plain": [
       "\n",
       "Attaching package: ‘dplyr’\n",
       "\n",
       "The following objects are masked from ‘package:stats’:\n",
       "\n",
       "    filter, lag\n",
       "\n",
       "The following objects are masked from ‘package:base’:\n",
       "\n",
       "    intersect, setdiff, setequal, union\n",
       "\n",
       "Loading required package: lattice\n",
       "Type 'citation(\"pROC\")' for a citation.\n",
       "\n",
       "Attaching package: ‘pROC’\n",
       "\n",
       "The following objects are masked from ‘package:stats’:\n",
       "\n",
       "    cov, smooth, var\n",
       "\n",
       "Loaded ROSE 0.0-4\n",
       "\n",
       "Loading required package: Matrix\n",
       "Loaded glmnet 4.1-8\n",
       "In addition: Warning message:\n",
       "In (function (package, help, pos = 2, lib.loc = NULL, character.only = FALSE,  :\n",
       "  libraries ‘/usr/local/lib/R/site-library’, ‘/usr/lib/R/site-library’ contain no packages\n"
      ]
     },
     "metadata": {},
     "output_type": "display_data"
    }
   ],
   "source": [
    "%%R\n",
    "\n",
    "#install.packages(\"tibble\")\n",
    "#install.packages(\"dplyr\")\n",
    "#install.packages(ggplot2)\n",
    "#install.packages(\"caret\")\n",
    "#install.packages(\"glmnet\")\n",
    "\n",
    "library(tibble)\n",
    "library(dplyr)\n",
    "library(ggplot2)\n",
    "library(caret)\n",
    "library(pROC)\n",
    "library(ROSE)\n",
    "library(glmnet)\n",
    "\n",
    "# Loading custom functions \"CalculatedFieldSubroutines.R\" \n",
    "source(\"CalculatedFieldSubroutines.R\")"
   ]
  },
  {
   "cell_type": "code",
   "execution_count": 4,
   "id": "09ad2fd8-6636-4122-b551-453c82a8ba33",
   "metadata": {},
   "outputs": [],
   "source": [
    "%%R\n",
    "\n",
    "binary_driving_mode <- function (df_chassis) {\n",
    "    result <- ifelse(df_chassis$drivingMode == \"COMPLETE_AUTO_DRIVE\", 1, 0)\n",
    "\n",
    "    return(result)\n",
    "}\n",
    "\n",
    "\n",
    "merge_chassis_pose <- function (df_chassis, df_pose) {\n",
    "    \n",
    "    \n",
    "    df_chassis <- df_chassis[order(df_chassis$time), ]\n",
    "    df_pose <- df_pose[order(df_pose$time), ]\n",
    "    \n",
    "    #make sure data is sorted by time fist\n",
    "\n",
    "    chassis_time_arr <- df_chassis$time\n",
    "    pose_time_arr <- df_pose$time\n",
    "\n",
    "    matched_vector <- c()\n",
    "\n",
    "    for (chassis_time in chassis_time_arr) {\n",
    "        abs_time_diff_arr <- abs(pose_time_arr - chassis_time)\n",
    "\n",
    "        min_index <-  which(abs_time_diff_arr == min(abs_time_diff_arr))\n",
    "        \n",
    "        matched_vector <-  c(matched_vector, pose_time_arr[min_index])\n",
    "    }\n",
    "\n",
    "\n",
    "\n",
    "    #df_chassis$matched <- df_pose$time[which(abs(pose_time_arr - df_chassis$time) == min(abs(pose_time_arr - df_chassis$time)))]\n",
    "    df_chassis$matched <-  matched_vector\n",
    "    df_pose$matched <-  df_pose$time\n",
    "\n",
    "\n",
    "    return (list(df_chassis = df_chassis, df_pose = df_pose))\n",
    "\n",
    "\n",
    "}\n",
    "\n",
    "latlongStdDev <- function(df_pose){\n",
    "    x <- df_pose[\"latitudeStdDev\"]\n",
    "    y <- df_pose[\"longitudeStdDev\"]\n",
    "    r <- sqrt(x^2 + y^2)\n",
    "\n",
    "    return(r)\n",
    "\n",
    "}"
   ]
  },
  {
   "cell_type": "code",
   "execution_count": 5,
   "id": "846c7e90-7cc8-4842-99e6-51a34751a7d0",
   "metadata": {},
   "outputs": [],
   "source": [
    "%%R\n",
    "# Defining GMIDs for Red Routes\n",
    "# Am creating a list of GMIDs for processing\n",
    "red_route_gmIDs  <- c(\n",
    "     \"2f95c748-f009-11ee-b966-fb353e7798cd\",\n",
    "  \"65cfbfd6-f396-11ee-bb4e-fb353e7798cd\",\n",
    "  \"f711e68e-f0e1-11ee-ba1f-fb353e7798cd\",\n",
    "  \"171c50bc-f106-11ee-ba42-fb353e7798cd\",\n",
    "  \"6d2ea45a-c839-11ee-a7fc-dd032dba19e8\",\n",
    "  \"05c7c824-cab8-11ee-aa4d-1d66adf2f0c7\",\n",
    "  \"96f7a614-f549-11ee-8afa-cb629b0d53e6\",\n",
    "  \"cf831f42-f353-11ee-bb4e-fb353e7798cd\",\n",
    "  \"f0eebb6a-f0dc-11ee-ba1e-fb353e7798cd\",\n",
    "  \"9798fe24-f143-11ee-ba78-fb353e7798cd\",\n",
    "  \"ce6465b6-f51b-11ee-8afa-cb629b0d53e6\",\n",
    "  \"3d2d29ec-ef95-11ee-b966-fb353e7798cd\",\n",
    "  \"d3698592-ef9d-11ee-b966-fb353e7798cd\",\n",
    "  \"853ef120-cad3-11ee-909c-e1dc60cf66f9\",\n",
    "  \"be857244-efc0-11ee-b966-fb353e7798cd\",\n",
    "  \"f43b6a70-f01e-11ee-b966-fb353e7798cd\",\n",
    "  \"fcc6fcd2-f013-11ee-b966-fb353e7798cd\",\n",
    "  \"e7b934a8-ef1a-11ee-9385-ef789ffde1d3\",\n",
    "  \"61b12e7a-f234-11ee-bb33-fb353e7798cd\",\n",
    "  \"de933de8-f112-11ee-ba4d-fb353e7798cd\",\n",
    "  \"8dbbbf1c-f0ef-11ee-ba29-fb353e7798cd\",\n",
    "  \"fe973c9c-f53c-11ee-8afa-cb629b0d53e6\",\n",
    "  \"ecebb942-f162-11ee-ba97-fb353e7798cd\",\n",
    "  \"f755cf60-f132-11ee-ba6d-fb353e7798cd\",\n",
    "  \"d24820c8-f197-11ee-babe-fb353e7798cd\",\n",
    "  \"dd72fdec-f0cf-11ee-ba0d-fb353e7798cd\",\n",
    "  \"286e019a-f204-11ee-bb07-fb353e7798cd\",\n",
    "  \"41b67a28-f52f-11ee-8afa-cb629b0d53e6\",\n",
    "  \"c0555ef0-f50f-11ee-8afa-cb629b0d53e6\",\n",
    "  \"72a03d4a-efe9-11ee-b966-fb353e7798cd\",\n",
    "  \"457dc5ee-f02a-11ee-b966-fb353e7798cd\",\n",
    "  \"3151e9e2-eff3-11ee-b966-fb353e7798cd\",\n",
    "  \"c25271be-f3a4-11ee-bb4e-fb353e7798cd\",\n",
    "  \"2a61b8a8-f528-11ee-8afa-cb629b0d53e6\",\n",
    "  \"01e65360-efd4-11ee-b966-fb353e7798cd\",\n",
    "  \"1bbbfbae-c839-11ee-a7fc-dd032dba19e8\",\n",
    "  \"f41cbd44-eff8-11ee-b966-fb353e7798cd\",\n",
    "  \"aa5dbcd2-ef10-11ee-9385-ef789ffde1d3\",\n",
    "  \"84d96f18-f214-11ee-bb13-fb353e7798cd\",\n",
    "  \"94c53148-eeed-11ee-9385-ef789ffde1d3\",\n",
    "  \"88a68dd8-eef9-11ee-9385-ef789ffde1d3\",\n",
    "  \"85b6e70e-ef7a-11ee-b966-fb353e7798cd\",\n",
    "  \"1b6aca0e-efdf-11ee-b966-fb353e7798cd\",\n",
    "  \"8fa6fe80-c869-11ee-a7fc-dd032dba19e8\",\n",
    "  \"51ef6da6-ca9f-11ee-909c-e1dc60cf66f9\",\n",
    "  \"9189a2a8-f121-11ee-ba5b-fb353e7798cd\",\n",
    "  \"8347b862-efad-11ee-b966-fb353e7798cd\",\n",
    "  \"88dd6fbe-f224-11ee-bb21-fb353e7798cd\",\n",
    "  \"817d6848-efb6-11ee-b966-fb353e7798cd\",\n",
    "  \"fc211bb2-efca-11ee-b966-fb353e7798cd\",\n",
    "  \"c338788a-d324-11ee-b437-336917683bb8\",\n",
    "  \"b82476fe-f1f3-11ee-baff-fb353e7798cd\",\n",
    "  \"7cbd932e-f244-11ee-bb3f-fb353e7798cd\",\n",
    "  \"2462c9d0-eecd-11ee-9385-ef789ffde1d3\",\n",
    "  \"3344a3c0-f502-11ee-8afa-cb629b0d53e6\",\n",
    "  \"d21965e6-f0fa-11ee-ba37-fb353e7798cd\",\n",
    "  \"c9c6856c-d33c-11ee-b437-336917683bb8\",\n",
    "  \"d12cd1c4-caec-11ee-909c-e1dc60cf66f9\",\n",
    "  \"43a1a35e-f362-11ee-bb4e-fb353e7798cd\",\n",
    "  \"fd1ab258-efa7-11ee-b966-fb353e7798cd\",\n",
    "  \"8437f77a-cab7-11ee-909c-e1dc60cf66f9\",\n",
    "  \"211bdb36-f0da-11ee-ba1b-fb353e7798cd\",\n",
    "  \"868de15e-f3b3-11ee-bb4e-fb353e7798cd\",\n",
    "  \"35518ec4-f153-11ee-ba88-fb353e7798cd\",\n",
    "  \"622bd2e8-f0e4-11ee-ba1f-fb353e7798cd\",\n",
    "  \"7fb7b9c0-c881-11ee-a7fc-dd032dba19e8\",\n",
    "  \"219f7eb8-ef87-11ee-b966-fb353e7798cd\",\n",
    "  \"1ee938a2-f172-11ee-baa6-fb353e7798cd\",\n",
    "  \"5a4bccf4-effe-11ee-b966-fb353e7798cd\"\n",
    ")"
   ]
  },
  {
   "cell_type": "code",
   "execution_count": 6,
   "id": "f597e13f-95a8-477a-98fa-30023c45d853",
   "metadata": {},
   "outputs": [
    {
     "name": "stdout",
     "output_type": "stream",
     "text": [
      "[1] \"2f95c748-f009-11ee-b966-fb353e7798cd\"\n",
      "[1] \"65cfbfd6-f396-11ee-bb4e-fb353e7798cd\"\n",
      "[1] \"f711e68e-f0e1-11ee-ba1f-fb353e7798cd\"\n",
      "[1] \"171c50bc-f106-11ee-ba42-fb353e7798cd\"\n",
      "[1] \"6d2ea45a-c839-11ee-a7fc-dd032dba19e8\"\n",
      "[1] \"05c7c824-cab8-11ee-aa4d-1d66adf2f0c7\"\n",
      "[1] \"96f7a614-f549-11ee-8afa-cb629b0d53e6\"\n",
      "[1] \"cf831f42-f353-11ee-bb4e-fb353e7798cd\"\n",
      "[1] \"f0eebb6a-f0dc-11ee-ba1e-fb353e7798cd\"\n",
      "[1] \"9798fe24-f143-11ee-ba78-fb353e7798cd\"\n",
      "[1] \"ce6465b6-f51b-11ee-8afa-cb629b0d53e6\"\n",
      "[1] \"3d2d29ec-ef95-11ee-b966-fb353e7798cd\"\n",
      "[1] \"d3698592-ef9d-11ee-b966-fb353e7798cd\"\n",
      "[1] \"853ef120-cad3-11ee-909c-e1dc60cf66f9\"\n",
      "[1] \"be857244-efc0-11ee-b966-fb353e7798cd\"\n",
      "[1] \"f43b6a70-f01e-11ee-b966-fb353e7798cd\"\n",
      "[1] \"fcc6fcd2-f013-11ee-b966-fb353e7798cd\"\n",
      "[1] \"e7b934a8-ef1a-11ee-9385-ef789ffde1d3\"\n",
      "[1] \"61b12e7a-f234-11ee-bb33-fb353e7798cd\"\n",
      "[1] \"de933de8-f112-11ee-ba4d-fb353e7798cd\"\n",
      "[1] \"8dbbbf1c-f0ef-11ee-ba29-fb353e7798cd\"\n",
      "[1] \"fe973c9c-f53c-11ee-8afa-cb629b0d53e6\"\n",
      "[1] \"ecebb942-f162-11ee-ba97-fb353e7798cd\"\n",
      "[1] \"f755cf60-f132-11ee-ba6d-fb353e7798cd\"\n",
      "[1] \"d24820c8-f197-11ee-babe-fb353e7798cd\"\n",
      "[1] \"dd72fdec-f0cf-11ee-ba0d-fb353e7798cd\"\n",
      "[1] \"286e019a-f204-11ee-bb07-fb353e7798cd\"\n",
      "[1] \"41b67a28-f52f-11ee-8afa-cb629b0d53e6\"\n",
      "[1] \"c0555ef0-f50f-11ee-8afa-cb629b0d53e6\"\n",
      "[1] \"72a03d4a-efe9-11ee-b966-fb353e7798cd\"\n",
      "[1] \"457dc5ee-f02a-11ee-b966-fb353e7798cd\"\n",
      "[1] \"3151e9e2-eff3-11ee-b966-fb353e7798cd\"\n",
      "[1] \"c25271be-f3a4-11ee-bb4e-fb353e7798cd\"\n",
      "[1] \"2a61b8a8-f528-11ee-8afa-cb629b0d53e6\"\n",
      "[1] \"01e65360-efd4-11ee-b966-fb353e7798cd\"\n",
      "[1] \"1bbbfbae-c839-11ee-a7fc-dd032dba19e8\"\n",
      "[1] \"f41cbd44-eff8-11ee-b966-fb353e7798cd\"\n",
      "[1] \"aa5dbcd2-ef10-11ee-9385-ef789ffde1d3\"\n",
      "[1] \"84d96f18-f214-11ee-bb13-fb353e7798cd\"\n",
      "[1] \"94c53148-eeed-11ee-9385-ef789ffde1d3\"\n",
      "[1] \"88a68dd8-eef9-11ee-9385-ef789ffde1d3\"\n",
      "[1] \"85b6e70e-ef7a-11ee-b966-fb353e7798cd\"\n",
      "[1] \"1b6aca0e-efdf-11ee-b966-fb353e7798cd\"\n",
      "[1] \"8fa6fe80-c869-11ee-a7fc-dd032dba19e8\"\n",
      "[1] \"51ef6da6-ca9f-11ee-909c-e1dc60cf66f9\"\n",
      "[1] \"9189a2a8-f121-11ee-ba5b-fb353e7798cd\"\n",
      "[1] \"8347b862-efad-11ee-b966-fb353e7798cd\"\n",
      "[1] \"88dd6fbe-f224-11ee-bb21-fb353e7798cd\"\n",
      "[1] \"817d6848-efb6-11ee-b966-fb353e7798cd\"\n",
      "[1] \"fc211bb2-efca-11ee-b966-fb353e7798cd\"\n",
      "[1] \"c338788a-d324-11ee-b437-336917683bb8\"\n",
      "[1] \"b82476fe-f1f3-11ee-baff-fb353e7798cd\"\n",
      "[1] \"7cbd932e-f244-11ee-bb3f-fb353e7798cd\"\n",
      "[1] \"2462c9d0-eecd-11ee-9385-ef789ffde1d3\"\n",
      "[1] \"3344a3c0-f502-11ee-8afa-cb629b0d53e6\"\n",
      "[1] \"d21965e6-f0fa-11ee-ba37-fb353e7798cd\"\n",
      "[1] \"c9c6856c-d33c-11ee-b437-336917683bb8\"\n",
      "[1] \"d12cd1c4-caec-11ee-909c-e1dc60cf66f9\"\n",
      "[1] \"43a1a35e-f362-11ee-bb4e-fb353e7798cd\"\n",
      "[1] \"fd1ab258-efa7-11ee-b966-fb353e7798cd\"\n",
      "[1] \"8437f77a-cab7-11ee-909c-e1dc60cf66f9\"\n",
      "[1] \"211bdb36-f0da-11ee-ba1b-fb353e7798cd\"\n",
      "[1] \"868de15e-f3b3-11ee-bb4e-fb353e7798cd\"\n",
      "[1] \"35518ec4-f153-11ee-ba88-fb353e7798cd\"\n",
      "[1] \"622bd2e8-f0e4-11ee-ba1f-fb353e7798cd\"\n",
      "[1] \"7fb7b9c0-c881-11ee-a7fc-dd032dba19e8\"\n",
      "[1] \"219f7eb8-ef87-11ee-b966-fb353e7798cd\"\n",
      "[1] \"1ee938a2-f172-11ee-baa6-fb353e7798cd\"\n",
      "[1] \"5a4bccf4-effe-11ee-b966-fb353e7798cd\"\n",
      "[1] \"Done loading data\"\n"
     ]
    }
   ],
   "source": [
    "%%R\n",
    "# Initialize an empty tibble\n",
    "df_merged <- tibble()\n",
    "\n",
    "# Loop through each gmID\n",
    "for (id in red_route_gmIDs) {\n",
    "  print(id)\n",
    "  \n",
    "  # Update the file paths with the correct full paths\n",
    "  temp_chassis_path <- sprintf(\n",
    "    \"/home/gampadu_linux/Desktop/TDMprivate/data/%s/_apollo_canbus_chassis/%s_apollo_canbus_chassis.csv\",\n",
    "    id, id\n",
    "  )\n",
    "  temp_pose_path <- sprintf(\n",
    "    \"/home/gampadu_linux/Desktop/TDMprivate/data/%s/_apollo_sensor_gnss_best_pose/%s_apollo_sensor_gnss_best_pose.csv\",\n",
    "    id, id\n",
    "  )\n",
    "\n",
    "  # Check if the files exist\n",
    "  if (file.exists(temp_chassis_path) && file.exists(temp_pose_path)) {\n",
    "    # Read the files\n",
    "    temp_chassis <- as_tibble(read.csv(temp_chassis_path))\n",
    "    temp_pose <- as_tibble(read.csv(temp_pose_path))\n",
    "    \n",
    "    # Process the data\n",
    "    r <- latlongStdDev(temp_pose)\n",
    "    temp_pose[\"latlongStdDev\"] <- r\n",
    "    \n",
    "    results <- merge_chassis_pose(temp_chassis, temp_pose)\n",
    "    result_full <- full_join(results$df_chassis, results$df_pose, by = \"matched\")\n",
    "    \n",
    "    # Add binary driving mode\n",
    "    result_full$binaryDrivingMode <- binary_driving_mode(result_full)\n",
    "    \n",
    "    # Append to df_merged\n",
    "    df_merged <- bind_rows(df_merged, result_full)\n",
    "  } else {\n",
    "    warning(sprintf(\"Files not found for gmID: %s\", id))\n",
    "  }\n",
    "}\n",
    "\n",
    "print(\"Done loading data\")"
   ]
  },
  {
   "cell_type": "code",
   "execution_count": 9,
   "id": "1f029942-d063-4694-8266-ce99ceabbf0e",
   "metadata": {},
   "outputs": [
    {
     "name": "stdout",
     "output_type": "stream",
     "text": [
      "[1] \"Training data rows: 2926938\"\n",
      "[1] \"Testing data rows: 864377\"\n"
     ]
    }
   ],
   "source": [
    "%%R\n",
    "# Load required library\n",
    "library(dplyr)\n",
    "\n",
    "# Split GMIDs into Training and Testing Sets\n",
    "training_gmIDs <- red_route_gmIDs[1:55]  # First 55 GMIDs (80%)\n",
    "testing_gmIDs <- red_route_gmIDs[56:69] # Last 14 GMIDs (20%)\n",
    "\n",
    "# Filter df_merged for training and testing data based on GMIDs\n",
    "train_data <- df_merged %>% filter(groupMetadataID.x %in% training_gmIDs)\n",
    "test_data <- df_merged %>% filter(groupMetadataID.x %in% testing_gmIDs)\n",
    "\n",
    "# Check the number of rows in each dataset\n",
    "print(paste(\"Training data rows:\", nrow(train_data)))\n",
    "print(paste(\"Testing data rows:\", nrow(test_data)))\n",
    "\n",
    "# Verify if test_data is not empty\n",
    "if (nrow(test_data) == 0) {\n",
    "  print(\"Error: test_data is empty. Check GMID filtering.\")\n",
    "}\n"
   ]
  },
  {
   "cell_type": "code",
   "execution_count": 10,
   "id": "16c4f8e1-0bfc-4efc-ad2e-9100a5760eb4",
   "metadata": {},
   "outputs": [
    {
     "name": "stdout",
     "output_type": "stream",
     "text": [
      "\n",
      "Call:\n",
      "glm(formula = binaryDrivingMode ~ speedMps + throttlePercentage + \n",
      "    brakePercentage + steeringPercentage + latlongStdDev, family = binomial, \n",
      "    data = train_data)\n",
      "\n",
      "Deviance Residuals: \n",
      "    Min       1Q   Median       3Q      Max  \n",
      "-2.3369   0.6449   0.7193   0.7477   2.5535  \n",
      "\n",
      "Coefficients:\n",
      "                     Estimate Std. Error z value Pr(>|z|)    \n",
      "(Intercept)         0.9718916  0.0051969 187.015  < 2e-16 ***\n",
      "speedMps            0.0066561  0.0002576  25.835  < 2e-16 ***\n",
      "throttlePercentage  0.0065041  0.0001191  54.623  < 2e-16 ***\n",
      "brakePercentage     0.0009012  0.0001534   5.876 4.21e-09 ***\n",
      "steeringPercentage  0.0150089  0.0001650  90.945  < 2e-16 ***\n",
      "latlongStdDev      -0.0240179  0.0004501 -53.361  < 2e-16 ***\n",
      "---\n",
      "Signif. codes:  0 ‘***’ 0.001 ‘**’ 0.01 ‘*’ 0.05 ‘.’ 0.1 ‘ ’ 1\n",
      "\n",
      "(Dispersion parameter for binomial family taken to be 1)\n",
      "\n",
      "    Null deviance: 3225829  on 2926937  degrees of freedom\n",
      "Residual deviance: 3202737  on 2926932  degrees of freedom\n",
      "AIC: 3202749\n",
      "\n",
      "Number of Fisher Scoring iterations: 4\n",
      "\n"
     ]
    }
   ],
   "source": [
    "%%R\n",
    "# Train a Logistic Regression Model\n",
    "model <- glm(\n",
    "  binaryDrivingMode ~ speedMps + throttlePercentage + brakePercentage + steeringPercentage + latlongStdDev,\n",
    "  data = train_data,\n",
    "  family = binomial\n",
    ")\n",
    "\n",
    "summary(model)"
   ]
  },
  {
   "cell_type": "code",
   "execution_count": 11,
   "id": "0ef5b188-686c-45df-8b43-41aa5a19e4f7",
   "metadata": {},
   "outputs": [
    {
     "name": "stdout",
     "output_type": "stream",
     "text": [
      "[1] \"Accuracy: 0.804088956554837\"\n"
     ]
    }
   ],
   "source": [
    "%%R\n",
    " # Predict on the test set\n",
    " predictions <- predict(model, test_data, type = \"response\")\n",
    "\n",
    " #Covert probabilities to binary classes (0 or 1)\n",
    " predicted_classes <- ifelse(predictions > 0.5, 1, 0)\n",
    "\n",
    " # Calculate accuracy\n",
    " accuracy <- mean(predicted_classes == test_data$binaryDrivingMode)\n",
    "\n",
    " # Print the accuracy\n",
    "print(paste(\"Accuracy:\", accuracy))"
   ]
  },
  {
   "cell_type": "code",
   "execution_count": 12,
   "id": "cd769c6d-a697-4b12-b984-6156f55d45f2",
   "metadata": {},
   "outputs": [
    {
     "data": {
      "image/png": "[encoded data removed]",
      "text/plain": [
       "<IPython.core.display.Image object>"
      ]
     },
     "metadata": {},
     "output_type": "display_data"
    }
   ],
   "source": [
    "%%R\n",
    "# Load required libraries\n",
    "library(ggplot2)\n",
    "library(caret)\n",
    "\n",
    "# Generate the confusion matrix\n",
    "cm <- confusionMatrix(factor(predicted_classes), factor(test_data$binaryDrivingMode))\n",
    "cm_table <- as.data.frame(cm$table)\n",
    "\n",
    "# Rename columns for better understanding\n",
    "colnames(cm_table) <- c(\"Actual\", \"Predicted\", \"Freq\")\n",
    "\n",
    "# Create the colored confusion matrix plot\n",
    "ggplot(cm_table, aes(x = Actual, y = Predicted, fill = Freq)) +\n",
    "  geom_tile(color = \"white\") +\n",
    "  scale_fill_gradient(low = \"lightblue\", high = \"blue\", name = \"Freq\") +\n",
    "  geom_text(aes(label = Freq), color = \"white\", size = 4) +\n",
    "  labs(title = \"Confusion Matrix\", x = \"Actual Classes\", y = \"Predicted Classes\") +\n",
    "  theme_minimal() +\n",
    "  theme(plot.title = element_text(hjust = 0.5))"
   ]
  },
  {
   "cell_type": "code",
   "execution_count": 13,
   "id": "e92dc7b0-55b2-4134-8869-b983d7a48401",
   "metadata": {
    "scrolled": true
   },
   "outputs": [
    {
     "name": "stdout",
     "output_type": "stream",
     "text": [
      "Area under the curve: 0.593\n"
     ]
    },
    {
     "data": {
      "text/plain": [
       "Setting levels: control = 0, case = 1\n",
       "Setting direction: controls < cases\n"
      ]
     },
     "metadata": {},
     "output_type": "display_data"
    },
    {
     "data": {
      "image/png": "[encoded data removed]",
      "text/plain": [
       "<IPython.core.display.Image object>"
      ]
     },
     "metadata": {},
     "output_type": "display_data"
    }
   ],
   "source": [
    "%%R\n",
    "\n",
    "library(pROC)\n",
    "roc_obj <- roc(test_data$binaryDrivingMode, predictions)\n",
    "plot(roc_obj, main = \"ROC Curve\")\n",
    "auc(roc_obj)"
   ]
  },
  {
   "cell_type": "code",
   "execution_count": 16,
   "id": "0cf676be-b146-40ba-b4c1-2e75e4514fa0",
   "metadata": {},
   "outputs": [
    {
     "name": "stdout",
     "output_type": "stream",
     "text": [
      "[1] \"Accuracy: 0.804088956554837\"\n",
      "[1] \"Recall: 169227\"\n"
     ]
    }
   ],
   "source": [
    "%%R\n",
    "# Confusion Matrix values from the diagram\n",
    "TP <- 689410 # True Positives\n",
    "TN <- 5626 # True Negatives\n",
    "FP <- 115 # False Positives\n",
    "FN <- 169226 #False Negatives\n",
    "\n",
    "#Calculating Accuracy\n",
    "accuracy <- (TN + TP)/ (TP + TN + FP + FN)\n",
    "\n",
    "#Calculating Recall\n",
    "recall <- (TP/ TP + FN)\n",
    "\n",
    "cat(\"Accuracy\":accuracy, \"\\n\")\n",
    "cat(\"Recall\":recall, \"\\n\")"
   ]
  },
  {
   "cell_type": "code",
   "execution_count": null,
   "id": "d2ce85a7-a280-44d7-b0c6-6b22933e2b82",
   "metadata": {},
   "outputs": [],
   "source": []
  },
  {
   "cell_type": "code",
   "execution_count": null,
   "id": "b52d5977-334a-40f2-b5f2-c91490369a12",
   "metadata": {},
   "outputs": [],
   "source": []
  },
  {
   "cell_type": "code",
   "execution_count": null,
   "id": "4901efb4-1825-4726-aac1-40fd04b3ec3d",
   "metadata": {},
   "outputs": [],
   "source": []
  },
  {
   "cell_type": "code",
   "execution_count": null,
   "id": "6adcdee0-a640-4a46-9148-e1e613eddfcb",
   "metadata": {},
   "outputs": [],
   "source": []
  },
  {
   "cell_type": "code",
   "execution_count": null,
   "id": "0b64e5ff-fb78-4959-bff9-ed5164aacbf5",
   "metadata": {},
   "outputs": [],
   "source": []
  },
  {
   "cell_type": "code",
   "execution_count": null,
   "id": "a1d7ed41-46fd-4817-8cf7-40eee0872606",
   "metadata": {},
   "outputs": [],
   "source": []
  },
  {
   "cell_type": "code",
   "execution_count": null,
   "id": "8417683c-958c-47e4-93ea-6a961bcb3ca1",
   "metadata": {},
   "outputs": [],
   "source": []
  },
  {
   "cell_type": "code",
   "execution_count": null,
   "id": "f8920dc2-421b-409a-af0b-80ff77f09d46",
   "metadata": {},
   "outputs": [],
   "source": []
  },
  {
   "cell_type": "code",
   "execution_count": null,
   "id": "7aad3861-32a7-48c4-9902-1a8737d2aed9",
   "metadata": {},
   "outputs": [],
   "source": []
  },
  {
   "cell_type": "code",
   "execution_count": null,
   "id": "01d154ff-eb09-41cb-b90d-b17865239d7a",
   "metadata": {},
   "outputs": [],
   "source": []
  },
  {
   "cell_type": "code",
   "execution_count": null,
   "id": "12143ac1-4899-4bc9-a0ad-2c4cfec36368",
   "metadata": {},
   "outputs": [],
   "source": []
  },
  {
   "cell_type": "code",
   "execution_count": null,
   "id": "a01d3df3-fc11-4c21-9d06-2b315eda6a5d",
   "metadata": {},
   "outputs": [],
   "source": []
  },
  {
   "cell_type": "code",
   "execution_count": null,
   "id": "4e210165-2ac5-4158-8600-0be2b76a3d8f",
   "metadata": {},
   "outputs": [],
   "source": []
  },
  {
   "cell_type": "code",
   "execution_count": null,
   "id": "0331b768-8281-468e-aff0-3ab3087b4df5",
   "metadata": {},
   "outputs": [],
   "source": []
  },
  {
   "cell_type": "code",
   "execution_count": 8,
   "id": "5dfe0880-dc4d-4da8-b36d-692149adce39",
   "metadata": {},
   "outputs": [
    {
     "name": "stdout",
     "output_type": "stream",
     "text": [
      "Error in (function (expr, envir = parent.frame(), enclos = if (is.list(envir) ||  : \n",
      "  object 'predicted_classes' not found\n"
     ]
    },
    {
     "ename": "RInterpreterError",
     "evalue": "Failed to parse and evaluate line '# Calculate Precision\\nprecision <- sum(predicted_classes == 1 & test_data$binaryDrivingMode == 1) / sum(predicted_classes == 1)\\n\\n# Calculate Recall\\nrecall <- sum(predicted_classes == 1 & test_data$binaryDrivingMode == 1) / sum(test_data$binaryDrivingMode == 1)\\n\\n# Calculate F1-Score\\nf1_score <- 2 * (precision * recall) / (precision + recall)\\n\\n# Print the results\\nprint(paste(\"Precision:\", precision))\\nprint(paste(\"Recall:\", recall))\\nprint(paste(\"F1-Score:\", f1_score))\\n'.\nR error message: \"Error in (function (expr, envir = parent.frame(), enclos = if (is.list(envir) ||  : \\n  object 'predicted_classes' not found\"",
     "output_type": "error",
     "traceback": [
      "\u001b[0;31m---------------------------------------------------------------------------\u001b[0m",
      "\u001b[0;31mRRuntimeError\u001b[0m                             Traceback (most recent call last)",
      "File \u001b[0;32m~/.local/lib/python3.10/site-packages/rpy2/ipython/rmagic.py:407\u001b[0m, in \u001b[0;36mRMagics.eval\u001b[0;34m(self, code)\u001b[0m\n\u001b[1;32m    406\u001b[0m     r_expr \u001b[38;5;241m=\u001b[39m ri\u001b[38;5;241m.\u001b[39mparse(code)\n\u001b[0;32m--> 407\u001b[0m     value, visible \u001b[38;5;241m=\u001b[39m \u001b[43mri\u001b[49m\u001b[38;5;241;43m.\u001b[39;49m\u001b[43mevalr_expr_with_visible\u001b[49m\u001b[43m(\u001b[49m\n\u001b[1;32m    408\u001b[0m \u001b[43m        \u001b[49m\u001b[43mr_expr\u001b[49m\n\u001b[1;32m    409\u001b[0m \u001b[43m    \u001b[49m\u001b[43m)\u001b[49m\n\u001b[1;32m    410\u001b[0m \u001b[38;5;28;01mexcept\u001b[39;00m (ri\u001b[38;5;241m.\u001b[39membedded\u001b[38;5;241m.\u001b[39mRRuntimeError, \u001b[38;5;167;01mValueError\u001b[39;00m) \u001b[38;5;28;01mas\u001b[39;00m exception:\n\u001b[1;32m    411\u001b[0m     \u001b[38;5;66;03m# Otherwise next return seems to have copy of error.\u001b[39;00m\n",
      "File \u001b[0;32m~/.local/lib/python3.10/site-packages/rpy2/rinterface.py:192\u001b[0m, in \u001b[0;36mevalr_expr_with_visible\u001b[0;34m(expr, envir)\u001b[0m\n\u001b[1;32m    191\u001b[0m \u001b[38;5;28;01mif\u001b[39;00m error_occured[\u001b[38;5;241m0\u001b[39m]:\n\u001b[0;32m--> 192\u001b[0m     \u001b[38;5;28;01mraise\u001b[39;00m embedded\u001b[38;5;241m.\u001b[39mRRuntimeError(_rinterface\u001b[38;5;241m.\u001b[39m_geterrmessage())\n\u001b[1;32m    193\u001b[0m res \u001b[38;5;241m=\u001b[39m conversion\u001b[38;5;241m.\u001b[39m_cdata_to_rinterface(r_res)\n",
      "\u001b[0;31mRRuntimeError\u001b[0m: Error in (function (expr, envir = parent.frame(), enclos = if (is.list(envir) ||  : \n  object 'predicted_classes' not found\n",
      "\nDuring handling of the above exception, another exception occurred:\n",
      "\u001b[0;31mRInterpreterError\u001b[0m                         Traceback (most recent call last)",
      "Cell \u001b[0;32mIn[8], line 1\u001b[0m\n\u001b[0;32m----> 1\u001b[0m \u001b[43mget_ipython\u001b[49m\u001b[43m(\u001b[49m\u001b[43m)\u001b[49m\u001b[38;5;241;43m.\u001b[39;49m\u001b[43mrun_cell_magic\u001b[49m\u001b[43m(\u001b[49m\u001b[38;5;124;43m'\u001b[39;49m\u001b[38;5;124;43mR\u001b[39;49m\u001b[38;5;124;43m'\u001b[39;49m\u001b[43m,\u001b[49m\u001b[43m \u001b[49m\u001b[38;5;124;43m'\u001b[39;49m\u001b[38;5;124;43m'\u001b[39;49m\u001b[43m,\u001b[49m\u001b[43m \u001b[49m\u001b[38;5;124;43m'\u001b[39;49m\u001b[38;5;124;43m# Calculate Precision\u001b[39;49m\u001b[38;5;130;43;01m\\n\u001b[39;49;00m\u001b[38;5;124;43mprecision <- sum(predicted_classes == 1 & test_data$binaryDrivingMode == 1) / sum(predicted_classes == 1)\u001b[39;49m\u001b[38;5;130;43;01m\\n\u001b[39;49;00m\u001b[38;5;130;43;01m\\n\u001b[39;49;00m\u001b[38;5;124;43m# Calculate Recall\u001b[39;49m\u001b[38;5;130;43;01m\\n\u001b[39;49;00m\u001b[38;5;124;43mrecall <- sum(predicted_classes == 1 & test_data$binaryDrivingMode == 1) / sum(test_data$binaryDrivingMode == 1)\u001b[39;49m\u001b[38;5;130;43;01m\\n\u001b[39;49;00m\u001b[38;5;130;43;01m\\n\u001b[39;49;00m\u001b[38;5;124;43m# Calculate F1-Score\u001b[39;49m\u001b[38;5;130;43;01m\\n\u001b[39;49;00m\u001b[38;5;124;43mf1_score <- 2 * (precision * recall) / (precision + recall)\u001b[39;49m\u001b[38;5;130;43;01m\\n\u001b[39;49;00m\u001b[38;5;130;43;01m\\n\u001b[39;49;00m\u001b[38;5;124;43m# Print the results\u001b[39;49m\u001b[38;5;130;43;01m\\n\u001b[39;49;00m\u001b[38;5;124;43mprint(paste(\u001b[39;49m\u001b[38;5;124;43m\"\u001b[39;49m\u001b[38;5;124;43mPrecision:\u001b[39;49m\u001b[38;5;124;43m\"\u001b[39;49m\u001b[38;5;124;43m, precision))\u001b[39;49m\u001b[38;5;130;43;01m\\n\u001b[39;49;00m\u001b[38;5;124;43mprint(paste(\u001b[39;49m\u001b[38;5;124;43m\"\u001b[39;49m\u001b[38;5;124;43mRecall:\u001b[39;49m\u001b[38;5;124;43m\"\u001b[39;49m\u001b[38;5;124;43m, recall))\u001b[39;49m\u001b[38;5;130;43;01m\\n\u001b[39;49;00m\u001b[38;5;124;43mprint(paste(\u001b[39;49m\u001b[38;5;124;43m\"\u001b[39;49m\u001b[38;5;124;43mF1-Score:\u001b[39;49m\u001b[38;5;124;43m\"\u001b[39;49m\u001b[38;5;124;43m, f1_score))\u001b[39;49m\u001b[38;5;130;43;01m\\n\u001b[39;49;00m\u001b[38;5;124;43m'\u001b[39;49m\u001b[43m)\u001b[49m\n",
      "File \u001b[0;32m~/.local/lib/python3.10/site-packages/IPython/core/interactiveshell.py:2541\u001b[0m, in \u001b[0;36mInteractiveShell.run_cell_magic\u001b[0;34m(self, magic_name, line, cell)\u001b[0m\n\u001b[1;32m   2539\u001b[0m \u001b[38;5;28;01mwith\u001b[39;00m \u001b[38;5;28mself\u001b[39m\u001b[38;5;241m.\u001b[39mbuiltin_trap:\n\u001b[1;32m   2540\u001b[0m     args \u001b[38;5;241m=\u001b[39m (magic_arg_s, cell)\n\u001b[0;32m-> 2541\u001b[0m     result \u001b[38;5;241m=\u001b[39m \u001b[43mfn\u001b[49m\u001b[43m(\u001b[49m\u001b[38;5;241;43m*\u001b[39;49m\u001b[43margs\u001b[49m\u001b[43m,\u001b[49m\u001b[43m \u001b[49m\u001b[38;5;241;43m*\u001b[39;49m\u001b[38;5;241;43m*\u001b[39;49m\u001b[43mkwargs\u001b[49m\u001b[43m)\u001b[49m\n\u001b[1;32m   2543\u001b[0m \u001b[38;5;66;03m# The code below prevents the output from being displayed\u001b[39;00m\n\u001b[1;32m   2544\u001b[0m \u001b[38;5;66;03m# when using magics with decorator @output_can_be_silenced\u001b[39;00m\n\u001b[1;32m   2545\u001b[0m \u001b[38;5;66;03m# when the last Python token in the expression is a ';'.\u001b[39;00m\n\u001b[1;32m   2546\u001b[0m \u001b[38;5;28;01mif\u001b[39;00m \u001b[38;5;28mgetattr\u001b[39m(fn, magic\u001b[38;5;241m.\u001b[39mMAGIC_OUTPUT_CAN_BE_SILENCED, \u001b[38;5;28;01mFalse\u001b[39;00m):\n",
      "File \u001b[0;32m~/.local/lib/python3.10/site-packages/rpy2/ipython/rmagic.py:984\u001b[0m, in \u001b[0;36mRMagics.R\u001b[0;34m(self, line, cell, local_ns)\u001b[0m\n\u001b[1;32m    982\u001b[0m     \u001b[38;5;28;01mif\u001b[39;00m \u001b[38;5;129;01mnot\u001b[39;00m e\u001b[38;5;241m.\u001b[39mstdout\u001b[38;5;241m.\u001b[39mendswith(e\u001b[38;5;241m.\u001b[39merr):\n\u001b[1;32m    983\u001b[0m         \u001b[38;5;28mprint\u001b[39m(e\u001b[38;5;241m.\u001b[39merr)\n\u001b[0;32m--> 984\u001b[0m     \u001b[38;5;28;01mraise\u001b[39;00m e\n\u001b[1;32m    985\u001b[0m \u001b[38;5;28;01mfinally\u001b[39;00m:\n\u001b[1;32m    986\u001b[0m     \u001b[38;5;28;01mif\u001b[39;00m \u001b[38;5;28mself\u001b[39m\u001b[38;5;241m.\u001b[39mdevice \u001b[38;5;129;01min\u001b[39;00m DEVICES_STATIC:\n",
      "File \u001b[0;32m~/.local/lib/python3.10/site-packages/rpy2/ipython/rmagic.py:949\u001b[0m, in \u001b[0;36mRMagics.R\u001b[0;34m(self, line, cell, local_ns)\u001b[0m\n\u001b[1;32m    947\u001b[0m         return_output \u001b[38;5;241m=\u001b[39m \u001b[38;5;28;01mFalse\u001b[39;00m\n\u001b[1;32m    948\u001b[0m \u001b[38;5;28;01melse\u001b[39;00m:\n\u001b[0;32m--> 949\u001b[0m     text_result, result, visible \u001b[38;5;241m=\u001b[39m \u001b[38;5;28;43mself\u001b[39;49m\u001b[38;5;241;43m.\u001b[39;49m\u001b[43meval\u001b[49m\u001b[43m(\u001b[49m\u001b[43mcode\u001b[49m\u001b[43m)\u001b[49m\n\u001b[1;32m    950\u001b[0m     text_output \u001b[38;5;241m+\u001b[39m\u001b[38;5;241m=\u001b[39m text_result\n\u001b[1;32m    951\u001b[0m     \u001b[38;5;28;01mif\u001b[39;00m visible:\n",
      "File \u001b[0;32m~/.local/lib/python3.10/site-packages/rpy2/ipython/rmagic.py:413\u001b[0m, in \u001b[0;36mRMagics.eval\u001b[0;34m(self, code)\u001b[0m\n\u001b[1;32m    410\u001b[0m \u001b[38;5;28;01mexcept\u001b[39;00m (ri\u001b[38;5;241m.\u001b[39membedded\u001b[38;5;241m.\u001b[39mRRuntimeError, \u001b[38;5;167;01mValueError\u001b[39;00m) \u001b[38;5;28;01mas\u001b[39;00m exception:\n\u001b[1;32m    411\u001b[0m     \u001b[38;5;66;03m# Otherwise next return seems to have copy of error.\u001b[39;00m\n\u001b[1;32m    412\u001b[0m     warning_or_other_msg \u001b[38;5;241m=\u001b[39m \u001b[38;5;28mself\u001b[39m\u001b[38;5;241m.\u001b[39mflush()\n\u001b[0;32m--> 413\u001b[0m     \u001b[38;5;28;01mraise\u001b[39;00m RInterpreterError(code, \u001b[38;5;28mstr\u001b[39m(exception),\n\u001b[1;32m    414\u001b[0m                             warning_or_other_msg)\n\u001b[1;32m    415\u001b[0m \u001b[38;5;28;01mfinally\u001b[39;00m:\n\u001b[1;32m    416\u001b[0m     ro\u001b[38;5;241m.\u001b[39m_print_deferred_warnings()\n",
      "\u001b[0;31mRInterpreterError\u001b[0m: Failed to parse and evaluate line '# Calculate Precision\\nprecision <- sum(predicted_classes == 1 & test_data$binaryDrivingMode == 1) / sum(predicted_classes == 1)\\n\\n# Calculate Recall\\nrecall <- sum(predicted_classes == 1 & test_data$binaryDrivingMode == 1) / sum(test_data$binaryDrivingMode == 1)\\n\\n# Calculate F1-Score\\nf1_score <- 2 * (precision * recall) / (precision + recall)\\n\\n# Print the results\\nprint(paste(\"Precision:\", precision))\\nprint(paste(\"Recall:\", recall))\\nprint(paste(\"F1-Score:\", f1_score))\\n'.\nR error message: \"Error in (function (expr, envir = parent.frame(), enclos = if (is.list(envir) ||  : \\n  object 'predicted_classes' not found\""
     ]
    }
   ],
   "source": [
    "%%R\n",
    "# Calculate Precision\n",
    "precision <- sum(predicted_classes == 1 & test_data$binaryDrivingMode == 1) / sum(predicted_classes == 1)\n",
    "\n",
    "# Calculate Recall\n",
    "recall <- sum(predicted_classes == 1 & test_data$binaryDrivingMode == 1) / sum(test_data$binaryDrivingMode == 1)\n",
    "\n",
    "# Calculate F1-Score\n",
    "f1_score <- 2 * (precision * recall) / (precision + recall)\n",
    "\n",
    "# Print the results\n",
    "print(paste(\"Precision:\", precision))\n",
    "print(paste(\"Recall:\", recall))\n",
    "print(paste(\"F1-Score:\", f1_score))"
   ]
  },
  {
   "cell_type": "code",
   "execution_count": null,
   "id": "1d96fb73-fd4f-49b0-8ae1-41a1bb50c097",
   "metadata": {},
   "outputs": [],
   "source": []
  }
 ],
 "metadata": {
  "kernelspec": {
   "display_name": "Python 3 (ipykernel)",
   "language": "python",
   "name": "python3"
  },
  "language_info": {
   "codemirror_mode": {
    "name": "ipython",
    "version": 3
   },
   "file_extension": ".py",
   "mimetype": "text/x-python",
   "name": "python",
   "nbconvert_exporter": "python",
   "pygments_lexer": "ipython3",
   "version": "3.10.12"
  }
 },
 "nbformat": 4,
 "nbformat_minor": 5
}
