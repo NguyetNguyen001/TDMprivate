{
 "cells": [
  {
   "cell_type": "code",
   "execution_count": 5,
   "id": "7d61551f-c791-471e-9140-3ee9ff2acadb",
   "metadata": {},
   "outputs": [],
   "source": [
    "import cartopy.crs as ccrs\n",
    "from cartopy.io.img_tiles import GoogleTiles\n",
    "import matplotlib.pyplot as plt\n"
   ]
  },
  {
   "cell_type": "code",
   "execution_count": 17,
   "id": "7cb19fcf-e76d-4a32-b65f-c52612861295",
   "metadata": {},
   "outputs": [
    {
     "name": "stderr",
     "output_type": "stream",
     "text": [
      "/tmp/ipykernel_168205/1171228354.py:21: UserWarning: No artists with labels found to put in legend.  Note that artists whose label start with an underscore are ignored when legend() is called with no argument.\n",
      "  plt.legend()\n"
     ]
    },
    {
     "data": {
      "image/png": "[encoded data removed]",
      "text/plain": [
       "<Figure size 800x800 with 1 Axes>"
      ]
     },
     "metadata": {},
     "output_type": "display_data"
    }
   ],
   "source": [
    "plt.figure(figsize = (8,8))\n",
    "\n",
    "minlat = 40\n",
    "maxlat = 40.1\n",
    "minlon = 170\n",
    "maxlon = 170.1\n",
    "\n",
    "expansion_coeff = 0.005\n",
    "#minlat = np.min(np.array(red_df['latitude']))\n",
    "#maxlat = np.max(np.arrary(red_df['latitude']))\n",
    "#minlon = np.min(np.array(red_df['longitude']))\n",
    "#minlon = np.max(np.array(red_df['longitude']))\n",
    "\n",
    "street_map = GoogleTiles(style = 'street')\n",
    "ax = plt.axes(projection =  street_map.crs)\n",
    "ax.set_extent([minlon - expansion_coeff, maxlon + expansion_coeff, minlat - expansion_coeff, maxlat + expansion_coeff], ccrs.PlateCarree() )\n",
    "ax.add_image(street_map, 14)\n",
    "lon_list = [170 + 0.01 * i for i in range(10)]\n",
    "lat_list = [40.05 for i in range(10)]\n",
    "plt.plot(lon_list, lat_list, transform = ccrs.PlateCarree())\n",
    "plt.legend()\n",
    "plt.show()\n"
   ]
  },
  {
   "cell_type": "code",
   "execution_count": null,
   "id": "dfeaa7d4-2bbe-4e33-97cf-8a767e8aaa7c",
   "metadata": {},
   "outputs": [],
   "source": []
  }
 ],
 "metadata": {
  "kernelspec": {
   "display_name": "Python 3 (ipykernel)",
   "language": "python",
   "name": "python3"
  },
  "language_info": {
   "codemirror_mode": {
    "name": "ipython",
    "version": 3
   },
   "file_extension": ".py",
   "mimetype": "text/x-python",
   "name": "python",
   "nbconvert_exporter": "python",
   "pygments_lexer": "ipython3",
   "version": "3.10.12"
  }
 },
 "nbformat": 4,
 "nbformat_minor": 5
}
