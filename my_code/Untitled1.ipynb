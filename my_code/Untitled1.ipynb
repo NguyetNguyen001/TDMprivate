{
 "cells": [
  {
   "cell_type": "code",
   "execution_count": 1,
   "id": "3cb69b24-6ac7-4141-ad8d-90cc5630518e",
   "metadata": {},
   "outputs": [],
   "source": [
    "import boto3 \n",
    "\n",
    "from boto3.dynamodb.conditions import Key, Attr\n",
    "\n",
    "import pandas as pd"
   ]
  },
  {
   "cell_type": "code",
   "execution_count": 2,
   "id": "e88fbc01-7df4-4dfd-acf9-bb344a003e2a",
   "metadata": {},
   "outputs": [],
   "source": [
    "dynamodb = boto3.resource( 'dynamodb' )"
   ]
  },
  {
   "cell_type": "code",
   "execution_count": 3,
   "id": "afa0b9dd-79df-45d3-bdc8-6bd1dd2962dc",
   "metadata": {},
   "outputs": [],
   "source": [
    "adspp_table = dynamodb.Table( 'ads_passenger_processed' )"
   ]
  },
  {
   "cell_type": "code",
   "execution_count": 4,
   "id": "6a2dac31-a696-4e35-9b52-28c5e656730e",
   "metadata": {},
   "outputs": [],
   "source": [
    "scan_output = adspp_table.scan()"
   ]
  },
  {
   "cell_type": "code",
   "execution_count": 12,
   "id": "847b60e1-611e-44e5-8ca9-da1a9251b75e",
   "metadata": {},
   "outputs": [
    {
     "data": {
      "text/plain": [
       "topics\n",
       "/apollo/sensor/gnss/raw_data                        301\n",
       "/apollo/sensor/gnss/corrected_imu                   174\n",
       "/apollo/localization/msf_status                     165\n",
       "/apollo/localization/pose                           160\n",
       "/apollo/sensor/gnss/odometry                        157\n",
       "/tf                                                 144\n",
       "/apollo/canbus/chassis_detail                        63\n",
       "/apollo/control                                      58\n",
       "/apollo/canbus/chassis                               54\n",
       "/apollo/sensor/velodyne/fusion/PointCloud2Status     16\n",
       "/apollo/monitor                                       9\n",
       "/apollo/perception/traffic_light                      7\n",
       "/apollo/sensor/radar/front                            6\n",
       "/apollo/sensor/gnss/gnss_status                       3\n",
       "/apollo/routing_response_history                      2\n",
       "/apollo/sensor/gnss/ins_stat                          2\n",
       "/apollo/sensor/gnss/best_pose                         2\n",
       "/apollo/hmi/status                                    1\n",
       "Name: count, dtype: int64"
      ]
     },
     "execution_count": 12,
     "metadata": {},
     "output_type": "execute_result"
    }
   ],
   "source": [
    "l = []\n",
    "\n",
    "for item in scan_output[ 'Items' ]:\n",
    "\n",
    "    l.append( item[ 'topic' ] )\n",
    "\n",
    "df = pd.DataFrame()\n",
    "\n",
    "df[ 'topics' ] = l\n",
    "\n",
    "df[ 'topics' ].value_counts()"
   ]
  },
  {
   "cell_type": "code",
   "execution_count": 15,
   "id": "eadb48a3-5100-4f1e-94cd-520d97b0c993",
   "metadata": {},
   "outputs": [],
   "source": [
    "query_input = dict()\n",
    "\n",
    "query_output = adspp_table.scan( **query_input )\n",
    "\n",
    "#\n",
    "\n",
    "l = []\n",
    "\n",
    "for item in query_output[ 'Items' ]:\n",
    "\n",
    "    l.append( item[ 'topic' ] )\n",
    "\n",
    "#\n",
    "\n",
    "i = 1 \n",
    "\n",
    "while ( 'LastEvaluatedKey' in query_output.keys() ) and ( i <= 10 ):\n",
    "\n",
    "    query_input[ 'ExclusiveStartKey' ] = query_output[ 'LastEvaluatedKey' ]\n",
    "    \n",
    "    query_output = adspp_table.scan( **query_input )\n",
    "\n",
    "    for item in query_output[ 'Items' ]:\n",
    "\n",
    "        l.append( item[ 'topic' ] )\n",
    "\n",
    "    i = i + 1"
   ]
  },
  {
   "cell_type": "code",
   "execution_count": 16,
   "id": "8fc3f2c1-4412-4a21-9a08-0382e904a4b5",
   "metadata": {},
   "outputs": [
    {
     "data": {
      "text/plain": [
       "13796"
      ]
     },
     "execution_count": 16,
     "metadata": {},
     "output_type": "execute_result"
    }
   ],
   "source": [
    "len( l )"
   ]
  },
  {
   "cell_type": "code",
   "execution_count": 17,
   "id": "45a3bc0c-37aa-480f-b179-c847f5103d16",
   "metadata": {},
   "outputs": [
    {
     "data": {
      "text/plain": [
       "topics\n",
       "/apollo/sensor/gnss/raw_data                        3180\n",
       "/apollo/sensor/gnss/odometry                        1702\n",
       "/apollo/sensor/gnss/corrected_imu                   1699\n",
       "/tf                                                 1687\n",
       "/apollo/localization/pose                           1677\n",
       "/apollo/localization/msf_status                     1666\n",
       "/apollo/control                                      578\n",
       "/apollo/canbus/chassis_detail                        571\n",
       "/apollo/canbus/chassis                               564\n",
       "/apollo/sensor/velodyne/fusion/PointCloud2Status     106\n",
       "/apollo/sensor/radar/front                            94\n",
       "/apollo/perception/traffic_light                      88\n",
       "/apollo/monitor                                       64\n",
       "/apollo/sensor/gnss/ins_stat                          36\n",
       "/apollo/sensor/gnss/best_pose                         24\n",
       "/apollo/sensor/gnss/gnss_status                       19\n",
       "/apollo/routing_response_history                      16\n",
       "/apollo/sensor/gnss/ins_status                        15\n",
       "/apollo/hmi/status                                     3\n",
       "/apollo/common/latency_records                         3\n",
       "/apollo/monitor/system_status                          2\n",
       "/apollo/common/latency_reports                         2\n",
       "Name: count, dtype: int64"
      ]
     },
     "execution_count": 17,
     "metadata": {},
     "output_type": "execute_result"
    }
   ],
   "source": [
    "df = pd.DataFrame()\n",
    "\n",
    "df[ 'topics' ] = l\n",
    "\n",
    "df[ 'topics' ].value_counts()"
   ]
  },
  {
   "cell_type": "code",
   "execution_count": 22,
   "id": "3abe2ab6-7783-425f-8ede-8271ee1f2f76",
   "metadata": {},
   "outputs": [],
   "source": [
    "query_input = dict(\n",
    "    \n",
    "                   IndexName = 'topic-index',\n",
    "    \n",
    "                   Limit = 2000,\n",
    "    \n",
    "                   FilterExpression = Attr( 'groupMetadataID' ).eq( '1f70a4f0-f0e0-11ee-ba1e-fb353e7798cd' ),\n",
    "\n",
    "                   KeyConditionExpression = Key( 'topic' ).eq( '/apollo/perception/obstacles' ),\n",
    "    \n",
    "                  )\n",
    "\n",
    "query_output = adspp_table.query( **query_input )\n",
    "\n",
    "#\n",
    "\n",
    "query_output_df = pd.DataFrame.from_dict( pd.json_normalize( query_output[ 'Items' ] ), orient = 'columns' )\n",
    "\n",
    "#\n",
    "\n",
    "i = 1 \n",
    "\n",
    "while ( 'LastEvaluatedKey' in query_output.keys() ) and ( i <= 10 ):\n",
    "\n",
    "    query_input[ 'ExclusiveStartKey' ] = query_output[ 'LastEvaluatedKey' ]\n",
    "    \n",
    "    query_output = adspp_table.query( **query_input )\n",
    "\n",
    "    temp_df = pd.DataFrame.from_dict( pd.json_normalize( query_output[ 'Items' ] ), orient = 'columns' )\n",
    "\n",
    "    query_output_df = pd.concat( [ query_output_df, temp_df ] )\n",
    "\n",
    "    i = i + 1"
   ]
  },
  {
   "cell_type": "code",
   "execution_count": 24,
   "id": "5a89ea5e-ec37-4730-a043-f515b55b341c",
   "metadata": {},
   "outputs": [
    {
     "data": {
      "text/html": [
       "<div>\n",
       "<style scoped>\n",
       "    .dataframe tbody tr th:only-of-type {\n",
       "        vertical-align: middle;\n",
       "    }\n",
       "\n",
       "    .dataframe tbody tr th {\n",
       "        vertical-align: top;\n",
       "    }\n",
       "\n",
       "    .dataframe thead th {\n",
       "        text-align: right;\n",
       "    }\n",
       "</style>\n",
       "<table border=\"1\" class=\"dataframe\">\n",
       "  <thead>\n",
       "    <tr style=\"text-align: right;\">\n",
       "      <th></th>\n",
       "    </tr>\n",
       "  </thead>\n",
       "  <tbody>\n",
       "  </tbody>\n",
       "</table>\n",
       "</div>"
      ],
      "text/plain": [
       "Empty DataFrame\n",
       "Columns: []\n",
       "Index: []"
      ]
     },
     "execution_count": 24,
     "metadata": {},
     "output_type": "execute_result"
    }
   ],
   "source": []
  },
  {
   "cell_type": "code",
   "execution_count": null,
   "id": "974647d5-e24a-482f-b6c8-d154432c9f04",
   "metadata": {},
   "outputs": [],
   "source": []
  }
 ],
 "metadata": {
  "kernelspec": {
   "display_name": "Python 3 (ipykernel)",
   "language": "python",
   "name": "python3"
  },
  "language_info": {
   "codemirror_mode": {
    "name": "ipython",
    "version": 3
   },
   "file_extension": ".py",
   "mimetype": "text/x-python",
   "name": "python",
   "nbconvert_exporter": "python",
   "pygments_lexer": "ipython3",
   "version": "3.10.12"
  }
 },
 "nbformat": 4,
 "nbformat_minor": 5
}
