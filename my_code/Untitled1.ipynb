{
 "cells": [
  {
   "cell_type": "code",
   "execution_count": 4,
   "id": "0086acdf-8a1d-4989-bab1-54e542ef3e65",
   "metadata": {},
   "outputs": [],
   "source": [
    "import CalculatedFieldSubroutines as cfs"
   ]
  },
  {
   "cell_type": "code",
   "execution_count": 5,
   "id": "b5f4cec4-143a-4eda-8047-3e1cd568d77a",
   "metadata": {},
   "outputs": [],
   "source": [
    "gmIDs = cfs.list_whitelisted_gmIDs_with_traffic_data()"
   ]
  },
  {
   "cell_type": "code",
   "execution_count": 6,
   "id": "37b57609-f5e5-4e73-84f0-9818b6173d43",
   "metadata": {},
   "outputs": [],
   "source": [
    "df = cfs.retrieve_gmID_preprocessed_moving_data( gmIDs[ 0 ], 10 )"
   ]
  },
  {
   "cell_type": "code",
   "execution_count": 7,
   "id": "d8c00281-0029-4675-9fa6-364ea3cf8d25",
   "metadata": {},
   "outputs": [
    {
     "name": "stdout",
     "output_type": "stream",
     "text": [
      "<class 'pandas.core.frame.DataFrame'>\n",
      "RangeIndex: 89802 entries, 0 to 89801\n",
      "Data columns (total 37 columns):\n",
      " #   Column                      Non-Null Count  Dtype  \n",
      "---  ------                      --------------  -----  \n",
      " 0   Ind                         89802 non-null  int64  \n",
      " 1   groupMetadataID             89802 non-null  object \n",
      " 2   time                        89802 non-null  int64  \n",
      " 3   NormalizedTime              89802 non-null  float64\n",
      " 4   BinaryDrivingMode           89802 non-null  int64  \n",
      " 5   BinaryDisengagement         89802 non-null  int64  \n",
      " 6   latitude                    89802 non-null  float64\n",
      " 7   longitude                   89802 non-null  float64\n",
      " 8   ProgressAlongRoute          89802 non-null  float64\n",
      " 9   solStatus                   89802 non-null  object \n",
      " 10  solType                     89802 non-null  object \n",
      " 11  extendedSolutionStatus      89802 non-null  int64  \n",
      " 12  numSatsInSolution           89802 non-null  int64  \n",
      " 13  speedMps                    89802 non-null  float64\n",
      " 14  Acceleration                89802 non-null  float64\n",
      " 15  brakePercentage             89802 non-null  float64\n",
      " 16  throttlePercentage          89802 non-null  float64\n",
      " 17  steeringPercentage          89802 non-null  float64\n",
      " 18  LatLonTotalStdDev           89802 non-null  float64\n",
      " 19  TernaryTurnSignal           89802 non-null  int64  \n",
      " 20  BinaryContainLights         89802 non-null  int64  \n",
      " 21  speedMps_mean               89802 non-null  float64\n",
      " 22  Acceleration_mean           89802 non-null  float64\n",
      " 23  brakePercentage_mean        89802 non-null  float64\n",
      " 24  throttlePercentage_mean     89802 non-null  float64\n",
      " 25  steeringPercentage_mean     89802 non-null  float64\n",
      " 26  LatLonTotalStdDev_mean      89802 non-null  float64\n",
      " 27  TernaryTurnSignal_mean      89802 non-null  float64\n",
      " 28  BinaryContainLights_mean    89802 non-null  float64\n",
      " 29  speedMps_stddev             89802 non-null  float64\n",
      " 30  Acceleration_stddev         89802 non-null  float64\n",
      " 31  brakePercentage_stddev      89802 non-null  float64\n",
      " 32  throttlePercentage_stddev   89802 non-null  float64\n",
      " 33  steeringPercentage_stddev   89802 non-null  float64\n",
      " 34  LatLonTotalStdDev_stddev    89802 non-null  float64\n",
      " 35  TernaryTurnSignal_stddev    89802 non-null  float64\n",
      " 36  BinaryContainLights_stddev  89802 non-null  float64\n",
      "dtypes: float64(26), int64(8), object(3)\n",
      "memory usage: 25.4+ MB\n"
     ]
    }
   ],
   "source": [
    "df.info()"
   ]
  },
  {
   "cell_type": "code",
   "execution_count": null,
   "id": "2b5d8b41-1e49-45e2-8c6b-57c18fe0ddc4",
   "metadata": {},
   "outputs": [],
   "source": []
  }
 ],
 "metadata": {
  "kernelspec": {
   "display_name": "Python 3 (ipykernel)",
   "language": "python",
   "name": "python3"
  },
  "language_info": {
   "codemirror_mode": {
    "name": "ipython",
    "version": 3
   },
   "file_extension": ".py",
   "mimetype": "text/x-python",
   "name": "python",
   "nbconvert_exporter": "python",
   "pygments_lexer": "ipython3",
   "version": "3.10.12"
  }
 },
 "nbformat": 4,
 "nbformat_minor": 5
}
