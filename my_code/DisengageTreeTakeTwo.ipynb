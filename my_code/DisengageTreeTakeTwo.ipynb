{
 "cells": [
  {
   "cell_type": "code",
   "execution_count": 42,
   "id": "cc065113-cec5-4014-8f2d-e89c162c8054",
   "metadata": {},
   "outputs": [],
   "source": [
    "import CalculatedFieldSubroutines as cfs\n",
    "import pandas as pd\n",
    "from CalculatedFieldSubroutines import BinaryDrivingMode\n",
    "import numpy as np\n",
    "import os\n",
    "from sklearn.metrics import confusion_matrix\n",
    "from sklearn.model_selection import train_test_split\n",
    "from sklearn.preprocessing import StandardScaler, OneHotEncoder\n",
    "from sklearn.neighbors import KNeighborsClassifier\n",
    "from sklearn.metrics import accuracy_score, classification_report, balanced_accuracy_score\n",
    "import matplotlib.pyplot as plt\n",
    "from sklearn.metrics import confusion_matrix, ConfusionMatrixDisplay"
   ]
  },
  {
   "cell_type": "code",
   "execution_count": 43,
   "id": "f6f3afb7-b617-45cd-b8c6-d248dcb2af24",
   "metadata": {},
   "outputs": [],
   "source": [
    "gmIDS=cfs.list_whitelisted_gmIDs_with_traffic_data()"
   ]
  },
  {
   "cell_type": "code",
   "execution_count": 44,
   "id": "5be278c6-b09d-47be-863c-df12473d9764",
   "metadata": {},
   "outputs": [],
   "source": [
    "RedgmIDs=[]\n",
    "for gmID in gmIDS:\n",
    "    if cfs.give_route(gmID)==\"Red\":\n",
    "        RedgmIDs.append(gmID)"
   ]
  },
  {
   "cell_type": "code",
   "execution_count": 45,
   "id": "40868486-f095-4c7b-be41-102ea09a153f",
   "metadata": {},
   "outputs": [],
   "source": [
    "final_df = pd.DataFrame()"
   ]
  },
  {
   "cell_type": "code",
   "execution_count": 46,
   "id": "7ba008e0-4c04-4224-b50d-f8059ba0a69a",
   "metadata": {},
   "outputs": [
    {
     "data": {
      "text/plain": [
       "67"
      ]
     },
     "execution_count": 46,
     "metadata": {},
     "output_type": "execute_result"
    }
   ],
   "source": [
    "len( RedgmIDs )"
   ]
  },
  {
   "cell_type": "code",
   "execution_count": 47,
   "id": "e4ba72a4-5803-4984-ad76-61a326b01f07",
   "metadata": {},
   "outputs": [
    {
     "name": "stdout",
     "output_type": "stream",
     "text": [
      "53\n",
      "14\n"
     ]
    }
   ],
   "source": [
    "training_RedgmIDs_num = int(len( RedgmIDs ) * .8)\n",
    "test_RedgmIDs_num = len( RedgmIDs) - training_RedgmIDs_num\n",
    "print( training_RedgmIDs_num )\n",
    "print( test_RedgmIDs_num )"
   ]
  },
  {
   "cell_type": "code",
   "execution_count": 48,
   "id": "d4022847-74c6-4a83-8fca-cf065128e7b7",
   "metadata": {},
   "outputs": [],
   "source": [
    "red_training_dfs = [\n",
    "'61b12e7a-f234-11ee-bb33-fb353e7798cd',\n",
    "'fcc6fcd2-f013-11ee-b966-fb353e7798cd',\n",
    "'05c7c824-cab8-11ee-aa4d-1d66adf2f0c7',\n",
    "'211bdb36-f0da-11ee-ba1b-fb353e7798cd',\n",
    "'868de15e-f3b3-11ee-bb4e-fb353e7798cd',\n",
    "'72a03d4a-efe9-11ee-b966-fb353e7798cd',\n",
    "'7fb7b9c0-c881-11ee-a7fc-dd032dba19e8',\n",
    "'96f7a614-f549-11ee-8afa-cb629b0d53e6',\n",
    "'1bbbfbae-c839-11ee-a7fc-dd032dba19e8',\n",
    "'622bd2e8-f0e4-11ee-ba1f-fb353e7798cd',\n",
    "'9798fe24-f143-11ee-ba78-fb353e7798cd',\n",
    "'88dd6fbe-f224-11ee-bb21-fb353e7798cd',\n",
    "'c9c6856c-d33c-11ee-b437-336917683bb8',\n",
    "'d12cd1c4-caec-11ee-909c-e1dc60cf66f9',\n",
    "'817d6848-efb6-11ee-b966-fb353e7798cd',\n",
    "'1b6aca0e-efdf-11ee-b966-fb353e7798cd',\n",
    "'41b67a28-f52f-11ee-8afa-cb629b0d53e6',\n",
    "'fc211bb2-efca-11ee-b966-fb353e7798cd',\n",
    "'84d96f18-f214-11ee-bb13-fb353e7798cd',\n",
    "'fe973c9c-f53c-11ee-8afa-cb629b0d53e6',\n",
    "'3151e9e2-eff3-11ee-b966-fb353e7798cd',\n",
    "'c0555ef0-f50f-11ee-8afa-cb629b0d53e6',\n",
    "'f711e68e-f0e1-11ee-ba1f-fb353e7798cd',\n",
    "'c338788a-d324-11ee-b437-336917683bb8',\n",
    "'d21965e6-f0fa-11ee-ba37-fb353e7798cd',\n",
    "'88a68dd8-eef9-11ee-9385-ef789ffde1d3',\n",
    "'f41cbd44-eff8-11ee-b966-fb353e7798cd',\n",
    "'43a1a35e-f362-11ee-bb4e-fb353e7798cd',\n",
    "'6d2ea45a-c839-11ee-a7fc-dd032dba19e8',\n",
    "'01e65360-efd4-11ee-b966-fb353e7798cd',\n",
    "'7cbd932e-f244-11ee-bb3f-fb353e7798cd',\n",
    "'65cfbfd6-f396-11ee-bb4e-fb353e7798cd',\n",
    "'94c53148-eeed-11ee-9385-ef789ffde1d3',\n",
    "'fd1ab258-efa7-11ee-b966-fb353e7798cd',\n",
    "'e7b934a8-ef1a-11ee-9385-ef789ffde1d3',\n",
    "'de933de8-f112-11ee-ba4d-fb353e7798cd',\n",
    "'d3698592-ef9d-11ee-b966-fb353e7798cd',\n",
    "'dd72fdec-f0cf-11ee-ba0d-fb353e7798cd',\n",
    "'b82476fe-f1f3-11ee-baff-fb353e7798cd',\n",
    "'f755cf60-f132-11ee-ba6d-fb353e7798cd',\n",
    "'853ef120-cad3-11ee-909c-e1dc60cf66f9',\n",
    "'f0eebb6a-f0dc-11ee-ba1e-fb353e7798cd',\n",
    "'cf831f42-f353-11ee-bb4e-fb353e7798cd',\n",
    "'ecebb942-f162-11ee-ba97-fb353e7798cd',\n",
    "'219f7eb8-ef87-11ee-b966-fb353e7798cd',\n",
    "'d24820c8-f197-11ee-babe-fb353e7798cd',\n",
    "'3d2d29ec-ef95-11ee-b966-fb353e7798cd',\n",
    "'457dc5ee-f02a-11ee-b966-fb353e7798cd',\n",
    "'2462c9d0-eecd-11ee-9385-ef789ffde1d3',\n",
    "'51ef6da6-ca9f-11ee-909c-e1dc60cf66f9',\n",
    "'c25271be-f3a4-11ee-bb4e-fb353e7798cd',\n",
    "'8347b862-efad-11ee-b966-fb353e7798cd',\n",
    "'8dbbbf1c-f0ef-11ee-ba29-fb353e7798cd',\n",
    "'9189a2a8-f121-11ee-ba5b-fb353e7798cd',\n",
    "'8fa6fe80-c869-11ee-a7fc-dd032dba19e8' ]\n",
    "\n",
    "red_testing_dfs = [\n",
    "'35518ec4-f153-11ee-ba88-fb353e7798cd',\n",
    "'2f95c748-f009-11ee-b966-fb353e7798cd',\n",
    "'8437f77a-cab7-11ee-909c-e1dc60cf66f9',\n",
    "'2a61b8a8-f528-11ee-8afa-cb629b0d53e6',\n",
    "'5a4bccf4-effe-11ee-b966-fb353e7798cd'\n",
    "]"
   ]
  },
  {
   "cell_type": "code",
   "execution_count": 49,
   "id": "9caa9a88-3ca8-4a92-9777-b96c382487b8",
   "metadata": {},
   "outputs": [
    {
     "data": {
      "text/plain": [
       "5"
      ]
     },
     "execution_count": 49,
     "metadata": {},
     "output_type": "execute_result"
    }
   ],
   "source": [
    "len( red_testing_dfs )"
   ]
  },
  {
   "cell_type": "code",
   "execution_count": 50,
   "id": "6aa5e13c-d5d6-47c5-9469-8c3ca6cb2697",
   "metadata": {},
   "outputs": [
    {
     "ename": "FileNotFoundError",
     "evalue": "[Errno 2] No such file or directory: '/home/ddrobnjak_linux/Desktop/TDMprivate/Preprocessed_Moving_Data/10sec_Window/fc211bb2-efca-11ee-b966-fb353e7798cd/fc211bb2-efca-11ee-b966-fb353e7798cd_10sec.csv'",
     "output_type": "error",
     "traceback": [
      "\u001b[0;31m---------------------------------------------------------------------------\u001b[0m",
      "\u001b[0;31mFileNotFoundError\u001b[0m                         Traceback (most recent call last)",
      "Cell \u001b[0;32mIn[50], line 3\u001b[0m\n\u001b[1;32m      1\u001b[0m seconds \u001b[38;5;241m=\u001b[39m \u001b[38;5;241m10\u001b[39m\n\u001b[1;32m      2\u001b[0m \u001b[38;5;28;01mfor\u001b[39;00m \u001b[38;5;28mid\u001b[39m \u001b[38;5;129;01min\u001b[39;00m red_training_dfs:\n\u001b[0;32m----> 3\u001b[0m     \u001b[43mcfs\u001b[49m\u001b[38;5;241;43m.\u001b[39;49m\u001b[43mretrieve_gmID_preprocessed_moving_data\u001b[49m\u001b[43m(\u001b[49m\u001b[38;5;28;43mid\u001b[39;49m\u001b[43m,\u001b[49m\u001b[43mseconds\u001b[49m\u001b[43m)\u001b[49m\n",
      "File \u001b[0;32m~/Desktop/TDMprivate/my_code/CalculatedFieldSubroutines.py:1383\u001b[0m, in \u001b[0;36mretrieve_gmID_preprocessed_moving_data\u001b[0;34m(gmID, window_seconds)\u001b[0m\n\u001b[1;32m   1379\u001b[0m \u001b[38;5;28;01mdef\u001b[39;00m \u001b[38;5;21mretrieve_gmID_preprocessed_moving_data\u001b[39m( gmID, window_seconds ):\n\u001b[1;32m   1381\u001b[0m     path \u001b[38;5;241m=\u001b[39m \u001b[38;5;124mf\u001b[39m\u001b[38;5;124m'\u001b[39m\u001b[38;5;132;01m{\u001b[39;00m\u001b[38;5;250m \u001b[39morigin_dir()\u001b[38;5;250m \u001b[39m\u001b[38;5;132;01m}\u001b[39;00m\u001b[38;5;124m/Preprocessed_Moving_Data/\u001b[39m\u001b[38;5;132;01m{\u001b[39;00m\u001b[38;5;250m \u001b[39mwindow_seconds\u001b[38;5;250m \u001b[39m\u001b[38;5;132;01m}\u001b[39;00m\u001b[38;5;124msec_Window/\u001b[39m\u001b[38;5;132;01m{\u001b[39;00m\u001b[38;5;250m \u001b[39mgmID\u001b[38;5;250m \u001b[39m\u001b[38;5;132;01m}\u001b[39;00m\u001b[38;5;124m/\u001b[39m\u001b[38;5;132;01m{\u001b[39;00m\u001b[38;5;250m \u001b[39mgmID\u001b[38;5;250m \u001b[39m\u001b[38;5;132;01m}\u001b[39;00m\u001b[38;5;124m_\u001b[39m\u001b[38;5;132;01m{\u001b[39;00m\u001b[38;5;250m \u001b[39mwindow_seconds\u001b[38;5;250m \u001b[39m\u001b[38;5;132;01m}\u001b[39;00m\u001b[38;5;124msec.csv\u001b[39m\u001b[38;5;124m'\u001b[39m\n\u001b[0;32m-> 1383\u001b[0m     gmID_preprocessed_moving_data_df \u001b[38;5;241m=\u001b[39m \u001b[43mpd\u001b[49m\u001b[38;5;241;43m.\u001b[39;49m\u001b[43mread_csv\u001b[49m\u001b[43m(\u001b[49m\u001b[43m \u001b[49m\u001b[43mpath\u001b[49m\u001b[43m \u001b[49m\u001b[43m)\u001b[49m\n\u001b[1;32m   1385\u001b[0m     \u001b[38;5;28;01mreturn\u001b[39;00m gmID_preprocessed_moving_data_df\n",
      "File \u001b[0;32m~/do-env/lib/python3.10/site-packages/pandas/io/parsers/readers.py:1026\u001b[0m, in \u001b[0;36mread_csv\u001b[0;34m(filepath_or_buffer, sep, delimiter, header, names, index_col, usecols, dtype, engine, converters, true_values, false_values, skipinitialspace, skiprows, skipfooter, nrows, na_values, keep_default_na, na_filter, verbose, skip_blank_lines, parse_dates, infer_datetime_format, keep_date_col, date_parser, date_format, dayfirst, cache_dates, iterator, chunksize, compression, thousands, decimal, lineterminator, quotechar, quoting, doublequote, escapechar, comment, encoding, encoding_errors, dialect, on_bad_lines, delim_whitespace, low_memory, memory_map, float_precision, storage_options, dtype_backend)\u001b[0m\n\u001b[1;32m   1013\u001b[0m kwds_defaults \u001b[38;5;241m=\u001b[39m _refine_defaults_read(\n\u001b[1;32m   1014\u001b[0m     dialect,\n\u001b[1;32m   1015\u001b[0m     delimiter,\n\u001b[0;32m   (...)\u001b[0m\n\u001b[1;32m   1022\u001b[0m     dtype_backend\u001b[38;5;241m=\u001b[39mdtype_backend,\n\u001b[1;32m   1023\u001b[0m )\n\u001b[1;32m   1024\u001b[0m kwds\u001b[38;5;241m.\u001b[39mupdate(kwds_defaults)\n\u001b[0;32m-> 1026\u001b[0m \u001b[38;5;28;01mreturn\u001b[39;00m \u001b[43m_read\u001b[49m\u001b[43m(\u001b[49m\u001b[43mfilepath_or_buffer\u001b[49m\u001b[43m,\u001b[49m\u001b[43m \u001b[49m\u001b[43mkwds\u001b[49m\u001b[43m)\u001b[49m\n",
      "File \u001b[0;32m~/do-env/lib/python3.10/site-packages/pandas/io/parsers/readers.py:620\u001b[0m, in \u001b[0;36m_read\u001b[0;34m(filepath_or_buffer, kwds)\u001b[0m\n\u001b[1;32m    617\u001b[0m _validate_names(kwds\u001b[38;5;241m.\u001b[39mget(\u001b[38;5;124m\"\u001b[39m\u001b[38;5;124mnames\u001b[39m\u001b[38;5;124m\"\u001b[39m, \u001b[38;5;28;01mNone\u001b[39;00m))\n\u001b[1;32m    619\u001b[0m \u001b[38;5;66;03m# Create the parser.\u001b[39;00m\n\u001b[0;32m--> 620\u001b[0m parser \u001b[38;5;241m=\u001b[39m \u001b[43mTextFileReader\u001b[49m\u001b[43m(\u001b[49m\u001b[43mfilepath_or_buffer\u001b[49m\u001b[43m,\u001b[49m\u001b[43m \u001b[49m\u001b[38;5;241;43m*\u001b[39;49m\u001b[38;5;241;43m*\u001b[39;49m\u001b[43mkwds\u001b[49m\u001b[43m)\u001b[49m\n\u001b[1;32m    622\u001b[0m \u001b[38;5;28;01mif\u001b[39;00m chunksize \u001b[38;5;129;01mor\u001b[39;00m iterator:\n\u001b[1;32m    623\u001b[0m     \u001b[38;5;28;01mreturn\u001b[39;00m parser\n",
      "File \u001b[0;32m~/do-env/lib/python3.10/site-packages/pandas/io/parsers/readers.py:1620\u001b[0m, in \u001b[0;36mTextFileReader.__init__\u001b[0;34m(self, f, engine, **kwds)\u001b[0m\n\u001b[1;32m   1617\u001b[0m     \u001b[38;5;28mself\u001b[39m\u001b[38;5;241m.\u001b[39moptions[\u001b[38;5;124m\"\u001b[39m\u001b[38;5;124mhas_index_names\u001b[39m\u001b[38;5;124m\"\u001b[39m] \u001b[38;5;241m=\u001b[39m kwds[\u001b[38;5;124m\"\u001b[39m\u001b[38;5;124mhas_index_names\u001b[39m\u001b[38;5;124m\"\u001b[39m]\n\u001b[1;32m   1619\u001b[0m \u001b[38;5;28mself\u001b[39m\u001b[38;5;241m.\u001b[39mhandles: IOHandles \u001b[38;5;241m|\u001b[39m \u001b[38;5;28;01mNone\u001b[39;00m \u001b[38;5;241m=\u001b[39m \u001b[38;5;28;01mNone\u001b[39;00m\n\u001b[0;32m-> 1620\u001b[0m \u001b[38;5;28mself\u001b[39m\u001b[38;5;241m.\u001b[39m_engine \u001b[38;5;241m=\u001b[39m \u001b[38;5;28;43mself\u001b[39;49m\u001b[38;5;241;43m.\u001b[39;49m\u001b[43m_make_engine\u001b[49m\u001b[43m(\u001b[49m\u001b[43mf\u001b[49m\u001b[43m,\u001b[49m\u001b[43m \u001b[49m\u001b[38;5;28;43mself\u001b[39;49m\u001b[38;5;241;43m.\u001b[39;49m\u001b[43mengine\u001b[49m\u001b[43m)\u001b[49m\n",
      "File \u001b[0;32m~/do-env/lib/python3.10/site-packages/pandas/io/parsers/readers.py:1880\u001b[0m, in \u001b[0;36mTextFileReader._make_engine\u001b[0;34m(self, f, engine)\u001b[0m\n\u001b[1;32m   1878\u001b[0m     \u001b[38;5;28;01mif\u001b[39;00m \u001b[38;5;124m\"\u001b[39m\u001b[38;5;124mb\u001b[39m\u001b[38;5;124m\"\u001b[39m \u001b[38;5;129;01mnot\u001b[39;00m \u001b[38;5;129;01min\u001b[39;00m mode:\n\u001b[1;32m   1879\u001b[0m         mode \u001b[38;5;241m+\u001b[39m\u001b[38;5;241m=\u001b[39m \u001b[38;5;124m\"\u001b[39m\u001b[38;5;124mb\u001b[39m\u001b[38;5;124m\"\u001b[39m\n\u001b[0;32m-> 1880\u001b[0m \u001b[38;5;28mself\u001b[39m\u001b[38;5;241m.\u001b[39mhandles \u001b[38;5;241m=\u001b[39m \u001b[43mget_handle\u001b[49m\u001b[43m(\u001b[49m\n\u001b[1;32m   1881\u001b[0m \u001b[43m    \u001b[49m\u001b[43mf\u001b[49m\u001b[43m,\u001b[49m\n\u001b[1;32m   1882\u001b[0m \u001b[43m    \u001b[49m\u001b[43mmode\u001b[49m\u001b[43m,\u001b[49m\n\u001b[1;32m   1883\u001b[0m \u001b[43m    \u001b[49m\u001b[43mencoding\u001b[49m\u001b[38;5;241;43m=\u001b[39;49m\u001b[38;5;28;43mself\u001b[39;49m\u001b[38;5;241;43m.\u001b[39;49m\u001b[43moptions\u001b[49m\u001b[38;5;241;43m.\u001b[39;49m\u001b[43mget\u001b[49m\u001b[43m(\u001b[49m\u001b[38;5;124;43m\"\u001b[39;49m\u001b[38;5;124;43mencoding\u001b[39;49m\u001b[38;5;124;43m\"\u001b[39;49m\u001b[43m,\u001b[49m\u001b[43m \u001b[49m\u001b[38;5;28;43;01mNone\u001b[39;49;00m\u001b[43m)\u001b[49m\u001b[43m,\u001b[49m\n\u001b[1;32m   1884\u001b[0m \u001b[43m    \u001b[49m\u001b[43mcompression\u001b[49m\u001b[38;5;241;43m=\u001b[39;49m\u001b[38;5;28;43mself\u001b[39;49m\u001b[38;5;241;43m.\u001b[39;49m\u001b[43moptions\u001b[49m\u001b[38;5;241;43m.\u001b[39;49m\u001b[43mget\u001b[49m\u001b[43m(\u001b[49m\u001b[38;5;124;43m\"\u001b[39;49m\u001b[38;5;124;43mcompression\u001b[39;49m\u001b[38;5;124;43m\"\u001b[39;49m\u001b[43m,\u001b[49m\u001b[43m \u001b[49m\u001b[38;5;28;43;01mNone\u001b[39;49;00m\u001b[43m)\u001b[49m\u001b[43m,\u001b[49m\n\u001b[1;32m   1885\u001b[0m \u001b[43m    \u001b[49m\u001b[43mmemory_map\u001b[49m\u001b[38;5;241;43m=\u001b[39;49m\u001b[38;5;28;43mself\u001b[39;49m\u001b[38;5;241;43m.\u001b[39;49m\u001b[43moptions\u001b[49m\u001b[38;5;241;43m.\u001b[39;49m\u001b[43mget\u001b[49m\u001b[43m(\u001b[49m\u001b[38;5;124;43m\"\u001b[39;49m\u001b[38;5;124;43mmemory_map\u001b[39;49m\u001b[38;5;124;43m\"\u001b[39;49m\u001b[43m,\u001b[49m\u001b[43m \u001b[49m\u001b[38;5;28;43;01mFalse\u001b[39;49;00m\u001b[43m)\u001b[49m\u001b[43m,\u001b[49m\n\u001b[1;32m   1886\u001b[0m \u001b[43m    \u001b[49m\u001b[43mis_text\u001b[49m\u001b[38;5;241;43m=\u001b[39;49m\u001b[43mis_text\u001b[49m\u001b[43m,\u001b[49m\n\u001b[1;32m   1887\u001b[0m \u001b[43m    \u001b[49m\u001b[43merrors\u001b[49m\u001b[38;5;241;43m=\u001b[39;49m\u001b[38;5;28;43mself\u001b[39;49m\u001b[38;5;241;43m.\u001b[39;49m\u001b[43moptions\u001b[49m\u001b[38;5;241;43m.\u001b[39;49m\u001b[43mget\u001b[49m\u001b[43m(\u001b[49m\u001b[38;5;124;43m\"\u001b[39;49m\u001b[38;5;124;43mencoding_errors\u001b[39;49m\u001b[38;5;124;43m\"\u001b[39;49m\u001b[43m,\u001b[49m\u001b[43m \u001b[49m\u001b[38;5;124;43m\"\u001b[39;49m\u001b[38;5;124;43mstrict\u001b[39;49m\u001b[38;5;124;43m\"\u001b[39;49m\u001b[43m)\u001b[49m\u001b[43m,\u001b[49m\n\u001b[1;32m   1888\u001b[0m \u001b[43m    \u001b[49m\u001b[43mstorage_options\u001b[49m\u001b[38;5;241;43m=\u001b[39;49m\u001b[38;5;28;43mself\u001b[39;49m\u001b[38;5;241;43m.\u001b[39;49m\u001b[43moptions\u001b[49m\u001b[38;5;241;43m.\u001b[39;49m\u001b[43mget\u001b[49m\u001b[43m(\u001b[49m\u001b[38;5;124;43m\"\u001b[39;49m\u001b[38;5;124;43mstorage_options\u001b[39;49m\u001b[38;5;124;43m\"\u001b[39;49m\u001b[43m,\u001b[49m\u001b[43m \u001b[49m\u001b[38;5;28;43;01mNone\u001b[39;49;00m\u001b[43m)\u001b[49m\u001b[43m,\u001b[49m\n\u001b[1;32m   1889\u001b[0m \u001b[43m\u001b[49m\u001b[43m)\u001b[49m\n\u001b[1;32m   1890\u001b[0m \u001b[38;5;28;01massert\u001b[39;00m \u001b[38;5;28mself\u001b[39m\u001b[38;5;241m.\u001b[39mhandles \u001b[38;5;129;01mis\u001b[39;00m \u001b[38;5;129;01mnot\u001b[39;00m \u001b[38;5;28;01mNone\u001b[39;00m\n\u001b[1;32m   1891\u001b[0m f \u001b[38;5;241m=\u001b[39m \u001b[38;5;28mself\u001b[39m\u001b[38;5;241m.\u001b[39mhandles\u001b[38;5;241m.\u001b[39mhandle\n",
      "File \u001b[0;32m~/do-env/lib/python3.10/site-packages/pandas/io/common.py:873\u001b[0m, in \u001b[0;36mget_handle\u001b[0;34m(path_or_buf, mode, encoding, compression, memory_map, is_text, errors, storage_options)\u001b[0m\n\u001b[1;32m    868\u001b[0m \u001b[38;5;28;01melif\u001b[39;00m \u001b[38;5;28misinstance\u001b[39m(handle, \u001b[38;5;28mstr\u001b[39m):\n\u001b[1;32m    869\u001b[0m     \u001b[38;5;66;03m# Check whether the filename is to be opened in binary mode.\u001b[39;00m\n\u001b[1;32m    870\u001b[0m     \u001b[38;5;66;03m# Binary mode does not support 'encoding' and 'newline'.\u001b[39;00m\n\u001b[1;32m    871\u001b[0m     \u001b[38;5;28;01mif\u001b[39;00m ioargs\u001b[38;5;241m.\u001b[39mencoding \u001b[38;5;129;01mand\u001b[39;00m \u001b[38;5;124m\"\u001b[39m\u001b[38;5;124mb\u001b[39m\u001b[38;5;124m\"\u001b[39m \u001b[38;5;129;01mnot\u001b[39;00m \u001b[38;5;129;01min\u001b[39;00m ioargs\u001b[38;5;241m.\u001b[39mmode:\n\u001b[1;32m    872\u001b[0m         \u001b[38;5;66;03m# Encoding\u001b[39;00m\n\u001b[0;32m--> 873\u001b[0m         handle \u001b[38;5;241m=\u001b[39m \u001b[38;5;28;43mopen\u001b[39;49m\u001b[43m(\u001b[49m\n\u001b[1;32m    874\u001b[0m \u001b[43m            \u001b[49m\u001b[43mhandle\u001b[49m\u001b[43m,\u001b[49m\n\u001b[1;32m    875\u001b[0m \u001b[43m            \u001b[49m\u001b[43mioargs\u001b[49m\u001b[38;5;241;43m.\u001b[39;49m\u001b[43mmode\u001b[49m\u001b[43m,\u001b[49m\n\u001b[1;32m    876\u001b[0m \u001b[43m            \u001b[49m\u001b[43mencoding\u001b[49m\u001b[38;5;241;43m=\u001b[39;49m\u001b[43mioargs\u001b[49m\u001b[38;5;241;43m.\u001b[39;49m\u001b[43mencoding\u001b[49m\u001b[43m,\u001b[49m\n\u001b[1;32m    877\u001b[0m \u001b[43m            \u001b[49m\u001b[43merrors\u001b[49m\u001b[38;5;241;43m=\u001b[39;49m\u001b[43merrors\u001b[49m\u001b[43m,\u001b[49m\n\u001b[1;32m    878\u001b[0m \u001b[43m            \u001b[49m\u001b[43mnewline\u001b[49m\u001b[38;5;241;43m=\u001b[39;49m\u001b[38;5;124;43m\"\u001b[39;49m\u001b[38;5;124;43m\"\u001b[39;49m\u001b[43m,\u001b[49m\n\u001b[1;32m    879\u001b[0m \u001b[43m        \u001b[49m\u001b[43m)\u001b[49m\n\u001b[1;32m    880\u001b[0m     \u001b[38;5;28;01melse\u001b[39;00m:\n\u001b[1;32m    881\u001b[0m         \u001b[38;5;66;03m# Binary mode\u001b[39;00m\n\u001b[1;32m    882\u001b[0m         handle \u001b[38;5;241m=\u001b[39m \u001b[38;5;28mopen\u001b[39m(handle, ioargs\u001b[38;5;241m.\u001b[39mmode)\n",
      "\u001b[0;31mFileNotFoundError\u001b[0m: [Errno 2] No such file or directory: '/home/ddrobnjak_linux/Desktop/TDMprivate/Preprocessed_Moving_Data/10sec_Window/fc211bb2-efca-11ee-b966-fb353e7798cd/fc211bb2-efca-11ee-b966-fb353e7798cd_10sec.csv'"
     ]
    }
   ],
   "source": [
    "seconds = 10\n",
    "for id in red_training_dfs:\n",
    "    cfs.retrieve_gmID_preprocessed_moving_data(id,seconds)\n",
    "    "
   ]
  },
  {
   "cell_type": "code",
   "execution_count": null,
   "id": "134da1b6-7d0b-4326-a7b5-a7dc8e11e8e9",
   "metadata": {},
   "outputs": [],
   "source": [
    "# Convert the list to a pandas DataFrame\n",
    "RedgmIDs_DF = pd.DataFrame({'gmids': RedgmIDs})\n",
    "\n",
    "# Randomly sample 77 gmids\n",
    "Training_RedgmIDs_DF = RedgmIDs_DF.sample(n=77, random_state=42)\n",
    "\n",
    "# Get the remaining 20 gmids\n",
    "Test_RedgmIDs_DF = RedgmIDs_DF.drop(Training_RedgmIDs_DF.index)\n",
    "\n",
    "# Print the results\n",
    "print(\"Training Set (77 GMIDs):\")\n",
    "print(Training_RedgmIDs_DF)\n",
    "print(\"\\nTest Set (20 GMIDs):\")\n",
    "print(Test_RedgmIDs_DF)"
   ]
  },
  {
   "cell_type": "code",
   "execution_count": null,
   "id": "2362b512-b625-4384-a9ee-1a24e178c27f",
   "metadata": {},
   "outputs": [],
   "source": [
    "final_df = pd.DataFrame()"
   ]
  },
  {
   "cell_type": "code",
   "execution_count": null,
   "id": "b87862db-b219-48cf-b42f-4c12edd60555",
   "metadata": {},
   "outputs": [],
   "source": [
    "for gmID in RedgmIDs:\n",
    "    gmID_best_pose_df = cfs.retrieve_gmID_topic( gmID, '/apollo/sensor/gnss/best/pose' )\n",
    "    gmID_chassis_df = cfs.retrieve_gmID_topic( gmID, '/apollo/canbus/chassis')\n",
    "    gmID_chassis_df = gmID_chassis_df.sort_values(\"time\")\n",
    "    gmID_best_pose_df = gmID_best_pose_df.sort_values(\"time\")\n",
    "\n",
    "    cfs.BinaryDrivingMode(gmID_chassis_df)\n",
    "    cfs.TernaryDrivingModeTransition(gmID_chassis_df)\n",
    "    cfs.LatLonTotalStdDev(gmID_best_pose_df)\n",
    "    \n",
    "    cfs.ChassisBestPoseMatchedTime(gmID_chassis_df, gmID_best_pose_df)\n",
    "    merged_df = pd.merge(gmID_chassis_df, gmID_best_pose_df, on='ChassisBestPoseMatchedTime')\n",
    "    final_df = pd.concat([final_df,merged_df])"
   ]
  },
  {
   "cell_type": "code",
   "execution_count": null,
   "id": "241a585d-562c-43ea-9104-094c12b59f7f",
   "metadata": {},
   "outputs": [],
   "source": [
    "Training_RedgmIDs_DF = (\n",
    "'7228e03a-ebf0-11ee-b297-3b0ad9d5d6c6',\n",
    "'8c57e8ac-dbec-11ee-a158-97f8443fd730',\n",
    "'17876fec-ea66-11ee-b297-3b0ad9d5d6c6',\n",
    "'d1d090d4-ea7c-11ee-b297-3b0ad9d5d6c6',\n",
    "'ed7f2038-ea1e-11ee-b297-3b0ad9d5d6c6',\n",
    "'6af236d6-d98f-11ee-a158-97f8443fd730',\n",
    "'64737d98-d312-11ee-b437-336917683bb8',\n",
    "'5240e750-ec30-11ee-b297-3b0ad9d5d6c6',\n",
    "'7613801a-edcb-11ee-9385-ef789ffde1d3',\n",
    "'68c289fa-dbd4-11ee-a158-97f8443fd730',\n",
    "'76683d3c-db18-11ee-a158-97f8443fd730',\n",
    "'69ab88ec-dc17-11ee-a158-97f8443fd730',\n",
    "'7f09f6c6-a5b0-11ee-88ec-eb6a8d5269b4',\n",
    "'3d2a80f0-ec81-11ee-b297-3b0ad9d5d6c6',\n",
    "'feaf2ba8-d28d-11ee-b437-336917683bb8',\n",
    "'e2079a78-dc1d-11ee-a158-97f8443fd730',\n",
    "'b224ef9c-ec10-11ee-b297-3b0ad9d5d6c6',\n",
    "'ba28b352-ec8f-11ee-b297-3b0ad9d5d6c6',\n",
    "'59c189d8-ed54-11ee-9385-ef789ffde1d3',\n",
    "'2d35c522-eba2-11ee-b297-3b0ad9d5d6c6',\n",
    "'3343fd3c-eb87-11ee-b297-3b0ad9d5d6c6',\n",
    "'c0624e24-d9aa-11ee-a158-97f8443fd730',\n",
    "'a253145a-d2a6-11ee-b437-336917683bb8',\n",
    "'9830d896-d2dc-11ee-b437-336917683bb8',\n",
    "'aa86a660-dc05-11ee-a158-97f8443fd730',\n",
    "'90101c36-a621-11ee-88ec-eb6a8d5269b4',\n",
    "'82d39c74-ea59-11ee-b297-3b0ad9d5d6c6',\n",
    "'f9d62032-db2a-11ee-a158-97f8443fd730',\n",
    "'af10e22a-ebb1-11ee-b297-3b0ad9d5d6c6',\n",
    "'47561998-d9c3-11ee-a158-97f8443fd730',\n",
    "'64875cc0-d054-11ee-9435-f7e542e2436c',\n",
    "'df8e3742-ec54-11ee-b297-3b0ad9d5d6c6',\n",
    "'3a2a78cc-db21-11ee-a158-97f8443fd730',\n",
    "'21a9830-ece6-11ee-b297-3b0ad9d5d6c6',\n",
    "'2bc6ebb8-a529-11ee-88ec-eb6a8d5269b4',\n",
    "'4d0254fc-ec73-11ee-b297-3b0ad9d5d6c6',\n",
    "'dc39aa14-db32-11ee-a158-97f8443fd730',\n",
    "'25d3bdc8-ecbc-11ee-b297-3b0ad9d5d6c6',\n",
    "'8b6a6cfc-ed6d-11ee-9385-ef789ffde1d3',\n",
    "'e6d7d384-db40-11ee-a158-97f8443fd730',\n",
    "'a17c1280-ea10-11ee-b297-3b0ad9d5d6c6',\n",
    "'36663b02-ea87-11ee-b297-3b0ad9d5d6c6',\n",
    "'71a18322-ecab-11ee-b297-3b0ad9d5d6c6',\n",
    "'cf6fdf3a-eaa3-11ee-b297-3b0ad9d5d6c6',\n",
    "'57d240d6-ea4d-11ee-b297-3b0ad9d5d6c6',\n",
    "'baf0e4be-bede-11ee-835b-599066b5eb60',\n",
    "'530de03a-ed79-11ee-9385-ef789ffde1d3',\n",
    "'43914d48-ed85-11ee-9385-ef789ffde1d3',\n",
    "'a7c98b32-ebc2-11ee-b297-3b0ad9d5d6c6',\n",
    "'fc119dfc-eb67-11ee-b297-3b0ad9d5d6c6',\n",
    "'c7c02bda-ebe0-11ee-b297-3b0ad9d5d6c6',\n",
    "'39ba7438-d0d5-11ee-9435-f7e542e2436c',\n",
    "'e8a8b2be-edbf-11ee-9385-ef789ffde1d3',\n",
    "'3ea96640-ea37-11ee-b297-3b0ad9d5d6c6',\n",
    "'21376e38-ec01-11ee-b297-3b0ad9d5d6c6',\n",
    "'513a670c-eea9-11ee-9385-ef789ffde1d3',\n",
    "'06cbdbc0-db4d-11ee-a158-97f8443fd730',\n",
    "'559495ca-d270-11ee-b437-336917683bb8',\n",
    "'04151804-ec20-11ee-b297-3b0ad9d5d6c6',\n",
    "'d62ee6e8-ed02-11ee-9385-ef789ffde1d3',\n",
    "'154fab12-a43f-11ee-88ec-eb6a8d5269b4',\n",
    "'58263e34-a45c-11ee-88ec-eb6a8d5269b4',\n",
    "'acd71bc0-ecf4-11ee-9385-ef789ffde1d3',\n",
    "'3441fc36-ecca-11ee-b297-3b0ad9d5d6c6',\n",
    "'f671c05c-a5e4-11ee-88ec-eb6a8d5269b4',\n",
    "'c8f54ac0-ebd2-11ee-b297-3b0ad9d5d6c6',\n",
    "'326699c2-ecd8-11ee-b297-3b0ad9d5d6c6',\n",
    "'3ce8a358-edd8-11ee-9385-ef789ffde1d3',\n",
    "'286c70cc-d2f7-11ee-b437-336917683bb8',\n",
    "'20cbfe8c-ea2b-11ee-b297-3b0ad9d5d6c6',\n",
    "'c9023e32-ed90-11ee-9385-ef789ffde1d3',\n",
    "'f0bcec4e-ed3e-11ee-9385-ef789ffde1d3',\n",
    "'d94ef300-ed60-11ee-9385-ef789ffde1d3',\n",
    "'e269948a-ed9d-11ee-9385-ef789ffde1d3',\n",
    "'f6ac3c82-a445-11ee-88ec-eb6a8d5269b4',\n",
    "'80340ab8-d054-11ee-9435-f7e542e2436c',\n",
    "'b76f33be-ea61-11ee-b297-3b0ad9d5d6c6')\n",
    "\n",
    "Test_RedgmIDs_DF = (\n",
    "'da853e0c-a10f-11ee-981c-d126ddbe9afa',\n",
    "'19b7ebd0-d9b7-11ee-a158-97f8443fd730',\n",
    "'cb205756-ec43-11ee-b297-3b0ad9d5d6c6',\n",
    "'64bbe8e0-eb94-11ee-b297-3b0ad9d5d6c6',\n",
    "'e9d67bf2-ec35-11ee-b297-3b0ad9d5d6c6',\n",
    "'787d9684-d2c2-11ee-b437-336917683bb8',\n",
    "'0f4f0a06-ea98-11ee-b297-3b0ad9d5d6c6',\n",
    "'5f6573ba-ed2f-11ee-9385-ef789ffde1d3',\n",
    "'60546ef4-edaa-11ee-9385-ef789ffde1d3',\n",
    "'20f0b890-ec64-11ee-b297-3b0ad9d5d6c6',\n",
    "'04115e66-ea91-11ee-b297-3b0ad9d5d6c6',\n",
    "'aef91c4a-ede5-11ee-9385-ef789ffde1d3',\n",
    "'c335d84c-a45c-11ee-88ec-eb6a8d5269b4',\n",
    "'75f83e28-eb77-11ee-b297-3b0ad9d5d6c6',\n",
    "'88180f82-ed4f-11ee-9385-ef789ffde1d3',\n",
    "'70060810-eb59-11ee-b297-3b0ad9d5d6c6',\n",
    "'6d62da08-ec9d-11ee-b297-3b0ad9d5d6c6',\n",
    "'5976b77a-a504-11ee-88ec-eb6a8d5269b4',\n",
    "'ba6e1072-9524-11ee-956e-9da2d070324c',\n",
    "'5fcc4fd8-ea71-11ee-b297-3b0ad9d5d6c6')\n",
    "\n",
    "\n",
    "# Filterataframe into training and testing sets based on the identifiers\n",
    "train_df = final_df[final_df['groupMetadataID_x'].isin(Training_RedgmIDs_DF)]\n",
    "test_df = final_df[final_df['groupMetadataID_x'].isin(Test_RedgmIDs_DF)]\n",
    "\n",
    "# Separate features (X) and target (y) for both training and testing sets\n",
    "X_train = train_df[['brakePercentage', 'throttlePercentage', 'steeringPercentage', 'speedMps', 'LatLonTotalStdDev']]\n",
    "y_train = train_df['BinaryDrivingMode']  # Ensure this column name matches your target variable\n",
    "\n",
    "X_test = test_df[['brakePercentage', 'throttlePercentage', 'steeringPercentage', 'speedMps', 'LatLonTotalStdDev']]\n",
    "y_test = test_df['BinaryDrivingMode']\n"
   ]
  },
  {
   "cell_type": "code",
   "execution_count": null,
   "id": "3d9920b6-14db-4888-bc34-453b1ea67be7",
   "metadata": {},
   "outputs": [],
   "source": []
  },
  {
   "cell_type": "code",
   "execution_count": null,
   "id": "5a0ad7f5-18f1-4acd-a245-b4c5c218f0d6",
   "metadata": {},
   "outputs": [],
   "source": []
  }
 ],
 "metadata": {
  "kernelspec": {
   "display_name": "Python 3 (ipykernel)",
   "language": "python",
   "name": "python3"
  },
  "language_info": {
   "codemirror_mode": {
    "name": "ipython",
    "version": 3
   },
   "file_extension": ".py",
   "mimetype": "text/x-python",
   "name": "python",
   "nbconvert_exporter": "python",
   "pygments_lexer": "ipython3",
   "version": "3.10.12"
  }
 },
 "nbformat": 4,
 "nbformat_minor": 5
}
