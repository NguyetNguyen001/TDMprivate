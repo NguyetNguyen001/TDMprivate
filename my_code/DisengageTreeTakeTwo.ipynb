{
 "cells": [
  {
   "cell_type": "code",
   "execution_count": 90,
   "id": "0ca2dba5-fd70-4e9a-a7b1-1c1b929fd30a",
   "metadata": {},
   "outputs": [],
   "source": [
    "import CalculatedFieldSubroutines as cfs\n",
    "import pandas as pd\n",
    "from CalculatedFieldSubroutines import BinaryDrivingMode\n",
    "import numpy as np\n",
    "import os\n",
    "from sklearn.metrics import confusion_matrix\n",
    "from sklearn.model_selection import train_test_split\n",
    "from sklearn.preprocessing import StandardScaler, OneHotEncoder\n",
    "from sklearn.neighbors import KNeighborsClassifier\n",
    "from sklearn.metrics import accuracy_score, classification_report, balanced_accuracy_score\n",
    "import matplotlib.pyplot as plt\n",
    "from sklearn.metrics import confusion_matrix, ConfusionMatrixDisplay\n",
    "\n",
    "from sklearn import tree\n",
    "\n",
    "#\n",
    "\n",
    "from itertools import permutations"
   ]
  },
  {
   "cell_type": "code",
   "execution_count": 102,
   "id": "dd559eab-72e5-4f2f-9c3e-30b132c6ee39",
   "metadata": {},
   "outputs": [],
   "source": [
    "def ML_metrics( confusion_matrix_values, display = False ):\n",
    "\n",
    "    TP, TN, FP, FN = confusion_matrix_values\n",
    "\n",
    "    #\n",
    "\n",
    "    precision = TP / ( TP + FP )\n",
    "\n",
    "    sensitivity = TP / ( TP + FN )\n",
    "\n",
    "    specificity = TN / ( TN + FP )\n",
    "\n",
    "    #\n",
    "\n",
    "    accuracy = ( TP + TN ) / ( TP + TN + FP + FN )\n",
    "\n",
    "    balanced_accuracy = ( sensitivity + specificity ) / 2\n",
    "\n",
    "    if ( display == True ):\n",
    "\n",
    "        print( f'True_Positives: { TP }, False_Positives: { FP }' )\n",
    "\n",
    "        print( f'False_Negatives: { FN }, True_Negatives: { TN }' )\n",
    "\n",
    "        print( '' )\n",
    "\n",
    "        print( f'Precision: { precision:.3f}' )\n",
    "\n",
    "        print( f'Sensitivity: { sensitivity:.3f}' )\n",
    "\n",
    "        print( f'Specificity: { specificity:.3f}' )\n",
    "\n",
    "        print( '' )\n",
    "\n",
    "        print( f'Accuracy: { accuracy:.3f}' )\n",
    "\n",
    "        print( f'Balanced_Accuracy: { balanced_accuracy:.3f}' )\n",
    "\n",
    "    return TP, TN, FP, FN, precision, sensitivity, specificity, accuracy, balanced_accuracy"
   ]
  },
  {
   "cell_type": "code",
   "execution_count": 92,
   "id": "f6f3afb7-b617-45cd-b8c6-d248dcb2af24",
   "metadata": {},
   "outputs": [],
   "source": [
    "gmIDS=cfs.list_whitelisted_gmIDs_with_traffic_data()"
   ]
  },
  {
   "cell_type": "code",
   "execution_count": 105,
   "id": "5be278c6-b09d-47be-863c-df12473d9764",
   "metadata": {},
   "outputs": [],
   "source": [
    "RedgmIDs=[]\n",
    "for gmID in gmIDS:\n",
    "    if cfs.give_route(gmID)==\"Red\":\n",
    "        RedgmIDs.append(gmID)\n",
    "GreengmIDs=[]\n",
    "for gmID in gmIDS:\n",
    "    if cfs.give_route(gmID)==\"Green\":\n",
    "        GreengmIDs.append(gmID)\n",
    "BluegmIDs=[]\n",
    "for gmID in gmIDS:\n",
    "    if cfs.give_route(gmID)==\"Blue\":\n",
    "        BluegmIDs.append(gmID)\n"
   ]
  },
  {
   "cell_type": "code",
   "execution_count": 94,
   "id": "40868486-f095-4c7b-be41-102ea09a153f",
   "metadata": {},
   "outputs": [],
   "source": [
    "final_df = pd.DataFrame()"
   ]
  },
  {
   "cell_type": "code",
   "execution_count": 107,
   "id": "7ba008e0-4c04-4224-b50d-f8059ba0a69a",
   "metadata": {},
   "outputs": [
    {
     "name": "stdout",
     "output_type": "stream",
     "text": [
      "67\n",
      "81\n",
      "96\n"
     ]
    }
   ],
   "source": [
    "print(len( RedgmIDs ))\n",
    "print(len( GreengmIDs))\n",
    "print(len ( BluegmIDs))"
   ]
  },
  {
   "cell_type": "code",
   "execution_count": 108,
   "id": "85a79270-bcb1-4717-b9e8-52879263d686",
   "metadata": {},
   "outputs": [
    {
     "name": "stdout",
     "output_type": "stream",
     "text": [
      "53\n",
      "14\n"
     ]
    }
   ],
   "source": [
    "training_RedgmIDs_num = int(len( RedgmIDs ) * .8)\n",
    "test_RedgmIDs_num = len( RedgmIDs) - training_RedgmIDs_num\n",
    "print( training_RedgmIDs_num )\n",
    "print( test_RedgmIDs_num )"
   ]
  },
  {
   "cell_type": "code",
   "execution_count": 109,
   "id": "deae3064-2da1-42c2-8d98-98832bf918ba",
   "metadata": {},
   "outputs": [
    {
     "name": "stdout",
     "output_type": "stream",
     "text": [
      "64\n",
      "17\n"
     ]
    }
   ],
   "source": [
    "training_GreengmIDs_num = int(len( GreengmIDs ) * .8)\n",
    "test_GreengmIDs_num = len( GreengmIDs) - training_GreengmIDs_num\n",
    "print( training_GreengmIDs_num )\n",
    "print( test_GreengmIDs_num )"
   ]
  },
  {
   "cell_type": "code",
   "execution_count": 110,
   "id": "39353610-f2d7-4617-b629-6ce263f7a9a6",
   "metadata": {},
   "outputs": [
    {
     "name": "stdout",
     "output_type": "stream",
     "text": [
      "76\n",
      "20\n"
     ]
    }
   ],
   "source": [
    "training_BluegmIDs_num = int(len( BluegmIDs ) * .8)\n",
    "test_BluegmIDs_num = len( BluegmIDs) - training_BluegmIDs_num\n",
    "print( training_BluegmIDs_num )\n",
    "print( test_BluegmIDs_num )"
   ]
  },
  {
   "cell_type": "code",
   "execution_count": 97,
   "id": "d4022847-74c6-4a83-8fca-cf065128e7b7",
   "metadata": {},
   "outputs": [],
   "source": [
    "red_training_dfs = [\n",
    "'61b12e7a-f234-11ee-bb33-fb353e7798cd',\n",
    "'fcc6fcd2-f013-11ee-b966-fb353e7798cd',\n",
    "'05c7c824-cab8-11ee-aa4d-1d66adf2f0c7',\n",
    "'211bdb36-f0da-11ee-ba1b-fb353e7798cd',\n",
    "'868de15e-f3b3-11ee-bb4e-fb353e7798cd',\n",
    "'72a03d4a-efe9-11ee-b966-fb353e7798cd',\n",
    "'7fb7b9c0-c881-11ee-a7fc-dd032dba19e8',\n",
    "'96f7a614-f549-11ee-8afa-cb629b0d53e6',\n",
    "'1bbbfbae-c839-11ee-a7fc-dd032dba19e8',\n",
    "'622bd2e8-f0e4-11ee-ba1f-fb353e7798cd',\n",
    "'9798fe24-f143-11ee-ba78-fb353e7798cd',\n",
    "'88dd6fbe-f224-11ee-bb21-fb353e7798cd',\n",
    "'c9c6856c-d33c-11ee-b437-336917683bb8',\n",
    "'d12cd1c4-caec-11ee-909c-e1dc60cf66f9',\n",
    "'817d6848-efb6-11ee-b966-fb353e7798cd',\n",
    "'1b6aca0e-efdf-11ee-b966-fb353e7798cd',\n",
    "'41b67a28-f52f-11ee-8afa-cb629b0d53e6',\n",
    "'fc211bb2-efca-11ee-b966-fb353e7798cd',\n",
    "'84d96f18-f214-11ee-bb13-fb353e7798cd',\n",
    "'fe973c9c-f53c-11ee-8afa-cb629b0d53e6',\n",
    "'3151e9e2-eff3-11ee-b966-fb353e7798cd',\n",
    "'c0555ef0-f50f-11ee-8afa-cb629b0d53e6',\n",
    "'f711e68e-f0e1-11ee-ba1f-fb353e7798cd',\n",
    "'c338788a-d324-11ee-b437-336917683bb8',\n",
    "'d21965e6-f0fa-11ee-ba37-fb353e7798cd',\n",
    "'88a68dd8-eef9-11ee-9385-ef789ffde1d3',\n",
    "'f41cbd44-eff8-11ee-b966-fb353e7798cd',\n",
    "'43a1a35e-f362-11ee-bb4e-fb353e7798cd',\n",
    "'6d2ea45a-c839-11ee-a7fc-dd032dba19e8',\n",
    "'01e65360-efd4-11ee-b966-fb353e7798cd',\n",
    "'7cbd932e-f244-11ee-bb3f-fb353e7798cd',\n",
    "'65cfbfd6-f396-11ee-bb4e-fb353e7798cd',\n",
    "'94c53148-eeed-11ee-9385-ef789ffde1d3',\n",
    "'fd1ab258-efa7-11ee-b966-fb353e7798cd',\n",
    "'e7b934a8-ef1a-11ee-9385-ef789ffde1d3',\n",
    "'de933de8-f112-11ee-ba4d-fb353e7798cd',\n",
    "'d3698592-ef9d-11ee-b966-fb353e7798cd',\n",
    "'dd72fdec-f0cf-11ee-ba0d-fb353e7798cd',\n",
    "'b82476fe-f1f3-11ee-baff-fb353e7798cd',\n",
    "'f755cf60-f132-11ee-ba6d-fb353e7798cd',\n",
    "'853ef120-cad3-11ee-909c-e1dc60cf66f9',\n",
    "'f0eebb6a-f0dc-11ee-ba1e-fb353e7798cd',\n",
    "'cf831f42-f353-11ee-bb4e-fb353e7798cd',\n",
    "'ecebb942-f162-11ee-ba97-fb353e7798cd',\n",
    "'219f7eb8-ef87-11ee-b966-fb353e7798cd',\n",
    "'d24820c8-f197-11ee-babe-fb353e7798cd',\n",
    "'3d2d29ec-ef95-11ee-b966-fb353e7798cd',\n",
    "'457dc5ee-f02a-11ee-b966-fb353e7798cd',\n",
    "'2462c9d0-eecd-11ee-9385-ef789ffde1d3',\n",
    "'51ef6da6-ca9f-11ee-909c-e1dc60cf66f9',\n",
    "'c25271be-f3a4-11ee-bb4e-fb353e7798cd',\n",
    "'8347b862-efad-11ee-b966-fb353e7798cd',\n",
    "'8dbbbf1c-f0ef-11ee-ba29-fb353e7798cd',\n",
    "'9189a2a8-f121-11ee-ba5b-fb353e7798cd',\n",
    "'8fa6fe80-c869-11ee-a7fc-dd032dba19e8' ]\n",
    "\n",
    "red_testing_dfs = [\n",
    "'35518ec4-f153-11ee-ba88-fb353e7798cd',\n",
    "'2f95c748-f009-11ee-b966-fb353e7798cd',\n",
    "'8437f77a-cab7-11ee-909c-e1dc60cf66f9',\n",
    "'2a61b8a8-f528-11ee-8afa-cb629b0d53e6',\n",
    "'5a4bccf4-effe-11ee-b966-fb353e7798cd'\n",
    "]"
   ]
  },
  {
   "cell_type": "code",
   "execution_count": 98,
   "id": "9caa9a88-3ca8-4a92-9777-b96c382487b8",
   "metadata": {},
   "outputs": [
    {
     "data": {
      "text/plain": [
       "5"
      ]
     },
     "execution_count": 98,
     "metadata": {},
     "output_type": "execute_result"
    }
   ],
   "source": [
    "len( red_testing_dfs )"
   ]
  },
  {
   "cell_type": "code",
   "execution_count": 99,
   "id": "6aa5e13c-d5d6-47c5-9469-8c3ca6cb2697",
   "metadata": {},
   "outputs": [],
   "source": [
    "seconds = 10\n",
    "for id in RedgmIDs:\n",
    "    if id in red_training_dfs:\n",
    "        redtr_list = cfs.retrieve_gmID_preprocessed_moving_data(id,seconds)\n",
    "    elif id in red_testing_dfs:\n",
    "        redte_list = cfs.retrieve_gmID_preprocessed_moving_data(id,seconds)\n",
    "    else:\n",
    "        continue"
   ]
  },
  {
   "cell_type": "code",
   "execution_count": 100,
   "id": "134da1b6-7d0b-4326-a7b5-a7dc8e11e8e9",
   "metadata": {},
   "outputs": [],
   "source": [
    "X_name = ['brakePercentage', 'throttlePercentage', 'steeringPercentage', 'speedMps', 'LatLonTotalStdDev']\n",
    "y_name = 'BinaryDrivingMode'\n",
    "X_train_red = redtr_list[X_name]\n",
    "X_test_red = redte_list[X_name]\n",
    "y_train_red = redtr_list[y_name]\n",
    "y_test_red = redte_list[y_name]"
   ]
  },
  {
   "cell_type": "code",
   "execution_count": 101,
   "id": "2362b512-b625-4384-a9ee-1a24e178c27f",
   "metadata": {},
   "outputs": [],
   "source": [
    "model_dt_red = tree.DecisionTreeClassifier( random_state = 0 )\n",
    "\n",
    "model_dt_red = model_dt_red.fit( X_train_red, y_train_red )\n",
    "\n",
    "#\n",
    "\n",
    "y_pred_train_red = model_dt_red.predict( X_train_red )\n",
    "\n",
    "y_pred_test_red = model_dt_red.predict( X_test_red )\n",
    "\n",
    "redtr_list[ 'pred_BinaryDrivingMode' ] = y_pred_train_red\n",
    "\n",
    "redte_list[ 'pred_BinaryDrivingMode' ] = y_pred_test_red\n"
   ]
  },
  {
   "cell_type": "code",
   "execution_count": 103,
   "id": "b87862db-b219-48cf-b42f-4c12edd60555",
   "metadata": {},
   "outputs": [
    {
     "name": "stdout",
     "output_type": "stream",
     "text": [
      "ML Metrics | Red Route | Training Data (~80% of gmIDs) | No Max Tree Depth\n",
      "\n",
      "True_Positives: 51526, False_Positives: 0\n",
      "False_Negatives: 1, True_Negatives: 2981\n",
      "\n",
      "Precision: 1.000\n",
      "Sensitivity: 1.000\n",
      "Specificity: 1.000\n",
      "\n",
      "Accuracy: 1.000\n",
      "Balanced_Accuracy: 1.000\n"
     ]
    }
   ],
   "source": [
    "print( 'ML Metrics | Red Route | Training Data (~80% of gmIDs) | No Max Tree Depth\\n' )\n",
    "\n",
    "metrics = ML_metrics( cfs.confusion_matrix_values( y_pred_train_red.astype( int ), \n",
    "                                                   y_train_red.astype( int ) ), \n",
    "                                                   display = True )"
   ]
  },
  {
   "cell_type": "code",
   "execution_count": 117,
   "id": "241a585d-562c-43ea-9104-094c12b59f7f",
   "metadata": {},
   "outputs": [],
   "source": [
    "green_training_dfs = ['3ec95686-f053-11ee-b988-fb353e7798cd',\n",
    "'b31aca98-cb95-11ee-909c-e1dc60cf66f9',\n",
    "'25e27b86-f06a-11ee-b9a3-fb353e7798cd',\n",
    "'bf9157f0-f16b-11ee-ba9e-fb353e7798cd',\n",
    "'51b74168-f19d-11ee-babf-fb353e7798cd',\n",
    "'de493be2-f10f-11ee-ba4b-fb353e7798cd',\n",
    "'ece2a8be-f047-11ee-b97d-fb353e7798cd',\n",
    "'044d976e-f0e5-11ee-ba20-fb353e7798cd',\n",
    "'98692fde-f1a4-11ee-bac6-fb353e7798cd',\n",
    "'5afabc8c-f035-11ee-b966-fb353e7798cd',\n",
    "'072ef896-cbac-11ee-909c-e1dc60cf66f9',\n",
    "'c59a54e0-f179-11ee-baab-fb353e7798cd',\n",
    "'bbbd0cc6-f0dc-11ee-ba1e-fb353e7798cd',\n",
    "'ba87f3ec-f07e-11ee-b9b4-fb353e7798cd',\n",
    "'96ceec56-f1cf-11ee-bae4-fb353e7798cd',\n",
    "'40706f50-f03b-11ee-b96e-fb353e7798cd',\n",
    "'f570c51c-f15d-11ee-ba91-fb353e7798cd',\n",
    "'f12112ba-f1c0-11ee-bada-fb353e7798cd',\n",
    "'961fd9cc-f103-11ee-ba3f-fb353e7798cd',\n",
    "'5f7ce340-f1c8-11ee-bae0-fb353e7798cd',\n",
    "'cf7148d8-f058-11ee-b98a-fb353e7798cd',\n",
    "'848e44a6-f134-11ee-ba6d-fb353e7798cd',\n",
    "'3a7dc9a6-f042-11ee-b974-fb353e7798cd',\n",
    "'c9be2042-f0de-11ee-ba1e-fb353e7798cd',\n",
    "'9736e77c-f187-11ee-bab6-fb353e7798cd',\n",
    "'5fc763f6-f1ab-11ee-bacd-fb353e7798cd',\n",
    "'4c88757c-f157-11ee-ba89-fb353e7798cd',\n",
    "'a231c0b0-f142-11ee-ba76-fb353e7798cd',\n",
    "'53fad09e-f0f7-11ee-ba2f-fb353e7798cd',\n",
    "'5c7a9ab2-f13b-11ee-ba72-fb353e7798cd',\n",
    "'4cf81634-f238-11ee-bb34-fb353e7798cd',\n",
    "'a08a8c7e-f1fb-11ee-bb05-fb353e7798cd',\n",
    "'3ed4aa16-f1d6-11ee-bae6-fb353e7798cd',\n",
    "'25135418-f250-11ee-bb4a-fb353e7798cd',\n",
    "'c1b320e2-f079-11ee-b9b0-fb353e7798cd',\n",
    "'43abeb00-f206-11ee-bb07-fb353e7798cd',\n",
    "'fe0395f0-f1ea-11ee-baf9-fb353e7798cd',\n",
    "'3d8020aa-cb7f-11ee-909c-e1dc60cf66f9',\n",
    "'14b6bc9c-f064-11ee-b998-fb353e7798cd',\n",
    "'870cfd32-f1b9-11ee-bad5-fb353e7798cd',\n",
    "'c2f54552-f06f-11ee-b9a9-fb353e7798cd',\n",
    "'dea29156-f123-11ee-ba5d-fb353e7798cd',\n",
    "'3c415ade-d353-11ee-b437-336917683bb8',\n",
    "'a901fe40-f0fd-11ee-ba39-fb353e7798cd',\n",
    "'c4146d46-f074-11ee-b9ac-fb353e7798cd',\n",
    "'de226278-f25a-11ee-bb4e-fb353e7798cd',\n",
    "'d7cb9c92-f164-11ee-ba97-fb353e7798cd',\n",
    "'88b0613a-d35d-11ee-b437-336917683bb8',\n",
    "'c4fca7bc-f18e-11ee-bab8-fb353e7798cd',\n",
    "'ed352100-cba0-11ee-909c-e1dc60cf66f9',\n",
    "'cbdc93f4-f255-11ee-bb4e-fb353e7798cd',\n",
    "'8e5c4fc2-f149-11ee-ba7f-fb353e7798cd',\n",
    "'bb4d37d4-f109-11ee-ba46-fb353e7798cd',\n",
    "'236836f6-f1dd-11ee-bae8-fb353e7798cd',\n",
    "'7948628e-f20b-11ee-bb0f-fb353e7798cd',\n",
    "'c14299be-f180-11ee-bab0-fb353e7798cd',\n",
    "'73bc30cc-f150-11ee-ba84-fb353e7798cd',\n",
    "'7e3d64da-f12d-11ee-ba68-fb353e7798cd',\n",
    "'837fc882-cb5a-11ee-909c-e1dc60cf66f9',\n",
    "'f8fd0fd8-f243-11ee-bb3f-fb353e7798cd',\n",
    "'58d78342-f24a-11ee-bb45-fb353e7798cd',\n",
    "'8adb6498-f04d-11ee-b981-fb353e7798cd',\n",
    "'271fee10-cb8b-11ee-909c-e1dc60cf66f9',\n",
    "'99b9f446-f1b2-11ee-bad3-fb353e7798cd']\n",
    " \n",
    "green_testing_dfs = ['5774dcde-f196-11ee-babe-fb353e7798cd',\n",
    "'1c74d294-f1e4-11ee-baf0-fb353e7798cd',\n",
    "'0f3cdf60-f1f6-11ee-bb00-fb353e7798cd',\n",
    "'8b0593cc-cb4e-11ee-909c-e1dc60cf66f9',\n",
    "'a6539bd2-cb72-11ee-909c-e1dc60cf66f9']"
   ]
  },
  {
   "cell_type": "code",
   "execution_count": 118,
   "id": "3d9920b6-14db-4888-bc34-453b1ea67be7",
   "metadata": {},
   "outputs": [],
   "source": [
    "seconds = 10\n",
    "for id in GreengmIDs:\n",
    "    if id in green_training_dfs:\n",
    "        greentr_list = cfs.retrieve_gmID_preprocessed_moving_data(id,seconds)\n",
    "    elif id in green_testing_dfs:\n",
    "        greente_list = cfs.retrieve_gmID_preprocessed_moving_data(id,seconds)\n",
    "    else:\n",
    "        continue"
   ]
  },
  {
   "cell_type": "code",
   "execution_count": 119,
   "id": "5a0ad7f5-18f1-4acd-a245-b4c5c218f0d6",
   "metadata": {},
   "outputs": [],
   "source": [
    "X_name = ['brakePercentage', 'throttlePercentage', 'steeringPercentage', 'speedMps', 'LatLonTotalStdDev']\n",
    "y_name = 'BinaryDrivingMode'\n",
    "X_train_green = greentr_list[X_name]\n",
    "X_test_green = greente_list[X_name]\n",
    "y_train_green = greentr_list[y_name]\n",
    "y_test_green = greente_list[y_name]"
   ]
  },
  {
   "cell_type": "code",
   "execution_count": 120,
   "id": "7e88af64-2fe2-4150-b4e1-a7b45c6da41c",
   "metadata": {},
   "outputs": [],
   "source": [
    "model_dt_green = tree.DecisionTreeClassifier( random_state = 0 )\n",
    "\n",
    "model_dt_green = model_dt_green.fit( X_train_green, y_train_green )\n",
    "\n",
    "#\n",
    "\n",
    "y_pred_train_green = model_dt_green.predict( X_train_green )\n",
    "\n",
    "y_pred_test_green = model_dt_green.predict( X_test_green )\n",
    "\n",
    "greentr_list[ 'pred_BinaryDrivingMode' ] = y_pred_train_green\n",
    "\n",
    "greente_list[ 'pred_BinaryDrivingMode' ] = y_pred_test_green"
   ]
  },
  {
   "cell_type": "code",
   "execution_count": 121,
   "id": "6c609ed2-b9ee-45eb-901a-043f8ce1b0a9",
   "metadata": {},
   "outputs": [
    {
     "name": "stdout",
     "output_type": "stream",
     "text": [
      "ML Metrics | Green Route | Training Data (~80% of gmIDs) | No Max Tree Depth\n",
      "\n",
      "True_Positives: 19942, False_Positives: 0\n",
      "False_Negatives: 3, True_Negatives: 5589\n",
      "\n",
      "Precision: 1.000\n",
      "Sensitivity: 1.000\n",
      "Specificity: 1.000\n",
      "\n",
      "Accuracy: 1.000\n",
      "Balanced_Accuracy: 1.000\n"
     ]
    }
   ],
   "source": [
    "print( 'ML Metrics | Green Route | Training Data (~80% of gmIDs) | No Max Tree Depth\\n' )\n",
    "\n",
    "metrics = ML_metrics( cfs.confusion_matrix_values( y_pred_train_green.astype( int ), \n",
    "                                                   y_train_green.astype( int ) ), \n",
    "                                                   display = True )"
   ]
  },
  {
   "cell_type": "code",
   "execution_count": 122,
   "id": "94264a23-c674-4d54-b37e-6833f5fd7d58",
   "metadata": {},
   "outputs": [],
   "source": [
    "blue_training_dfs = ['7228e03a-ebf0-11ee-b297-3b0ad9d5d6c6',\n",
    "'8c57e8ac-dbec-11ee-a158-97f8443fd730',\n",
    "'17876fec-ea66-11ee-b297-3b0ad9d5d6c6',\n",
    "'d1d090d4-ea7c-11ee-b297-3b0ad9d5d6c6',\n",
    "'ed7f2038-ea1e-11ee-b297-3b0ad9d5d6c6',\n",
    "'6af236d6-d98f-11ee-a158-97f8443fd730',\n",
    "'64737d98-d312-11ee-b437-336917683bb8',\n",
    "'5240e750-ec30-11ee-b297-3b0ad9d5d6c6',\n",
    "'7613801a-edcb-11ee-9385-ef789ffde1d3',\n",
    "'68c289fa-dbd4-11ee-a158-97f8443fd730',\n",
    "'76683d3c-db18-11ee-a158-97f8443fd730',\n",
    "'69ab88ec-dc17-11ee-a158-97f8443fd730',\n",
    "'7f09f6c6-a5b0-11ee-88ec-eb6a8d5269b4',\n",
    "'3d2a80f0-ec81-11ee-b297-3b0ad9d5d6c6',\n",
    "'feaf2ba8-d28d-11ee-b437-336917683bb8',\n",
    "'e2079a78-dc1d-11ee-a158-97f8443fd730',\n",
    "'b224ef9c-ec10-11ee-b297-3b0ad9d5d6c6',\n",
    "'ba28b352-ec8f-11ee-b297-3b0ad9d5d6c6',\n",
    "'59c189d8-ed54-11ee-9385-ef789ffde1d3',\n",
    "'2d35c522-eba2-11ee-b297-3b0ad9d5d6c6',\n",
    "'3343fd3c-eb87-11ee-b297-3b0ad9d5d6c6',\n",
    "'c0624e24-d9aa-11ee-a158-97f8443fd730',\n",
    "'a253145a-d2a6-11ee-b437-336917683bb8',\n",
    "'9830d896-d2dc-11ee-b437-336917683bb8',\n",
    "'aa86a660-dc05-11ee-a158-97f8443fd730',\n",
    "'90101c36-a621-11ee-88ec-eb6a8d5269b4',\n",
    "'82d39c74-ea59-11ee-b297-3b0ad9d5d6c6',\n",
    "'f9d62032-db2a-11ee-a158-97f8443fd730',\n",
    "'af10e22a-ebb1-11ee-b297-3b0ad9d5d6c6',\n",
    "'47561998-d9c3-11ee-a158-97f8443fd730',\n",
    "'64875cc0-d054-11ee-9435-f7e542e2436c',\n",
    "'df8e3742-ec54-11ee-b297-3b0ad9d5d6c6',\n",
    "'3a2a78cc-db21-11ee-a158-97f8443fd730',\n",
    "'21a9830-ece6-11ee-b297-3b0ad9d5d6c6',\n",
    "'2bc6ebb8-a529-11ee-88ec-eb6a8d5269b4',\n",
    "'4d0254fc-ec73-11ee-b297-3b0ad9d5d6c6',\n",
    "'dc39aa14-db32-11ee-a158-97f8443fd730',\n",
    "'25d3bdc8-ecbc-11ee-b297-3b0ad9d5d6c6',\n",
    "'8b6a6cfc-ed6d-11ee-9385-ef789ffde1d3',\n",
    "'e6d7d384-db40-11ee-a158-97f8443fd730',\n",
    "'a17c1280-ea10-11ee-b297-3b0ad9d5d6c6',\n",
    "'36663b02-ea87-11ee-b297-3b0ad9d5d6c6',\n",
    "'71a18322-ecab-11ee-b297-3b0ad9d5d6c6',\n",
    "'cf6fdf3a-eaa3-11ee-b297-3b0ad9d5d6c6',\n",
    "'57d240d6-ea4d-11ee-b297-3b0ad9d5d6c6',\n",
    "'baf0e4be-bede-11ee-835b-599066b5eb60',\n",
    "'530de03a-ed79-11ee-9385-ef789ffde1d3',\n",
    "'43914d48-ed85-11ee-9385-ef789ffde1d3',\n",
    "'a7c98b32-ebc2-11ee-b297-3b0ad9d5d6c6',\n",
    "'fc119dfc-eb67-11ee-b297-3b0ad9d5d6c6',\n",
    "'c7c02bda-ebe0-11ee-b297-3b0ad9d5d6c6',\n",
    "'39ba7438-d0d5-11ee-9435-f7e542e2436c',\n",
    "'e8a8b2be-edbf-11ee-9385-ef789ffde1d3',\n",
    "'3ea96640-ea37-11ee-b297-3b0ad9d5d6c6',\n",
    "'21376e38-ec01-11ee-b297-3b0ad9d5d6c6',\n",
    "'513a670c-eea9-11ee-9385-ef789ffde1d3',\n",
    "'06cbdbc0-db4d-11ee-a158-97f8443fd730',\n",
    "'559495ca-d270-11ee-b437-336917683bb8',\n",
    "'04151804-ec20-11ee-b297-3b0ad9d5d6c6',\n",
    "'d62ee6e8-ed02-11ee-9385-ef789ffde1d3',\n",
    "'154fab12-a43f-11ee-88ec-eb6a8d5269b4',\n",
    "'58263e34-a45c-11ee-88ec-eb6a8d5269b4',\n",
    "'acd71bc0-ecf4-11ee-9385-ef789ffde1d3',\n",
    "'3441fc36-ecca-11ee-b297-3b0ad9d5d6c6',\n",
    "'f671c05c-a5e4-11ee-88ec-eb6a8d5269b4',\n",
    "'c8f54ac0-ebd2-11ee-b297-3b0ad9d5d6c6',\n",
    "'326699c2-ecd8-11ee-b297-3b0ad9d5d6c6',\n",
    "'3ce8a358-edd8-11ee-9385-ef789ffde1d3',\n",
    "'286c70cc-d2f7-11ee-b437-336917683bb8',\n",
    "'20cbfe8c-ea2b-11ee-b297-3b0ad9d5d6c6',\n",
    "'c9023e32-ed90-11ee-9385-ef789ffde1d3',\n",
    "'f0bcec4e-ed3e-11ee-9385-ef789ffde1d3',\n",
    "'d94ef300-ed60-11ee-9385-ef789ffde1d3',\n",
    "'e269948a-ed9d-11ee-9385-ef789ffde1d3',\n",
    "'f6ac3c82-a445-11ee-88ec-eb6a8d5269b4',\n",
    "'80340ab8-d054-11ee-9435-f7e542e2436c',\n",
    "'b76f33be-ea61-11ee-b297-3b0ad9d5d6c6']\n",
    " \n",
    "blue_testing_dfs = ['da853e0c-a10f-11ee-981c-d126ddbe9afa',\n",
    "'19b7ebd0-d9b7-11ee-a158-97f8443fd730',\n",
    "'cb205756-ec43-11ee-b297-3b0ad9d5d6c6',\n",
    "'64bbe8e0-eb94-11ee-b297-3b0ad9d5d6c6',\n",
    "'e9d67bf2-ec35-11ee-b297-3b0ad9d5d6c6']"
   ]
  },
  {
   "cell_type": "code",
   "execution_count": 123,
   "id": "b1655b4a-c6ed-4b87-a380-cc91fd3d5bec",
   "metadata": {},
   "outputs": [],
   "source": [
    "seconds = 10\n",
    "for id in BluegmIDs:\n",
    "    if id in blue_training_dfs:\n",
    "        bluetr_list = cfs.retrieve_gmID_preprocessed_moving_data(id,seconds)\n",
    "    elif id in blue_testing_dfs:\n",
    "        bluete_list = cfs.retrieve_gmID_preprocessed_moving_data(id,seconds)\n",
    "    else:\n",
    "        continue"
   ]
  },
  {
   "cell_type": "code",
   "execution_count": 124,
   "id": "35fd7083-f90b-4f1d-b207-c53528fe6937",
   "metadata": {},
   "outputs": [],
   "source": [
    "X_name = ['brakePercentage', 'throttlePercentage', 'steeringPercentage', 'speedMps', 'LatLonTotalStdDev']\n",
    "y_name = 'BinaryDrivingMode'\n",
    "X_train_blue = bluetr_list[X_name]\n",
    "X_test_blue = bluete_list[X_name]\n",
    "y_train_blue = bluetr_list[y_name]\n",
    "y_test_blue = bluete_list[y_name]"
   ]
  },
  {
   "cell_type": "code",
   "execution_count": 125,
   "id": "bd8d7634-3fed-43fd-a398-6deef989782d",
   "metadata": {},
   "outputs": [],
   "source": [
    "model_dt_blue = tree.DecisionTreeClassifier( random_state = 0 )\n",
    "\n",
    "model_dt_blue = model_dt_blue.fit( X_train_blue, y_train_blue )\n",
    "\n",
    "#\n",
    "\n",
    "y_pred_train_blue = model_dt_blue.predict( X_train_blue )\n",
    "\n",
    "y_pred_test_blue = model_dt_blue.predict( X_test_blue )\n",
    "\n",
    "bluetr_list[ 'pred_BinaryDrivingMode' ] = y_pred_train_blue\n",
    "\n",
    "bluete_list[ 'pred_BinaryDrivingMode' ] = y_pred_test_blue"
   ]
  },
  {
   "cell_type": "code",
   "execution_count": 126,
   "id": "7d64c475-03ad-49c6-aedb-86861972d71f",
   "metadata": {},
   "outputs": [
    {
     "name": "stdout",
     "output_type": "stream",
     "text": [
      "ML Metrics | Blue Route | Training Data (~80% of gmIDs) | No Max Tree Depth\n",
      "\n",
      "True_Positives: 46765, False_Positives: 0\n",
      "False_Negatives: 0, True_Negatives: 4561\n",
      "\n",
      "Precision: 1.000\n",
      "Sensitivity: 1.000\n",
      "Specificity: 1.000\n",
      "\n",
      "Accuracy: 1.000\n",
      "Balanced_Accuracy: 1.000\n"
     ]
    }
   ],
   "source": [
    "print( 'ML Metrics | Blue Route | Training Data (~80% of gmIDs) | No Max Tree Depth\\n' )\n",
    "\n",
    "metrics = ML_metrics( cfs.confusion_matrix_values( y_pred_train_blue.astype( int ), \n",
    "                                                   y_train_blue.astype( int ) ), \n",
    "                                                   display = True )"
   ]
  },
  {
   "cell_type": "code",
   "execution_count": null,
   "id": "bf053f45-b3c6-4dcb-adff-77abdf15987f",
   "metadata": {},
   "outputs": [],
   "source": []
  },
  {
   "cell_type": "code",
   "execution_count": null,
   "id": "4ed540eb-50e9-45b5-8161-c6dec9a79189",
   "metadata": {},
   "outputs": [],
   "source": []
  },
  {
   "cell_type": "code",
   "execution_count": null,
   "id": "a0811a3d-4627-40a6-97ff-9ecd0922d351",
   "metadata": {},
   "outputs": [],
   "source": []
  },
  {
   "cell_type": "code",
   "execution_count": null,
   "id": "56d998d3-217c-4e9c-a71a-f3b743d7d0e2",
   "metadata": {},
   "outputs": [],
   "source": []
  }
 ],
 "metadata": {
  "kernelspec": {
   "display_name": "Python 3 (ipykernel)",
   "language": "python",
   "name": "python3"
  },
  "language_info": {
   "codemirror_mode": {
    "name": "ipython",
    "version": 3
   },
   "file_extension": ".py",
   "mimetype": "text/x-python",
   "name": "python",
   "nbconvert_exporter": "python",
   "pygments_lexer": "ipython3",
   "version": "3.10.12"
  }
 },
 "nbformat": 4,
 "nbformat_minor": 5
}
