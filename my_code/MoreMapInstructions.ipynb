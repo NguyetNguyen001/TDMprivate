{
 "cells": [
  {
   "cell_type": "code",
   "execution_count": null,
   "id": "9dc17088-d0fb-4405-8414-370536a93c64",
   "metadata": {},
   "outputs": [],
   "source": [
    "import CalculatedFieldSubrountines as cfs"
   ]
  },
  {
   "cell_type": "code",
   "execution_count": null,
   "id": "36ef73c9-6ae0-4006-8dac-3d4c67c966ab",
   "metadata": {},
   "outputs": [],
   "source": [
    "gmIDs = cfs.list_whitelisted_gmIDs"
   ]
  }
 ],
 "metadata": {
  "kernelspec": {
   "display_name": "Python 3 (ipykernel)",
   "language": "python",
   "name": "python3"
  },
  "language_info": {
   "codemirror_mode": {
    "name": "ipython",
    "version": 3
   },
   "file_extension": ".py",
   "mimetype": "text/x-python",
   "name": "python",
   "nbconvert_exporter": "python",
   "pygments_lexer": "ipython3",
   "version": "3.10.12"
  }
 },
 "nbformat": 4,
 "nbformat_minor": 5
}
