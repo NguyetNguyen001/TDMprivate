{
 "cells": [
  {
   "cell_type": "code",
   "execution_count": 1,
   "id": "b2aa87de-2ebd-4e56-8c08-0ed9f12a6ddd",
   "metadata": {},
   "outputs": [],
   "source": [
    "import CalculatedFieldSubroutines as cfs\n",
    "\n",
    "import pandas as pd\n",
    "\n",
    "import numpy as np\n",
    "\n",
    "from pandasgui import show\n",
    "\n",
    "#\n",
    "\n",
    "import warnings"
   ]
  },
  {
   "cell_type": "code",
   "execution_count": 2,
   "id": "5451606d-6fba-4009-be1d-4680d50c311b",
   "metadata": {},
   "outputs": [],
   "source": [
    "warnings.filterwarnings( 'ignore' )"
   ]
  },
  {
   "cell_type": "code",
   "execution_count": 3,
   "id": "8c31f149-7a30-46a2-a3af-e10967377545",
   "metadata": {},
   "outputs": [],
   "source": [
    "def list_whitelisted_gmIDs_with_traffic_data():\n",
    "\n",
    "    whitelisted_gmIDs_list = cfs.list_whitelisted_gmIDs()\n",
    "\n",
    "    whitelisted_gmIDs_without_traffic_data_list = [ '69ab88ec-dc17-11ee-a158-97f8443fd730', \n",
    "                                                    '88a68dd8-eef9-11ee-9385-ef789ffde1d3', \n",
    "                                                    'fc211bb2-efca-11ee-b966-fb353e7798cd' ]\n",
    "\n",
    "    whitelisted_gmIDs_with_traffic_data = list( set( whitelisted_gmIDs_list ) - set( whitelisted_gmIDs_without_traffic_data_list ) )\n",
    "\n",
    "    return whitelisted_gmIDs_with_traffic_data"
   ]
  },
  {
   "cell_type": "code",
   "execution_count": 4,
   "id": "c7818491-9c08-4f47-b74e-567699899f1b",
   "metadata": {},
   "outputs": [],
   "source": [
    "def retrieve_gmID_preprocessed_moving_data( gmID, window_seconds ):\n",
    "\n",
    "    path = f'{ cfs.origin_dir() }/Preprocessed_Moving_Data/{ window_seconds }sec_Window/{ gmID }/{ gmID }_{ window_seconds }sec.csv'\n",
    "\n",
    "    gmID_preprocessed_moving_data_df = pd.read_csv( path )\n",
    "\n",
    "    return gmID_preprocessed_moving_data_df"
   ]
  },
  {
   "cell_type": "code",
   "execution_count": 5,
   "id": "f2d075b6-d9c4-4170-af0f-6e04af734028",
   "metadata": {},
   "outputs": [],
   "source": [
    "def DisengagementID( df, expanded = False ):\n",
    "\n",
    "    gmID = df[ 'groupMetadataID' ][ 0 ]\n",
    "    \n",
    "    #\n",
    "\n",
    "    disengagment_col = np.array( df[ 'BinaryDisengagement' ] )\n",
    "\n",
    "    disengagement_indexes = np.array( np.where( disengagment_col == 1 )[ 0 ] )\n",
    "\n",
    "    #\n",
    "\n",
    "    DisengagementID_col = [ 'NAD' for i in disengagment_col ]\n",
    "\n",
    "    #\n",
    "\n",
    "    if ( expanded == False ):\n",
    "\n",
    "        string = ''\n",
    "\n",
    "        #\n",
    "        \n",
    "        counter = 0\n",
    "\n",
    "        for index in disengagement_indexes:\n",
    "\n",
    "            DisengagementID_col[ int( index ) ] = f'{ gmID }_D{ counter }'\n",
    "\n",
    "            counter = counter + 1\n",
    "\n",
    "    elif ( expanded == True ):\n",
    "\n",
    "        string = 'Expanded'\n",
    "\n",
    "        #\n",
    "\n",
    "        expanded_disengagment_col = np.array( df[ 'BinaryDisengagementExpanded' ] )\n",
    "\n",
    "        expanded_disengagement_indexes = np.where( expanded_disengagment_col == 1 )[ 0 ]\n",
    "\n",
    "        #\n",
    "\n",
    "        counter = 0\n",
    "\n",
    "        for expanded_disengagement_index in expanded_disengagement_indexes:\n",
    "\n",
    "            temp_array = disengagement_indexes - expanded_disengagement_index\n",
    "\n",
    "            #\n",
    "\n",
    "            temp_array2 = disengagement_indexes[ np.where( temp_array >= 0 ) ]\n",
    "\n",
    "            #\n",
    "\n",
    "            disengagement_index = int( temp_array2[ 0 ] )\n",
    "\n",
    "            #\n",
    "\n",
    "            disengagement_num = int( np.where( disengagement_indexes == disengagement_index )[ 0 ][ 0 ] )\n",
    "\n",
    "            #\n",
    "\n",
    "            expanded_disengagement_num = disengagement_index - expanded_disengagement_index\n",
    "\n",
    "            #\n",
    "\n",
    "            DisengagementID_col[ expanded_disengagement_index ] = f'{ gmID }_D{ disengagement_num }_ED{ expanded_disengagement_num }'\n",
    "\n",
    "    #\n",
    "\n",
    "    df[ f'Disengagement{ string }ID' ] = DisengagementID_col"
   ]
  },
  {
   "cell_type": "code",
   "execution_count": 6,
   "id": "42c0c4d0-5416-4b09-a3b1-451e5321da9c",
   "metadata": {},
   "outputs": [],
   "source": [
    "def RelaxedBinaryDisengagement( df, moving_colname, window_radius, expanded = False ):\n",
    "\n",
    "    moving_col = np.array( df[ moving_colname ] )\n",
    "\n",
    "    #\n",
    "\n",
    "    if ( expanded == False ):\n",
    "\n",
    "        string = ''\n",
    "\n",
    "        disengagment_col = np.array( df[ 'BinaryDisengagement' ] )\n",
    "\n",
    "    elif ( expanded == True ):\n",
    "\n",
    "        string = 'Expanded'\n",
    "\n",
    "        disengagment_col = np.array( df[ 'BinaryDisengagementExpanded' ] )\n",
    "\n",
    "    #\n",
    "\n",
    "    RelaxedBinaryDisengagement_col = []\n",
    "\n",
    "    for value in moving_col:\n",
    "\n",
    "        min_value = value - window_radius\n",
    "\n",
    "        max_value = value + window_radius\n",
    "\n",
    "        #\n",
    "\n",
    "        window_indexes = np.where( ( moving_col >= min_value ) & ( moving_col <= max_value ) )\n",
    "\n",
    "        #\n",
    "\n",
    "        disengagment_window_set = set( disengagment_col[ window_indexes ] )\n",
    "\n",
    "        if ( len( disengagment_window_set ) == 1 ):\n",
    "\n",
    "            if ( 0 in disengagment_window_set ):\n",
    "\n",
    "                RelaxedBinaryDisengagement_col.append( 0 )\n",
    "\n",
    "            else:\n",
    "\n",
    "                RelaxedBinaryDisengagement_col.append( 1 )\n",
    "\n",
    "        else:\n",
    "\n",
    "            RelaxedBinaryDisengagement_col.append( 10 )\n",
    "\n",
    "    #\n",
    "\n",
    "    df[ f'RelaxedBinaryDisengagement{ string }' ] = RelaxedBinaryDisengagement_col"
   ]
  },
  {
   "cell_type": "code",
   "execution_count": 7,
   "id": "fc56b5b4-1e5c-4b9b-9918-9b1b49ede968",
   "metadata": {},
   "outputs": [],
   "source": [
    "def confusion_matrix_values( prediction_col, true_col ):\n",
    "\n",
    "    true_positive_num = 0\n",
    "\n",
    "    true_negative_num = 0\n",
    "\n",
    "    false_positive_num = 0\n",
    "\n",
    "    false_negative_num = 0\n",
    "\n",
    "    for predicted_value, true_value in zip( prediction_col, true_col ):\n",
    "\n",
    "        if ( ( predicted_value == 0 ) and ( true_value == 0 ) ):\n",
    "\n",
    "            true_negative_num = true_negative_num + 1\n",
    "\n",
    "        #\n",
    "\n",
    "        elif ( ( predicted_value == 1 ) and ( true_value == 1 ) ):\n",
    "\n",
    "            true_positive_num = true_positive_num + 1\n",
    "\n",
    "        #\n",
    "\n",
    "        elif ( ( predicted_value == 0 ) and ( true_value == 1 ) ):\n",
    "\n",
    "            false_negative_num = false_negative_num + 1\n",
    "\n",
    "        #\n",
    "\n",
    "        elif ( ( predicted_value == 1 ) and ( true_value == 0 ) ):\n",
    "\n",
    "            false_positive_num = false_positive_num + 1\n",
    "\n",
    "        #\n",
    "\n",
    "        else:\n",
    "\n",
    "            raise Exception( 'Non 0 or 1 value present in either column' )\n",
    "\n",
    "    #\n",
    "\n",
    "    return true_positive_num, true_negative_num, false_positive_num, false_negative_num"
   ]
  },
  {
   "cell_type": "code",
   "execution_count": 8,
   "id": "e0a7d1f2-efa1-4404-9ad5-383dd1a54c5f",
   "metadata": {},
   "outputs": [],
   "source": [
    "gmIDs = list_whitelisted_gmIDs_with_traffic_data()"
   ]
  },
  {
   "cell_type": "code",
   "execution_count": 9,
   "id": "cb7c4b2b-71bd-4b06-80dd-a2d3acab9ca5",
   "metadata": {},
   "outputs": [],
   "source": [
    "x = cfs.retrieve_gmID_preprocessed_moving_data( gmID = gmIDs[ 0 ], window_seconds = 10 )\n",
    "\n",
    "cfs.BinaryDisengagementExpanded( x, moving_colname = 'time', window = 1e9 )\n",
    "\n",
    "cfs.DisengagementID( x, expanded = False )\n",
    "\n",
    "cfs.DisengagementID( x, expanded = True )"
   ]
  },
  {
   "cell_type": "code",
   "execution_count": 10,
   "id": "3ad02b47-8c89-49d5-ae60-ede60c96cd09",
   "metadata": {},
   "outputs": [
    {
     "name": "stdout",
     "output_type": "stream",
     "text": [
      "<class 'pandas.core.frame.DataFrame'>\n",
      "RangeIndex: 51210 entries, 0 to 51209\n",
      "Data columns (total 40 columns):\n",
      " #   Column                       Non-Null Count  Dtype  \n",
      "---  ------                       --------------  -----  \n",
      " 0   Ind                          51210 non-null  int64  \n",
      " 1   groupMetadataID              51210 non-null  object \n",
      " 2   time                         51210 non-null  int64  \n",
      " 3   NormalizedTime               51210 non-null  float64\n",
      " 4   BinaryDrivingMode            51210 non-null  int64  \n",
      " 5   BinaryDisengagement          51210 non-null  int64  \n",
      " 6   latitude                     51210 non-null  float64\n",
      " 7   longitude                    51210 non-null  float64\n",
      " 8   ProgressAlongRoute           51210 non-null  float64\n",
      " 9   solStatus                    51210 non-null  object \n",
      " 10  solType                      51210 non-null  object \n",
      " 11  extendedSolutionStatus       51210 non-null  int64  \n",
      " 12  numSatsInSolution            51210 non-null  int64  \n",
      " 13  speedMps                     51210 non-null  float64\n",
      " 14  Acceleration                 51210 non-null  float64\n",
      " 15  brakePercentage              51210 non-null  float64\n",
      " 16  throttlePercentage           51210 non-null  float64\n",
      " 17  steeringPercentage           51210 non-null  float64\n",
      " 18  LatLonTotalStdDev            51210 non-null  float64\n",
      " 19  TernaryTurnSignal            51210 non-null  int64  \n",
      " 20  BinaryContainLights          51210 non-null  int64  \n",
      " 21  speedMps_mean                51210 non-null  float64\n",
      " 22  Acceleration_mean            51210 non-null  float64\n",
      " 23  brakePercentage_mean         51210 non-null  float64\n",
      " 24  throttlePercentage_mean      51210 non-null  float64\n",
      " 25  steeringPercentage_mean      51210 non-null  float64\n",
      " 26  LatLonTotalStdDev_mean       51210 non-null  float64\n",
      " 27  TernaryTurnSignal_mean       51210 non-null  float64\n",
      " 28  BinaryContainLights_mean     51210 non-null  float64\n",
      " 29  speedMps_stddev              51210 non-null  float64\n",
      " 30  Acceleration_stddev          51210 non-null  float64\n",
      " 31  brakePercentage_stddev       51210 non-null  float64\n",
      " 32  throttlePercentage_stddev    51210 non-null  float64\n",
      " 33  steeringPercentage_stddev    51210 non-null  float64\n",
      " 34  LatLonTotalStdDev_stddev     51210 non-null  float64\n",
      " 35  TernaryTurnSignal_stddev     51210 non-null  float64\n",
      " 36  BinaryContainLights_stddev   51210 non-null  float64\n",
      " 37  BinaryDisengagementExpanded  51210 non-null  int64  \n",
      " 38  DisengagementID              51210 non-null  object \n",
      " 39  DisengagementExpandedID      51210 non-null  object \n",
      "dtypes: float64(26), int64(9), object(5)\n",
      "memory usage: 15.6+ MB\n"
     ]
    }
   ],
   "source": [
    "x.info()"
   ]
  },
  {
   "cell_type": "code",
   "execution_count": 11,
   "id": "494d3c82-280e-48b1-ba94-f30e4a42f6fc",
   "metadata": {},
   "outputs": [
    {
     "name": "stderr",
     "output_type": "stream",
     "text": [
      "PandasGUI INFO — pandasgui.gui — Opening PandasGUI\n"
     ]
    },
    {
     "data": {
      "text/plain": [
       "<pandasgui.gui.PandasGui at 0x7603d83e7640>"
      ]
     },
     "execution_count": 11,
     "metadata": {},
     "output_type": "execute_result"
    }
   ],
   "source": [
    "show( x[ [ 'BinaryDisengagement', 'DisengagementID', 'BinaryDisengagementExpanded', 'DisengagementExpandedID' ] ] )"
   ]
  },
  {
   "cell_type": "code",
   "execution_count": 12,
   "id": "64a172b6-440c-424d-8edc-b4f476f5fa37",
   "metadata": {},
   "outputs": [
    {
     "data": {
      "text/plain": [
       "(15, 50753, 0, 442)"
      ]
     },
     "execution_count": 12,
     "metadata": {},
     "output_type": "execute_result"
    }
   ],
   "source": [
    "cfs.confusion_matrix_values( prediction_col = x[ 'BinaryDisengagement' ], true_col = x[ 'BinaryDisengagementExpanded' ] )"
   ]
  },
  {
   "cell_type": "code",
   "execution_count": null,
   "id": "1d0f111f-dfca-4201-b513-870471ddbf0f",
   "metadata": {},
   "outputs": [],
   "source": []
  }
 ],
 "metadata": {
  "kernelspec": {
   "display_name": "Python 3 (ipykernel)",
   "language": "python",
   "name": "python3"
  },
  "language_info": {
   "codemirror_mode": {
    "name": "ipython",
    "version": 3
   },
   "file_extension": ".py",
   "mimetype": "text/x-python",
   "name": "python",
   "nbconvert_exporter": "python",
   "pygments_lexer": "ipython3",
   "version": "3.10.12"
  }
 },
 "nbformat": 4,
 "nbformat_minor": 5
}
