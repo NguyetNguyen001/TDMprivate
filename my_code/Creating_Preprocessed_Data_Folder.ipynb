{
 "cells": [
  {
   "cell_type": "code",
   "execution_count": 4,
   "id": "d6068f24-3139-4ac1-8f6e-d9dc5ff4d800",
   "metadata": {},
   "outputs": [],
   "source": [
    "import CalculatedFieldSubroutines as cfs\n",
    "\n",
    "#\n",
    "\n",
    "import numpy as np\n",
    "\n",
    "import pandas as pd\n",
    "\n",
    "#\n",
    "\n",
    "import matplotlib.pyplot as plt\n",
    "\n",
    "from pandasgui import show\n",
    "\n",
    "#\n",
    "\n",
    "import warnings"
   ]
  },
  {
   "cell_type": "code",
   "execution_count": 6,
   "id": "141bb949-aceb-4215-a866-286def6298c3",
   "metadata": {},
   "outputs": [
    {
     "name": "stdout",
     "output_type": "stream",
     "text": [
      "['/apollo/canbus/chassis', '/apollo/drive/event', '/apollo/sensor/gnss/best/pose', '/apollo/perception/traffic/light']\n"
     ]
    }
   ],
   "source": [
    "gmIDs = cfs.list_whitelisted_gmIDs()\n",
    "\n",
    "topics = cfs.list_topics()\n",
    "\n",
    "print( topics )"
   ]
  },
  {
   "cell_type": "code",
   "execution_count": null,
   "id": "8fb63623-f878-4d53-9db6-2ec9c6909116",
   "metadata": {},
   "outputs": [],
   "source": [
    "test_chassis_df = cfs.retrieve_gmID_topic( gmIDs[ 0 ] )"
   ]
  }
 ],
 "metadata": {
  "kernelspec": {
   "display_name": "Python 3 (ipykernel)",
   "language": "python",
   "name": "python3"
  },
  "language_info": {
   "codemirror_mode": {
    "name": "ipython",
    "version": 3
   },
   "file_extension": ".py",
   "mimetype": "text/x-python",
   "name": "python",
   "nbconvert_exporter": "python",
   "pygments_lexer": "ipython3",
   "version": "3.10.12"
  }
 },
 "nbformat": 4,
 "nbformat_minor": 5
}
