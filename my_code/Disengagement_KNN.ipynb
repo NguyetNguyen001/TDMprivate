{
 "cells": [
  {
   "cell_type": "code",
   "execution_count": 130,
   "id": "9d05c4fb-af6c-4057-ac4c-6ffd7f28a8c2",
   "metadata": {},
   "outputs": [],
   "source": [
    "import CalculatedFieldSubroutines as cfs\n",
    "\n",
    "#\n",
    "\n",
    "import numpy as np\n",
    "\n",
    "import pandas as pd\n",
    "\n",
    "import random\n",
    "\n",
    "#\n",
    "\n",
    "import matplotlib.pyplot as plt\n",
    "\n",
    "from pandasgui import show\n",
    "\n",
    "#\n",
    "\n",
    "import warnings\n",
    "\n",
    "#\n",
    "\n",
    "from sklearn.preprocessing import StandardScaler\n",
    "\n",
    "from sklearn.neighbors import KNeighborsClassifier\n",
    "\n",
    "import sklearn.metrics as metrics"
   ]
  },
  {
   "cell_type": "code",
   "execution_count": 131,
   "id": "60160291-b8df-4fb9-9969-8f218f15d298",
   "metadata": {},
   "outputs": [],
   "source": [
    "warnings.filterwarnings( 'ignore' )"
   ]
  },
  {
   "cell_type": "code",
   "execution_count": 132,
   "id": "2d1cb636-7395-49f1-93d9-12ddb5fe6e15",
   "metadata": {},
   "outputs": [
    {
     "name": "stdout",
     "output_type": "stream",
     "text": [
      "['/apollo/canbus/chassis', '/apollo/drive/event', '/apollo/sensor/gnss/best/pose', '/apollo/perception/traffic/light']\n"
     ]
    }
   ],
   "source": [
    "gmID_list = cfs.list_whitelisted_gmIDs()\n",
    "\n",
    "topic_list = cfs.list_topics()\n",
    "\n",
    "print( topic_list )"
   ]
  },
  {
   "cell_type": "code",
   "execution_count": 133,
   "id": "03f0cb10-55e1-42d9-ba09-55e07640f018",
   "metadata": {},
   "outputs": [],
   "source": [
    "def MovingFunction( df, moving_colname, window, operation, desired_colnames ):\n",
    "\n",
    "    if ( operation == 'mean' ):\n",
    "\n",
    "        def operation_func( arraylike_obj ): return np.mean( arraylike_obj )\n",
    "\n",
    "    elif ( operation == 'median' ):\n",
    "\n",
    "        def operation_func( arraylike_obj ): return np.median( arraylike_obj )\n",
    "\n",
    "    elif ( operation == 'overall_diff' ):\n",
    "\n",
    "        def operation_func( arraylike_obj ): return ( arraylike_obj[ -1 ] - arraylike_obj[ 0 ] )\n",
    "\n",
    "    elif ( operation == 'mean_diff' ):\n",
    "\n",
    "        def operation_func( arraylike_obj ): \n",
    "\n",
    "            if ( len( arraylike_obj ) > 1 ):\n",
    "\n",
    "                return ( np.mean( np.diff( arraylike_obj ) ) )\n",
    "\n",
    "            elif ( len( arraylike_obj ) == 1 ):\n",
    "\n",
    "                return 0\n",
    "\n",
    "    elif ( operation == 'stddev' ):\n",
    "\n",
    "        def operation_func( arraylike_obj ): return ( np.std( arraylike_obj ) )\n",
    "\n",
    "    #\n",
    "\n",
    "    moving_col = np.array( df[ moving_colname ] )\n",
    "\n",
    "    moving_col_diff = np.diff( moving_col )\n",
    "\n",
    "    #\n",
    "    \n",
    "    desired_cols = [ np.array( df[ desired_colname ] ) for desired_colname in desired_colnames ]\n",
    "\n",
    "    #\n",
    "\n",
    "    output_colnames = [ f'{ desired_colname }_{ operation }' for desired_colname in desired_colnames ]\n",
    "\n",
    "    #\n",
    "\n",
    "    window_indexes_list = []\n",
    "\n",
    "    for index in range( 1, len( moving_col ) ):\n",
    "\n",
    "        window_end_index = index - 1\n",
    "\n",
    "        #\n",
    "\n",
    "        value_sum = moving_col_diff[ window_end_index ]\n",
    "\n",
    "        window_start_index = window_end_index\n",
    "\n",
    "        while ( ( value_sum < window ) and ( window_start_index > 0 ) ):\n",
    "\n",
    "            window_start_index = window_start_index - 1\n",
    "\n",
    "            value_sum = value_sum + moving_col_diff[ window_start_index ]\n",
    "\n",
    "        #\n",
    "\n",
    "        window_indexes = [ i for i in range( window_start_index, window_end_index + 1 ) ]\n",
    "\n",
    "        window_indexes_list.append( window_indexes )\n",
    "\n",
    "    window_indexes_list = [ window_indexes_list[ 0 ] ] + window_indexes_list\n",
    "\n",
    "    #\n",
    "\n",
    "    output_cols = []\n",
    "\n",
    "    for desired_col in desired_cols:\n",
    "\n",
    "        output_col = []\n",
    "\n",
    "        for window_indexes in window_indexes_list:\n",
    "\n",
    "            output_col.append( operation_func( desired_col[ window_indexes ] ) )\n",
    "\n",
    "        output_cols.append( output_col )\n",
    "\n",
    "    #\n",
    "\n",
    "    for output_colname, output_col in zip( output_colnames, output_cols ):\n",
    "\n",
    "        df[ output_colname ] = output_col"
   ]
  },
  {
   "cell_type": "code",
   "execution_count": 134,
   "id": "d3ce435b-ec3d-4650-8158-a2a38d4c8ea5",
   "metadata": {},
   "outputs": [],
   "source": [
    "def BinaryDisengagement( df ):\n",
    "\n",
    "    TernaryDrivingModeTransition_col = df[ 'TernaryDrivingModeTransition' ]\n",
    "\n",
    "    BinaryDisengagement_col = []\n",
    "\n",
    "    for val in TernaryDrivingModeTransition_col:\n",
    "\n",
    "        if ( ( val == 0 ) or ( val == 1 ) ):\n",
    "\n",
    "            BinaryDisengagement_col.append( 0 )\n",
    "\n",
    "        elif ( val == -1 ):\n",
    "\n",
    "            BinaryDisengagement_col.append( 1 )\n",
    "\n",
    "    df[ 'BinaryDisengagement' ] = BinaryDisengagement_col"
   ]
  },
  {
   "cell_type": "code",
   "execution_count": 135,
   "id": "c3cd8ad6-30a9-498d-bea2-5cde7aad869c",
   "metadata": {},
   "outputs": [],
   "source": [
    "def BinaryDisengagementExpanded( df, moving_colname, window ):\n",
    "\n",
    "    moving_col = np.array( df[ moving_colname ] )\n",
    "\n",
    "    moving_col_diff = np.diff( moving_col )\n",
    "\n",
    "    #\n",
    "\n",
    "    BinaryDisengagement_col = np.array( df[ 'BinaryDisengagement' ] )\n",
    "\n",
    "    disengagement_indexes = np.where( BinaryDisengagement_col == 1 )[ 0 ]\n",
    "\n",
    "    #\n",
    "    \n",
    "    window_indexes_list = []\n",
    "\n",
    "    for index in disengagement_indexes:\n",
    "        \n",
    "        window_indexes = [ index ]\n",
    "\n",
    "        cur_loop_index = index - 1\n",
    "\n",
    "        value_sum = moving_col_diff[ cur_loop_index ]\n",
    "\n",
    "        while ( ( value_sum <= window ) and ( cur_loop_index > -1 ) ):\n",
    "\n",
    "            window_indexes = [ cur_loop_index ] + window_indexes\n",
    "\n",
    "            #\n",
    "\n",
    "            cur_loop_index = cur_loop_index - 1\n",
    "\n",
    "            value_sum = value_sum + moving_col_diff[ cur_loop_index ]\n",
    "\n",
    "        window_indexes_list.append( window_indexes )\n",
    "\n",
    "    #\n",
    "\n",
    "    BinaryDisengagementExpanded_col = np.copy( BinaryDisengagement_col )\n",
    "\n",
    "    for window_indexes in window_indexes_list:\n",
    "\n",
    "        BinaryDisengagementExpanded_col[ window_indexes ] = 1\n",
    "\n",
    "    #\n",
    "\n",
    "    df[ 'BinaryDisengagementExpanded' ] = BinaryDisengagementExpanded_col"
   ]
  },
  {
   "cell_type": "code",
   "execution_count": 136,
   "id": "b703a028-b7a4-46ee-9f4d-dca4b945a4de",
   "metadata": {},
   "outputs": [],
   "source": [
    "def Index( df ):\n",
    "\n",
    "    num_of_rows = df.shape[ 0 ]\n",
    "\n",
    "    df[ 'Ind' ] = [ index for index in range( num_of_rows ) ]"
   ]
  },
  {
   "cell_type": "code",
   "execution_count": 137,
   "id": "8af45450-0134-488b-a2a6-84a6829e5e41",
   "metadata": {},
   "outputs": [],
   "source": [
    "def Distance( df ):\n",
    "\n",
    "    time_array = np.array( df[ 'time' ] ) * 1e-9 # seconds\n",
    "\n",
    "    speedMps_array = np.array( df[ 'speedMps' ] ) # meters/second\n",
    "\n",
    "    #\n",
    "\n",
    "    deltatime_array = np.diff( time_array )\n",
    "\n",
    "    deltatime_array = np.insert( deltatime_array, 0, deltatime_array[ 0 ] )\n",
    "\n",
    "    #\n",
    "\n",
    "    deltadistance_array = deltatime_array * speedMps_array #meters\n",
    "\n",
    "    Distance_col = np.cumsum( deltadistance_array )\n",
    "\n",
    "    #\n",
    "\n",
    "    df[ 'Distance' ] = Distance_col"
   ]
  },
  {
   "cell_type": "code",
   "execution_count": 138,
   "id": "93ecefb5-a66d-470d-a017-2cec11db049d",
   "metadata": {},
   "outputs": [],
   "source": [
    "def DisengagementID( df, expanded = False ):\n",
    "\n",
    "    gmID = df[ 'groupMetadataID' ][ 0 ]\n",
    "    \n",
    "    #\n",
    "\n",
    "    if ( expanded == False ):\n",
    "\n",
    "        disengagment_col = np.array( df[ 'BinaryDisengagement' ] )\n",
    "\n",
    "        string1 = ''\n",
    "\n",
    "        string2 = ''\n",
    "\n",
    "    elif ( expanded == True ):\n",
    "\n",
    "        disengagment_col = np.array( df[ 'BinaryDisengagementExpanded' ] )\n",
    "\n",
    "        string1 = 'Expanded'\n",
    "\n",
    "        string2 = 'e'\n",
    "\n",
    "    #\n",
    "\n",
    "    disengagement_indexes = np.where( disengagment_col == 1 )[ 0 ]\n",
    "\n",
    "    #\n",
    "\n",
    "    DisengagementID_col = [ 'NAD' for i in disengagment_col ]\n",
    "\n",
    "    counter = 0\n",
    "\n",
    "    for index in disengagement_indexes:\n",
    "\n",
    "        DisengagementID_col[ index ] = f'{ gmID }_{ counter }{ string2 }'\n",
    "\n",
    "        counter = counter + 1\n",
    "\n",
    "    df[ f'Disengagement{ string1 }ID' ] = DisengagementID_col"
   ]
  },
  {
   "cell_type": "code",
   "execution_count": 139,
   "id": "e2210ac2-272e-4c54-9ccb-8b38d3c4d6f5",
   "metadata": {},
   "outputs": [],
   "source": [
    "def random_list_split( input_list, split_percentage = 0.5 ):\n",
    "\n",
    "    randomized_input_list = random.shuffle( input_list )\n",
    "\n",
    "    #\n",
    "\n",
    "    list_len = len( input_list )\n",
    "\n",
    "    split_index = round( list_len * split_percentage )\n",
    "\n",
    "    split_list1 = input_list[ : split_index ]\n",
    "\n",
    "    split_list2 = input_list[ split_index : ]\n",
    "\n",
    "    return split_list1, split_list2"
   ]
  },
  {
   "cell_type": "code",
   "execution_count": 140,
   "id": "64eca43f-8536-4506-bfce-c5d82d26768e",
   "metadata": {},
   "outputs": [],
   "source": [
    "red_combined_dfs = []\n",
    "\n",
    "green_combined_dfs = []\n",
    "\n",
    "blue_combined_dfs = []\n",
    "\n",
    "for gmID in gmID_list:\n",
    "\n",
    "    chassis_df = cfs.retrieve_gmID_topic( gmID, '/apollo/canbus/chassis' )\n",
    "\n",
    "    best_pose_df = cfs.retrieve_gmID_topic( gmID, '/apollo/sensor/gnss/best/pose' )\n",
    "\n",
    "    chassis_df = chassis_df.sort_values( 'time' )\n",
    "\n",
    "    best_pose_df = best_pose_df.sort_values( 'time' )\n",
    "\n",
    "    #\n",
    "\n",
    "    Index( chassis_df )\n",
    "\n",
    "    #\n",
    "\n",
    "    cfs.BinaryDrivingMode( chassis_df )\n",
    "\n",
    "    cfs.TernaryDrivingModeTransition( chassis_df )\n",
    "\n",
    "    BinaryDisengagement( chassis_df )\n",
    "\n",
    "    #\n",
    "\n",
    "    DisengagementID( chassis_df, expanded = False )\n",
    "\n",
    "    #\n",
    "\n",
    "    cfs.Acceleration( chassis_df )\n",
    "\n",
    "    #\n",
    "\n",
    "    cfs.LatLonTotalStdDev( best_pose_df )\n",
    "\n",
    "    #\n",
    "\n",
    "    cfs.ProgressAlongRoute_v2( best_pose_df )\n",
    "\n",
    "    #\n",
    "\n",
    "    cfs.ChassisBestPoseMatchedTime( chassis_df, best_pose_df )\n",
    "\n",
    "    #\n",
    "\n",
    "    combined_df = pd.merge( chassis_df, best_pose_df, on = 'ChassisBestPoseMatchedTime', how = 'inner' )\n",
    "\n",
    "    #\n",
    "\n",
    "    columns_to_keep = [ 'Ind', 'time_x', 'speedMps', 'Acceleration', 'brakePercentage', 'throttlePercentage', 'steeringPercentage', \\\n",
    "                        'LatLonTotalStdDev', 'BinaryDrivingMode', 'BinaryDisengagement', 'DisengagementID', 'groupMetadataID_x', 'longitude', 'latitude', \\\n",
    "                        'ProgressAlongRoute' ]\n",
    "\n",
    "    combined_df = combined_df[ columns_to_keep ]\n",
    "\n",
    "    combined_df = combined_df.rename( columns = { 'groupMetadataID_x': 'groupMetadataID', 'time_x': 'time' } )\n",
    "\n",
    "    #\n",
    "\n",
    "    combined_df[ 'steeringPercentage' ] = np.abs( combined_df[ 'steeringPercentage' ] )\n",
    "\n",
    "    combined_df = combined_df.rename( columns = { 'steeringPercentage': 'abs_steeringPercentage' } )\n",
    "\n",
    "    #\n",
    "\n",
    "    limited_stddev_list = []\n",
    "\n",
    "    for stddev in combined_df[ 'LatLonTotalStdDev' ]:\n",
    "\n",
    "        if ( stddev > 10 ):\n",
    "\n",
    "            stddev = 10\n",
    "\n",
    "        limited_stddev_list.append( stddev )\n",
    "\n",
    "    combined_df[ 'LatLonTotalStdDev' ] = limited_stddev_list\n",
    "\n",
    "    combined_df = combined_df.rename( columns = { 'LatLonTotalStdDev': 'limited_LatLonTotalStdDev' } )\n",
    "\n",
    "    #\n",
    "\n",
    "    if ( cfs.give_route( gmID ) == 'Red' ):\n",
    "\n",
    "        red_combined_dfs.append( combined_df )\n",
    "\n",
    "    elif ( cfs.give_route( gmID ) == 'Green' ):\n",
    "\n",
    "        green_combined_dfs.append( combined_df )\n",
    "\n",
    "    elif ( cfs.give_route( gmID ) == 'Blue' ):\n",
    "\n",
    "        blue_combined_dfs.append( combined_df )"
   ]
  },
  {
   "cell_type": "code",
   "execution_count": 141,
   "id": "a2de51d5-d353-4982-984b-3a85ad572b7c",
   "metadata": {},
   "outputs": [],
   "source": [
    "all_combined_dfs = red_combined_dfs + green_combined_dfs + blue_combined_dfs\n",
    "\n",
    "all_combined_df = pd.concat( all_combined_dfs )\n",
    "\n",
    "del all_combined_dfs"
   ]
  },
  {
   "cell_type": "code",
   "execution_count": 143,
   "id": "b0503a4f-4cf1-4aec-99c5-3ed8cc86400c",
   "metadata": {},
   "outputs": [
    {
     "name": "stdout",
     "output_type": "stream",
     "text": [
      "Disengagement %: 0.019\n",
      "# of Non-Disengagements: 11424607\n",
      "# of Disengagements: 2217\n"
     ]
    }
   ],
   "source": [
    "BinaryDisengagement_valuecounts = all_combined_df[ 'BinaryDisengagement' ].value_counts()\n",
    "\n",
    "disengagement_percentage = ( BinaryDisengagement_valuecounts[ 1 ] / ( BinaryDisengagement_valuecounts[ 0 ] + BinaryDisengagement_valuecounts[ 1 ] ) ) * 100\n",
    "\n",
    "print( f'Disengagement %: { disengagement_percentage:.3f}' )\n",
    "\n",
    "print( f'# of Non-Disengagements: { BinaryDisengagement_valuecounts[ 0 ] }' )\n",
    "\n",
    "print( f'# of Disengagements: { BinaryDisengagement_valuecounts[ 1 ] }' )"
   ]
  },
  {
   "cell_type": "code",
   "execution_count": 154,
   "id": "ab3a09d6-89dd-48f1-a7b8-f82289183e30",
   "metadata": {},
   "outputs": [
    {
     "name": "stdout",
     "output_type": "stream",
     "text": [
      "Manual %: 22.629\n",
      "# of Auto: 8841071\n",
      "# of Manual: 2585753\n"
     ]
    }
   ],
   "source": [
    "BinaryDrivingMode_valuecounts = all_combined_df[ 'BinaryDrivingMode' ].value_counts()\n",
    "\n",
    "manual_percentage = ( BinaryDrivingMode_valuecounts[ 0 ] / ( BinaryDrivingMode_valuecounts[ 0 ] + BinaryDrivingMode_valuecounts[ 1 ] ) ) * 100\n",
    "\n",
    "print( f'Manual %: { manual_percentage:.3f}' )\n",
    "\n",
    "print( f'# of Auto: { BinaryDrivingMode_valuecounts[ 1 ] }' )\n",
    "\n",
    "print( f'# of Manual: { BinaryDrivingMode_valuecounts[ 0 ] }' )"
   ]
  },
  {
   "cell_type": "code",
   "execution_count": 125,
   "id": "24de4da2-3e3a-4781-9f11-26bc2893e78d",
   "metadata": {},
   "outputs": [
    {
     "name": "stdout",
     "output_type": "stream",
     "text": [
      "K#: 1\n",
      "K#: 2\n",
      "K#: 3\n"
     ]
    }
   ],
   "source": [
    "mean_metric_list_list = []\n",
    "\n",
    "for k in range( 1, 4 ):\n",
    "\n",
    "    print( f'K#: { k }' )\n",
    "\n",
    "    tn_list = []\n",
    "\n",
    "    tp_list = []\n",
    "\n",
    "    fn_list = []\n",
    "\n",
    "    fp_list = []\n",
    "\n",
    "    #\n",
    "\n",
    "    precision_list = []\n",
    "\n",
    "    recall_list = []\n",
    "\n",
    "    # f1_score_list = []\n",
    "\n",
    "    tnr_list = []\n",
    "\n",
    "    #\n",
    "\n",
    "    accuracy_list = []\n",
    "\n",
    "    balanced_accuracy_list = []\n",
    "\n",
    "    for n in range( 5 ):\n",
    "\n",
    "        training_red_dfs, testing_red_dfs = random_list_split( red_combined_dfs, split_percentage = 0.8 )\n",
    "\n",
    "        training_red_df = pd.concat( training_red_dfs )\n",
    "\n",
    "        testing_red_df = pd.concat( testing_red_dfs )\n",
    "\n",
    "        #\n",
    "\n",
    "        X_colnames = [ 'speedMps', 'brakePercentage', 'throttlePercentage', 'abs_steeringPercentage', 'limited_LatLonTotalStdDev' ]\n",
    "\n",
    "        Y_colname = 'BinaryDisengagement'\n",
    "\n",
    "        #\n",
    "\n",
    "        X_train = training_red_df[ X_colnames ]\n",
    "\n",
    "        Y_train = training_red_df[ Y_colname ]\n",
    "\n",
    "        #\n",
    "\n",
    "        X_test = testing_red_df[ X_colnames ]\n",
    "\n",
    "        Y_test = testing_red_df[ Y_colname ]\n",
    "\n",
    "        #\n",
    "\n",
    "        scaler = StandardScaler()\n",
    "\n",
    "        X_train = scaler.fit_transform( X_train )\n",
    "\n",
    "        X_test = scaler.transform( X_test )\n",
    "\n",
    "        #\n",
    "\n",
    "        knn = KNeighborsClassifier( n_neighbors = k )\n",
    "\n",
    "        knn.fit( X_train, Y_train )\n",
    "\n",
    "        Y_pred = knn.predict( X_test )\n",
    "\n",
    "        #\n",
    "\n",
    "        cm = metrics.confusion_matrix( Y_test, Y_pred )\n",
    "\n",
    "        #\n",
    "\n",
    "        tn = cm[ 0, 0 ]\n",
    "\n",
    "        tn_list.append( tn )\n",
    "\n",
    "        tp = cm[ 1, 1 ]\n",
    "\n",
    "        tp_list.append( tp )\n",
    "\n",
    "        fn = cm[ 1, 0 ]\n",
    "\n",
    "        fn_list.append( fn )\n",
    "\n",
    "        fp = cm[ 0, 1 ]\n",
    "\n",
    "        fp_list.append( fp )\n",
    "\n",
    "        #\n",
    "\n",
    "        precision = tp / ( tp + fp )\n",
    "\n",
    "        precision_list.append( precision )\n",
    "\n",
    "        recall = tp / ( tp + fn )\n",
    "\n",
    "        recall_list.append( recall )\n",
    "\n",
    "        # f1_score = 2 * ( precision * recall ) / ( precision + recall )\n",
    "\n",
    "        # f1_score_list.append( f1_score )\n",
    "\n",
    "        tnr = tn / ( tn + fp )\n",
    "\n",
    "        tnr_list.append( tnr )\n",
    "\n",
    "        #\n",
    "\n",
    "        accuracy = ( tp + tn ) / ( tp + tn + fp + fn )\n",
    "\n",
    "        accuracy_list.append( accuracy )\n",
    "\n",
    "        balanced_accuracy = ( recall + tnr ) / 2\n",
    "\n",
    "        balanced_accuracy_list.append( balanced_accuracy )\n",
    "\n",
    "    #\n",
    "\n",
    "    mean_tn = np.mean( tn_list )\n",
    "\n",
    "    mean_tp = np.mean( tp_list )\n",
    "\n",
    "    mean_fn = np.mean( fn_list )\n",
    "\n",
    "    mean_fp = np.mean( fp_list )\n",
    "\n",
    "    #\n",
    "\n",
    "    mean_precision = np.mean( precision_list )\n",
    "\n",
    "    mean_recall = np.mean( recall_list )\n",
    "\n",
    "    # mean_f1_score = np.mean( f1_score_list )\n",
    "\n",
    "    mean_tnr = np.mean( tnr_list )\n",
    "\n",
    "    #\n",
    "\n",
    "    mean_accuracy = np.mean( accuracy_list )\n",
    "\n",
    "    mean_balanced_accuracy = np.mean( balanced_accuracy_list )\n",
    "\n",
    "    #\n",
    "\n",
    "    mean_metric_list = [ mean_tn, mean_tp, mean_fn, mean_fp, mean_precision, mean_recall, mean_tnr, mean_accuracy, mean_balanced_accuracy ]\n",
    "\n",
    "    mean_metric_list_list.append( mean_metric_list )"
   ]
  },
  {
   "cell_type": "code",
   "execution_count": 208,
   "id": "3dad6716-4e2d-4b10-b163-86f22e6c9275",
   "metadata": {},
   "outputs": [
    {
     "name": "stdout",
     "output_type": "stream",
     "text": [
      "K-Value: 1\n",
      "\n",
      "Mean_False_Negatives: 119.4, Mean_True_Positives: 0.4\n",
      "Mean_True_Negatives: 777124.8, Mean_False_Positives: 174.6\n",
      "\n",
      "Mean_Precision: 0.002\n",
      "Mean_Recall/True_Positive_Rate: 0.003\n",
      "True_Negative_Rate: 1.000\n",
      "\n",
      "Mean_Accuracy: 1.000\n",
      "Mean_Balanced_Accuracy: 0.502\n",
      "\n",
      "\n",
      "\n",
      "K-Value: 2\n",
      "\n",
      "Mean_False_Negatives: 128.2, Mean_True_Positives: 0.0\n",
      "Mean_True_Negatives: 792643.4, Mean_False_Positives: 0.6\n",
      "\n",
      "Mean_Precision: nan\n",
      "Mean_Recall/True_Positive_Rate: 0.000\n",
      "True_Negative_Rate: 1.000\n",
      "\n",
      "Mean_Accuracy: 1.000\n",
      "Mean_Balanced_Accuracy: 0.500\n",
      "\n",
      "\n",
      "\n",
      "K-Value: 3\n",
      "\n",
      "Mean_False_Negatives: 129.6, Mean_True_Positives: 0.0\n",
      "Mean_True_Negatives: 727161.8, Mean_False_Positives: 1.2\n",
      "\n",
      "Mean_Precision: nan\n",
      "Mean_Recall/True_Positive_Rate: 0.000\n",
      "True_Negative_Rate: 1.000\n",
      "\n",
      "Mean_Accuracy: 1.000\n",
      "Mean_Balanced_Accuracy: 0.500\n",
      "\n",
      "\n",
      "\n"
     ]
    }
   ],
   "source": [
    "for k in range( 1, 4 ):\n",
    "\n",
    "    print( f'K-Value: { k }' )\n",
    "\n",
    "    mean_metric_list = mean_metric_list_list[ k - 1 ]\n",
    "\n",
    "    print( '' )\n",
    "\n",
    "    print( f'Mean_False_Negatives: { mean_metric_list[ 2 ] }, Mean_True_Positives: { mean_metric_list[ 1 ] }' )\n",
    "    \n",
    "    print( f'Mean_True_Negatives: { mean_metric_list[ 0 ] }, Mean_False_Positives: { mean_metric_list[ 3 ] }' )\n",
    "\n",
    "    print( '' )\n",
    "\n",
    "    print( f'Mean_Precision: { mean_metric_list[ 4 ]:.3f}' )\n",
    "\n",
    "    print( f'Mean_Recall/True_Positive_Rate: { mean_metric_list[ 5 ]:.3f}' )\n",
    "\n",
    "    print( f'True_Negative_Rate: { mean_metric_list[ 6 ]:.3f}' )\n",
    "\n",
    "    print( '' )\n",
    "\n",
    "    print( f'Mean_Accuracy: { mean_metric_list[ 7 ]:.3f}' )\n",
    "\n",
    "    print( f'Mean_Balanced_Accuracy: { mean_metric_list[ 8 ]:.3f}' )\n",
    "\n",
    "    print( '\\n\\n' )\n",
    "    "
   ]
  },
  {
   "cell_type": "code",
   "execution_count": 199,
   "id": "b6afbd46-9726-468c-8217-c7ad43fd148f",
   "metadata": {},
   "outputs": [
    {
     "data": {
      "text/plain": [
       "14"
      ]
     },
     "execution_count": 199,
     "metadata": {},
     "output_type": "execute_result"
    }
   ],
   "source": [
    "len( testing_red_dfs )"
   ]
  },
  {
   "cell_type": "code",
   "execution_count": 129,
   "id": "1a325b48-4422-43d5-9a0f-aa9d353a32f7",
   "metadata": {},
   "outputs": [
    {
     "data": {
      "text/plain": [
       "[np.float64(777124.8),\n",
       " np.float64(0.4),\n",
       " np.float64(119.4),\n",
       " np.float64(174.6),\n",
       " np.float64(0.0019360269360269363),\n",
       " np.float64(0.003347807816220759),\n",
       " np.float64(0.9997789093317258),\n",
       " np.float64(0.9996219403859558),\n",
       " np.float64(0.5015633585739733)]"
      ]
     },
     "execution_count": 129,
     "metadata": {},
     "output_type": "execute_result"
    }
   ],
   "source": [
    "mean_metric_list_list[ 0 ]"
   ]
  },
  {
   "cell_type": "code",
   "execution_count": 118,
   "id": "20bd9786-eb13-4def-b58a-6a067f90b041",
   "metadata": {},
   "outputs": [],
   "source": [
    "X_colnames = [ 'speedMps', 'brakePercentage', 'throttlePercentage', 'abs_steeringPercentage', 'limited_LatLonTotalStdDev' ]\n",
    "\n",
    "Y_colname = 'BinaryDisengagement'\n",
    "\n",
    "#\n",
    "\n",
    "X_train = training_red_df[ X_colnames ]\n",
    "\n",
    "Y_train = training_red_df[ Y_colname ]\n",
    "\n",
    "#\n",
    "\n",
    "X_test = testing_red_df[ X_colnames ]\n",
    "\n",
    "Y_test = testing_red_df[ Y_colname ]"
   ]
  },
  {
   "cell_type": "code",
   "execution_count": 119,
   "id": "97997a4d-b127-488f-a88c-5801e1f3620c",
   "metadata": {},
   "outputs": [],
   "source": [
    "scaler = StandardScaler()\n",
    "\n",
    "X_train = scaler.fit_transform( X_train )\n",
    "\n",
    "X_test = scaler.transform( X_test )"
   ]
  },
  {
   "cell_type": "code",
   "execution_count": 120,
   "id": "d1b07f6e-2298-4e26-a469-ca5d4d0268d5",
   "metadata": {},
   "outputs": [],
   "source": [
    "knn = KNeighborsClassifier( n_neighbors = 1 )\n",
    "\n",
    "knn.fit( X_train, Y_train )\n",
    "\n",
    "Y_pred = knn.predict( X_test )"
   ]
  },
  {
   "cell_type": "code",
   "execution_count": 121,
   "id": "b2193252-a702-4ac4-bec7-56a678e50583",
   "metadata": {},
   "outputs": [
    {
     "name": "stdout",
     "output_type": "stream",
     "text": [
      "Accuracy: 0.9994554926635941\n"
     ]
    }
   ],
   "source": [
    "accuracy = accuracy_score( Y_test, Y_pred )\n",
    "print( \"Accuracy:\", accuracy )"
   ]
  },
  {
   "cell_type": "code",
   "execution_count": 122,
   "id": "0373936e-8274-4b81-bc61-b9422c15995b",
   "metadata": {},
   "outputs": [
    {
     "data": {
      "text/plain": [
       "np.float64(0.4998345903981532)"
      ]
     },
     "execution_count": 122,
     "metadata": {},
     "output_type": "execute_result"
    }
   ],
   "source": [
    "balanced_accuracy_score( Y_test, Y_pred )"
   ]
  },
  {
   "cell_type": "code",
   "execution_count": 123,
   "id": "25dcad04-8af7-4d54-bf86-84d2f727eded",
   "metadata": {},
   "outputs": [
    {
     "data": {
      "text/plain": [
       "<sklearn.metrics._plot.confusion_matrix.ConfusionMatrixDisplay at 0x71da9fb49150>"
      ]
     },
     "execution_count": 123,
     "metadata": {},
     "output_type": "execute_result"
    },
    {
     "data": {
      "image/png": "[encoded data removed]",
      "text/plain": [
       "<Figure size 640x480 with 2 Axes>"
      ]
     },
     "metadata": {},
     "output_type": "display_data"
    }
   ],
   "source": [
    "cm = confusion_matrix( Y_test, Y_pred )\n",
    "\n",
    "disp = ConfusionMatrixDisplay( confusion_matrix = cm )\n",
    "\n",
    "disp.plot()"
   ]
  },
  {
   "cell_type": "code",
   "execution_count": 106,
   "id": "8b3dafe4-1303-416f-8484-44a6d3b50338",
   "metadata": {},
   "outputs": [
    {
     "data": {
      "text/plain": [
       "np.int64(177)"
      ]
     },
     "execution_count": 106,
     "metadata": {},
     "output_type": "execute_result"
    }
   ],
   "source": [
    "cm[ 0, 1 ]"
   ]
  },
  {
   "cell_type": "code",
   "execution_count": 173,
   "id": "0d59a35f-fff0-46b7-bb57-e8c6ac9fc798",
   "metadata": {},
   "outputs": [],
   "source": [
    "test_df = cfs.retrieve_gmID_topic( gmID_list[ 1 ], '/apollo/canbus/chassis' )\n",
    "\n",
    "test_df = test_df.sort_values( 'time' )\n",
    "\n",
    "cfs.NormalizedTime( test_df )\n",
    "\n",
    "Distance( test_df )"
   ]
  },
  {
   "cell_type": "code",
   "execution_count": 183,
   "id": "fc1acc41-725f-44ae-8900-e2f0e6f7bacc",
   "metadata": {},
   "outputs": [],
   "source": [
    "MovingFunction( test_df, moving_colname = 'Distance', window = 50 , operation = 'mean', desired_colnames = [ 'speedMps' ] )"
   ]
  },
  {
   "cell_type": "code",
   "execution_count": 184,
   "id": "57074eae-970d-467d-8c15-6635d5bc39d9",
   "metadata": {},
   "outputs": [
    {
     "name": "stdout",
     "output_type": "stream",
     "text": [
      "<class 'pandas.core.frame.DataFrame'>\n",
      "RangeIndex: 53079 entries, 0 to 53078\n",
      "Data columns (total 11 columns):\n",
      " #   Column              Non-Null Count  Dtype  \n",
      "---  ------              --------------  -----  \n",
      " 0   brakePercentage     53079 non-null  float64\n",
      " 1   groupMetadataID     53079 non-null  object \n",
      " 2   drivingMode         53079 non-null  object \n",
      " 3   speedMps            53079 non-null  float64\n",
      " 4   time                53079 non-null  int64  \n",
      " 5   throttlePercentage  53079 non-null  float64\n",
      " 6   steeringPercentage  53079 non-null  float64\n",
      " 7   signal.turnSignal   53079 non-null  object \n",
      " 8   NormalizedTime      53079 non-null  int64  \n",
      " 9   Distance            53079 non-null  float64\n",
      " 10  speedMps_mean       53079 non-null  float64\n",
      "dtypes: float64(6), int64(2), object(3)\n",
      "memory usage: 4.5+ MB\n"
     ]
    }
   ],
   "source": [
    "test_df.info()"
   ]
  },
  {
   "cell_type": "code",
   "execution_count": 190,
   "id": "0053485f-9da6-4c39-9d21-2ebdb8250b66",
   "metadata": {},
   "outputs": [
    {
     "data": {
      "text/plain": [
       "'Blue'"
      ]
     },
     "execution_count": 190,
     "metadata": {},
     "output_type": "execute_result"
    }
   ],
   "source": [
    "cfs.give_route( gmID_list[ 1 ] )"
   ]
  },
  {
   "cell_type": "code",
   "execution_count": 196,
   "id": "e876cb68-dd66-4dd5-a585-27a08f541686",
   "metadata": {},
   "outputs": [
    {
     "data": {
      "image/png": "[encoded data removed]",
      "text/plain": [
       "<Figure size 640x480 with 1 Axes>"
      ]
     },
     "metadata": {},
     "output_type": "display_data"
    }
   ],
   "source": [
    "plt.plot( test_df[ 'NormalizedTime' ] * 1e-9, test_df[ 'speedMps' ], label = 'Instantaneous' )\n",
    "\n",
    "plt.plot( test_df[ 'NormalizedTime' ] * 1e-9, test_df[ 'speedMps_mean' ], label = 'Moving Average' )\n",
    "\n",
    "plt.xlim( 1000, 1500 )\n",
    "\n",
    "plt.xlabel( 'Time into Run [sec]' )\n",
    "\n",
    "plt.ylabel( 'Speed [m/s]' )\n",
    "\n",
    "plt.title( f'Speed v. Time \\n (Blue Route | gmID: { gmID_list[ 1 ] })' )\n",
    "\n",
    "plt.legend()\n",
    "\n",
    "plt.show()"
   ]
  },
  {
   "cell_type": "code",
   "execution_count": null,
   "id": "5679e443-94ed-4d26-9308-94ee24479fc3",
   "metadata": {},
   "outputs": [],
   "source": []
  }
 ],
 "metadata": {
  "kernelspec": {
   "display_name": "Python 3 (ipykernel)",
   "language": "python",
   "name": "python3"
  },
  "language_info": {
   "codemirror_mode": {
    "name": "ipython",
    "version": 3
   },
   "file_extension": ".py",
   "mimetype": "text/x-python",
   "name": "python",
   "nbconvert_exporter": "python",
   "pygments_lexer": "ipython3",
   "version": "3.10.12"
  }
 },
 "nbformat": 4,
 "nbformat_minor": 5
}
