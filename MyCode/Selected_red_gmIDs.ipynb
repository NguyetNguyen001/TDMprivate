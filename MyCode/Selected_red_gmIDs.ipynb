{
 "cells": [
  {
   "cell_type": "code",
   "execution_count": 1,
   "id": "14357f71-eefb-4199-aebe-4b67b3cb3036",
   "metadata": {},
   "outputs": [],
   "source": [
    "%load_ext rpy2.ipython"
   ]
  },
  {
   "cell_type": "code",
   "execution_count": 2,
   "id": "39e927f2-fd4c-47c1-891b-0880dd724972",
   "metadata": {},
   "outputs": [
    {
     "data": {
      "text/plain": [
       "\n",
       "Attaching package: ‘dplyr’\n",
       "\n",
       "The following objects are masked from ‘package:stats’:\n",
       "\n",
       "    filter, lag\n",
       "\n",
       "The following objects are masked from ‘package:base’:\n",
       "\n",
       "    intersect, setdiff, setequal, union\n",
       "\n",
       "Loading required package: lattice\n",
       "Type 'citation(\"pROC\")' for a citation.\n",
       "\n",
       "Attaching package: ‘pROC’\n",
       "\n",
       "The following objects are masked from ‘package:stats’:\n",
       "\n",
       "    cov, smooth, var\n",
       "\n",
       "Loaded ROSE 0.0-4\n",
       "\n",
       "Loading required package: Matrix\n",
       "Loaded glmnet 4.1-8\n",
       "In addition: Warning message:\n",
       "In (function (package, help, pos = 2, lib.loc = NULL, character.only = FALSE,  :\n",
       "  libraries ‘/usr/local/lib/R/site-library’, ‘/usr/lib/R/site-library’ contain no packages\n"
      ]
     },
     "metadata": {},
     "output_type": "display_data"
    }
   ],
   "source": [
    "%%R\n",
    "\n",
    "#install.packages(\"tibble\")\n",
    "#install.packages(\"dplyr\")\n",
    "#install.packages(ggplot2)\n",
    "#install.packages(\"caret\")\n",
    "#install.packages(\"glmnet\")\n",
    "\n",
    "library(tibble)\n",
    "library(dplyr)\n",
    "library(ggplot2)\n",
    "library(caret)\n",
    "library(pROC)\n",
    "library(ROSE)\n",
    "library(glmnet)"
   ]
  },
  {
   "cell_type": "code",
   "execution_count": 3,
   "id": "f378e403-6c2e-4969-aa6c-e0a08172e8b4",
   "metadata": {},
   "outputs": [],
   "source": [
    "%%R\n",
    "\n",
    "binary_driving_mode <- function (df_chassis) {\n",
    "    result <- ifelse(df_chassis$drivingMode == \"COMPLETE_AUTO_DRIVE\", 1, 0)\n",
    "\n",
    "    return(result)\n",
    "}\n",
    "\n",
    "\n",
    "merge_chassis_pose <- function (df_chassis, df_pose) {\n",
    "    \n",
    "    \n",
    "    df_chassis <- df_chassis[order(df_chassis$time), ]\n",
    "    df_pose <- df_pose[order(df_pose$time), ]\n",
    "    \n",
    "    #make sure data is sorted by time fist\n",
    "\n",
    "    chassis_time_arr <- df_chassis$time\n",
    "    pose_time_arr <- df_pose$time\n",
    "\n",
    "    matched_vector <- c()\n",
    "\n",
    "    for (chassis_time in chassis_time_arr) {\n",
    "        abs_time_diff_arr <- abs(pose_time_arr - chassis_time)\n",
    "\n",
    "        min_index <-  which(abs_time_diff_arr == min(abs_time_diff_arr))\n",
    "        \n",
    "        matched_vector <-  c(matched_vector, pose_time_arr[min_index])\n",
    "    }\n",
    "\n",
    "\n",
    "\n",
    "    #df_chassis$matched <- df_pose$time[which(abs(pose_time_arr - df_chassis$time) == min(abs(pose_time_arr - df_chassis$time)))]\n",
    "    df_chassis$matched <-  matched_vector\n",
    "    df_pose$matched <-  df_pose$time\n",
    "\n",
    "\n",
    "    return (list(df_chassis = df_chassis, df_pose = df_pose))\n",
    "\n",
    "\n",
    "}\n",
    "\n",
    "latlongStdDev <- function(df_pose){\n",
    "    x <- df_pose[\"latitudeStdDev\"]\n",
    "    y <- df_pose[\"longitudeStdDev\"]\n",
    "    r <- sqrt(x^2 + y^2)\n",
    "\n",
    "    return(r)\n",
    "\n",
    "}"
   ]
  },
  {
   "cell_type": "code",
   "execution_count": 4,
   "id": "8030a21a-8d94-4557-bac5-19c881995a15",
   "metadata": {},
   "outputs": [],
   "source": [
    "%%R\n",
    "# Defining GMIDs for Red Routes\n",
    "# Am creating a list of GMIDs for processing\n",
    "red_route_gmIDs  <- c(\n",
    "     '61b12e7a-f234-11ee-bb33-fb353e7798cd',\n",
    "'fcc6fcd2-f013-11ee-b966-fb353e7798cd',\n",
    "'05c7c824-cab8-11ee-aa4d-1d66adf2f0c7',\n",
    "'211bdb36-f0da-11ee-ba1b-fb353e7798cd',\n",
    "'868de15e-f3b3-11ee-bb4e-fb353e7798cd',\n",
    "'72a03d4a-efe9-11ee-b966-fb353e7798cd',\n",
    "'7fb7b9c0-c881-11ee-a7fc-dd032dba19e8',\n",
    "'96f7a614-f549-11ee-8afa-cb629b0d53e6',\n",
    "'1bbbfbae-c839-11ee-a7fc-dd032dba19e8',\n",
    "'622bd2e8-f0e4-11ee-ba1f-fb353e7798cd',\n",
    "'9798fe24-f143-11ee-ba78-fb353e7798cd',\n",
    "'88dd6fbe-f224-11ee-bb21-fb353e7798cd',\n",
    "'c9c6856c-d33c-11ee-b437-336917683bb8',\n",
    "'d12cd1c4-caec-11ee-909c-e1dc60cf66f9',\n",
    "'817d6848-efb6-11ee-b966-fb353e7798cd',\n",
    "'1b6aca0e-efdf-11ee-b966-fb353e7798cd',\n",
    "'41b67a28-f52f-11ee-8afa-cb629b0d53e6',\n",
    "'fc211bb2-efca-11ee-b966-fb353e7798cd',\n",
    "'84d96f18-f214-11ee-bb13-fb353e7798cd',\n",
    "'fe973c9c-f53c-11ee-8afa-cb629b0d53e6',\n",
    "'3151e9e2-eff3-11ee-b966-fb353e7798cd',\n",
    "'c0555ef0-f50f-11ee-8afa-cb629b0d53e6',\n",
    "'f711e68e-f0e1-11ee-ba1f-fb353e7798cd',\n",
    "'c338788a-d324-11ee-b437-336917683bb8',\n",
    "'d21965e6-f0fa-11ee-ba37-fb353e7798cd',\n",
    "'88a68dd8-eef9-11ee-9385-ef789ffde1d3',\n",
    "'f41cbd44-eff8-11ee-b966-fb353e7798cd',\n",
    "'43a1a35e-f362-11ee-bb4e-fb353e7798cd',\n",
    "'6d2ea45a-c839-11ee-a7fc-dd032dba19e8',\n",
    "'01e65360-efd4-11ee-b966-fb353e7798cd',\n",
    "'7cbd932e-f244-11ee-bb3f-fb353e7798cd',\n",
    "'65cfbfd6-f396-11ee-bb4e-fb353e7798cd',\n",
    "'94c53148-eeed-11ee-9385-ef789ffde1d3',\n",
    "'fd1ab258-efa7-11ee-b966-fb353e7798cd',\n",
    "'e7b934a8-ef1a-11ee-9385-ef789ffde1d3',\n",
    "'de933de8-f112-11ee-ba4d-fb353e7798cd',\n",
    "'d3698592-ef9d-11ee-b966-fb353e7798cd',\n",
    "'dd72fdec-f0cf-11ee-ba0d-fb353e7798cd',\n",
    "'b82476fe-f1f3-11ee-baff-fb353e7798cd',\n",
    "'f755cf60-f132-11ee-ba6d-fb353e7798cd',\n",
    "'853ef120-cad3-11ee-909c-e1dc60cf66f9',\n",
    "'f0eebb6a-f0dc-11ee-ba1e-fb353e7798cd',\n",
    "'cf831f42-f353-11ee-bb4e-fb353e7798cd',\n",
    "'ecebb942-f162-11ee-ba97-fb353e7798cd',\n",
    "'219f7eb8-ef87-11ee-b966-fb353e7798cd',\n",
    "'d24820c8-f197-11ee-babe-fb353e7798cd',\n",
    "'3d2d29ec-ef95-11ee-b966-fb353e7798cd',\n",
    "'457dc5ee-f02a-11ee-b966-fb353e7798cd',\n",
    "'2462c9d0-eecd-11ee-9385-ef789ffde1d3',\n",
    "'51ef6da6-ca9f-11ee-909c-e1dc60cf66f9',\n",
    "'c25271be-f3a4-11ee-bb4e-fb353e7798cd',\n",
    "'8347b862-efad-11ee-b966-fb353e7798cd',\n",
    "'8dbbbf1c-f0ef-11ee-ba29-fb353e7798cd',\n",
    "'9189a2a8-f121-11ee-ba5b-fb353e7798cd',\n",
    "'8fa6fe80-c869-11ee-a7fc-dd032dba19e8',\n",
    "'35518ec4-f153-11ee-ba88-fb353e7798cd',\n",
    "'2f95c748-f009-11ee-b966-fb353e7798cd',\n",
    "'8437f77a-cab7-11ee-909c-e1dc60cf66f9',\n",
    "'2a61b8a8-f528-11ee-8afa-cb629b0d53e6',\n",
    "'5a4bccf4-effe-11ee-b966-fb353e7798cd'\n",
    ")"
   ]
  },
  {
   "cell_type": "code",
   "execution_count": 5,
   "id": "f75ad793-c642-4240-a331-09b6c698af54",
   "metadata": {},
   "outputs": [
    {
     "name": "stdout",
     "output_type": "stream",
     "text": [
      "[1] \"61b12e7a-f234-11ee-bb33-fb353e7798cd\"\n",
      "[1] \"fcc6fcd2-f013-11ee-b966-fb353e7798cd\"\n",
      "[1] \"05c7c824-cab8-11ee-aa4d-1d66adf2f0c7\"\n",
      "[1] \"211bdb36-f0da-11ee-ba1b-fb353e7798cd\"\n",
      "[1] \"868de15e-f3b3-11ee-bb4e-fb353e7798cd\"\n",
      "[1] \"72a03d4a-efe9-11ee-b966-fb353e7798cd\"\n",
      "[1] \"7fb7b9c0-c881-11ee-a7fc-dd032dba19e8\"\n",
      "[1] \"96f7a614-f549-11ee-8afa-cb629b0d53e6\"\n",
      "[1] \"1bbbfbae-c839-11ee-a7fc-dd032dba19e8\"\n",
      "[1] \"622bd2e8-f0e4-11ee-ba1f-fb353e7798cd\"\n",
      "[1] \"9798fe24-f143-11ee-ba78-fb353e7798cd\"\n",
      "[1] \"88dd6fbe-f224-11ee-bb21-fb353e7798cd\"\n",
      "[1] \"c9c6856c-d33c-11ee-b437-336917683bb8\"\n",
      "[1] \"d12cd1c4-caec-11ee-909c-e1dc60cf66f9\"\n",
      "[1] \"817d6848-efb6-11ee-b966-fb353e7798cd\"\n",
      "[1] \"1b6aca0e-efdf-11ee-b966-fb353e7798cd\"\n",
      "[1] \"41b67a28-f52f-11ee-8afa-cb629b0d53e6\"\n",
      "[1] \"fc211bb2-efca-11ee-b966-fb353e7798cd\"\n",
      "[1] \"84d96f18-f214-11ee-bb13-fb353e7798cd\"\n",
      "[1] \"fe973c9c-f53c-11ee-8afa-cb629b0d53e6\"\n",
      "[1] \"3151e9e2-eff3-11ee-b966-fb353e7798cd\"\n",
      "[1] \"c0555ef0-f50f-11ee-8afa-cb629b0d53e6\"\n",
      "[1] \"f711e68e-f0e1-11ee-ba1f-fb353e7798cd\"\n",
      "[1] \"c338788a-d324-11ee-b437-336917683bb8\"\n",
      "[1] \"d21965e6-f0fa-11ee-ba37-fb353e7798cd\"\n",
      "[1] \"88a68dd8-eef9-11ee-9385-ef789ffde1d3\"\n",
      "[1] \"f41cbd44-eff8-11ee-b966-fb353e7798cd\"\n",
      "[1] \"43a1a35e-f362-11ee-bb4e-fb353e7798cd\"\n",
      "[1] \"6d2ea45a-c839-11ee-a7fc-dd032dba19e8\"\n",
      "[1] \"01e65360-efd4-11ee-b966-fb353e7798cd\"\n",
      "[1] \"7cbd932e-f244-11ee-bb3f-fb353e7798cd\"\n",
      "[1] \"65cfbfd6-f396-11ee-bb4e-fb353e7798cd\"\n",
      "[1] \"94c53148-eeed-11ee-9385-ef789ffde1d3\"\n",
      "[1] \"fd1ab258-efa7-11ee-b966-fb353e7798cd\"\n",
      "[1] \"e7b934a8-ef1a-11ee-9385-ef789ffde1d3\"\n",
      "[1] \"de933de8-f112-11ee-ba4d-fb353e7798cd\"\n",
      "[1] \"d3698592-ef9d-11ee-b966-fb353e7798cd\"\n",
      "[1] \"dd72fdec-f0cf-11ee-ba0d-fb353e7798cd\"\n",
      "[1] \"b82476fe-f1f3-11ee-baff-fb353e7798cd\"\n",
      "[1] \"f755cf60-f132-11ee-ba6d-fb353e7798cd\"\n",
      "[1] \"853ef120-cad3-11ee-909c-e1dc60cf66f9\"\n",
      "[1] \"f0eebb6a-f0dc-11ee-ba1e-fb353e7798cd\"\n",
      "[1] \"cf831f42-f353-11ee-bb4e-fb353e7798cd\"\n",
      "[1] \"ecebb942-f162-11ee-ba97-fb353e7798cd\"\n",
      "[1] \"219f7eb8-ef87-11ee-b966-fb353e7798cd\"\n",
      "[1] \"d24820c8-f197-11ee-babe-fb353e7798cd\"\n",
      "[1] \"3d2d29ec-ef95-11ee-b966-fb353e7798cd\"\n",
      "[1] \"457dc5ee-f02a-11ee-b966-fb353e7798cd\"\n",
      "[1] \"2462c9d0-eecd-11ee-9385-ef789ffde1d3\"\n",
      "[1] \"51ef6da6-ca9f-11ee-909c-e1dc60cf66f9\"\n",
      "[1] \"c25271be-f3a4-11ee-bb4e-fb353e7798cd\"\n",
      "[1] \"8347b862-efad-11ee-b966-fb353e7798cd\"\n",
      "[1] \"8dbbbf1c-f0ef-11ee-ba29-fb353e7798cd\"\n",
      "[1] \"9189a2a8-f121-11ee-ba5b-fb353e7798cd\"\n",
      "[1] \"8fa6fe80-c869-11ee-a7fc-dd032dba19e8\"\n",
      "[1] \"35518ec4-f153-11ee-ba88-fb353e7798cd\"\n",
      "[1] \"2f95c748-f009-11ee-b966-fb353e7798cd\"\n",
      "[1] \"8437f77a-cab7-11ee-909c-e1dc60cf66f9\"\n",
      "[1] \"2a61b8a8-f528-11ee-8afa-cb629b0d53e6\"\n",
      "[1] \"5a4bccf4-effe-11ee-b966-fb353e7798cd\"\n",
      "[1] \"Done loading data\"\n"
     ]
    }
   ],
   "source": [
    "%%R\n",
    "# Initialize an empty tibble\n",
    "df_merged <- tibble()\n",
    "\n",
    "# Loop through each gmID\n",
    "for (id in red_route_gmIDs) {\n",
    "  print(id)\n",
    "  \n",
    "  # Update the file paths with the correct full paths\n",
    "  temp_chassis_path <- sprintf(\n",
    "    \"/home/gampadu_linux/Desktop/TDMprivate/data/%s/_apollo_canbus_chassis/%s_apollo_canbus_chassis.csv\",\n",
    "    id, id\n",
    "  )\n",
    "  temp_pose_path <- sprintf(\n",
    "    \"/home/gampadu_linux/Desktop/TDMprivate/data/%s/_apollo_sensor_gnss_best_pose/%s_apollo_sensor_gnss_best_pose.csv\",\n",
    "    id, id\n",
    "  )\n",
    "\n",
    "  # Check if the files exist\n",
    "  if (file.exists(temp_chassis_path) && file.exists(temp_pose_path)) {\n",
    "    # Read the files\n",
    "    temp_chassis <- as_tibble(read.csv(temp_chassis_path))\n",
    "    temp_pose <- as_tibble(read.csv(temp_pose_path))\n",
    "    \n",
    "    # Process the data\n",
    "    r <- latlongStdDev(temp_pose)\n",
    "    temp_pose[\"latlongStdDev\"] <- r\n",
    "    \n",
    "    results <- merge_chassis_pose(temp_chassis, temp_pose)\n",
    "    result_full <- full_join(results$df_chassis, results$df_pose, by = \"matched\")\n",
    "    \n",
    "    # Add binary driving mode\n",
    "    result_full$binaryDrivingMode <- binary_driving_mode(result_full)\n",
    "    \n",
    "    # Append to df_merged\n",
    "    df_merged <- bind_rows(df_merged, result_full)\n",
    "  } else {\n",
    "    warning(sprintf(\"Files not found for gmID: %s\", id))\n",
    "  }\n",
    "}\n",
    "\n",
    "print(\"Done loading data\")"
   ]
  },
  {
   "cell_type": "code",
   "execution_count": 6,
   "id": "78172e8c-f74c-43e2-b60f-efe18ef39887",
   "metadata": {},
   "outputs": [
    {
     "name": "stdout",
     "output_type": "stream",
     "text": [
      "[1] \"Training data rows: 3001134\"\n",
      "[1] \"Testing data rows: 293396\"\n"
     ]
    }
   ],
   "source": [
    "%%R\n",
    "# Load required library\n",
    "library(dplyr)\n",
    "\n",
    "# Split GMIDs into Training and Testing Sets\n",
    "training_gmIDs <- red_route_gmIDs[1:55]  # First 55 GMIDs (80%)\n",
    "testing_gmIDs <- red_route_gmIDs[56:60] # Last 5 GMIDs\n",
    "\n",
    "# Filter df_merged for training and testing data based on GMIDs\n",
    "train_data <- df_merged %>% filter(groupMetadataID.x %in% training_gmIDs)\n",
    "test_data <- df_merged %>% filter(groupMetadataID.x %in% testing_gmIDs)\n",
    "\n",
    "# Check the number of rows in each dataset\n",
    "print(paste(\"Training data rows:\", nrow(train_data)))\n",
    "print(paste(\"Testing data rows:\", nrow(test_data)))\n",
    "\n",
    "# Verify if test_data is not empty\n",
    "if (nrow(test_data) == 0) {\n",
    "  print(\"Error: test_data is empty. Check GMID filtering.\")\n",
    "}\n"
   ]
  },
  {
   "cell_type": "code",
   "execution_count": 7,
   "id": "751878e2-9c4d-4287-9ea4-b5fcb94ea237",
   "metadata": {},
   "outputs": [
    {
     "name": "stdout",
     "output_type": "stream",
     "text": [
      " [1] \"61b12e7a-f234-11ee-bb33-fb353e7798cd\"\n",
      " [2] \"fcc6fcd2-f013-11ee-b966-fb353e7798cd\"\n",
      " [3] \"05c7c824-cab8-11ee-aa4d-1d66adf2f0c7\"\n",
      " [4] \"211bdb36-f0da-11ee-ba1b-fb353e7798cd\"\n",
      " [5] \"868de15e-f3b3-11ee-bb4e-fb353e7798cd\"\n",
      " [6] \"72a03d4a-efe9-11ee-b966-fb353e7798cd\"\n",
      " [7] \"7fb7b9c0-c881-11ee-a7fc-dd032dba19e8\"\n",
      " [8] \"96f7a614-f549-11ee-8afa-cb629b0d53e6\"\n",
      " [9] \"1bbbfbae-c839-11ee-a7fc-dd032dba19e8\"\n",
      "[10] \"622bd2e8-f0e4-11ee-ba1f-fb353e7798cd\"\n",
      "[11] \"9798fe24-f143-11ee-ba78-fb353e7798cd\"\n",
      "[12] \"88dd6fbe-f224-11ee-bb21-fb353e7798cd\"\n",
      "[13] \"c9c6856c-d33c-11ee-b437-336917683bb8\"\n",
      "[14] \"d12cd1c4-caec-11ee-909c-e1dc60cf66f9\"\n",
      "[15] \"817d6848-efb6-11ee-b966-fb353e7798cd\"\n",
      "[16] \"1b6aca0e-efdf-11ee-b966-fb353e7798cd\"\n",
      "[17] \"41b67a28-f52f-11ee-8afa-cb629b0d53e6\"\n",
      "[18] \"fc211bb2-efca-11ee-b966-fb353e7798cd\"\n",
      "[19] \"84d96f18-f214-11ee-bb13-fb353e7798cd\"\n",
      "[20] \"fe973c9c-f53c-11ee-8afa-cb629b0d53e6\"\n",
      "[21] \"3151e9e2-eff3-11ee-b966-fb353e7798cd\"\n",
      "[22] \"c0555ef0-f50f-11ee-8afa-cb629b0d53e6\"\n",
      "[23] \"f711e68e-f0e1-11ee-ba1f-fb353e7798cd\"\n",
      "[24] \"c338788a-d324-11ee-b437-336917683bb8\"\n",
      "[25] \"d21965e6-f0fa-11ee-ba37-fb353e7798cd\"\n",
      "[26] \"88a68dd8-eef9-11ee-9385-ef789ffde1d3\"\n",
      "[27] \"f41cbd44-eff8-11ee-b966-fb353e7798cd\"\n",
      "[28] \"43a1a35e-f362-11ee-bb4e-fb353e7798cd\"\n",
      "[29] \"6d2ea45a-c839-11ee-a7fc-dd032dba19e8\"\n",
      "[30] \"01e65360-efd4-11ee-b966-fb353e7798cd\"\n",
      "[31] \"7cbd932e-f244-11ee-bb3f-fb353e7798cd\"\n",
      "[32] \"65cfbfd6-f396-11ee-bb4e-fb353e7798cd\"\n",
      "[33] \"94c53148-eeed-11ee-9385-ef789ffde1d3\"\n",
      "[34] \"fd1ab258-efa7-11ee-b966-fb353e7798cd\"\n",
      "[35] \"e7b934a8-ef1a-11ee-9385-ef789ffde1d3\"\n",
      "[36] \"de933de8-f112-11ee-ba4d-fb353e7798cd\"\n",
      "[37] \"d3698592-ef9d-11ee-b966-fb353e7798cd\"\n",
      "[38] \"dd72fdec-f0cf-11ee-ba0d-fb353e7798cd\"\n",
      "[39] \"b82476fe-f1f3-11ee-baff-fb353e7798cd\"\n",
      "[40] \"f755cf60-f132-11ee-ba6d-fb353e7798cd\"\n",
      "[41] \"853ef120-cad3-11ee-909c-e1dc60cf66f9\"\n",
      "[42] \"f0eebb6a-f0dc-11ee-ba1e-fb353e7798cd\"\n",
      "[43] \"cf831f42-f353-11ee-bb4e-fb353e7798cd\"\n",
      "[44] \"ecebb942-f162-11ee-ba97-fb353e7798cd\"\n",
      "[45] \"219f7eb8-ef87-11ee-b966-fb353e7798cd\"\n",
      "[46] \"d24820c8-f197-11ee-babe-fb353e7798cd\"\n",
      "[47] \"3d2d29ec-ef95-11ee-b966-fb353e7798cd\"\n",
      "[48] \"457dc5ee-f02a-11ee-b966-fb353e7798cd\"\n",
      "[49] \"2462c9d0-eecd-11ee-9385-ef789ffde1d3\"\n",
      "[50] \"51ef6da6-ca9f-11ee-909c-e1dc60cf66f9\"\n",
      "[51] \"c25271be-f3a4-11ee-bb4e-fb353e7798cd\"\n",
      "[52] \"8347b862-efad-11ee-b966-fb353e7798cd\"\n",
      "[53] \"8dbbbf1c-f0ef-11ee-ba29-fb353e7798cd\"\n",
      "[54] \"9189a2a8-f121-11ee-ba5b-fb353e7798cd\"\n",
      "[55] \"8fa6fe80-c869-11ee-a7fc-dd032dba19e8\"\n"
     ]
    }
   ],
   "source": [
    "%%R\n",
    "training_gmIDs"
   ]
  },
  {
   "cell_type": "code",
   "execution_count": 8,
   "id": "214ecfdc-93f3-4f2b-97fb-6519734d4982",
   "metadata": {},
   "outputs": [
    {
     "name": "stdout",
     "output_type": "stream",
     "text": [
      "[1] \"35518ec4-f153-11ee-ba88-fb353e7798cd\"\n",
      "[2] \"2f95c748-f009-11ee-b966-fb353e7798cd\"\n",
      "[3] \"8437f77a-cab7-11ee-909c-e1dc60cf66f9\"\n",
      "[4] \"2a61b8a8-f528-11ee-8afa-cb629b0d53e6\"\n",
      "[5] \"5a4bccf4-effe-11ee-b966-fb353e7798cd\"\n"
     ]
    }
   ],
   "source": [
    "%%R\n",
    "testing_gmIDs"
   ]
  },
  {
   "cell_type": "code",
   "execution_count": 9,
   "id": "dfd24f0a-1489-4e98-9b8e-d4f9c0ed24c9",
   "metadata": {},
   "outputs": [
    {
     "name": "stdout",
     "output_type": "stream",
     "text": [
      "\n",
      "Call:\n",
      "glm(formula = binaryDrivingMode ~ speedMps + throttlePercentage + \n",
      "    brakePercentage + steeringPercentage + latlongStdDev, family = binomial, \n",
      "    data = train_data)\n",
      "\n",
      "Deviance Residuals: \n",
      "    Min       1Q   Median       3Q      Max  \n",
      "-2.2500   0.6514   0.6974   0.7304   3.4205  \n",
      "\n",
      "Coefficients:\n",
      "                     Estimate Std. Error z value Pr(>|z|)    \n",
      "(Intercept)         0.8500473  0.0050512  168.28  < 2e-16 ***\n",
      "speedMps            0.0204820  0.0002559   80.04  < 2e-16 ***\n",
      "throttlePercentage  0.0020149  0.0001203   16.75  < 2e-16 ***\n",
      "brakePercentage     0.0009052  0.0001596    5.67 1.42e-08 ***\n",
      "steeringPercentage  0.0145121  0.0001556   93.26  < 2e-16 ***\n",
      "latlongStdDev      -0.0564894  0.0007851  -71.95  < 2e-16 ***\n",
      "---\n",
      "Signif. codes:  0 ‘***’ 0.001 ‘**’ 0.01 ‘*’ 0.05 ‘.’ 0.1 ‘ ’ 1\n",
      "\n",
      "(Dispersion parameter for binomial family taken to be 1)\n",
      "\n",
      "    Null deviance: 3246295  on 3001133  degrees of freedom\n",
      "Residual deviance: 3212697  on 3001128  degrees of freedom\n",
      "AIC: 3212709\n",
      "\n",
      "Number of Fisher Scoring iterations: 4\n",
      "\n"
     ]
    }
   ],
   "source": [
    "%%R\n",
    "# Train a Logistic Regression Model\n",
    "model <- glm(\n",
    "  binaryDrivingMode ~ speedMps + throttlePercentage + brakePercentage + steeringPercentage + latlongStdDev,\n",
    "  data = train_data,\n",
    "  family = binomial\n",
    ")\n",
    "\n",
    "summary(model)"
   ]
  },
  {
   "cell_type": "code",
   "execution_count": 10,
   "id": "b1937b60-3eac-4897-8828-14b261e9e673",
   "metadata": {},
   "outputs": [
    {
     "name": "stdout",
     "output_type": "stream",
     "text": [
      "[1] \"Accuracy: 0.813450081119034\"\n"
     ]
    }
   ],
   "source": [
    "%%R\n",
    " # Predict on the test set\n",
    " predictions <- predict(model, test_data, type = \"response\")\n",
    "\n",
    " #Covert probabilities to binary classes (0 or 1)\n",
    " predicted_classes <- ifelse(predictions > 0.5, 1, 0)\n",
    "\n",
    " # Calculate accuracy\n",
    " accuracy <- mean(predicted_classes == test_data$binaryDrivingMode)\n",
    "\n",
    " # Print the accuracy\n",
    "print(paste(\"Accuracy:\", accuracy))"
   ]
  },
  {
   "cell_type": "code",
   "execution_count": 11,
   "id": "5a0c4313-1e7a-47ca-b0e3-1df9261de3c2",
   "metadata": {},
   "outputs": [
    {
     "data": {
      "image/png": "[encoded data removed]",
      "text/plain": [
       "<IPython.core.display.Image object>"
      ]
     },
     "metadata": {},
     "output_type": "display_data"
    }
   ],
   "source": [
    "%%R\n",
    "# Load required libraries\n",
    "library(ggplot2)\n",
    "library(caret)\n",
    "\n",
    "# Map the values to labels (1 -> \"Auto_mode\", 0 -> \"Manual\")\n",
    "predicted_classes_labeled <- factor(predicted_classes, levels = c(0,1), labels = c(\"Manual Mode(0)\", \"Auto Mode(1)\"))\n",
    "actual_classes_labeled <- factor (test_data$binaryDrivingMode, levels = c(0,1), labels = c(\"Manual Mode(0)\", \"Auto Mode(1)\"))\n",
    "\n",
    "# Generate the confusion matrix\n",
    "cm <- confusionMatrix(predicted_classes_labeled, actual_classes_labeled)\n",
    "cm_table <- as.data.frame(cm$table)\n",
    "\n",
    "# Rename columns for better understanding\n",
    "colnames(cm_table) <- c(\"Actual\", \"Predicted\", \"Frequency\")\n",
    "\n",
    "# Create the colored confusion matrix plot\n",
    "ggplot(cm_table, aes(x = Predicted, y = Actual, fill = Frequency)) +\n",
    "  geom_tile(color = \"white\") +\n",
    "  scale_fill_gradient(low = \"lightblue\", high = \"blue\", name = \"Frequency\") +\n",
    "  geom_text(aes(label = Frequency), color = \"white\", size = 5) +\n",
    "  labs(title = \"Confusion Matrix\", x = \"Predicted Classes\", y = \"True Classes\") +\n",
    "  theme_minimal() +\n",
    "  theme(plot.title = element_text(hjust = 0.5, size = 14),\n",
    "        axis.title = element_text(size = 12),\n",
    "        axis.text = element_text(size = 10))"
   ]
  },
  {
   "cell_type": "code",
   "execution_count": 12,
   "id": "2cfb2ba9-18e6-4c8e-941f-cbe90b4c14b3",
   "metadata": {},
   "outputs": [
    {
     "name": "stdout",
     "output_type": "stream",
     "text": [
      "Area under the curve: 0.6816\n"
     ]
    },
    {
     "data": {
      "text/plain": [
       "Setting levels: control = 0, case = 1\n",
       "Setting direction: controls < cases\n"
      ]
     },
     "metadata": {},
     "output_type": "display_data"
    },
    {
     "data": {
      "image/png": "[encoded data removed]",
      "text/plain": [
       "<IPython.core.display.Image object>"
      ]
     },
     "metadata": {},
     "output_type": "display_data"
    }
   ],
   "source": [
    "%%R\n",
    "\n",
    "library(pROC)\n",
    "roc_obj <- roc(test_data$binaryDrivingMode, predictions)\n",
    "plot(roc_obj, main = \"ROC Curve\")\n",
    "auc(roc_obj)"
   ]
  },
  {
   "cell_type": "code",
   "execution_count": 13,
   "id": "394ac8fb-187c-4f3a-9fa3-60ecb27d3aee",
   "metadata": {},
   "outputs": [
    {
     "name": "stdout",
     "output_type": "stream",
     "text": [
      "Accuracy: 0.8538999 \n",
      "Precision: 1 \n",
      "Recall: 0.8538999 \n"
     ]
    }
   ],
   "source": [
    "%%R\n",
    "\n",
    "#Manually calculating the confusion matrix values\n",
    "TP <- 58341\n",
    "FP <- 0\n",
    "FN <- 9982\n",
    "TN <- 0\n",
    "\n",
    "# Calculate Metrics\n",
    "accuracy <- (TP + TN) / (TP + TN + FP + FN)\n",
    "precision <- TP / (TP + FP)\n",
    "recall <- TP / (TP + FN)\n",
    "\n",
    "#Print Metrics\n",
    "cat(\"Accuracy:\", accuracy, \"\\n\")\n",
    "cat(\"Precision:\", precision, \"\\n\")\n",
    "cat(\"Recall:\", recall, \"\\n\")"
   ]
  },
  {
   "cell_type": "code",
   "execution_count": 15,
   "id": "ee401eb9-f2ee-404f-8a15-683bbb9c5a31",
   "metadata": {},
   "outputs": [
    {
     "name": "stdout",
     "output_type": "stream",
     "text": [
      "[1] \"Latitude and Longitude lists saved successfully.\"\n"
     ]
    }
   ],
   "source": [
    "%%R\n",
    "#Filter the dataset for Complete Auto Drive predictions\n",
    "\n",
    "#Defining the 10 gmIDs am working with\n",
    "selected_gmIDs <- c(\n",
    "    '35518ec4-f153-11ee-ba88-fb353e7798cd','2f95c748-f009-11ee-b966-fb353e7798cd','8437f77a-cab7-11ee-909c-e1dc60cf66f9','2a61b8a8-f528-11ee-8afa-cb629b0d53e6',\n",
    "                    '5a4bccf4-effe-11ee-b966-fb353e7798cd'\n",
    ")\n",
    "\n",
    "\n",
    "complete_auto_drive <- df_merged %>%\n",
    "                                      \n",
    "    filter(binaryDrivingMode == 1 & groupMetadataID.x %in% selected_gmIDs)\n",
    "\n",
    "# Extract latitude and longitude\n",
    "latitude_list <- complete_auto_drive$latitude\n",
    "longitude_list <- complete_auto_drive$longitude\n",
    "\n",
    "\n",
    "#  Save Latitutde and Longitude Lists\n",
    "write.csv(latitude_list, \"latitude_list.csv\", row.names = FALSE)\n",
    "write.csv(longitude_list, \"longitude_list.csv\", row.names = FALSE)\n",
    "\n",
    "print(\"Latitude and Longitude lists saved successfully.\")"
   ]
  },
  {
   "cell_type": "code",
   "execution_count": 16,
   "id": "7bd700da-c3b8-47ac-b246-02d089c4ea83",
   "metadata": {},
   "outputs": [
    {
     "name": "stdout",
     "output_type": "stream",
     "text": [
      "         x\n",
      "1 39.36526\n",
      "2 39.36526\n",
      "3 39.36526\n",
      "4 39.36526\n",
      "5 39.36535\n",
      "6 39.36535\n"
     ]
    }
   ],
   "source": [
    "%%R\n",
    "latitude_data <- read.csv(\"latitude_list.csv\")\n",
    "longitude_data <- read.csv(\"longitude_list.csv\")\n",
    "\n",
    "head(latitude_data)"
   ]
  },
  {
   "cell_type": "code",
   "execution_count": 17,
   "id": "b0f5301c-8fee-4773-9346-ab60c409c389",
   "metadata": {},
   "outputs": [
    {
     "name": "stdout",
     "output_type": "stream",
     "text": [
      "          x\n",
      "1 -82.10222\n",
      "2 -82.10222\n",
      "3 -82.10222\n",
      "4 -82.10222\n",
      "5 -82.10209\n",
      "6 -82.10209\n"
     ]
    }
   ],
   "source": [
    "%%R\n",
    "head(longitude_data)"
   ]
  },
  {
   "cell_type": "code",
   "execution_count": null,
   "id": "92e7cf18-65dc-44cc-a653-a435a041226e",
   "metadata": {},
   "outputs": [],
   "source": []
  }
 ],
 "metadata": {
  "kernelspec": {
   "display_name": "Python 3 (ipykernel)",
   "language": "python",
   "name": "python3"
  },
  "language_info": {
   "codemirror_mode": {
    "name": "ipython",
    "version": 3
   },
   "file_extension": ".py",
   "mimetype": "text/x-python",
   "name": "python",
   "nbconvert_exporter": "python",
   "pygments_lexer": "ipython3",
   "version": "3.10.12"
  }
 },
 "nbformat": 4,
 "nbformat_minor": 5
}
