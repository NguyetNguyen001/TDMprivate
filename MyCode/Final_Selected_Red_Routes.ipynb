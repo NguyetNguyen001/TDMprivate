{
 "cells": [
  {
   "cell_type": "code",
   "execution_count": 30,
   "id": "395ba6ce-d439-4de9-b6c1-8f14bdb2ca4e",
   "metadata": {},
   "outputs": [
    {
     "name": "stdout",
     "output_type": "stream",
     "text": [
      "The rpy2.ipython extension is already loaded. To reload it, use:\n",
      "  %reload_ext rpy2.ipython\n"
     ]
    }
   ],
   "source": [
    "%load_ext rpy2.ipython"
   ]
  },
  {
   "cell_type": "code",
   "execution_count": 31,
   "id": "3a62a9fa-40f2-4463-9118-9e69e8b77976",
   "metadata": {},
   "outputs": [],
   "source": [
    "%%R\n",
    "\n",
    "#install.packages(\"tibble\")\n",
    "#install.packages(\"dplyr\")\n",
    "#install.packages(ggplot2)\n",
    "#install.packages(\"caret\")\n",
    "#install.packages(\"glmnet\")\n",
    "\n",
    "library(tibble)\n",
    "library(dplyr)\n",
    "library(ggplot2)\n",
    "library(caret)\n",
    "library(pROC)\n",
    "library(ROSE)\n",
    "library(glmnet)"
   ]
  },
  {
   "cell_type": "code",
   "execution_count": 32,
   "id": "67a01e1d-01a3-4ec2-bd30-9f4d0def4df3",
   "metadata": {},
   "outputs": [],
   "source": [
    "%%R\n",
    "\n",
    "binary_driving_mode <- function (df_chassis) {\n",
    "    result <- ifelse(df_chassis$drivingMode == \"COMPLETE_AUTO_DRIVE\", 1, 0)\n",
    "\n",
    "    return(result)\n",
    "}\n",
    "\n",
    "\n",
    "merge_chassis_pose <- function (df_chassis, df_pose) {\n",
    "    \n",
    "    \n",
    "    df_chassis <- df_chassis[order(df_chassis$time), ]\n",
    "    df_pose <- df_pose[order(df_pose$time), ]\n",
    "    \n",
    "    #make sure data is sorted by time fist\n",
    "\n",
    "    chassis_time_arr <- df_chassis$time\n",
    "    pose_time_arr <- df_pose$time\n",
    "\n",
    "    matched_vector <- c()\n",
    "\n",
    "    for (chassis_time in chassis_time_arr) {\n",
    "        abs_time_diff_arr <- abs(pose_time_arr - chassis_time)\n",
    "\n",
    "        min_index <-  which(abs_time_diff_arr == min(abs_time_diff_arr))\n",
    "        \n",
    "        matched_vector <-  c(matched_vector, pose_time_arr[min_index])\n",
    "    }\n",
    "\n",
    "\n",
    "\n",
    "    #df_chassis$matched <- df_pose$time[which(abs(pose_time_arr - df_chassis$time) == min(abs(pose_time_arr - df_chassis$time)))]\n",
    "    df_chassis$matched <-  matched_vector\n",
    "    df_pose$matched <-  df_pose$time\n",
    "\n",
    "\n",
    "    return (list(df_chassis = df_chassis, df_pose = df_pose))\n",
    "\n",
    "\n",
    "}\n",
    "\n",
    "latlongStdDev <- function(df_pose){\n",
    "    x <- df_pose[\"latitudeStdDev\"]\n",
    "    y <- df_pose[\"longitudeStdDev\"]\n",
    "    r <- sqrt(x^2 + y^2)\n",
    "\n",
    "    return(r)\n",
    "\n",
    "}"
   ]
  },
  {
   "cell_type": "code",
   "execution_count": 33,
   "id": "8461a870-c84f-4d65-ba63-70d855faab4f",
   "metadata": {},
   "outputs": [],
   "source": [
    "%%R\n",
    "# Defining GMIDs for Red Routes\n",
    "# Am creating a list of GMIDs for processing\n",
    "red_route_gmIDs  <- c(\n",
    "     '61b12e7a-f234-11ee-bb33-fb353e7798cd',\n",
    "'fcc6fcd2-f013-11ee-b966-fb353e7798cd',\n",
    "'05c7c824-cab8-11ee-aa4d-1d66adf2f0c7',\n",
    "'211bdb36-f0da-11ee-ba1b-fb353e7798cd',\n",
    "'868de15e-f3b3-11ee-bb4e-fb353e7798cd',\n",
    "'72a03d4a-efe9-11ee-b966-fb353e7798cd',\n",
    "'7fb7b9c0-c881-11ee-a7fc-dd032dba19e8',\n",
    "'96f7a614-f549-11ee-8afa-cb629b0d53e6',\n",
    "'1bbbfbae-c839-11ee-a7fc-dd032dba19e8',\n",
    "'622bd2e8-f0e4-11ee-ba1f-fb353e7798cd',\n",
    "'9798fe24-f143-11ee-ba78-fb353e7798cd',\n",
    "'88dd6fbe-f224-11ee-bb21-fb353e7798cd',\n",
    "'c9c6856c-d33c-11ee-b437-336917683bb8',\n",
    "'d12cd1c4-caec-11ee-909c-e1dc60cf66f9',\n",
    "'817d6848-efb6-11ee-b966-fb353e7798cd',\n",
    "'1b6aca0e-efdf-11ee-b966-fb353e7798cd',\n",
    "'41b67a28-f52f-11ee-8afa-cb629b0d53e6',\n",
    "'fc211bb2-efca-11ee-b966-fb353e7798cd',\n",
    "'84d96f18-f214-11ee-bb13-fb353e7798cd',\n",
    "'fe973c9c-f53c-11ee-8afa-cb629b0d53e6',\n",
    "'3151e9e2-eff3-11ee-b966-fb353e7798cd',\n",
    "'c0555ef0-f50f-11ee-8afa-cb629b0d53e6',\n",
    "'f711e68e-f0e1-11ee-ba1f-fb353e7798cd',\n",
    "'c338788a-d324-11ee-b437-336917683bb8',\n",
    "'d21965e6-f0fa-11ee-ba37-fb353e7798cd',\n",
    "'88a68dd8-eef9-11ee-9385-ef789ffde1d3',\n",
    "'f41cbd44-eff8-11ee-b966-fb353e7798cd',\n",
    "'43a1a35e-f362-11ee-bb4e-fb353e7798cd',\n",
    "'6d2ea45a-c839-11ee-a7fc-dd032dba19e8',\n",
    "'01e65360-efd4-11ee-b966-fb353e7798cd',\n",
    "'7cbd932e-f244-11ee-bb3f-fb353e7798cd',\n",
    "'65cfbfd6-f396-11ee-bb4e-fb353e7798cd',\n",
    "'94c53148-eeed-11ee-9385-ef789ffde1d3',\n",
    "'fd1ab258-efa7-11ee-b966-fb353e7798cd',\n",
    "'e7b934a8-ef1a-11ee-9385-ef789ffde1d3',\n",
    "'de933de8-f112-11ee-ba4d-fb353e7798cd',\n",
    "'d3698592-ef9d-11ee-b966-fb353e7798cd',\n",
    "'dd72fdec-f0cf-11ee-ba0d-fb353e7798cd',\n",
    "'b82476fe-f1f3-11ee-baff-fb353e7798cd',\n",
    "'f755cf60-f132-11ee-ba6d-fb353e7798cd',\n",
    "'853ef120-cad3-11ee-909c-e1dc60cf66f9',\n",
    "'f0eebb6a-f0dc-11ee-ba1e-fb353e7798cd',\n",
    "'cf831f42-f353-11ee-bb4e-fb353e7798cd',\n",
    "'ecebb942-f162-11ee-ba97-fb353e7798cd',\n",
    "'219f7eb8-ef87-11ee-b966-fb353e7798cd',\n",
    "'d24820c8-f197-11ee-babe-fb353e7798cd',\n",
    "'3d2d29ec-ef95-11ee-b966-fb353e7798cd',\n",
    "'457dc5ee-f02a-11ee-b966-fb353e7798cd',\n",
    "'2462c9d0-eecd-11ee-9385-ef789ffde1d3',\n",
    "'51ef6da6-ca9f-11ee-909c-e1dc60cf66f9',\n",
    "'c25271be-f3a4-11ee-bb4e-fb353e7798cd',\n",
    "'8347b862-efad-11ee-b966-fb353e7798cd',\n",
    "'8dbbbf1c-f0ef-11ee-ba29-fb353e7798cd',\n",
    "'9189a2a8-f121-11ee-ba5b-fb353e7798cd',\n",
    "'8fa6fe80-c869-11ee-a7fc-dd032dba19e8',\n",
    "'5a4bccf4-effe-11ee-b966-fb353e7798cd'\n",
    ")"
   ]
  },
  {
   "cell_type": "code",
   "execution_count": 34,
   "id": "f6b3286c-082b-4d09-8030-4bf23cc4eb83",
   "metadata": {},
   "outputs": [
    {
     "name": "stdout",
     "output_type": "stream",
     "text": [
      "[1] \"Processing GMID: 61b12e7a-f234-11ee-bb33-fb353e7798cd\"\n",
      "[1] \"Processing GMID: fcc6fcd2-f013-11ee-b966-fb353e7798cd\"\n",
      "[1] \"Processing GMID: 05c7c824-cab8-11ee-aa4d-1d66adf2f0c7\"\n",
      "[1] \"Processing GMID: 211bdb36-f0da-11ee-ba1b-fb353e7798cd\"\n",
      "[1] \"Processing GMID: 868de15e-f3b3-11ee-bb4e-fb353e7798cd\"\n",
      "[1] \"Processing GMID: 72a03d4a-efe9-11ee-b966-fb353e7798cd\"\n",
      "[1] \"Processing GMID: 7fb7b9c0-c881-11ee-a7fc-dd032dba19e8\"\n",
      "[1] \"Processing GMID: 96f7a614-f549-11ee-8afa-cb629b0d53e6\"\n",
      "[1] \"Processing GMID: 1bbbfbae-c839-11ee-a7fc-dd032dba19e8\"\n",
      "[1] \"Processing GMID: 622bd2e8-f0e4-11ee-ba1f-fb353e7798cd\"\n",
      "[1] \"Processing GMID: 9798fe24-f143-11ee-ba78-fb353e7798cd\"\n",
      "[1] \"Processing GMID: 88dd6fbe-f224-11ee-bb21-fb353e7798cd\"\n",
      "[1] \"Processing GMID: c9c6856c-d33c-11ee-b437-336917683bb8\"\n",
      "[1] \"Processing GMID: d12cd1c4-caec-11ee-909c-e1dc60cf66f9\"\n",
      "[1] \"Processing GMID: 817d6848-efb6-11ee-b966-fb353e7798cd\"\n",
      "[1] \"Processing GMID: 1b6aca0e-efdf-11ee-b966-fb353e7798cd\"\n",
      "[1] \"Processing GMID: 41b67a28-f52f-11ee-8afa-cb629b0d53e6\"\n",
      "[1] \"Processing GMID: fc211bb2-efca-11ee-b966-fb353e7798cd\"\n",
      "[1] \"Processing GMID: 84d96f18-f214-11ee-bb13-fb353e7798cd\"\n",
      "[1] \"Processing GMID: fe973c9c-f53c-11ee-8afa-cb629b0d53e6\"\n",
      "[1] \"Processing GMID: 3151e9e2-eff3-11ee-b966-fb353e7798cd\"\n",
      "[1] \"Processing GMID: c0555ef0-f50f-11ee-8afa-cb629b0d53e6\"\n",
      "[1] \"Processing GMID: f711e68e-f0e1-11ee-ba1f-fb353e7798cd\"\n",
      "[1] \"Processing GMID: c338788a-d324-11ee-b437-336917683bb8\"\n",
      "[1] \"Processing GMID: d21965e6-f0fa-11ee-ba37-fb353e7798cd\"\n",
      "[1] \"Processing GMID: 88a68dd8-eef9-11ee-9385-ef789ffde1d3\"\n",
      "[1] \"Processing GMID: f41cbd44-eff8-11ee-b966-fb353e7798cd\"\n",
      "[1] \"Processing GMID: 43a1a35e-f362-11ee-bb4e-fb353e7798cd\"\n",
      "[1] \"Processing GMID: 6d2ea45a-c839-11ee-a7fc-dd032dba19e8\"\n",
      "[1] \"Processing GMID: 01e65360-efd4-11ee-b966-fb353e7798cd\"\n",
      "[1] \"Processing GMID: 7cbd932e-f244-11ee-bb3f-fb353e7798cd\"\n",
      "[1] \"Processing GMID: 65cfbfd6-f396-11ee-bb4e-fb353e7798cd\"\n",
      "[1] \"Processing GMID: 94c53148-eeed-11ee-9385-ef789ffde1d3\"\n",
      "[1] \"Processing GMID: fd1ab258-efa7-11ee-b966-fb353e7798cd\"\n",
      "[1] \"Processing GMID: e7b934a8-ef1a-11ee-9385-ef789ffde1d3\"\n",
      "[1] \"Processing GMID: de933de8-f112-11ee-ba4d-fb353e7798cd\"\n",
      "[1] \"Processing GMID: d3698592-ef9d-11ee-b966-fb353e7798cd\"\n",
      "[1] \"Processing GMID: dd72fdec-f0cf-11ee-ba0d-fb353e7798cd\"\n",
      "[1] \"Processing GMID: b82476fe-f1f3-11ee-baff-fb353e7798cd\"\n",
      "[1] \"Processing GMID: f755cf60-f132-11ee-ba6d-fb353e7798cd\"\n",
      "[1] \"Processing GMID: 853ef120-cad3-11ee-909c-e1dc60cf66f9\"\n",
      "[1] \"Processing GMID: f0eebb6a-f0dc-11ee-ba1e-fb353e7798cd\"\n",
      "[1] \"Processing GMID: cf831f42-f353-11ee-bb4e-fb353e7798cd\"\n",
      "[1] \"Processing GMID: ecebb942-f162-11ee-ba97-fb353e7798cd\"\n",
      "[1] \"Processing GMID: 219f7eb8-ef87-11ee-b966-fb353e7798cd\"\n",
      "[1] \"Processing GMID: d24820c8-f197-11ee-babe-fb353e7798cd\"\n",
      "[1] \"Processing GMID: 3d2d29ec-ef95-11ee-b966-fb353e7798cd\"\n",
      "[1] \"Processing GMID: 457dc5ee-f02a-11ee-b966-fb353e7798cd\"\n",
      "[1] \"Processing GMID: 2462c9d0-eecd-11ee-9385-ef789ffde1d3\"\n",
      "[1] \"Processing GMID: 51ef6da6-ca9f-11ee-909c-e1dc60cf66f9\"\n",
      "[1] \"Processing GMID: c25271be-f3a4-11ee-bb4e-fb353e7798cd\"\n",
      "[1] \"Processing GMID: 8347b862-efad-11ee-b966-fb353e7798cd\"\n",
      "[1] \"Processing GMID: 8dbbbf1c-f0ef-11ee-ba29-fb353e7798cd\"\n",
      "[1] \"Processing GMID: 9189a2a8-f121-11ee-ba5b-fb353e7798cd\"\n",
      "[1] \"Processing GMID: 8fa6fe80-c869-11ee-a7fc-dd032dba19e8\"\n",
      "[1] \"Processing GMID: 5a4bccf4-effe-11ee-b966-fb353e7798cd\"\n",
      "[1] \"Done loading data\"\n"
     ]
    }
   ],
   "source": [
    "%%R\n",
    "\n",
    "df_merged <- tibble() # Ensure it's an empty tibble\n",
    "\n",
    "for (id in red_route_gmIDs) {\n",
    "    print(paste(\"Processing GMID:\", id))\n",
    "    \n",
    "    temp_chassis_path <- sprintf(\"/home/gampadu_linux/Desktop/TDMprivate/data/%s/_apollo_canbus_chassis/%s_apollo_canbus_chassis.csv\", id, id)\n",
    "    temp_pose_path <- sprintf(\"/home/gampadu_linux/Desktop/TDMprivate/data/%s/_apollo_sensor_gnss_best_pose/%s_apollo_sensor_gnss_best_pose.csv\", id, id)\n",
    "\n",
    "    if (file.exists(temp_chassis_path) && file.exists(temp_pose_path)) {\n",
    "        temp_chassis <- as_tibble(read.csv(temp_chassis_path))\n",
    "        temp_pose <- as_tibble(read.csv(temp_pose_path))\n",
    "\n",
    "        r <- latlongStdDev(temp_pose)\n",
    "        temp_pose$latlongStdDev <- r\n",
    "\n",
    "        results <- merge_chassis_pose(temp_chassis, temp_pose)\n",
    "        result_full <- full_join(results$df_chassis, results$df_pose, by = \"matched\")\n",
    "\n",
    "        result_full$binaryDrivingMode <- binary_driving_mode(result_full)\n",
    "        df_merged <- bind_rows(df_merged, result_full)\n",
    "    } else {\n",
    "        warning(sprintf(\"Files not found for GMID: %s\", id))\n",
    "    }\n",
    "}\n",
    "print(\"Done loading data\")"
   ]
  },
  {
   "cell_type": "code",
   "execution_count": 10,
   "id": "bc9c01fd-6330-4872-8c33-73fbd545ab74",
   "metadata": {},
   "outputs": [
    {
     "name": "stdout",
     "output_type": "stream",
     "text": [
      "[1] \"Training Data Rows: 3001134\"\n",
      "[1] \"Testing Data Rows: 54579\"\n"
     ]
    }
   ],
   "source": [
    "%%R\n",
    "training_gmIDs <- red_route_gmIDs[red_route_gmIDs != \"5a4bccf4-effe-11ee-b966-fb353e7798cd\"]\n",
    "testing_gmIDs <- \"5a4bccf4-effe-11ee-b966-fb353e7798cd\"\n",
    "\n",
    "train_data <- df_merged %>% filter(groupMetadataID.x %in% training_gmIDs)\n",
    "test_data <- df_merged %>% filter(groupMetadataID.x == testing_gmIDs)\n",
    "\n",
    "print(paste(\"Training Data Rows:\", nrow(train_data)))\n",
    "print(paste(\"Testing Data Rows:\", nrow(test_data)))\n",
    "\n",
    "if (nrow(test_data) == 0) {\n",
    "    stop(\"Error: Test data is empty. Check GMID filtering.\")\n",
    "}"
   ]
  },
  {
   "cell_type": "code",
   "execution_count": 13,
   "id": "c68688c0-b76a-4bdd-99b1-ff470fff21d4",
   "metadata": {},
   "outputs": [],
   "source": [
    "%%R\n",
    "train_data$latlongStdDev <- as.numeric(unlist(train_data$latlongStdDev))\n",
    "str(train_data$latlongStdDev)  # Check the structure"
   ]
  },
  {
   "cell_type": "code",
   "execution_count": 16,
   "id": "e99a7072-0111-4202-bc6b-6cfac014f67b",
   "metadata": {},
   "outputs": [
    {
     "name": "stdout",
     "output_type": "stream",
     "text": [
      "\n",
      "Call:\n",
      "glm(formula = binaryDrivingMode ~ speedMps + throttlePercentage + \n",
      "    brakePercentage + steeringPercentage + latlongStdDev, family = binomial, \n",
      "    data = train_data)\n",
      "\n",
      "Deviance Residuals: \n",
      "    Min       1Q   Median       3Q      Max  \n",
      "-2.2500   0.6514   0.6974   0.7304   3.4205  \n",
      "\n",
      "Coefficients:\n",
      "                     Estimate Std. Error z value Pr(>|z|)    \n",
      "(Intercept)         0.8500473  0.0050512  168.28  < 2e-16 ***\n",
      "speedMps            0.0204820  0.0002559   80.04  < 2e-16 ***\n",
      "throttlePercentage  0.0020149  0.0001203   16.75  < 2e-16 ***\n",
      "brakePercentage     0.0009052  0.0001596    5.67 1.42e-08 ***\n",
      "steeringPercentage  0.0145121  0.0001556   93.26  < 2e-16 ***\n",
      "latlongStdDev      -0.0564894  0.0007851  -71.95  < 2e-16 ***\n",
      "---\n",
      "Signif. codes:  0 ‘***’ 0.001 ‘**’ 0.01 ‘*’ 0.05 ‘.’ 0.1 ‘ ’ 1\n",
      "\n",
      "(Dispersion parameter for binomial family taken to be 1)\n",
      "\n",
      "    Null deviance: 3246295  on 3001133  degrees of freedom\n",
      "Residual deviance: 3212697  on 3001128  degrees of freedom\n",
      "AIC: 3212709\n",
      "\n",
      "Number of Fisher Scoring iterations: 4\n",
      "\n"
     ]
    }
   ],
   "source": [
    "%%R\n",
    "model <- glm(\n",
    "   binaryDrivingMode ~ speedMps + throttlePercentage + brakePercentage + steeringPercentage + latlongStdDev,\n",
    "   data = train_data,\n",
    "   family = binomial\n",
    ")\n",
    "summary(model)"
   ]
  },
  {
   "cell_type": "code",
   "execution_count": 18,
   "id": "b8fa86e4-56b3-472c-86db-9e2be8069824",
   "metadata": {},
   "outputs": [],
   "source": [
    "%%R\n",
    "test_data$latlongStdDev <- as.numeric(unlist(test_data$latlongStdDev))"
   ]
  },
  {
   "cell_type": "code",
   "execution_count": 19,
   "id": "5d82d382-087f-4447-9d1c-ccbf6055fc6e",
   "metadata": {},
   "outputs": [
    {
     "name": "stdout",
     "output_type": "stream",
     "text": [
      "[1] \"Accuracy: 0.837574891441763\"\n"
     ]
    }
   ],
   "source": [
    "%%R\n",
    "predictions <- predict(model, test_data, type = \"response\")\n",
    "predicted_classes <- ifelse(predictions > 0.5, 1, 0)\n",
    "\n",
    "accuracy <- mean(predicted_classes == test_data$binaryDrivingMode)\n",
    "print(paste(\"Accuracy:\", accuracy))"
   ]
  },
  {
   "cell_type": "code",
   "execution_count": 29,
   "id": "15e438b8-4b3d-43b6-ad20-55bd7a0637ef",
   "metadata": {},
   "outputs": [
    {
     "data": {
      "image/png": "[encoded data removed]",
      "text/plain": [
       "<IPython.core.display.Image object>"
      ]
     },
     "metadata": {},
     "output_type": "display_data"
    }
   ],
   "source": [
    "%%R\n",
    "# Load required libraries\n",
    "library(ggplot2)\n",
    "library(caret)\n",
    "\n",
    "# Map the values to labels (1 -> \"Auto_mode\", 0 -> \"Manual\")\n",
    "predicted_classes_labeled <- factor(predicted_classes, levels = c(0,1), labels = c(\"Manual Mode(0)\", \"Auto Mode(1)\"))\n",
    "actual_classes_labeled <- factor (test_data$binaryDrivingMode, levels = c(0,1), labels = c(\"Manual Mode(0)\", \"Auto Mode(1)\"))\n",
    "\n",
    "# Generate the confusion matrix\n",
    "cm <- confusionMatrix(predicted_classes_labeled, actual_classes_labeled)\n",
    "cm_table <- as.data.frame(cm$table)\n",
    "\n",
    "# Rename columns for better understanding\n",
    "colnames(cm_table) <- c(\"Actual\", \"Predicted\", \"Frequency\")\n",
    "\n",
    "# Create the colored confusion matrix plot\n",
    "ggplot(cm_table, aes(x = Predicted, y = Actual, fill = Frequency)) +\n",
    "  geom_tile(color = \"white\") +\n",
    "  scale_fill_gradient(low = \"lightblue\", high = \"blue\", name = \"Frequency\") +\n",
    "  geom_text(aes(label = Frequency), color = \"white\", size = 5) +\n",
    "  labs(title = \"Confusion Matrix\", x = \"Predicted Classes\", y = \"True Classes\") +\n",
    "  theme_minimal() +\n",
    "  theme(plot.title = element_text(hjust = 0.5, size = 14),\n",
    "        axis.title = element_text(size = 12),\n",
    "        axis.text = element_text(size = 10))"
   ]
  },
  {
   "cell_type": "code",
   "execution_count": 20,
   "id": "7a4ed87e-2f1e-4d80-bffa-497a67f8b521",
   "metadata": {},
   "outputs": [
    {
     "name": "stdout",
     "output_type": "stream",
     "text": [
      "  actual_latitude actual_longitude predicted_latitude predicted_longitude\n",
      "1        39.36454        -82.10306           39.36453           -82.10306\n",
      "2        39.36454        -82.10306           39.36453           -82.10306\n",
      "3        39.36454        -82.10306           39.36453           -82.10306\n",
      "4        39.36454        -82.10306           39.36453           -82.10306\n",
      "5        39.36454        -82.10306           39.36453           -82.10306\n",
      "6        39.36454        -82.10306           39.36453           -82.10306\n"
     ]
    }
   ],
   "source": [
    "%%R\n",
    "\n",
    "actual_manual_mode <- test_data[test_data$binaryDrivingMode == 0, ]\n",
    "actual_latitudes <- actual_manual_mode$latitude\n",
    "actual_longitudes <- actual_manual_mode$longitude\n",
    "\n",
    "predicted_manual_mode <- test_data[predicted_classes == 0, ]\n",
    "predicted_latitudes <- predicted_manual_mode$latitude\n",
    "predicted_longitudes <- predicted_manual_mode$longitude\n",
    "\n",
    "min_length <- min(length(actual_latitudes), length(predicted_latitudes))\n",
    "actual_latitudes <- actual_latitudes[1:min_length]\n",
    "actual_longitudes <- actual_longitudes[1:min_length]\n",
    "predicted_latitudes <- predicted_latitudes[1:min_length]\n",
    "predicted_longitudes <- predicted_longitudes[1:min_length]\n",
    "\n",
    "manual_mode_comparison <- data.frame(\n",
    "    actual_latitude = actual_latitudes,\n",
    "    actual_longitude = actual_longitudes,\n",
    "    predicted_latitude = predicted_latitudes,\n",
    "    predicted_longitude = predicted_longitudes\n",
    ")\n",
    "\n",
    "print(head(manual_mode_comparison))"
   ]
  },
  {
   "cell_type": "code",
   "execution_count": 24,
   "id": "172380fb-c193-442b-aeb5-d4d469770ddf",
   "metadata": {},
   "outputs": [
    {
     "name": "stdout",
     "output_type": "stream",
     "text": [
      "   actual_latitude  actual_longitude  predicted_latitude  predicted_longitude\n",
      "1         39.36454        -82.103062           39.364532           -82.103057\n",
      "2         39.36454        -82.103062           39.364532           -82.103057\n",
      "3         39.36454        -82.103062           39.364532           -82.103057\n",
      "4         39.36454        -82.103062           39.364532           -82.103057\n",
      "5         39.36454        -82.103062           39.364532           -82.103057\n"
     ]
    }
   ],
   "source": [
    "import rpy2.robjects as robjects\n",
    "import pandas as pd\n",
    "from rpy2.robjects import pandas2ri\n",
    "from rpy2.robjects import conversion\n",
    "\n",
    "# Activate automatic pandas conversion\n",
    "pandas2ri.activate()\n",
    "\n",
    "# Fetch the R dataframe\n",
    "manual_mode_comparison_r = robjects.globalenv[\"manual_mode_comparison\"]\n",
    "\n",
    "# Convert R DataFrame to Pandas\n",
    "manual_mode_comparison_py = conversion.rpy2py(manual_mode_comparison_r)\n",
    "\n",
    "# Rename for clarity\n",
    "df = manual_mode_comparison_py\n",
    "\n",
    "# Display first few rows\n",
    "print(df.head())"
   ]
  },
  {
   "cell_type": "code",
   "execution_count": 25,
   "id": "eb015e59-048d-4264-a086-91b8c341812a",
   "metadata": {},
   "outputs": [
    {
     "data": {
      "image/png": "[encoded data removed]",
      "text/plain": [
       "<Figure size 1000x1000 with 1 Axes>"
      ]
     },
     "metadata": {},
     "output_type": "display_data"
    }
   ],
   "source": [
    "import cartopy.crs as ccrs\n",
    "from cartopy.io.img_tiles import GoogleTiles\n",
    "import matplotlib.pyplot as plt\n",
    "\n",
    "plt.figure(figsize=(10, 10))\n",
    "\n",
    "minLat, maxLat = df['actual_latitude'].min(), df['actual_latitude'].max()\n",
    "minLon, maxLon = df['actual_longitude'].min(), df['actual_longitude'].max()\n",
    "\n",
    "expansion_coeff = 0.005\n",
    "\n",
    "street_map = GoogleTiles(style='street')\n",
    "\n",
    "ax = plt.axes(projection=street_map.crs)\n",
    "ax.set_extent(\n",
    "    [minLon - expansion_coeff, maxLon + expansion_coeff, \n",
    "     minLat - expansion_coeff, maxLat + expansion_coeff], \n",
    "    ccrs.PlateCarree()\n",
    ")\n",
    "\n",
    "ax.add_image(street_map, 14)\n",
    "\n",
    "true_manual_lat = df['actual_latitude']\n",
    "true_manual_lon = df['actual_longitude']\n",
    "pred_manual_lat = df['predicted_latitude']\n",
    "pred_manual_lon = df['predicted_longitude']\n",
    "\n",
    "plt.plot(true_manual_lon, true_manual_lat, \n",
    "         marker='o', ls='', color='blue', ms=5, \n",
    "         label='Actual Manual Mode', transform=ccrs.PlateCarree())\n",
    "\n",
    "plt.plot(pred_manual_lon, pred_manual_lat, \n",
    "         marker='o', ls='', color='red', ms=5, \n",
    "         label='Predicted Manual Mode', transform=ccrs.PlateCarree())\n",
    "\n",
    "plt.title('Actual vs Predicted Manual Mode Locations')\n",
    "plt.legend()\n",
    "plt.show()"
   ]
  },
  {
   "cell_type": "code",
   "execution_count": null,
   "id": "b8866cca-987c-472e-a43f-b55b0a333111",
   "metadata": {},
   "outputs": [],
   "source": []
  },
  {
   "cell_type": "code",
   "execution_count": 28,
   "id": "d64f2393-d2c4-4c1d-bd6b-61ca70de8c50",
   "metadata": {},
   "outputs": [
    {
     "ename": "NameError",
     "evalue": "name 'df_test_gmid' is not defined",
     "output_type": "error",
     "traceback": [
      "\u001b[0;31m---------------------------------------------------------------------------\u001b[0m",
      "\u001b[0;31mNameError\u001b[0m                                 Traceback (most recent call last)",
      "Cell \u001b[0;32mIn[28], line 1\u001b[0m\n\u001b[0;32m----> 1\u001b[0m \u001b[38;5;28mprint\u001b[39m(\u001b[43mdf_test_gmid\u001b[49m\u001b[38;5;241m.\u001b[39mhead())  \u001b[38;5;66;03m# Verify if latitude and longitude are present\u001b[39;00m\n\u001b[1;32m      2\u001b[0m \u001b[38;5;28mprint\u001b[39m(df_test_gmid[[\u001b[38;5;124m'\u001b[39m\u001b[38;5;124mlatitude\u001b[39m\u001b[38;5;124m'\u001b[39m, \u001b[38;5;124m'\u001b[39m\u001b[38;5;124mlongitude\u001b[39m\u001b[38;5;124m'\u001b[39m]]\u001b[38;5;241m.\u001b[39mdescribe())  \u001b[38;5;66;03m# Check min/max values\u001b[39;00m\n",
      "\u001b[0;31mNameError\u001b[0m: name 'df_test_gmid' is not defined"
     ]
    }
   ],
   "source": [
    "print(df_test_gmid.head())  # Verify if latitude and longitude are present\n",
    "print(df_test_gmid[['latitude', 'longitude']].describe())  # Check min/max values"
   ]
  },
  {
   "cell_type": "code",
   "execution_count": null,
   "id": "1fd3403b-a23a-49fb-85aa-0b5fbeef2c0f",
   "metadata": {},
   "outputs": [],
   "source": []
  }
 ],
 "metadata": {
  "kernelspec": {
   "display_name": "Python 3 (ipykernel)",
   "language": "python",
   "name": "python3"
  },
  "language_info": {
   "codemirror_mode": {
    "name": "ipython",
    "version": 3
   },
   "file_extension": ".py",
   "mimetype": "text/x-python",
   "name": "python",
   "nbconvert_exporter": "python",
   "pygments_lexer": "ipython3",
   "version": "3.10.12"
  }
 },
 "nbformat": 4,
 "nbformat_minor": 5
}
