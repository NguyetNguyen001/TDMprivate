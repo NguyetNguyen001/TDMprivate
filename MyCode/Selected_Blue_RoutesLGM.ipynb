{
 "cells": [
  {
   "cell_type": "code",
   "execution_count": 1,
   "id": "1825a78c-8378-4eab-b4f8-5c802f0be2f6",
   "metadata": {},
   "outputs": [],
   "source": [
    "%load_ext rpy2.ipython"
   ]
  },
  {
   "cell_type": "code",
   "execution_count": 2,
   "id": "6d67426d-2a35-4318-b6a1-b5e3a880b2d6",
   "metadata": {},
   "outputs": [
    {
     "data": {
      "text/plain": [
       "\n",
       "Attaching package: ‘dplyr’\n",
       "\n",
       "The following objects are masked from ‘package:stats’:\n",
       "\n",
       "    filter, lag\n",
       "\n",
       "The following objects are masked from ‘package:base’:\n",
       "\n",
       "    intersect, setdiff, setequal, union\n",
       "\n",
       "Loading required package: lattice\n",
       "Type 'citation(\"pROC\")' for a citation.\n",
       "\n",
       "Attaching package: ‘pROC’\n",
       "\n",
       "The following objects are masked from ‘package:stats’:\n",
       "\n",
       "    cov, smooth, var\n",
       "\n",
       "Loaded ROSE 0.0-4\n",
       "\n",
       "Loading required package: Matrix\n",
       "Loaded glmnet 4.1-8\n",
       "In addition: Warning message:\n",
       "In (function (package, help, pos = 2, lib.loc = NULL, character.only = FALSE,  :\n",
       "  libraries ‘/usr/local/lib/R/site-library’, ‘/usr/lib/R/site-library’ contain no packages\n"
      ]
     },
     "metadata": {},
     "output_type": "display_data"
    }
   ],
   "source": [
    "%%R\n",
    "\n",
    "#install.packages(\"tibble\")\n",
    "#install.packages(\"dplyr\")\n",
    "#install.packages(ggplot2)\n",
    "#install.packages(\"caret\")\n",
    "#install.packages(\"glmnet\")\n",
    "\n",
    "library(tibble)\n",
    "library(dplyr)\n",
    "library(ggplot2)\n",
    "library(caret)\n",
    "library(pROC)\n",
    "library(ROSE)\n",
    "library(glmnet)"
   ]
  },
  {
   "cell_type": "code",
   "execution_count": 3,
   "id": "ea46444a-8ed7-4523-9086-bd384db94128",
   "metadata": {},
   "outputs": [],
   "source": [
    "%%R\n",
    "\n",
    "binary_driving_mode <- function (df_chassis) {\n",
    "    result <- ifelse(df_chassis$drivingMode == \"COMPLETE_AUTO_DRIVE\", 1, 0)\n",
    "\n",
    "    return(result)\n",
    "}\n",
    "\n",
    "\n",
    "merge_chassis_pose <- function (df_chassis, df_pose) {\n",
    "    \n",
    "    \n",
    "    df_chassis <- df_chassis[order(df_chassis$time), ]\n",
    "    df_pose <- df_pose[order(df_pose$time), ]\n",
    "    \n",
    "    #make sure data is sorted by time fist\n",
    "\n",
    "    chassis_time_arr <- df_chassis$time\n",
    "    pose_time_arr <- df_pose$time\n",
    "\n",
    "    matched_vector <- c()\n",
    "\n",
    "    for (chassis_time in chassis_time_arr) {\n",
    "        abs_time_diff_arr <- abs(pose_time_arr - chassis_time)\n",
    "\n",
    "        min_index <-  which(abs_time_diff_arr == min(abs_time_diff_arr))\n",
    "        \n",
    "        matched_vector <-  c(matched_vector, pose_time_arr[min_index])\n",
    "    }\n",
    "\n",
    "\n",
    "\n",
    "    #df_chassis$matched <- df_pose$time[which(abs(pose_time_arr - df_chassis$time) == min(abs(pose_time_arr - df_chassis$time)))]\n",
    "    df_chassis$matched <-  matched_vector\n",
    "    df_pose$matched <-  df_pose$time\n",
    "\n",
    "\n",
    "    return (list(df_chassis = df_chassis, df_pose = df_pose))\n",
    "\n",
    "\n",
    "}\n",
    "\n",
    "latlongStdDev <- function(df_pose){\n",
    "    x <- df_pose[\"latitudeStdDev\"]\n",
    "    y <- df_pose[\"longitudeStdDev\"]\n",
    "        r <- sqrt(x^2 + y^2)\n",
    "\n",
    "    return(r)\n",
    "\n",
    "}"
   ]
  },
  {
   "cell_type": "code",
   "execution_count": 6,
   "id": "aa8d2de3-5b6c-47fc-b4e2-d23626ffaa0f",
   "metadata": {},
   "outputs": [],
   "source": [
    "%%R\n",
    "# Defining GMIDs for Red Routes\n",
    "# Am creating a list of GMIDs for processing\n",
    "blue_route_gmIDs  <- c(\n",
    "    '7228e03a-ebf0-11ee-b297-3b0ad9d5d6c6',\n",
    "'17876fec-ea66-11ee-b297-3b0ad9d5d6c6',\n",
    "'d1d090d4-ea7c-11ee-b297-3b0ad9d5d6c6',\n",
    "'ed7f2038-ea1e-11ee-b297-3b0ad9d5d6c6',\n",
    "'6af236d6-d98f-11ee-a158-97f8443fd730',\n",
    "'64737d98-d312-11ee-b437-336917683bb8',\n",
    "'5240e750-ec30-11ee-b297-3b0ad9d5d6c6',\n",
    "'7613801a-edcb-11ee-9385-ef789ffde1d3',\n",
    "'68c289fa-dbd4-11ee-a158-97f8443fd730',\n",
    "'76683d3c-db18-11ee-a158-97f8443fd730',\n",
    "'69ab88ec-dc17-11ee-a158-97f8443fd730',\n",
    "'7f09f6c6-a5b0-11ee-88ec-eb6a8d5269b4',\n",
    "'3d2a80f0-ec81-11ee-b297-3b0ad9d5d6c6',\n",
    "'feaf2ba8-d28d-11ee-b437-336917683bb8',\n",
    "'e2079a78-dc1d-11ee-a158-97f8443fd730',\n",
    "'b224ef9c-ec10-11ee-b297-3b0ad9d5d6c6',\n",
    "'ba28b352-ec8f-11ee-b297-3b0ad9d5d6c6',\n",
    "'59c189d8-ed54-11ee-9385-ef789ffde1d3',\n",
    "'2d35c522-eba2-11ee-b297-3b0ad9d5d6c6',\n",
    "'3343fd3c-eb87-11ee-b297-3b0ad9d5d6c6',\n",
    "'c0624e24-d9aa-11ee-a158-97f8443fd730',\n",
    "'a253145a-d2a6-11ee-b437-336917683bb8',\n",
    "'9830d896-d2dc-11ee-b437-336917683bb8',\n",
    "'aa86a660-dc05-11ee-a158-97f8443fd730',\n",
    "'90101c36-a621-11ee-88ec-eb6a8d5269b4',\n",
    "'82d39c74-ea59-11ee-b297-3b0ad9d5d6c6',\n",
    "'f9d62032-db2a-11ee-a158-97f8443fd730',\n",
    "'af10e22a-ebb1-11ee-b297-3b0ad9d5d6c6',\n",
    "'47561998-d9c3-11ee-a158-97f8443fd730',\n",
    "'64875cc0-d054-11ee-9435-f7e542e2436c',\n",
    "'df8e3742-ec54-11ee-b297-3b0ad9d5d6c6',\n",
    "'3a2a78cc-db21-11ee-a158-97f8443fd730',\n",
    "'2bc6ebb8-a529-11ee-88ec-eb6a8d5269b4',\n",
    "'4d0254fc-ec73-11ee-b297-3b0ad9d5d6c6',\n",
    "'dc39aa14-db32-11ee-a158-97f8443fd730',\n",
    "'25d3bdc8-ecbc-11ee-b297-3b0ad9d5d6c6',\n",
    "'8b6a6cfc-ed6d-11ee-9385-ef789ffde1d3',\n",
    "'e6d7d384-db40-11ee-a158-97f8443fd730',\n",
    "'a17c1280-ea10-11ee-b297-3b0ad9d5d6c6',\n",
    "'36663b02-ea87-11ee-b297-3b0ad9d5d6c6',\n",
    "'71a18322-ecab-11ee-b297-3b0ad9d5d6c6',\n",
    "'cf6fdf3a-eaa3-11ee-b297-3b0ad9d5d6c6',\n",
    "'57d240d6-ea4d-11ee-b297-3b0ad9d5d6c6',\n",
    "'baf0e4be-bede-11ee-835b-599066b5eb60',\n",
    "'530de03a-ed79-11ee-9385-ef789ffde1d3',\n",
    "'43914d48-ed85-11ee-9385-ef789ffde1d3',\n",
    "'a7c98b32-ebc2-11ee-b297-3b0ad9d5d6c6',\n",
    "'fc119dfc-eb67-11ee-b297-3b0ad9d5d6c6',\n",
    "'c7c02bda-ebe0-11ee-b297-3b0ad9d5d6c6',\n",
    "'39ba7438-d0d5-11ee-9435-f7e542e2436c',\n",
    "'e8a8b2be-edbf-11ee-9385-ef789ffde1d3',\n",
    "'3ea96640-ea37-11ee-b297-3b0ad9d5d6c6',\n",
    "'21376e38-ec01-11ee-b297-3b0ad9d5d6c6',\n",
    "'513a670c-eea9-11ee-9385-ef789ffde1d3',\n",
    "'06cbdbc0-db4d-11ee-a158-97f8443fd730',\n",
    "'559495ca-d270-11ee-b437-336917683bb8',\n",
    "'04151804-ec20-11ee-b297-3b0ad9d5d6c6',\n",
    "'d62ee6e8-ed02-11ee-9385-ef789ffde1d3',\n",
    "'154fab12-a43f-11ee-88ec-eb6a8d5269b4',\n",
    "'58263e34-a45c-11ee-88ec-eb6a8d5269b4',\n",
    "'acd71bc0-ecf4-11ee-9385-ef789ffde1d3',\n",
    "'3441fc36-ecca-11ee-b297-3b0ad9d5d6c6',\n",
    "'f671c05c-a5e4-11ee-88ec-eb6a8d5269b4',\n",
    "'c8f54ac0-ebd2-11ee-b297-3b0ad9d5d6c6',\n",
    "'326699c2-ecd8-11ee-b297-3b0ad9d5d6c6',\n",
    "'3ce8a358-edd8-11ee-9385-ef789ffde1d3',\n",
    "'286c70cc-d2f7-11ee-b437-336917683bb8',\n",
    "'20cbfe8c-ea2b-11ee-b297-3b0ad9d5d6c6',\n",
    "'c9023e32-ed90-11ee-9385-ef789ffde1d3',\n",
    "'f0bcec4e-ed3e-11ee-9385-ef789ffde1d3',\n",
    "'d94ef300-ed60-11ee-9385-ef789ffde1d3',\n",
    "'e269948a-ed9d-11ee-9385-ef789ffde1d3',\n",
    "'f6ac3c82-a445-11ee-88ec-eb6a8d5269b4',\n",
    "'80340ab8-d054-11ee-9435-f7e542e2436c',\n",
    "'b76f33be-ea61-11ee-b297-3b0ad9d5d6c6',\n",
    "'da853e0c-a10f-11ee-981c-d126ddbe9afa',\n",
    "'19b7ebd0-d9b7-11ee-a158-97f8443fd730',\n",
    "'cb205756-ec43-11ee-b297-3b0ad9d5d6c6',\n",
    "'64bbe8e0-eb94-11ee-b297-3b0ad9d5d6c6',\n",
    "'e9d67bf2-ec35-11ee-b297-3b0ad9d5d6c6'\n",
    ")"
   ]
  },
  {
   "cell_type": "code",
   "execution_count": 7,
   "id": "386f1c92-1d95-454d-95cb-fb35809742c3",
   "metadata": {
    "scrolled": true
   },
   "outputs": [
    {
     "name": "stdout",
     "output_type": "stream",
     "text": [
      "[1] \"7228e03a-ebf0-11ee-b297-3b0ad9d5d6c6\"\n",
      "[1] \"17876fec-ea66-11ee-b297-3b0ad9d5d6c6\"\n",
      "[1] \"d1d090d4-ea7c-11ee-b297-3b0ad9d5d6c6\"\n",
      "[1] \"ed7f2038-ea1e-11ee-b297-3b0ad9d5d6c6\"\n",
      "[1] \"6af236d6-d98f-11ee-a158-97f8443fd730\"\n",
      "[1] \"64737d98-d312-11ee-b437-336917683bb8\"\n",
      "[1] \"5240e750-ec30-11ee-b297-3b0ad9d5d6c6\"\n",
      "[1] \"7613801a-edcb-11ee-9385-ef789ffde1d3\"\n",
      "[1] \"68c289fa-dbd4-11ee-a158-97f8443fd730\"\n",
      "[1] \"76683d3c-db18-11ee-a158-97f8443fd730\"\n",
      "[1] \"69ab88ec-dc17-11ee-a158-97f8443fd730\"\n",
      "[1] \"7f09f6c6-a5b0-11ee-88ec-eb6a8d5269b4\"\n",
      "[1] \"3d2a80f0-ec81-11ee-b297-3b0ad9d5d6c6\"\n",
      "[1] \"feaf2ba8-d28d-11ee-b437-336917683bb8\"\n",
      "[1] \"e2079a78-dc1d-11ee-a158-97f8443fd730\"\n",
      "[1] \"b224ef9c-ec10-11ee-b297-3b0ad9d5d6c6\"\n",
      "[1] \"ba28b352-ec8f-11ee-b297-3b0ad9d5d6c6\"\n",
      "[1] \"59c189d8-ed54-11ee-9385-ef789ffde1d3\"\n",
      "[1] \"2d35c522-eba2-11ee-b297-3b0ad9d5d6c6\"\n",
      "[1] \"3343fd3c-eb87-11ee-b297-3b0ad9d5d6c6\"\n",
      "[1] \"c0624e24-d9aa-11ee-a158-97f8443fd730\"\n",
      "[1] \"a253145a-d2a6-11ee-b437-336917683bb8\"\n",
      "[1] \"9830d896-d2dc-11ee-b437-336917683bb8\"\n",
      "[1] \"aa86a660-dc05-11ee-a158-97f8443fd730\"\n",
      "[1] \"90101c36-a621-11ee-88ec-eb6a8d5269b4\"\n",
      "[1] \"82d39c74-ea59-11ee-b297-3b0ad9d5d6c6\"\n",
      "[1] \"f9d62032-db2a-11ee-a158-97f8443fd730\"\n",
      "[1] \"af10e22a-ebb1-11ee-b297-3b0ad9d5d6c6\"\n",
      "[1] \"47561998-d9c3-11ee-a158-97f8443fd730\"\n",
      "[1] \"64875cc0-d054-11ee-9435-f7e542e2436c\"\n",
      "[1] \"df8e3742-ec54-11ee-b297-3b0ad9d5d6c6\"\n",
      "[1] \"3a2a78cc-db21-11ee-a158-97f8443fd730\"\n",
      "[1] \"2bc6ebb8-a529-11ee-88ec-eb6a8d5269b4\"\n",
      "[1] \"4d0254fc-ec73-11ee-b297-3b0ad9d5d6c6\"\n",
      "[1] \"dc39aa14-db32-11ee-a158-97f8443fd730\"\n",
      "[1] \"25d3bdc8-ecbc-11ee-b297-3b0ad9d5d6c6\"\n",
      "[1] \"8b6a6cfc-ed6d-11ee-9385-ef789ffde1d3\"\n",
      "[1] \"e6d7d384-db40-11ee-a158-97f8443fd730\"\n",
      "[1] \"a17c1280-ea10-11ee-b297-3b0ad9d5d6c6\"\n",
      "[1] \"36663b02-ea87-11ee-b297-3b0ad9d5d6c6\"\n",
      "[1] \"71a18322-ecab-11ee-b297-3b0ad9d5d6c6\"\n",
      "[1] \"cf6fdf3a-eaa3-11ee-b297-3b0ad9d5d6c6\"\n",
      "[1] \"57d240d6-ea4d-11ee-b297-3b0ad9d5d6c6\"\n",
      "[1] \"baf0e4be-bede-11ee-835b-599066b5eb60\"\n",
      "[1] \"530de03a-ed79-11ee-9385-ef789ffde1d3\"\n",
      "[1] \"43914d48-ed85-11ee-9385-ef789ffde1d3\"\n",
      "[1] \"a7c98b32-ebc2-11ee-b297-3b0ad9d5d6c6\"\n",
      "[1] \"fc119dfc-eb67-11ee-b297-3b0ad9d5d6c6\"\n",
      "[1] \"c7c02bda-ebe0-11ee-b297-3b0ad9d5d6c6\"\n",
      "[1] \"39ba7438-d0d5-11ee-9435-f7e542e2436c\"\n",
      "[1] \"e8a8b2be-edbf-11ee-9385-ef789ffde1d3\"\n",
      "[1] \"3ea96640-ea37-11ee-b297-3b0ad9d5d6c6\"\n",
      "[1] \"21376e38-ec01-11ee-b297-3b0ad9d5d6c6\"\n",
      "[1] \"513a670c-eea9-11ee-9385-ef789ffde1d3\"\n",
      "[1] \"06cbdbc0-db4d-11ee-a158-97f8443fd730\"\n",
      "[1] \"559495ca-d270-11ee-b437-336917683bb8\"\n",
      "[1] \"04151804-ec20-11ee-b297-3b0ad9d5d6c6\"\n",
      "[1] \"d62ee6e8-ed02-11ee-9385-ef789ffde1d3\"\n",
      "[1] \"154fab12-a43f-11ee-88ec-eb6a8d5269b4\"\n",
      "[1] \"58263e34-a45c-11ee-88ec-eb6a8d5269b4\"\n",
      "[1] \"acd71bc0-ecf4-11ee-9385-ef789ffde1d3\"\n",
      "[1] \"3441fc36-ecca-11ee-b297-3b0ad9d5d6c6\"\n",
      "[1] \"f671c05c-a5e4-11ee-88ec-eb6a8d5269b4\"\n",
      "[1] \"c8f54ac0-ebd2-11ee-b297-3b0ad9d5d6c6\"\n",
      "[1] \"326699c2-ecd8-11ee-b297-3b0ad9d5d6c6\"\n",
      "[1] \"3ce8a358-edd8-11ee-9385-ef789ffde1d3\"\n",
      "[1] \"286c70cc-d2f7-11ee-b437-336917683bb8\"\n",
      "[1] \"20cbfe8c-ea2b-11ee-b297-3b0ad9d5d6c6\"\n",
      "[1] \"c9023e32-ed90-11ee-9385-ef789ffde1d3\"\n",
      "[1] \"f0bcec4e-ed3e-11ee-9385-ef789ffde1d3\"\n",
      "[1] \"d94ef300-ed60-11ee-9385-ef789ffde1d3\"\n",
      "[1] \"e269948a-ed9d-11ee-9385-ef789ffde1d3\"\n",
      "[1] \"f6ac3c82-a445-11ee-88ec-eb6a8d5269b4\"\n",
      "[1] \"80340ab8-d054-11ee-9435-f7e542e2436c\"\n",
      "[1] \"b76f33be-ea61-11ee-b297-3b0ad9d5d6c6\"\n",
      "[1] \"da853e0c-a10f-11ee-981c-d126ddbe9afa\"\n",
      "[1] \"19b7ebd0-d9b7-11ee-a158-97f8443fd730\"\n",
      "[1] \"cb205756-ec43-11ee-b297-3b0ad9d5d6c6\"\n",
      "[1] \"64bbe8e0-eb94-11ee-b297-3b0ad9d5d6c6\"\n",
      "[1] \"e9d67bf2-ec35-11ee-b297-3b0ad9d5d6c6\"\n",
      "[1] \"Done loading data\"\n"
     ]
    }
   ],
   "source": [
    "%%R\n",
    "# Initialize an empty tibble\n",
    "df_merged <- tibble()\n",
    "\n",
    "# Loop through each gmID\n",
    "for (id in blue_route_gmIDs) {\n",
    "  print(id)\n",
    "  \n",
    "  # Update the file paths with the correct full paths\n",
    "  temp_chassis_path <- sprintf(\n",
    "    \"/home/gampadu_linux/Desktop/TDMprivate/data/%s/_apollo_canbus_chassis/%s_apollo_canbus_chassis.csv\",\n",
    "    id, id\n",
    "  )\n",
    "  temp_pose_path <- sprintf(\n",
    "    \"/home/gampadu_linux/Desktop/TDMprivate/data/%s/_apollo_sensor_gnss_best_pose/%s_apollo_sensor_gnss_best_pose.csv\",\n",
    "    id, id\n",
    "  )\n",
    "\n",
    "  # Check if the files exist\n",
    "  if (file.exists(temp_chassis_path) && file.exists(temp_pose_path)) {\n",
    "    # Read the files\n",
    "    temp_chassis <- as_tibble(read.csv(temp_chassis_path))\n",
    "    temp_pose <- as_tibble(read.csv(temp_pose_path))\n",
    "    \n",
    "    # Process the data\n",
    "    r <- latlongStdDev(temp_pose)\n",
    "    temp_pose[\"latlongStdDev\"] <- r\n",
    "    \n",
    "    results <- merge_chassis_pose(temp_chassis, temp_pose)\n",
    "    result_full <- merge(results$df_chassis, results$df_pose, by = \"matched\")\n",
    "    \n",
    "    # Add binary driving mode\n",
    "    result_full$binaryDrivingMode <- binary_driving_mode(result_full)\n",
    "    \n",
    "    # Append to df_merged\n",
    "    df_merged <- bind_rows(df_merged, result_full)\n",
    "  } else {\n",
    "    warning(sprintf(\"Files not found for gmID: %s\", id))\n",
    "  }\n",
    "}\n",
    "\n",
    "print(\"Done loading data\")"
   ]
  },
  {
   "cell_type": "code",
   "execution_count": 20,
   "id": "e30fc485-74ee-44a8-b450-fdf53e3ef949",
   "metadata": {},
   "outputs": [
    {
     "name": "stdout",
     "output_type": "stream",
     "text": [
      "[1] \"Training data rows: 4272950\"\n",
      "[1] \"Testing data rows: 231479\"\n"
     ]
    }
   ],
   "source": [
    "%%R\n",
    "# Load required library\n",
    "library(dplyr)\n",
    "\n",
    "# Split GMIDs into Training and Testing Sets\n",
    "training_gmIDs <- blue_route_gmIDs[1:75]  # First 77 GMIDs (80%)\n",
    "testing_gmIDs <- blue_route_gmIDs[76:80] # Last 5 GMIDs\n",
    "\n",
    "# Filter df_merged for training and testing data based on GMIDs\n",
    "train_data <- df_merged %>% filter(groupMetadataID.x %in% training_gmIDs)\n",
    "test_data <- df_merged %>% filter(groupMetadataID.x %in% testing_gmIDs)\n",
    "\n",
    "# Check the number of rows in each dataset\n",
    "print(paste(\"Training data rows:\", nrow(train_data)))\n",
    "print(paste(\"Testing data rows:\", nrow(test_data)))\n",
    "\n",
    "# Verify if test_data is not empty\n",
    "if (nrow(test_data) == 0) {\n",
    "  print(\"Error: test_data is empty. Check GMID filtering.\")\n",
    "}"
   ]
  },
  {
   "cell_type": "code",
   "execution_count": 21,
   "id": "2be56164-22d2-4b6c-9f5a-1565caed47a5",
   "metadata": {},
   "outputs": [
    {
     "name": "stdout",
     "output_type": "stream",
     "text": [
      " [1] \"7228e03a-ebf0-11ee-b297-3b0ad9d5d6c6\"\n",
      " [2] \"17876fec-ea66-11ee-b297-3b0ad9d5d6c6\"\n",
      " [3] \"d1d090d4-ea7c-11ee-b297-3b0ad9d5d6c6\"\n",
      " [4] \"ed7f2038-ea1e-11ee-b297-3b0ad9d5d6c6\"\n",
      " [5] \"6af236d6-d98f-11ee-a158-97f8443fd730\"\n",
      " [6] \"64737d98-d312-11ee-b437-336917683bb8\"\n",
      " [7] \"5240e750-ec30-11ee-b297-3b0ad9d5d6c6\"\n",
      " [8] \"7613801a-edcb-11ee-9385-ef789ffde1d3\"\n",
      " [9] \"68c289fa-dbd4-11ee-a158-97f8443fd730\"\n",
      "[10] \"76683d3c-db18-11ee-a158-97f8443fd730\"\n",
      "[11] \"69ab88ec-dc17-11ee-a158-97f8443fd730\"\n",
      "[12] \"7f09f6c6-a5b0-11ee-88ec-eb6a8d5269b4\"\n",
      "[13] \"3d2a80f0-ec81-11ee-b297-3b0ad9d5d6c6\"\n",
      "[14] \"feaf2ba8-d28d-11ee-b437-336917683bb8\"\n",
      "[15] \"e2079a78-dc1d-11ee-a158-97f8443fd730\"\n",
      "[16] \"b224ef9c-ec10-11ee-b297-3b0ad9d5d6c6\"\n",
      "[17] \"ba28b352-ec8f-11ee-b297-3b0ad9d5d6c6\"\n",
      "[18] \"59c189d8-ed54-11ee-9385-ef789ffde1d3\"\n",
      "[19] \"2d35c522-eba2-11ee-b297-3b0ad9d5d6c6\"\n",
      "[20] \"3343fd3c-eb87-11ee-b297-3b0ad9d5d6c6\"\n",
      "[21] \"c0624e24-d9aa-11ee-a158-97f8443fd730\"\n",
      "[22] \"a253145a-d2a6-11ee-b437-336917683bb8\"\n",
      "[23] \"9830d896-d2dc-11ee-b437-336917683bb8\"\n",
      "[24] \"aa86a660-dc05-11ee-a158-97f8443fd730\"\n",
      "[25] \"90101c36-a621-11ee-88ec-eb6a8d5269b4\"\n",
      "[26] \"82d39c74-ea59-11ee-b297-3b0ad9d5d6c6\"\n",
      "[27] \"f9d62032-db2a-11ee-a158-97f8443fd730\"\n",
      "[28] \"af10e22a-ebb1-11ee-b297-3b0ad9d5d6c6\"\n",
      "[29] \"47561998-d9c3-11ee-a158-97f8443fd730\"\n",
      "[30] \"64875cc0-d054-11ee-9435-f7e542e2436c\"\n",
      "[31] \"df8e3742-ec54-11ee-b297-3b0ad9d5d6c6\"\n",
      "[32] \"3a2a78cc-db21-11ee-a158-97f8443fd730\"\n",
      "[33] \"2bc6ebb8-a529-11ee-88ec-eb6a8d5269b4\"\n",
      "[34] \"4d0254fc-ec73-11ee-b297-3b0ad9d5d6c6\"\n",
      "[35] \"dc39aa14-db32-11ee-a158-97f8443fd730\"\n",
      "[36] \"25d3bdc8-ecbc-11ee-b297-3b0ad9d5d6c6\"\n",
      "[37] \"8b6a6cfc-ed6d-11ee-9385-ef789ffde1d3\"\n",
      "[38] \"e6d7d384-db40-11ee-a158-97f8443fd730\"\n",
      "[39] \"a17c1280-ea10-11ee-b297-3b0ad9d5d6c6\"\n",
      "[40] \"36663b02-ea87-11ee-b297-3b0ad9d5d6c6\"\n",
      "[41] \"71a18322-ecab-11ee-b297-3b0ad9d5d6c6\"\n",
      "[42] \"cf6fdf3a-eaa3-11ee-b297-3b0ad9d5d6c6\"\n",
      "[43] \"57d240d6-ea4d-11ee-b297-3b0ad9d5d6c6\"\n",
      "[44] \"baf0e4be-bede-11ee-835b-599066b5eb60\"\n",
      "[45] \"530de03a-ed79-11ee-9385-ef789ffde1d3\"\n",
      "[46] \"43914d48-ed85-11ee-9385-ef789ffde1d3\"\n",
      "[47] \"a7c98b32-ebc2-11ee-b297-3b0ad9d5d6c6\"\n",
      "[48] \"fc119dfc-eb67-11ee-b297-3b0ad9d5d6c6\"\n",
      "[49] \"c7c02bda-ebe0-11ee-b297-3b0ad9d5d6c6\"\n",
      "[50] \"39ba7438-d0d5-11ee-9435-f7e542e2436c\"\n",
      "[51] \"e8a8b2be-edbf-11ee-9385-ef789ffde1d3\"\n",
      "[52] \"3ea96640-ea37-11ee-b297-3b0ad9d5d6c6\"\n",
      "[53] \"21376e38-ec01-11ee-b297-3b0ad9d5d6c6\"\n",
      "[54] \"513a670c-eea9-11ee-9385-ef789ffde1d3\"\n",
      "[55] \"06cbdbc0-db4d-11ee-a158-97f8443fd730\"\n",
      "[56] \"559495ca-d270-11ee-b437-336917683bb8\"\n",
      "[57] \"04151804-ec20-11ee-b297-3b0ad9d5d6c6\"\n",
      "[58] \"d62ee6e8-ed02-11ee-9385-ef789ffde1d3\"\n",
      "[59] \"154fab12-a43f-11ee-88ec-eb6a8d5269b4\"\n",
      "[60] \"58263e34-a45c-11ee-88ec-eb6a8d5269b4\"\n",
      "[61] \"acd71bc0-ecf4-11ee-9385-ef789ffde1d3\"\n",
      "[62] \"3441fc36-ecca-11ee-b297-3b0ad9d5d6c6\"\n",
      "[63] \"f671c05c-a5e4-11ee-88ec-eb6a8d5269b4\"\n",
      "[64] \"c8f54ac0-ebd2-11ee-b297-3b0ad9d5d6c6\"\n",
      "[65] \"326699c2-ecd8-11ee-b297-3b0ad9d5d6c6\"\n",
      "[66] \"3ce8a358-edd8-11ee-9385-ef789ffde1d3\"\n",
      "[67] \"286c70cc-d2f7-11ee-b437-336917683bb8\"\n",
      "[68] \"20cbfe8c-ea2b-11ee-b297-3b0ad9d5d6c6\"\n",
      "[69] \"c9023e32-ed90-11ee-9385-ef789ffde1d3\"\n",
      "[70] \"f0bcec4e-ed3e-11ee-9385-ef789ffde1d3\"\n",
      "[71] \"d94ef300-ed60-11ee-9385-ef789ffde1d3\"\n",
      "[72] \"e269948a-ed9d-11ee-9385-ef789ffde1d3\"\n",
      "[73] \"f6ac3c82-a445-11ee-88ec-eb6a8d5269b4\"\n",
      "[74] \"80340ab8-d054-11ee-9435-f7e542e2436c\"\n",
      "[75] \"b76f33be-ea61-11ee-b297-3b0ad9d5d6c6\"\n"
     ]
    }
   ],
   "source": [
    "%%R\n",
    "training_gmIDs"
   ]
  },
  {
   "cell_type": "code",
   "execution_count": 22,
   "id": "d4d1fa78-6191-4cc3-a6a2-7629b5f33d26",
   "metadata": {},
   "outputs": [
    {
     "name": "stdout",
     "output_type": "stream",
     "text": [
      "[1] \"da853e0c-a10f-11ee-981c-d126ddbe9afa\"\n",
      "[2] \"19b7ebd0-d9b7-11ee-a158-97f8443fd730\"\n",
      "[3] \"cb205756-ec43-11ee-b297-3b0ad9d5d6c6\"\n",
      "[4] \"64bbe8e0-eb94-11ee-b297-3b0ad9d5d6c6\"\n",
      "[5] \"e9d67bf2-ec35-11ee-b297-3b0ad9d5d6c6\"\n"
     ]
    }
   ],
   "source": [
    "%%R\n",
    "testing_gmIDs"
   ]
  },
  {
   "cell_type": "code",
   "execution_count": 24,
   "id": "ad906665-a63e-4910-bba0-36ff6b4d098f",
   "metadata": {
    "scrolled": true
   },
   "outputs": [
    {
     "name": "stdout",
     "output_type": "stream",
     "text": [
      "\n",
      "Call:\n",
      "glm(formula = binaryDrivingMode ~ speedMps + throttlePercentage + \n",
      "    brakePercentage + steeringPercentage + latlongStdDev, family = binomial, \n",
      "    data = train_data)\n",
      "\n",
      "Deviance Residuals: \n",
      "    Min       1Q   Median       3Q      Max  \n",
      "-3.3598  -0.7777   0.4803   0.6799   2.0494  \n",
      "\n",
      "Coefficients:\n",
      "                     Estimate Std. Error z value Pr(>|z|)    \n",
      "(Intercept)        -1.569e+00  3.467e-03 -452.68   <2e-16 ***\n",
      "speedMps            2.056e-01  2.546e-04  807.54   <2e-16 ***\n",
      "throttlePercentage  2.507e-02  1.474e-04  170.04   <2e-16 ***\n",
      "brakePercentage     4.403e-02  1.213e-04  362.87   <2e-16 ***\n",
      "steeringPercentage -4.752e-03  9.972e-05  -47.66   <2e-16 ***\n",
      "latlongStdDev       3.829e-02  1.439e-03   26.60   <2e-16 ***\n",
      "---\n",
      "Signif. codes:  0 ‘***’ 0.001 ‘**’ 0.01 ‘*’ 0.05 ‘.’ 0.1 ‘ ’ 1\n",
      "\n",
      "(Dispersion parameter for binomial family taken to be 1)\n",
      "\n",
      "    Null deviance: 4938298  on 4272949  degrees of freedom\n",
      "Residual deviance: 3968312  on 4272944  degrees of freedom\n",
      "AIC: 3968324\n",
      "\n",
      "Number of Fisher Scoring iterations: 5\n",
      "\n"
     ]
    }
   ],
   "source": [
    "%%R\n",
    "# Train a Logistic Regression Model\n",
    "model <- glm(\n",
    "  binaryDrivingMode ~ speedMps + throttlePercentage + brakePercentage + steeringPercentage + latlongStdDev,\n",
    "  data = train_data,\n",
    "  family = binomial\n",
    ")\n",
    "\n",
    "summary(model)"
   ]
  },
  {
   "cell_type": "code",
   "execution_count": 25,
   "id": "6507e947-487c-45be-b26d-55ad6b6f3e86",
   "metadata": {},
   "outputs": [
    {
     "name": "stdout",
     "output_type": "stream",
     "text": [
      "[1] \"Accuracy: 0.813421519878693\"\n"
     ]
    }
   ],
   "source": [
    "%%R\n",
    " # Predict on the test set\n",
    " predictions <- predict(model, test_data, type = \"response\")\n",
    "\n",
    " #Covert probabilities to binary classes (0 or 1)\n",
    " predicted_classes <- ifelse(predictions > 0.5, 1, 0)\n",
    "\n",
    " # Calculate accuracy\n",
    " accuracy <- mean(predicted_classes == test_data$binaryDrivingMode)\n",
    "\n",
    " # Print the accuracy\n",
    "print(paste(\"Accuracy:\", accuracy))"
   ]
  },
  {
   "cell_type": "code",
   "execution_count": 26,
   "id": "8f0c2281-58cb-4665-990c-bedb5c0a7aca",
   "metadata": {},
   "outputs": [
    {
     "data": {
      "image/png": "[encoded data removed]",
      "text/plain": [
       "<IPython.core.display.Image object>"
      ]
     },
     "metadata": {},
     "output_type": "display_data"
    }
   ],
   "source": [
    "%%R\n",
    "# Load required libraries\n",
    "library(ggplot2)\n",
    "library(caret)\n",
    "\n",
    "# Map the values to labels (1 -> \"Auto_mode\", 0 -> \"Manual\")\n",
    "predicted_classes_labeled <- factor(predicted_classes, levels = c(0,1), labels = c(\"Manual Mode(0)\", \"Auto Mode(1)\"))\n",
    "actual_classes_labeled <- factor (test_data$binaryDrivingMode, levels = c(0,1), labels = c(\"Manual Mode(0)\", \"Auto Mode(1)\"))\n",
    "\n",
    "# Generate the confusion matrix\n",
    "cm <- confusionMatrix(predicted_classes_labeled, actual_classes_labeled)\n",
    "cm_table <- as.data.frame(cm$table)\n",
    "\n",
    "# Rename columns for better understanding\n",
    "colnames(cm_table) <- c(\"Actual\", \"Predicted\", \"Frequency\")\n",
    "\n",
    "# Create the colored confusion matrix plot\n",
    "ggplot(cm_table, aes(x = Predicted, y = Actual, fill = Frequency)) +\n",
    "  geom_tile(color = \"white\") +\n",
    "  scale_fill_gradient(low = \"lightblue\", high = \"blue\", name = \"Frequency\") +\n",
    "  geom_text(aes(label = Frequency), color = \"white\", size = 5) +\n",
    "  labs(title = \"Confusion Matrix\", x = \"Predicted Classes\", y = \"True Classes\") +\n",
    "  theme_minimal() +\n",
    "  theme(plot.title = element_text(hjust = 0.5, size = 14),\n",
    "        axis.title = element_text(size = 12),\n",
    "        axis.text = element_text(size = 10))"
   ]
  },
  {
   "cell_type": "code",
   "execution_count": 27,
   "id": "99ca582f-cd6f-4f60-92bd-0f254544a3e7",
   "metadata": {},
   "outputs": [
    {
     "name": "stdout",
     "output_type": "stream",
     "text": [
      "Area under the curve: 0.7383\n"
     ]
    },
    {
     "data": {
      "text/plain": [
       "Setting levels: control = 0, case = 1\n",
       "Setting direction: controls < cases\n"
      ]
     },
     "metadata": {},
     "output_type": "display_data"
    },
    {
     "data": {
      "image/png": "[encoded data removed]",
      "text/plain": [
       "<IPython.core.display.Image object>"
      ]
     },
     "metadata": {},
     "output_type": "display_data"
    }
   ],
   "source": [
    "%%R\n",
    "\n",
    "library(pROC)\n",
    "roc_obj <- roc(test_data$binaryDrivingMode, predictions)\n",
    "plot(roc_obj, main = \"ROC Curve\")\n",
    "auc(roc_obj)"
   ]
  },
  {
   "cell_type": "code",
   "execution_count": 28,
   "id": "285cae71-de23-463a-89af-4be1c670402a",
   "metadata": {},
   "outputs": [
    {
     "name": "stdout",
     "output_type": "stream",
     "text": [
      "Accuracy: 0.8134215 \n",
      "Precision: 0.9468616 \n",
      "Recall: 0.8400713 \n"
     ]
    }
   ],
   "source": [
    "%%R\n",
    "\n",
    "#Manually calculating the confusion matrix values\n",
    "TP <- 175212\n",
    "FP <- 9833\n",
    "FN <- 33356\n",
    "TN <- 13078\n",
    "\n",
    "# Calculate Metrics\n",
    "accuracy <- (TP + TN) / (TP + TN + FP + FN)\n",
    "precision <- TP / (TP + FP)\n",
    "recall <- TP / (TP + FN)\n",
    "#Print Metrics\n",
    "cat(\"Accuracy:\", accuracy, \"\\n\")\n",
    "cat(\"Precision:\", precision, \"\\n\")\n",
    "cat(\"Recall:\", recall, \"\\n\")"
   ]
  },
  {
   "cell_type": "code",
   "execution_count": 29,
   "id": "4834be46-9506-41e1-af40-51ce06d15bae",
   "metadata": {},
   "outputs": [
    {
     "name": "stdout",
     "output_type": "stream",
     "text": [
      "[1] \"True Positive Rate (TPR): 0.8401\"\n",
      "[1] \"True Negative Rate (TPR): 0.5708\"\n",
      "[1] \"Balance Accuracy: 0.7054\"\n"
     ]
    }
   ],
   "source": [
    "%%R\n",
    "\n",
    "#Manually calculating the confusion matrix values\n",
    "TP <- 175212\n",
    "FP <- 9833\n",
    "FN <- 33356\n",
    "TN <- 13078\n",
    "\n",
    "# Calculate Metrics\n",
    "tpr <- TP / (TP + FN) # Sensitivity\n",
    "tnr <- TN / (TN + FP) # Specificity \n",
    "\n",
    "# Calculate Balance Accuracy\n",
    "balanced_accuracy <- (tpr + tnr) / 2\n",
    "\n",
    "#Print results\n",
    "print(paste(\"True Positive Rate (TPR):\", round(tpr, 4)))\n",
    "print(paste(\"True Negative Rate (TPR):\", round(tnr, 4)))\n",
    "print(paste(\"Balance Accuracy:\", round(balanced_accuracy, 4)))"
   ]
  },
  {
   "cell_type": "code",
   "execution_count": 30,
   "id": "01788068-c7ee-485f-85a1-8e7031f92c1b",
   "metadata": {},
   "outputs": [
    {
     "name": "stdout",
     "output_type": "stream",
     "text": [
      "[1] \"Latitude and Longitude lists saved successfully.\"\n"
     ]
    }
   ],
   "source": [
    "%%R\n",
    "#Filter the dataset for Complete Auto Drive predictions\n",
    "\n",
    "#Defining the 10 gmIDs am working with\n",
    "selected_gmIDs <- c(\n",
    "   '5774dcde-f196-11ee-babe-fb353e7798cd','1c74d294-f1e4-11ee-baf0-fb353e7798cd','0f3cdf60-f1f6-11ee-bb00-fb353e7798cd','8b0593cc-cb4e-11ee-909c-e1dc60cf66f9',\n",
    "'a6539bd2-cb72-11ee-909c-e1dc60cf66f9'\n",
    ")\n",
    "\n",
    "\n",
    "complete_auto_drive <- df_merged %>%\n",
    "                                      \n",
    "    filter(binaryDrivingMode == 1 & groupMetadataID.x %in% selected_gmIDs)\n",
    "\n",
    "# Extract latitude and longitude\n",
    "latitude_list <- complete_auto_drive$latitude\n",
    "longitude_list <- complete_auto_drive$longitude\n",
    "\n",
    "\n",
    "#  Save Latitutde and Longitude Lists\n",
    "write.csv(latitude_list, \"latitude_list.csv\", row.names = FALSE)\n",
    "write.csv(longitude_list, \"longitude_list.csv\", row.names = FALSE)\n",
    "\n",
    "print(\"Latitude and Longitude lists saved successfully.\")"
   ]
  },
  {
   "cell_type": "code",
   "execution_count": null,
   "id": "9c8025bf-964a-41a6-bd8d-445409ab9f5c",
   "metadata": {},
   "outputs": [],
   "source": []
  }
 ],
 "metadata": {
  "kernelspec": {
   "display_name": "Python 3 (ipykernel)",
   "language": "python",
   "name": "python3"
  },
  "language_info": {
   "codemirror_mode": {
    "name": "ipython",
    "version": 3
   },
   "file_extension": ".py",
   "mimetype": "text/x-python",
   "name": "python",
   "nbconvert_exporter": "python",
   "pygments_lexer": "ipython3",
   "version": "3.10.12"
  }
 },
 "nbformat": 4,
 "nbformat_minor": 5
}
