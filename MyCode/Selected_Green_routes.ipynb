{
 "cells": [
  {
   "cell_type": "code",
   "execution_count": 1,
   "id": "71f633b4-6520-49f5-9b61-47fb109ecaaf",
   "metadata": {},
   "outputs": [],
   "source": [
    "%load_ext rpy2.ipython"
   ]
  },
  {
   "cell_type": "code",
   "execution_count": 2,
   "id": "c7be383c-4970-4390-a4bd-7caae599c3d6",
   "metadata": {},
   "outputs": [
    {
     "data": {
      "text/plain": [
       "\n",
       "Attaching package: ‘dplyr’\n",
       "\n",
       "The following objects are masked from ‘package:stats’:\n",
       "\n",
       "    filter, lag\n",
       "\n",
       "The following objects are masked from ‘package:base’:\n",
       "\n",
       "    intersect, setdiff, setequal, union\n",
       "\n",
       "Loading required package: lattice\n",
       "Type 'citation(\"pROC\")' for a citation.\n",
       "\n",
       "Attaching package: ‘pROC’\n",
       "\n",
       "The following objects are masked from ‘package:stats’:\n",
       "\n",
       "    cov, smooth, var\n",
       "\n",
       "Loaded ROSE 0.0-4\n",
       "\n",
       "Loading required package: Matrix\n",
       "Loaded glmnet 4.1-8\n",
       "In addition: Warning message:\n",
       "In (function (package, help, pos = 2, lib.loc = NULL, character.only = FALSE,  :\n",
       "  libraries ‘/usr/local/lib/R/site-library’, ‘/usr/lib/R/site-library’ contain no packages\n"
      ]
     },
     "metadata": {},
     "output_type": "display_data"
    }
   ],
   "source": [
    "%%R\n",
    "\n",
    "#install.packages(\"tibble\")\n",
    "#install.packages(\"dplyr\")\n",
    "#install.packages(ggplot2)\n",
    "#install.packages(\"caret\")\n",
    "#install.packages(\"glmnet\")\n",
    "\n",
    "library(tibble)\n",
    "library(dplyr)\n",
    "library(ggplot2)\n",
    "library(caret)\n",
    "library(pROC)\n",
    "library(ROSE)\n",
    "library(glmnet)"
   ]
  },
  {
   "cell_type": "code",
   "execution_count": 3,
   "id": "cd83314f-e029-46e3-a334-7e5ff675a6b5",
   "metadata": {},
   "outputs": [],
   "source": [
    "%%R\n",
    "\n",
    "binary_driving_mode <- function (df_chassis) {\n",
    "    result <- ifelse(df_chassis$drivingMode == \"COMPLETE_AUTO_DRIVE\", 1, 0)\n",
    "\n",
    "    return(result)\n",
    "}\n",
    "\n",
    "\n",
    "merge_chassis_pose <- function (df_chassis, df_pose) {\n",
    "    \n",
    "    \n",
    "    df_chassis <- df_chassis[order(df_chassis$time), ]\n",
    "    df_pose <- df_pose[order(df_pose$time), ]\n",
    "    \n",
    "    #make sure data is sorted by time fist\n",
    "\n",
    "    chassis_time_arr <- df_chassis$time\n",
    "    pose_time_arr <- df_pose$time\n",
    "\n",
    "    matched_vector <- c()\n",
    "\n",
    "    for (chassis_time in chassis_time_arr) {\n",
    "        abs_time_diff_arr <- abs(pose_time_arr - chassis_time)\n",
    "\n",
    "        min_index <-  which(abs_time_diff_arr == min(abs_time_diff_arr))\n",
    "        \n",
    "        matched_vector <-  c(matched_vector, pose_time_arr[min_index])\n",
    "    }\n",
    "\n",
    "\n",
    "\n",
    "    #df_chassis$matched <- df_pose$time[which(abs(pose_time_arr - df_chassis$time) == min(abs(pose_time_arr - df_chassis$time)))]\n",
    "    df_chassis$matched <-  matched_vector\n",
    "    df_pose$matched <-  df_pose$time\n",
    "\n",
    "\n",
    "    return (list(df_chassis = df_chassis, df_pose = df_pose))\n",
    "\n",
    "\n",
    "}\n",
    "\n",
    "latlongStdDev <- function(df_pose){\n",
    "    x <- df_pose[\"latitudeStdDev\"]\n",
    "    y <- df_pose[\"longitudeStdDev\"]\n",
    "        r <- sqrt(x^2 + y^2)\n",
    "\n",
    "    return(r)\n",
    "\n",
    "}"
   ]
  },
  {
   "cell_type": "code",
   "execution_count": 4,
   "id": "f9c23af8-eac9-4615-b7dc-e40dae6a41f0",
   "metadata": {},
   "outputs": [],
   "source": [
    "%%R\n",
    "# Defining GMIDs for Red Routes\n",
    "# Am creating a list of GMIDs for processing\n",
    "green_route_gmIDs  <- c(\n",
    "    '3ec95686-f053-11ee-b988-fb353e7798cd',\n",
    "'b31aca98-cb95-11ee-909c-e1dc60cf66f9',\n",
    "'25e27b86-f06a-11ee-b9a3-fb353e7798cd',\n",
    "'bf9157f0-f16b-11ee-ba9e-fb353e7798cd',\n",
    "'51b74168-f19d-11ee-babf-fb353e7798cd',\n",
    "'de493be2-f10f-11ee-ba4b-fb353e7798cd',\n",
    "'ece2a8be-f047-11ee-b97d-fb353e7798cd',\n",
    "'044d976e-f0e5-11ee-ba20-fb353e7798cd',\n",
    "'98692fde-f1a4-11ee-bac6-fb353e7798cd',\n",
    "'5afabc8c-f035-11ee-b966-fb353e7798cd',\n",
    "'072ef896-cbac-11ee-909c-e1dc60cf66f9',\n",
    "'c59a54e0-f179-11ee-baab-fb353e7798cd',\n",
    "'bbbd0cc6-f0dc-11ee-ba1e-fb353e7798cd',\n",
    "'ba87f3ec-f07e-11ee-b9b4-fb353e7798cd',\n",
    "'96ceec56-f1cf-11ee-bae4-fb353e7798cd',\n",
    "'40706f50-f03b-11ee-b96e-fb353e7798cd',\n",
    "'f570c51c-f15d-11ee-ba91-fb353e7798cd',\n",
    "'f12112ba-f1c0-11ee-bada-fb353e7798cd',\n",
    "'961fd9cc-f103-11ee-ba3f-fb353e7798cd',\n",
    "'5f7ce340-f1c8-11ee-bae0-fb353e7798cd',\n",
    "'cf7148d8-f058-11ee-b98a-fb353e7798cd',\n",
    "'848e44a6-f134-11ee-ba6d-fb353e7798cd',\n",
    "'3a7dc9a6-f042-11ee-b974-fb353e7798cd',\n",
    "'c9be2042-f0de-11ee-ba1e-fb353e7798cd',\n",
    "'9736e77c-f187-11ee-bab6-fb353e7798cd',\n",
    "'5fc763f6-f1ab-11ee-bacd-fb353e7798cd',\n",
    "'4c88757c-f157-11ee-ba89-fb353e7798cd',\n",
    "'a231c0b0-f142-11ee-ba76-fb353e7798cd',\n",
    "'53fad09e-f0f7-11ee-ba2f-fb353e7798cd',\n",
    "'5c7a9ab2-f13b-11ee-ba72-fb353e7798cd',\n",
    "'4cf81634-f238-11ee-bb34-fb353e7798cd',\n",
    "'a08a8c7e-f1fb-11ee-bb05-fb353e7798cd',\n",
    "'3ed4aa16-f1d6-11ee-bae6-fb353e7798cd',\n",
    "'25135418-f250-11ee-bb4a-fb353e7798cd',\n",
    "'c1b320e2-f079-11ee-b9b0-fb353e7798cd',\n",
    "'43abeb00-f206-11ee-bb07-fb353e7798cd',\n",
    "'fe0395f0-f1ea-11ee-baf9-fb353e7798cd',\n",
    "'3d8020aa-cb7f-11ee-909c-e1dc60cf66f9',\n",
    "'14b6bc9c-f064-11ee-b998-fb353e7798cd',\n",
    "'870cfd32-f1b9-11ee-bad5-fb353e7798cd',\n",
    "'c2f54552-f06f-11ee-b9a9-fb353e7798cd',\n",
    "'dea29156-f123-11ee-ba5d-fb353e7798cd',\n",
    "'3c415ade-d353-11ee-b437-336917683bb8',\n",
    "'a901fe40-f0fd-11ee-ba39-fb353e7798cd',\n",
    "'c4146d46-f074-11ee-b9ac-fb353e7798cd',\n",
    "'de226278-f25a-11ee-bb4e-fb353e7798cd',\n",
    "'d7cb9c92-f164-11ee-ba97-fb353e7798cd',\n",
    "'88b0613a-d35d-11ee-b437-336917683bb8',\n",
    "'c4fca7bc-f18e-11ee-bab8-fb353e7798cd',\n",
    "'ed352100-cba0-11ee-909c-e1dc60cf66f9',\n",
    "'cbdc93f4-f255-11ee-bb4e-fb353e7798cd',\n",
    "'8e5c4fc2-f149-11ee-ba7f-fb353e7798cd',\n",
    "'bb4d37d4-f109-11ee-ba46-fb353e7798cd',\n",
    "'236836f6-f1dd-11ee-bae8-fb353e7798cd',\n",
    "'7948628e-f20b-11ee-bb0f-fb353e7798cd',\n",
    "'c14299be-f180-11ee-bab0-fb353e7798cd',\n",
    "'73bc30cc-f150-11ee-ba84-fb353e7798cd',\n",
    "'7e3d64da-f12d-11ee-ba68-fb353e7798cd',\n",
    "'837fc882-cb5a-11ee-909c-e1dc60cf66f9',\n",
    "'f8fd0fd8-f243-11ee-bb3f-fb353e7798cd',\n",
    "'58d78342-f24a-11ee-bb45-fb353e7798cd',\n",
    "'8adb6498-f04d-11ee-b981-fb353e7798cd',\n",
    "'271fee10-cb8b-11ee-909c-e1dc60cf66f9',\n",
    "'99b9f446-f1b2-11ee-bad3-fb353e7798cd',\n",
    "'5774dcde-f196-11ee-babe-fb353e7798cd',\n",
    "'1c74d294-f1e4-11ee-baf0-fb353e7798cd',\n",
    "'0f3cdf60-f1f6-11ee-bb00-fb353e7798cd',\n",
    "'8b0593cc-cb4e-11ee-909c-e1dc60cf66f9',\n",
    "'a6539bd2-cb72-11ee-909c-e1dc60cf66f9'\n",
    ")    "
   ]
  },
  {
   "cell_type": "code",
   "execution_count": 5,
   "id": "74c789f3-fd75-44fc-bc29-3dd09c8321b5",
   "metadata": {},
   "outputs": [
    {
     "name": "stdout",
     "output_type": "stream",
     "text": [
      "[1] \"3ec95686-f053-11ee-b988-fb353e7798cd\"\n",
      "[1] \"b31aca98-cb95-11ee-909c-e1dc60cf66f9\"\n",
      "[1] \"25e27b86-f06a-11ee-b9a3-fb353e7798cd\"\n",
      "[1] \"bf9157f0-f16b-11ee-ba9e-fb353e7798cd\"\n",
      "[1] \"51b74168-f19d-11ee-babf-fb353e7798cd\"\n",
      "[1] \"de493be2-f10f-11ee-ba4b-fb353e7798cd\"\n",
      "[1] \"ece2a8be-f047-11ee-b97d-fb353e7798cd\"\n",
      "[1] \"044d976e-f0e5-11ee-ba20-fb353e7798cd\"\n",
      "[1] \"98692fde-f1a4-11ee-bac6-fb353e7798cd\"\n",
      "[1] \"5afabc8c-f035-11ee-b966-fb353e7798cd\"\n",
      "[1] \"072ef896-cbac-11ee-909c-e1dc60cf66f9\"\n",
      "[1] \"c59a54e0-f179-11ee-baab-fb353e7798cd\"\n",
      "[1] \"bbbd0cc6-f0dc-11ee-ba1e-fb353e7798cd\"\n",
      "[1] \"ba87f3ec-f07e-11ee-b9b4-fb353e7798cd\"\n",
      "[1] \"96ceec56-f1cf-11ee-bae4-fb353e7798cd\"\n",
      "[1] \"40706f50-f03b-11ee-b96e-fb353e7798cd\"\n",
      "[1] \"f570c51c-f15d-11ee-ba91-fb353e7798cd\"\n",
      "[1] \"f12112ba-f1c0-11ee-bada-fb353e7798cd\"\n",
      "[1] \"961fd9cc-f103-11ee-ba3f-fb353e7798cd\"\n",
      "[1] \"5f7ce340-f1c8-11ee-bae0-fb353e7798cd\"\n",
      "[1] \"cf7148d8-f058-11ee-b98a-fb353e7798cd\"\n",
      "[1] \"848e44a6-f134-11ee-ba6d-fb353e7798cd\"\n",
      "[1] \"3a7dc9a6-f042-11ee-b974-fb353e7798cd\"\n",
      "[1] \"c9be2042-f0de-11ee-ba1e-fb353e7798cd\"\n",
      "[1] \"9736e77c-f187-11ee-bab6-fb353e7798cd\"\n",
      "[1] \"5fc763f6-f1ab-11ee-bacd-fb353e7798cd\"\n",
      "[1] \"4c88757c-f157-11ee-ba89-fb353e7798cd\"\n",
      "[1] \"a231c0b0-f142-11ee-ba76-fb353e7798cd\"\n",
      "[1] \"53fad09e-f0f7-11ee-ba2f-fb353e7798cd\"\n",
      "[1] \"5c7a9ab2-f13b-11ee-ba72-fb353e7798cd\"\n",
      "[1] \"4cf81634-f238-11ee-bb34-fb353e7798cd\"\n",
      "[1] \"a08a8c7e-f1fb-11ee-bb05-fb353e7798cd\"\n",
      "[1] \"3ed4aa16-f1d6-11ee-bae6-fb353e7798cd\"\n",
      "[1] \"25135418-f250-11ee-bb4a-fb353e7798cd\"\n",
      "[1] \"c1b320e2-f079-11ee-b9b0-fb353e7798cd\"\n",
      "[1] \"43abeb00-f206-11ee-bb07-fb353e7798cd\"\n",
      "[1] \"fe0395f0-f1ea-11ee-baf9-fb353e7798cd\"\n",
      "[1] \"3d8020aa-cb7f-11ee-909c-e1dc60cf66f9\"\n",
      "[1] \"14b6bc9c-f064-11ee-b998-fb353e7798cd\"\n",
      "[1] \"870cfd32-f1b9-11ee-bad5-fb353e7798cd\"\n",
      "[1] \"c2f54552-f06f-11ee-b9a9-fb353e7798cd\"\n",
      "[1] \"dea29156-f123-11ee-ba5d-fb353e7798cd\"\n",
      "[1] \"3c415ade-d353-11ee-b437-336917683bb8\"\n",
      "[1] \"a901fe40-f0fd-11ee-ba39-fb353e7798cd\"\n",
      "[1] \"c4146d46-f074-11ee-b9ac-fb353e7798cd\"\n",
      "[1] \"de226278-f25a-11ee-bb4e-fb353e7798cd\"\n",
      "[1] \"d7cb9c92-f164-11ee-ba97-fb353e7798cd\"\n",
      "[1] \"88b0613a-d35d-11ee-b437-336917683bb8\"\n",
      "[1] \"c4fca7bc-f18e-11ee-bab8-fb353e7798cd\"\n",
      "[1] \"ed352100-cba0-11ee-909c-e1dc60cf66f9\"\n",
      "[1] \"cbdc93f4-f255-11ee-bb4e-fb353e7798cd\"\n",
      "[1] \"8e5c4fc2-f149-11ee-ba7f-fb353e7798cd\"\n",
      "[1] \"bb4d37d4-f109-11ee-ba46-fb353e7798cd\"\n",
      "[1] \"236836f6-f1dd-11ee-bae8-fb353e7798cd\"\n",
      "[1] \"7948628e-f20b-11ee-bb0f-fb353e7798cd\"\n",
      "[1] \"c14299be-f180-11ee-bab0-fb353e7798cd\"\n",
      "[1] \"73bc30cc-f150-11ee-ba84-fb353e7798cd\"\n",
      "[1] \"7e3d64da-f12d-11ee-ba68-fb353e7798cd\"\n",
      "[1] \"837fc882-cb5a-11ee-909c-e1dc60cf66f9\"\n",
      "[1] \"f8fd0fd8-f243-11ee-bb3f-fb353e7798cd\"\n",
      "[1] \"58d78342-f24a-11ee-bb45-fb353e7798cd\"\n",
      "[1] \"8adb6498-f04d-11ee-b981-fb353e7798cd\"\n",
      "[1] \"271fee10-cb8b-11ee-909c-e1dc60cf66f9\"\n",
      "[1] \"99b9f446-f1b2-11ee-bad3-fb353e7798cd\"\n",
      "[1] \"5774dcde-f196-11ee-babe-fb353e7798cd\"\n",
      "[1] \"1c74d294-f1e4-11ee-baf0-fb353e7798cd\"\n",
      "[1] \"0f3cdf60-f1f6-11ee-bb00-fb353e7798cd\"\n",
      "[1] \"8b0593cc-cb4e-11ee-909c-e1dc60cf66f9\"\n",
      "[1] \"a6539bd2-cb72-11ee-909c-e1dc60cf66f9\"\n",
      "[1] \"Done loading data\"\n"
     ]
    }
   ],
   "source": [
    "%%R\n",
    "# Initialize an empty tibble\n",
    "df_merged <- tibble()\n",
    "\n",
    "# Loop through each gmID\n",
    "for (id in green_route_gmIDs) {\n",
    "  print(id)\n",
    "  \n",
    "  # Update the file paths with the correct full paths\n",
    "  temp_chassis_path <- sprintf(\n",
    "    \"/home/gampadu_linux/Desktop/TDMprivate/data/%s/_apollo_canbus_chassis/%s_apollo_canbus_chassis.csv\",\n",
    "    id, id\n",
    "  )\n",
    "  temp_pose_path <- sprintf(\n",
    "    \"/home/gampadu_linux/Desktop/TDMprivate/data/%s/_apollo_sensor_gnss_best_pose/%s_apollo_sensor_gnss_best_pose.csv\",\n",
    "    id, id\n",
    "  )\n",
    "\n",
    "  # Check if the files exist\n",
    "  if (file.exists(temp_chassis_path) && file.exists(temp_pose_path)) {\n",
    "    # Read the files\n",
    "    temp_chassis <- as_tibble(read.csv(temp_chassis_path))\n",
    "    temp_pose <- as_tibble(read.csv(temp_pose_path))\n",
    "    \n",
    "    # Process the data\n",
    "    r <- latlongStdDev(temp_pose)\n",
    "    temp_pose[\"latlongStdDev\"] <- r\n",
    "    \n",
    "    results <- merge_chassis_pose(temp_chassis, temp_pose)\n",
    "    result_full <- full_join(results$df_chassis, results$df_pose, by = \"matched\")\n",
    "    \n",
    "    # Add binary driving mode\n",
    "    result_full$binaryDrivingMode <- binary_driving_mode(result_full)\n",
    "    \n",
    "    # Append to df_merged\n",
    "    df_merged <- bind_rows(df_merged, result_full)\n",
    "  } else {\n",
    "    warning(sprintf(\"Files not found for gmID: %s\", id))\n",
    "  }\n",
    "}\n",
    "\n",
    "print(\"Done loading data\")"
   ]
  },
  {
   "cell_type": "code",
   "execution_count": 6,
   "id": "5a1948b8-1813-4660-a589-43c09ea9a6d6",
   "metadata": {},
   "outputs": [
    {
     "name": "stdout",
     "output_type": "stream",
     "text": [
      "[1] \"Training data rows: 1722824\"\n",
      "[1] \"Testing data rows: 163486\"\n"
     ]
    }
   ],
   "source": [
    "%%R\n",
    "# Load required library\n",
    "library(dplyr)\n",
    "\n",
    "# Split GMIDs into Training and Testing Sets\n",
    "training_gmIDs <- green_route_gmIDs[1:64]  # First 64 GMIDs (80%)\n",
    "testing_gmIDs <- green_route_gmIDs[65:69] # Last 5 GMIDs \n",
    "\n",
    "# Filter df_merged for training and testing data based on GMIDs\n",
    "train_data <- df_merged %>% filter(groupMetadataID.x %in% training_gmIDs)\n",
    "test_data <- df_merged %>% filter(groupMetadataID.x %in% testing_gmIDs)\n",
    "\n",
    "# Check the number of rows in each dataset\n",
    "print(paste(\"Training data rows:\", nrow(train_data)))\n",
    "print(paste(\"Testing data rows:\", nrow(test_data)))\n",
    "\n",
    "# Verify if test_data is not empty\n",
    "if (nrow(test_data) == 0) {\n",
    "  print(\"Error: test_data is empty. Check GMID filtering.\")\n",
    "}"
   ]
  },
  {
   "cell_type": "code",
   "execution_count": 7,
   "id": "b1040128-d734-44aa-b451-40acec43bae8",
   "metadata": {},
   "outputs": [
    {
     "name": "stdout",
     "output_type": "stream",
     "text": [
      " [1] \"3ec95686-f053-11ee-b988-fb353e7798cd\"\n",
      " [2] \"b31aca98-cb95-11ee-909c-e1dc60cf66f9\"\n",
      " [3] \"25e27b86-f06a-11ee-b9a3-fb353e7798cd\"\n",
      " [4] \"bf9157f0-f16b-11ee-ba9e-fb353e7798cd\"\n",
      " [5] \"51b74168-f19d-11ee-babf-fb353e7798cd\"\n",
      " [6] \"de493be2-f10f-11ee-ba4b-fb353e7798cd\"\n",
      " [7] \"ece2a8be-f047-11ee-b97d-fb353e7798cd\"\n",
      " [8] \"044d976e-f0e5-11ee-ba20-fb353e7798cd\"\n",
      " [9] \"98692fde-f1a4-11ee-bac6-fb353e7798cd\"\n",
      "[10] \"5afabc8c-f035-11ee-b966-fb353e7798cd\"\n",
      "[11] \"072ef896-cbac-11ee-909c-e1dc60cf66f9\"\n",
      "[12] \"c59a54e0-f179-11ee-baab-fb353e7798cd\"\n",
      "[13] \"bbbd0cc6-f0dc-11ee-ba1e-fb353e7798cd\"\n",
      "[14] \"ba87f3ec-f07e-11ee-b9b4-fb353e7798cd\"\n",
      "[15] \"96ceec56-f1cf-11ee-bae4-fb353e7798cd\"\n",
      "[16] \"40706f50-f03b-11ee-b96e-fb353e7798cd\"\n",
      "[17] \"f570c51c-f15d-11ee-ba91-fb353e7798cd\"\n",
      "[18] \"f12112ba-f1c0-11ee-bada-fb353e7798cd\"\n",
      "[19] \"961fd9cc-f103-11ee-ba3f-fb353e7798cd\"\n",
      "[20] \"5f7ce340-f1c8-11ee-bae0-fb353e7798cd\"\n",
      "[21] \"cf7148d8-f058-11ee-b98a-fb353e7798cd\"\n",
      "[22] \"848e44a6-f134-11ee-ba6d-fb353e7798cd\"\n",
      "[23] \"3a7dc9a6-f042-11ee-b974-fb353e7798cd\"\n",
      "[24] \"c9be2042-f0de-11ee-ba1e-fb353e7798cd\"\n",
      "[25] \"9736e77c-f187-11ee-bab6-fb353e7798cd\"\n",
      "[26] \"5fc763f6-f1ab-11ee-bacd-fb353e7798cd\"\n",
      "[27] \"4c88757c-f157-11ee-ba89-fb353e7798cd\"\n",
      "[28] \"a231c0b0-f142-11ee-ba76-fb353e7798cd\"\n",
      "[29] \"53fad09e-f0f7-11ee-ba2f-fb353e7798cd\"\n",
      "[30] \"5c7a9ab2-f13b-11ee-ba72-fb353e7798cd\"\n",
      "[31] \"4cf81634-f238-11ee-bb34-fb353e7798cd\"\n",
      "[32] \"a08a8c7e-f1fb-11ee-bb05-fb353e7798cd\"\n",
      "[33] \"3ed4aa16-f1d6-11ee-bae6-fb353e7798cd\"\n",
      "[34] \"25135418-f250-11ee-bb4a-fb353e7798cd\"\n",
      "[35] \"c1b320e2-f079-11ee-b9b0-fb353e7798cd\"\n",
      "[36] \"43abeb00-f206-11ee-bb07-fb353e7798cd\"\n",
      "[37] \"fe0395f0-f1ea-11ee-baf9-fb353e7798cd\"\n",
      "[38] \"3d8020aa-cb7f-11ee-909c-e1dc60cf66f9\"\n",
      "[39] \"14b6bc9c-f064-11ee-b998-fb353e7798cd\"\n",
      "[40] \"870cfd32-f1b9-11ee-bad5-fb353e7798cd\"\n",
      "[41] \"c2f54552-f06f-11ee-b9a9-fb353e7798cd\"\n",
      "[42] \"dea29156-f123-11ee-ba5d-fb353e7798cd\"\n",
      "[43] \"3c415ade-d353-11ee-b437-336917683bb8\"\n",
      "[44] \"a901fe40-f0fd-11ee-ba39-fb353e7798cd\"\n",
      "[45] \"c4146d46-f074-11ee-b9ac-fb353e7798cd\"\n",
      "[46] \"de226278-f25a-11ee-bb4e-fb353e7798cd\"\n",
      "[47] \"d7cb9c92-f164-11ee-ba97-fb353e7798cd\"\n",
      "[48] \"88b0613a-d35d-11ee-b437-336917683bb8\"\n",
      "[49] \"c4fca7bc-f18e-11ee-bab8-fb353e7798cd\"\n",
      "[50] \"ed352100-cba0-11ee-909c-e1dc60cf66f9\"\n",
      "[51] \"cbdc93f4-f255-11ee-bb4e-fb353e7798cd\"\n",
      "[52] \"8e5c4fc2-f149-11ee-ba7f-fb353e7798cd\"\n",
      "[53] \"bb4d37d4-f109-11ee-ba46-fb353e7798cd\"\n",
      "[54] \"236836f6-f1dd-11ee-bae8-fb353e7798cd\"\n",
      "[55] \"7948628e-f20b-11ee-bb0f-fb353e7798cd\"\n",
      "[56] \"c14299be-f180-11ee-bab0-fb353e7798cd\"\n",
      "[57] \"73bc30cc-f150-11ee-ba84-fb353e7798cd\"\n",
      "[58] \"7e3d64da-f12d-11ee-ba68-fb353e7798cd\"\n",
      "[59] \"837fc882-cb5a-11ee-909c-e1dc60cf66f9\"\n",
      "[60] \"f8fd0fd8-f243-11ee-bb3f-fb353e7798cd\"\n",
      "[61] \"58d78342-f24a-11ee-bb45-fb353e7798cd\"\n",
      "[62] \"8adb6498-f04d-11ee-b981-fb353e7798cd\"\n",
      "[63] \"271fee10-cb8b-11ee-909c-e1dc60cf66f9\"\n",
      "[64] \"99b9f446-f1b2-11ee-bad3-fb353e7798cd\"\n"
     ]
    }
   ],
   "source": [
    "%%R\n",
    "training_gmIDs"
   ]
  },
  {
   "cell_type": "code",
   "execution_count": 8,
   "id": "02381382-f4d0-4e07-aa3b-c581d33dc7f4",
   "metadata": {},
   "outputs": [
    {
     "name": "stdout",
     "output_type": "stream",
     "text": [
      "[1] \"5774dcde-f196-11ee-babe-fb353e7798cd\"\n",
      "[2] \"1c74d294-f1e4-11ee-baf0-fb353e7798cd\"\n",
      "[3] \"0f3cdf60-f1f6-11ee-bb00-fb353e7798cd\"\n",
      "[4] \"8b0593cc-cb4e-11ee-909c-e1dc60cf66f9\"\n",
      "[5] \"a6539bd2-cb72-11ee-909c-e1dc60cf66f9\"\n"
     ]
    }
   ],
   "source": [
    "%%R\n",
    "testing_gmIDs"
   ]
  },
  {
   "cell_type": "code",
   "execution_count": 9,
   "id": "30ef0892-285b-4403-9e29-31411e70ff12",
   "metadata": {},
   "outputs": [
    {
     "name": "stdout",
     "output_type": "stream",
     "text": [
      "\n",
      "Call:\n",
      "glm(formula = binaryDrivingMode ~ speedMps + throttlePercentage + \n",
      "    brakePercentage + steeringPercentage + latlongStdDev, family = binomial, \n",
      "    data = train_data)\n",
      "\n",
      "Deviance Residuals: \n",
      "    Min       1Q   Median       3Q      Max  \n",
      "-3.5689   0.1718   0.2639   0.4547   5.0996  \n",
      "\n",
      "Coefficients:\n",
      "                     Estimate Std. Error z value Pr(>|z|)    \n",
      "(Intercept)        -0.7933461  0.0068122 -116.46   <2e-16 ***\n",
      "speedMps            0.1797002  0.0004760  377.55   <2e-16 ***\n",
      "throttlePercentage  0.0355860  0.0002857  124.54   <2e-16 ***\n",
      "brakePercentage     0.0539879  0.0002907  185.75   <2e-16 ***\n",
      "steeringPercentage -0.0099643  0.0001605  -62.09   <2e-16 ***\n",
      "latlongStdDev      -0.4235443  0.0029531 -143.42   <2e-16 ***\n",
      "---\n",
      "Signif. codes:  0 ‘***’ 0.001 ‘**’ 0.01 ‘*’ 0.05 ‘.’ 0.1 ‘ ’ 1\n",
      "\n",
      "(Dispersion parameter for binomial family taken to be 1)\n",
      "\n",
      "    Null deviance: 1168939  on 1722823  degrees of freedom\n",
      "Residual deviance:  908645  on 1722818  degrees of freedom\n",
      "AIC: 908657\n",
      "\n",
      "Number of Fisher Scoring iterations: 6\n",
      "\n"
     ]
    }
   ],
   "source": [
    "%%R\n",
    "# Train a Logistic Regression Model\n",
    "model <- glm(\n",
    "  binaryDrivingMode ~ speedMps + throttlePercentage + brakePercentage + steeringPercentage + latlongStdDev,\n",
    "  data = train_data,\n",
    "  family = binomial\n",
    ")\n",
    "\n",
    "summary(model)"
   ]
  },
  {
   "cell_type": "code",
   "execution_count": 10,
   "id": "08dc300e-d629-4f4f-a5de-2352198d77ee",
   "metadata": {},
   "outputs": [
    {
     "name": "stdout",
     "output_type": "stream",
     "text": [
      "[1] \"Accuracy: 0.79979937119998\"\n"
     ]
    }
   ],
   "source": [
    "%%R\n",
    " # Predict on the test set\n",
    " predictions <- predict(model, test_data, type = \"response\")\n",
    "\n",
    " #Covert probabilities to binary classes (0 or 1)\n",
    " predicted_classes <- ifelse(predictions > 0.5, 1, 0)\n",
    "\n",
    " # Calculate accuracy\n",
    " accuracy <- mean(predicted_classes == test_data$binaryDrivingMode)\n",
    "\n",
    " # Print the accuracy\n",
    "print(paste(\"Accuracy:\", accuracy))"
   ]
  },
  {
   "cell_type": "code",
   "execution_count": 11,
   "id": "d105c3fd-1daa-4fc1-89cd-e619f9c8659d",
   "metadata": {},
   "outputs": [
    {
     "data": {
      "image/png": "[encoded data removed]",
      "text/plain": [
       "<IPython.core.display.Image object>"
      ]
     },
     "metadata": {},
     "output_type": "display_data"
    }
   ],
   "source": [
    "%%R\n",
    "# Load required libraries\n",
    "library(ggplot2)\n",
    "library(caret)\n",
    "\n",
    "# Map the values to labels (1 -> \"Auto_mode\", 0 -> \"Manual\")\n",
    "predicted_classes_labeled <- factor(predicted_classes, levels = c(0,1), labels = c(\"Manual Mode(0)\", \"Auto Mode(1)\"))\n",
    "actual_classes_labeled <- factor (test_data$binaryDrivingMode, levels = c(0,1), labels = c(\"Manual Mode(0)\", \"Auto Mode(1)\"))\n",
    "\n",
    "# Generate the confusion matrix\n",
    "cm <- confusionMatrix(predicted_classes_labeled, actual_classes_labeled)\n",
    "cm_table <- as.data.frame(cm$table)\n",
    "\n",
    "# Rename columns for better understanding\n",
    "colnames(cm_table) <- c(\"Actual\", \"Predicted\", \"Frequency\")\n",
    "\n",
    "# Create the colored confusion matrix plot\n",
    "ggplot(cm_table, aes(x = Predicted, y = Actual, fill = Frequency)) +\n",
    "  geom_tile(color = \"white\") +\n",
    "  scale_fill_gradient(low = \"lightblue\", high = \"blue\", name = \"Frequency\") +\n",
    "  geom_text(aes(label = Frequency), color = \"white\", size = 5) +\n",
    "  labs(title = \"Confusion Matrix\", x = \"Predicted Classes\", y = \"True Classes\") +\n",
    "  theme_minimal() +\n",
    "  theme(plot.title = element_text(hjust = 0.5, size = 14),\n",
    "        axis.title = element_text(size = 12),\n",
    "        axis.text = element_text(size = 10))"
   ]
  },
  {
   "cell_type": "code",
   "execution_count": 12,
   "id": "4f1ac84a-a37b-4e03-ac18-7b61ddece6f7",
   "metadata": {},
   "outputs": [
    {
     "name": "stdout",
     "output_type": "stream",
     "text": [
      "Area under the curve: 0.6284\n"
     ]
    },
    {
     "data": {
      "text/plain": [
       "Setting levels: control = 0, case = 1\n",
       "Setting direction: controls < cases\n"
      ]
     },
     "metadata": {},
     "output_type": "display_data"
    },
    {
     "data": {
      "image/png": "[encoded data removed]",
      "text/plain": [
       "<IPython.core.display.Image object>"
      ]
     },
     "metadata": {},
     "output_type": "display_data"
    }
   ],
   "source": [
    "%%R\n",
    "\n",
    "library(pROC)\n",
    "roc_obj <- roc(test_data$binaryDrivingMode, predictions)\n",
    "plot(roc_obj, main = \"ROC Curve\")\n",
    "auc(roc_obj)"
   ]
  },
  {
   "cell_type": "code",
   "execution_count": 14,
   "id": "97156f82-f340-42ad-86bf-dd7b4f61afc5",
   "metadata": {},
   "outputs": [
    {
     "name": "stdout",
     "output_type": "stream",
     "text": [
      "Accuracy: 0.7997994 \n",
      "Precision: 0.985724 \n",
      "Recall: 0.8055874 \n"
     ]
    }
   ],
   "source": [
    "%%R\n",
    "\n",
    "#Manually calculating the confusion matrix values\n",
    "TP <- 127945\n",
    "FP <- 1853\n",
    "FN <- 30877\n",
    "TN <- 2811\n",
    "\n",
    "# Calculate Metrics\n",
    "accuracy <- (TP + TN) / (TP + TN + FP + FN)\n",
    "precision <- TP / (TP + FP)\n",
    "recall <- TP / (TP + FN)\n",
    "\n",
    "#Print Metrics\n",
    "cat(\"Accuracy:\", accuracy, \"\\n\")\n",
    "cat(\"Precision:\", precision, \"\\n\")\n",
    "cat(\"Recall:\", recall, \"\\n\")"
   ]
  },
  {
   "cell_type": "code",
   "execution_count": 16,
   "id": "64b3b0e2-cd34-40f6-90c7-025e58814e3d",
   "metadata": {},
   "outputs": [
    {
     "name": "stdout",
     "output_type": "stream",
     "text": [
      "[1] \"Latitude and Longitude lists saved successfully.\"\n"
     ]
    }
   ],
   "source": [
    "%%R\n",
    "#Filter the dataset for Complete Auto Drive predictions\n",
    "\n",
    "#Defining the 10 gmIDs am working with\n",
    "selected_gmIDs <- c(\n",
    "   '5774dcde-f196-11ee-babe-fb353e7798cd','1c74d294-f1e4-11ee-baf0-fb353e7798cd','0f3cdf60-f1f6-11ee-bb00-fb353e7798cd','8b0593cc-cb4e-11ee-909c-e1dc60cf66f9',\n",
    "'a6539bd2-cb72-11ee-909c-e1dc60cf66f9'\n",
    ")\n",
    "\n",
    "\n",
    "complete_auto_drive <- df_merged %>%\n",
    "                                      \n",
    "    filter(binaryDrivingMode == 1 & groupMetadataID.x %in% selected_gmIDs)\n",
    "\n",
    "# Extract latitude and longitude\n",
    "latitude_list <- complete_auto_drive$latitude\n",
    "longitude_list <- complete_auto_drive$longitude\n",
    "\n",
    "\n",
    "#  Save Latitutde and Longitude Lists\n",
    "write.csv(latitude_list, \"latitude_list.csv\", row.names = FALSE)\n",
    "write.csv(longitude_list, \"longitude_list.csv\", row.names = FALSE)\n",
    "\n",
    "print(\"Latitude and Longitude lists saved successfully.\")"
   ]
  },
  {
   "cell_type": "code",
   "execution_count": 17,
   "id": "1edf918f-bdd1-4017-ac28-04d97f3cb58a",
   "metadata": {},
   "outputs": [
    {
     "name": "stdout",
     "output_type": "stream",
     "text": [
      "        x\n",
      "1 39.3254\n",
      "2 39.3254\n",
      "3 39.3254\n",
      "4 39.3254\n",
      "5 39.3254\n",
      "6 39.3254\n"
     ]
    }
   ],
   "source": [
    "%%R\n",
    "latitude_data <- read.csv(\"latitude_list.csv\")\n",
    "longitude_data <- read.csv(\"longitude_list.csv\")\n",
    "\n",
    "head(latitude_data)"
   ]
  },
  {
   "cell_type": "code",
   "execution_count": 18,
   "id": "2022c879-0813-4653-bd45-d25829a87339",
   "metadata": {},
   "outputs": [
    {
     "name": "stdout",
     "output_type": "stream",
     "text": [
      "          x\n",
      "1 -82.43594\n",
      "2 -82.43594\n",
      "3 -82.43594\n",
      "4 -82.43594\n",
      "5 -82.43594\n",
      "6 -82.43594\n"
     ]
    }
   ],
   "source": [
    "%%R\n",
    "head(longitude_data)"
   ]
  },
  {
   "cell_type": "code",
   "execution_count": null,
   "id": "9df88411-ae4e-46da-8e01-fef42ff7debd",
   "metadata": {},
   "outputs": [],
   "source": []
  }
 ],
 "metadata": {
  "kernelspec": {
   "display_name": "Python 3 (ipykernel)",
   "language": "python",
   "name": "python3"
  },
  "language_info": {
   "codemirror_mode": {
    "name": "ipython",
    "version": 3
   },
   "file_extension": ".py",
   "mimetype": "text/x-python",
   "name": "python",
   "nbconvert_exporter": "python",
   "pygments_lexer": "ipython3",
   "version": "3.10.12"
  }
 },
 "nbformat": 4,
 "nbformat_minor": 5
}
