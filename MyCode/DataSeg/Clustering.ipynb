{
 "cells": [
  {
   "cell_type": "code",
   "execution_count": 5,
   "id": "072ecf83-dca8-4b1b-be3a-059982aed390",
   "metadata": {},
   "outputs": [],
   "source": [
    "import CalculatedFieldSubroutines as cfs\n",
    "\n",
    "import numpy as np\n",
    "\n",
    "import pandas as pd\n",
    "\n",
    "import matplotlib.pyplot as plt\n",
    "\n",
    "from pandasgui import show\n",
    "\n",
    "import matplotlib.pyplot as plt\n",
    "\n",
    "import seaborn as sns\n",
    "\n",
    "import warnings\n",
    "\n",
    "import pandas as pd\n",
    "import numpy as np\n",
    "from sklearn.decomposition import PCA\n",
    "import matplotlib.pyplot as plt\n",
    "from IPython.display import clear_output\n",
    "#import in neede libraries"
   ]
  },
  {
   "cell_type": "code",
   "execution_count": 6,
   "id": "44dd7a1b-95ac-412a-83dd-cc304972bc99",
   "metadata": {},
   "outputs": [],
   "source": [
    "warnings.filterwarnings( 'ignore' )"
   ]
  },
  {
   "cell_type": "code",
   "execution_count": 7,
   "id": "6dea2411-bbf1-4e25-bec0-cff8d5df0209",
   "metadata": {},
   "outputs": [
    {
     "ename": "FileNotFoundError",
     "evalue": "[Errno 2] No such file or directory: '/home/jle_linux/Desktop/TDMprivate/data'",
     "output_type": "error",
     "traceback": [
      "\u001b[0;31m---------------------------------------------------------------------------\u001b[0m",
      "\u001b[0;31mFileNotFoundError\u001b[0m                         Traceback (most recent call last)",
      "Cell \u001b[0;32mIn[7], line 1\u001b[0m\n\u001b[0;32m----> 1\u001b[0m gmID_list \u001b[38;5;241m=\u001b[39m \u001b[43mcfs\u001b[49m\u001b[38;5;241;43m.\u001b[39;49m\u001b[43mlist_whitelisted_gmIDs\u001b[49m\u001b[43m(\u001b[49m\u001b[43m)\u001b[49m\n\u001b[1;32m      3\u001b[0m topic_list \u001b[38;5;241m=\u001b[39m cfs\u001b[38;5;241m.\u001b[39mlist_topics()\n\u001b[1;32m      5\u001b[0m \u001b[38;5;28mprint\u001b[39m( topic_list )\n",
      "File \u001b[0;32m~/DataSegments/CalculatedFieldSubroutines.py:878\u001b[0m, in \u001b[0;36mlist_whitelisted_gmIDs\u001b[0;34m()\u001b[0m\n\u001b[1;32m    876\u001b[0m \u001b[38;5;28;01mdef\u001b[39;00m \u001b[38;5;21mlist_whitelisted_gmIDs\u001b[39m():\n\u001b[0;32m--> 878\u001b[0m     gmIDs_set \u001b[38;5;241m=\u001b[39m \u001b[38;5;28mset\u001b[39m( \u001b[43mlist_gmIDs\u001b[49m\u001b[43m(\u001b[49m\u001b[43m)\u001b[49m )\n\u001b[1;32m    880\u001b[0m     blacklisted_gmIDs_set \u001b[38;5;241m=\u001b[39m \u001b[38;5;28mset\u001b[39m( [ \u001b[38;5;124m'\u001b[39m\u001b[38;5;124m879e3fa2-f085-11ee-b9bd-fb353e7798cd\u001b[39m\u001b[38;5;124m'\u001b[39m, \u001b[38;5;124m'\u001b[39m\u001b[38;5;124m900701bc-f0a6-11ee-b9e4-fb353e7798cd\u001b[39m\u001b[38;5;124m'\u001b[39m, \u001b[38;5;124m'\u001b[39m\u001b[38;5;124m6f5b3612-f18d-11ee-bab8-fb353e7798cd\u001b[39m\u001b[38;5;124m'\u001b[39m, \u001b[38;5;124m'\u001b[39m\u001b[38;5;124m471890c0-f0b9-11ee-b9f5-fb353e7798cd\u001b[39m\u001b[38;5;124m'\u001b[39m, \u001b[38;5;124m'\u001b[39m\u001b[38;5;124m3b6d2a5c-f0c2-11ee-ba01-fb353e7798cd\u001b[39m\u001b[38;5;124m'\u001b[39m, \u001b[38;5;124m'\u001b[39m\u001b[38;5;124ma2ed8b42-f089-11ee-b9c3-fb353e7798cd\u001b[39m\u001b[38;5;124m'\u001b[39m, \u001b[38;5;124m'\u001b[39m\u001b[38;5;124m787f70da-f036-11ee-b966-fb353e7798cd\u001b[39m\u001b[38;5;124m'\u001b[39m, \u001b[38;5;124m'\u001b[39m\u001b[38;5;124m6458c26e-eab9-11ee-b297-3b0ad9d5d6c6\u001b[39m\u001b[38;5;124m'\u001b[39m, \u001b[38;5;124m'\u001b[39m\u001b[38;5;124m00ff88b6-f0a3-11ee-b9e3-fb353e7798cd\u001b[39m\u001b[38;5;124m'\u001b[39m, \u001b[38;5;124m'\u001b[39m\u001b[38;5;124m7d27535e-f0e6-11ee-ba21-fb353e7798cd\u001b[39m\u001b[38;5;124m'\u001b[39m, \u001b[38;5;124m'\u001b[39m\u001b[38;5;124m23765aa8-eaf1-11ee-b297-3b0ad9d5d6c6\u001b[39m\u001b[38;5;124m'\u001b[39m, \u001b[38;5;124m'\u001b[39m\u001b[38;5;124mf93290be-eafe-11ee-b297-3b0ad9d5d6c6\u001b[39m\u001b[38;5;124m'\u001b[39m, \u001b[38;5;124m'\u001b[39m\u001b[38;5;124m54a02cb8-eb4f-11ee-b297-3b0ad9d5d6c6\u001b[39m\u001b[38;5;124m'\u001b[39m, \u001b[38;5;124m'\u001b[39m\u001b[38;5;124m2f2939cc-f228-11ee-bb28-fb353e7798cd\u001b[39m\u001b[38;5;124m'\u001b[39m, \u001b[38;5;124m'\u001b[39m\u001b[38;5;124m48021fe0-f05c-11ee-b992-fb353e7798cd\u001b[39m\u001b[38;5;124m'\u001b[39m, \u001b[38;5;124m'\u001b[39m\u001b[38;5;124m2837eb9c-9542-11ee-956e-9da2d070324c\u001b[39m\u001b[38;5;124m'\u001b[39m, \u001b[38;5;124m'\u001b[39m\u001b[38;5;124m593d4b54-d0a9-11ee-9435-f7e542e2436c\u001b[39m\u001b[38;5;124m'\u001b[39m, \u001b[38;5;124m'\u001b[39m\u001b[38;5;124md54c11ca-eae5-11ee-b297-3b0ad9d5d6c6\u001b[39m\u001b[38;5;124m'\u001b[39m, \u001b[38;5;124m'\u001b[39m\u001b[38;5;124m6f887868-ed21-11ee-9385-ef789ffde1d3\u001b[39m\u001b[38;5;124m'\u001b[39m, \u001b[38;5;124m'\u001b[39m\u001b[38;5;124m45ad3a9a-edb4-11ee-9385-ef789ffde1d3\u001b[39m\u001b[38;5;124m'\u001b[39m, \u001b[38;5;124m'\u001b[39m\u001b[38;5;124m4ed017ee-ef05-11ee-9385-ef789ffde1d3\u001b[39m\u001b[38;5;124m'\u001b[39m, \u001b[38;5;124m'\u001b[39m\u001b[38;5;124m81a5a96e-f0c6-11ee-ba06-fb353e7798cd\u001b[39m\u001b[38;5;124m'\u001b[39m, \u001b[38;5;124m'\u001b[39m\u001b[38;5;124m05d0240e-eadb-11ee-b297-3b0ad9d5d6c6\u001b[39m\u001b[38;5;124m'\u001b[39m, \u001b[38;5;124m'\u001b[39m\u001b[38;5;124m6c415180-f0bd-11ee-b9fa-fb353e7798cd\u001b[39m\u001b[38;5;124m'\u001b[39m, \u001b[38;5;124m'\u001b[39m\u001b[38;5;124m662741a4-f38a-11ee-bb4e-fb353e7798cd\u001b[39m\u001b[38;5;124m'\u001b[39m, \u001b[38;5;124m'\u001b[39m\u001b[38;5;124m60c57e4e-eb4a-11ee-b297-3b0ad9d5d6c6\u001b[39m\u001b[38;5;124m'\u001b[39m, \u001b[38;5;124m'\u001b[39m\u001b[38;5;124mcd11fc28-f21e-11ee-bb1c-fb353e7798cd\u001b[39m\u001b[38;5;124m'\u001b[39m, \u001b[38;5;124m'\u001b[39m\u001b[38;5;124mfa852f30-f210-11ee-bb10-fb353e7798cd\u001b[39m\u001b[38;5;124m'\u001b[39m, \u001b[38;5;124m'\u001b[39m\u001b[38;5;124m3950298e-f1b4-11ee-bad3-fb353e7798cd\u001b[39m\u001b[38;5;124m'\u001b[39m, \u001b[38;5;124m'\u001b[39m\u001b[38;5;124m2c8690b4-f09f-11ee-b9de-fb353e7798cd\u001b[39m\u001b[38;5;124m'\u001b[39m, \u001b[38;5;124m'\u001b[39m\u001b[38;5;124m26af7004-f07a-11ee-b9b2-fb353e7798cd\u001b[39m\u001b[38;5;124m'\u001b[39m, \u001b[38;5;124m'\u001b[39m\u001b[38;5;124m6c5f7416-f096-11ee-b9d4-fb353e7798cd\u001b[39m\u001b[38;5;124m'\u001b[39m, \u001b[38;5;124m'\u001b[39m\u001b[38;5;124m38ac9526-f182-11ee-bab0-fb353e7798cd\u001b[39m\u001b[38;5;124m'\u001b[39m, \u001b[38;5;124m'\u001b[39m\u001b[38;5;124m81acf35c-eac4-11ee-b297-3b0ad9d5d6c6\u001b[39m\u001b[38;5;124m'\u001b[39m, \u001b[38;5;124m'\u001b[39m\u001b[38;5;124m86841630-d9d0-11ee-a158-97f8443fd730\u001b[39m\u001b[38;5;124m'\u001b[39m, \u001b[38;5;124m'\u001b[39m\u001b[38;5;124m781c0bcc-eb21-11ee-b297-3b0ad9d5d6c6\u001b[39m\u001b[38;5;124m'\u001b[39m, \u001b[38;5;124m'\u001b[39m\u001b[38;5;124m2bb03aaa-f0c7-11ee-ba06-fb353e7798cd\u001b[39m\u001b[38;5;124m'\u001b[39m, \u001b[38;5;124m'\u001b[39m\u001b[38;5;124m906d3c4e-f0be-11ee-b9fb-fb353e7798cd\u001b[39m\u001b[38;5;124m'\u001b[39m, \u001b[38;5;124m'\u001b[39m\u001b[38;5;124m878e1a02-f092-11ee-b9cf-fb353e7798cd\u001b[39m\u001b[38;5;124m'\u001b[39m, \u001b[38;5;124m'\u001b[39m\u001b[38;5;124m606347dc-ed12-11ee-9385-ef789ffde1d3\u001b[39m\u001b[38;5;124m'\u001b[39m, \u001b[38;5;124m'\u001b[39m\u001b[38;5;124mcccc7d32-f1c0-11ee-bada-fb353e7798cd\u001b[39m\u001b[38;5;124m'\u001b[39m, \u001b[38;5;124m'\u001b[39m\u001b[38;5;124m6daff50c-f041-11ee-b972-fb353e7798cd\u001b[39m\u001b[38;5;124m'\u001b[39m, \u001b[38;5;124m'\u001b[39m\u001b[38;5;124mba80ba8c-f0ce-11ee-ba0d-fb353e7798cd\u001b[39m\u001b[38;5;124m'\u001b[39m, \u001b[38;5;124m'\u001b[39m\u001b[38;5;124mbf518644-f1a6-11ee-bac9-fb353e7798cd\u001b[39m\u001b[38;5;124m'\u001b[39m, \u001b[38;5;124m'\u001b[39m\u001b[38;5;124m3a116996-93a9-11ee-956e-9da2d070324c\u001b[39m\u001b[38;5;124m'\u001b[39m, \u001b[38;5;124m'\u001b[39m\u001b[38;5;124m56b8baa4-f0b5-11ee-b9f0-fb353e7798cd\u001b[39m\u001b[38;5;124m'\u001b[39m, \u001b[38;5;124m'\u001b[39m\u001b[38;5;124mbb52690a-f066-11ee-b99e-fb353e7798cd\u001b[39m\u001b[38;5;124m'\u001b[39m, \u001b[38;5;124m'\u001b[39m\u001b[38;5;124ma437811e-ccf4-11ee-9435-f7e542e2436c\u001b[39m\u001b[38;5;124m'\u001b[39m, \u001b[38;5;124m'\u001b[39m\u001b[38;5;124m7aa336e6-f0b1-11ee-b9ed-fb353e7798cd\u001b[39m\u001b[38;5;124m'\u001b[39m, \u001b[38;5;124m'\u001b[39m\u001b[38;5;124m986a0b90-f215-11ee-bb15-fb353e7798cd\u001b[39m\u001b[38;5;124m'\u001b[39m, \u001b[38;5;124m'\u001b[39m\u001b[38;5;124mef63db62-f051-11ee-b986-fb353e7798cd\u001b[39m\u001b[38;5;124m'\u001b[39m, \u001b[38;5;124m'\u001b[39m\u001b[38;5;124md1d69a76-f0b5-11ee-b9f0-fb353e7798cd\u001b[39m\u001b[38;5;124m'\u001b[39m, \u001b[38;5;124m'\u001b[39m\u001b[38;5;124m57a2192c-f21a-11ee-bb17-fb353e7798cd\u001b[39m\u001b[38;5;124m'\u001b[39m, \u001b[38;5;124m'\u001b[39m\u001b[38;5;124me9e14d3a-eb17-11ee-b297-3b0ad9d5d6c6\u001b[39m\u001b[38;5;124m'\u001b[39m, \u001b[38;5;124m'\u001b[39m\u001b[38;5;124m0b72a836-f37e-11ee-bb4e-fb353e7798cd\u001b[39m\u001b[38;5;124m'\u001b[39m, \u001b[38;5;124m'\u001b[39m\u001b[38;5;124m8be24d52-f0ca-11ee-ba0a-fb353e7798cd\u001b[39m\u001b[38;5;124m'\u001b[39m, \u001b[38;5;124m'\u001b[39m\u001b[38;5;124md4b936f6-eb36-11ee-b297-3b0ad9d5d6c6\u001b[39m\u001b[38;5;124m'\u001b[39m, \u001b[38;5;124m'\u001b[39m\u001b[38;5;124m599673dc-f070-11ee-b9a9-fb353e7798cd\u001b[39m\u001b[38;5;124m'\u001b[39m, \u001b[38;5;124m'\u001b[39m\u001b[38;5;124mcc0299e6-eb3e-11ee-b297-3b0ad9d5d6c6\u001b[39m\u001b[38;5;124m'\u001b[39m, \u001b[38;5;124m'\u001b[39m\u001b[38;5;124mb6227b56-f08d-11ee-b9c9-fb353e7798cd\u001b[39m\u001b[38;5;124m'\u001b[39m, \u001b[38;5;124m'\u001b[39m\u001b[38;5;124mfe729430-f232-11ee-bb32-fb353e7798cd\u001b[39m\u001b[38;5;124m'\u001b[39m, \u001b[38;5;124m'\u001b[39m\u001b[38;5;124meb22edf4-f0ab-11ee-b9e9-fb353e7798cd\u001b[39m\u001b[38;5;124m'\u001b[39m, \u001b[38;5;124m'\u001b[39m\u001b[38;5;124mfc1e1b6a-f1e6-11ee-baf6-fb353e7798cd\u001b[39m\u001b[38;5;124m'\u001b[39m, \u001b[38;5;124m'\u001b[39m\u001b[38;5;124m61b4e416-f1da-11ee-bae8-fb353e7798cd\u001b[39m\u001b[38;5;124m'\u001b[39m, \u001b[38;5;124m'\u001b[39m\u001b[38;5;124m31b48540-f09b-11ee-b9da-fb353e7798cd\u001b[39m\u001b[38;5;124m'\u001b[39m, \u001b[38;5;124m'\u001b[39m\u001b[38;5;124m240ebe64-f0d3-11ee-ba14-fb353e7798cd\u001b[39m\u001b[38;5;124m'\u001b[39m, \u001b[38;5;124m'\u001b[39m\u001b[38;5;124mbfde2aec-f370-11ee-bb4e-fb353e7798cd\u001b[39m\u001b[38;5;124m'\u001b[39m, \u001b[38;5;124m'\u001b[39m\u001b[38;5;124mb2f58080-f223-11ee-bb20-fb353e7798cd\u001b[39m\u001b[38;5;124m'\u001b[39m, \u001b[38;5;124m'\u001b[39m\u001b[38;5;124m4bbe3c64-f088-11ee-b9c3-fb353e7798cd\u001b[39m\u001b[38;5;124m'\u001b[39m, \u001b[38;5;124m'\u001b[39m\u001b[38;5;124mb2bfb60c-f0ad-11ee-b9ea-fb353e7798cd\u001b[39m\u001b[38;5;124m'\u001b[39m, \u001b[38;5;124m'\u001b[39m\u001b[38;5;124mede139be-f098-11ee-b9d8-fb353e7798cd\u001b[39m\u001b[38;5;124m'\u001b[39m, \u001b[38;5;124m'\u001b[39m\u001b[38;5;124mbcf44e58-eb0d-11ee-b297-3b0ad9d5d6c6\u001b[39m\u001b[38;5;124m'\u001b[39m, \u001b[38;5;124m'\u001b[39m\u001b[38;5;124ma6895b74-f1cd-11ee-bae2-fb353e7798cd\u001b[39m\u001b[38;5;124m'\u001b[39m, \u001b[38;5;124m'\u001b[39m\u001b[38;5;124me640cf0a-f096-11ee-b9d5-fb353e7798cd\u001b[39m\u001b[38;5;124m'\u001b[39m, \u001b[38;5;124m'\u001b[39m\u001b[38;5;124m1f70a4f0-f0e0-11ee-ba1e-fb353e7798cd\u001b[39m\u001b[38;5;124m'\u001b[39m, \u001b[38;5;124m'\u001b[39m\u001b[38;5;124m41cd65b4-f0aa-11ee-b9e8-fb353e7798cd\u001b[39m\u001b[38;5;124m'\u001b[39m, \u001b[38;5;124m'\u001b[39m\u001b[38;5;124m621c07b8-eaaf-11ee-b297-3b0ad9d5d6c6\u001b[39m\u001b[38;5;124m'\u001b[39m, \u001b[38;5;124m'\u001b[39m\u001b[38;5;124mdbff355c-f0a2-11ee-b9e3-fb353e7798cd\u001b[39m\u001b[38;5;124m'\u001b[39m, \u001b[38;5;124m'\u001b[39m\u001b[38;5;124m23a7aa3e-f048-11ee-b97d-fb353e7798cd\u001b[39m\u001b[38;5;124m'\u001b[39m, \u001b[38;5;124m'\u001b[39m\u001b[38;5;124m5c2ad8ec-f08c-11ee-b9c8-fb353e7798cd\u001b[39m\u001b[38;5;124m'\u001b[39m, \u001b[38;5;124m'\u001b[39m\u001b[38;5;124m079f0d30-eb09-11ee-b297-3b0ad9d5d6c6\u001b[39m\u001b[38;5;124m'\u001b[39m, \u001b[38;5;124m'\u001b[39m\u001b[38;5;124mbaec243e-eacf-11ee-b297-3b0ad9d5d6c6\u001b[39m\u001b[38;5;124m'\u001b[39m, \u001b[38;5;124m'\u001b[39m\u001b[38;5;124m5230b9be-f083-11ee-b9b8-fb353e7798cd\u001b[39m\u001b[38;5;124m'\u001b[39m ] )\n\u001b[1;32m    882\u001b[0m     whitelisted_gmIDs_set \u001b[38;5;241m=\u001b[39m gmIDs_set \u001b[38;5;241m-\u001b[39m blacklisted_gmIDs_set\n",
      "File \u001b[0;32m~/DataSegments/CalculatedFieldSubroutines.py:746\u001b[0m, in \u001b[0;36mlist_gmIDs\u001b[0;34m()\u001b[0m\n\u001b[1;32m    723\u001b[0m \u001b[38;5;250m\u001b[39m\u001b[38;5;124;03m'''\u001b[39;00m\n\u001b[1;32m    724\u001b[0m \u001b[38;5;124;03mArguments:\u001b[39;00m\n\u001b[1;32m    725\u001b[0m \u001b[38;5;124;03m\u001b[39;00m\n\u001b[0;32m   (...)\u001b[0m\n\u001b[1;32m    741\u001b[0m \u001b[38;5;124;03m    A quick way to obtain and choose the groupMetadataIDs one wants data from.\u001b[39;00m\n\u001b[1;32m    742\u001b[0m \u001b[38;5;124;03m'''\u001b[39;00m\n\u001b[1;32m    744\u001b[0m path \u001b[38;5;241m=\u001b[39m \u001b[38;5;124mf\u001b[39m\u001b[38;5;124m'\u001b[39m\u001b[38;5;132;01m{\u001b[39;00m\u001b[38;5;250m \u001b[39morigin_dir()\u001b[38;5;250m \u001b[39m\u001b[38;5;132;01m}\u001b[39;00m\u001b[38;5;124m/data\u001b[39m\u001b[38;5;124m'\u001b[39m\n\u001b[0;32m--> 746\u001b[0m gmID_list \u001b[38;5;241m=\u001b[39m [ file \u001b[38;5;28;01mfor\u001b[39;00m file \u001b[38;5;129;01min\u001b[39;00m \u001b[43mos\u001b[49m\u001b[38;5;241;43m.\u001b[39;49m\u001b[43mlistdir\u001b[49m\u001b[43m(\u001b[49m\u001b[43m \u001b[49m\u001b[43mpath\u001b[49m\u001b[43m \u001b[49m\u001b[43m)\u001b[49m \u001b[38;5;28;01mif\u001b[39;00m os\u001b[38;5;241m.\u001b[39mpath\u001b[38;5;241m.\u001b[39misdir( \u001b[38;5;124mf\u001b[39m\u001b[38;5;124m'\u001b[39m\u001b[38;5;132;01m{\u001b[39;00m\u001b[38;5;250m \u001b[39mpath\u001b[38;5;250m \u001b[39m\u001b[38;5;132;01m}\u001b[39;00m\u001b[38;5;124m/\u001b[39m\u001b[38;5;132;01m{\u001b[39;00m\u001b[38;5;250m \u001b[39mfile\u001b[38;5;250m \u001b[39m\u001b[38;5;132;01m}\u001b[39;00m\u001b[38;5;124m'\u001b[39m ) ]\n\u001b[1;32m    748\u001b[0m \u001b[38;5;28;01mreturn\u001b[39;00m gmID_list\n",
      "\u001b[0;31mFileNotFoundError\u001b[0m: [Errno 2] No such file or directory: '/home/jle_linux/Desktop/TDMprivate/data'"
     ]
    }
   ],
   "source": [
    "gmID_list = cfs.list_whitelisted_gmIDs()\n",
    "\n",
    "topic_list = cfs.list_topics()\n",
    "\n",
    "print( topic_list )"
   ]
  },
  {
   "cell_type": "code",
   "execution_count": null,
   "id": "6c86a153-7813-48ce-ab05-5c1220e7e0ce",
   "metadata": {},
   "outputs": [],
   "source": [
    "red_combined_dfs = []\n",
    "\n",
    "for gmID in gmID_list:\n",
    "\n",
    "    if ( cfs.give_route( gmID ) != 'Red' ):\n",
    "\n",
    "        continue\n",
    "\n",
    "    chassis_df = cfs.retrieve_gmID_topic( gmID, '/apollo/canbus/chassis' )\n",
    "\n",
    "    best_pose_df = cfs.retrieve_gmID_topic( gmID, '/apollo/sensor/gnss/best/pose' )\n",
    "\n",
    "    chassis_df.sort_values( 'time' )\n",
    "\n",
    "    best_pose_df.sort_values( 'time' )\n",
    "\n",
    "    #\n",
    "\n",
    "    cfs.BinaryDrivingMode( chassis_df )\n",
    "\n",
    "    cfs.TernaryDrivingModeTransition( chassis_df )\n",
    "\n",
    "    cfs.DistanceToNearestDisengagement( chassis_df )\n",
    "\n",
    "    #\n",
    "\n",
    "    cfs.LatLonTotalStdDev( best_pose_df )\n",
    "\n",
    "    cfs.ProgressAlongRoute_v2( best_pose_df )\n",
    "\n",
    "    #\n",
    "\n",
    "    cfs.ChassisBestPoseMatchedTime( chassis_df, best_pose_df )\n",
    "\n",
    "    #\n",
    "\n",
    "    red_combined_df = pd.merge( chassis_df, best_pose_df, on = 'ChassisBestPoseMatchedTime', how = 'inner' )\n",
    "\n",
    "    #\n",
    "\n",
    "    red_combined_df = red_combined_df[ [ 'brakePercentage', 'speedMps', 'time_x', 'throttlePercentage', 'steeringPercentage', \\\n",
    "                                 'TernaryDrivingModeTransition', 'DistanceToNearestDisengagement', 'longitude', 'latitude', \\\n",
    "                                 'LatLonTotalStdDev', 'ProgressAlongRoute', 'PartitionNumber' ] ]\n",
    "\n",
    "    red_combined_dfs.append( red_combined_df )"
   ]
  },
  {
   "cell_type": "code",
   "execution_count": null,
   "id": "f3c90dc8-4858-4ec2-a15d-d4d4932dc922",
   "metadata": {},
   "outputs": [],
   "source": [
    "red_combined_df_all = pd.concat( red_combined_dfs )"
   ]
  },
  {
   "cell_type": "code",
   "execution_count": null,
   "id": "1aa46356-ef7f-499c-940f-7e66d1331e36",
   "metadata": {},
   "outputs": [],
   "source": [
    "red_combined_df_all_disengagements = red_combined_df_all[ red_combined_df_all[ 'TernaryDrivingModeTransition' ] == -1 ]\n"
   ]
  },
  {
   "cell_type": "code",
   "execution_count": null,
   "id": "5bfddcb3-15e3-4860-91d4-3e07642cd476",
   "metadata": {},
   "outputs": [],
   "source": [
    "data = red_combined_df[ [ 'brakePercentage', 'speedMps', 'throttlePercentage', 'steeringPercentage' ] ].copy()\n"
   ]
  },
  {
   "cell_type": "code",
   "execution_count": null,
   "id": "d9ab68ab-008f-4821-add2-27353c878773",
   "metadata": {},
   "outputs": [],
   "source": [
    "data"
   ]
  },
  {
   "cell_type": "code",
   "execution_count": null,
   "id": "18e9ad66-9191-4f00-b921-1dc68fde5b16",
   "metadata": {},
   "outputs": [],
   "source": [
    "data = ((data - data.min())/(data.max()-data.min())) * 9 + 1"
   ]
  },
  {
   "cell_type": "code",
   "execution_count": null,
   "id": "0559c405-b93f-4d99-a704-8c77bd602ad8",
   "metadata": {},
   "outputs": [],
   "source": [
    "data.describe()"
   ]
  },
  {
   "cell_type": "code",
   "execution_count": null,
   "id": "dc92f019-c8bb-4a1d-8aa3-2dc5037c94a7",
   "metadata": {},
   "outputs": [],
   "source": [
    "def random_centroids(data,k):\n",
    "    centroids = []\n",
    "    for i in range(k):\n",
    "        centroid = data.apply(lambda x: float(x.sample()))\n",
    "        centroids.append(centroid)\n",
    "    return pd.concat(centroids, axis=1)\n",
    "#a function that will take in the number of clusters we want with our data\n",
    "#initialize a list called centroids for i in range k\n",
    "#then add it to the list of centroids\n",
    "#the number of centroids is equivalent to the number of clusters we want\n",
    "#combines all of the centroids(individual pandas series) into a data frame"
   ]
  },
  {
   "cell_type": "code",
   "execution_count": null,
   "id": "5c2da06f-2951-4d23-9181-775693abac9c",
   "metadata": {},
   "outputs": [],
   "source": [
    "centroids = random_centroids(data,5)\n",
    "#we can now run the random_centroids"
   ]
  },
  {
   "cell_type": "code",
   "execution_count": null,
   "id": "4d498724-2cd6-4276-815c-df9806031f42",
   "metadata": {},
   "outputs": [],
   "source": [
    "centroids"
   ]
  },
  {
   "cell_type": "code",
   "execution_count": null,
   "id": "f2d58e52-60d4-4a3c-a425-69226436beef",
   "metadata": {},
   "outputs": [],
   "source": [
    "def get_labels(data, centroids):\n",
    "    distances = centroids.apply(lambda x: np.sqrt(((data - x) ** 2).sum(axis=1)))\n",
    "    return distances.idxmin(axis=1)\n",
    "#label each data point \n",
    "#finds the euclidean distance between a data point and each cluster for all centroids \n",
    "#finding which cluster center is closest to that point "
   ]
  },
  {
   "cell_type": "code",
   "execution_count": null,
   "id": "a7861728-176d-4b43-81b9-a62f7664f6ea",
   "metadata": {},
   "outputs": [],
   "source": [
    "labels = get_labels(data, centroids)"
   ]
  },
  {
   "cell_type": "code",
   "execution_count": null,
   "id": "4d14a464-9344-4b84-a0fb-5b28b3ac9d60",
   "metadata": {},
   "outputs": [],
   "source": [
    "labels.value_counts()\n",
    "#how many times each value occurs "
   ]
  },
  {
   "cell_type": "code",
   "execution_count": null,
   "id": "2d59c163-416b-43b9-9fdb-aa0526840563",
   "metadata": {},
   "outputs": [],
   "source": [
    "def new_centroids(data, labels, k):\n",
    "    centroids = data.groupby(labels).apply(lambda x: np.exp(np.log(x).mean())).T\n",
    "    return centroids\n",
    "#splits the data by each cluster and then calculate a new center for each group"
   ]
  },
  {
   "cell_type": "code",
   "execution_count": null,
   "id": "d3d428d2-e7cc-4e3e-84dd-f442f4c94900",
   "metadata": {},
   "outputs": [],
   "source": [
    "def plot_clusters(data, labels, centroids, iteration):\n",
    "    pca = PCA(n_components=2)\n",
    "    data_2d = pca.fit_transform(data)\n",
    "    centroids_2d = pca.transform(centroids.T)\n",
    "    clear_output(wait=True)\n",
    "    plt.title(f'Iteration {iteration}')\n",
    "    plt.scatter(x=data_2d[:,0], y=data_2d[:,1], c=labels)\n",
    "    plt.scatter(x=centroids_2d[:,0], y=centroids_2d[:,1])\n",
    "    plt.show()\n",
    "#Using PCA to change the multidimensional values into 2-D data\n",
    "#Pass in the several column data and get it converted into 2 column data\n",
    "#plotting the clusters and coloring from the plotting of centroids \n",
    "#will wait and change the graph over the already completed graph "
   ]
  },
  {
   "cell_type": "code",
   "execution_count": null,
   "id": "b4223a03-da74-402c-9fc7-36e96a319988",
   "metadata": {},
   "outputs": [],
   "source": [
    "max_iterations = 100\n",
    "centroid_count = 5\n",
    "\n",
    "centroids = random_centroids(data, centroid_count)\n",
    "old_centroids = pd.DataFrame()\n",
    "iteration = 1\n",
    "\n",
    "while iteration < max_iterations and not centroids.equals(old_centroids):\n",
    "    old_centroids = centroids\n",
    "    \n",
    "    labels = get_labels(data, centroids)\n",
    "    centroids = new_centroids(data, labels, centroid_count)\n",
    "    plot_clusters(data, labels, centroids, iteration)\n",
    "    iteration += 1\n",
    "#when new centroids are equilavent to past centroids (indicates that it has stopped shifting)\n",
    "#update the data to see which label corresponds with each cluster"
   ]
  },
  {
   "cell_type": "code",
   "execution_count": null,
   "id": "278ec612-9335-4bf7-abee-e368f69d8123",
   "metadata": {},
   "outputs": [],
   "source": [
    "c0.describe()"
   ]
  },
  {
   "cell_type": "code",
   "execution_count": null,
   "id": "92fdb31c-8459-426f-85d4-afc5d9807abd",
   "metadata": {},
   "outputs": [],
   "source": [
    "c1.describe()"
   ]
  },
  {
   "cell_type": "code",
   "execution_count": null,
   "id": "456864a3-bdee-45d4-9880-2e85d4b49a46",
   "metadata": {},
   "outputs": [],
   "source": [
    "c2.describe()"
   ]
  },
  {
   "cell_type": "code",
   "execution_count": null,
   "id": "9e47a193-992f-4a29-9c81-7e34028222a4",
   "metadata": {},
   "outputs": [],
   "source": [
    "import matplotlib.pyplot as plt\n",
    "\n",
    "# Define cluster data and colors\n",
    "clusters = [c0, c1, c2, c3, c4]\n",
    "colors = ['red', 'blue', 'green', 'purple', 'orange']\n",
    "labels = ['Cluster 0', 'Cluster 1', 'Cluster 2', 'Cluster 3', 'Cluster 4']\n",
    "\n",
    "# Initialize plot\n",
    "plt.figure(figsize=(10, 7))\n",
    "\n",
    "# Plot each cluster using latitude and longitude\n",
    "for i, cluster in enumerate(clusters):\n",
    "    plt.scatter(cluster['longitude'], cluster['latitude'], \n",
    "                color=colors[i], label=labels[i], alpha=0.1)\n",
    "\n",
    "# Add titles and labels\n",
    "plt.title(\"Scatterplot: Latitude vs Longitude Across Clusters\")\n",
    "plt.xlabel(\"Longitude\")\n",
    "plt.ylabel(\"Latitude\")\n",
    "plt.legend()\n",
    "plt.grid(alpha=0.3)\n",
    "\n",
    "# Show plot\n",
    "plt.show()\n"
   ]
  }
 ],
 "metadata": {
  "kernelspec": {
   "display_name": "Python 3 (ipykernel)",
   "language": "python",
   "name": "python3"
  },
  "language_info": {
   "codemirror_mode": {
    "name": "ipython",
    "version": 3
   },
   "file_extension": ".py",
   "mimetype": "text/x-python",
   "name": "python",
   "nbconvert_exporter": "python",
   "pygments_lexer": "ipython3",
   "version": "3.10.12"
  }
 },
 "nbformat": 4,
 "nbformat_minor": 5
}
