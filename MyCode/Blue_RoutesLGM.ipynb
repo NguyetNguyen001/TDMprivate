{
 "cells": [
  {
   "cell_type": "code",
   "execution_count": 5,
   "id": "71029108-e1a3-404f-ae88-3300c7720e0f",
   "metadata": {},
   "outputs": [
    {
     "name": "stdout",
     "output_type": "stream",
     "text": [
      "The rpy2.ipython extension is already loaded. To reload it, use:\n",
      "  %reload_ext rpy2.ipython\n"
     ]
    }
   ],
   "source": [
    "%load_ext rpy2.ipython"
   ]
  },
  {
   "cell_type": "code",
   "execution_count": 6,
   "id": "0a64b652-c49f-4ae7-be23-a31ced793fea",
   "metadata": {},
   "outputs": [
    {
     "data": {
      "text/plain": [
       "\n",
       "Attaching package: ‘dplyr’\n",
       "\n",
       "The following objects are masked from ‘package:stats’:\n",
       "\n",
       "    filter, lag\n",
       "\n",
       "The following objects are masked from ‘package:base’:\n",
       "\n",
       "    intersect, setdiff, setequal, union\n",
       "\n",
       "Need help getting started? Try the R Graphics Cookbook:\n",
       "https://r-graphics.org\n",
       "Loading required package: lattice\n",
       "Type 'citation(\"pROC\")' for a citation.\n",
       "\n",
       "Attaching package: ‘pROC’\n",
       "\n",
       "The following objects are masked from ‘package:stats’:\n",
       "\n",
       "    cov, smooth, var\n",
       "\n",
       "Loaded ROSE 0.0-4\n",
       "\n",
       "Loading required package: Matrix\n",
       "Loaded glmnet 4.1-8\n"
      ]
     },
     "metadata": {},
     "output_type": "display_data"
    }
   ],
   "source": [
    "%%R\n",
    "\n",
    "#install.packages(\"tibble\")\n",
    "#install.packages(\"dplyr\")\n",
    "#install.packages(ggplot2)\n",
    "#install.packages(\"caret\")\n",
    "#install.packages(\"glmnet\")\n",
    "\n",
    "library(tibble)\n",
    "library(dplyr)\n",
    "library(ggplot2)\n",
    "library(caret)\n",
    "library(pROC)\n",
    "library(ROSE)\n",
    "library(glmnet)"
   ]
  },
  {
   "cell_type": "code",
   "execution_count": null,
   "id": "0e39856b-4523-4b2c-93e5-2d9fa036a2ae",
   "metadata": {},
   "outputs": [],
   "source": [
    "%%R\n",
    "\n",
    "binary_driving_mode <- function (df_chassis) {\n",
    "    result <- ifelse(df_chassis$drivingMode == \"COMPLETE_AUTO_DRIVE\", 1, 0)\n",
    "\n",
    "    return(result)\n",
    "}\n",
    "\n",
    "\n",
    "merge_chassis_pose <- function (df_chassis, df_pose) {\n",
    "    \n",
    "    \n",
    "    df_chassis <- df_chassis[order(df_chassis$time), ]\n",
    "    df_pose <- df_pose[order(df_pose$time), ]\n",
    "    \n",
    "    #make sure data is sorted by time fist\n",
    "\n",
    "    chassis_time_arr <- df_chassis$time\n",
    "    pose_time_arr <- df_pose$time\n",
    "\n",
    "    matched_vector <- c()\n",
    "\n",
    "    for (chassis_time in chassis_time_arr) {\n",
    "        abs_time_diff_arr <- abs(pose_time_arr - chassis_time)\n",
    "\n",
    "        min_index <-  which(abs_time_diff_arr == min(abs_time_diff_arr))\n",
    "        \n",
    "        matched_vector <-  c(matched_vector, pose_time_arr[min_index])\n",
    "    }\n",
    "\n",
    "\n",
    "    #df_chassis$matched <- df_pose$time[which(abs(pose_time_arr - df_chassis$time) == min(abs(pose_time_arr - df_chassis$time)))]\n",
    "    df_chassis$matched <-  matched_vector\n",
    "    df_pose$matched <-  df_pose$time\n",
    "\n",
    "\n",
    "    return (list(df_chassis = df_chassis, df_pose = df_pose))\n",
    "\n",
    "\n",
    "}\n",
    "\n",
    "latlongStdDev <- function(df_pose){\n",
    "    x <- df_pose[\"latitudeStdDev\"]\n",
    "    y <- df_pose[\"longitudeStdDev\"]\n",
    "    r <- sqrt(x^2 + y^2)\n",
    "\n",
    "    return(r)\n",
    "\n",
    "}\n"
   ]
  },
  {
   "cell_type": "code",
   "execution_count": 3,
   "id": "4ab25ebe-66ab-4d06-ab39-6a354172d77f",
   "metadata": {},
   "outputs": [],
   "source": [
    "%%R\n",
    "# Defining GMIDs for Blue Routes\n",
    "# Am creating a list of GMIDs for processing\n",
    "blue_route_gmIDs  <- c(\n",
    "    \"20f0b890-ec64-11ee-b297-3b0ad9d5d6c6\",\n",
    "\"39ba7438-d0d5-11ee-9435-f7e542e2436c\",\n",
    "\"ba28b352-ec8f-11ee-b297-3b0ad9d5d6c6\",\n",
    "\"cf6fdf3a-eaa3-11ee-b297-3b0ad9d5d6c6\",\n",
    "\"57d240d6-ea4d-11ee-b297-3b0ad9d5d6c6\",\n",
    "\"cb205756-ec43-11ee-b297-3b0ad9d5d6c6\",\n",
    "\"90101c36-a621-11ee-88ec-eb6a8d5269b4\",\n",
    "\"71a18322-ecab-11ee-b297-3b0ad9d5d6c6\",\n",
    "\"326699c2-ecd8-11ee-b297-3b0ad9d5d6c6\",\n",
    "\"75f83e28-eb77-11ee-b297-3b0ad9d5d6c6\",\n",
    "\"88180f82-ed4f-11ee-9385-ef789ffde1d3\",\n",
    "\"f6ac3c82-a445-11ee-88ec-eb6a8d5269b4\",\n",
    "\"c7c02bda-ebe0-11ee-b297-3b0ad9d5d6c6\",\n",
    "\"b224ef9c-ec10-11ee-b297-3b0ad9d5d6c6\",\n",
    "\"c335d84c-a45c-11ee-88ec-eb6a8d5269b4\",\n",
    "\"60546ef4-edaa-11ee-9385-ef789ffde1d3\",\n",
    "\"59c189d8-ed54-11ee-9385-ef789ffde1d3\",\n",
    "\"af10e22a-ebb1-11ee-b297-3b0ad9d5d6c6\",\n",
    "\"9830d896-d2dc-11ee-b437-336917683bb8\",\n",
    "\"5976b77a-a504-11ee-88ec-eb6a8d5269b4\",\n",
    "\"c0624e24-d9aa-11ee-a158-97f8443fd730\",\n",
    "\"8b6a6cfc-ed6d-11ee-9385-ef789ffde1d3\",\n",
    "\"e2079a78-dc1d-11ee-a158-97f8443fd730\",\n",
    "\"3a2a78cc-db21-11ee-a158-97f8443fd730\",\n",
    "\"feaf2ba8-d28d-11ee-b437-336917683bb8\",\n",
    "\"aa86a660-dc05-11ee-a158-97f8443fd730\",\n",
    "\"e6d7d384-db40-11ee-a158-97f8443fd730\",\n",
    "\"ed7f2038-ea1e-11ee-b297-3b0ad9d5d6c6\",\n",
    "\"04151804-ec20-11ee-b297-3b0ad9d5d6c6\",\n",
    "\"64bbe8e0-eb94-11ee-b297-3b0ad9d5d6c6\",\n",
    "\"64737d98-d312-11ee-b437-336917683bb8\",\n",
    "\"dc39aa14-db32-11ee-a158-97f8443fd730\",\n",
    "\"f671c05c-a5e4-11ee-88ec-eb6a8d5269b4\",\n",
    "\"d94ef300-ed60-11ee-9385-ef789ffde1d3\",\n",
    "\"20cbfe8c-ea2b-11ee-b297-3b0ad9d5d6c6\",\n",
    "\"58263e34-a45c-11ee-88ec-eb6a8d5269b4\",\n",
    "\"e9d67bf2-ec35-11ee-b297-3b0ad9d5d6c6\",\n",
    "\"f9d62032-db2a-11ee-a158-97f8443fd730\",\n",
    "\"82d39c74-ea59-11ee-b297-3b0ad9d5d6c6\",\n",
    "\"7228e03a-ebf0-11ee-b297-3b0ad9d5d6c6\",\n",
    "\"25d3bdc8-ecbc-11ee-b297-3b0ad9d5d6c6\",\n",
    "\"fc119dfc-eb67-11ee-b297-3b0ad9d5d6c6\",\n",
    "\"c9023e32-ed90-11ee-9385-ef789ffde1d3\",\n",
    "\"64875cc0-d054-11ee-9435-f7e542e2436c\",\n",
    "\"5fcc4fd8-ea71-11ee-b297-3b0ad9d5d6c6\",\n",
    "\"d1d090d4-ea7c-11ee-b297-3b0ad9d5d6c6\",\n",
    "\"559495ca-d270-11ee-b437-336917683bb8\",\n",
    "\"21376e38-ec01-11ee-b297-3b0ad9d5d6c6\",\n",
    "\"b76f33be-ea61-11ee-b297-3b0ad9d5d6c6\",\n",
    "\"3ea96640-ea37-11ee-b297-3b0ad9d5d6c6\",\n",
    "\"f0bcec4e-ed3e-11ee-9385-ef789ffde1d3\",\n",
    "\"17876fec-ea66-11ee-b297-3b0ad9d5d6c6\",\n",
    "\"e269948a-ed9d-11ee-9385-ef789ffde1d3\",\n",
    "\"a17c1280-ea10-11ee-b297-3b0ad9d5d6c6\",\n",
    "\"530de03a-ed79-11ee-9385-ef789ffde1d3\",\n",
    "\"68c289fa-dbd4-11ee-a158-97f8443fd730\",\n",
    "\"0f4f0a06-ea98-11ee-b297-3b0ad9d5d6c6\",\n",
    "\"7613801a-edcb-11ee-9385-ef789ffde1d3\",\n",
    "\"76683d3c-db18-11ee-a158-97f8443fd730\",\n",
    "\"80340ab8-d054-11ee-9435-f7e542e2436c\",\n",
    "\"6d62da08-ec9d-11ee-b297-3b0ad9d5d6c6\",\n",
    "\"7f09f6c6-a5b0-11ee-88ec-eb6a8d5269b4\",\n",
    "\"6af236d6-d98f-11ee-a158-97f8443fd730\",\n",
    "\"70060810-eb59-11ee-b297-3b0ad9d5d6c6\",\n",
    "\"3d2a80f0-ec81-11ee-b297-3b0ad9d5d6c6\",\n",
    "\"3343fd3c-eb87-11ee-b297-3b0ad9d5d6c6\",\n",
    "\"df8e3742-ec54-11ee-b297-3b0ad9d5d6c6\",\n",
    "\"286c70cc-d2f7-11ee-b437-336917683bb8\",\n",
    "\"e8a8b2be-edbf-11ee-9385-ef789ffde1d3\",\n",
    "\"baf0e4be-bede-11ee-835b-599066b5eb60\",\n",
    "\"513a670c-eea9-11ee-9385-ef789ffde1d3\",\n",
    "\"3441fc36-ecca-11ee-b297-3b0ad9d5d6c6\",\n",
    "\"2bc6ebb8-a529-11ee-88ec-eb6a8d5269b4\",\n",
    "\"154fab12-a43f-11ee-88ec-eb6a8d5269b4\",\n",
    "\"43914d48-ed85-11ee-9385-ef789ffde1d3\",\n",
    "\"ba6e1072-9524-11ee-956e-9da2d070324c\",\n",
    "\"4d0254fc-ec73-11ee-b297-3b0ad9d5d6c6\",\n",
    "\"2d35c522-eba2-11ee-b297-3b0ad9d5d6c6\",\n",
    "\"787d9684-d2c2-11ee-b437-336917683bb8\",\n",
    "\"3ce8a358-edd8-11ee-9385-ef789ffde1d3\",\n",
    "\"06cbdbc0-db4d-11ee-a158-97f8443fd730\",\n",
    "\"8c57e8ac-dbec-11ee-a158-97f8443fd730\",\n",
    "\"c8f54ac0-ebd2-11ee-b297-3b0ad9d5d6c6\",\n",
    "\"acd71bc0-ecf4-11ee-9385-ef789ffde1d3\",\n",
    "\"69ab88ec-dc17-11ee-a158-97f8443fd730\",\n",
    "\"19b7ebd0-d9b7-11ee-a158-97f8443fd730\",\n",
    "\"5240e750-ec30-11ee-b297-3b0ad9d5d6c6\",\n",
    "\"a7c98b32-ebc2-11ee-b297-3b0ad9d5d6c6\",\n",
    "\"721a9830-ece6-11ee-b297-3b0ad9d5d6c6\",\n",
    "\"47561998-d9c3-11ee-a158-97f8443fd730\",\n",
    "\"04115e66-ea91-11ee-b297-3b0ad9d5d6c6\",\n",
    "\"aef91c4a-ede5-11ee-9385-ef789ffde1d3\",\n",
    "\"a253145a-d2a6-11ee-b437-336917683bb8\",\n",
    "\"36663b02-ea87-11ee-b297-3b0ad9d5d6c6\",\n",
    "\"5f6573ba-ed2f-11ee-9385-ef789ffde1d3\",\n",
    "\"d62ee6e8-ed02-11ee-9385-ef789ffde1d3\",\n",
    "\"da853e0c-a10f-11ee-981c-d126ddbe9afa\"\n",
    ")"
   ]
  },
  {
   "cell_type": "code",
   "execution_count": 4,
   "id": "bb91d981-6ad8-4b89-9049-72abb2d5be3a",
   "metadata": {
    "scrolled": true
   },
   "outputs": [
    {
     "name": "stdout",
     "output_type": "stream",
     "text": [
      "[1] \"20f0b890-ec64-11ee-b297-3b0ad9d5d6c6\"\n",
      "Error in latlongStdDev(temp_pose) : \n",
      "  could not find function \"latlongStdDev\"\n"
     ]
    },
    {
     "ename": "RInterpreterError",
     "evalue": "Failed to parse and evaluate line '# Initialize an empty tibble\\ndf_merged <- tibble()\\n\\n# Loop through each gmID\\nfor (id in blue_route_gmIDs) {\\n  print(id)\\n  \\n  # Update the file paths with the correct full paths\\n  temp_chassis_path <- sprintf(\\n    \"/home/gampadu_linux/Desktop/TDMprivate/data/%s/_apollo_canbus_chassis/%s_apollo_canbus_chassis.csv\",\\n    id, id\\n  )\\n  temp_pose_path <- sprintf(\\n    \"/home/gampadu_linux/Desktop/TDMprivate/data/%s/_apollo_sensor_gnss_best_pose/%s_apollo_sensor_gnss_best_pose.csv\",\\n    id, id\\n  )\\n\\n  # Check if the files exist\\n  if (file.exists(temp_chassis_path) && file.exists(temp_pose_path)) {\\n    # Read the files\\n    temp_chassis <- as_tibble(read.csv(temp_chassis_path))\\n    temp_pose <- as_tibble(read.csv(temp_pose_path))\\n    \\n    # Process the data\\n    r <- latlongStdDev(temp_pose)\\n    temp_pose[\"latlongStdDev\"] <- r\\n    \\n    results <- merge_chassis_pose(temp_chassis, temp_pose)\\n    result_full <- full_join(results$df_chassis, results$df_pose, by = \"matched\")\\n    \\n    # Add binary driving mode\\n    result_full$binaryDrivingMode <- binary_driving_mode(result_full)\\n    \\n    # Append to df_merged\\n    df_merged <- bind_rows(df_merged, result_full)\\n  } else {\\n    warning(sprintf(\"Files not found for gmID: %s\", id))\\n  }\\n}\\n\\nprint(\"Done loading data\")\\n'.\nR error message: 'Error in latlongStdDev(temp_pose) : \\n  could not find function \"latlongStdDev\"'",
     "output_type": "error",
     "traceback": [
      "\u001b[0;31m---------------------------------------------------------------------------\u001b[0m",
      "\u001b[0;31mRRuntimeError\u001b[0m                             Traceback (most recent call last)",
      "File \u001b[0;32m~/.local/lib/python3.10/site-packages/rpy2/ipython/rmagic.py:407\u001b[0m, in \u001b[0;36mRMagics.eval\u001b[0;34m(self, code)\u001b[0m\n\u001b[1;32m    406\u001b[0m     r_expr \u001b[38;5;241m=\u001b[39m ri\u001b[38;5;241m.\u001b[39mparse(code)\n\u001b[0;32m--> 407\u001b[0m     value, visible \u001b[38;5;241m=\u001b[39m \u001b[43mri\u001b[49m\u001b[38;5;241;43m.\u001b[39;49m\u001b[43mevalr_expr_with_visible\u001b[49m\u001b[43m(\u001b[49m\n\u001b[1;32m    408\u001b[0m \u001b[43m        \u001b[49m\u001b[43mr_expr\u001b[49m\n\u001b[1;32m    409\u001b[0m \u001b[43m    \u001b[49m\u001b[43m)\u001b[49m\n\u001b[1;32m    410\u001b[0m \u001b[38;5;28;01mexcept\u001b[39;00m (ri\u001b[38;5;241m.\u001b[39membedded\u001b[38;5;241m.\u001b[39mRRuntimeError, \u001b[38;5;167;01mValueError\u001b[39;00m) \u001b[38;5;28;01mas\u001b[39;00m exception:\n\u001b[1;32m    411\u001b[0m     \u001b[38;5;66;03m# Otherwise next return seems to have copy of error.\u001b[39;00m\n",
      "File \u001b[0;32m~/.local/lib/python3.10/site-packages/rpy2/rinterface.py:192\u001b[0m, in \u001b[0;36mevalr_expr_with_visible\u001b[0;34m(expr, envir)\u001b[0m\n\u001b[1;32m    191\u001b[0m \u001b[38;5;28;01mif\u001b[39;00m error_occured[\u001b[38;5;241m0\u001b[39m]:\n\u001b[0;32m--> 192\u001b[0m     \u001b[38;5;28;01mraise\u001b[39;00m embedded\u001b[38;5;241m.\u001b[39mRRuntimeError(_rinterface\u001b[38;5;241m.\u001b[39m_geterrmessage())\n\u001b[1;32m    193\u001b[0m res \u001b[38;5;241m=\u001b[39m conversion\u001b[38;5;241m.\u001b[39m_cdata_to_rinterface(r_res)\n",
      "\u001b[0;31mRRuntimeError\u001b[0m: Error in latlongStdDev(temp_pose) : \n  could not find function \"latlongStdDev\"\n",
      "\nDuring handling of the above exception, another exception occurred:\n",
      "\u001b[0;31mRInterpreterError\u001b[0m                         Traceback (most recent call last)",
      "Cell \u001b[0;32mIn[4], line 1\u001b[0m\n\u001b[0;32m----> 1\u001b[0m \u001b[43mget_ipython\u001b[49m\u001b[43m(\u001b[49m\u001b[43m)\u001b[49m\u001b[38;5;241;43m.\u001b[39;49m\u001b[43mrun_cell_magic\u001b[49m\u001b[43m(\u001b[49m\u001b[38;5;124;43m'\u001b[39;49m\u001b[38;5;124;43mR\u001b[39;49m\u001b[38;5;124;43m'\u001b[39;49m\u001b[43m,\u001b[49m\u001b[43m \u001b[49m\u001b[38;5;124;43m'\u001b[39;49m\u001b[38;5;124;43m'\u001b[39;49m\u001b[43m,\u001b[49m\u001b[43m \u001b[49m\u001b[38;5;124;43m'\u001b[39;49m\u001b[38;5;124;43m# Initialize an empty tibble\u001b[39;49m\u001b[38;5;130;43;01m\\n\u001b[39;49;00m\u001b[38;5;124;43mdf_merged <- tibble()\u001b[39;49m\u001b[38;5;130;43;01m\\n\u001b[39;49;00m\u001b[38;5;130;43;01m\\n\u001b[39;49;00m\u001b[38;5;124;43m# Loop through each gmID\u001b[39;49m\u001b[38;5;130;43;01m\\n\u001b[39;49;00m\u001b[38;5;124;43mfor (id in blue_route_gmIDs) \u001b[39;49m\u001b[38;5;124;43m{\u001b[39;49m\u001b[38;5;130;43;01m\\n\u001b[39;49;00m\u001b[38;5;124;43m  print(id)\u001b[39;49m\u001b[38;5;130;43;01m\\n\u001b[39;49;00m\u001b[38;5;124;43m  \u001b[39;49m\u001b[38;5;130;43;01m\\n\u001b[39;49;00m\u001b[38;5;124;43m  # Update the file paths with the correct full paths\u001b[39;49m\u001b[38;5;130;43;01m\\n\u001b[39;49;00m\u001b[38;5;124;43m  temp_chassis_path <- sprintf(\u001b[39;49m\u001b[38;5;130;43;01m\\n\u001b[39;49;00m\u001b[38;5;124;43m    \u001b[39;49m\u001b[38;5;124;43m\"\u001b[39;49m\u001b[38;5;124;43m/home/gampadu_linux/Desktop/TDMprivate/data/\u001b[39;49m\u001b[38;5;132;43;01m%s\u001b[39;49;00m\u001b[38;5;124;43m/_apollo_canbus_chassis/\u001b[39;49m\u001b[38;5;132;43;01m%s\u001b[39;49;00m\u001b[38;5;124;43m_apollo_canbus_chassis.csv\u001b[39;49m\u001b[38;5;124;43m\"\u001b[39;49m\u001b[38;5;124;43m,\u001b[39;49m\u001b[38;5;130;43;01m\\n\u001b[39;49;00m\u001b[38;5;124;43m    id, id\u001b[39;49m\u001b[38;5;130;43;01m\\n\u001b[39;49;00m\u001b[38;5;124;43m  )\u001b[39;49m\u001b[38;5;130;43;01m\\n\u001b[39;49;00m\u001b[38;5;124;43m  temp_pose_path <- sprintf(\u001b[39;49m\u001b[38;5;130;43;01m\\n\u001b[39;49;00m\u001b[38;5;124;43m    \u001b[39;49m\u001b[38;5;124;43m\"\u001b[39;49m\u001b[38;5;124;43m/home/gampadu_linux/Desktop/TDMprivate/data/\u001b[39;49m\u001b[38;5;132;43;01m%s\u001b[39;49;00m\u001b[38;5;124;43m/_apollo_sensor_gnss_best_pose/\u001b[39;49m\u001b[38;5;132;43;01m%s\u001b[39;49;00m\u001b[38;5;124;43m_apollo_sensor_gnss_best_pose.csv\u001b[39;49m\u001b[38;5;124;43m\"\u001b[39;49m\u001b[38;5;124;43m,\u001b[39;49m\u001b[38;5;130;43;01m\\n\u001b[39;49;00m\u001b[38;5;124;43m    id, id\u001b[39;49m\u001b[38;5;130;43;01m\\n\u001b[39;49;00m\u001b[38;5;124;43m  )\u001b[39;49m\u001b[38;5;130;43;01m\\n\u001b[39;49;00m\u001b[38;5;130;43;01m\\n\u001b[39;49;00m\u001b[38;5;124;43m  # Check if the files exist\u001b[39;49m\u001b[38;5;130;43;01m\\n\u001b[39;49;00m\u001b[38;5;124;43m  if (file.exists(temp_chassis_path) && file.exists(temp_pose_path)) \u001b[39;49m\u001b[38;5;124;43m{\u001b[39;49m\u001b[38;5;130;43;01m\\n\u001b[39;49;00m\u001b[38;5;124;43m    # Read the files\u001b[39;49m\u001b[38;5;130;43;01m\\n\u001b[39;49;00m\u001b[38;5;124;43m    temp_chassis <- as_tibble(read.csv(temp_chassis_path))\u001b[39;49m\u001b[38;5;130;43;01m\\n\u001b[39;49;00m\u001b[38;5;124;43m    temp_pose <- as_tibble(read.csv(temp_pose_path))\u001b[39;49m\u001b[38;5;130;43;01m\\n\u001b[39;49;00m\u001b[38;5;124;43m    \u001b[39;49m\u001b[38;5;130;43;01m\\n\u001b[39;49;00m\u001b[38;5;124;43m    # Process the data\u001b[39;49m\u001b[38;5;130;43;01m\\n\u001b[39;49;00m\u001b[38;5;124;43m    r <- latlongStdDev(temp_pose)\u001b[39;49m\u001b[38;5;130;43;01m\\n\u001b[39;49;00m\u001b[38;5;124;43m    temp_pose[\u001b[39;49m\u001b[38;5;124;43m\"\u001b[39;49m\u001b[38;5;124;43mlatlongStdDev\u001b[39;49m\u001b[38;5;124;43m\"\u001b[39;49m\u001b[38;5;124;43m] <- r\u001b[39;49m\u001b[38;5;130;43;01m\\n\u001b[39;49;00m\u001b[38;5;124;43m    \u001b[39;49m\u001b[38;5;130;43;01m\\n\u001b[39;49;00m\u001b[38;5;124;43m    results <- merge_chassis_pose(temp_chassis, temp_pose)\u001b[39;49m\u001b[38;5;130;43;01m\\n\u001b[39;49;00m\u001b[38;5;124;43m    result_full <- full_join(results$df_chassis, results$df_pose, by = \u001b[39;49m\u001b[38;5;124;43m\"\u001b[39;49m\u001b[38;5;124;43mmatched\u001b[39;49m\u001b[38;5;124;43m\"\u001b[39;49m\u001b[38;5;124;43m)\u001b[39;49m\u001b[38;5;130;43;01m\\n\u001b[39;49;00m\u001b[38;5;124;43m    \u001b[39;49m\u001b[38;5;130;43;01m\\n\u001b[39;49;00m\u001b[38;5;124;43m    # Add binary driving mode\u001b[39;49m\u001b[38;5;130;43;01m\\n\u001b[39;49;00m\u001b[38;5;124;43m    result_full$binaryDrivingMode <- binary_driving_mode(result_full)\u001b[39;49m\u001b[38;5;130;43;01m\\n\u001b[39;49;00m\u001b[38;5;124;43m    \u001b[39;49m\u001b[38;5;130;43;01m\\n\u001b[39;49;00m\u001b[38;5;124;43m    # Append to df_merged\u001b[39;49m\u001b[38;5;130;43;01m\\n\u001b[39;49;00m\u001b[38;5;124;43m    df_merged <- bind_rows(df_merged, result_full)\u001b[39;49m\u001b[38;5;130;43;01m\\n\u001b[39;49;00m\u001b[38;5;124;43m  } else \u001b[39;49m\u001b[38;5;124;43m{\u001b[39;49m\u001b[38;5;130;43;01m\\n\u001b[39;49;00m\u001b[38;5;124;43m    warning(sprintf(\u001b[39;49m\u001b[38;5;124;43m\"\u001b[39;49m\u001b[38;5;124;43mFiles not found for gmID: \u001b[39;49m\u001b[38;5;132;43;01m%s\u001b[39;49;00m\u001b[38;5;124;43m\"\u001b[39;49m\u001b[38;5;124;43m, id))\u001b[39;49m\u001b[38;5;130;43;01m\\n\u001b[39;49;00m\u001b[38;5;124;43m  }\u001b[39;49m\u001b[38;5;130;43;01m\\n\u001b[39;49;00m\u001b[38;5;124;43m}\u001b[39;49m\u001b[38;5;130;43;01m\\n\u001b[39;49;00m\u001b[38;5;130;43;01m\\n\u001b[39;49;00m\u001b[38;5;124;43mprint(\u001b[39;49m\u001b[38;5;124;43m\"\u001b[39;49m\u001b[38;5;124;43mDone loading data\u001b[39;49m\u001b[38;5;124;43m\"\u001b[39;49m\u001b[38;5;124;43m)\u001b[39;49m\u001b[38;5;130;43;01m\\n\u001b[39;49;00m\u001b[38;5;124;43m'\u001b[39;49m\u001b[43m)\u001b[49m\n",
      "File \u001b[0;32m~/.local/lib/python3.10/site-packages/IPython/core/interactiveshell.py:2541\u001b[0m, in \u001b[0;36mInteractiveShell.run_cell_magic\u001b[0;34m(self, magic_name, line, cell)\u001b[0m\n\u001b[1;32m   2539\u001b[0m \u001b[38;5;28;01mwith\u001b[39;00m \u001b[38;5;28mself\u001b[39m\u001b[38;5;241m.\u001b[39mbuiltin_trap:\n\u001b[1;32m   2540\u001b[0m     args \u001b[38;5;241m=\u001b[39m (magic_arg_s, cell)\n\u001b[0;32m-> 2541\u001b[0m     result \u001b[38;5;241m=\u001b[39m \u001b[43mfn\u001b[49m\u001b[43m(\u001b[49m\u001b[38;5;241;43m*\u001b[39;49m\u001b[43margs\u001b[49m\u001b[43m,\u001b[49m\u001b[43m \u001b[49m\u001b[38;5;241;43m*\u001b[39;49m\u001b[38;5;241;43m*\u001b[39;49m\u001b[43mkwargs\u001b[49m\u001b[43m)\u001b[49m\n\u001b[1;32m   2543\u001b[0m \u001b[38;5;66;03m# The code below prevents the output from being displayed\u001b[39;00m\n\u001b[1;32m   2544\u001b[0m \u001b[38;5;66;03m# when using magics with decorator @output_can_be_silenced\u001b[39;00m\n\u001b[1;32m   2545\u001b[0m \u001b[38;5;66;03m# when the last Python token in the expression is a ';'.\u001b[39;00m\n\u001b[1;32m   2546\u001b[0m \u001b[38;5;28;01mif\u001b[39;00m \u001b[38;5;28mgetattr\u001b[39m(fn, magic\u001b[38;5;241m.\u001b[39mMAGIC_OUTPUT_CAN_BE_SILENCED, \u001b[38;5;28;01mFalse\u001b[39;00m):\n",
      "File \u001b[0;32m~/.local/lib/python3.10/site-packages/rpy2/ipython/rmagic.py:984\u001b[0m, in \u001b[0;36mRMagics.R\u001b[0;34m(self, line, cell, local_ns)\u001b[0m\n\u001b[1;32m    982\u001b[0m     \u001b[38;5;28;01mif\u001b[39;00m \u001b[38;5;129;01mnot\u001b[39;00m e\u001b[38;5;241m.\u001b[39mstdout\u001b[38;5;241m.\u001b[39mendswith(e\u001b[38;5;241m.\u001b[39merr):\n\u001b[1;32m    983\u001b[0m         \u001b[38;5;28mprint\u001b[39m(e\u001b[38;5;241m.\u001b[39merr)\n\u001b[0;32m--> 984\u001b[0m     \u001b[38;5;28;01mraise\u001b[39;00m e\n\u001b[1;32m    985\u001b[0m \u001b[38;5;28;01mfinally\u001b[39;00m:\n\u001b[1;32m    986\u001b[0m     \u001b[38;5;28;01mif\u001b[39;00m \u001b[38;5;28mself\u001b[39m\u001b[38;5;241m.\u001b[39mdevice \u001b[38;5;129;01min\u001b[39;00m DEVICES_STATIC:\n",
      "File \u001b[0;32m~/.local/lib/python3.10/site-packages/rpy2/ipython/rmagic.py:949\u001b[0m, in \u001b[0;36mRMagics.R\u001b[0;34m(self, line, cell, local_ns)\u001b[0m\n\u001b[1;32m    947\u001b[0m         return_output \u001b[38;5;241m=\u001b[39m \u001b[38;5;28;01mFalse\u001b[39;00m\n\u001b[1;32m    948\u001b[0m \u001b[38;5;28;01melse\u001b[39;00m:\n\u001b[0;32m--> 949\u001b[0m     text_result, result, visible \u001b[38;5;241m=\u001b[39m \u001b[38;5;28;43mself\u001b[39;49m\u001b[38;5;241;43m.\u001b[39;49m\u001b[43meval\u001b[49m\u001b[43m(\u001b[49m\u001b[43mcode\u001b[49m\u001b[43m)\u001b[49m\n\u001b[1;32m    950\u001b[0m     text_output \u001b[38;5;241m+\u001b[39m\u001b[38;5;241m=\u001b[39m text_result\n\u001b[1;32m    951\u001b[0m     \u001b[38;5;28;01mif\u001b[39;00m visible:\n",
      "File \u001b[0;32m~/.local/lib/python3.10/site-packages/rpy2/ipython/rmagic.py:413\u001b[0m, in \u001b[0;36mRMagics.eval\u001b[0;34m(self, code)\u001b[0m\n\u001b[1;32m    410\u001b[0m \u001b[38;5;28;01mexcept\u001b[39;00m (ri\u001b[38;5;241m.\u001b[39membedded\u001b[38;5;241m.\u001b[39mRRuntimeError, \u001b[38;5;167;01mValueError\u001b[39;00m) \u001b[38;5;28;01mas\u001b[39;00m exception:\n\u001b[1;32m    411\u001b[0m     \u001b[38;5;66;03m# Otherwise next return seems to have copy of error.\u001b[39;00m\n\u001b[1;32m    412\u001b[0m     warning_or_other_msg \u001b[38;5;241m=\u001b[39m \u001b[38;5;28mself\u001b[39m\u001b[38;5;241m.\u001b[39mflush()\n\u001b[0;32m--> 413\u001b[0m     \u001b[38;5;28;01mraise\u001b[39;00m RInterpreterError(code, \u001b[38;5;28mstr\u001b[39m(exception),\n\u001b[1;32m    414\u001b[0m                             warning_or_other_msg)\n\u001b[1;32m    415\u001b[0m \u001b[38;5;28;01mfinally\u001b[39;00m:\n\u001b[1;32m    416\u001b[0m     ro\u001b[38;5;241m.\u001b[39m_print_deferred_warnings()\n",
      "\u001b[0;31mRInterpreterError\u001b[0m: Failed to parse and evaluate line '# Initialize an empty tibble\\ndf_merged <- tibble()\\n\\n# Loop through each gmID\\nfor (id in blue_route_gmIDs) {\\n  print(id)\\n  \\n  # Update the file paths with the correct full paths\\n  temp_chassis_path <- sprintf(\\n    \"/home/gampadu_linux/Desktop/TDMprivate/data/%s/_apollo_canbus_chassis/%s_apollo_canbus_chassis.csv\",\\n    id, id\\n  )\\n  temp_pose_path <- sprintf(\\n    \"/home/gampadu_linux/Desktop/TDMprivate/data/%s/_apollo_sensor_gnss_best_pose/%s_apollo_sensor_gnss_best_pose.csv\",\\n    id, id\\n  )\\n\\n  # Check if the files exist\\n  if (file.exists(temp_chassis_path) && file.exists(temp_pose_path)) {\\n    # Read the files\\n    temp_chassis <- as_tibble(read.csv(temp_chassis_path))\\n    temp_pose <- as_tibble(read.csv(temp_pose_path))\\n    \\n    # Process the data\\n    r <- latlongStdDev(temp_pose)\\n    temp_pose[\"latlongStdDev\"] <- r\\n    \\n    results <- merge_chassis_pose(temp_chassis, temp_pose)\\n    result_full <- full_join(results$df_chassis, results$df_pose, by = \"matched\")\\n    \\n    # Add binary driving mode\\n    result_full$binaryDrivingMode <- binary_driving_mode(result_full)\\n    \\n    # Append to df_merged\\n    df_merged <- bind_rows(df_merged, result_full)\\n  } else {\\n    warning(sprintf(\"Files not found for gmID: %s\", id))\\n  }\\n}\\n\\nprint(\"Done loading data\")\\n'.\nR error message: 'Error in latlongStdDev(temp_pose) : \\n  could not find function \"latlongStdDev\"'"
     ]
    }
   ],
   "source": [
    "%%R\n",
    "# Initialize an empty tibble\n",
    "df_merged <- tibble()\n",
    "\n",
    "# Loop through each gmID\n",
    "for (id in blue_route_gmIDs) {\n",
    "  print(id)\n",
    "  \n",
    "  # Update the file paths with the correct full paths\n",
    "  temp_chassis_path <- sprintf(\n",
    "    \"/home/gampadu_linux/Desktop/TDMprivate/data/%s/_apollo_canbus_chassis/%s_apollo_canbus_chassis.csv\",\n",
    "    id, id\n",
    "  )\n",
    "  temp_pose_path <- sprintf(\n",
    "    \"/home/gampadu_linux/Desktop/TDMprivate/data/%s/_apollo_sensor_gnss_best_pose/%s_apollo_sensor_gnss_best_pose.csv\",\n",
    "    id, id\n",
    "  )\n",
    "\n",
    "  # Check if the files exist\n",
    "  if (file.exists(temp_chassis_path) && file.exists(temp_pose_path)) {\n",
    "    # Read the files\n",
    "    temp_chassis <- as_tibble(read.csv(temp_chassis_path))\n",
    "    temp_pose <- as_tibble(read.csv(temp_pose_path))\n",
    "    \n",
    "    # Process the data\n",
    "    r <- latlongStdDev(temp_pose)\n",
    "    temp_pose[\"latlongStdDev\"] <- r\n",
    "    \n",
    "    results <- merge_chassis_pose(temp_chassis, temp_pose)\n",
    "    result_full <- full_join(results$df_chassis, results$df_pose, by = \"matched\")\n",
    "    \n",
    "    # Add binary driving mode\n",
    "    result_full$binaryDrivingMode <- binary_driving_mode(result_full)\n",
    "    \n",
    "    # Append to df_merged\n",
    "    df_merged <- bind_rows(df_merged, result_full)\n",
    "  } else {\n",
    "    warning(sprintf(\"Files not found for gmID: %s\", id))\n",
    "  }\n",
    "}\n",
    "\n",
    "print(\"Done loading data\")"
   ]
  },
  {
   "cell_type": "code",
   "execution_count": 6,
   "id": "7d551a4f-b59e-4e2e-ba33-e5b3c1d93e2a",
   "metadata": {},
   "outputs": [
    {
     "name": "stdout",
     "output_type": "stream",
     "text": [
      "[1] \"Training data rows: 4450437\"\n",
      "[1] \"Testing data rows: 212270\"\n"
     ]
    }
   ],
   "source": [
    "%%R\n",
    "# Load required library\n",
    "library(dplyr)\n",
    "\n",
    "# Split GMIDs into Training and Testing Sets\n",
    "training_gmIDs <- blue_route_gmIDs[1:78]  # First 78 GMIDs (80%)\n",
    "testing_gmIDs <- blue_route_gmIDs[79:97] # Last 19 GMIDs (20%)\n",
    "\n",
    "# Filter df_merged for training and testing data based on GMIDs\n",
    "train_data <- df_merged %>% filter(groupMetadataID.x %in% training_gmIDs)\n",
    "test_data <- df_merged %>% filter(groupMetadataID.x %in% testing_gmIDs)\n",
    "\n",
    "# Check the number of rows in each dataset\n",
    "print(paste(\"Training data rows:\", nrow(train_data)))\n",
    "print(paste(\"Testing data rows:\", nrow(test_data)))\n",
    "\n",
    "# Verify if test_data is not empty\n",
    "if (nrow(test_data) == 0) {\n",
    "  print(\"Error: test_data is empty. Check GMID filtering.\")\n",
    "}"
   ]
  },
  {
   "cell_type": "code",
   "execution_count": 7,
   "id": "9ef6876a-fd98-43ed-9334-f9b4f5dc43e8",
   "metadata": {},
   "outputs": [
    {
     "name": "stdout",
     "output_type": "stream",
     "text": [
      "\n",
      "Call:\n",
      "glm(formula = binaryDrivingMode ~ speedMps + throttlePercentage + \n",
      "    brakePercentage + steeringPercentage + latlongStdDev, family = binomial, \n",
      "    data = train_data)\n",
      "\n",
      "Deviance Residuals: \n",
      "    Min       1Q   Median       3Q      Max  \n",
      "-3.4843  -0.8007   0.4937   0.6951   1.9987  \n",
      "\n",
      "Coefficients:\n",
      "                     Estimate Std. Error z value Pr(>|z|)    \n",
      "(Intercept)        -1.471e+00  3.332e-03 -441.56   <2e-16 ***\n",
      "speedMps            1.990e-01  2.452e-04  811.59   <2e-16 ***\n",
      "throttlePercentage  2.287e-02  1.434e-04  159.53   <2e-16 ***\n",
      "brakePercentage     4.223e-02  1.180e-04  357.89   <2e-16 ***\n",
      "steeringPercentage -4.514e-03  9.817e-05  -45.98   <2e-16 ***\n",
      "latlongStdDev       1.305e-02  1.127e-03   11.58   <2e-16 ***\n",
      "---\n",
      "Signif. codes:  0 ‘***’ 0.001 ‘**’ 0.01 ‘*’ 0.05 ‘.’ 0.1 ‘ ’ 1\n",
      "\n",
      "(Dispersion parameter for binomial family taken to be 1)\n",
      "\n",
      "    Null deviance: 5154221  on 4450436  degrees of freedom\n",
      "Residual deviance: 4191521  on 4450431  degrees of freedom\n",
      "AIC: 4191533\n",
      "\n",
      "Number of Fisher Scoring iterations: 5\n",
      "\n"
     ]
    }
   ],
   "source": [
    "%%R\n",
    "# Train a Logistic Regression Model\n",
    "model <- glm(\n",
    "  binaryDrivingMode ~ speedMps + throttlePercentage + brakePercentage + steeringPercentage + latlongStdDev,\n",
    "  data = train_data,\n",
    "  family = binomial\n",
    ")\n",
    "\n",
    "summary(model)"
   ]
  },
  {
   "cell_type": "code",
   "execution_count": 15,
   "id": "c4eda27a-ddd1-484b-b57c-81fb511a66ba",
   "metadata": {},
   "outputs": [
    {
     "name": "stdout",
     "output_type": "stream",
     "text": [
      "[1] \"Accuracy: 0.738107127714703\"\n"
     ]
    }
   ],
   "source": [
    "%%R\n",
    " # Predict on the test set\n",
    " predictions <- predict(model, test_data, type = \"response\")\n",
    "\n",
    " #Covert probabilities to binary classes (0 or 1)\n",
    " predicted_classes <- ifelse(predictions > 0.5, 1, 0)\n",
    "\n",
    " # Calculate accuracy\n",
    " accuracy <- mean(predicted_classes == test_data$binaryDrivingMode)\n",
    "\n",
    " # Print the accuracy\n",
    "print(paste(\"Accuracy:\", accuracy))"
   ]
  },
  {
   "cell_type": "code",
   "execution_count": 17,
   "id": "2bda74fe-bf1a-4c38-b485-3fe416140fa6",
   "metadata": {},
   "outputs": [
    {
     "data": {
      "image/png": "[encoded data removed]",
      "text/plain": [
       "<IPython.core.display.Image object>"
      ]
     },
     "metadata": {},
     "output_type": "display_data"
    }
   ],
   "source": [
    "%%R\n",
    "# Load required libraries\n",
    "library(ggplot2)\n",
    "library(caret)\n",
    "\n",
    "# Map the values to labels (1 -> \"Auto_mode\", 0 -> \"Manual\")\n",
    "predicted_classes_labeled <- factor(predicted_classes, levels = c(0,1), labels = c(\"Manual Mode(0)\", \"Auto Mode(1)\"))\n",
    "actual_classes_labeled <- factor (test_data$binaryDrivingMode, levels = c(0,1), labels = c(\"Manual Mode(0)\", \"Auto Mode(1)\"))\n",
    "\n",
    "# Generate the confusion matrix\n",
    "cm <- confusionMatrix(predicted_classes_labeled, actual_classes_labeled)\n",
    "cm_table <- as.data.frame(cm$table)\n",
    "\n",
    "# Rename columns for better understanding\n",
    "colnames(cm_table) <- c(\"Actual\", \"Predicted\", \"Frequency\")\n",
    "\n",
    "# Create the colored confusion matrix plot\n",
    "ggplot(cm_table, aes(x = Predicted, y = Actual, fill = Frequency)) +\n",
    "  geom_tile(color = \"white\") +\n",
    "  scale_fill_gradient(low = \"lightblue\", high = \"blue\", name = \"Frequency\") +\n",
    "  geom_text(aes(label = Frequency), color = \"white\", size = 5) +\n",
    "  labs(title = \"Confusion Matrix\", x = \"Predicted Classes\", y = \"True Classes\") +\n",
    "  theme_minimal() +\n",
    "  theme(plot.title = element_text(hjust = 0.5, size = 14),\n",
    "        axis.title = element_text(size = 12),\n",
    "        axis.text = element_text(size = 10))"
   ]
  },
  {
   "cell_type": "code",
   "execution_count": 13,
   "id": "54472c2f-1b30-4df9-9e29-dc780592dd6f",
   "metadata": {},
   "outputs": [
    {
     "name": "stdout",
     "output_type": "stream",
     "text": [
      "Area under the curve: 0.7725\n"
     ]
    },
    {
     "data": {
      "text/plain": [
       "Setting levels: control = 0, case = 1\n",
       "Setting direction: controls < cases\n"
      ]
     },
     "metadata": {},
     "output_type": "display_data"
    },
    {
     "data": {
      "image/png": "[encoded data removed]",
      "text/plain": [
       "<IPython.core.display.Image object>"
      ]
     },
     "metadata": {},
     "output_type": "display_data"
    }
   ],
   "source": [
    "%%R\n",
    "\n",
    "library(pROC)\n",
    "roc_obj <- roc(test_data$binaryDrivingMode, predictions)\n",
    "plot(roc_obj, main = \"ROC Curve\")\n",
    "auc(roc_obj)"
   ]
  },
  {
   "cell_type": "markdown",
   "id": "7207f565-c127-46fa-b341-b2110ad06699",
   "metadata": {},
   "source": [
    "#### %%R\n",
    "#Manually calculating the confusion matrix values\n",
    "TP <- 132899\n",
    "FP <- 22297\n",
    "FN <- 33295\n",
    "TN <- 23779\n",
    "\n",
    "# Calculate Metrics\n",
    "accuracy <- (TP + TN) / (TP + TN + FP + FN)\n",
    "precision <- TP / (TP + FP)\n",
    "recall <- TP / (TP + FN)\n",
    "\n",
    "#Print Metrics\n",
    "cat(\"Accuracy:\", accuracy, \"\\n\")\n",
    "cat(\"Precision:\", precision, \"\\n\")\n",
    "cat(\"Recall:\", recall, \"\\n\")"
   ]
  },
  {
   "cell_type": "code",
   "execution_count": 17,
   "id": "785bef43-474f-40df-b5ad-21ce97194476",
   "metadata": {
    "scrolled": true
   },
   "outputs": [
    {
     "name": "stdout",
     "output_type": "stream",
     "text": [
      "[1] \"Precision: 0.799661840981022\"\n",
      "[1] \"Recall: 0.856330060053094\"\n",
      "[1] \"F1-Score: 0.827026354273624\"\n"
     ]
    }
   ],
   "source": [
    "%%R\n",
    "# Calculate Precision\n",
    "precision <- sum(predicted_classes == 1 & test_data$binaryDrivingMode == 1) / sum(predicted_classes == 1)\n",
    "\n",
    "# Calculate Recall\n",
    "recall <- sum(predicted_classes == 1 & test_data$binaryDrivingMode == 1) / sum(test_data$binaryDrivingMode == 1)\n",
    "\n",
    "# Calculate F1-Score\n",
    "f1_score <- 2 * (precision * recall) / (precision + recall)\n",
    "\n",
    "# Print the results\n",
    "print(paste(\"Precision:\", precision))\n",
    "print(paste(\"Recall:\", recall))\n",
    "print(paste(\"F1-Score:\", f1_score))"
   ]
  }
 ],
 "metadata": {
  "kernelspec": {
   "display_name": "Python 3 (ipykernel)",
   "language": "python",
   "name": "python3"
  },
  "language_info": {
   "codemirror_mode": {
    "name": "ipython",
    "version": 3
   },
   "file_extension": ".py",
   "mimetype": "text/x-python",
   "name": "python",
   "nbconvert_exporter": "python",
   "pygments_lexer": "ipython3",
   "version": "3.10.12"
  }
 },
 "nbformat": 4,
 "nbformat_minor": 5
}
