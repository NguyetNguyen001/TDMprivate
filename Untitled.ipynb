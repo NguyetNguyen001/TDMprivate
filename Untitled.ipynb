{
 "cells": [
  {
   "cell_type": "code",
   "execution_count": 3,
   "id": "ca4316a2-882d-4384-a3c8-65f8efe01146",
   "metadata": {},
   "outputs": [],
   "source": [
    "import CalculatedFieldSubroutines as cfs"
   ]
  },
  {
   "cell_type": "code",
   "execution_count": 4,
   "id": "27e77759-f4eb-4389-b801-a9b9151d9054",
   "metadata": {},
   "outputs": [
    {
     "name": "stdout",
     "output_type": "stream",
     "text": [
      "['20f0b890-ec64-11ee-b297-3b0ad9d5d6c6', '40706f50-f03b-11ee-b96e-fb353e7798cd', '9df14b4e-f172-11ee-baa6-fb353e7798cd', '88b0613a-d35d-11ee-b437-336917683bb8', '7e3d64da-f12d-11ee-ba68-fb353e7798cd', '39ba7438-d0d5-11ee-9435-f7e542e2436c', 'fa9cba86-f0f0-11ee-ba2a-fb353e7798cd', '7948628e-f20b-11ee-bb0f-fb353e7798cd', 'ba28b352-ec8f-11ee-b297-3b0ad9d5d6c6', '2f95c748-f009-11ee-b966-fb353e7798cd', 'cf6fdf3a-eaa3-11ee-b297-3b0ad9d5d6c6', '65cfbfd6-f396-11ee-bb4e-fb353e7798cd', '57d240d6-ea4d-11ee-b297-3b0ad9d5d6c6', 'cb205756-ec43-11ee-b297-3b0ad9d5d6c6', 'f711e68e-f0e1-11ee-ba1f-fb353e7798cd', '90101c36-a621-11ee-88ec-eb6a8d5269b4', '71a18322-ecab-11ee-b297-3b0ad9d5d6c6', '326699c2-ecd8-11ee-b297-3b0ad9d5d6c6', 'a231c0b0-f142-11ee-ba76-fb353e7798cd', 'a901fe40-f0fd-11ee-ba39-fb353e7798cd', '171c50bc-f106-11ee-ba42-fb353e7798cd', '6d2ea45a-c839-11ee-a7fc-dd032dba19e8', '99b9f446-f1b2-11ee-bad3-fb353e7798cd', 'c59a54e0-f179-11ee-baab-fb353e7798cd', '05c7c824-cab8-11ee-aa4d-1d66adf2f0c7', '75f83e28-eb77-11ee-b297-3b0ad9d5d6c6', '88180f82-ed4f-11ee-9385-ef789ffde1d3', '25641404-cb66-11ee-909c-e1dc60cf66f9', '96f7a614-f549-11ee-8afa-cb629b0d53e6', 'cf831f42-f353-11ee-bb4e-fb353e7798cd', '14b6bc9c-f064-11ee-b998-fb353e7798cd', 'f6ac3c82-a445-11ee-88ec-eb6a8d5269b4', 'f0eebb6a-f0dc-11ee-ba1e-fb353e7798cd', '5c7a9ab2-f13b-11ee-ba72-fb353e7798cd', 'c7c02bda-ebe0-11ee-b297-3b0ad9d5d6c6', 'f8fd0fd8-f243-11ee-bb3f-fb353e7798cd', '9798fe24-f143-11ee-ba78-fb353e7798cd', '4c88757c-f157-11ee-ba89-fb353e7798cd', 'b224ef9c-ec10-11ee-b297-3b0ad9d5d6c6', 'c335d84c-a45c-11ee-88ec-eb6a8d5269b4', '60546ef4-edaa-11ee-9385-ef789ffde1d3', 'ce6465b6-f51b-11ee-8afa-cb629b0d53e6', '3d2d29ec-ef95-11ee-b966-fb353e7798cd', 'd3698592-ef9d-11ee-b966-fb353e7798cd', 'ba87f3ec-f07e-11ee-b9b4-fb353e7798cd', '853ef120-cad3-11ee-909c-e1dc60cf66f9', '59c189d8-ed54-11ee-9385-ef789ffde1d3', 'af10e22a-ebb1-11ee-b297-3b0ad9d5d6c6', '58d78342-f24a-11ee-bb45-fb353e7798cd', 'de493be2-f10f-11ee-ba4b-fb353e7798cd', '9830d896-d2dc-11ee-b437-336917683bb8', 'be857244-efc0-11ee-b966-fb353e7798cd', 'f43b6a70-f01e-11ee-b966-fb353e7798cd', '5976b77a-a504-11ee-88ec-eb6a8d5269b4', 'fcc6fcd2-f013-11ee-b966-fb353e7798cd', '848e44a6-f134-11ee-ba6d-fb353e7798cd', '3d8020aa-cb7f-11ee-909c-e1dc60cf66f9', 'c0624e24-d9aa-11ee-a158-97f8443fd730', '8b6a6cfc-ed6d-11ee-9385-ef789ffde1d3', 'c4fca7bc-f18e-11ee-bab8-fb353e7798cd', 'e2079a78-dc1d-11ee-a158-97f8443fd730', '3a2a78cc-db21-11ee-a158-97f8443fd730', 'feaf2ba8-d28d-11ee-b437-336917683bb8', 'c4146d46-f074-11ee-b9ac-fb353e7798cd', 'aa86a660-dc05-11ee-a158-97f8443fd730', 'e6d7d384-db40-11ee-a158-97f8443fd730', 'e7b934a8-ef1a-11ee-9385-ef789ffde1d3', 'ed7f2038-ea1e-11ee-b297-3b0ad9d5d6c6', 'fe0395f0-f1ea-11ee-baf9-fb353e7798cd', '04151804-ec20-11ee-b297-3b0ad9d5d6c6', '271fee10-cb8b-11ee-909c-e1dc60cf66f9', '5fc763f6-f1ab-11ee-bacd-fb353e7798cd', 'b3ee0dd8-f0d7-11ee-ba18-fb353e7798cd', '64bbe8e0-eb94-11ee-b297-3b0ad9d5d6c6', 'a08a8c7e-f1fb-11ee-bb05-fb353e7798cd', '64737d98-d312-11ee-b437-336917683bb8', '7f824ea2-f05e-11ee-b993-fb353e7798cd', 'dc39aa14-db32-11ee-a158-97f8443fd730', '96ceec56-f1cf-11ee-bae4-fb353e7798cd', '61b12e7a-f234-11ee-bb33-fb353e7798cd', '0f3cdf60-f1f6-11ee-bb00-fb353e7798cd', 'f671c05c-a5e4-11ee-88ec-eb6a8d5269b4', '53fad09e-f0f7-11ee-ba2f-fb353e7798cd', 'de933de8-f112-11ee-ba4d-fb353e7798cd', 'd94ef300-ed60-11ee-9385-ef789ffde1d3', 'f570c51c-f15d-11ee-ba91-fb353e7798cd', '8dbbbf1c-f0ef-11ee-ba29-fb353e7798cd', '20cbfe8c-ea2b-11ee-b297-3b0ad9d5d6c6', '58263e34-a45c-11ee-88ec-eb6a8d5269b4', 'e9d67bf2-ec35-11ee-b297-3b0ad9d5d6c6', 'f9d62032-db2a-11ee-a158-97f8443fd730', '82d39c74-ea59-11ee-b297-3b0ad9d5d6c6', 'fe973c9c-f53c-11ee-8afa-cb629b0d53e6', 'ecebb942-f162-11ee-ba97-fb353e7798cd', '7228e03a-ebf0-11ee-b297-3b0ad9d5d6c6', '25d3bdc8-ecbc-11ee-b297-3b0ad9d5d6c6', 'cbdc93f4-f255-11ee-bb4e-fb353e7798cd', 'f755cf60-f132-11ee-ba6d-fb353e7798cd', 'd24820c8-f197-11ee-babe-fb353e7798cd', 'd7cb9c92-f164-11ee-ba97-fb353e7798cd', 'fc119dfc-eb67-11ee-b297-3b0ad9d5d6c6', 'dd72fdec-f0cf-11ee-ba0d-fb353e7798cd', 'c9023e32-ed90-11ee-9385-ef789ffde1d3', '286e019a-f204-11ee-bb07-fb353e7798cd', '7a22a34c-f1f0-11ee-bafe-fb353e7798cd', '41b67a28-f52f-11ee-8afa-cb629b0d53e6', 'c0555ef0-f50f-11ee-8afa-cb629b0d53e6', 'd454c586-f11c-11ee-ba55-fb353e7798cd', '64875cc0-d054-11ee-9435-f7e542e2436c', '5fcc4fd8-ea71-11ee-b297-3b0ad9d5d6c6', '72a03d4a-efe9-11ee-b966-fb353e7798cd', '837fc882-cb5a-11ee-909c-e1dc60cf66f9', '8e5c4fc2-f149-11ee-ba7f-fb353e7798cd', 'd1d090d4-ea7c-11ee-b297-3b0ad9d5d6c6', 'c2f54552-f06f-11ee-b9a9-fb353e7798cd', '457dc5ee-f02a-11ee-b966-fb353e7798cd', '559495ca-d270-11ee-b437-336917683bb8', '43abeb00-f206-11ee-bb07-fb353e7798cd', '21376e38-ec01-11ee-b297-3b0ad9d5d6c6', '3151e9e2-eff3-11ee-b966-fb353e7798cd', 'c25271be-f3a4-11ee-bb4e-fb353e7798cd', '25135418-f250-11ee-bb4a-fb353e7798cd', '2a61b8a8-f528-11ee-8afa-cb629b0d53e6', '01e65360-efd4-11ee-b966-fb353e7798cd', 'f9c5e53e-f0ea-11ee-ba28-fb353e7798cd', 'b76f33be-ea61-11ee-b297-3b0ad9d5d6c6', '3ea96640-ea37-11ee-b297-3b0ad9d5d6c6', '1bbbfbae-c839-11ee-a7fc-dd032dba19e8', 'f0bcec4e-ed3e-11ee-9385-ef789ffde1d3', '4cf81634-f238-11ee-bb34-fb353e7798cd', '17876fec-ea66-11ee-b297-3b0ad9d5d6c6', 'e269948a-ed9d-11ee-9385-ef789ffde1d3', 'a17c1280-ea10-11ee-b297-3b0ad9d5d6c6', 'f41cbd44-eff8-11ee-b966-fb353e7798cd', 'aa5dbcd2-ef10-11ee-9385-ef789ffde1d3', '84d96f18-f214-11ee-bb13-fb353e7798cd', '530de03a-ed79-11ee-9385-ef789ffde1d3', 'd846a080-f115-11ee-ba51-fb353e7798cd', '68c289fa-dbd4-11ee-a158-97f8443fd730', '1c74d294-f1e4-11ee-baf0-fb353e7798cd', '94c53148-eeed-11ee-9385-ef789ffde1d3', '88a68dd8-eef9-11ee-9385-ef789ffde1d3', '3c415ade-d353-11ee-b437-336917683bb8', '0f4f0a06-ea98-11ee-b297-3b0ad9d5d6c6', '7613801a-edcb-11ee-9385-ef789ffde1d3', '8adb6498-f04d-11ee-b981-fb353e7798cd', '85b6e70e-ef7a-11ee-b966-fb353e7798cd', 'de226278-f25a-11ee-bb4e-fb353e7798cd', '1b6aca0e-efdf-11ee-b966-fb353e7798cd', 'c14299be-f180-11ee-bab0-fb353e7798cd', '76683d3c-db18-11ee-a158-97f8443fd730', '870cfd32-f1b9-11ee-bad5-fb353e7798cd', '80340ab8-d054-11ee-9435-f7e542e2436c', '6d62da08-ec9d-11ee-b297-3b0ad9d5d6c6', '8fa6fe80-c869-11ee-a7fc-dd032dba19e8', '3ed4aa16-f1d6-11ee-bae6-fb353e7798cd', 'df6c3fb4-f200-11ee-bb07-fb353e7798cd', '5f7ce340-f1c8-11ee-bae0-fb353e7798cd', '51ef6da6-ca9f-11ee-909c-e1dc60cf66f9', '9189a2a8-f121-11ee-ba5b-fb353e7798cd', '8347b862-efad-11ee-b966-fb353e7798cd', '88dd6fbe-f224-11ee-bb21-fb353e7798cd', 'b31aca98-cb95-11ee-909c-e1dc60cf66f9', 'f12112ba-f1c0-11ee-bada-fb353e7798cd', '7f09f6c6-a5b0-11ee-88ec-eb6a8d5269b4', '6af236d6-d98f-11ee-a158-97f8443fd730', '73bc30cc-f150-11ee-ba84-fb353e7798cd', '3a7dc9a6-f042-11ee-b974-fb353e7798cd', '817d6848-efb6-11ee-b966-fb353e7798cd', '70060810-eb59-11ee-b297-3b0ad9d5d6c6', 'dea29156-f123-11ee-ba5d-fb353e7798cd', '044d976e-f0e5-11ee-ba20-fb353e7798cd', 'fc211bb2-efca-11ee-b966-fb353e7798cd', 'c338788a-d324-11ee-b437-336917683bb8', '961fd9cc-f103-11ee-ba3f-fb353e7798cd', '3d2a80f0-ec81-11ee-b297-3b0ad9d5d6c6', 'bbbd0cc6-f0dc-11ee-ba1e-fb353e7798cd', 'b82476fe-f1f3-11ee-baff-fb353e7798cd', '9736e77c-f187-11ee-bab6-fb353e7798cd', '3343fd3c-eb87-11ee-b297-3b0ad9d5d6c6', '5774dcde-f196-11ee-babe-fb353e7798cd', 'ece2a8be-f047-11ee-b97d-fb353e7798cd', '7cbd932e-f244-11ee-bb3f-fb353e7798cd', '3ec95686-f053-11ee-b988-fb353e7798cd', 'df8e3742-ec54-11ee-b297-3b0ad9d5d6c6', '2462c9d0-eecd-11ee-9385-ef789ffde1d3', '286c70cc-d2f7-11ee-b437-336917683bb8', 'e8a8b2be-edbf-11ee-9385-ef789ffde1d3', 'baf0e4be-bede-11ee-835b-599066b5eb60', '513a670c-eea9-11ee-9385-ef789ffde1d3', '51b74168-f19d-11ee-babf-fb353e7798cd', '3344a3c0-f502-11ee-8afa-cb629b0d53e6', 'bb4d37d4-f109-11ee-ba46-fb353e7798cd', '3441fc36-ecca-11ee-b297-3b0ad9d5d6c6', '2bc6ebb8-a529-11ee-88ec-eb6a8d5269b4', '154fab12-a43f-11ee-88ec-eb6a8d5269b4', 'd21965e6-f0fa-11ee-ba37-fb353e7798cd', 'c9c6856c-d33c-11ee-b437-336917683bb8', '43914d48-ed85-11ee-9385-ef789ffde1d3', 'ba6e1072-9524-11ee-956e-9da2d070324c', '4d0254fc-ec73-11ee-b297-3b0ad9d5d6c6', '2d35c522-eba2-11ee-b297-3b0ad9d5d6c6', '787d9684-d2c2-11ee-b437-336917683bb8', 'd12cd1c4-caec-11ee-909c-e1dc60cf66f9', '43a1a35e-f362-11ee-bb4e-fb353e7798cd', 'cf7148d8-f058-11ee-b98a-fb353e7798cd', 'fd1ab258-efa7-11ee-b966-fb353e7798cd', '3ce8a358-edd8-11ee-9385-ef789ffde1d3', '8437f77a-cab7-11ee-909c-e1dc60cf66f9', '211bdb36-f0da-11ee-ba1b-fb353e7798cd', '868de15e-f3b3-11ee-bb4e-fb353e7798cd', '35518ec4-f153-11ee-ba88-fb353e7798cd', '06cbdbc0-db4d-11ee-a158-97f8443fd730', '8c57e8ac-dbec-11ee-a158-97f8443fd730', 'bf9157f0-f16b-11ee-ba9e-fb353e7798cd', 'c8f54ac0-ebd2-11ee-b297-3b0ad9d5d6c6', '98692fde-f1a4-11ee-bac6-fb353e7798cd', 'acd71bc0-ecf4-11ee-9385-ef789ffde1d3', '25e27b86-f06a-11ee-b9a3-fb353e7798cd', '69ab88ec-dc17-11ee-a158-97f8443fd730', '19b7ebd0-d9b7-11ee-a158-97f8443fd730', '5240e750-ec30-11ee-b297-3b0ad9d5d6c6', 'a6539bd2-cb72-11ee-909c-e1dc60cf66f9', '622bd2e8-f0e4-11ee-ba1f-fb353e7798cd', '7fb7b9c0-c881-11ee-a7fc-dd032dba19e8', 'a7c98b32-ebc2-11ee-b297-3b0ad9d5d6c6', '5afabc8c-f035-11ee-b966-fb353e7798cd', 'c1b320e2-f079-11ee-b9b0-fb353e7798cd', '721a9830-ece6-11ee-b297-3b0ad9d5d6c6', '47561998-d9c3-11ee-a158-97f8443fd730', '04115e66-ea91-11ee-b297-3b0ad9d5d6c6', 'd1a3a310-f091-11ee-b9ce-fb353e7798cd', 'aef91c4a-ede5-11ee-9385-ef789ffde1d3', 'e9a1d768-f23d-11ee-bb39-fb353e7798cd', 'a253145a-d2a6-11ee-b437-336917683bb8', 'c9be2042-f0de-11ee-ba1e-fb353e7798cd', '36663b02-ea87-11ee-b297-3b0ad9d5d6c6', '5f6573ba-ed2f-11ee-9385-ef789ffde1d3', 'ed352100-cba0-11ee-909c-e1dc60cf66f9', 'd62ee6e8-ed02-11ee-9385-ef789ffde1d3', '219f7eb8-ef87-11ee-b966-fb353e7798cd', '8b0593cc-cb4e-11ee-909c-e1dc60cf66f9', 'da853e0c-a10f-11ee-981c-d126ddbe9afa', '236836f6-f1dd-11ee-bae8-fb353e7798cd', '1ee938a2-f172-11ee-baa6-fb353e7798cd', '072ef896-cbac-11ee-909c-e1dc60cf66f9', '5a4bccf4-effe-11ee-b966-fb353e7798cd']\n"
     ]
    }
   ],
   "source": [
    "print(cfs.list_whitelisted_gmIDs())"
   ]
  },
  {
   "cell_type": "code",
   "execution_count": 5,
   "id": "9142b948-a3c3-48d0-b2ca-363cdf48b97c",
   "metadata": {},
   "outputs": [],
   "source": [
    "var = cfs.list_whitelisted_gmIDs()"
   ]
  },
  {
   "cell_type": "code",
   "execution_count": 6,
   "id": "4f72ef0a-18dd-44fb-8161-f9d87fcf634b",
   "metadata": {},
   "outputs": [
    {
     "name": "stdout",
     "output_type": "stream",
     "text": [
      "2f95c748-f009-11ee-b966-fb353e7798cd\n",
      "65cfbfd6-f396-11ee-bb4e-fb353e7798cd\n",
      "f711e68e-f0e1-11ee-ba1f-fb353e7798cd\n",
      "171c50bc-f106-11ee-ba42-fb353e7798cd\n",
      "6d2ea45a-c839-11ee-a7fc-dd032dba19e8\n",
      "05c7c824-cab8-11ee-aa4d-1d66adf2f0c7\n",
      "96f7a614-f549-11ee-8afa-cb629b0d53e6\n",
      "cf831f42-f353-11ee-bb4e-fb353e7798cd\n",
      "f0eebb6a-f0dc-11ee-ba1e-fb353e7798cd\n",
      "9798fe24-f143-11ee-ba78-fb353e7798cd\n",
      "ce6465b6-f51b-11ee-8afa-cb629b0d53e6\n",
      "3d2d29ec-ef95-11ee-b966-fb353e7798cd\n",
      "d3698592-ef9d-11ee-b966-fb353e7798cd\n",
      "853ef120-cad3-11ee-909c-e1dc60cf66f9\n",
      "be857244-efc0-11ee-b966-fb353e7798cd\n",
      "f43b6a70-f01e-11ee-b966-fb353e7798cd\n",
      "fcc6fcd2-f013-11ee-b966-fb353e7798cd\n",
      "e7b934a8-ef1a-11ee-9385-ef789ffde1d3\n",
      "61b12e7a-f234-11ee-bb33-fb353e7798cd\n",
      "de933de8-f112-11ee-ba4d-fb353e7798cd\n",
      "8dbbbf1c-f0ef-11ee-ba29-fb353e7798cd\n",
      "fe973c9c-f53c-11ee-8afa-cb629b0d53e6\n",
      "ecebb942-f162-11ee-ba97-fb353e7798cd\n",
      "f755cf60-f132-11ee-ba6d-fb353e7798cd\n",
      "d24820c8-f197-11ee-babe-fb353e7798cd\n",
      "dd72fdec-f0cf-11ee-ba0d-fb353e7798cd\n",
      "286e019a-f204-11ee-bb07-fb353e7798cd\n",
      "41b67a28-f52f-11ee-8afa-cb629b0d53e6\n",
      "c0555ef0-f50f-11ee-8afa-cb629b0d53e6\n",
      "72a03d4a-efe9-11ee-b966-fb353e7798cd\n",
      "457dc5ee-f02a-11ee-b966-fb353e7798cd\n",
      "3151e9e2-eff3-11ee-b966-fb353e7798cd\n",
      "c25271be-f3a4-11ee-bb4e-fb353e7798cd\n",
      "2a61b8a8-f528-11ee-8afa-cb629b0d53e6\n",
      "01e65360-efd4-11ee-b966-fb353e7798cd\n",
      "1bbbfbae-c839-11ee-a7fc-dd032dba19e8\n",
      "f41cbd44-eff8-11ee-b966-fb353e7798cd\n",
      "aa5dbcd2-ef10-11ee-9385-ef789ffde1d3\n",
      "84d96f18-f214-11ee-bb13-fb353e7798cd\n",
      "94c53148-eeed-11ee-9385-ef789ffde1d3\n",
      "88a68dd8-eef9-11ee-9385-ef789ffde1d3\n",
      "85b6e70e-ef7a-11ee-b966-fb353e7798cd\n",
      "1b6aca0e-efdf-11ee-b966-fb353e7798cd\n",
      "8fa6fe80-c869-11ee-a7fc-dd032dba19e8\n",
      "51ef6da6-ca9f-11ee-909c-e1dc60cf66f9\n",
      "9189a2a8-f121-11ee-ba5b-fb353e7798cd\n",
      "8347b862-efad-11ee-b966-fb353e7798cd\n",
      "88dd6fbe-f224-11ee-bb21-fb353e7798cd\n",
      "817d6848-efb6-11ee-b966-fb353e7798cd\n",
      "fc211bb2-efca-11ee-b966-fb353e7798cd\n",
      "c338788a-d324-11ee-b437-336917683bb8\n",
      "b82476fe-f1f3-11ee-baff-fb353e7798cd\n",
      "7cbd932e-f244-11ee-bb3f-fb353e7798cd\n",
      "2462c9d0-eecd-11ee-9385-ef789ffde1d3\n",
      "3344a3c0-f502-11ee-8afa-cb629b0d53e6\n",
      "d21965e6-f0fa-11ee-ba37-fb353e7798cd\n",
      "c9c6856c-d33c-11ee-b437-336917683bb8\n",
      "d12cd1c4-caec-11ee-909c-e1dc60cf66f9\n",
      "43a1a35e-f362-11ee-bb4e-fb353e7798cd\n",
      "fd1ab258-efa7-11ee-b966-fb353e7798cd\n",
      "8437f77a-cab7-11ee-909c-e1dc60cf66f9\n",
      "211bdb36-f0da-11ee-ba1b-fb353e7798cd\n",
      "868de15e-f3b3-11ee-bb4e-fb353e7798cd\n",
      "35518ec4-f153-11ee-ba88-fb353e7798cd\n",
      "622bd2e8-f0e4-11ee-ba1f-fb353e7798cd\n",
      "7fb7b9c0-c881-11ee-a7fc-dd032dba19e8\n",
      "219f7eb8-ef87-11ee-b966-fb353e7798cd\n",
      "1ee938a2-f172-11ee-baa6-fb353e7798cd\n",
      "5a4bccf4-effe-11ee-b966-fb353e7798cd\n"
     ]
    }
   ],
   "source": [
    "for i in var:\n",
    "    if cfs.give_route(i)==\"Red\":\n",
    "        print(i)\n",
    "        "
   ]
  },
  {
   "cell_type": "code",
   "execution_count": 11,
   "id": "9aced620-c60e-4326-bfeb-d47f91dedee7",
   "metadata": {},
   "outputs": [
    {
     "name": "stdout",
     "output_type": "stream",
     "text": [
      "Total number of Red Route gmIDs: 69\n"
     ]
    }
   ],
   "source": [
    "# Initialize a counter\n",
    "red_route_count = 0\n",
    "\n",
    "# Iterate through the gmIDs\n",
    "for i in var:\n",
    "    if cfs.give_route(i) == \"Red\":\n",
    "        red_route_count += 1\n",
    "\n",
    "# Print the total count\n",
    "print(f\"Total number of Red Route gmIDs: {red_route_count}\")\n"
   ]
  },
  {
   "cell_type": "code",
   "execution_count": 7,
   "id": "4ac17cf5-cb0e-46af-9392-b90c463557f1",
   "metadata": {},
   "outputs": [
    {
     "name": "stdout",
     "output_type": "stream",
     "text": [
      "40706f50-f03b-11ee-b96e-fb353e7798cd\n",
      "9df14b4e-f172-11ee-baa6-fb353e7798cd\n",
      "88b0613a-d35d-11ee-b437-336917683bb8\n",
      "7e3d64da-f12d-11ee-ba68-fb353e7798cd\n",
      "fa9cba86-f0f0-11ee-ba2a-fb353e7798cd\n",
      "7948628e-f20b-11ee-bb0f-fb353e7798cd\n",
      "a231c0b0-f142-11ee-ba76-fb353e7798cd\n",
      "a901fe40-f0fd-11ee-ba39-fb353e7798cd\n",
      "99b9f446-f1b2-11ee-bad3-fb353e7798cd\n",
      "c59a54e0-f179-11ee-baab-fb353e7798cd\n",
      "25641404-cb66-11ee-909c-e1dc60cf66f9\n",
      "14b6bc9c-f064-11ee-b998-fb353e7798cd\n",
      "5c7a9ab2-f13b-11ee-ba72-fb353e7798cd\n",
      "f8fd0fd8-f243-11ee-bb3f-fb353e7798cd\n",
      "4c88757c-f157-11ee-ba89-fb353e7798cd\n",
      "ba87f3ec-f07e-11ee-b9b4-fb353e7798cd\n",
      "58d78342-f24a-11ee-bb45-fb353e7798cd\n",
      "de493be2-f10f-11ee-ba4b-fb353e7798cd\n",
      "848e44a6-f134-11ee-ba6d-fb353e7798cd\n",
      "3d8020aa-cb7f-11ee-909c-e1dc60cf66f9\n",
      "c4fca7bc-f18e-11ee-bab8-fb353e7798cd\n",
      "c4146d46-f074-11ee-b9ac-fb353e7798cd\n",
      "fe0395f0-f1ea-11ee-baf9-fb353e7798cd\n",
      "271fee10-cb8b-11ee-909c-e1dc60cf66f9\n",
      "5fc763f6-f1ab-11ee-bacd-fb353e7798cd\n",
      "b3ee0dd8-f0d7-11ee-ba18-fb353e7798cd\n",
      "a08a8c7e-f1fb-11ee-bb05-fb353e7798cd\n",
      "7f824ea2-f05e-11ee-b993-fb353e7798cd\n",
      "96ceec56-f1cf-11ee-bae4-fb353e7798cd\n",
      "0f3cdf60-f1f6-11ee-bb00-fb353e7798cd\n",
      "53fad09e-f0f7-11ee-ba2f-fb353e7798cd\n",
      "f570c51c-f15d-11ee-ba91-fb353e7798cd\n",
      "cbdc93f4-f255-11ee-bb4e-fb353e7798cd\n",
      "d7cb9c92-f164-11ee-ba97-fb353e7798cd\n",
      "7a22a34c-f1f0-11ee-bafe-fb353e7798cd\n",
      "d454c586-f11c-11ee-ba55-fb353e7798cd\n",
      "837fc882-cb5a-11ee-909c-e1dc60cf66f9\n",
      "8e5c4fc2-f149-11ee-ba7f-fb353e7798cd\n",
      "c2f54552-f06f-11ee-b9a9-fb353e7798cd\n",
      "43abeb00-f206-11ee-bb07-fb353e7798cd\n",
      "25135418-f250-11ee-bb4a-fb353e7798cd\n",
      "f9c5e53e-f0ea-11ee-ba28-fb353e7798cd\n",
      "4cf81634-f238-11ee-bb34-fb353e7798cd\n",
      "d846a080-f115-11ee-ba51-fb353e7798cd\n",
      "1c74d294-f1e4-11ee-baf0-fb353e7798cd\n",
      "3c415ade-d353-11ee-b437-336917683bb8\n",
      "8adb6498-f04d-11ee-b981-fb353e7798cd\n",
      "de226278-f25a-11ee-bb4e-fb353e7798cd\n",
      "c14299be-f180-11ee-bab0-fb353e7798cd\n",
      "870cfd32-f1b9-11ee-bad5-fb353e7798cd\n",
      "3ed4aa16-f1d6-11ee-bae6-fb353e7798cd\n",
      "df6c3fb4-f200-11ee-bb07-fb353e7798cd\n",
      "5f7ce340-f1c8-11ee-bae0-fb353e7798cd\n",
      "b31aca98-cb95-11ee-909c-e1dc60cf66f9\n",
      "f12112ba-f1c0-11ee-bada-fb353e7798cd\n",
      "73bc30cc-f150-11ee-ba84-fb353e7798cd\n",
      "3a7dc9a6-f042-11ee-b974-fb353e7798cd\n",
      "dea29156-f123-11ee-ba5d-fb353e7798cd\n",
      "044d976e-f0e5-11ee-ba20-fb353e7798cd\n",
      "961fd9cc-f103-11ee-ba3f-fb353e7798cd\n",
      "bbbd0cc6-f0dc-11ee-ba1e-fb353e7798cd\n",
      "9736e77c-f187-11ee-bab6-fb353e7798cd\n",
      "5774dcde-f196-11ee-babe-fb353e7798cd\n",
      "ece2a8be-f047-11ee-b97d-fb353e7798cd\n",
      "3ec95686-f053-11ee-b988-fb353e7798cd\n",
      "51b74168-f19d-11ee-babf-fb353e7798cd\n",
      "bb4d37d4-f109-11ee-ba46-fb353e7798cd\n",
      "cf7148d8-f058-11ee-b98a-fb353e7798cd\n",
      "bf9157f0-f16b-11ee-ba9e-fb353e7798cd\n",
      "98692fde-f1a4-11ee-bac6-fb353e7798cd\n",
      "25e27b86-f06a-11ee-b9a3-fb353e7798cd\n",
      "a6539bd2-cb72-11ee-909c-e1dc60cf66f9\n",
      "5afabc8c-f035-11ee-b966-fb353e7798cd\n",
      "c1b320e2-f079-11ee-b9b0-fb353e7798cd\n",
      "d1a3a310-f091-11ee-b9ce-fb353e7798cd\n",
      "e9a1d768-f23d-11ee-bb39-fb353e7798cd\n",
      "c9be2042-f0de-11ee-ba1e-fb353e7798cd\n",
      "ed352100-cba0-11ee-909c-e1dc60cf66f9\n",
      "8b0593cc-cb4e-11ee-909c-e1dc60cf66f9\n",
      "236836f6-f1dd-11ee-bae8-fb353e7798cd\n",
      "072ef896-cbac-11ee-909c-e1dc60cf66f9\n"
     ]
    }
   ],
   "source": [
    "for i in var:\n",
    "    if cfs.give_route(i)==\"Green\":\n",
    "        print(i)"
   ]
  },
  {
   "cell_type": "code",
   "execution_count": 10,
   "id": "26dc04b3-be84-49f8-9703-e5a31edbf8a1",
   "metadata": {},
   "outputs": [
    {
     "name": "stdout",
     "output_type": "stream",
     "text": [
      "Total number of Green Route gmIDs: 81\n"
     ]
    }
   ],
   "source": [
    "# Initialize a counter\n",
    "green_route_count = 0\n",
    "\n",
    "# Iterate through the gmIDs\n",
    "for i in var:\n",
    "    if cfs.give_route(i) == \"Green\":\n",
    "        green_route_count += 1\n",
    "\n",
    "# Print the total count\n",
    "print(f\"Total number of Green Route gmIDs: {green_route_count}\")"
   ]
  },
  {
   "cell_type": "code",
   "execution_count": 8,
   "id": "eb0106c9-11eb-4060-ba68-f2704810e8ad",
   "metadata": {},
   "outputs": [
    {
     "name": "stdout",
     "output_type": "stream",
     "text": [
      "20f0b890-ec64-11ee-b297-3b0ad9d5d6c6\n",
      "39ba7438-d0d5-11ee-9435-f7e542e2436c\n",
      "ba28b352-ec8f-11ee-b297-3b0ad9d5d6c6\n",
      "cf6fdf3a-eaa3-11ee-b297-3b0ad9d5d6c6\n",
      "57d240d6-ea4d-11ee-b297-3b0ad9d5d6c6\n",
      "cb205756-ec43-11ee-b297-3b0ad9d5d6c6\n",
      "90101c36-a621-11ee-88ec-eb6a8d5269b4\n",
      "71a18322-ecab-11ee-b297-3b0ad9d5d6c6\n",
      "326699c2-ecd8-11ee-b297-3b0ad9d5d6c6\n",
      "75f83e28-eb77-11ee-b297-3b0ad9d5d6c6\n",
      "88180f82-ed4f-11ee-9385-ef789ffde1d3\n",
      "f6ac3c82-a445-11ee-88ec-eb6a8d5269b4\n",
      "c7c02bda-ebe0-11ee-b297-3b0ad9d5d6c6\n",
      "b224ef9c-ec10-11ee-b297-3b0ad9d5d6c6\n",
      "c335d84c-a45c-11ee-88ec-eb6a8d5269b4\n",
      "60546ef4-edaa-11ee-9385-ef789ffde1d3\n",
      "59c189d8-ed54-11ee-9385-ef789ffde1d3\n",
      "af10e22a-ebb1-11ee-b297-3b0ad9d5d6c6\n",
      "9830d896-d2dc-11ee-b437-336917683bb8\n",
      "5976b77a-a504-11ee-88ec-eb6a8d5269b4\n",
      "c0624e24-d9aa-11ee-a158-97f8443fd730\n",
      "8b6a6cfc-ed6d-11ee-9385-ef789ffde1d3\n",
      "e2079a78-dc1d-11ee-a158-97f8443fd730\n",
      "3a2a78cc-db21-11ee-a158-97f8443fd730\n",
      "feaf2ba8-d28d-11ee-b437-336917683bb8\n",
      "aa86a660-dc05-11ee-a158-97f8443fd730\n",
      "e6d7d384-db40-11ee-a158-97f8443fd730\n",
      "ed7f2038-ea1e-11ee-b297-3b0ad9d5d6c6\n",
      "04151804-ec20-11ee-b297-3b0ad9d5d6c6\n",
      "64bbe8e0-eb94-11ee-b297-3b0ad9d5d6c6\n",
      "64737d98-d312-11ee-b437-336917683bb8\n",
      "dc39aa14-db32-11ee-a158-97f8443fd730\n",
      "f671c05c-a5e4-11ee-88ec-eb6a8d5269b4\n",
      "d94ef300-ed60-11ee-9385-ef789ffde1d3\n",
      "20cbfe8c-ea2b-11ee-b297-3b0ad9d5d6c6\n",
      "58263e34-a45c-11ee-88ec-eb6a8d5269b4\n",
      "e9d67bf2-ec35-11ee-b297-3b0ad9d5d6c6\n",
      "f9d62032-db2a-11ee-a158-97f8443fd730\n",
      "82d39c74-ea59-11ee-b297-3b0ad9d5d6c6\n",
      "7228e03a-ebf0-11ee-b297-3b0ad9d5d6c6\n",
      "25d3bdc8-ecbc-11ee-b297-3b0ad9d5d6c6\n",
      "fc119dfc-eb67-11ee-b297-3b0ad9d5d6c6\n",
      "c9023e32-ed90-11ee-9385-ef789ffde1d3\n",
      "64875cc0-d054-11ee-9435-f7e542e2436c\n",
      "5fcc4fd8-ea71-11ee-b297-3b0ad9d5d6c6\n",
      "d1d090d4-ea7c-11ee-b297-3b0ad9d5d6c6\n",
      "559495ca-d270-11ee-b437-336917683bb8\n",
      "21376e38-ec01-11ee-b297-3b0ad9d5d6c6\n",
      "b76f33be-ea61-11ee-b297-3b0ad9d5d6c6\n",
      "3ea96640-ea37-11ee-b297-3b0ad9d5d6c6\n",
      "f0bcec4e-ed3e-11ee-9385-ef789ffde1d3\n",
      "17876fec-ea66-11ee-b297-3b0ad9d5d6c6\n",
      "e269948a-ed9d-11ee-9385-ef789ffde1d3\n",
      "a17c1280-ea10-11ee-b297-3b0ad9d5d6c6\n",
      "530de03a-ed79-11ee-9385-ef789ffde1d3\n",
      "68c289fa-dbd4-11ee-a158-97f8443fd730\n",
      "0f4f0a06-ea98-11ee-b297-3b0ad9d5d6c6\n",
      "7613801a-edcb-11ee-9385-ef789ffde1d3\n",
      "76683d3c-db18-11ee-a158-97f8443fd730\n",
      "80340ab8-d054-11ee-9435-f7e542e2436c\n",
      "6d62da08-ec9d-11ee-b297-3b0ad9d5d6c6\n",
      "7f09f6c6-a5b0-11ee-88ec-eb6a8d5269b4\n",
      "6af236d6-d98f-11ee-a158-97f8443fd730\n",
      "70060810-eb59-11ee-b297-3b0ad9d5d6c6\n",
      "3d2a80f0-ec81-11ee-b297-3b0ad9d5d6c6\n",
      "3343fd3c-eb87-11ee-b297-3b0ad9d5d6c6\n",
      "df8e3742-ec54-11ee-b297-3b0ad9d5d6c6\n",
      "286c70cc-d2f7-11ee-b437-336917683bb8\n",
      "e8a8b2be-edbf-11ee-9385-ef789ffde1d3\n",
      "baf0e4be-bede-11ee-835b-599066b5eb60\n",
      "513a670c-eea9-11ee-9385-ef789ffde1d3\n",
      "3441fc36-ecca-11ee-b297-3b0ad9d5d6c6\n",
      "2bc6ebb8-a529-11ee-88ec-eb6a8d5269b4\n",
      "154fab12-a43f-11ee-88ec-eb6a8d5269b4\n",
      "43914d48-ed85-11ee-9385-ef789ffde1d3\n",
      "ba6e1072-9524-11ee-956e-9da2d070324c\n",
      "4d0254fc-ec73-11ee-b297-3b0ad9d5d6c6\n",
      "2d35c522-eba2-11ee-b297-3b0ad9d5d6c6\n",
      "787d9684-d2c2-11ee-b437-336917683bb8\n",
      "3ce8a358-edd8-11ee-9385-ef789ffde1d3\n",
      "06cbdbc0-db4d-11ee-a158-97f8443fd730\n",
      "8c57e8ac-dbec-11ee-a158-97f8443fd730\n",
      "c8f54ac0-ebd2-11ee-b297-3b0ad9d5d6c6\n",
      "acd71bc0-ecf4-11ee-9385-ef789ffde1d3\n",
      "69ab88ec-dc17-11ee-a158-97f8443fd730\n",
      "19b7ebd0-d9b7-11ee-a158-97f8443fd730\n",
      "5240e750-ec30-11ee-b297-3b0ad9d5d6c6\n",
      "a7c98b32-ebc2-11ee-b297-3b0ad9d5d6c6\n",
      "721a9830-ece6-11ee-b297-3b0ad9d5d6c6\n",
      "47561998-d9c3-11ee-a158-97f8443fd730\n",
      "04115e66-ea91-11ee-b297-3b0ad9d5d6c6\n",
      "aef91c4a-ede5-11ee-9385-ef789ffde1d3\n",
      "a253145a-d2a6-11ee-b437-336917683bb8\n",
      "36663b02-ea87-11ee-b297-3b0ad9d5d6c6\n",
      "5f6573ba-ed2f-11ee-9385-ef789ffde1d3\n",
      "d62ee6e8-ed02-11ee-9385-ef789ffde1d3\n",
      "da853e0c-a10f-11ee-981c-d126ddbe9afa\n"
     ]
    }
   ],
   "source": [
    "for i in var:\n",
    "    if cfs.give_route(i)==\"Blue\":\n",
    "        print(i)"
   ]
  },
  {
   "cell_type": "code",
   "execution_count": 9,
   "id": "f352214f-0104-4471-9c5d-c2e74fe291ae",
   "metadata": {},
   "outputs": [
    {
     "name": "stdout",
     "output_type": "stream",
     "text": [
      "Total number of Blue Route gmIDs: 97\n"
     ]
    }
   ],
   "source": [
    "# Initialize a counter\n",
    "blue_route_count = 0\n",
    "\n",
    "# Iterate through the gmIDs\n",
    "for i in var:\n",
    "    if cfs.give_route(i) == \"Blue\":\n",
    "        blue_route_count += 1\n",
    "\n",
    "# Print the total count\n",
    "print(f\"Total number of Blue Route gmIDs: {blue_route_count}\")"
   ]
  },
  {
   "cell_type": "code",
   "execution_count": null,
   "id": "785f68ca-66d1-4211-9528-da3d81901738",
   "metadata": {},
   "outputs": [],
   "source": []
  }
 ],
 "metadata": {
  "kernelspec": {
   "display_name": "Python 3 (ipykernel)",
   "language": "python",
   "name": "python3"
  },
  "language_info": {
   "codemirror_mode": {
    "name": "ipython",
    "version": 3
   },
   "file_extension": ".py",
   "mimetype": "text/x-python",
   "name": "python",
   "nbconvert_exporter": "python",
   "pygments_lexer": "ipython3",
   "version": "3.10.12"
  }
 },
 "nbformat": 4,
 "nbformat_minor": 5
}
