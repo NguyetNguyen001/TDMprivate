{
 "cells": [
  {
   "cell_type": "code",
   "execution_count": 1,
   "id": "2a9fa1ad-b945-4088-9e97-e517a082c3b8",
   "metadata": {},
   "outputs": [],
   "source": [
    "%load_ext rpy2.ipython"
   ]
  },
  {
   "cell_type": "code",
   "execution_count": 2,
   "id": "66d0520e-4091-49d2-8d26-23f980322578",
   "metadata": {},
   "outputs": [
    {
     "data": {
      "text/plain": [
       "\n",
       "Attaching package: ‘dplyr’\n",
       "\n",
       "The following objects are masked from ‘package:stats’:\n",
       "\n",
       "    filter, lag\n",
       "\n",
       "The following objects are masked from ‘package:base’:\n",
       "\n",
       "    intersect, setdiff, setequal, union\n",
       "\n",
       "Loading required package: lattice\n",
       "Type 'citation(\"pROC\")' for a citation.\n",
       "\n",
       "Attaching package: ‘pROC’\n",
       "\n",
       "The following objects are masked from ‘package:stats’:\n",
       "\n",
       "    cov, smooth, var\n",
       "\n",
       "Loaded ROSE 0.0-4\n",
       "\n",
       "Loading required package: Matrix\n",
       "Loaded glmnet 4.1-8\n",
       "In addition: Warning message:\n",
       "In (function (package, help, pos = 2, lib.loc = NULL, character.only = FALSE,  :\n",
       "  libraries ‘/usr/local/lib/R/site-library’, ‘/usr/lib/R/site-library’ contain no packages\n"
      ]
     },
     "metadata": {},
     "output_type": "display_data"
    }
   ],
   "source": [
    "%%R\n",
    "\n",
    "#install.packages(\"tibble\")\n",
    "#install.packages(\"dplyr\")\n",
    "#install.packages(ggplot2)\n",
    "#install.packages(\"caret\")\n",
    "#install.packages(\"glmnet\")\n",
    "\n",
    "library(tibble)\n",
    "library(dplyr)\n",
    "library(ggplot2)\n",
    "library(caret)\n",
    "library(pROC)\n",
    "library(ROSE)\n",
    "library(glmnet)"
   ]
  },
  {
   "cell_type": "code",
   "execution_count": 3,
   "id": "362b7d85-7dd7-44ca-bde9-0ca044470431",
   "metadata": {},
   "outputs": [
    {
     "name": "stdout",
     "output_type": "stream",
     "text": [
      "[1] \"51ef6da6-ca9f-11ee-909c-e1dc60cf66f9\"\n",
      "[2] \"d12cd1c4-caec-11ee-909c-e1dc60cf66f9\"\n",
      "[3] \"6d2ea45a-c839-11ee-a7fc-dd032dba19e8\"\n",
      "[4] \"c9c6856c-d33c-11ee-b437-336917683bb8\"\n",
      "[5] \"7fb7b9c0-c881-11ee-a7fc-dd032dba19e8\"\n",
      "[6] \"8437f77a-cab7-11ee-909c-e1dc60cf66f9\"\n",
      "[7] \"c338788a-d324-11ee-b437-336917683bb8\"\n",
      "[8] \"853ef120-cad3-11ee-909c-e1dc60cf66f9\"\n",
      "[9] \"8fa6fe80-c869-11ee-a7fc-dd032dba19e8\"\n"
     ]
    }
   ],
   "source": [
    "%%R\n",
    "\n",
    "#Listing all selected gmIDs\n",
    "gmIDs <- c(\n",
    "    \"51ef6da6-ca9f-11ee-909c-e1dc60cf66f9\",\n",
    "    \"d12cd1c4-caec-11ee-909c-e1dc60cf66f9\",\n",
    "    \"6d2ea45a-c839-11ee-a7fc-dd032dba19e8\",\n",
    "    \"c9c6856c-d33c-11ee-b437-336917683bb8\",\n",
    "    \"7fb7b9c0-c881-11ee-a7fc-dd032dba19e8\",\n",
    "    \"8437f77a-cab7-11ee-909c-e1dc60cf66f9\",\n",
    "    \"c338788a-d324-11ee-b437-336917683bb8\",\n",
    "    \"853ef120-cad3-11ee-909c-e1dc60cf66f9\",\n",
    "    \"8fa6fe80-c869-11ee-a7fc-dd032dba19e8\"\n",
    "           )\n",
    "print(gmIDs)"
   ]
  },
  {
   "cell_type": "code",
   "execution_count": 4,
   "id": "33d6df3a-3a6d-488c-9625-e2652331f277",
   "metadata": {},
   "outputs": [],
   "source": [
    "%%R\n",
    "#Initialize a data frame to store results\n",
    "results <- data.frame(\n",
    "    Train_Run = character(),\n",
    "    Test_Run = character(), \n",
    "    Accuracy = numeric(),\n",
    "    Precision = numeric(),\n",
    "    Recall = numeric(),\n",
    "    stringsAsFactors = FALSE\n",
    ")"
   ]
  },
  {
   "cell_type": "code",
   "execution_count": 6,
   "id": "0dbca88f-6371-4792-bbef-afb8be4d3bf1",
   "metadata": {},
   "outputs": [],
   "source": [
    "%%R\n",
    "\n",
    "# Function: Binary Driving Mode\n",
    "binary_driving_mode <- function (df_chassis) {\n",
    "  ifelse(df_chassis$drivingMode == \"COMPLETE_AUTO_DRIVE\", 1, 0)\n",
    "}\n"
   ]
  },
  {
   "cell_type": "code",
   "execution_count": 7,
   "id": "8b55806d-af8d-416c-9f05-b23b64976072",
   "metadata": {},
   "outputs": [
    {
     "ename": "RParsingError",
     "evalue": "Parsing status not OK - PARSING_STATUS.PARSE_INCOMPLETE",
     "output_type": "error",
     "traceback": [
      "\u001b[0;31m---------------------------------------------------------------------------\u001b[0m",
      "\u001b[0;31mRParsingError\u001b[0m                             Traceback (most recent call last)",
      "Cell \u001b[0;32mIn[7], line 1\u001b[0m\n\u001b[0;32m----> 1\u001b[0m \u001b[43mget_ipython\u001b[49m\u001b[43m(\u001b[49m\u001b[43m)\u001b[49m\u001b[38;5;241;43m.\u001b[39;49m\u001b[43mrun_cell_magic\u001b[49m\u001b[43m(\u001b[49m\u001b[38;5;124;43m'\u001b[39;49m\u001b[38;5;124;43mR\u001b[39;49m\u001b[38;5;124;43m'\u001b[39;49m\u001b[43m,\u001b[49m\u001b[43m \u001b[49m\u001b[38;5;124;43m'\u001b[39;49m\u001b[38;5;124;43m'\u001b[39;49m\u001b[43m,\u001b[49m\u001b[43m \u001b[49m\u001b[38;5;124;43m'\u001b[39;49m\u001b[38;5;124;43m# Function: Merge chassis and pose data\u001b[39;49m\u001b[38;5;130;43;01m\\n\u001b[39;49;00m\u001b[38;5;124;43mmerge_chassis_pose <- function(df_chassis, df_pose) \u001b[39;49m\u001b[38;5;124;43m{\u001b[39;49m\u001b[38;5;130;43;01m\\n\u001b[39;49;00m\u001b[38;5;124;43m    \u001b[39;49m\u001b[38;5;130;43;01m\\n\u001b[39;49;00m\u001b[38;5;124;43m    df_chassis <- df_chassis[order(df_chassis$time), ]\u001b[39;49m\u001b[38;5;130;43;01m\\n\u001b[39;49;00m\u001b[38;5;124;43m    df_pose <- df_pose[order(df_pose$time), ]\u001b[39;49m\u001b[38;5;130;43;01m\\n\u001b[39;49;00m\u001b[38;5;124;43m    df_chassis$matched <- df_pose$time[match(df_chassis$time, df_pose$time)]\u001b[39;49m\u001b[38;5;130;43;01m\\n\u001b[39;49;00m\u001b[38;5;124;43m    return(list(df_chassis = df_chassis, df_pose = df_pose))\u001b[39;49m\u001b[38;5;130;43;01m\\n\u001b[39;49;00m\u001b[38;5;124;43m'\u001b[39;49m\u001b[43m)\u001b[49m\n",
      "File \u001b[0;32m~/.local/lib/python3.10/site-packages/IPython/core/interactiveshell.py:2541\u001b[0m, in \u001b[0;36mInteractiveShell.run_cell_magic\u001b[0;34m(self, magic_name, line, cell)\u001b[0m\n\u001b[1;32m   2539\u001b[0m \u001b[38;5;28;01mwith\u001b[39;00m \u001b[38;5;28mself\u001b[39m\u001b[38;5;241m.\u001b[39mbuiltin_trap:\n\u001b[1;32m   2540\u001b[0m     args \u001b[38;5;241m=\u001b[39m (magic_arg_s, cell)\n\u001b[0;32m-> 2541\u001b[0m     result \u001b[38;5;241m=\u001b[39m \u001b[43mfn\u001b[49m\u001b[43m(\u001b[49m\u001b[38;5;241;43m*\u001b[39;49m\u001b[43margs\u001b[49m\u001b[43m,\u001b[49m\u001b[43m \u001b[49m\u001b[38;5;241;43m*\u001b[39;49m\u001b[38;5;241;43m*\u001b[39;49m\u001b[43mkwargs\u001b[49m\u001b[43m)\u001b[49m\n\u001b[1;32m   2543\u001b[0m \u001b[38;5;66;03m# The code below prevents the output from being displayed\u001b[39;00m\n\u001b[1;32m   2544\u001b[0m \u001b[38;5;66;03m# when using magics with decorator @output_can_be_silenced\u001b[39;00m\n\u001b[1;32m   2545\u001b[0m \u001b[38;5;66;03m# when the last Python token in the expression is a ';'.\u001b[39;00m\n\u001b[1;32m   2546\u001b[0m \u001b[38;5;28;01mif\u001b[39;00m \u001b[38;5;28mgetattr\u001b[39m(fn, magic\u001b[38;5;241m.\u001b[39mMAGIC_OUTPUT_CAN_BE_SILENCED, \u001b[38;5;28;01mFalse\u001b[39;00m):\n",
      "File \u001b[0;32m~/.local/lib/python3.10/site-packages/rpy2/ipython/rmagic.py:949\u001b[0m, in \u001b[0;36mRMagics.R\u001b[0;34m(self, line, cell, local_ns)\u001b[0m\n\u001b[1;32m    947\u001b[0m         return_output \u001b[38;5;241m=\u001b[39m \u001b[38;5;28;01mFalse\u001b[39;00m\n\u001b[1;32m    948\u001b[0m \u001b[38;5;28;01melse\u001b[39;00m:\n\u001b[0;32m--> 949\u001b[0m     text_result, result, visible \u001b[38;5;241m=\u001b[39m \u001b[38;5;28;43mself\u001b[39;49m\u001b[38;5;241;43m.\u001b[39;49m\u001b[43meval\u001b[49m\u001b[43m(\u001b[49m\u001b[43mcode\u001b[49m\u001b[43m)\u001b[49m\n\u001b[1;32m    950\u001b[0m     text_output \u001b[38;5;241m+\u001b[39m\u001b[38;5;241m=\u001b[39m text_result\n\u001b[1;32m    951\u001b[0m     \u001b[38;5;28;01mif\u001b[39;00m visible:\n",
      "File \u001b[0;32m~/.local/lib/python3.10/site-packages/rpy2/ipython/rmagic.py:406\u001b[0m, in \u001b[0;36mRMagics.eval\u001b[0;34m(self, code)\u001b[0m\n\u001b[1;32m    398\u001b[0m stack\u001b[38;5;241m.\u001b[39menter_context(\n\u001b[1;32m    399\u001b[0m     obj_in_module(\n\u001b[1;32m    400\u001b[0m         rpy2\u001b[38;5;241m.\u001b[39mrinterface_lib\u001b[38;5;241m.\u001b[39mcallbacks,\n\u001b[1;32m    401\u001b[0m         \u001b[38;5;124m'\u001b[39m\u001b[38;5;124m_WRITECONSOLE_EXCEPTION_LOG\u001b[39m\u001b[38;5;124m'\u001b[39m,\n\u001b[1;32m    402\u001b[0m         \u001b[38;5;124m'\u001b[39m\u001b[38;5;132;01m%s\u001b[39;00m\u001b[38;5;124m'\u001b[39m)\n\u001b[1;32m    403\u001b[0m )\n\u001b[1;32m    404\u001b[0m \u001b[38;5;28;01mtry\u001b[39;00m:\n\u001b[1;32m    405\u001b[0m     \u001b[38;5;66;03m# Need the newline in case the last line in code is a comment.\u001b[39;00m\n\u001b[0;32m--> 406\u001b[0m     r_expr \u001b[38;5;241m=\u001b[39m \u001b[43mri\u001b[49m\u001b[38;5;241;43m.\u001b[39;49m\u001b[43mparse\u001b[49m\u001b[43m(\u001b[49m\u001b[43mcode\u001b[49m\u001b[43m)\u001b[49m\n\u001b[1;32m    407\u001b[0m     value, visible \u001b[38;5;241m=\u001b[39m ri\u001b[38;5;241m.\u001b[39mevalr_expr_with_visible(\n\u001b[1;32m    408\u001b[0m         r_expr\n\u001b[1;32m    409\u001b[0m     )\n\u001b[1;32m    410\u001b[0m \u001b[38;5;28;01mexcept\u001b[39;00m (ri\u001b[38;5;241m.\u001b[39membedded\u001b[38;5;241m.\u001b[39mRRuntimeError, \u001b[38;5;167;01mValueError\u001b[39;00m) \u001b[38;5;28;01mas\u001b[39;00m exception:\n\u001b[1;32m    411\u001b[0m     \u001b[38;5;66;03m# Otherwise next return seems to have copy of error.\u001b[39;00m\n",
      "File \u001b[0;32m~/.local/lib/python3.10/site-packages/rpy2/rinterface_lib/conversion.py:45\u001b[0m, in \u001b[0;36m_cdata_res_to_rinterface.<locals>._\u001b[0;34m(*args, **kwargs)\u001b[0m\n\u001b[1;32m     44\u001b[0m \u001b[38;5;28;01mdef\u001b[39;00m \u001b[38;5;21m_\u001b[39m(\u001b[38;5;241m*\u001b[39margs, \u001b[38;5;241m*\u001b[39m\u001b[38;5;241m*\u001b[39mkwargs):\n\u001b[0;32m---> 45\u001b[0m     cdata \u001b[38;5;241m=\u001b[39m \u001b[43mfunction\u001b[49m\u001b[43m(\u001b[49m\u001b[38;5;241;43m*\u001b[39;49m\u001b[43margs\u001b[49m\u001b[43m,\u001b[49m\u001b[43m \u001b[49m\u001b[38;5;241;43m*\u001b[39;49m\u001b[38;5;241;43m*\u001b[39;49m\u001b[43mkwargs\u001b[49m\u001b[43m)\u001b[49m\n\u001b[1;32m     46\u001b[0m     \u001b[38;5;66;03m# TODO: test cdata is of the expected CType\u001b[39;00m\n\u001b[1;32m     47\u001b[0m     \u001b[38;5;28;01mreturn\u001b[39;00m _cdata_to_rinterface(cdata)\n",
      "File \u001b[0;32m~/.local/lib/python3.10/site-packages/rpy2/rinterface.py:119\u001b[0m, in \u001b[0;36mparse\u001b[0;34m(text, num)\u001b[0m\n\u001b[1;32m    117\u001b[0m robj \u001b[38;5;241m=\u001b[39m StrSexpVector([text])\n\u001b[1;32m    118\u001b[0m \u001b[38;5;28;01mwith\u001b[39;00m memorymanagement\u001b[38;5;241m.\u001b[39mrmemory() \u001b[38;5;28;01mas\u001b[39;00m rmemory:\n\u001b[0;32m--> 119\u001b[0m     res \u001b[38;5;241m=\u001b[39m \u001b[43m_rinterface\u001b[49m\u001b[38;5;241;43m.\u001b[39;49m\u001b[43m_parse\u001b[49m\u001b[43m(\u001b[49m\u001b[43mrobj\u001b[49m\u001b[38;5;241;43m.\u001b[39;49m\u001b[43m__sexp__\u001b[49m\u001b[38;5;241;43m.\u001b[39;49m\u001b[43m_cdata\u001b[49m\u001b[43m,\u001b[49m\u001b[43m \u001b[49m\u001b[43mnum\u001b[49m\u001b[43m,\u001b[49m\u001b[43m \u001b[49m\u001b[43mrmemory\u001b[49m\u001b[43m)\u001b[49m\n\u001b[1;32m    120\u001b[0m \u001b[38;5;28;01mreturn\u001b[39;00m res\n",
      "File \u001b[0;32m~/.local/lib/python3.10/site-packages/rpy2/rinterface_lib/_rinterface_capi.py:720\u001b[0m, in \u001b[0;36m_parse\u001b[0;34m(cdata, num, rmemory)\u001b[0m\n\u001b[1;32m    713\u001b[0m \u001b[38;5;66;03m# TODO: design better handling of possible status:\u001b[39;00m\n\u001b[1;32m    714\u001b[0m \u001b[38;5;66;03m# PARSE_NULL,\u001b[39;00m\n\u001b[1;32m    715\u001b[0m \u001b[38;5;66;03m# PARSE_OK,\u001b[39;00m\n\u001b[1;32m    716\u001b[0m \u001b[38;5;66;03m# PARSE_INCOMPLETE,\u001b[39;00m\n\u001b[1;32m    717\u001b[0m \u001b[38;5;66;03m# PARSE_ERROR,\u001b[39;00m\n\u001b[1;32m    718\u001b[0m \u001b[38;5;66;03m# PARSE_EOF\u001b[39;00m\n\u001b[1;32m    719\u001b[0m \u001b[38;5;28;01mif\u001b[39;00m status[\u001b[38;5;241m0\u001b[39m] \u001b[38;5;241m!=\u001b[39m openrlib\u001b[38;5;241m.\u001b[39mrlib\u001b[38;5;241m.\u001b[39mPARSE_OK:\n\u001b[0;32m--> 720\u001b[0m     \u001b[38;5;28;01mraise\u001b[39;00m RParsingError(\u001b[38;5;124m'\u001b[39m\u001b[38;5;124mParsing status not OK\u001b[39m\u001b[38;5;124m'\u001b[39m,\n\u001b[1;32m    721\u001b[0m                         status\u001b[38;5;241m=\u001b[39mPARSING_STATUS(status[\u001b[38;5;241m0\u001b[39m]))\n\u001b[1;32m    722\u001b[0m \u001b[38;5;28;01mreturn\u001b[39;00m res\n",
      "\u001b[0;31mRParsingError\u001b[0m: Parsing status not OK - PARSING_STATUS.PARSE_INCOMPLETE"
     ]
    }
   ],
   "source": [
    "%%R\n",
    "# Function: Merge chassis and pose data\n",
    "merge_chassis_pose <- function(df_chassis, df_pose) {\n",
    "    \n",
    "    df_chassis <- df_chassis[order(df_chassis$time), ]\n",
    "    df_pose <- df_pose[order(df_pose$time), ]\n",
    "    df_chassis$matched <- df_pose$time[match(df_chassis$time, df_pose$time)]\n",
    "    return(list(df_chassis = df_chassis, df_pose = df_pose))"
   ]
  },
  {
   "cell_type": "code",
   "execution_count": null,
   "id": "3a229e24-f896-4d5e-bd0a-c8eabb3f2048",
   "metadata": {},
   "outputs": [],
   "source": []
  },
  {
   "cell_type": "code",
   "execution_count": null,
   "id": "23a588e1-12de-4379-ab94-8bd36afd1526",
   "metadata": {},
   "outputs": [],
   "source": []
  },
  {
   "cell_type": "code",
   "execution_count": null,
   "id": "3314fa31-95ee-41a7-b3e8-b1357828dc7a",
   "metadata": {},
   "outputs": [],
   "source": []
  },
  {
   "cell_type": "code",
   "execution_count": null,
   "id": "f358de01-e93b-410a-9731-9d2a60e64b87",
   "metadata": {},
   "outputs": [],
   "source": []
  },
  {
   "cell_type": "code",
   "execution_count": null,
   "id": "76fe2d87-b041-4b9c-b415-19e0ac673d70",
   "metadata": {},
   "outputs": [],
   "source": []
  },
  {
   "cell_type": "code",
   "execution_count": 5,
   "id": "a3e14da0-a642-495c-9bf5-186a5d9263e6",
   "metadata": {
    "scrolled": true
   },
   "outputs": [
    {
     "name": "stdout",
     "output_type": "stream",
     "text": [
      "[1] \"Train_Run: 51ef6da6-ca9f-11ee-909c-e1dc60cf66f9\"\n",
      "[1] \"Test_Run: d12cd1c4-caec-11ee-909c-e1dc60cf66f9\"\n",
      "[1] \"Train_Run: 51ef6da6-ca9f-11ee-909c-e1dc60cf66f9\"\n",
      "[1] \"Test_Run: 6d2ea45a-c839-11ee-a7fc-dd032dba19e8\"\n",
      "[1] \"Train_Run: 51ef6da6-ca9f-11ee-909c-e1dc60cf66f9\"\n",
      "[1] \"Test_Run: c9c6856c-d33c-11ee-b437-336917683bb8\"\n",
      "[1] \"Train_Run: 51ef6da6-ca9f-11ee-909c-e1dc60cf66f9\"\n",
      "[1] \"Test_Run: 7fb7b9c0-c881-11ee-a7fc-dd032dba19e8\"\n",
      "[1] \"Train_Run: 51ef6da6-ca9f-11ee-909c-e1dc60cf66f9\"\n",
      "[1] \"Test_Run: 8437f77a-cab7-11ee-909c-e1dc60cf66f9\"\n",
      "[1] \"Train_Run: 51ef6da6-ca9f-11ee-909c-e1dc60cf66f9\"\n",
      "[1] \"Test_Run: c338788a-d324-11ee-b437-336917683bb8\"\n",
      "[1] \"Train_Run: 51ef6da6-ca9f-11ee-909c-e1dc60cf66f9\"\n",
      "[1] \"Test_Run: 853ef120-cad3-11ee-909c-e1dc60cf66f9\"\n",
      "[1] \"Train_Run: 51ef6da6-ca9f-11ee-909c-e1dc60cf66f9\"\n",
      "[1] \"Test_Run: 8fa6fe80-c869-11ee-a7fc-dd032dba19e8\"\n",
      "[1] \"Train_Run: d12cd1c4-caec-11ee-909c-e1dc60cf66f9\"\n",
      "[1] \"Test_Run: 51ef6da6-ca9f-11ee-909c-e1dc60cf66f9\"\n",
      "[1] \"Train_Run: d12cd1c4-caec-11ee-909c-e1dc60cf66f9\"\n",
      "[1] \"Test_Run: 6d2ea45a-c839-11ee-a7fc-dd032dba19e8\"\n",
      "[1] \"Train_Run: d12cd1c4-caec-11ee-909c-e1dc60cf66f9\"\n",
      "[1] \"Test_Run: c9c6856c-d33c-11ee-b437-336917683bb8\"\n",
      "[1] \"Train_Run: d12cd1c4-caec-11ee-909c-e1dc60cf66f9\"\n",
      "[1] \"Test_Run: 7fb7b9c0-c881-11ee-a7fc-dd032dba19e8\"\n",
      "[1] \"Train_Run: d12cd1c4-caec-11ee-909c-e1dc60cf66f9\"\n",
      "[1] \"Test_Run: 8437f77a-cab7-11ee-909c-e1dc60cf66f9\"\n",
      "[1] \"Train_Run: d12cd1c4-caec-11ee-909c-e1dc60cf66f9\"\n",
      "[1] \"Test_Run: c338788a-d324-11ee-b437-336917683bb8\"\n",
      "[1] \"Train_Run: d12cd1c4-caec-11ee-909c-e1dc60cf66f9\"\n",
      "[1] \"Test_Run: 853ef120-cad3-11ee-909c-e1dc60cf66f9\"\n",
      "[1] \"Train_Run: d12cd1c4-caec-11ee-909c-e1dc60cf66f9\"\n",
      "[1] \"Test_Run: 8fa6fe80-c869-11ee-a7fc-dd032dba19e8\"\n",
      "[1] \"Train_Run: 6d2ea45a-c839-11ee-a7fc-dd032dba19e8\"\n",
      "[1] \"Test_Run: 51ef6da6-ca9f-11ee-909c-e1dc60cf66f9\"\n",
      "[1] \"Train_Run: 6d2ea45a-c839-11ee-a7fc-dd032dba19e8\"\n",
      "[1] \"Test_Run: d12cd1c4-caec-11ee-909c-e1dc60cf66f9\"\n",
      "[1] \"Train_Run: 6d2ea45a-c839-11ee-a7fc-dd032dba19e8\"\n",
      "[1] \"Test_Run: c9c6856c-d33c-11ee-b437-336917683bb8\"\n",
      "[1] \"Train_Run: 6d2ea45a-c839-11ee-a7fc-dd032dba19e8\"\n",
      "[1] \"Test_Run: 7fb7b9c0-c881-11ee-a7fc-dd032dba19e8\"\n",
      "[1] \"Train_Run: 6d2ea45a-c839-11ee-a7fc-dd032dba19e8\"\n",
      "[1] \"Test_Run: 8437f77a-cab7-11ee-909c-e1dc60cf66f9\"\n",
      "[1] \"Train_Run: 6d2ea45a-c839-11ee-a7fc-dd032dba19e8\"\n",
      "[1] \"Test_Run: c338788a-d324-11ee-b437-336917683bb8\"\n",
      "[1] \"Train_Run: 6d2ea45a-c839-11ee-a7fc-dd032dba19e8\"\n",
      "[1] \"Test_Run: 853ef120-cad3-11ee-909c-e1dc60cf66f9\"\n",
      "[1] \"Train_Run: 6d2ea45a-c839-11ee-a7fc-dd032dba19e8\"\n",
      "[1] \"Test_Run: 8fa6fe80-c869-11ee-a7fc-dd032dba19e8\"\n",
      "[1] \"Train_Run: c9c6856c-d33c-11ee-b437-336917683bb8\"\n",
      "[1] \"Test_Run: 51ef6da6-ca9f-11ee-909c-e1dc60cf66f9\"\n",
      "[1] \"Train_Run: c9c6856c-d33c-11ee-b437-336917683bb8\"\n",
      "[1] \"Test_Run: d12cd1c4-caec-11ee-909c-e1dc60cf66f9\"\n",
      "[1] \"Train_Run: c9c6856c-d33c-11ee-b437-336917683bb8\"\n",
      "[1] \"Test_Run: 6d2ea45a-c839-11ee-a7fc-dd032dba19e8\"\n",
      "[1] \"Train_Run: c9c6856c-d33c-11ee-b437-336917683bb8\"\n",
      "[1] \"Test_Run: 7fb7b9c0-c881-11ee-a7fc-dd032dba19e8\"\n",
      "[1] \"Train_Run: c9c6856c-d33c-11ee-b437-336917683bb8\"\n",
      "[1] \"Test_Run: 8437f77a-cab7-11ee-909c-e1dc60cf66f9\"\n",
      "[1] \"Train_Run: c9c6856c-d33c-11ee-b437-336917683bb8\"\n",
      "[1] \"Test_Run: c338788a-d324-11ee-b437-336917683bb8\"\n",
      "[1] \"Train_Run: c9c6856c-d33c-11ee-b437-336917683bb8\"\n",
      "[1] \"Test_Run: 853ef120-cad3-11ee-909c-e1dc60cf66f9\"\n",
      "[1] \"Train_Run: c9c6856c-d33c-11ee-b437-336917683bb8\"\n",
      "[1] \"Test_Run: 8fa6fe80-c869-11ee-a7fc-dd032dba19e8\"\n",
      "[1] \"Train_Run: 7fb7b9c0-c881-11ee-a7fc-dd032dba19e8\"\n",
      "[1] \"Test_Run: 51ef6da6-ca9f-11ee-909c-e1dc60cf66f9\"\n",
      "[1] \"Train_Run: 7fb7b9c0-c881-11ee-a7fc-dd032dba19e8\"\n",
      "[1] \"Test_Run: d12cd1c4-caec-11ee-909c-e1dc60cf66f9\"\n",
      "[1] \"Train_Run: 7fb7b9c0-c881-11ee-a7fc-dd032dba19e8\"\n",
      "[1] \"Test_Run: 6d2ea45a-c839-11ee-a7fc-dd032dba19e8\"\n",
      "[1] \"Train_Run: 7fb7b9c0-c881-11ee-a7fc-dd032dba19e8\"\n",
      "[1] \"Test_Run: c9c6856c-d33c-11ee-b437-336917683bb8\"\n",
      "[1] \"Train_Run: 7fb7b9c0-c881-11ee-a7fc-dd032dba19e8\"\n",
      "[1] \"Test_Run: 8437f77a-cab7-11ee-909c-e1dc60cf66f9\"\n",
      "[1] \"Train_Run: 7fb7b9c0-c881-11ee-a7fc-dd032dba19e8\"\n",
      "[1] \"Test_Run: c338788a-d324-11ee-b437-336917683bb8\"\n",
      "[1] \"Train_Run: 7fb7b9c0-c881-11ee-a7fc-dd032dba19e8\"\n",
      "[1] \"Test_Run: 853ef120-cad3-11ee-909c-e1dc60cf66f9\"\n",
      "[1] \"Train_Run: 7fb7b9c0-c881-11ee-a7fc-dd032dba19e8\"\n",
      "[1] \"Test_Run: 8fa6fe80-c869-11ee-a7fc-dd032dba19e8\"\n",
      "[1] \"Train_Run: 8437f77a-cab7-11ee-909c-e1dc60cf66f9\"\n",
      "[1] \"Test_Run: 51ef6da6-ca9f-11ee-909c-e1dc60cf66f9\"\n",
      "[1] \"Train_Run: 8437f77a-cab7-11ee-909c-e1dc60cf66f9\"\n",
      "[1] \"Test_Run: d12cd1c4-caec-11ee-909c-e1dc60cf66f9\"\n",
      "[1] \"Train_Run: 8437f77a-cab7-11ee-909c-e1dc60cf66f9\"\n",
      "[1] \"Test_Run: 6d2ea45a-c839-11ee-a7fc-dd032dba19e8\"\n",
      "[1] \"Train_Run: 8437f77a-cab7-11ee-909c-e1dc60cf66f9\"\n",
      "[1] \"Test_Run: c9c6856c-d33c-11ee-b437-336917683bb8\"\n",
      "[1] \"Train_Run: 8437f77a-cab7-11ee-909c-e1dc60cf66f9\"\n",
      "[1] \"Test_Run: 7fb7b9c0-c881-11ee-a7fc-dd032dba19e8\"\n",
      "[1] \"Train_Run: 8437f77a-cab7-11ee-909c-e1dc60cf66f9\"\n",
      "[1] \"Test_Run: c338788a-d324-11ee-b437-336917683bb8\"\n",
      "[1] \"Train_Run: 8437f77a-cab7-11ee-909c-e1dc60cf66f9\"\n",
      "[1] \"Test_Run: 853ef120-cad3-11ee-909c-e1dc60cf66f9\"\n",
      "[1] \"Train_Run: 8437f77a-cab7-11ee-909c-e1dc60cf66f9\"\n",
      "[1] \"Test_Run: 8fa6fe80-c869-11ee-a7fc-dd032dba19e8\"\n",
      "[1] \"Train_Run: c338788a-d324-11ee-b437-336917683bb8\"\n",
      "[1] \"Test_Run: 51ef6da6-ca9f-11ee-909c-e1dc60cf66f9\"\n",
      "[1] \"Train_Run: c338788a-d324-11ee-b437-336917683bb8\"\n",
      "[1] \"Test_Run: d12cd1c4-caec-11ee-909c-e1dc60cf66f9\"\n",
      "[1] \"Train_Run: c338788a-d324-11ee-b437-336917683bb8\"\n",
      "[1] \"Test_Run: 6d2ea45a-c839-11ee-a7fc-dd032dba19e8\"\n",
      "[1] \"Train_Run: c338788a-d324-11ee-b437-336917683bb8\"\n",
      "[1] \"Test_Run: c9c6856c-d33c-11ee-b437-336917683bb8\"\n",
      "[1] \"Train_Run: c338788a-d324-11ee-b437-336917683bb8\"\n",
      "[1] \"Test_Run: 7fb7b9c0-c881-11ee-a7fc-dd032dba19e8\"\n",
      "[1] \"Train_Run: c338788a-d324-11ee-b437-336917683bb8\"\n",
      "[1] \"Test_Run: 8437f77a-cab7-11ee-909c-e1dc60cf66f9\"\n",
      "[1] \"Train_Run: c338788a-d324-11ee-b437-336917683bb8\"\n",
      "[1] \"Test_Run: 853ef120-cad3-11ee-909c-e1dc60cf66f9\"\n",
      "[1] \"Train_Run: c338788a-d324-11ee-b437-336917683bb8\"\n",
      "[1] \"Test_Run: 8fa6fe80-c869-11ee-a7fc-dd032dba19e8\"\n",
      "[1] \"Train_Run: 853ef120-cad3-11ee-909c-e1dc60cf66f9\"\n",
      "[1] \"Test_Run: 51ef6da6-ca9f-11ee-909c-e1dc60cf66f9\"\n",
      "[1] \"Train_Run: 853ef120-cad3-11ee-909c-e1dc60cf66f9\"\n",
      "[1] \"Test_Run: d12cd1c4-caec-11ee-909c-e1dc60cf66f9\"\n",
      "[1] \"Train_Run: 853ef120-cad3-11ee-909c-e1dc60cf66f9\"\n",
      "[1] \"Test_Run: 6d2ea45a-c839-11ee-a7fc-dd032dba19e8\"\n",
      "[1] \"Train_Run: 853ef120-cad3-11ee-909c-e1dc60cf66f9\"\n",
      "[1] \"Test_Run: c9c6856c-d33c-11ee-b437-336917683bb8\"\n",
      "[1] \"Train_Run: 853ef120-cad3-11ee-909c-e1dc60cf66f9\"\n",
      "[1] \"Test_Run: 7fb7b9c0-c881-11ee-a7fc-dd032dba19e8\"\n",
      "[1] \"Train_Run: 853ef120-cad3-11ee-909c-e1dc60cf66f9\"\n",
      "[1] \"Test_Run: 8437f77a-cab7-11ee-909c-e1dc60cf66f9\"\n",
      "[1] \"Train_Run: 853ef120-cad3-11ee-909c-e1dc60cf66f9\"\n",
      "[1] \"Test_Run: c338788a-d324-11ee-b437-336917683bb8\"\n",
      "[1] \"Train_Run: 853ef120-cad3-11ee-909c-e1dc60cf66f9\"\n",
      "[1] \"Test_Run: 8fa6fe80-c869-11ee-a7fc-dd032dba19e8\"\n",
      "[1] \"Train_Run: 8fa6fe80-c869-11ee-a7fc-dd032dba19e8\"\n",
      "[1] \"Test_Run: 51ef6da6-ca9f-11ee-909c-e1dc60cf66f9\"\n",
      "[1] \"Train_Run: 8fa6fe80-c869-11ee-a7fc-dd032dba19e8\"\n",
      "[1] \"Test_Run: d12cd1c4-caec-11ee-909c-e1dc60cf66f9\"\n",
      "[1] \"Train_Run: 8fa6fe80-c869-11ee-a7fc-dd032dba19e8\"\n",
      "[1] \"Test_Run: 6d2ea45a-c839-11ee-a7fc-dd032dba19e8\"\n",
      "[1] \"Train_Run: 8fa6fe80-c869-11ee-a7fc-dd032dba19e8\"\n",
      "[1] \"Test_Run: c9c6856c-d33c-11ee-b437-336917683bb8\"\n",
      "[1] \"Train_Run: 8fa6fe80-c869-11ee-a7fc-dd032dba19e8\"\n",
      "[1] \"Test_Run: 7fb7b9c0-c881-11ee-a7fc-dd032dba19e8\"\n",
      "[1] \"Train_Run: 8fa6fe80-c869-11ee-a7fc-dd032dba19e8\"\n",
      "[1] \"Test_Run: 8437f77a-cab7-11ee-909c-e1dc60cf66f9\"\n",
      "[1] \"Train_Run: 8fa6fe80-c869-11ee-a7fc-dd032dba19e8\"\n",
      "[1] \"Test_Run: c338788a-d324-11ee-b437-336917683bb8\"\n",
      "[1] \"Train_Run: 8fa6fe80-c869-11ee-a7fc-dd032dba19e8\"\n",
      "[1] \"Test_Run: 853ef120-cad3-11ee-909c-e1dc60cf66f9\"\n"
     ]
    }
   ],
   "source": [
    "%%R\n",
    "#Loop through combinations\n",
    "for (train_id in gmIDs) {\n",
    "    for (test_id in gmIDs) {\n",
    "      if (train_id != test_id) { #Ensure training and testing are different\n",
    "        print(paste(\"Train_Run:\", train_id))\n",
    "        print(paste(\"Test_Run:\", test_id))\n",
    "      }\n",
    "    }\n",
    "}"
   ]
  },
  {
   "cell_type": "code",
   "execution_count": 8,
   "id": "d6733375-db7a-4420-8a4e-4242abb90a99",
   "metadata": {},
   "outputs": [
    {
     "name": "stdout",
     "output_type": "stream",
     "text": [
      " [1] \"code/1_mode runs.ipynb\"                   \n",
      " [2] \"code/Analysis.ipynb\"                      \n",
      " [3] \"code/CalculatedFieldSubroutines.py\"       \n",
      " [4] \"code/ClassificationModels.ipynb\"          \n",
      " [5] \"code/data/ads_data_index_w_percentage.csv\"\n",
      " [6] \"code/data/ads_data_index.csv\"             \n",
      " [7] \"code/heatmapProto2.ipynb\"                 \n",
      " [8] \"code/heatmapProto3_all data.ipynb\"        \n",
      " [9] \"code/Investigate_topics.ipynb\"            \n",
      "[10] \"code/Mass_Data_Query_v2 (F)(UD).ipynb\"    \n",
      "[11] \"code/Obstacles_json.ipynb\"                \n",
      "[12] \"code/Plotting_red_routes.ipynb\"           \n",
      "[13] \"code/R_dataload_demo.ipynb\"               \n",
      "[14] \"code/R_mapping_demo.ipynb\"                \n",
      "[15] \"code/RNN_LSTM.ipynb\"                      \n",
      "[16] \"code/run_videos.ipynb\"                    \n",
      "[17] \"code/Segmentation.ipynb\"                  \n",
      "[18] \"code/Template_v3.ipynb\"                   \n",
      "[19] \"code/testing_ads_index.ipynb\"             \n",
      "[20] \"LICENSE\"                                  \n",
      "[21] \"Process.md\"                               \n",
      "[22] \"README.md\"                                \n",
      "[23] \"requirements.txt\"                         \n",
      "[24] \"test\"                                     \n",
      "[25] \"Untitled.ipynb\"                           \n",
      "[26] \"Untitled1.ipynb\"                          \n",
      "[27] \"Untitled2.ipynb\"                          \n"
     ]
    }
   ],
   "source": [
    "%%R\n",
    "list.files(\"/home/gampadu_linux/Desktop/TDMprivate\", recursive = TRUE)"
   ]
  },
  {
   "cell_type": "code",
   "execution_count": null,
   "id": "a2fb6204-9030-4409-975e-8f2233f69395",
   "metadata": {},
   "outputs": [],
   "source": [
    "%%R\n",
    "list.files(path = \"/home/gampadu_linux\"/Desktop/TDMprivate\", pattern = \"\\\\.csv$\", recursive = TRUE)"
   ]
  },
  {
   "cell_type": "code",
   "execution_count": null,
   "id": "c6f8984a-2139-4058-977d-09ec6fa8a1a5",
   "metadata": {},
   "outputs": [],
   "source": []
  },
  {
   "cell_type": "code",
   "execution_count": null,
   "id": "d5261fe1-f645-4678-8766-ad702369cceb",
   "metadata": {},
   "outputs": [],
   "source": []
  },
  {
   "cell_type": "code",
   "execution_count": null,
   "id": "a285d22d-02c6-467b-974e-6a5afe923052",
   "metadata": {},
   "outputs": [],
   "source": []
  },
  {
   "cell_type": "code",
   "execution_count": null,
   "id": "59cdb849-a01b-4840-b252-680b26301e11",
   "metadata": {},
   "outputs": [],
   "source": []
  },
  {
   "cell_type": "code",
   "execution_count": null,
   "id": "28dd11e6-cd6c-4352-9434-0953d05ddd29",
   "metadata": {},
   "outputs": [],
   "source": []
  },
  {
   "cell_type": "code",
   "execution_count": null,
   "id": "03774df6-6e5e-4e72-8cf3-af593e531312",
   "metadata": {},
   "outputs": [],
   "source": []
  },
  {
   "cell_type": "code",
   "execution_count": null,
   "id": "279fb7f1-0d40-410d-9bf6-8ae74d7c6b17",
   "metadata": {},
   "outputs": [],
   "source": []
  },
  {
   "cell_type": "code",
   "execution_count": null,
   "id": "299ace84-2fbe-4cec-a776-14347f4bd0ef",
   "metadata": {},
   "outputs": [],
   "source": []
  },
  {
   "cell_type": "code",
   "execution_count": null,
   "id": "c054d6ec-0149-4ce0-93b9-876bb2f54456",
   "metadata": {},
   "outputs": [],
   "source": []
  },
  {
   "cell_type": "code",
   "execution_count": null,
   "id": "60d768a6-c0ae-422a-99d3-ede1eae0028b",
   "metadata": {},
   "outputs": [],
   "source": []
  },
  {
   "cell_type": "code",
   "execution_count": null,
   "id": "bfdca61f-fe1b-4cd7-8283-9294b91a0cf0",
   "metadata": {},
   "outputs": [],
   "source": []
  },
  {
   "cell_type": "code",
   "execution_count": null,
   "id": "ec1c3f9e-c941-49c4-9a06-7f5b0c33880d",
   "metadata": {},
   "outputs": [],
   "source": []
  },
  {
   "cell_type": "code",
   "execution_count": 8,
   "id": "54d251ef-1251-4d12-97d8-aa51ed034053",
   "metadata": {},
   "outputs": [
    {
     "name": "stdout",
     "output_type": "stream",
     "text": [
      "Error in file(file, \"rt\") : cannot open the connection\n",
      "In addition: Warning message:\n",
      "In file(file, \"rt\") :\n",
      "  cannot open file '../data/51ef6da6-ca9f-11ee-909c-e1dc60cf66f9/_apollo_canbus_chassis/51ef6da6-ca9f-11ee-909c-e1dc60cf66f9_apollo_canbus_chassis.csv': No such file or directory\n",
      "Error in file(file, \"rt\") : cannot open the connection\n"
     ]
    },
    {
     "ename": "RInterpreterError",
     "evalue": "Failed to parse and evaluate line '#Test loading data for one gmID\\ngmID <- \"51ef6da6-ca9f-11ee-909c-e1dc60cf66f9\"\\n\\n#Load Chassis and pose data\\ntrain_chassis <- read.csv(sprintf(\"../data/%s/_apollo_canbus_chassis/%s_apollo_canbus_chassis.csv\", gmID, gmID))\\ntrain_pose <- read.csv(sprintf(\"../data/%s/_apollo_sensor_gnss_best_pose/%s_apollo_sensor_gnss_best_pose.csv\", gmID, gmID))\\n'.\nR error message: 'Error in file(file, \"rt\") : cannot open the connection'\nR stdout:\nError in file(file, \"rt\") : cannot open the connection\nIn addition: Warning message:\nIn file(file, \"rt\") :\n  cannot open file '../data/51ef6da6-ca9f-11ee-909c-e1dc60cf66f9/_apollo_canbus_chassis/51ef6da6-ca9f-11ee-909c-e1dc60cf66f9_apollo_canbus_chassis.csv': No such file or directory",
     "output_type": "error",
     "traceback": [
      "\u001b[0;31m---------------------------------------------------------------------------\u001b[0m",
      "\u001b[0;31mRRuntimeError\u001b[0m                             Traceback (most recent call last)",
      "File \u001b[0;32m~/.local/lib/python3.10/site-packages/rpy2/ipython/rmagic.py:407\u001b[0m, in \u001b[0;36mRMagics.eval\u001b[0;34m(self, code)\u001b[0m\n\u001b[1;32m    406\u001b[0m     r_expr \u001b[38;5;241m=\u001b[39m ri\u001b[38;5;241m.\u001b[39mparse(code)\n\u001b[0;32m--> 407\u001b[0m     value, visible \u001b[38;5;241m=\u001b[39m \u001b[43mri\u001b[49m\u001b[38;5;241;43m.\u001b[39;49m\u001b[43mevalr_expr_with_visible\u001b[49m\u001b[43m(\u001b[49m\n\u001b[1;32m    408\u001b[0m \u001b[43m        \u001b[49m\u001b[43mr_expr\u001b[49m\n\u001b[1;32m    409\u001b[0m \u001b[43m    \u001b[49m\u001b[43m)\u001b[49m\n\u001b[1;32m    410\u001b[0m \u001b[38;5;28;01mexcept\u001b[39;00m (ri\u001b[38;5;241m.\u001b[39membedded\u001b[38;5;241m.\u001b[39mRRuntimeError, \u001b[38;5;167;01mValueError\u001b[39;00m) \u001b[38;5;28;01mas\u001b[39;00m exception:\n\u001b[1;32m    411\u001b[0m     \u001b[38;5;66;03m# Otherwise next return seems to have copy of error.\u001b[39;00m\n",
      "File \u001b[0;32m~/.local/lib/python3.10/site-packages/rpy2/rinterface.py:192\u001b[0m, in \u001b[0;36mevalr_expr_with_visible\u001b[0;34m(expr, envir)\u001b[0m\n\u001b[1;32m    191\u001b[0m \u001b[38;5;28;01mif\u001b[39;00m error_occured[\u001b[38;5;241m0\u001b[39m]:\n\u001b[0;32m--> 192\u001b[0m     \u001b[38;5;28;01mraise\u001b[39;00m embedded\u001b[38;5;241m.\u001b[39mRRuntimeError(_rinterface\u001b[38;5;241m.\u001b[39m_geterrmessage())\n\u001b[1;32m    193\u001b[0m res \u001b[38;5;241m=\u001b[39m conversion\u001b[38;5;241m.\u001b[39m_cdata_to_rinterface(r_res)\n",
      "\u001b[0;31mRRuntimeError\u001b[0m: Error in file(file, \"rt\") : cannot open the connection\n",
      "\nDuring handling of the above exception, another exception occurred:\n",
      "\u001b[0;31mRInterpreterError\u001b[0m                         Traceback (most recent call last)",
      "Cell \u001b[0;32mIn[8], line 1\u001b[0m\n\u001b[0;32m----> 1\u001b[0m \u001b[43mget_ipython\u001b[49m\u001b[43m(\u001b[49m\u001b[43m)\u001b[49m\u001b[38;5;241;43m.\u001b[39;49m\u001b[43mrun_cell_magic\u001b[49m\u001b[43m(\u001b[49m\u001b[38;5;124;43m'\u001b[39;49m\u001b[38;5;124;43mR\u001b[39;49m\u001b[38;5;124;43m'\u001b[39;49m\u001b[43m,\u001b[49m\u001b[43m \u001b[49m\u001b[38;5;124;43m'\u001b[39;49m\u001b[38;5;124;43m'\u001b[39;49m\u001b[43m,\u001b[49m\u001b[43m \u001b[49m\u001b[38;5;124;43m'\u001b[39;49m\u001b[38;5;124;43m#Test loading data for one gmID\u001b[39;49m\u001b[38;5;130;43;01m\\n\u001b[39;49;00m\u001b[38;5;124;43mgmID <- \u001b[39;49m\u001b[38;5;124;43m\"\u001b[39;49m\u001b[38;5;124;43m51ef6da6-ca9f-11ee-909c-e1dc60cf66f9\u001b[39;49m\u001b[38;5;124;43m\"\u001b[39;49m\u001b[38;5;130;43;01m\\n\u001b[39;49;00m\u001b[38;5;130;43;01m\\n\u001b[39;49;00m\u001b[38;5;124;43m#Load Chassis and pose data\u001b[39;49m\u001b[38;5;130;43;01m\\n\u001b[39;49;00m\u001b[38;5;124;43mtrain_chassis <- read.csv(sprintf(\u001b[39;49m\u001b[38;5;124;43m\"\u001b[39;49m\u001b[38;5;124;43m../data/\u001b[39;49m\u001b[38;5;132;43;01m%s\u001b[39;49;00m\u001b[38;5;124;43m/_apollo_canbus_chassis/\u001b[39;49m\u001b[38;5;132;43;01m%s\u001b[39;49;00m\u001b[38;5;124;43m_apollo_canbus_chassis.csv\u001b[39;49m\u001b[38;5;124;43m\"\u001b[39;49m\u001b[38;5;124;43m, gmID, gmID))\u001b[39;49m\u001b[38;5;130;43;01m\\n\u001b[39;49;00m\u001b[38;5;124;43mtrain_pose <- read.csv(sprintf(\u001b[39;49m\u001b[38;5;124;43m\"\u001b[39;49m\u001b[38;5;124;43m../data/\u001b[39;49m\u001b[38;5;132;43;01m%s\u001b[39;49;00m\u001b[38;5;124;43m/_apollo_sensor_gnss_best_pose/\u001b[39;49m\u001b[38;5;132;43;01m%s\u001b[39;49;00m\u001b[38;5;124;43m_apollo_sensor_gnss_best_pose.csv\u001b[39;49m\u001b[38;5;124;43m\"\u001b[39;49m\u001b[38;5;124;43m, gmID, gmID))\u001b[39;49m\u001b[38;5;130;43;01m\\n\u001b[39;49;00m\u001b[38;5;124;43m'\u001b[39;49m\u001b[43m)\u001b[49m\n",
      "File \u001b[0;32m~/.local/lib/python3.10/site-packages/IPython/core/interactiveshell.py:2541\u001b[0m, in \u001b[0;36mInteractiveShell.run_cell_magic\u001b[0;34m(self, magic_name, line, cell)\u001b[0m\n\u001b[1;32m   2539\u001b[0m \u001b[38;5;28;01mwith\u001b[39;00m \u001b[38;5;28mself\u001b[39m\u001b[38;5;241m.\u001b[39mbuiltin_trap:\n\u001b[1;32m   2540\u001b[0m     args \u001b[38;5;241m=\u001b[39m (magic_arg_s, cell)\n\u001b[0;32m-> 2541\u001b[0m     result \u001b[38;5;241m=\u001b[39m \u001b[43mfn\u001b[49m\u001b[43m(\u001b[49m\u001b[38;5;241;43m*\u001b[39;49m\u001b[43margs\u001b[49m\u001b[43m,\u001b[49m\u001b[43m \u001b[49m\u001b[38;5;241;43m*\u001b[39;49m\u001b[38;5;241;43m*\u001b[39;49m\u001b[43mkwargs\u001b[49m\u001b[43m)\u001b[49m\n\u001b[1;32m   2543\u001b[0m \u001b[38;5;66;03m# The code below prevents the output from being displayed\u001b[39;00m\n\u001b[1;32m   2544\u001b[0m \u001b[38;5;66;03m# when using magics with decorator @output_can_be_silenced\u001b[39;00m\n\u001b[1;32m   2545\u001b[0m \u001b[38;5;66;03m# when the last Python token in the expression is a ';'.\u001b[39;00m\n\u001b[1;32m   2546\u001b[0m \u001b[38;5;28;01mif\u001b[39;00m \u001b[38;5;28mgetattr\u001b[39m(fn, magic\u001b[38;5;241m.\u001b[39mMAGIC_OUTPUT_CAN_BE_SILENCED, \u001b[38;5;28;01mFalse\u001b[39;00m):\n",
      "File \u001b[0;32m~/.local/lib/python3.10/site-packages/rpy2/ipython/rmagic.py:984\u001b[0m, in \u001b[0;36mRMagics.R\u001b[0;34m(self, line, cell, local_ns)\u001b[0m\n\u001b[1;32m    982\u001b[0m     \u001b[38;5;28;01mif\u001b[39;00m \u001b[38;5;129;01mnot\u001b[39;00m e\u001b[38;5;241m.\u001b[39mstdout\u001b[38;5;241m.\u001b[39mendswith(e\u001b[38;5;241m.\u001b[39merr):\n\u001b[1;32m    983\u001b[0m         \u001b[38;5;28mprint\u001b[39m(e\u001b[38;5;241m.\u001b[39merr)\n\u001b[0;32m--> 984\u001b[0m     \u001b[38;5;28;01mraise\u001b[39;00m e\n\u001b[1;32m    985\u001b[0m \u001b[38;5;28;01mfinally\u001b[39;00m:\n\u001b[1;32m    986\u001b[0m     \u001b[38;5;28;01mif\u001b[39;00m \u001b[38;5;28mself\u001b[39m\u001b[38;5;241m.\u001b[39mdevice \u001b[38;5;129;01min\u001b[39;00m DEVICES_STATIC:\n",
      "File \u001b[0;32m~/.local/lib/python3.10/site-packages/rpy2/ipython/rmagic.py:949\u001b[0m, in \u001b[0;36mRMagics.R\u001b[0;34m(self, line, cell, local_ns)\u001b[0m\n\u001b[1;32m    947\u001b[0m         return_output \u001b[38;5;241m=\u001b[39m \u001b[38;5;28;01mFalse\u001b[39;00m\n\u001b[1;32m    948\u001b[0m \u001b[38;5;28;01melse\u001b[39;00m:\n\u001b[0;32m--> 949\u001b[0m     text_result, result, visible \u001b[38;5;241m=\u001b[39m \u001b[38;5;28;43mself\u001b[39;49m\u001b[38;5;241;43m.\u001b[39;49m\u001b[43meval\u001b[49m\u001b[43m(\u001b[49m\u001b[43mcode\u001b[49m\u001b[43m)\u001b[49m\n\u001b[1;32m    950\u001b[0m     text_output \u001b[38;5;241m+\u001b[39m\u001b[38;5;241m=\u001b[39m text_result\n\u001b[1;32m    951\u001b[0m     \u001b[38;5;28;01mif\u001b[39;00m visible:\n",
      "File \u001b[0;32m~/.local/lib/python3.10/site-packages/rpy2/ipython/rmagic.py:413\u001b[0m, in \u001b[0;36mRMagics.eval\u001b[0;34m(self, code)\u001b[0m\n\u001b[1;32m    410\u001b[0m \u001b[38;5;28;01mexcept\u001b[39;00m (ri\u001b[38;5;241m.\u001b[39membedded\u001b[38;5;241m.\u001b[39mRRuntimeError, \u001b[38;5;167;01mValueError\u001b[39;00m) \u001b[38;5;28;01mas\u001b[39;00m exception:\n\u001b[1;32m    411\u001b[0m     \u001b[38;5;66;03m# Otherwise next return seems to have copy of error.\u001b[39;00m\n\u001b[1;32m    412\u001b[0m     warning_or_other_msg \u001b[38;5;241m=\u001b[39m \u001b[38;5;28mself\u001b[39m\u001b[38;5;241m.\u001b[39mflush()\n\u001b[0;32m--> 413\u001b[0m     \u001b[38;5;28;01mraise\u001b[39;00m RInterpreterError(code, \u001b[38;5;28mstr\u001b[39m(exception),\n\u001b[1;32m    414\u001b[0m                             warning_or_other_msg)\n\u001b[1;32m    415\u001b[0m \u001b[38;5;28;01mfinally\u001b[39;00m:\n\u001b[1;32m    416\u001b[0m     ro\u001b[38;5;241m.\u001b[39m_print_deferred_warnings()\n",
      "\u001b[0;31mRInterpreterError\u001b[0m: Failed to parse and evaluate line '#Test loading data for one gmID\\ngmID <- \"51ef6da6-ca9f-11ee-909c-e1dc60cf66f9\"\\n\\n#Load Chassis and pose data\\ntrain_chassis <- read.csv(sprintf(\"../data/%s/_apollo_canbus_chassis/%s_apollo_canbus_chassis.csv\", gmID, gmID))\\ntrain_pose <- read.csv(sprintf(\"../data/%s/_apollo_sensor_gnss_best_pose/%s_apollo_sensor_gnss_best_pose.csv\", gmID, gmID))\\n'.\nR error message: 'Error in file(file, \"rt\") : cannot open the connection'\nR stdout:\nError in file(file, \"rt\") : cannot open the connection\nIn addition: Warning message:\nIn file(file, \"rt\") :\n  cannot open file '../data/51ef6da6-ca9f-11ee-909c-e1dc60cf66f9/_apollo_canbus_chassis/51ef6da6-ca9f-11ee-909c-e1dc60cf66f9_apollo_canbus_chassis.csv': No such file or directory"
     ]
    }
   ],
   "source": [
    "%%R\n",
    "#Test loading data for one gmID\n",
    "gmID <- \"51ef6da6-ca9f-11ee-909c-e1dc60cf66f9\"\n",
    "\n",
    "#Load Chassis and pose data\n",
    "train_chassis <- as_tibble(read.csv(sprintf(\"../data/%s/_apollo_canbus_chassis/%s_apollo_canbus_chassis.csv\", gmID, gmID)))\n",
    "train_pose <- as_tibble(read.csv(sprintf(\"../data/%s/_apollo_sensor_gnss_best_pose/%s_apollo_sensor_gnss_best_pose.csv\", gmID, gmID)))"
   ]
  },
  {
   "cell_type": "code",
   "execution_count": null,
   "id": "69c1be6b-6cf5-49c0-a3ae-0d7c03ef2435",
   "metadata": {},
   "outputs": [],
   "source": []
  }
 ],
 "metadata": {
  "kernelspec": {
   "display_name": "Python 3 (ipykernel)",
   "language": "python",
   "name": "python3"
  },
  "language_info": {
   "codemirror_mode": {
    "name": "ipython",
    "version": 3
   },
   "file_extension": ".py",
   "mimetype": "text/x-python",
   "name": "python",
   "nbconvert_exporter": "python",
   "pygments_lexer": "ipython3",
   "version": "3.10.12"
  }
 },
 "nbformat": 4,
 "nbformat_minor": 5
}
