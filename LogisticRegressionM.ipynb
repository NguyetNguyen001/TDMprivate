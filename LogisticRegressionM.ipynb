{
 "cells": [
  {
   "cell_type": "code",
   "execution_count": 1,
   "id": "0f579b34-44a1-4823-83d1-13b90215081c",
   "metadata": {},
   "outputs": [],
   "source": [
    "%load_ext rpy2.ipython"
   ]
  },
  {
   "cell_type": "code",
   "execution_count": 2,
   "id": "aa74c123-af0b-4f07-912b-b5a87fcae940",
   "metadata": {},
   "outputs": [
    {
     "data": {
      "text/plain": [
       "\n",
       "Attaching package: ‘dplyr’\n",
       "\n",
       "The following objects are masked from ‘package:stats’:\n",
       "\n",
       "    filter, lag\n",
       "\n",
       "The following objects are masked from ‘package:base’:\n",
       "\n",
       "    intersect, setdiff, setequal, union\n",
       "\n",
       "Loading required package: lattice\n",
       "Type 'citation(\"pROC\")' for a citation.\n",
       "\n",
       "Attaching package: ‘pROC’\n",
       "\n",
       "The following objects are masked from ‘package:stats’:\n",
       "\n",
       "    cov, smooth, var\n",
       "\n",
       "Loaded ROSE 0.0-4\n",
       "\n",
       "Loading required package: Matrix\n",
       "Loaded glmnet 4.1-8\n",
       "In addition: Warning message:\n",
       "In (function (package, help, pos = 2, lib.loc = NULL, character.only = FALSE,  :\n",
       "  libraries ‘/usr/local/lib/R/site-library’, ‘/usr/lib/R/site-library’ contain no packages\n"
      ]
     },
     "metadata": {},
     "output_type": "display_data"
    }
   ],
   "source": [
    "%%R\n",
    "# Am Loading necessary libraries and functions\n",
    "# I then Import required R packages\n",
    "library(tibble)\n",
    "library(dplyr)\n",
    "library(ggplot2)\n",
    "library(caret)\n",
    "library(pROC)\n",
    "library(ROSE)\n",
    "library(glmnet)\n",
    "\n",
    "# Loading custom functions \"CalculatedFieldSubroutines.R\" \n",
    "source(\"CalculatedFieldSubroutines.R\")"
   ]
  },
  {
   "cell_type": "code",
   "execution_count": 3,
   "id": "7d925d3b-830f-464c-bf79-d7ca37ddab98",
   "metadata": {},
   "outputs": [],
   "source": [
    "%%R\n",
    "# Defining GMIDs for Red Routes\n",
    "# Am creating a list of GMIDs for processing\n",
    "red_route_gmIDs <- c(\n",
    "     \"2f95c748-f009-11ee-b966-fb353e7798cd\",\n",
    "  \"65cfbfd6-f396-11ee-bb4e-fb353e7798cd\",\n",
    "  \"f711e68e-f0e1-11ee-ba1f-fb353e7798cd\",\n",
    "  \"171c50bc-f106-11ee-ba42-fb353e7798cd\",\n",
    "  \"6d2ea45a-c839-11ee-a7fc-dd032dba19e8\",\n",
    "  \"05c7c824-cab8-11ee-aa4d-1d66adf2f0c7\",\n",
    "  \"96f7a614-f549-11ee-8afa-cb629b0d53e6\",\n",
    "  \"cf831f42-f353-11ee-bb4e-fb353e7798cd\",\n",
    "  \"f0eebb6a-f0dc-11ee-ba1e-fb353e7798cd\",\n",
    "  \"9798fe24-f143-11ee-ba78-fb353e7798cd\",\n",
    "  \"ce6465b6-f51b-11ee-8afa-cb629b0d53e6\",\n",
    "  \"3d2d29ec-ef95-11ee-b966-fb353e7798cd\",\n",
    "  \"d3698592-ef9d-11ee-b966-fb353e7798cd\",\n",
    "  \"853ef120-cad3-11ee-909c-e1dc60cf66f9\",\n",
    "  \"be857244-efc0-11ee-b966-fb353e7798cd\",\n",
    "  \"f43b6a70-f01e-11ee-b966-fb353e7798cd\",\n",
    "  \"fcc6fcd2-f013-11ee-b966-fb353e7798cd\",\n",
    "  \"e7b934a8-ef1a-11ee-9385-ef789ffde1d3\",\n",
    "  \"61b12e7a-f234-11ee-bb33-fb353e7798cd\",\n",
    "  \"de933de8-f112-11ee-ba4d-fb353e7798cd\",\n",
    "  \"8dbbbf1c-f0ef-11ee-ba29-fb353e7798cd\",\n",
    "  \"fe973c9c-f53c-11ee-8afa-cb629b0d53e6\",\n",
    "  \"ecebb942-f162-11ee-ba97-fb353e7798cd\",\n",
    "  \"f755cf60-f132-11ee-ba6d-fb353e7798cd\",\n",
    "  \"d24820c8-f197-11ee-babe-fb353e7798cd\",\n",
    "  \"dd72fdec-f0cf-11ee-ba0d-fb353e7798cd\",\n",
    "  \"286e019a-f204-11ee-bb07-fb353e7798cd\",\n",
    "  \"41b67a28-f52f-11ee-8afa-cb629b0d53e6\",\n",
    "  \"c0555ef0-f50f-11ee-8afa-cb629b0d53e6\",\n",
    "  \"72a03d4a-efe9-11ee-b966-fb353e7798cd\",\n",
    "  \"457dc5ee-f02a-11ee-b966-fb353e7798cd\",\n",
    "  \"3151e9e2-eff3-11ee-b966-fb353e7798cd\",\n",
    "  \"c25271be-f3a4-11ee-bb4e-fb353e7798cd\",\n",
    "  \"2a61b8a8-f528-11ee-8afa-cb629b0d53e6\",\n",
    "  \"01e65360-efd4-11ee-b966-fb353e7798cd\",\n",
    "  \"1bbbfbae-c839-11ee-a7fc-dd032dba19e8\",\n",
    "  \"f41cbd44-eff8-11ee-b966-fb353e7798cd\",\n",
    "  \"aa5dbcd2-ef10-11ee-9385-ef789ffde1d3\",\n",
    "  \"84d96f18-f214-11ee-bb13-fb353e7798cd\",\n",
    "  \"94c53148-eeed-11ee-9385-ef789ffde1d3\",\n",
    "  \"88a68dd8-eef9-11ee-9385-ef789ffde1d3\",\n",
    "  \"85b6e70e-ef7a-11ee-b966-fb353e7798cd\",\n",
    "  \"1b6aca0e-efdf-11ee-b966-fb353e7798cd\",\n",
    "  \"8fa6fe80-c869-11ee-a7fc-dd032dba19e8\",\n",
    "  \"51ef6da6-ca9f-11ee-909c-e1dc60cf66f9\",\n",
    "  \"9189a2a8-f121-11ee-ba5b-fb353e7798cd\",\n",
    "  \"8347b862-efad-11ee-b966-fb353e7798cd\",\n",
    "  \"88dd6fbe-f224-11ee-bb21-fb353e7798cd\",\n",
    "  \"817d6848-efb6-11ee-b966-fb353e7798cd\",\n",
    "  \"fc211bb2-efca-11ee-b966-fb353e7798cd\",\n",
    "  \"c338788a-d324-11ee-b437-336917683bb8\",\n",
    "  \"b82476fe-f1f3-11ee-baff-fb353e7798cd\",\n",
    "  \"7cbd932e-f244-11ee-bb3f-fb353e7798cd\",\n",
    "  \"2462c9d0-eecd-11ee-9385-ef789ffde1d3\",\n",
    "  \"3344a3c0-f502-11ee-8afa-cb629b0d53e6\",\n",
    "  \"d21965e6-f0fa-11ee-ba37-fb353e7798cd\",\n",
    "  \"c9c6856c-d33c-11ee-b437-336917683bb8\",\n",
    "  \"d12cd1c4-caec-11ee-909c-e1dc60cf66f9\",\n",
    "  \"43a1a35e-f362-11ee-bb4e-fb353e7798cd\",\n",
    "  \"fd1ab258-efa7-11ee-b966-fb353e7798cd\",\n",
    "  \"8437f77a-cab7-11ee-909c-e1dc60cf66f9\",\n",
    "  \"211bdb36-f0da-11ee-ba1b-fb353e7798cd\",\n",
    "  \"868de15e-f3b3-11ee-bb4e-fb353e7798cd\",\n",
    "  \"35518ec4-f153-11ee-ba88-fb353e7798cd\",\n",
    "  \"622bd2e8-f0e4-11ee-ba1f-fb353e7798cd\",\n",
    "  \"7fb7b9c0-c881-11ee-a7fc-dd032dba19e8\",\n",
    "  \"219f7eb8-ef87-11ee-b966-fb353e7798cd\",\n",
    "  \"1ee938a2-f172-11ee-baa6-fb353e7798cd\",\n",
    "  \"5a4bccf4-effe-11ee-b966-fb353e7798cd\"\n",
    ")"
   ]
  },
  {
   "cell_type": "code",
   "execution_count": 4,
   "id": "bdf226d9-475f-46b1-bca5-bb6842fd8642",
   "metadata": {},
   "outputs": [],
   "source": [
    "%%R\n",
    "# Split GMIDs into Training and Testing Sets\n",
    "# We divide GMIDs into 80% training and 20% testing\n",
    "training_gmIDs <- red_route_gmIDs[1:55]  # First 55 GMIDs (80%)\n",
    "testing_gmIDs <- red_route_gmIDs[56:69]  # Remaining 14 GMIDs (20%)"
   ]
  },
  {
   "cell_type": "code",
   "execution_count": 5,
   "id": "ee883924-dd2a-4e27-9312-7b404c4ae7e0",
   "metadata": {},
   "outputs": [],
   "source": [
    "%%R\n",
    "\n",
    "# Load Chassis Data for Training GMIDs\n",
    "# Iterating through training GMIDs to load data\n",
    "all_data <- do.call(rbind, lapply(training_gmIDs, load_chassis_data))"
   ]
  },
  {
   "cell_type": "code",
   "execution_count": 6,
   "id": "46a9833d-90b4-48de-aff6-87cf7abd4ea9",
   "metadata": {},
   "outputs": [],
   "source": [
    "%%R\n",
    "## Validating columns in Loaded Data\n",
    "required_columns <- c(\"drivingMode\", \"speedMps\", \"throttlePercentage\", \"steeringPercentage\", \"brakePercentage\", \"time\")\n",
    "missing_columns <- setdiff(required_columns, colnames(all_data))\n",
    "if (length(missing_columns) > 0) {\n",
    "    stop(paste(\"Missing columns:\", paste(missing_columns, collapse = \", \")))\n",
    "}"
   ]
  },
  {
   "cell_type": "code",
   "execution_count": 7,
   "id": "7d58c902-ba28-4f37-99f3-a40842e17aff",
   "metadata": {},
   "outputs": [],
   "source": [
    "%%R\n",
    "# Next, we create Binary Target Variable\n",
    "# We convert \"drivingMode\" into a binary target variable (e.g., 1 for \"AUTOMATIC_MODE\", 0 otherwise)\n",
    "all_data$binaryDrivingMode <- ifelse(all_data$drivingMode == \"AUTOMATIC_MODE\", 1, 0)"
   ]
  },
  {
   "cell_type": "code",
   "execution_count": 8,
   "id": "331316d4-d522-4670-9ec1-79b5fa1a352a",
   "metadata": {},
   "outputs": [],
   "source": [
    "%%R\n",
    "## Split Data into Training and Testing Sets\n",
    "# Divide the data based on groupMetadataID\n",
    "train_data <- all_data[all_data$groupMetadataID %in% training_gmIDs, ]\n",
    "test_data <- all_data[all_data$groupMetadataID %in% testing_gmIDs, ]"
   ]
  },
  {
   "cell_type": "code",
   "execution_count": 9,
   "id": "ee5263f2-653d-4da4-9397-1c8d27e96c0c",
   "metadata": {},
   "outputs": [],
   "source": [
    "%%R\n",
    "## Clean Training Data\n",
    "# Remove rows with missing or infinite values\n",
    "train_data <- train_data[complete.cases(train_data), ]\n",
    "train_data <- train_data[!is.infinite(train_data$speedMps) &\n",
    "                         !is.infinite(train_data$throttlePercentage) &\n",
    "                         !is.infinite(train_data$brakePercentage) &\n",
    "                         !is.infinite(train_data$steeringPercentage), ]"
   ]
  },
  {
   "cell_type": "code",
   "execution_count": null,
   "id": "2daefa04-0bf9-4e6d-b8fa-0aa08d83f799",
   "metadata": {},
   "outputs": [],
   "source": [
    "%%R\n",
    "## Loading and Merging Pose Data\n",
    "# We iterate through GMIDs to load and merge pose data\n",
    "for (gmID in red_route_gmIDs) {\n",
    "    processed_pose_path <- file.path(\"data\", gmID, \"_apollo_sensor_gnss_best_pose\", paste0(gmID, \"_processed_pose.csv\"))\n",
    "    if (file.exists(processed_pose_path)) {\n",
    "        processed_pose <- read.csv(processed_pose_path)\n",
    "        train_data <- merge(\n",
    "            train_data, processed_pose,\n",
    "            by = \"groupMetadataID\",  # Adjust to the correct key\n",
    "            all.x = TRUE\n",
    "        )\n",
    "    } else {\n",
    "        warning(paste(\"Processed pose file not found for GMID:\", gmID))\n",
    "    }\n",
    "}"
   ]
  },
  {
   "cell_type": "code",
   "execution_count": null,
   "id": "ea151aa0-9e96-47c1-8bf0-b847ec4c7121",
   "metadata": {},
   "outputs": [],
   "source": [
    "%%R\n",
    "# We added calculated column for Latitude-Longitude Standard Deviation\n",
    "# Compute the Euclidean distance (latlongStdDev)\n",
    "train_data$latlongStdDev <- sqrt(train_data$latitudeStdDev^2 + train_data$longitudeStdDev^2)"
   ]
  },
  {
   "cell_type": "code",
   "execution_count": null,
   "id": "3f8afee0-f6c8-44c7-9ae0-89e0b0b31bfc",
   "metadata": {},
   "outputs": [],
   "source": [
    "%%R\n",
    "## Fit Logistic Regression Model\n",
    "# Building a logistic regression model using training data\n",
    "model <- glm(\n",
    "    binaryDrivingMode ~ speedMps + throttlePercentage + brakePercentage + steeringPercentage + latlongStdDev,\n",
    "    data = train_data,\n",
    "    family = binomial\n",
    ")\n",
    "\n",
    "# Print model summary\n",
    "summary(model)"
   ]
  },
  {
   "cell_type": "code",
   "execution_count": null,
   "id": "b0a1e0c9-5e4f-4f90-aa5f-de0c7157c7ea",
   "metadata": {},
   "outputs": [],
   "source": [
    "%%R\n",
    "# Predicting on test data and calculate performance metrics\n",
    "predictions <- predict(model, newdata = test_data, type = \"response\")\n",
    "test_data$predictedClass <- ifelse(predictions > 0.5, 1, 0)\n",
    "accuracy <- mean(test_data$predictedClass == test_data$binaryDrivingMode)\n",
    "cat(\"Model Accuracy:\", accuracy, \"\\n\")"
   ]
  },
  {
   "cell_type": "code",
   "execution_count": null,
   "id": "d77f0dec-e5db-4279-ba0d-9f8a3e549638",
   "metadata": {},
   "outputs": [],
   "source": []
  },
  {
   "cell_type": "code",
   "execution_count": null,
   "id": "73bf92ad-1a87-499a-bfdc-70100856e95d",
   "metadata": {},
   "outputs": [],
   "source": []
  }
 ],
 "metadata": {
  "kernelspec": {
   "display_name": "Python 3 (ipykernel)",
   "language": "python",
   "name": "python3"
  },
  "language_info": {
   "codemirror_mode": {
    "name": "ipython",
    "version": 3
   },
   "file_extension": ".py",
   "mimetype": "text/x-python",
   "name": "python",
   "nbconvert_exporter": "python",
   "pygments_lexer": "ipython3",
   "version": "3.10.12"
  }
 },
 "nbformat": 4,
 "nbformat_minor": 5
}
