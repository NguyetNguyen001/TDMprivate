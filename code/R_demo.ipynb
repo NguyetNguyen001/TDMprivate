{
 "cells": [
  {
   "cell_type": "code",
   "execution_count": 1,
   "metadata": {},
   "outputs": [],
   "source": [
    "%load_ext rpy2.ipython\n"
   ]
  },
  {
   "cell_type": "code",
   "execution_count": 2,
   "metadata": {},
   "outputs": [
    {
     "name": "stdout",
     "output_type": "stream",
     "text": [
      "[1] \"3a116996-93a9-11ee-956e-9da2d070324c\"\n",
      "[2] \"feaf2ba8-d28d-11ee-b437-336917683bb8\"\n"
     ]
    },
    {
     "data": {
      "text/plain": [
       "data.table 1.16.2 using 2 threads (see ?getDTthreads).  Latest news: r-datatable.com\n",
       "In addition: Warning message:\n",
       "In (function (package, help, pos = 2, lib.loc = NULL, character.only = FALSE,  :\n",
       "  libraries ‘/usr/local/lib/R/site-library’, ‘/usr/lib/R/site-library’ contain no packages\n"
      ]
     },
     "metadata": {},
     "output_type": "display_data"
    }
   ],
   "source": [
    "%%R\n",
    "library(data.table)\n",
    "\n",
    "gmIDs <- c(\n",
    "    \"3a116996-93a9-11ee-956e-9da2d070324c\", \n",
    "           \"feaf2ba8-d28d-11ee-b437-336917683bb8\"\n",
    "           )\n",
    "print(gmIDs)\n"
   ]
  },
  {
   "cell_type": "code",
   "execution_count": 3,
   "metadata": {},
   "outputs": [],
   "source": [
    "%%R\n",
    "\n",
    "binary_driving_mode <- function(df_chassis) {\n",
    "  result <- ifelse(df_chassis$drivingMode == \"COMPLETE_AUTO_DRIVE\", 1,0)\n",
    "  \n",
    "  return (result)\n",
    "}"
   ]
  },
  {
   "cell_type": "code",
   "execution_count": 5,
   "metadata": {},
   "outputs": [
    {
     "name": "stdout",
     "output_type": "stream",
     "text": [
      "[1] \"3a116996-93a9-11ee-956e-9da2d070324c\"\n",
      "[1] \"feaf2ba8-d28d-11ee-b437-336917683bb8\"\n",
      "[1] \"done loading data\"\n"
     ]
    }
   ],
   "source": [
    "%%R\n",
    "\n",
    "df_chassis <- data.frame()\n",
    "df_pose <- data.frame()\n",
    "\n",
    "for (id in gmIDs) {\n",
    "    \n",
    "    print(id)\n",
    "    temp_chassis <- read.csv(sprintf(\"./data/Raw_Data/%s/_apollo_canbus_chassis/%s_apollo_canbus_chassis.csv\", id, id))\n",
    "    temp_pose <- read.csv(sprintf(\"./data/Raw_Data/%s/_apollo_sensor_gnss_best_pose/%s_apollo_sensor_gnss_best_pose.csv\", id, id))\n",
    "    \n",
    "    df_chassis <- rbind(df_chassis, temp_chassis)\n",
    "    df_pose <- rbind(df_pose, temp_pose)\n",
    "}\n",
    "\n",
    "print(\"done loading data\")\n"
   ]
  },
  {
   "cell_type": "code",
   "execution_count": 6,
   "metadata": {},
   "outputs": [],
   "source": [
    "%%R\n",
    "#print(dim(df_chassis))\n",
    "#print(dim(df_pose))\n",
    "\n",
    "\n",
    "df_chassis$binaryDrivingMode <- binary_driving_mode(df_chassis)"
   ]
  },
  {
   "cell_type": "code",
   "execution_count": 11,
   "metadata": {},
   "outputs": [
    {
     "name": "stdout",
     "output_type": "stream",
     "text": [
      "   Min. 1st Qu.  Median    Mean 3rd Qu.    Max. \n",
      " 0.0000  0.0000  0.0000  0.4489  1.0000  1.0000 \n"
     ]
    }
   ],
   "source": [
    "%%R\n",
    "\n",
    "summary(df_chassis$binaryDrivingMode)"
   ]
  },
  {
   "cell_type": "code",
   "execution_count": null,
   "metadata": {},
   "outputs": [],
   "source": [
    "# Create sample data\n",
    "\n",
    "\n",
    "# Create a scatter plot\n",
    "plot(df_pose$latitude, $longitude, \n",
    "     main = \"Scatter Plot\",  # Title\n",
    "     xlab = \"latitude\",   # X-axis label\n",
    "     ylab = \"longitude\",   # Y-axis label\n",
    "     pch = 19,                # Point type\n",
    "     col = \"blue\")           # Point color\n"
   ]
  }
 ],
 "metadata": {
  "kernelspec": {
   "display_name": "do-env",
   "language": "python",
   "name": "python3"
  },
  "language_info": {
   "codemirror_mode": {
    "name": "ipython",
    "version": 3
   },
   "file_extension": ".py",
   "mimetype": "text/x-python",
   "name": "python",
   "nbconvert_exporter": "python",
   "pygments_lexer": "ipython3",
   "version": "3.10.12"
  }
 },
 "nbformat": 4,
 "nbformat_minor": 2
}
