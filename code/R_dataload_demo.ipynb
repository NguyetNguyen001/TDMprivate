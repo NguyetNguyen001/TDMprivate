{
 "cells": [
  {
   "cell_type": "markdown",
   "metadata": {},
   "source": [
    "### Load R and install necessary packages\n"
   ]
  },
  {
   "cell_type": "code",
   "execution_count": null,
   "metadata": {},
   "outputs": [],
   "source": [
    "%load_ext rpy2.ipython"
   ]
  },
  {
   "cell_type": "code",
   "execution_count": 13,
   "metadata": {},
   "outputs": [],
   "source": [
    "%%R\n",
    "\n",
    "#install.packages(\"tibble\")\n",
    "#install.packages(\"dplyr\")\n",
    "\n",
    "\n",
    "library(tibble)\n",
    "library(dplyr)\n"
   ]
  },
  {
   "cell_type": "markdown",
   "metadata": {
    "vscode": {
     "languageId": "r"
    }
   },
   "source": [
    "### List desired gmIDs\n"
   ]
  },
  {
   "cell_type": "code",
   "execution_count": null,
   "metadata": {},
   "outputs": [],
   "source": [
    "%%R\n",
    "\n",
    "gmIDs <- c(\n",
    "    \"feaf2ba8-d28d-11ee-b437-336917683bb8\"\n",
    "           )\n",
    "print(gmIDs)\n"
   ]
  },
  {
   "cell_type": "markdown",
   "metadata": {
    "vscode": {
     "languageId": "r"
    }
   },
   "source": [
    "### Define useful functions\n"
   ]
  },
  {
   "cell_type": "code",
   "execution_count": 15,
   "metadata": {},
   "outputs": [],
   "source": [
    "%%R\n",
    "\n",
    "binary_driving_mode <- function (df_chassis) {\n",
    "    result <- ifelse(df_chassis$drivingMode == \"COMPLETE_AUTO_DRIVE\", 1, 0)\n",
    "\n",
    "    return(result)\n",
    "}\n",
    "\n",
    "merge_chassis_pose <- function (df_chassis, df_pose) {\n",
    "    \n",
    "    \n",
    "    df_chassis <- df_chassis[order(df_chassis$time), ]\n",
    "    df_pose <- df_pose[order(df_pose$time), ]\n",
    "    \n",
    "    #make sure data is sorted by time fist\n",
    "\n",
    "    chassis_time_arr <- df_chassis$time\n",
    "    pose_time_arr <- df_pose$time\n",
    "\n",
    "    matched_vector <- c()\n",
    "\n",
    "    for (chassis_time in chassis_time_arr) {\n",
    "        abs_time_diff_arr <- abs(pose_time_arr - chassis_time)\n",
    "\n",
    "        min_index <-  which(abs_time_diff_arr == min(abs_time_diff_arr))\n",
    "        \n",
    "        matched_vector <-  c(matched_vector, pose_time_arr[min_index])\n",
    "    }\n",
    "\n",
    "\n",
    "\n",
    "    #df_chassis$matched <- df_pose$time[which(abs(pose_time_arr - df_chassis$time) == min(abs(pose_time_arr - df_chassis$time)))]\n",
    "    df_chassis$matched <-  matched_vector\n",
    "    df_pose$matched <-  df_pose$time\n",
    "\n",
    "\n",
    "    return (list(df_chassis = df_chassis, df_pose = df_pose))\n",
    "\n",
    "\n",
    "}"
   ]
  },
  {
   "cell_type": "markdown",
   "metadata": {
    "vscode": {
     "languageId": "r"
    }
   },
   "source": [
    "### Read chassis and best_pose data into one large tibble\n"
   ]
  },
  {
   "cell_type": "code",
   "execution_count": null,
   "metadata": {},
   "outputs": [],
   "source": [
    "%%R\n",
    "\n",
    "df_merged <- tibble()\n",
    "\n",
    "for (id in gmIDs) {\n",
    "    \n",
    "    print(id)\n",
    "    #temp_chassis <- read_csv(sprintf(\"./data/chassis/%s.csv\", id), show_col_types = FALSE)\n",
    "    #temp_pose <- read_csv(sprintf(\"./data/best_pose/%s.csv\", id),show_col_types = FALSE)\n",
    "    #temp_chassis <- as_tibble(read.csv(sprintf(\"./data/Raw_Data/%s/_apollo_canbus_chassis/%s_apollo_canbus_chassis.csv\", id, id)))\n",
    "    #temp_pose <- as_tibble(read.csv(sprintf(\"./data/Raw_Data/%s/_apollo_sensor_gnss_best_pose/%s_apollo_sensor_gnss_best_pose.csv\", id, id)))\n",
    "    \n",
    "    temp_chassis <- as_tibble(read.csv(sprintf(\"../data/%s/_apollo_canbus_chassis/%s_apollo_canbus_chassis.csv\", id, id)))\n",
    "    temp_pose <- as_tibble(read.csv(sprintf(\"../data/%s/_apollo_sensor_gnss_best_pose/%s_apollo_sensor_gnss_best_pose.csv\", id, id)))\n",
    "    \n",
    "    \n",
    "    results <- merge_chassis_pose(temp_chassis,temp_pose)\n",
    "\n",
    "    result_full <- full_join(results$df_chassis,results$df_pose, by = \"matched\")\n",
    "\n",
    "\n",
    "    result_full$binaryDrivingMode <- binary_driving_mode(result_full)\n",
    "\n",
    "    df_merged <- bind_rows(df_merged, result_full)\n",
    "}\n",
    "\n",
    "print(\"done loading data\")\n"
   ]
  },
  {
   "cell_type": "code",
   "execution_count": null,
   "metadata": {},
   "outputs": [],
   "source": [
    "%%R\n",
    "\n",
    "glimpse(df_merged)"
   ]
  },
  {
   "cell_type": "markdown",
   "metadata": {
    "vscode": {
     "languageId": "r"
    }
   },
   "source": [
    "### Check distribution of driving modes. 0 = manual, 1 = automatic\n"
   ]
  },
  {
   "cell_type": "code",
   "execution_count": null,
   "metadata": {},
   "outputs": [],
   "source": [
    "%%R\n",
    "table(df_merged$binaryDrivingMode)"
   ]
  }
 ],
 "metadata": {
  "kernelspec": {
   "display_name": "do-env",
   "language": "python",
   "name": "python3"
  },
  "language_info": {
   "codemirror_mode": {
    "name": "ipython",
    "version": 3
   },
   "file_extension": ".py",
   "mimetype": "text/x-python",
   "name": "python",
   "nbconvert_exporter": "python",
   "pygments_lexer": "ipython3",
   "version": "3.10.12"
  }
 },
 "nbformat": 4,
 "nbformat_minor": 2
}
