{
 "cells": [
  {
   "cell_type": "code",
   "execution_count": 56,
   "id": "d6068f24-3139-4ac1-8f6e-d9dc5ff4d800",
   "metadata": {},
   "outputs": [],
   "source": [
    "import CalculatedFieldSubroutines as cfs\n",
    "\n",
    "#\n",
    "\n",
    "import numpy as np\n",
    "\n",
    "import pandas as pd\n",
    "\n",
    "#\n",
    "\n",
    "import matplotlib.pyplot as plt\n",
    "\n",
    "from pandasgui import show\n",
    "\n",
    "#\n",
    "\n",
    "import warnings"
   ]
  },
  {
   "cell_type": "code",
   "execution_count": 57,
   "id": "141bb949-aceb-4215-a866-286def6298c3",
   "metadata": {},
   "outputs": [
    {
     "name": "stdout",
     "output_type": "stream",
     "text": [
      "['/apollo/canbus/chassis', '/apollo/drive/event', '/apollo/sensor/gnss/best/pose', '/apollo/perception/traffic/light']\n"
     ]
    }
   ],
   "source": [
    "gmIDs = cfs.list_whitelisted_gmIDs()\n",
    "\n",
    "topics = cfs.list_topics()\n",
    "\n",
    "print( topics )"
   ]
  },
  {
   "cell_type": "code",
   "execution_count": 58,
   "id": "8fb63623-f878-4d53-9db6-2ec9c6909116",
   "metadata": {},
   "outputs": [],
   "source": [
    "test_chassis_df = cfs.retrieve_gmID_topic( gmIDs[ 0 ], '/apollo/canbus/chassis' )\n",
    "\n",
    "test_pose_df = cfs.retrieve_gmID_topic( gmIDs[ 0 ], '/apollo/sensor/gnss/best/pose' )\n",
    "\n",
    "test_traffic_df = cfs.retrieve_gmID_topic( gmIDs[ 0 ], '/apollo/perception/traffic/light' )\n",
    "\n",
    "test_drive_df = cfs.retrieve_gmID_topic( gmIDs[ 0 ], '/apollo/drive/event' )\n",
    "\n",
    "test_chassis_df = test_chassis_df.sort_values( 'time' )\n",
    "\n",
    "test_pose_df = test_pose_df.sort_values( 'time' )\n",
    "\n",
    "test_traffic_df = test_traffic_df.sort_values( 'time' )\n",
    "\n",
    "test_drive_df = test_drive_df.sort_values( 'time' )"
   ]
  },
  {
   "cell_type": "code",
   "execution_count": 59,
   "id": "893206f5-75dc-41d7-9765-379d9de892c7",
   "metadata": {},
   "outputs": [],
   "source": [
    "cfs.Index( test_chassis_df )\n",
    "\n",
    "cfs.BinaryDrivingMode( test_chassis_df )\n",
    "\n",
    "cfs.TernaryDrivingModeTransition( test_chassis_df )\n",
    "\n",
    "cfs.BinaryDisengagement( test_chassis_df )\n",
    "\n",
    "cfs.Acceleration( test_chassis_df )"
   ]
  },
  {
   "cell_type": "code",
   "execution_count": 60,
   "id": "2863406d-1bac-4bbb-be1b-8214dd822514",
   "metadata": {},
   "outputs": [],
   "source": [
    "test_chassis_df = test_chassis_df.drop( [ 'drivingMode', 'TernaryDrivingModeTransition' ], axis = 1 )"
   ]
  },
  {
   "cell_type": "code",
   "execution_count": 61,
   "id": "73e21c53-2651-4c2e-aa9b-65a5227387da",
   "metadata": {},
   "outputs": [
    {
     "name": "stdout",
     "output_type": "stream",
     "text": [
      "<class 'pandas.core.frame.DataFrame'>\n",
      "RangeIndex: 56112 entries, 0 to 56111\n",
      "Data columns (total 11 columns):\n",
      " #   Column               Non-Null Count  Dtype  \n",
      "---  ------               --------------  -----  \n",
      " 0   brakePercentage      56112 non-null  float64\n",
      " 1   groupMetadataID      56112 non-null  object \n",
      " 2   speedMps             56112 non-null  float64\n",
      " 3   time                 56112 non-null  int64  \n",
      " 4   throttlePercentage   56112 non-null  float64\n",
      " 5   steeringPercentage   56112 non-null  float64\n",
      " 6   signal.turnSignal    56112 non-null  object \n",
      " 7   Ind                  56112 non-null  int64  \n",
      " 8   BinaryDrivingMode    56112 non-null  int64  \n",
      " 9   BinaryDisengagement  56112 non-null  int64  \n",
      " 10  Acceleration         56112 non-null  float64\n",
      "dtypes: float64(5), int64(4), object(2)\n",
      "memory usage: 4.7+ MB\n"
     ]
    }
   ],
   "source": [
    "test_chassis_df.info()"
   ]
  },
  {
   "cell_type": "code",
   "execution_count": 62,
   "id": "cdd50a03-8a4e-4e65-9a25-fb554e6afc31",
   "metadata": {},
   "outputs": [
    {
     "data": {
      "text/plain": [
       "False"
      ]
     },
     "execution_count": 62,
     "metadata": {},
     "output_type": "execute_result"
    }
   ],
   "source": [
    "cfs.LatLonTotalStdDev( test_pose_df )\n",
    "\n",
    "cfs.ProgressAlongRoute_v2( test_pose_df )"
   ]
  },
  {
   "cell_type": "code",
   "execution_count": 63,
   "id": "9ec44fc9-db98-45aa-9c8e-d35d9539ce70",
   "metadata": {},
   "outputs": [],
   "source": [
    "test_pose_df = test_pose_df.drop( [ 'heightMsl', 'groupMetadataID', 'latitudeStdDev', 'heightStdDev', 'longitudeStdDev', 'PartitionNumber' ], axis = 1 )"
   ]
  },
  {
   "cell_type": "code",
   "execution_count": 64,
   "id": "33652411-2e3a-4451-93ac-ed343d3bf341",
   "metadata": {},
   "outputs": [
    {
     "name": "stdout",
     "output_type": "stream",
     "text": [
      "<class 'pandas.core.frame.DataFrame'>\n",
      "RangeIndex: 1851 entries, 0 to 1850\n",
      "Data columns (total 9 columns):\n",
      " #   Column                  Non-Null Count  Dtype  \n",
      "---  ------                  --------------  -----  \n",
      " 0   longitude               1851 non-null   float64\n",
      " 1   solType                 1851 non-null   object \n",
      " 2   extendedSolutionStatus  1851 non-null   int64  \n",
      " 3   time                    1851 non-null   int64  \n",
      " 4   solStatus               1851 non-null   object \n",
      " 5   latitude                1851 non-null   float64\n",
      " 6   numSatsInSolution       1851 non-null   int64  \n",
      " 7   LatLonTotalStdDev       1851 non-null   float64\n",
      " 8   ProgressAlongRoute      1851 non-null   float64\n",
      "dtypes: float64(4), int64(3), object(2)\n",
      "memory usage: 130.3+ KB\n"
     ]
    }
   ],
   "source": [
    "test_pose_df.info()"
   ]
  },
  {
   "cell_type": "code",
   "execution_count": 65,
   "id": "3f496ec4-1060-4870-93c9-52359acdb60a",
   "metadata": {},
   "outputs": [],
   "source": [
    "test_traffic_df = test_traffic_df.drop( [ 'groupMetadataID' ], axis = 1 )"
   ]
  },
  {
   "cell_type": "code",
   "execution_count": 66,
   "id": "23a1d73f-cee4-4c1e-8309-de7a887ce7a9",
   "metadata": {},
   "outputs": [
    {
     "name": "stdout",
     "output_type": "stream",
     "text": [
      "<class 'pandas.core.frame.DataFrame'>\n",
      "RangeIndex: 9816 entries, 0 to 9815\n",
      "Data columns (total 5 columns):\n",
      " #   Column                                Non-Null Count  Dtype  \n",
      "---  ------                                --------------  -----  \n",
      " 0   time                                  9816 non-null   int64  \n",
      " 1   cameraId                              9816 non-null   object \n",
      " 2   containLights                         2487 non-null   object \n",
      " 3   trafficLight                          2487 non-null   object \n",
      " 4   trafficLightDebug.distanceToStopLine  2487 non-null   float64\n",
      "dtypes: float64(1), int64(1), object(3)\n",
      "memory usage: 383.6+ KB\n"
     ]
    }
   ],
   "source": [
    "test_traffic_df.info()"
   ]
  },
  {
   "cell_type": "code",
   "execution_count": 67,
   "id": "7f4be7da-00a8-4dc8-8e62-8bb1c678e905",
   "metadata": {},
   "outputs": [],
   "source": [
    "cfs.ChassisBestPoseMatchedTime( test_chassis_df, test_pose_df )\n",
    "\n",
    "test_merged_df1 = pd.merge( test_chassis_df, test_pose_df, on = 'ChassisBestPoseMatchedTime', how = 'inner' )"
   ]
  },
  {
   "cell_type": "code",
   "execution_count": 69,
   "id": "fec50398-5dac-4423-9617-252a0a9a0f1d",
   "metadata": {},
   "outputs": [],
   "source": [
    "test_merged_df1 = test_merged_df1.rename( columns = { 'time_x' : 'time' } )\n",
    "\n",
    "test_merged_df1 = test_merged_df1.drop( [ 'ChassisBestPoseMatchedTime', 'time_y' ], axis = 1 )"
   ]
  },
  {
   "cell_type": "code",
   "execution_count": 70,
   "id": "0bcddca3-7e74-4316-af46-270234fd853b",
   "metadata": {},
   "outputs": [
    {
     "name": "stdout",
     "output_type": "stream",
     "text": [
      "<class 'pandas.core.frame.DataFrame'>\n",
      "RangeIndex: 56112 entries, 0 to 56111\n",
      "Data columns (total 19 columns):\n",
      " #   Column                  Non-Null Count  Dtype  \n",
      "---  ------                  --------------  -----  \n",
      " 0   brakePercentage         56112 non-null  float64\n",
      " 1   groupMetadataID         56112 non-null  object \n",
      " 2   speedMps                56112 non-null  float64\n",
      " 3   time                    56112 non-null  int64  \n",
      " 4   throttlePercentage      56112 non-null  float64\n",
      " 5   steeringPercentage      56112 non-null  float64\n",
      " 6   signal.turnSignal       56112 non-null  object \n",
      " 7   Ind                     56112 non-null  int64  \n",
      " 8   BinaryDrivingMode       56112 non-null  int64  \n",
      " 9   BinaryDisengagement     56112 non-null  int64  \n",
      " 10  Acceleration            56112 non-null  float64\n",
      " 11  longitude               56112 non-null  float64\n",
      " 12  solType                 56112 non-null  object \n",
      " 13  extendedSolutionStatus  56112 non-null  int64  \n",
      " 14  solStatus               56112 non-null  object \n",
      " 15  latitude                56112 non-null  float64\n",
      " 16  numSatsInSolution       56112 non-null  int64  \n",
      " 17  LatLonTotalStdDev       56112 non-null  float64\n",
      " 18  ProgressAlongRoute      56112 non-null  float64\n",
      "dtypes: float64(9), int64(6), object(4)\n",
      "memory usage: 8.1+ MB\n"
     ]
    }
   ],
   "source": [
    "test_merged_df1.info()"
   ]
  },
  {
   "cell_type": "code",
   "execution_count": 71,
   "id": "80e7f785-469a-49d7-be5f-14784a86a14d",
   "metadata": {},
   "outputs": [],
   "source": [
    "cfs.ChassisBestPoseMatchedTime( test_merged_df1, test_traffic_df )\n",
    "\n",
    "test_merged_df2 = pd.merge( test_merged_df1, test_traffic_df, on = 'ChassisBestPoseMatchedTime', how = 'inner' )"
   ]
  },
  {
   "cell_type": "code",
   "execution_count": 74,
   "id": "68ef06ab-a6a0-4887-b398-b567390833fb",
   "metadata": {},
   "outputs": [],
   "source": [
    "test_merged_df2 = test_merged_df2.rename( columns = { 'time_x' : 'time' } )\n",
    "\n",
    "test_merged_df2 = test_merged_df2.drop( [ 'ChassisBestPoseMatchedTime', 'time_y' ], axis = 1 )"
   ]
  },
  {
   "cell_type": "code",
   "execution_count": 75,
   "id": "71f09b6e-3f76-4a58-a10a-2da7ee505784",
   "metadata": {},
   "outputs": [
    {
     "name": "stdout",
     "output_type": "stream",
     "text": [
      "<class 'pandas.core.frame.DataFrame'>\n",
      "RangeIndex: 56112 entries, 0 to 56111\n",
      "Data columns (total 23 columns):\n",
      " #   Column                                Non-Null Count  Dtype  \n",
      "---  ------                                --------------  -----  \n",
      " 0   brakePercentage                       56112 non-null  float64\n",
      " 1   groupMetadataID                       56112 non-null  object \n",
      " 2   speedMps                              56112 non-null  float64\n",
      " 3   time                                  56112 non-null  int64  \n",
      " 4   throttlePercentage                    56112 non-null  float64\n",
      " 5   steeringPercentage                    56112 non-null  float64\n",
      " 6   signal.turnSignal                     56112 non-null  object \n",
      " 7   Ind                                   56112 non-null  int64  \n",
      " 8   BinaryDrivingMode                     56112 non-null  int64  \n",
      " 9   BinaryDisengagement                   56112 non-null  int64  \n",
      " 10  Acceleration                          56112 non-null  float64\n",
      " 11  longitude                             56112 non-null  float64\n",
      " 12  solType                               56112 non-null  object \n",
      " 13  extendedSolutionStatus                56112 non-null  int64  \n",
      " 14  solStatus                             56112 non-null  object \n",
      " 15  latitude                              56112 non-null  float64\n",
      " 16  numSatsInSolution                     56112 non-null  int64  \n",
      " 17  LatLonTotalStdDev                     56112 non-null  float64\n",
      " 18  ProgressAlongRoute                    56112 non-null  float64\n",
      " 19  cameraId                              56112 non-null  object \n",
      " 20  containLights                         13919 non-null  object \n",
      " 21  trafficLight                          13919 non-null  object \n",
      " 22  trafficLightDebug.distanceToStopLine  13919 non-null  float64\n",
      "dtypes: float64(10), int64(6), object(7)\n",
      "memory usage: 9.8+ MB\n"
     ]
    }
   ],
   "source": [
    "test_merged_df2.info()"
   ]
  },
  {
   "cell_type": "code",
   "execution_count": 76,
   "id": "4766877a-03b5-408e-ae21-c79cfb5827ee",
   "metadata": {},
   "outputs": [
    {
     "name": "stderr",
     "output_type": "stream",
     "text": [
      "PandasGUI INFO — pandasgui.gui — Opening PandasGUI\n",
      "/tmp/ipykernel_173512/4208642310.py:1: FutureWarning:\n",
      "\n",
      "Series.__getitem__ treating keys as positions is deprecated. In a future version, integer keys will always be treated as labels (consistent with DataFrame behavior). To access a value by position, use `ser.iloc[pos]`\n",
      "\n",
      "/tmp/ipykernel_173512/4208642310.py:1: FutureWarning:\n",
      "\n",
      "Series.__getitem__ treating keys as positions is deprecated. In a future version, integer keys will always be treated as labels (consistent with DataFrame behavior). To access a value by position, use `ser.iloc[pos]`\n",
      "\n",
      "/tmp/ipykernel_173512/4208642310.py:1: FutureWarning:\n",
      "\n",
      "Series.__getitem__ treating keys as positions is deprecated. In a future version, integer keys will always be treated as labels (consistent with DataFrame behavior). To access a value by position, use `ser.iloc[pos]`\n",
      "\n",
      "/tmp/ipykernel_173512/4208642310.py:1: FutureWarning:\n",
      "\n",
      "Series.__getitem__ treating keys as positions is deprecated. In a future version, integer keys will always be treated as labels (consistent with DataFrame behavior). To access a value by position, use `ser.iloc[pos]`\n",
      "\n",
      "/tmp/ipykernel_173512/4208642310.py:1: FutureWarning:\n",
      "\n",
      "Series.__getitem__ treating keys as positions is deprecated. In a future version, integer keys will always be treated as labels (consistent with DataFrame behavior). To access a value by position, use `ser.iloc[pos]`\n",
      "\n",
      "/tmp/ipykernel_173512/4208642310.py:1: FutureWarning:\n",
      "\n",
      "Series.__getitem__ treating keys as positions is deprecated. In a future version, integer keys will always be treated as labels (consistent with DataFrame behavior). To access a value by position, use `ser.iloc[pos]`\n",
      "\n"
     ]
    },
    {
     "data": {
      "text/plain": [
       "<pandasgui.gui.PandasGui at 0x7c102e75b2e0>"
      ]
     },
     "execution_count": 76,
     "metadata": {},
     "output_type": "execute_result"
    },
    {
     "name": "stderr",
     "output_type": "stream",
     "text": [
      "/home/rcoldren_linux/do-env/lib/python3.10/site-packages/ipykernel/eventloops.py:145: FutureWarning:\n",
      "\n",
      "Series.__getitem__ treating keys as positions is deprecated. In a future version, integer keys will always be treated as labels (consistent with DataFrame behavior). To access a value by position, use `ser.iloc[pos]`\n",
      "\n"
     ]
    }
   ],
   "source": [
    "show( test_merged_df2 )"
   ]
  },
  {
   "cell_type": "code",
   "execution_count": null,
   "id": "f3f57af0-dab7-4bbb-b0e7-5fc4d9befa2a",
   "metadata": {},
   "outputs": [],
   "source": []
  }
 ],
 "metadata": {
  "kernelspec": {
   "display_name": "Python 3 (ipykernel)",
   "language": "python",
   "name": "python3"
  },
  "language_info": {
   "codemirror_mode": {
    "name": "ipython",
    "version": 3
   },
   "file_extension": ".py",
   "mimetype": "text/x-python",
   "name": "python",
   "nbconvert_exporter": "python",
   "pygments_lexer": "ipython3",
   "version": "3.10.12"
  }
 },
 "nbformat": 4,
 "nbformat_minor": 5
}
