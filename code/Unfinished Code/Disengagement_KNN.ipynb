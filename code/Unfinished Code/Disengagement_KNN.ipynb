{
 "cells": [
  {
   "cell_type": "code",
   "execution_count": 1,
   "id": "9d05c4fb-af6c-4057-ac4c-6ffd7f28a8c2",
   "metadata": {},
   "outputs": [],
   "source": [
    "import CalculatedFieldSubroutines as cfs\n",
    "\n",
    "#\n",
    "\n",
    "import numpy as np\n",
    "\n",
    "import pandas as pd\n",
    "\n",
    "#\n",
    "\n",
    "import matplotlib.pyplot as plt\n",
    "\n",
    "from pandasgui import show\n",
    "\n",
    "#\n",
    "\n",
    "import warnings"
   ]
  },
  {
   "cell_type": "code",
   "execution_count": 2,
   "id": "60160291-b8df-4fb9-9969-8f218f15d298",
   "metadata": {},
   "outputs": [],
   "source": [
    "warnings.filterwarnings( 'ignore' )"
   ]
  },
  {
   "cell_type": "code",
   "execution_count": 3,
   "id": "2d1cb636-7395-49f1-93d9-12ddb5fe6e15",
   "metadata": {},
   "outputs": [
    {
     "name": "stdout",
     "output_type": "stream",
     "text": [
      "['/apollo/canbus/chassis', '/apollo/drive/event', '/apollo/sensor/gnss/best/pose', '/apollo/perception/traffic/light']\n"
     ]
    }
   ],
   "source": [
    "gmID_list = cfs.list_whitelisted_gmIDs()\n",
    "\n",
    "topic_list = cfs.list_topics()\n",
    "\n",
    "print( topic_list )"
   ]
  },
  {
   "cell_type": "code",
   "execution_count": 8,
   "id": "57ab24bc-f266-457d-ab42-53d53d2e0656",
   "metadata": {},
   "outputs": [
    {
     "name": "stdout",
     "output_type": "stream",
     "text": [
      "<class 'pandas.core.frame.DataFrame'>\n",
      "RangeIndex: 46118 entries, 0 to 46117\n",
      "Data columns (total 8 columns):\n",
      " #   Column              Non-Null Count  Dtype  \n",
      "---  ------              --------------  -----  \n",
      " 0   brakePercentage     46118 non-null  float64\n",
      " 1   groupMetadataID     46118 non-null  object \n",
      " 2   drivingMode         46118 non-null  object \n",
      " 3   speedMps            46118 non-null  float64\n",
      " 4   time                46118 non-null  int64  \n",
      " 5   throttlePercentage  46118 non-null  float64\n",
      " 6   steeringPercentage  46118 non-null  float64\n",
      " 7   signal.turnSignal   46118 non-null  object \n",
      "dtypes: float64(4), int64(1), object(3)\n",
      "memory usage: 2.8+ MB\n"
     ]
    }
   ],
   "source": [
    "cfs.retrieve_gmID_topic( gmID_list[ 0 ], '/apollo/canbus/chassis' ).info()"
   ]
  },
  {
   "cell_type": "code",
   "execution_count": null,
   "id": "03f0cb10-55e1-42d9-ba09-55e07640f018",
   "metadata": {},
   "outputs": [],
   "source": [
    "def RunningFunction( df, desired_colnames, operation, running_colname, window ):\n",
    "\n",
    "    if ( operation == 'mean' ):\n",
    "\n",
    "        def operation_func( arraylike_obj ): return np.mean( arraylike_obj )\n",
    "\n",
    "    elif ( operation == 'median' ):\n",
    "\n",
    "        def operation_func( arraylike_obj ): return np.median( arraylike_obj )\n",
    "\n",
    "    elif ( operation == 'diff' ):\n",
    "\n",
    "        def operation_func( arraylike_obj ): return ( arraylike_obj[ -1 ] - arraylike_obj[ 0 ] )\n",
    "\n",
    "    else:\n",
    "\n",
    "        raise Exception( \"'operation' argument only supports: 'mean', 'median', 'diff'\" )\n",
    "\n",
    "    #\n",
    "\n",
    "    running_col = np.array( df[ running_colname ] )\n",
    "\n",
    "    running_col_diff = np.diff( running_col )\n",
    "\n",
    "    #\n",
    "    \n",
    "    desired_cols = [ np.array( df[ desired_colname ] ) for desired_colname in desired_colnames ]\n",
    "\n",
    "    #\n",
    "\n",
    "    output_colnames = [ desired_colname + f'_{ operation }' for desired_colname in desired_colnames ]\n",
    "\n",
    "    #\n",
    "\n",
    "    window_indexes_list = []\n",
    "\n",
    "    for index in range( len( running_col ) - 1 ):\n",
    "\n",
    "        index = index + 1\n",
    "\n",
    "        window_end_index = index - 1\n",
    "\n",
    "        for window_start_index in range( window_end_index, -1 ):\n",
    "\n",
    "            value_sum = np.sum( running_col_diff[ window_start_index : window_end_index + 1 ] )\n",
    "\n",
    "            if ( value_sum >= window ):\n",
    "\n",
    "                break\n",
    "\n",
    "        window_indexes = [ index in range( window_start_index, window_end_index + 1 ) ]\n",
    "\n",
    "        window_indexes_list.append( window_indexes )\n",
    "\n",
    "    window_indexes_list = [ window_indexes_list[ 0 ] ] + window_indexes_list\n",
    "\n",
    "    #\n",
    "\n",
    "    \n",
    "\n",
    "            \n",
    "            \n",
    "\n",
    "        "
   ]
  },
  {
   "cell_type": "code",
   "execution_count": 10,
   "id": "797a714a-e2a0-4830-99ba-db4d26f379d4",
   "metadata": {},
   "outputs": [],
   "source": [
    "combined_dfs = []\n",
    "\n",
    "for gmID in gmID_list:\n",
    "\n",
    "    chassis_df = cfs.retrieve_gmID_topic( gmID, '/apollo/canbus/chassis' )\n",
    "\n",
    "    best_pose_df = cfs.retrieve_gmID_topic( gmID, '/apollo/sensor/gnss/best/pose' )\n",
    "\n",
    "    chassis_df = chassis_df.sort_values( 'time' )\n",
    "\n",
    "    best_pose_df = best_pose_df.sort_values( 'time' )\n",
    "\n",
    "    #\n",
    "\n",
    "    cfs.Acceleration( chassis_df, time_interval = 1 / 3 )\n",
    "\n",
    "    cfs.BinaryDrivingMode( chassis_df )\n",
    "\n",
    "    cfs.TernaryDrivingModeTransition( chassis_df )\n",
    "\n",
    "    cfs.DistanceToNearestDisengagement( chassis_df )\n",
    "\n",
    "    #\n",
    "\n",
    "    cfs.LatLonTotalStdDev( best_pose_df )\n",
    "\n",
    "    cfs.ProgressAlongRoute_v2( best_pose_df )\n",
    "\n",
    "    #\n",
    "\n",
    "    cfs.ChassisBestPoseMatchedTime( chassis_df, best_pose_df )\n",
    "\n",
    "    #\n",
    "\n",
    "    combined_df = pd.merge( chassis_df, best_pose_df, on = 'ChassisBestPoseMatchedTime', how = 'inner' )\n",
    "\n",
    "    #\n",
    "\n",
    "    combined_df = combined_df[ [ 'groupMetadataID_x', 'brakePercentage', 'speedMps', 'time_x', 'throttlePercentage', 'steeringPercentage', \\\n",
    "                                 'TernaryDrivingModeTransition', 'DistanceToNearestDisengagement', 'NearestDisengagementID', \\\n",
    "                                 'longitude', 'latitude', 'LatLonTotalStdDev', 'ProgressAlongRoute', 'PartitionNumber', 'Acceleration' ] ]\n",
    "\n",
    "    combined_dfs.append( combined_df )"
   ]
  },
  {
   "cell_type": "code",
   "execution_count": 11,
   "id": "3a9d0509-fa69-40e0-9b4a-1a08f8d2da3d",
   "metadata": {},
   "outputs": [],
   "source": [
    "combined_df_all = pd.concat( combined_dfs )\n",
    "\n",
    "del combined_dfs"
   ]
  },
  {
   "cell_type": "code",
   "execution_count": 15,
   "id": "b3d75a66-3d2d-4399-9270-0fea89b3ad76",
   "metadata": {},
   "outputs": [],
   "source": [
    "combined_df_all[ 'steeringPercentage' ] = np.abs( combined_df_all[ 'steeringPercentage' ] )"
   ]
  },
  {
   "cell_type": "code",
   "execution_count": 17,
   "id": "94c17c00-5876-4b97-974e-c9afb9fe0abf",
   "metadata": {},
   "outputs": [],
   "source": [
    "max_LatLonTotalStdDev = 10 #Free Variable 1\n",
    "\n",
    "#\n",
    "\n",
    "limited_stddev_list = []\n",
    "\n",
    "for stddev in combined_df_all[ 'LatLonTotalStdDev' ]:\n",
    "\n",
    "    if ( stddev > max_LatLonTotalStdDev ):\n",
    "\n",
    "        stddev = max_LatLonTotalStdDev\n",
    "\n",
    "    limited_stddev_list.append( stddev )\n",
    "\n",
    "combined_df_all[ 'LatLonTotalStdDev' ] = limited_stddev_list"
   ]
  },
  {
   "cell_type": "code",
   "execution_count": 18,
   "id": "90459c8c-c8d1-4e90-b856-a915eb59b10e",
   "metadata": {},
   "outputs": [],
   "source": [
    "search_dist_behind_disengagement = 50 #m #Free Variable 1\n",
    "\n",
    "combined_df_all_sliced = combined_df_all[ ( combined_df_all[ 'DistanceToNearestDisengagement' ] > -search_dist_behind_disengagement ) &\n",
    "                                          ( combined_df_all[ 'DistanceToNearestDisengagement' ] < 0 ) ]"
   ]
  },
  {
   "cell_type": "code",
   "execution_count": null,
   "id": "8029b8ad-cb8a-4da5-a24c-27b4f1163b68",
   "metadata": {},
   "outputs": [],
   "source": []
  }
 ],
 "metadata": {
  "kernelspec": {
   "display_name": "Python 3 (ipykernel)",
   "language": "python",
   "name": "python3"
  },
  "language_info": {
   "codemirror_mode": {
    "name": "ipython",
    "version": 3
   },
   "file_extension": ".py",
   "mimetype": "text/x-python",
   "name": "python",
   "nbconvert_exporter": "python",
   "pygments_lexer": "ipython3",
   "version": "3.10.12"
  }
 },
 "nbformat": 4,
 "nbformat_minor": 5
}
