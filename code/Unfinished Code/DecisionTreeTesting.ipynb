{
 "cells": [
  {
   "cell_type": "code",
   "execution_count": null,
   "id": "e8e6444f-37be-44b9-9140-c5b8064c2bfc",
   "metadata": {},
   "outputs": [],
   "source": []
  },
  {
   "cell_type": "code",
   "execution_count": 5,
   "id": "a4a73d5a-8830-4feb-bd75-bbd6bdcc4c9c",
   "metadata": {},
   "outputs": [],
   "source": [
    "#Import CalculatedFieldSubroutines to manipulate particular dataset\n",
    "import CalculatedFieldSubroutines as cfs\n",
    "\n",
    "#Import numpy\n",
    "\n",
    "import numpy as np\n",
    "\n",
    "#Import pandas\n",
    "\n",
    "import pandas as pd\n",
    "#Install sklearn\n",
    "\n",
    "#Import tree from sklearn\n",
    "\n",
    "from sklearn import tree\n",
    "\n",
    "#Import matplotlib.pyplot\n",
    "\n",
    "import matplotlib.pyplot as plt\n",
    "\n",
    "#Import show from pandasgui\n",
    "\n",
    "from pandasgui import show\n",
    "\n",
    "#Import warnings to warn the developer of situations that aren’t necessarily exceptions\n",
    "\n",
    "import warnings"
   ]
  },
  {
   "cell_type": "code",
   "execution_count": 9,
   "id": "7c8b8951-de1f-4d5d-85f9-89e46ff5ce65",
   "metadata": {},
   "outputs": [
    {
     "ename": "FileNotFoundError",
     "evalue": "[Errno 2] No such file or directory: '/home/ddrobnjak_linux/Desktop/TDMprivate/metadata/metadata.csv'",
     "output_type": "error",
     "traceback": [
      "\u001b[0;31m---------------------------------------------------------------------------\u001b[0m",
      "\u001b[0;31mFileNotFoundError\u001b[0m                         Traceback (most recent call last)",
      "Cell \u001b[0;32mIn[9], line 1\u001b[0m\n\u001b[0;32m----> 1\u001b[0m metadata_df \u001b[38;5;241m=\u001b[39m \u001b[43mcfs\u001b[49m\u001b[38;5;241;43m.\u001b[39;49m\u001b[43mretrieve_metadata_df\u001b[49m\u001b[43m(\u001b[49m\u001b[43m)\u001b[49m\n",
      "File \u001b[0;32m~/Desktop/TDMprivate/code/Unfinished Code/CalculatedFieldSubroutines.py:232\u001b[0m, in \u001b[0;36mretrieve_metadata_df\u001b[0;34m()\u001b[0m\n\u001b[1;32m    228\u001b[0m \u001b[38;5;28;01mdef\u001b[39;00m \u001b[38;5;21mretrieve_metadata_df\u001b[39m():\n\u001b[1;32m    230\u001b[0m     path \u001b[38;5;241m=\u001b[39m \u001b[38;5;124mf\u001b[39m\u001b[38;5;124m'\u001b[39m\u001b[38;5;132;01m{\u001b[39;00m\u001b[38;5;250m \u001b[39morigin_dir()\u001b[38;5;250m \u001b[39m\u001b[38;5;132;01m}\u001b[39;00m\u001b[38;5;124m/metadata/metadata.csv\u001b[39m\u001b[38;5;124m'\u001b[39m\n\u001b[0;32m--> 232\u001b[0m     metadata_df \u001b[38;5;241m=\u001b[39m \u001b[43mpd\u001b[49m\u001b[38;5;241;43m.\u001b[39;49m\u001b[43mread_csv\u001b[49m\u001b[43m(\u001b[49m\u001b[43m \u001b[49m\u001b[38;5;124;43mf\u001b[39;49m\u001b[38;5;124;43m'\u001b[39;49m\u001b[38;5;132;43;01m{\u001b[39;49;00m\u001b[38;5;250;43m \u001b[39;49m\u001b[43morigin_dir\u001b[49m\u001b[43m(\u001b[49m\u001b[43m)\u001b[49m\u001b[38;5;250;43m \u001b[39;49m\u001b[38;5;132;43;01m}\u001b[39;49;00m\u001b[38;5;124;43m/metadata/metadata.csv\u001b[39;49m\u001b[38;5;124;43m'\u001b[39;49m\u001b[43m \u001b[49m\u001b[43m)\u001b[49m\n\u001b[1;32m    234\u001b[0m     \u001b[38;5;28;01mreturn\u001b[39;00m metadata_df\n",
      "File \u001b[0;32m~/do-env/lib/python3.10/site-packages/pandas/io/parsers/readers.py:1026\u001b[0m, in \u001b[0;36mread_csv\u001b[0;34m(filepath_or_buffer, sep, delimiter, header, names, index_col, usecols, dtype, engine, converters, true_values, false_values, skipinitialspace, skiprows, skipfooter, nrows, na_values, keep_default_na, na_filter, verbose, skip_blank_lines, parse_dates, infer_datetime_format, keep_date_col, date_parser, date_format, dayfirst, cache_dates, iterator, chunksize, compression, thousands, decimal, lineterminator, quotechar, quoting, doublequote, escapechar, comment, encoding, encoding_errors, dialect, on_bad_lines, delim_whitespace, low_memory, memory_map, float_precision, storage_options, dtype_backend)\u001b[0m\n\u001b[1;32m   1013\u001b[0m kwds_defaults \u001b[38;5;241m=\u001b[39m _refine_defaults_read(\n\u001b[1;32m   1014\u001b[0m     dialect,\n\u001b[1;32m   1015\u001b[0m     delimiter,\n\u001b[0;32m   (...)\u001b[0m\n\u001b[1;32m   1022\u001b[0m     dtype_backend\u001b[38;5;241m=\u001b[39mdtype_backend,\n\u001b[1;32m   1023\u001b[0m )\n\u001b[1;32m   1024\u001b[0m kwds\u001b[38;5;241m.\u001b[39mupdate(kwds_defaults)\n\u001b[0;32m-> 1026\u001b[0m \u001b[38;5;28;01mreturn\u001b[39;00m \u001b[43m_read\u001b[49m\u001b[43m(\u001b[49m\u001b[43mfilepath_or_buffer\u001b[49m\u001b[43m,\u001b[49m\u001b[43m \u001b[49m\u001b[43mkwds\u001b[49m\u001b[43m)\u001b[49m\n",
      "File \u001b[0;32m~/do-env/lib/python3.10/site-packages/pandas/io/parsers/readers.py:620\u001b[0m, in \u001b[0;36m_read\u001b[0;34m(filepath_or_buffer, kwds)\u001b[0m\n\u001b[1;32m    617\u001b[0m _validate_names(kwds\u001b[38;5;241m.\u001b[39mget(\u001b[38;5;124m\"\u001b[39m\u001b[38;5;124mnames\u001b[39m\u001b[38;5;124m\"\u001b[39m, \u001b[38;5;28;01mNone\u001b[39;00m))\n\u001b[1;32m    619\u001b[0m \u001b[38;5;66;03m# Create the parser.\u001b[39;00m\n\u001b[0;32m--> 620\u001b[0m parser \u001b[38;5;241m=\u001b[39m \u001b[43mTextFileReader\u001b[49m\u001b[43m(\u001b[49m\u001b[43mfilepath_or_buffer\u001b[49m\u001b[43m,\u001b[49m\u001b[43m \u001b[49m\u001b[38;5;241;43m*\u001b[39;49m\u001b[38;5;241;43m*\u001b[39;49m\u001b[43mkwds\u001b[49m\u001b[43m)\u001b[49m\n\u001b[1;32m    622\u001b[0m \u001b[38;5;28;01mif\u001b[39;00m chunksize \u001b[38;5;129;01mor\u001b[39;00m iterator:\n\u001b[1;32m    623\u001b[0m     \u001b[38;5;28;01mreturn\u001b[39;00m parser\n",
      "File \u001b[0;32m~/do-env/lib/python3.10/site-packages/pandas/io/parsers/readers.py:1620\u001b[0m, in \u001b[0;36mTextFileReader.__init__\u001b[0;34m(self, f, engine, **kwds)\u001b[0m\n\u001b[1;32m   1617\u001b[0m     \u001b[38;5;28mself\u001b[39m\u001b[38;5;241m.\u001b[39moptions[\u001b[38;5;124m\"\u001b[39m\u001b[38;5;124mhas_index_names\u001b[39m\u001b[38;5;124m\"\u001b[39m] \u001b[38;5;241m=\u001b[39m kwds[\u001b[38;5;124m\"\u001b[39m\u001b[38;5;124mhas_index_names\u001b[39m\u001b[38;5;124m\"\u001b[39m]\n\u001b[1;32m   1619\u001b[0m \u001b[38;5;28mself\u001b[39m\u001b[38;5;241m.\u001b[39mhandles: IOHandles \u001b[38;5;241m|\u001b[39m \u001b[38;5;28;01mNone\u001b[39;00m \u001b[38;5;241m=\u001b[39m \u001b[38;5;28;01mNone\u001b[39;00m\n\u001b[0;32m-> 1620\u001b[0m \u001b[38;5;28mself\u001b[39m\u001b[38;5;241m.\u001b[39m_engine \u001b[38;5;241m=\u001b[39m \u001b[38;5;28;43mself\u001b[39;49m\u001b[38;5;241;43m.\u001b[39;49m\u001b[43m_make_engine\u001b[49m\u001b[43m(\u001b[49m\u001b[43mf\u001b[49m\u001b[43m,\u001b[49m\u001b[43m \u001b[49m\u001b[38;5;28;43mself\u001b[39;49m\u001b[38;5;241;43m.\u001b[39;49m\u001b[43mengine\u001b[49m\u001b[43m)\u001b[49m\n",
      "File \u001b[0;32m~/do-env/lib/python3.10/site-packages/pandas/io/parsers/readers.py:1880\u001b[0m, in \u001b[0;36mTextFileReader._make_engine\u001b[0;34m(self, f, engine)\u001b[0m\n\u001b[1;32m   1878\u001b[0m     \u001b[38;5;28;01mif\u001b[39;00m \u001b[38;5;124m\"\u001b[39m\u001b[38;5;124mb\u001b[39m\u001b[38;5;124m\"\u001b[39m \u001b[38;5;129;01mnot\u001b[39;00m \u001b[38;5;129;01min\u001b[39;00m mode:\n\u001b[1;32m   1879\u001b[0m         mode \u001b[38;5;241m+\u001b[39m\u001b[38;5;241m=\u001b[39m \u001b[38;5;124m\"\u001b[39m\u001b[38;5;124mb\u001b[39m\u001b[38;5;124m\"\u001b[39m\n\u001b[0;32m-> 1880\u001b[0m \u001b[38;5;28mself\u001b[39m\u001b[38;5;241m.\u001b[39mhandles \u001b[38;5;241m=\u001b[39m \u001b[43mget_handle\u001b[49m\u001b[43m(\u001b[49m\n\u001b[1;32m   1881\u001b[0m \u001b[43m    \u001b[49m\u001b[43mf\u001b[49m\u001b[43m,\u001b[49m\n\u001b[1;32m   1882\u001b[0m \u001b[43m    \u001b[49m\u001b[43mmode\u001b[49m\u001b[43m,\u001b[49m\n\u001b[1;32m   1883\u001b[0m \u001b[43m    \u001b[49m\u001b[43mencoding\u001b[49m\u001b[38;5;241;43m=\u001b[39;49m\u001b[38;5;28;43mself\u001b[39;49m\u001b[38;5;241;43m.\u001b[39;49m\u001b[43moptions\u001b[49m\u001b[38;5;241;43m.\u001b[39;49m\u001b[43mget\u001b[49m\u001b[43m(\u001b[49m\u001b[38;5;124;43m\"\u001b[39;49m\u001b[38;5;124;43mencoding\u001b[39;49m\u001b[38;5;124;43m\"\u001b[39;49m\u001b[43m,\u001b[49m\u001b[43m \u001b[49m\u001b[38;5;28;43;01mNone\u001b[39;49;00m\u001b[43m)\u001b[49m\u001b[43m,\u001b[49m\n\u001b[1;32m   1884\u001b[0m \u001b[43m    \u001b[49m\u001b[43mcompression\u001b[49m\u001b[38;5;241;43m=\u001b[39;49m\u001b[38;5;28;43mself\u001b[39;49m\u001b[38;5;241;43m.\u001b[39;49m\u001b[43moptions\u001b[49m\u001b[38;5;241;43m.\u001b[39;49m\u001b[43mget\u001b[49m\u001b[43m(\u001b[49m\u001b[38;5;124;43m\"\u001b[39;49m\u001b[38;5;124;43mcompression\u001b[39;49m\u001b[38;5;124;43m\"\u001b[39;49m\u001b[43m,\u001b[49m\u001b[43m \u001b[49m\u001b[38;5;28;43;01mNone\u001b[39;49;00m\u001b[43m)\u001b[49m\u001b[43m,\u001b[49m\n\u001b[1;32m   1885\u001b[0m \u001b[43m    \u001b[49m\u001b[43mmemory_map\u001b[49m\u001b[38;5;241;43m=\u001b[39;49m\u001b[38;5;28;43mself\u001b[39;49m\u001b[38;5;241;43m.\u001b[39;49m\u001b[43moptions\u001b[49m\u001b[38;5;241;43m.\u001b[39;49m\u001b[43mget\u001b[49m\u001b[43m(\u001b[49m\u001b[38;5;124;43m\"\u001b[39;49m\u001b[38;5;124;43mmemory_map\u001b[39;49m\u001b[38;5;124;43m\"\u001b[39;49m\u001b[43m,\u001b[49m\u001b[43m \u001b[49m\u001b[38;5;28;43;01mFalse\u001b[39;49;00m\u001b[43m)\u001b[49m\u001b[43m,\u001b[49m\n\u001b[1;32m   1886\u001b[0m \u001b[43m    \u001b[49m\u001b[43mis_text\u001b[49m\u001b[38;5;241;43m=\u001b[39;49m\u001b[43mis_text\u001b[49m\u001b[43m,\u001b[49m\n\u001b[1;32m   1887\u001b[0m \u001b[43m    \u001b[49m\u001b[43merrors\u001b[49m\u001b[38;5;241;43m=\u001b[39;49m\u001b[38;5;28;43mself\u001b[39;49m\u001b[38;5;241;43m.\u001b[39;49m\u001b[43moptions\u001b[49m\u001b[38;5;241;43m.\u001b[39;49m\u001b[43mget\u001b[49m\u001b[43m(\u001b[49m\u001b[38;5;124;43m\"\u001b[39;49m\u001b[38;5;124;43mencoding_errors\u001b[39;49m\u001b[38;5;124;43m\"\u001b[39;49m\u001b[43m,\u001b[49m\u001b[43m \u001b[49m\u001b[38;5;124;43m\"\u001b[39;49m\u001b[38;5;124;43mstrict\u001b[39;49m\u001b[38;5;124;43m\"\u001b[39;49m\u001b[43m)\u001b[49m\u001b[43m,\u001b[49m\n\u001b[1;32m   1888\u001b[0m \u001b[43m    \u001b[49m\u001b[43mstorage_options\u001b[49m\u001b[38;5;241;43m=\u001b[39;49m\u001b[38;5;28;43mself\u001b[39;49m\u001b[38;5;241;43m.\u001b[39;49m\u001b[43moptions\u001b[49m\u001b[38;5;241;43m.\u001b[39;49m\u001b[43mget\u001b[49m\u001b[43m(\u001b[49m\u001b[38;5;124;43m\"\u001b[39;49m\u001b[38;5;124;43mstorage_options\u001b[39;49m\u001b[38;5;124;43m\"\u001b[39;49m\u001b[43m,\u001b[49m\u001b[43m \u001b[49m\u001b[38;5;28;43;01mNone\u001b[39;49;00m\u001b[43m)\u001b[49m\u001b[43m,\u001b[49m\n\u001b[1;32m   1889\u001b[0m \u001b[43m\u001b[49m\u001b[43m)\u001b[49m\n\u001b[1;32m   1890\u001b[0m \u001b[38;5;28;01massert\u001b[39;00m \u001b[38;5;28mself\u001b[39m\u001b[38;5;241m.\u001b[39mhandles \u001b[38;5;129;01mis\u001b[39;00m \u001b[38;5;129;01mnot\u001b[39;00m \u001b[38;5;28;01mNone\u001b[39;00m\n\u001b[1;32m   1891\u001b[0m f \u001b[38;5;241m=\u001b[39m \u001b[38;5;28mself\u001b[39m\u001b[38;5;241m.\u001b[39mhandles\u001b[38;5;241m.\u001b[39mhandle\n",
      "File \u001b[0;32m~/do-env/lib/python3.10/site-packages/pandas/io/common.py:873\u001b[0m, in \u001b[0;36mget_handle\u001b[0;34m(path_or_buf, mode, encoding, compression, memory_map, is_text, errors, storage_options)\u001b[0m\n\u001b[1;32m    868\u001b[0m \u001b[38;5;28;01melif\u001b[39;00m \u001b[38;5;28misinstance\u001b[39m(handle, \u001b[38;5;28mstr\u001b[39m):\n\u001b[1;32m    869\u001b[0m     \u001b[38;5;66;03m# Check whether the filename is to be opened in binary mode.\u001b[39;00m\n\u001b[1;32m    870\u001b[0m     \u001b[38;5;66;03m# Binary mode does not support 'encoding' and 'newline'.\u001b[39;00m\n\u001b[1;32m    871\u001b[0m     \u001b[38;5;28;01mif\u001b[39;00m ioargs\u001b[38;5;241m.\u001b[39mencoding \u001b[38;5;129;01mand\u001b[39;00m \u001b[38;5;124m\"\u001b[39m\u001b[38;5;124mb\u001b[39m\u001b[38;5;124m\"\u001b[39m \u001b[38;5;129;01mnot\u001b[39;00m \u001b[38;5;129;01min\u001b[39;00m ioargs\u001b[38;5;241m.\u001b[39mmode:\n\u001b[1;32m    872\u001b[0m         \u001b[38;5;66;03m# Encoding\u001b[39;00m\n\u001b[0;32m--> 873\u001b[0m         handle \u001b[38;5;241m=\u001b[39m \u001b[38;5;28;43mopen\u001b[39;49m\u001b[43m(\u001b[49m\n\u001b[1;32m    874\u001b[0m \u001b[43m            \u001b[49m\u001b[43mhandle\u001b[49m\u001b[43m,\u001b[49m\n\u001b[1;32m    875\u001b[0m \u001b[43m            \u001b[49m\u001b[43mioargs\u001b[49m\u001b[38;5;241;43m.\u001b[39;49m\u001b[43mmode\u001b[49m\u001b[43m,\u001b[49m\n\u001b[1;32m    876\u001b[0m \u001b[43m            \u001b[49m\u001b[43mencoding\u001b[49m\u001b[38;5;241;43m=\u001b[39;49m\u001b[43mioargs\u001b[49m\u001b[38;5;241;43m.\u001b[39;49m\u001b[43mencoding\u001b[49m\u001b[43m,\u001b[49m\n\u001b[1;32m    877\u001b[0m \u001b[43m            \u001b[49m\u001b[43merrors\u001b[49m\u001b[38;5;241;43m=\u001b[39;49m\u001b[43merrors\u001b[49m\u001b[43m,\u001b[49m\n\u001b[1;32m    878\u001b[0m \u001b[43m            \u001b[49m\u001b[43mnewline\u001b[49m\u001b[38;5;241;43m=\u001b[39;49m\u001b[38;5;124;43m\"\u001b[39;49m\u001b[38;5;124;43m\"\u001b[39;49m\u001b[43m,\u001b[49m\n\u001b[1;32m    879\u001b[0m \u001b[43m        \u001b[49m\u001b[43m)\u001b[49m\n\u001b[1;32m    880\u001b[0m     \u001b[38;5;28;01melse\u001b[39;00m:\n\u001b[1;32m    881\u001b[0m         \u001b[38;5;66;03m# Binary mode\u001b[39;00m\n\u001b[1;32m    882\u001b[0m         handle \u001b[38;5;241m=\u001b[39m \u001b[38;5;28mopen\u001b[39m(handle, ioargs\u001b[38;5;241m.\u001b[39mmode)\n",
      "\u001b[0;31mFileNotFoundError\u001b[0m: [Errno 2] No such file or directory: '/home/ddrobnjak_linux/Desktop/TDMprivate/metadata/metadata.csv'"
     ]
    }
   ],
   "source": [
    "#metadata_df = cfs.retrieve_metadata_df()\n",
    "metadata_df = cfs.retrieve_metadata_df()"
   ]
  },
  {
   "cell_type": "code",
   "execution_count": 10,
   "id": "d6ab967b-4c0d-4b7f-a7d2-bb9deb41d94b",
   "metadata": {},
   "outputs": [
    {
     "ename": "NameError",
     "evalue": "name 'metadata_df' is not defined",
     "output_type": "error",
     "traceback": [
      "\u001b[0;31m---------------------------------------------------------------------------\u001b[0m",
      "\u001b[0;31mNameError\u001b[0m                                 Traceback (most recent call last)",
      "Cell \u001b[0;32mIn[10], line 1\u001b[0m\n\u001b[0;32m----> 1\u001b[0m red_route_gmID_list  \u001b[38;5;241m=\u001b[39m \u001b[43mmetadata_df\u001b[49m[ metadata_df[ \u001b[38;5;124m'\u001b[39m\u001b[38;5;124mRoute\u001b[39m\u001b[38;5;124m'\u001b[39m ] \u001b[38;5;241m==\u001b[39m \u001b[38;5;124m'\u001b[39m\u001b[38;5;124mRed\u001b[39m\u001b[38;5;124m'\u001b[39m ][ \u001b[38;5;124m'\u001b[39m\u001b[38;5;124mgroupMetadataID\u001b[39m\u001b[38;5;124m'\u001b[39m ]\u001b[38;5;241m.\u001b[39mtolist()\n\u001b[1;32m      3\u001b[0m green_route_gmID_list  \u001b[38;5;241m=\u001b[39m metadata_df[ metadata_df[ \u001b[38;5;124m'\u001b[39m\u001b[38;5;124mRoute\u001b[39m\u001b[38;5;124m'\u001b[39m ] \u001b[38;5;241m==\u001b[39m \u001b[38;5;124m'\u001b[39m\u001b[38;5;124mGreen\u001b[39m\u001b[38;5;124m'\u001b[39m ][ \u001b[38;5;124m'\u001b[39m\u001b[38;5;124mgroupMetadataID\u001b[39m\u001b[38;5;124m'\u001b[39m ]\u001b[38;5;241m.\u001b[39mtolist() \n\u001b[1;32m      5\u001b[0m blue_route_gmID_list  \u001b[38;5;241m=\u001b[39m metadata_df[ metadata_df[ \u001b[38;5;124m'\u001b[39m\u001b[38;5;124mRoute\u001b[39m\u001b[38;5;124m'\u001b[39m ] \u001b[38;5;241m==\u001b[39m \u001b[38;5;124m'\u001b[39m\u001b[38;5;124mBlue\u001b[39m\u001b[38;5;124m'\u001b[39m ][ \u001b[38;5;124m'\u001b[39m\u001b[38;5;124mgroupMetadataID\u001b[39m\u001b[38;5;124m'\u001b[39m ]\u001b[38;5;241m.\u001b[39mtolist()\n",
      "\u001b[0;31mNameError\u001b[0m: name 'metadata_df' is not defined"
     ]
    }
   ],
   "source": [
    "red_route_gmID_list  = metadata_df[ metadata_df[ 'Route' ] == 'Red' ][ 'groupMetadataID' ].tolist()\n",
    "\n",
    "green_route_gmID_list  = metadata_df[ metadata_df[ 'Route' ] == 'Green' ][ 'groupMetadataID' ].tolist() \n",
    "\n",
    "blue_route_gmID_list  = metadata_df[ metadata_df[ 'Route' ] == 'Blue' ][ 'groupMetadataID' ].tolist()"
   ]
  },
  {
   "cell_type": "code",
   "execution_count": 70,
   "id": "7c3eb741-9a7a-4d6e-8d0b-197d9b86908e",
   "metadata": {},
   "outputs": [],
   "source": [
    "green_route_training_gmID_list = green_route_gmID_list[ : len( green_route_gmID_list) // 2 ]\n",
    "\n",
    "green_route_testing_gmID_list = green_route_gmID_list[ len( green_route_gmID_list) // 2 : ]"
   ]
  },
  {
   "cell_type": "code",
   "execution_count": 72,
   "id": "ae68f428-5f4b-489f-82d1-8f884200d199",
   "metadata": {},
   "outputs": [],
   "source": [
    "reference_green_route_best_pose_df = cfs.retrieve_gmID_topic( green_route_gmID_list[ 0 ], '/apollo/sensor/gnss/best/pose' )\n",
    "\n",
    "#\n",
    "\n",
    "green_route_training_combined_df_list = []\n",
    "\n",
    "green_route_testing_combined_df_list = []\n",
    "\n",
    "for gmID in green_route_gmID_list:\n",
    "\n",
    "    current_gmID_chassis_df = cfs.retrieve_gmID_topic( gmID, '/apollo/canbus/chassis' )\n",
    "\n",
    "    current_gmID_best_pose_df = cfs.retrieve_gmID_topic( gmID, '/apollo/sensor/gnss/best/pose' )\n",
    "\n",
    "    #\n",
    "\n",
    "    current_gmID_chassis_df = current_gmID_chassis_df.sort_values( 'time' )\n",
    "\n",
    "    current_gmID_best_pose_df = current_gmID_best_pose_df.sort_values( 'time' )\n",
    "\n",
    "    #\n",
    "\n",
    "    cfs.BinaryDrivingMode( current_gmID_chassis_df )\n",
    "\n",
    "    cfs.TernaryDrivingModeTransition( current_gmID_chassis_df )\n",
    "\n",
    "    #\n",
    "\n",
    "    cfs.LatLonTotalStdDev( current_gmID_best_pose_df )\n",
    "\n",
    "    cfs.ProgressAlongRoute( current_gmID_best_pose_df, reference_green_route_best_pose_df )\n",
    "\n",
    "    #\n",
    "\n",
    "    cfs.ChassisBestPoseMatchedTime( current_gmID_chassis_df, current_gmID_best_pose_df )\n",
    "\n",
    "    #\n",
    "\n",
    "    current_gmID_combined_df = pd.merge( current_gmID_chassis_df, current_gmID_best_pose_df, on = 'ChassisBestPoseMatchedTime', how = 'inner' )\n",
    "\n",
    "    if gmID in green_route_training_gmID_list:\n",
    "\n",
    "        green_route_training_combined_df_list.append( current_gmID_combined_df )\n",
    "\n",
    "    if gmID in green_route_testing_gmID_list:\n",
    "\n",
    "        green_route_testing_combined_df_list.append( current_gmID_combined_df )"
   ]
  },
  {
   "cell_type": "code",
   "execution_count": 73,
   "id": "1d8426ea-ad38-411c-98c8-2e76ff1f710c",
   "metadata": {},
   "outputs": [],
   "source": [
    "green_route_training_combined_df_all = pd.concat( green_route_training_combined_df_list )\n",
    "\n",
    "green_route_testing_combined_df_all = pd.concat( green_route_testing_combined_df_list )"
   ]
  },
  {
   "cell_type": "code",
   "execution_count": 75,
   "id": "350374f3-ae87-4809-bf8c-595e259193fb",
   "metadata": {},
   "outputs": [
    {
     "data": {
      "text/plain": [
       "(1084952, 25)"
      ]
     },
     "execution_count": 75,
     "metadata": {},
     "output_type": "execute_result"
    }
   ],
   "source": [
    "green_route_training_combined_df_all.shape"
   ]
  },
  {
   "cell_type": "code",
   "execution_count": 76,
   "id": "46d853b0-78a4-4db5-aa40-1c70fe397065",
   "metadata": {},
   "outputs": [
    {
     "data": {
      "text/plain": [
       "(1185592, 25)"
      ]
     },
     "execution_count": 76,
     "metadata": {},
     "output_type": "execute_result"
    }
   ],
   "source": [
    "green_route_testing_combined_df_all.shape"
   ]
  },
  {
   "cell_type": "code",
   "execution_count": 77,
   "id": "0446c7a6-eddd-4cea-9d8b-066b3447a10c",
   "metadata": {},
   "outputs": [],
   "source": [
    "d_cols = [ 'speedMps', 'brakePercentage', 'throttlePercentage', 'steeringPercentage', 'LatLonTotalStdDev', 'ProgressAlongRoute' ]\n",
    "\n",
    "r_cols = [ 'BinaryDrivingMode' ]\n",
    "\n",
    "#\n",
    "\n",
    "X_green_train = green_route_training_combined_df_all[ d_cols ]\n",
    "\n",
    "Y_green_train = green_route_training_combined_df_all[ r_cols ]\n",
    "\n",
    "#\n",
    "\n",
    "X_green_test = green_route_testing_combined_df_all[ d_cols ]\n",
    "\n",
    "Y_green_test = green_route_testing_combined_df_all[ r_cols ]"
   ]
  },
  {
   "cell_type": "code",
   "execution_count": 78,
   "id": "e249f22b-9497-4f08-8ea0-2ab593580ce6",
   "metadata": {},
   "outputs": [],
   "source": [
    "clf = tree.DecisionTreeClassifier( max_depth = 7 )\n",
    "\n",
    "clf = clf.fit( X_green_train, Y_green_train )"
   ]
  },
  {
   "cell_type": "code",
   "execution_count": 79,
   "id": "4c5ff456-1a03-4460-a818-b69ad11663ee",
   "metadata": {},
   "outputs": [],
   "source": [
    "prediction = clf.predict( X_green_test )"
   ]
  },
  {
   "cell_type": "code",
   "execution_count": 80,
   "id": "efa4e51d-34e9-47ae-acc9-665a93fec5ec",
   "metadata": {},
   "outputs": [],
   "source": [
    "results = X_green_test.copy()\n",
    "\n",
    "results[ 'predicted_BinaryDrivingMode' ] = prediction\n",
    "\n",
    "results[ 'actual_BinaryDrivingMode' ] = np.array( Y_green_test[ 'BinaryDrivingMode' ] )"
   ]
  },
  {
   "cell_type": "code",
   "execution_count": 81,
   "id": "2ace7ee3-ad01-4a58-84c0-31e8fd837be3",
   "metadata": {},
   "outputs": [
    {
     "name": "stdout",
     "output_type": "stream",
     "text": [
      "Correct: 1040435\n",
      "Incorrect: 145157\n",
      "Total: 1185592\n"
     ]
    }
   ],
   "source": [
    "correct = 0\n",
    "\n",
    "incorrect = 0\n",
    "\n",
    "for prediction, actual in zip( np.array( results[ 'predicted_TernaryDrivingModeTransition' ] ),\n",
    "                               np.array( results[ 'actual_TernaryDrivingModeTransition' ] ) ):\n",
    "\n",
    "    if ( prediction == actual ):\n",
    "\n",
    "        correct = correct + 1\n",
    "\n",
    "    elif ( prediction != actual ):\n",
    "\n",
    "        incorrect = incorrect + 1\n",
    "\n",
    "total = correct + incorrect\n",
    "\n",
    "print( f'Correct: { correct }' )\n",
    "\n",
    "print( f'Incorrect: { incorrect }' )\n",
    "\n",
    "print( f'Total: { total }' )"
   ]
  },
  {
   "cell_type": "code",
   "execution_count": 82,
   "id": "28d2ec3a-e46b-4c39-a384-2171a7cbe2c2",
   "metadata": {},
   "outputs": [
    {
     "name": "stdout",
     "output_type": "stream",
     "text": [
      "Correct: 98198\n",
      "Incorrect: 87896\n",
      "Total: 186094\n"
     ]
    }
   ],
   "source": [
    "correct = 0\n",
    "\n",
    "incorrect = 0\n",
    "\n",
    "for prediction, actual in zip( np.array( results[ 'predicted_TernaryDrivingModeTransition' ] ),\n",
    "                               np.array( results[ 'actual_TernaryDrivingModeTransition' ] ) ):\n",
    "\n",
    "    if ( actual == 0 ):\n",
    "\n",
    "        if ( prediction == actual ):\n",
    "\n",
    "            correct = correct + 1\n",
    "\n",
    "        elif ( prediction != actual ):\n",
    "\n",
    "            incorrect = incorrect + 1\n",
    "\n",
    "total = correct + incorrect\n",
    "\n",
    "print( f'Correct: { correct }' )\n",
    "\n",
    "print( f'Incorrect: { incorrect }' )\n",
    "\n",
    "print( f'Total: { total }' )"
   ]
  },
  {
   "cell_type": "code",
   "execution_count": null,
   "id": "93834c6a-59dd-4935-ae92-860149c7cbd9",
   "metadata": {},
   "outputs": [],
   "source": []
  }
 ],
 "metadata": {
  "kernelspec": {
   "display_name": "Python 3 (ipykernel)",
   "language": "python",
   "name": "python3"
  },
  "language_info": {
   "codemirror_mode": {
    "name": "ipython",
    "version": 3
   },
   "file_extension": ".py",
   "mimetype": "text/x-python",
   "name": "python",
   "nbconvert_exporter": "python",
   "pygments_lexer": "ipython3",
   "version": "3.10.12"
  }
 },
 "nbformat": 4,
 "nbformat_minor": 5
}
