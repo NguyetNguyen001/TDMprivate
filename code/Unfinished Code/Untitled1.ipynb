{
 "cells": [
  {
   "cell_type": "code",
   "execution_count": 20,
   "id": "ea037934-6130-434d-aac2-88d81dfd009a",
   "metadata": {},
   "outputs": [],
   "source": [
    "import CalculatedFieldSubroutines as cfs\n",
    "\n",
    "import numpy as np\n",
    "\n",
    "import random"
   ]
  },
  {
   "cell_type": "code",
   "execution_count": 21,
   "id": "314b824d-599d-46e1-a796-8f87619b0c96",
   "metadata": {},
   "outputs": [],
   "source": [
    "gmIDs = cfs.list_whitelisted_gmIDs()"
   ]
  },
  {
   "cell_type": "code",
   "execution_count": 22,
   "id": "1e596477-2629-47b3-bdfa-06cd6b82559e",
   "metadata": {},
   "outputs": [],
   "source": [
    "red_gmIDs = []\n",
    "\n",
    "for gmID in gmIDs:\n",
    "\n",
    "    if ( cfs.give_route( gmID ) == 'Red' ):\n",
    "\n",
    "        red_gmIDs.append( gmID )"
   ]
  },
  {
   "cell_type": "code",
   "execution_count": 38,
   "id": "a1bce0e0-b229-4aac-b189-f4f9b45b5442",
   "metadata": {},
   "outputs": [
    {
     "name": "stdout",
     "output_type": "stream",
     "text": [
      "['72a03d4a-efe9-11ee-b966-fb353e7798cd', '8437f77a-cab7-11ee-909c-e1dc60cf66f9', '96f7a614-f549-11ee-8afa-cb629b0d53e6', 'fd1ab258-efa7-11ee-b966-fb353e7798cd', '817d6848-efb6-11ee-b966-fb353e7798cd', '171c50bc-f106-11ee-ba42-fb353e7798cd', 'de933de8-f112-11ee-ba4d-fb353e7798cd', '7fb7b9c0-c881-11ee-a7fc-dd032dba19e8', 'b82476fe-f1f3-11ee-baff-fb353e7798cd', 'f41cbd44-eff8-11ee-b966-fb353e7798cd', '43a1a35e-f362-11ee-bb4e-fb353e7798cd', 'c9c6856c-d33c-11ee-b437-336917683bb8', '65cfbfd6-f396-11ee-bb4e-fb353e7798cd', 'f755cf60-f132-11ee-ba6d-fb353e7798cd', '88a68dd8-eef9-11ee-9385-ef789ffde1d3', 'd24820c8-f197-11ee-babe-fb353e7798cd', '84d96f18-f214-11ee-bb13-fb353e7798cd', '01e65360-efd4-11ee-b966-fb353e7798cd', 'd21965e6-f0fa-11ee-ba37-fb353e7798cd', '622bd2e8-f0e4-11ee-ba1f-fb353e7798cd', '88dd6fbe-f224-11ee-bb21-fb353e7798cd', '1ee938a2-f172-11ee-baa6-fb353e7798cd', '6d2ea45a-c839-11ee-a7fc-dd032dba19e8', 'c25271be-f3a4-11ee-bb4e-fb353e7798cd', '8347b862-efad-11ee-b966-fb353e7798cd', 'f0eebb6a-f0dc-11ee-ba1e-fb353e7798cd', '41b67a28-f52f-11ee-8afa-cb629b0d53e6', 'f711e68e-f0e1-11ee-ba1f-fb353e7798cd', 'aa5dbcd2-ef10-11ee-9385-ef789ffde1d3', '61b12e7a-f234-11ee-bb33-fb353e7798cd', 'd12cd1c4-caec-11ee-909c-e1dc60cf66f9', 'e7b934a8-ef1a-11ee-9385-ef789ffde1d3', '8fa6fe80-c869-11ee-a7fc-dd032dba19e8', '219f7eb8-ef87-11ee-b966-fb353e7798cd', '5a4bccf4-effe-11ee-b966-fb353e7798cd', '3344a3c0-f502-11ee-8afa-cb629b0d53e6', '868de15e-f3b3-11ee-bb4e-fb353e7798cd', 'fcc6fcd2-f013-11ee-b966-fb353e7798cd', '1b6aca0e-efdf-11ee-b966-fb353e7798cd', '286e019a-f204-11ee-bb07-fb353e7798cd', 'c0555ef0-f50f-11ee-8afa-cb629b0d53e6', '7cbd932e-f244-11ee-bb3f-fb353e7798cd', '3151e9e2-eff3-11ee-b966-fb353e7798cd', 'ecebb942-f162-11ee-ba97-fb353e7798cd', 'be857244-efc0-11ee-b966-fb353e7798cd', 'cf831f42-f353-11ee-bb4e-fb353e7798cd', 'fc211bb2-efca-11ee-b966-fb353e7798cd', '457dc5ee-f02a-11ee-b966-fb353e7798cd', '35518ec4-f153-11ee-ba88-fb353e7798cd', '8dbbbf1c-f0ef-11ee-ba29-fb353e7798cd', 'ce6465b6-f51b-11ee-8afa-cb629b0d53e6', '2f95c748-f009-11ee-b966-fb353e7798cd', 'fe973c9c-f53c-11ee-8afa-cb629b0d53e6', '94c53148-eeed-11ee-9385-ef789ffde1d3', '9798fe24-f143-11ee-ba78-fb353e7798cd', 'd3698592-ef9d-11ee-b966-fb353e7798cd', '85b6e70e-ef7a-11ee-b966-fb353e7798cd', '9189a2a8-f121-11ee-ba5b-fb353e7798cd', '1bbbfbae-c839-11ee-a7fc-dd032dba19e8', '211bdb36-f0da-11ee-ba1b-fb353e7798cd', 'dd72fdec-f0cf-11ee-ba0d-fb353e7798cd', '05c7c824-cab8-11ee-aa4d-1d66adf2f0c7', 'c338788a-d324-11ee-b437-336917683bb8', '853ef120-cad3-11ee-909c-e1dc60cf66f9', '2a61b8a8-f528-11ee-8afa-cb629b0d53e6', 'f43b6a70-f01e-11ee-b966-fb353e7798cd', '2462c9d0-eecd-11ee-9385-ef789ffde1d3', '51ef6da6-ca9f-11ee-909c-e1dc60cf66f9', '3d2d29ec-ef95-11ee-b966-fb353e7798cd']\n"
     ]
    }
   ],
   "source": [
    "print( red_gmIDs )"
   ]
  },
  {
   "cell_type": "code",
   "execution_count": 23,
   "id": "f57054ea-a13c-4f01-a678-c7fcce58c5c5",
   "metadata": {},
   "outputs": [
    {
     "name": "stdout",
     "output_type": "stream",
     "text": [
      "55\n",
      "14\n"
     ]
    }
   ],
   "source": [
    "training_gmID_num = int( 69 * .8 )\n",
    "\n",
    "test_gmID_num = len( red_gmIDs ) - training_gmID_num\n",
    "\n",
    "print( training_gmID_num )\n",
    "\n",
    "print( test_gmID_num )"
   ]
  },
  {
   "cell_type": "code",
   "execution_count": 37,
   "id": "e4bc5933-53c4-4f40-b64f-3385e53a7fc8",
   "metadata": {},
   "outputs": [
    {
     "name": "stdout",
     "output_type": "stream",
     "text": [
      "['72a03d4a-efe9-11ee-b966-fb353e7798cd', '8437f77a-cab7-11ee-909c-e1dc60cf66f9', '96f7a614-f549-11ee-8afa-cb629b0d53e6', 'fd1ab258-efa7-11ee-b966-fb353e7798cd', '817d6848-efb6-11ee-b966-fb353e7798cd', '171c50bc-f106-11ee-ba42-fb353e7798cd', 'de933de8-f112-11ee-ba4d-fb353e7798cd', '7fb7b9c0-c881-11ee-a7fc-dd032dba19e8', 'b82476fe-f1f3-11ee-baff-fb353e7798cd', 'f41cbd44-eff8-11ee-b966-fb353e7798cd', '43a1a35e-f362-11ee-bb4e-fb353e7798cd', 'c9c6856c-d33c-11ee-b437-336917683bb8', '65cfbfd6-f396-11ee-bb4e-fb353e7798cd', 'f755cf60-f132-11ee-ba6d-fb353e7798cd', '88a68dd8-eef9-11ee-9385-ef789ffde1d3', 'd24820c8-f197-11ee-babe-fb353e7798cd', '84d96f18-f214-11ee-bb13-fb353e7798cd', '01e65360-efd4-11ee-b966-fb353e7798cd', 'd21965e6-f0fa-11ee-ba37-fb353e7798cd', '622bd2e8-f0e4-11ee-ba1f-fb353e7798cd', '88dd6fbe-f224-11ee-bb21-fb353e7798cd', '1ee938a2-f172-11ee-baa6-fb353e7798cd', '6d2ea45a-c839-11ee-a7fc-dd032dba19e8', 'c25271be-f3a4-11ee-bb4e-fb353e7798cd', '8347b862-efad-11ee-b966-fb353e7798cd', 'f0eebb6a-f0dc-11ee-ba1e-fb353e7798cd', '41b67a28-f52f-11ee-8afa-cb629b0d53e6', 'f711e68e-f0e1-11ee-ba1f-fb353e7798cd', 'aa5dbcd2-ef10-11ee-9385-ef789ffde1d3', '61b12e7a-f234-11ee-bb33-fb353e7798cd', 'd12cd1c4-caec-11ee-909c-e1dc60cf66f9', 'e7b934a8-ef1a-11ee-9385-ef789ffde1d3', '8fa6fe80-c869-11ee-a7fc-dd032dba19e8', '219f7eb8-ef87-11ee-b966-fb353e7798cd', '5a4bccf4-effe-11ee-b966-fb353e7798cd', '3344a3c0-f502-11ee-8afa-cb629b0d53e6', '868de15e-f3b3-11ee-bb4e-fb353e7798cd', 'fcc6fcd2-f013-11ee-b966-fb353e7798cd', '1b6aca0e-efdf-11ee-b966-fb353e7798cd', '286e019a-f204-11ee-bb07-fb353e7798cd', 'c0555ef0-f50f-11ee-8afa-cb629b0d53e6', '7cbd932e-f244-11ee-bb3f-fb353e7798cd', '3151e9e2-eff3-11ee-b966-fb353e7798cd', 'ecebb942-f162-11ee-ba97-fb353e7798cd', 'be857244-efc0-11ee-b966-fb353e7798cd', 'cf831f42-f353-11ee-bb4e-fb353e7798cd', 'fc211bb2-efca-11ee-b966-fb353e7798cd', '457dc5ee-f02a-11ee-b966-fb353e7798cd', '35518ec4-f153-11ee-ba88-fb353e7798cd', '8dbbbf1c-f0ef-11ee-ba29-fb353e7798cd', 'ce6465b6-f51b-11ee-8afa-cb629b0d53e6', '2f95c748-f009-11ee-b966-fb353e7798cd', 'fe973c9c-f53c-11ee-8afa-cb629b0d53e6', '94c53148-eeed-11ee-9385-ef789ffde1d3', '9798fe24-f143-11ee-ba78-fb353e7798cd']\n",
      "['d3698592-ef9d-11ee-b966-fb353e7798cd', '85b6e70e-ef7a-11ee-b966-fb353e7798cd', '9189a2a8-f121-11ee-ba5b-fb353e7798cd', '1bbbfbae-c839-11ee-a7fc-dd032dba19e8', '211bdb36-f0da-11ee-ba1b-fb353e7798cd', 'dd72fdec-f0cf-11ee-ba0d-fb353e7798cd', '05c7c824-cab8-11ee-aa4d-1d66adf2f0c7', 'c338788a-d324-11ee-b437-336917683bb8', '853ef120-cad3-11ee-909c-e1dc60cf66f9', '2a61b8a8-f528-11ee-8afa-cb629b0d53e6', 'f43b6a70-f01e-11ee-b966-fb353e7798cd', '2462c9d0-eecd-11ee-9385-ef789ffde1d3', '51ef6da6-ca9f-11ee-909c-e1dc60cf66f9', '3d2d29ec-ef95-11ee-b966-fb353e7798cd']\n"
     ]
    }
   ],
   "source": [
    "print( red_gmIDs[ : 55 ] )\n",
    "\n",
    "print( red_gmIDs[ 55 : ] )"
   ]
  },
  {
   "cell_type": "code",
   "execution_count": 32,
   "id": "f43604fb-2f76-4ab4-8300-ab1faddd24d8",
   "metadata": {},
   "outputs": [],
   "source": [
    "indexes = [ index for index in range( len( red_gmIDs ) ) ]"
   ]
  },
  {
   "cell_type": "code",
   "execution_count": 33,
   "id": "58610f69-c26d-4b36-980d-d9fab1caed5d",
   "metadata": {},
   "outputs": [
    {
     "name": "stdout",
     "output_type": "stream",
     "text": [
      "[0, 1, 2, 3, 4, 5, 6, 7, 8, 9, 10, 11, 12, 13, 14, 15, 16, 17, 18, 19, 20, 21, 22, 23, 24, 25, 26, 27, 28, 29, 30, 31, 32, 33, 34, 35, 36, 37, 38, 39, 40, 41, 42, 43, 44, 45, 46, 47, 48, 49, 50, 51, 52, 53, 54, 55, 56, 57, 58, 59, 60, 61, 62, 63, 64, 65, 66, 67, 68]\n"
     ]
    }
   ],
   "source": [
    "print( indexes )"
   ]
  },
  {
   "cell_type": "code",
   "execution_count": 35,
   "id": "20333037-59c9-4cb1-be77-2425a3669fc0",
   "metadata": {},
   "outputs": [
    {
     "ename": "TypeError",
     "evalue": "list indices must be integers or slices, not list",
     "output_type": "error",
     "traceback": [
      "\u001b[0;31m---------------------------------------------------------------------------\u001b[0m",
      "\u001b[0;31mTypeError\u001b[0m                                 Traceback (most recent call last)",
      "Cell \u001b[0;32mIn[35], line 5\u001b[0m\n\u001b[1;32m      1\u001b[0m random\u001b[38;5;241m.\u001b[39mshuffle( indexes )\n\u001b[1;32m      3\u001b[0m training_gmID_indexes \u001b[38;5;241m=\u001b[39m indexes[ : \u001b[38;5;241m55\u001b[39m ]\n\u001b[0;32m----> 5\u001b[0m training_gmIDs \u001b[38;5;241m=\u001b[39m \u001b[43mred_gmIDs\u001b[49m\u001b[43m[\u001b[49m\u001b[43m \u001b[49m\u001b[43mtraining_gmID_indexes\u001b[49m\u001b[43m \u001b[49m\u001b[43m]\u001b[49m\n\u001b[1;32m      7\u001b[0m test_gmIDs \u001b[38;5;241m=\u001b[39m [ gmID \u001b[38;5;28;01mfor\u001b[39;00m gmID \u001b[38;5;129;01min\u001b[39;00m red_gmIDs \u001b[38;5;28;01mif\u001b[39;00m gmID \u001b[38;5;129;01mnot\u001b[39;00m \u001b[38;5;129;01min\u001b[39;00m training_gmIDs ]\n\u001b[1;32m      9\u001b[0m \u001b[38;5;28mprint\u001b[39m( \u001b[38;5;28mlen\u001b[39m( training_gmIDs ) )\n",
      "\u001b[0;31mTypeError\u001b[0m: list indices must be integers or slices, not list"
     ]
    }
   ],
   "source": [
    "random.shuffle( indexes )\n",
    "\n",
    "training_gmID_indexes = indexes[ : 55 ]\n",
    "\n",
    "training_gmIDs = [  ]red_gmIDs[ training_gmID_indexes ]\n",
    "\n",
    "test_gmIDs = [ gmID for gmID in red_gmIDs if gmID not in training_gmIDs ]\n",
    "\n",
    "print( len( training_gmIDs ) )\n",
    "\n",
    "print( training_gmIDs )\n",
    "\n",
    "print( len( test_gmIDs ) )\n",
    "\n",
    "print( test_gmIDs )"
   ]
  },
  {
   "cell_type": "code",
   "execution_count": null,
   "id": "0e0fddda-6631-4579-ad7c-e998ffd4d858",
   "metadata": {},
   "outputs": [],
   "source": []
  }
 ],
 "metadata": {
  "kernelspec": {
   "display_name": "Python 3 (ipykernel)",
   "language": "python",
   "name": "python3"
  },
  "language_info": {
   "codemirror_mode": {
    "name": "ipython",
    "version": 3
   },
   "file_extension": ".py",
   "mimetype": "text/x-python",
   "name": "python",
   "nbconvert_exporter": "python",
   "pygments_lexer": "ipython3",
   "version": "3.10.12"
  }
 },
 "nbformat": 4,
 "nbformat_minor": 5
}
