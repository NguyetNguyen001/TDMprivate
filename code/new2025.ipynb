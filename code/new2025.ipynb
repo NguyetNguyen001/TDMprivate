{
 "cells": [
  {
   "cell_type": "code",
   "execution_count": 1,
   "id": "471fdf2d-a2a5-49ed-8d8b-37b30d031ca3",
   "metadata": {},
   "outputs": [],
   "source": [
    "import CalculatedFieldSubroutines as cfs\n",
    "import pandas a pd"
   ]
  },
  {
   "cell_type": "code",
   "execution_count": 3,
   "id": "f12f8ddc-a613-4080-9d2d-db8622a7d4cf",
   "metadata": {},
   "outputs": [],
   "source": [
    "gmids = cfs.list_gmIDs()"
   ]
  },
  {
   "cell_type": "code",
   "execution_count": 4,
   "id": "0ebc65ff-b5b8-4315-81f1-db43c6be7211",
   "metadata": {},
   "outputs": [
    {
     "name": "stdout",
     "output_type": "stream",
     "text": [
      "330\n"
     ]
    }
   ],
   "source": [
    "print(len(gmids))"
   ]
  },
  {
   "cell_type": "code",
   "execution_count": 6,
   "id": "2986a486-70db-438b-be4d-80691fe614a2",
   "metadata": {},
   "outputs": [],
   "source": [
    "topics = cfs.list_topics()"
   ]
  },
  {
   "cell_type": "code",
   "execution_count": 7,
   "id": "58e63032-78f5-4bba-90d5-bb20fcb4e5a3",
   "metadata": {},
   "outputs": [
    {
     "name": "stdout",
     "output_type": "stream",
     "text": [
      "['/apollo/canbus/chassis', '/apollo/perception/traffic/light', '/apollo/drive/event', '/apollo/sensor/gnss/best/pose']\n"
     ]
    }
   ],
   "source": [
    "print(topics)"
   ]
  },
  {
   "cell_type": "code",
   "execution_count": 16,
   "id": "dfe1031e-cef8-4359-afad-2d56d8d3d82c",
   "metadata": {},
   "outputs": [],
   "source": [
    "test_df = cfs.retrieve_gmID_topic( gmids[ 0 ], '/apollo/canbus/chassis' )"
   ]
  },
  {
   "cell_type": "code",
   "execution_count": 19,
   "id": "c4006c46-0867-4655-86ec-f937413da504",
   "metadata": {},
   "outputs": [
    {
     "name": "stdout",
     "output_type": "stream",
     "text": [
      "96ceec56-f1cf-11ee-bae4-fb353e7798cd\n",
      "25e27b86-f06a-11ee-b9a3-fb353e7798cd\n",
      "6c415180-f0bd-11ee-b9fa-fb353e7798cd\n",
      "53fad09e-f0f7-11ee-ba2f-fb353e7798cd\n",
      "c14299be-f180-11ee-bab0-fb353e7798cd\n",
      "fe729430-f232-11ee-bb32-fb353e7798cd\n",
      "986a0b90-f215-11ee-bb15-fb353e7798cd\n",
      "b31aca98-cb95-11ee-909c-e1dc60cf66f9\n",
      "c4146d46-f074-11ee-b9ac-fb353e7798cd\n",
      "bf9157f0-f16b-11ee-ba9e-fb353e7798cd\n",
      "9df14b4e-f172-11ee-baa6-fb353e7798cd\n",
      "dea29156-f123-11ee-ba5d-fb353e7798cd\n",
      "fe0395f0-f1ea-11ee-baf9-fb353e7798cd\n",
      "3c415ade-d353-11ee-b437-336917683bb8\n",
      "ece2a8be-f047-11ee-b97d-fb353e7798cd\n",
      "c2f54552-f06f-11ee-b9a9-fb353e7798cd\n",
      "7aa336e6-f0b1-11ee-b9ed-fb353e7798cd\n",
      "d1a3a310-f091-11ee-b9ce-fb353e7798cd\n",
      "3b6d2a5c-f0c2-11ee-ba01-fb353e7798cd\n",
      "25135418-f250-11ee-bb4a-fb353e7798cd\n",
      "044d976e-f0e5-11ee-ba20-fb353e7798cd\n",
      "471890c0-f0b9-11ee-b9f5-fb353e7798cd\n",
      "2f2939cc-f228-11ee-bb28-fb353e7798cd\n",
      "2c8690b4-f09f-11ee-b9de-fb353e7798cd\n",
      "cd11fc28-f21e-11ee-bb1c-fb353e7798cd\n",
      "7948628e-f20b-11ee-bb0f-fb353e7798cd\n",
      "fa852f30-f210-11ee-bb10-fb353e7798cd\n",
      "de493be2-f10f-11ee-ba4b-fb353e7798cd\n",
      "4c88757c-f157-11ee-ba89-fb353e7798cd\n",
      "ed352100-cba0-11ee-909c-e1dc60cf66f9\n",
      "c59a54e0-f179-11ee-baab-fb353e7798cd\n",
      "8be24d52-f0ca-11ee-ba0a-fb353e7798cd\n",
      "88b0613a-d35d-11ee-b437-336917683bb8\n",
      "fa9cba86-f0f0-11ee-ba2a-fb353e7798cd\n",
      "a901fe40-f0fd-11ee-ba39-fb353e7798cd\n",
      "43abeb00-f206-11ee-bb07-fb353e7798cd\n",
      "b2bfb60c-f0ad-11ee-b9ea-fb353e7798cd\n",
      "a437811e-ccf4-11ee-9435-f7e542e2436c\n",
      "879e3fa2-f085-11ee-b9bd-fb353e7798cd\n",
      "5f7ce340-f1c8-11ee-bae0-fb353e7798cd\n",
      "271fee10-cb8b-11ee-909c-e1dc60cf66f9\n",
      "8b0593cc-cb4e-11ee-909c-e1dc60cf66f9\n",
      "ba80ba8c-f0ce-11ee-ba0d-fb353e7798cd\n",
      "b6227b56-f08d-11ee-b9c9-fb353e7798cd\n",
      "9736e77c-f187-11ee-bab6-fb353e7798cd\n",
      "c9be2042-f0de-11ee-ba1e-fb353e7798cd\n",
      "236836f6-f1dd-11ee-bae8-fb353e7798cd\n",
      "5fc763f6-f1ab-11ee-bacd-fb353e7798cd\n",
      "d846a080-f115-11ee-ba51-fb353e7798cd\n",
      "58d78342-f24a-11ee-bb45-fb353e7798cd\n",
      "81a5a96e-f0c6-11ee-ba06-fb353e7798cd\n",
      "e640cf0a-f096-11ee-b9d5-fb353e7798cd\n",
      "848e44a6-f134-11ee-ba6d-fb353e7798cd\n",
      "31b48540-f09b-11ee-b9da-fb353e7798cd\n",
      "c1b320e2-f079-11ee-b9b0-fb353e7798cd\n",
      "240ebe64-f0d3-11ee-ba14-fb353e7798cd\n",
      "cf7148d8-f058-11ee-b98a-fb353e7798cd\n",
      "ba87f3ec-f07e-11ee-b9b4-fb353e7798cd\n",
      "d454c586-f11c-11ee-ba55-fb353e7798cd\n",
      "961fd9cc-f103-11ee-ba3f-fb353e7798cd\n",
      "57a2192c-f21a-11ee-bb17-fb353e7798cd\n",
      "a08a8c7e-f1fb-11ee-bb05-fb353e7798cd\n",
      "b3ee0dd8-f0d7-11ee-ba18-fb353e7798cd\n",
      "de226278-f25a-11ee-bb4e-fb353e7798cd\n",
      "c4fca7bc-f18e-11ee-bab8-fb353e7798cd\n",
      "3ec95686-f053-11ee-b988-fb353e7798cd\n",
      "8adb6498-f04d-11ee-b981-fb353e7798cd\n",
      "f9c5e53e-f0ea-11ee-ba28-fb353e7798cd\n",
      "cbdc93f4-f255-11ee-bb4e-fb353e7798cd\n",
      "5afabc8c-f035-11ee-b966-fb353e7798cd\n",
      "0f3cdf60-f1f6-11ee-bb00-fb353e7798cd\n",
      "4cf81634-f238-11ee-bb34-fb353e7798cd\n",
      "5c7a9ab2-f13b-11ee-ba72-fb353e7798cd\n",
      "98692fde-f1a4-11ee-bac6-fb353e7798cd\n",
      "1c74d294-f1e4-11ee-baf0-fb353e7798cd\n",
      "5774dcde-f196-11ee-babe-fb353e7798cd\n",
      "bbbd0cc6-f0dc-11ee-ba1e-fb353e7798cd\n",
      "900701bc-f0a6-11ee-b9e4-fb353e7798cd\n",
      "51b74168-f19d-11ee-babf-fb353e7798cd\n",
      "837fc882-cb5a-11ee-909c-e1dc60cf66f9\n",
      "40706f50-f03b-11ee-b96e-fb353e7798cd\n",
      "3ed4aa16-f1d6-11ee-bae6-fb353e7798cd\n",
      "a231c0b0-f142-11ee-ba76-fb353e7798cd\n",
      "7f824ea2-f05e-11ee-b993-fb353e7798cd\n",
      "a2ed8b42-f089-11ee-b9c3-fb353e7798cd\n",
      "df6c3fb4-f200-11ee-bb07-fb353e7798cd\n",
      "f8fd0fd8-f243-11ee-bb3f-fb353e7798cd\n",
      "878e1a02-f092-11ee-b9cf-fb353e7798cd\n",
      "e9a1d768-f23d-11ee-bb39-fb353e7798cd\n",
      "bb4d37d4-f109-11ee-ba46-fb353e7798cd\n",
      "b2f58080-f223-11ee-bb20-fb353e7798cd\n",
      "7e3d64da-f12d-11ee-ba68-fb353e7798cd\n",
      "00ff88b6-f0a3-11ee-b9e3-fb353e7798cd\n",
      "41cd65b4-f0aa-11ee-b9e8-fb353e7798cd\n",
      "a6539bd2-cb72-11ee-909c-e1dc60cf66f9\n",
      "f570c51c-f15d-11ee-ba91-fb353e7798cd\n",
      "870cfd32-f1b9-11ee-bad5-fb353e7798cd\n",
      "7a22a34c-f1f0-11ee-bafe-fb353e7798cd\n",
      "3a7dc9a6-f042-11ee-b974-fb353e7798cd\n",
      "56b8baa4-f0b5-11ee-b9f0-fb353e7798cd\n",
      "25641404-cb66-11ee-909c-e1dc60cf66f9\n",
      "99b9f446-f1b2-11ee-bad3-fb353e7798cd\n",
      "d7cb9c92-f164-11ee-ba97-fb353e7798cd\n",
      "73bc30cc-f150-11ee-ba84-fb353e7798cd\n",
      "8e5c4fc2-f149-11ee-ba7f-fb353e7798cd\n",
      "3d8020aa-cb7f-11ee-909c-e1dc60cf66f9\n",
      "f12112ba-f1c0-11ee-bada-fb353e7798cd\n",
      "14b6bc9c-f064-11ee-b998-fb353e7798cd\n",
      "072ef896-cbac-11ee-909c-e1dc60cf66f9\n"
     ]
    }
   ],
   "source": [
    "green_list = []\n",
    "\n",
    "for gmid in gmids:\n",
    "\n",
    "    if ( cfs.give_route( gmid ) == 'Green' ):\n",
    "\n",
    "        print( gmid )\n",
    "\n",
    "        df = cfs.retrieve_gmID_topic( gmid, '/apollo/canbus/chassis' )\n",
    "\n",
    "        cfs.BinaryDrivingMode( df )\n",
    "\n",
    "        green_list.append( df )\n",
    "        "
   ]
  },
  {
   "cell_type": "code",
   "execution_count": 20,
   "id": "889aa9cc-f720-4858-abf1-febf6b7f5c31",
   "metadata": {},
   "outputs": [
    {
     "name": "stdout",
     "output_type": "stream",
     "text": [
      "<class 'pandas.core.frame.DataFrame'>\n",
      "RangeIndex: 25448 entries, 0 to 25447\n",
      "Data columns (total 9 columns):\n",
      " #   Column              Non-Null Count  Dtype  \n",
      "---  ------              --------------  -----  \n",
      " 0   brakePercentage     25448 non-null  float64\n",
      " 1   groupMetadataID     25448 non-null  object \n",
      " 2   drivingMode         25448 non-null  object \n",
      " 3   speedMps            25448 non-null  float64\n",
      " 4   time                25448 non-null  int64  \n",
      " 5   throttlePercentage  25448 non-null  float64\n",
      " 6   steeringPercentage  25448 non-null  float64\n",
      " 7   signal.turnSignal   25448 non-null  object \n",
      " 8   BinaryDrivingMode   25448 non-null  int64  \n",
      "dtypes: float64(4), int64(2), object(3)\n",
      "memory usage: 1.7+ MB\n"
     ]
    }
   ],
   "source": [
    "green_list[ 0 ].info()"
   ]
  },
  {
   "cell_type": "code",
   "execution_count": null,
   "id": "29ccf60a-0166-4fcc-9d72-2110c480de48",
   "metadata": {},
   "outputs": [],
   "source": []
  }
 ],
 "metadata": {
  "kernelspec": {
   "display_name": "Python 3 (ipykernel)",
   "language": "python",
   "name": "python3"
  },
  "language_info": {
   "codemirror_mode": {
    "name": "ipython",
    "version": 3
   },
   "file_extension": ".py",
   "mimetype": "text/x-python",
   "name": "python",
   "nbconvert_exporter": "python",
   "pygments_lexer": "ipython3",
   "version": "3.10.12"
  }
 },
 "nbformat": 4,
 "nbformat_minor": 5
}
