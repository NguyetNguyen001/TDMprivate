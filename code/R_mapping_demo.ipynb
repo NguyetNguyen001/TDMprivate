{
 "cells": [
  {
   "cell_type": "markdown",
   "metadata": {},
   "source": [
    "### Load R and install necessary packages\n"
   ]
  },
  {
   "cell_type": "code",
   "execution_count": 1,
   "metadata": {},
   "outputs": [],
   "source": [
    "%load_ext rpy2.ipython"
   ]
  },
  {
   "cell_type": "code",
   "execution_count": 4,
   "metadata": {},
   "outputs": [
    {
     "name": "stderr",
     "output_type": "stream",
     "text": [
      "* installing *source* package ‘tibble’ ...\n",
      "** package ‘tibble’ successfully unpacked and MD5 sums checked\n",
      "** using staged installation\n",
      "** libs\n"
     ]
    },
    {
     "name": "stdout",
     "output_type": "stream",
     "text": [
      "gcc -I\"/usr/share/R/include\" -DNDEBUG      -fpic  -g -O2 -ffile-prefix-map=/build/r-base-4A2Reg/r-base-4.1.2=. -fstack-protector-strong -Wformat -Werror=format-security -Wdate-time -D_FORTIFY_SOURCE=2 -g  -c attributes.c -o attributes.o\n",
      "gcc -I\"/usr/share/R/include\" -DNDEBUG      -fpic  -g -O2 -ffile-prefix-map=/build/r-base-4A2Reg/r-base-4.1.2=. -fstack-protector-strong -Wformat -Werror=format-security -Wdate-time -D_FORTIFY_SOURCE=2 -g  -c coerce.c -o coerce.o\n",
      "gcc -I\"/usr/share/R/include\" -DNDEBUG      -fpic  -g -O2 -ffile-prefix-map=/build/r-base-4A2Reg/r-base-4.1.2=. -fstack-protector-strong -Wformat -Werror=format-security -Wdate-time -D_FORTIFY_SOURCE=2 -g  -c init.c -o init.o\n",
      "gcc -I\"/usr/share/R/include\" -DNDEBUG      -fpic  -g -O2 -ffile-prefix-map=/build/r-base-4A2Reg/r-base-4.1.2=. -fstack-protector-strong -Wformat -Werror=format-security -Wdate-time -D_FORTIFY_SOURCE=2 -g  -c matrixToDataFrame.c -o matrixToDataFrame.o\n",
      "gcc -shared -L/usr/lib/R/lib -Wl,-Bsymbolic-functions -flto=auto -ffat-lto-objects -flto=auto -Wl,-z,relro -o tibble.so attributes.o coerce.o init.o matrixToDataFrame.o -L/usr/lib/R/lib -lR\n"
     ]
    },
    {
     "name": "stderr",
     "output_type": "stream",
     "text": [
      "installing to /home/vhepola_linux/R/x86_64-pc-linux-gnu-library/4.1/00LOCK-tibble/00new/tibble/libs\n",
      "** R\n",
      "** inst\n",
      "** byte-compile and prepare package for lazy loading\n",
      "** help\n",
      "*** installing help indices\n",
      "*** copying figures\n",
      "** building package indices\n",
      "** installing vignettes\n",
      "** testing if installed package can be loaded from temporary location\n",
      "** checking absolute paths in shared objects and dynamic libraries\n",
      "** testing if installed package can be loaded from final location\n",
      "** testing if installed package keeps a record of temporary installation path\n",
      "* DONE (tibble)\n",
      "* installing *source* package ‘dplyr’ ...\n",
      "** package ‘dplyr’ successfully unpacked and MD5 sums checked\n",
      "** using staged installation\n",
      "** libs\n"
     ]
    },
    {
     "name": "stdout",
     "output_type": "stream",
     "text": [
      "g++ -std=gnu++14 -I\"/usr/share/R/include\" -DNDEBUG      -fpic  -g -O2 -ffile-prefix-map=/build/r-base-4A2Reg/r-base-4.1.2=. -fstack-protector-strong -Wformat -Werror=format-security -Wdate-time -D_FORTIFY_SOURCE=2 -g  -c chop.cpp -o chop.o\n",
      "g++ -std=gnu++14 -I\"/usr/share/R/include\" -DNDEBUG      -fpic  -g -O2 -ffile-prefix-map=/build/r-base-4A2Reg/r-base-4.1.2=. -fstack-protector-strong -Wformat -Werror=format-security -Wdate-time -D_FORTIFY_SOURCE=2 -g  -c filter.cpp -o filter.o\n",
      "g++ -std=gnu++14 -I\"/usr/share/R/include\" -DNDEBUG      -fpic  -g -O2 -ffile-prefix-map=/build/r-base-4A2Reg/r-base-4.1.2=. -fstack-protector-strong -Wformat -Werror=format-security -Wdate-time -D_FORTIFY_SOURCE=2 -g  -c funs.cpp -o funs.o\n",
      "g++ -std=gnu++14 -I\"/usr/share/R/include\" -DNDEBUG      -fpic  -g -O2 -ffile-prefix-map=/build/r-base-4A2Reg/r-base-4.1.2=. -fstack-protector-strong -Wformat -Werror=format-security -Wdate-time -D_FORTIFY_SOURCE=2 -g  -c group_by.cpp -o group_by.o\n",
      "g++ -std=gnu++14 -I\"/usr/share/R/include\" -DNDEBUG      -fpic  -g -O2 -ffile-prefix-map=/build/r-base-4A2Reg/r-base-4.1.2=. -fstack-protector-strong -Wformat -Werror=format-security -Wdate-time -D_FORTIFY_SOURCE=2 -g  -c group_data.cpp -o group_data.o\n",
      "g++ -std=gnu++14 -I\"/usr/share/R/include\" -DNDEBUG      -fpic  -g -O2 -ffile-prefix-map=/build/r-base-4A2Reg/r-base-4.1.2=. -fstack-protector-strong -Wformat -Werror=format-security -Wdate-time -D_FORTIFY_SOURCE=2 -g  -c imports.cpp -o imports.o\n",
      "g++ -std=gnu++14 -I\"/usr/share/R/include\" -DNDEBUG      -fpic  -g -O2 -ffile-prefix-map=/build/r-base-4A2Reg/r-base-4.1.2=. -fstack-protector-strong -Wformat -Werror=format-security -Wdate-time -D_FORTIFY_SOURCE=2 -g  -c init.cpp -o init.o\n",
      "g++ -std=gnu++14 -I\"/usr/share/R/include\" -DNDEBUG      -fpic  -g -O2 -ffile-prefix-map=/build/r-base-4A2Reg/r-base-4.1.2=. -fstack-protector-strong -Wformat -Werror=format-security -Wdate-time -D_FORTIFY_SOURCE=2 -g  -c mask.cpp -o mask.o\n",
      "g++ -std=gnu++14 -I\"/usr/share/R/include\" -DNDEBUG      -fpic  -g -O2 -ffile-prefix-map=/build/r-base-4A2Reg/r-base-4.1.2=. -fstack-protector-strong -Wformat -Werror=format-security -Wdate-time -D_FORTIFY_SOURCE=2 -g  -c mutate.cpp -o mutate.o\n",
      "g++ -std=gnu++14 -I\"/usr/share/R/include\" -DNDEBUG      -fpic  -g -O2 -ffile-prefix-map=/build/r-base-4A2Reg/r-base-4.1.2=. -fstack-protector-strong -Wformat -Werror=format-security -Wdate-time -D_FORTIFY_SOURCE=2 -g  -c reconstruct.cpp -o reconstruct.o\n",
      "g++ -std=gnu++14 -I\"/usr/share/R/include\" -DNDEBUG      -fpic  -g -O2 -ffile-prefix-map=/build/r-base-4A2Reg/r-base-4.1.2=. -fstack-protector-strong -Wformat -Werror=format-security -Wdate-time -D_FORTIFY_SOURCE=2 -g  -c slice.cpp -o slice.o\n",
      "g++ -std=gnu++14 -I\"/usr/share/R/include\" -DNDEBUG      -fpic  -g -O2 -ffile-prefix-map=/build/r-base-4A2Reg/r-base-4.1.2=. -fstack-protector-strong -Wformat -Werror=format-security -Wdate-time -D_FORTIFY_SOURCE=2 -g  -c summarise.cpp -o summarise.o\n",
      "g++ -std=gnu++14 -shared -L/usr/lib/R/lib -Wl,-Bsymbolic-functions -flto=auto -ffat-lto-objects -flto=auto -Wl,-z,relro -o dplyr.so chop.o filter.o funs.o group_by.o group_data.o imports.o init.o mask.o mutate.o reconstruct.o slice.o summarise.o -L/usr/lib/R/lib -lR\n"
     ]
    },
    {
     "name": "stderr",
     "output_type": "stream",
     "text": [
      "installing to /home/vhepola_linux/R/x86_64-pc-linux-gnu-library/4.1/00LOCK-dplyr/00new/dplyr/libs\n",
      "** R\n",
      "** data\n",
      "*** moving datasets to lazyload DB\n",
      "** inst\n",
      "** byte-compile and prepare package for lazy loading\n",
      "** help\n",
      "*** installing help indices\n",
      "*** copying figures\n",
      "** building package indices\n",
      "** installing vignettes\n",
      "** testing if installed package can be loaded from temporary location\n",
      "** checking absolute paths in shared objects and dynamic libraries\n",
      "** testing if installed package can be loaded from final location\n",
      "** testing if installed package keeps a record of temporary installation path\n",
      "* DONE (dplyr)\n",
      "* installing *source* package ‘ggplot2’ ...\n",
      "** package ‘ggplot2’ successfully unpacked and MD5 sums checked\n",
      "** using staged installation\n",
      "** R\n",
      "** data\n",
      "*** moving datasets to lazyload DB\n",
      "** inst\n",
      "** byte-compile and prepare package for lazy loading\n",
      "** help\n",
      "*** installing help indices\n",
      "*** copying figures\n",
      "** building package indices\n",
      "** installing vignettes\n",
      "** testing if installed package can be loaded from temporary location\n",
      "** testing if installed package can be loaded from final location\n",
      "** testing if installed package keeps a record of temporary installation path\n",
      "* DONE (ggplot2)\n",
      "* installing *source* package ‘curl’ ...\n",
      "** package ‘curl’ successfully unpacked and MD5 sums checked\n",
      "** using staged installation\n",
      "Package libcurl was not found in the pkg-config search path.\n",
      "Perhaps you should add the directory containing `libcurl.pc'\n",
      "to the PKG_CONFIG_PATH environment variable\n",
      "No package 'libcurl' found\n",
      "Package libcurl was not found in the pkg-config search path.\n",
      "Perhaps you should add the directory containing `libcurl.pc'\n",
      "to the PKG_CONFIG_PATH environment variable\n",
      "No package 'libcurl' found\n",
      "ERROR: configuration failed for package ‘curl’\n",
      "* removing ‘/home/vhepola_linux/R/x86_64-pc-linux-gnu-library/4.1/curl’\n"
     ]
    },
    {
     "name": "stdout",
     "output_type": "stream",
     "text": [
      "Using PKG_CFLAGS=\n",
      "Using PKG_LIBS=-lcurl\n",
      "--------------------------- [ANTICONF] --------------------------------\n",
      "Configuration failed because libcurl was not found. Try installing:\n",
      " * deb: libcurl4-openssl-dev (Debian, Ubuntu, etc)\n",
      " * rpm: libcurl-devel (Fedora, CentOS, RHEL)\n",
      "If libcurl is already installed, check that 'pkg-config' is in your\n",
      "PATH and PKG_CONFIG_PATH contains a libcurl.pc file. If pkg-config\n",
      "is unavailable you can set INCLUDE_DIR and LIB_DIR manually via:\n",
      "R CMD INSTALL --configure-vars='INCLUDE_DIR=... LIB_DIR=...'\n",
      "-------------------------- [ERROR MESSAGE] ---------------------------\n",
      "<stdin>:1:10: fatal error: curl/curl.h: No such file or directory\n",
      "compilation terminated.\n",
      "--------------------------------------------------------------------\n"
     ]
    },
    {
     "name": "stderr",
     "output_type": "stream",
     "text": [
      "* installing *source* package ‘openssl’ ...\n",
      "** package ‘openssl’ successfully unpacked and MD5 sums checked\n",
      "** using staged installation\n",
      "ERROR: configuration failed for package ‘openssl’\n",
      "* removing ‘/home/vhepola_linux/R/x86_64-pc-linux-gnu-library/4.1/openssl’\n"
     ]
    },
    {
     "name": "stdout",
     "output_type": "stream",
     "text": [
      "Using PKG_CFLAGS=\n",
      "--------------------------- [ANTICONF] --------------------------------\n",
      "Configuration failed because openssl was not found. Try installing:\n",
      " * deb: libssl-dev (Debian, Ubuntu, etc)\n",
      " * rpm: openssl-devel (Fedora, CentOS, RHEL)\n",
      " * csw: libssl_dev (Solaris)\n",
      " * brew: openssl (Mac OSX)\n",
      "If openssl is already installed, check that 'pkg-config' is in your\n",
      "PATH and PKG_CONFIG_PATH contains a openssl.pc file. If pkg-config\n",
      "is unavailable you can set INCLUDE_DIR and LIB_DIR manually via:\n",
      "R CMD INSTALL --configure-vars='INCLUDE_DIR=... LIB_DIR=...'\n",
      "-------------------------- [ERROR MESSAGE] ---------------------------\n",
      "tools/version.c:1:10: fatal error: openssl/opensslv.h: No such file or directory\n",
      "    1 | #include <openssl/opensslv.h>\n",
      "      |          ^~~~~~~~~~~~~~~~~~~~\n",
      "compilation terminated.\n",
      "--------------------------------------------------------------------\n"
     ]
    },
    {
     "name": "stderr",
     "output_type": "stream",
     "text": [
      "ERROR: dependencies ‘curl’, ‘openssl’ are not available for package ‘httr’\n",
      "* removing ‘/home/vhepola_linux/R/x86_64-pc-linux-gnu-library/4.1/httr’\n",
      "ERROR: dependency ‘httr’ is not available for package ‘ggmap’\n",
      "* removing ‘/home/vhepola_linux/R/x86_64-pc-linux-gnu-library/4.1/ggmap’\n",
      "* installing *source* package ‘s2’ ...\n",
      "** package ‘s2’ successfully unpacked and MD5 sums checked\n",
      "** using staged installation\n"
     ]
    },
    {
     "name": "stdout",
     "output_type": "stream",
     "text": [
      "Testing compiler using PKG_CFLAGS=\n",
      "--------------------------- [ANTICONF] --------------------------------\n",
      "Configuration failed because openssl was not found. Try installing:\n",
      " * deb: libssl-dev (Debian, Ubuntu, etc)\n",
      " * rpm: openssl-devel (Fedora, CentOS, RHEL)\n",
      " * csw: libssl_dev (Solaris)\n",
      " * brew: openssl@1.1 (Mac OSX)\n",
      "If openssl is already installed, check that 'pkg-config' is in your\n",
      "PATH and PKG_CONFIG_PATH contains a openssl.pc file. If pkg-config\n",
      "is unavailable you can set INCLUDE_DIR and LIB_DIR manually via:\n",
      "R CMD INSTALL --configure-vars='INCLUDE_DIR=... LIB_DIR=...'\n",
      "-------------------------- [ERROR MESSAGE] ---------------------------\n",
      "tools/version.c:1:10: fatal error: openssl/opensslv.h: No such file or directory\n",
      "    1 | #include <openssl/opensslv.h>\n",
      "      |          ^~~~~~~~~~~~~~~~~~~~\n",
      "compilation terminated.\n",
      "--------------------------------------------------------------------\n"
     ]
    },
    {
     "name": "stderr",
     "output_type": "stream",
     "text": [
      "ERROR: configuration failed for package ‘s2’\n",
      "* removing ‘/home/vhepola_linux/R/x86_64-pc-linux-gnu-library/4.1/s2’\n",
      "* installing *source* package ‘units’ ...\n",
      "** package ‘units’ successfully unpacked and MD5 sums checked\n",
      "** using staged installation\n"
     ]
    },
    {
     "name": "stdout",
     "output_type": "stream",
     "text": [
      "configure: units: 0.8-5\n",
      "checking whether the C++ compiler works... yes\n",
      "checking for C++ compiler default output file name... a.out\n",
      "checking for suffix of executables... \n",
      "checking whether we are cross compiling... no\n",
      "checking for suffix of object files... o\n",
      "checking whether the compiler supports GNU C++... yes\n",
      "checking whether g++ -std=gnu++14 accepts -g... yes\n",
      "checking for g++ -std=gnu++14 option to enable C++11 features... none needed\n",
      "checking for stdio.h... yes\n",
      "checking for stdlib.h... yes\n",
      "checking for string.h... yes\n",
      "checking for inttypes.h... yes\n",
      "checking for stdint.h... yes\n",
      "checking for strings.h... yes\n",
      "checking for sys/stat.h... yes\n",
      "checking for sys/types.h... yes\n",
      "checking for unistd.h... yes\n",
      "checking for _Bool... no\n",
      "checking for stdbool.h that conforms to C99... yes\n",
      "checking for error_at_line... yes\n",
      "checking for gcc... gcc\n",
      "checking whether the compiler supports GNU C... yes\n",
      "checking whether gcc accepts -g... yes\n",
      "checking for gcc option to enable C11 features... none needed\n",
      "checking for XML_ParserCreate in -lexpat... yes\n",
      "checking for udunits2.h... no\n",
      "checking for udunits2/udunits2.h... no\n",
      "checking for ut_read_xml in -ludunits2... no\n"
     ]
    },
    {
     "name": "stderr",
     "output_type": "stream",
     "text": [
      "configure: error: in `/tmp/Rtmp7SSrnY/R.INSTALL3da9264c11deb/units':\n",
      "configure: error: \n",
      "--------------------------------------------------------------------------------\n",
      "  Configuration failed because libudunits2.so was not found. Try installing:\n",
      "    * deb: libudunits2-dev (Debian, Ubuntu, ...)\n",
      "    * rpm: udunits2-devel (Fedora, EPEL, ...)\n",
      "    * brew: udunits (OSX)\n",
      "  If udunits2 is already installed in a non-standard location, use:\n",
      "    --configure-args='--with-udunits2-lib=/usr/local/lib'\n",
      "  if the library was not found, and/or:\n",
      "    --configure-args='--with-udunits2-include=/usr/include/udunits2'\n",
      "  if the header was not found, replacing paths with appropriate values.\n",
      "  You can alternatively set UDUNITS2_INCLUDE and UDUNITS2_LIBS manually.\n",
      "--------------------------------------------------------------------------------\n",
      "\n",
      "See `config.log' for more details\n",
      "ERROR: configuration failed for package ‘units’\n",
      "* removing ‘/home/vhepola_linux/R/x86_64-pc-linux-gnu-library/4.1/units’\n",
      "ERROR: dependencies ‘s2’, ‘units’ are not available for package ‘sf’\n",
      "* removing ‘/home/vhepola_linux/R/x86_64-pc-linux-gnu-library/4.1/sf’\n",
      "* installing *source* package ‘s2’ ...\n",
      "** package ‘s2’ successfully unpacked and MD5 sums checked\n",
      "** using staged installation\n",
      "ERROR: configuration failed for package ‘s2’\n",
      "* removing ‘/home/vhepola_linux/R/x86_64-pc-linux-gnu-library/4.1/s2’\n"
     ]
    },
    {
     "name": "stdout",
     "output_type": "stream",
     "text": [
      "Testing compiler using PKG_CFLAGS=\n",
      "--------------------------- [ANTICONF] --------------------------------\n",
      "Configuration failed because openssl was not found. Try installing:\n",
      " * deb: libssl-dev (Debian, Ubuntu, etc)\n",
      " * rpm: openssl-devel (Fedora, CentOS, RHEL)\n",
      " * csw: libssl_dev (Solaris)\n",
      " * brew: openssl@1.1 (Mac OSX)\n",
      "If openssl is already installed, check that 'pkg-config' is in your\n",
      "PATH and PKG_CONFIG_PATH contains a openssl.pc file. If pkg-config\n",
      "is unavailable you can set INCLUDE_DIR and LIB_DIR manually via:\n",
      "R CMD INSTALL --configure-vars='INCLUDE_DIR=... LIB_DIR=...'\n",
      "-------------------------- [ERROR MESSAGE] ---------------------------\n",
      "tools/version.c:1:10: fatal error: openssl/opensslv.h: No such file or directory\n",
      "    1 | #include <openssl/opensslv.h>\n",
      "      |          ^~~~~~~~~~~~~~~~~~~~\n",
      "compilation terminated.\n",
      "--------------------------------------------------------------------\n"
     ]
    },
    {
     "name": "stderr",
     "output_type": "stream",
     "text": [
      "* installing *source* package ‘units’ ...\n",
      "** package ‘units’ successfully unpacked and MD5 sums checked\n",
      "** using staged installation\n"
     ]
    },
    {
     "name": "stdout",
     "output_type": "stream",
     "text": [
      "configure: units: 0.8-5\n",
      "checking whether the C++ compiler works... yes\n",
      "checking for C++ compiler default output file name... a.out\n",
      "checking for suffix of executables... \n",
      "checking whether we are cross compiling... no\n",
      "checking for suffix of object files... o\n",
      "checking whether the compiler supports GNU C++... yes\n",
      "checking whether g++ -std=gnu++14 accepts -g... yes\n",
      "checking for g++ -std=gnu++14 option to enable C++11 features... none needed\n",
      "checking for stdio.h... yes\n",
      "checking for stdlib.h... yes\n",
      "checking for string.h... yes\n",
      "checking for inttypes.h... yes\n",
      "checking for stdint.h... yes\n",
      "checking for strings.h... yes\n",
      "checking for sys/stat.h... yes\n",
      "checking for sys/types.h... yes\n",
      "checking for unistd.h... yes\n",
      "checking for _Bool... no\n",
      "checking for stdbool.h that conforms to C99... yes\n",
      "checking for error_at_line... yes\n",
      "checking for gcc... gcc\n",
      "checking whether the compiler supports GNU C... yes\n",
      "checking whether gcc accepts -g... yes\n",
      "checking for gcc option to enable C11 features... none needed\n",
      "checking for XML_ParserCreate in -lexpat... yes\n",
      "checking for udunits2.h... no\n",
      "checking for udunits2/udunits2.h... no\n",
      "checking for ut_read_xml in -ludunits2... no\n"
     ]
    },
    {
     "name": "stderr",
     "output_type": "stream",
     "text": [
      "configure: error: in `/tmp/RtmpRfuuMN/R.INSTALL3dd4854a3696c/units':\n",
      "configure: error: \n",
      "--------------------------------------------------------------------------------\n",
      "  Configuration failed because libudunits2.so was not found. Try installing:\n",
      "    * deb: libudunits2-dev (Debian, Ubuntu, ...)\n",
      "    * rpm: udunits2-devel (Fedora, EPEL, ...)\n",
      "    * brew: udunits (OSX)\n",
      "  If udunits2 is already installed in a non-standard location, use:\n",
      "    --configure-args='--with-udunits2-lib=/usr/local/lib'\n",
      "  if the library was not found, and/or:\n",
      "    --configure-args='--with-udunits2-include=/usr/include/udunits2'\n",
      "  if the header was not found, replacing paths with appropriate values.\n",
      "  You can alternatively set UDUNITS2_INCLUDE and UDUNITS2_LIBS manually.\n",
      "--------------------------------------------------------------------------------\n",
      "\n",
      "See `config.log' for more details\n",
      "ERROR: configuration failed for package ‘units’\n",
      "* removing ‘/home/vhepola_linux/R/x86_64-pc-linux-gnu-library/4.1/units’\n",
      "* installing *source* package ‘curl’ ...\n",
      "** package ‘curl’ successfully unpacked and MD5 sums checked\n",
      "** using staged installation\n",
      "Package libcurl was not found in the pkg-config search path.\n",
      "Perhaps you should add the directory containing `libcurl.pc'\n",
      "to the PKG_CONFIG_PATH environment variable\n",
      "No package 'libcurl' found\n",
      "Package libcurl was not found in the pkg-config search path.\n",
      "Perhaps you should add the directory containing `libcurl.pc'\n",
      "to the PKG_CONFIG_PATH environment variable\n",
      "No package 'libcurl' found\n"
     ]
    },
    {
     "name": "stdout",
     "output_type": "stream",
     "text": [
      "Using PKG_CFLAGS=\n",
      "Using PKG_LIBS=-lcurl\n",
      "--------------------------- [ANTICONF] --------------------------------\n",
      "Configuration failed because libcurl was not found. Try installing:\n",
      " * deb: libcurl4-openssl-dev (Debian, Ubuntu, etc)\n",
      " * rpm: libcurl-devel (Fedora, CentOS, RHEL)\n",
      "If libcurl is already installed, check that 'pkg-config' is in your\n",
      "PATH and PKG_CONFIG_PATH contains a libcurl.pc file. If pkg-config\n",
      "is unavailable you can set INCLUDE_DIR and LIB_DIR manually via:\n",
      "R CMD INSTALL --configure-vars='INCLUDE_DIR=... LIB_DIR=...'\n",
      "-------------------------- [ERROR MESSAGE] ---------------------------\n",
      "<stdin>:1:10: fatal error: curl/curl.h: No such file or directory\n",
      "compilation terminated.\n",
      "--------------------------------------------------------------------\n"
     ]
    },
    {
     "name": "stderr",
     "output_type": "stream",
     "text": [
      "ERROR: configuration failed for package ‘curl’\n",
      "* removing ‘/home/vhepola_linux/R/x86_64-pc-linux-gnu-library/4.1/curl’\n",
      "* installing *source* package ‘terra’ ...\n",
      "** package ‘terra’ successfully unpacked and MD5 sums checked\n",
      "** using staged installation\n"
     ]
    },
    {
     "name": "stdout",
     "output_type": "stream",
     "text": [
      "configure: CC: gcc\n",
      "configure: CXX: g++ -std=gnu++14\n",
      "checking for gdal-config... no\n",
      "no\n"
     ]
    },
    {
     "name": "stderr",
     "output_type": "stream",
     "text": [
      "configure: error: gdal-config not found or not executable.\n",
      "ERROR: configuration failed for package ‘terra’\n",
      "* removing ‘/home/vhepola_linux/R/x86_64-pc-linux-gnu-library/4.1/terra’\n",
      "ERROR: dependency ‘terra’ is not available for package ‘raster’\n",
      "* removing ‘/home/vhepola_linux/R/x86_64-pc-linux-gnu-library/4.1/raster’\n",
      "ERROR: dependencies ‘s2’, ‘units’ are not available for package ‘sf’\n",
      "* removing ‘/home/vhepola_linux/R/x86_64-pc-linux-gnu-library/4.1/sf’\n",
      "ERROR: dependency ‘raster’ is not available for package ‘slippymath’\n",
      "* removing ‘/home/vhepola_linux/R/x86_64-pc-linux-gnu-library/4.1/slippymath’\n",
      "ERROR: dependencies ‘sf’, ‘curl’, ‘terra’, ‘slippymath’ are not available for package ‘maptiles’\n",
      "* removing ‘/home/vhepola_linux/R/x86_64-pc-linux-gnu-library/4.1/maptiles’\n",
      "* installing *source* package ‘s2’ ...\n",
      "** package ‘s2’ successfully unpacked and MD5 sums checked\n",
      "** using staged installation\n"
     ]
    },
    {
     "name": "stdout",
     "output_type": "stream",
     "text": [
      "Testing compiler using PKG_CFLAGS=\n",
      "--------------------------- [ANTICONF] --------------------------------\n",
      "Configuration failed because openssl was not found. Try installing:\n",
      " * deb: libssl-dev (Debian, Ubuntu, etc)\n",
      " * rpm: openssl-devel (Fedora, CentOS, RHEL)\n",
      " * csw: libssl_dev (Solaris)\n",
      " * brew: openssl@1.1 (Mac OSX)\n",
      "If openssl is already installed, check that 'pkg-config' is in your\n",
      "PATH and PKG_CONFIG_PATH contains a openssl.pc file. If pkg-config\n",
      "is unavailable you can set INCLUDE_DIR and LIB_DIR manually via:\n",
      "R CMD INSTALL --configure-vars='INCLUDE_DIR=... LIB_DIR=...'\n",
      "-------------------------- [ERROR MESSAGE] ---------------------------\n",
      "tools/version.c:1:10: fatal error: openssl/opensslv.h: No such file or directory\n",
      "    1 | #include <openssl/opensslv.h>\n",
      "      |          ^~~~~~~~~~~~~~~~~~~~\n",
      "compilation terminated.\n",
      "--------------------------------------------------------------------\n"
     ]
    },
    {
     "name": "stderr",
     "output_type": "stream",
     "text": [
      "ERROR: configuration failed for package ‘s2’\n",
      "* removing ‘/home/vhepola_linux/R/x86_64-pc-linux-gnu-library/4.1/s2’\n",
      "* installing *source* package ‘units’ ...\n",
      "** package ‘units’ successfully unpacked and MD5 sums checked\n",
      "** using staged installation\n"
     ]
    },
    {
     "name": "stdout",
     "output_type": "stream",
     "text": [
      "configure: units: 0.8-5\n",
      "checking whether the C++ compiler works... yes\n",
      "checking for C++ compiler default output file name... a.out\n",
      "checking for suffix of executables... \n",
      "checking whether we are cross compiling... no\n",
      "checking for suffix of object files... o\n",
      "checking whether the compiler supports GNU C++... yes\n",
      "checking whether g++ -std=gnu++14 accepts -g... yes\n",
      "checking for g++ -std=gnu++14 option to enable C++11 features... none needed\n",
      "checking for stdio.h... yes\n",
      "checking for stdlib.h... yes\n",
      "checking for string.h... yes\n",
      "checking for inttypes.h... yes\n",
      "checking for stdint.h... yes\n",
      "checking for strings.h... yes\n",
      "checking for sys/stat.h... yes\n",
      "checking for sys/types.h... yes\n",
      "checking for unistd.h... yes\n",
      "checking for _Bool... no\n",
      "checking for stdbool.h that conforms to C99... yes\n",
      "checking for error_at_line... yes\n",
      "checking for gcc... gcc\n",
      "checking whether the compiler supports GNU C... yes\n",
      "checking whether gcc accepts -g... yes\n",
      "checking for gcc option to enable C11 features... none needed\n",
      "checking for XML_ParserCreate in -lexpat... yes\n",
      "checking for udunits2.h... no\n",
      "checking for udunits2/udunits2.h... no\n",
      "checking for ut_read_xml in -ludunits2... no\n"
     ]
    },
    {
     "name": "stderr",
     "output_type": "stream",
     "text": [
      "configure: error: in `/tmp/RtmpefbnIx/R.INSTALL3e1a25bd52b8f/units':\n",
      "configure: error: \n",
      "--------------------------------------------------------------------------------\n",
      "  Configuration failed because libudunits2.so was not found. Try installing:\n",
      "    * deb: libudunits2-dev (Debian, Ubuntu, ...)\n",
      "    * rpm: udunits2-devel (Fedora, EPEL, ...)\n",
      "    * brew: udunits (OSX)\n",
      "  If udunits2 is already installed in a non-standard location, use:\n",
      "    --configure-args='--with-udunits2-lib=/usr/local/lib'\n",
      "  if the library was not found, and/or:\n",
      "    --configure-args='--with-udunits2-include=/usr/include/udunits2'\n",
      "  if the header was not found, replacing paths with appropriate values.\n",
      "  You can alternatively set UDUNITS2_INCLUDE and UDUNITS2_LIBS manually.\n",
      "--------------------------------------------------------------------------------\n",
      "\n",
      "See `config.log' for more details\n",
      "ERROR: configuration failed for package ‘units’\n",
      "* removing ‘/home/vhepola_linux/R/x86_64-pc-linux-gnu-library/4.1/units’\n",
      "* installing *source* package ‘terra’ ...\n",
      "** package ‘terra’ successfully unpacked and MD5 sums checked\n",
      "** using staged installation\n"
     ]
    },
    {
     "name": "stdout",
     "output_type": "stream",
     "text": [
      "configure: CC: gcc\n",
      "configure: CXX: g++ -std=gnu++14\n",
      "checking for gdal-config... no\n",
      "no\n"
     ]
    },
    {
     "name": "stderr",
     "output_type": "stream",
     "text": [
      "configure: error: gdal-config not found or not executable.\n",
      "ERROR: configuration failed for package ‘terra’\n",
      "* removing ‘/home/vhepola_linux/R/x86_64-pc-linux-gnu-library/4.1/terra’\n",
      "ERROR: dependencies ‘s2’, ‘units’ are not available for package ‘sf’\n",
      "* removing ‘/home/vhepola_linux/R/x86_64-pc-linux-gnu-library/4.1/sf’\n"
     ]
    },
    {
     "name": "stdout",
     "output_type": "stream",
     "text": [
      "Installing package into ‘/home/vhepola_linux/R/x86_64-pc-linux-gnu-library/4.1’\n",
      "(as ‘lib’ is unspecified)\n",
      "trying URL 'https://cloud.r-project.org/src/contrib/tibble_3.2.1.tar.gz'\n",
      "Content type 'application/x-gzip' length 565982 bytes (552 KB)\n",
      "==================================================\n",
      "downloaded 552 KB\n",
      "\n",
      "\n",
      "The downloaded source packages are in\n",
      "\t‘/tmp/Rtmp0S0cQ1/downloaded_packages’\n",
      "Installing package into ‘/home/vhepola_linux/R/x86_64-pc-linux-gnu-library/4.1’\n",
      "(as ‘lib’ is unspecified)\n",
      "trying URL 'https://cloud.r-project.org/src/contrib/dplyr_1.1.4.tar.gz'\n",
      "Content type 'application/x-gzip' length 1207521 bytes (1.2 MB)\n",
      "==================================================\n",
      "downloaded 1.2 MB\n",
      "\n",
      "\n",
      "The downloaded source packages are in\n",
      "\t‘/tmp/Rtmp0S0cQ1/downloaded_packages’\n",
      "Installing package into ‘/home/vhepola_linux/R/x86_64-pc-linux-gnu-library/4.1’\n",
      "(as ‘lib’ is unspecified)\n",
      "trying URL 'https://cloud.r-project.org/src/contrib/ggplot2_3.5.1.tar.gz'\n",
      "Content type 'application/x-gzip' length 3604371 bytes (3.4 MB)\n",
      "==================================================\n",
      "downloaded 3.4 MB\n",
      "\n",
      "\n",
      "The downloaded source packages are in\n",
      "\t‘/tmp/Rtmp0S0cQ1/downloaded_packages’\n",
      "Installing package into ‘/home/vhepola_linux/R/x86_64-pc-linux-gnu-library/4.1’\n",
      "(as ‘lib’ is unspecified)\n",
      "also installing the dependencies ‘curl’, ‘openssl’, ‘httr’\n",
      "\n",
      "trying URL 'https://cloud.r-project.org/src/contrib/curl_5.2.3.tar.gz'\n",
      "Content type 'application/x-gzip' length 717168 bytes (700 KB)\n",
      "==================================================\n",
      "downloaded 700 KB\n",
      "\n",
      "trying URL 'https://cloud.r-project.org/src/contrib/openssl_2.2.2.tar.gz'\n",
      "Content type 'application/x-gzip' length 1208018 bytes (1.2 MB)\n",
      "==================================================\n",
      "downloaded 1.2 MB\n",
      "\n",
      "trying URL 'https://cloud.r-project.org/src/contrib/httr_1.4.7.tar.gz'\n",
      "Content type 'application/x-gzip' length 118500 bytes (115 KB)\n",
      "==================================================\n",
      "downloaded 115 KB\n",
      "\n",
      "trying URL 'https://cloud.r-project.org/src/contrib/ggmap_4.0.0.tar.gz'\n",
      "Content type 'application/x-gzip' length 4945591 bytes (4.7 MB)\n",
      "==================================================\n",
      "downloaded 4.7 MB\n",
      "\n",
      "\n",
      "The downloaded source packages are in\n",
      "\t‘/tmp/Rtmp0S0cQ1/downloaded_packages’\n",
      "Installing package into ‘/home/vhepola_linux/R/x86_64-pc-linux-gnu-library/4.1’\n",
      "(as ‘lib’ is unspecified)\n",
      "also installing the dependencies ‘s2’, ‘units’\n",
      "\n",
      "trying URL 'https://cloud.r-project.org/src/contrib/s2_1.1.7.tar.gz'\n",
      "Content type 'application/x-gzip' length 2381288 bytes (2.3 MB)\n",
      "==================================================\n",
      "downloaded 2.3 MB\n",
      "\n",
      "trying URL 'https://cloud.r-project.org/src/contrib/units_0.8-5.tar.gz'\n",
      "Content type 'application/x-gzip' length 247974 bytes (242 KB)\n",
      "==================================================\n",
      "downloaded 242 KB\n",
      "\n",
      "trying URL 'https://cloud.r-project.org/src/contrib/sf_1.0-18.tar.gz'\n",
      "Content type 'application/x-gzip' length 3804756 bytes (3.6 MB)\n",
      "==================================================\n",
      "downloaded 3.6 MB\n",
      "\n",
      "\n",
      "The downloaded source packages are in\n",
      "\t‘/tmp/Rtmp0S0cQ1/downloaded_packages’\n",
      "Installing package into ‘/home/vhepola_linux/R/x86_64-pc-linux-gnu-library/4.1’\n",
      "(as ‘lib’ is unspecified)\n",
      "also installing the dependencies ‘s2’, ‘units’, ‘raster’, ‘sf’, ‘curl’, ‘terra’, ‘slippymath’\n",
      "\n",
      "trying URL 'https://cloud.r-project.org/src/contrib/s2_1.1.7.tar.gz'\n",
      "Content type 'application/x-gzip' length 2381288 bytes (2.3 MB)\n",
      "==================================================\n",
      "downloaded 2.3 MB\n",
      "\n",
      "trying URL 'https://cloud.r-project.org/src/contrib/units_0.8-5.tar.gz'\n",
      "Content type 'application/x-gzip' length 247974 bytes (242 KB)\n",
      "==================================================\n",
      "downloaded 242 KB\n",
      "\n",
      "trying URL 'https://cloud.r-project.org/src/contrib/raster_3.6-30.tar.gz'\n",
      "Content type 'application/x-gzip' length 575562 bytes (562 KB)\n",
      "==================================================\n",
      "downloaded 562 KB\n",
      "\n",
      "trying URL 'https://cloud.r-project.org/src/contrib/sf_1.0-18.tar.gz'\n",
      "Content type 'application/x-gzip' length 3804756 bytes (3.6 MB)\n",
      "==================================================\n",
      "downloaded 3.6 MB\n",
      "\n",
      "trying URL 'https://cloud.r-project.org/src/contrib/curl_5.2.3.tar.gz'\n",
      "Content type 'application/x-gzip' length 717168 bytes (700 KB)\n",
      "==================================================\n",
      "downloaded 700 KB\n",
      "\n",
      "trying URL 'https://cloud.r-project.org/src/contrib/terra_1.7-83.tar.gz'\n",
      "Content type 'application/x-gzip' length 970353 bytes (947 KB)\n",
      "==================================================\n",
      "downloaded 947 KB\n",
      "\n",
      "trying URL 'https://cloud.r-project.org/src/contrib/slippymath_0.3.1.tar.gz'\n",
      "Content type 'application/x-gzip' length 2670727 bytes (2.5 MB)\n",
      "==================================================\n",
      "downloaded 2.5 MB\n",
      "\n",
      "trying URL 'https://cloud.r-project.org/src/contrib/maptiles_0.7.0.tar.gz'\n",
      "Content type 'application/x-gzip' length 1099091 bytes (1.0 MB)\n",
      "==================================================\n",
      "downloaded 1.0 MB\n",
      "\n",
      "\n",
      "The downloaded source packages are in\n",
      "\t‘/tmp/Rtmp0S0cQ1/downloaded_packages’\n",
      "Installing package into ‘/home/vhepola_linux/R/x86_64-pc-linux-gnu-library/4.1’\n",
      "(as ‘lib’ is unspecified)\n",
      "also installing the dependencies ‘s2’, ‘units’, ‘sf’, ‘terra’\n",
      "\n",
      "trying URL 'https://cloud.r-project.org/src/contrib/s2_1.1.7.tar.gz'\n",
      "Content type 'application/x-gzip' length 2381288 bytes (2.3 MB)\n",
      "==================================================\n",
      "downloaded 2.3 MB\n",
      "\n",
      "trying URL 'https://cloud.r-project.org/src/contrib/units_0.8-5.tar.gz'\n",
      "Content type 'application/x-gzip' length 247974 bytes (242 KB)\n",
      "==================================================\n",
      "downloaded 242 KB\n",
      "\n",
      "trying URL 'https://cloud.r-project.org/src/contrib/sf_1.0-18.tar.gz'\n",
      "Content type 'application/x-gzip' length 3804756 bytes (3.6 MB)\n",
      "==================================================\n",
      "downloaded 3.6 MB\n",
      "\n",
      "trying URL 'https://cloud.r-project.org/src/contrib/terra_1.7-83.tar.gz'\n",
      "Content type 'application/x-gzip' length 970353 bytes (947 KB)\n",
      "==================================================\n",
      "downloaded 947 KB\n",
      "\n",
      "trying URL 'https://cloud.r-project.org/src/contrib/tidyterra_0.6.1.tar.gz'\n",
      "Content type 'application/x-gzip' length 1963305 bytes (1.9 MB)\n",
      "==================================================\n",
      "downloaded 1.9 MB\n",
      "\n",
      "\n",
      "The downloaded source packages are in\n",
      "\t‘/tmp/Rtmp0S0cQ1/downloaded_packages’\n",
      "Error in library(ggmap) : there is no package called ‘ggmap’\n",
      "In addition: There were 20 warnings (use warnings() to see them)\n",
      "Error in library(ggmap) : there is no package called ‘ggmap’\n"
     ]
    },
    {
     "name": "stderr",
     "output_type": "stream",
     "text": [
      "ERROR: dependencies ‘sf’, ‘terra’ are not available for package ‘tidyterra’\n",
      "* removing ‘/home/vhepola_linux/R/x86_64-pc-linux-gnu-library/4.1/tidyterra’\n"
     ]
    },
    {
     "ename": "RInterpreterError",
     "evalue": "Failed to parse and evaluate line '\\ninstall.packages(\"tibble\")\\ninstall.packages(\"dplyr\")\\ninstall.packages(\"ggplot2\")\\ninstall.packages(\"ggmap\")\\ninstall.packages(\"sf\")\\ninstall.packages(\"maptiles\")\\ninstall.packages(\"tidyterra\")\\n\\nlibrary(tibble)\\nlibrary(dplyr)\\nlibrary(ggplot2)\\nlibrary(ggmap)\\nlibrary(sf)\\nlibrary(maptiles)\\nlibrary(tidyterra)\\n'.\nR error message: 'Error in library(ggmap) : there is no package called ‘ggmap’'\nR stdout:\nInstalling package into ‘/home/vhepola_linux/R/x86_64-pc-linux-gnu-library/4.1’\n(as ‘lib’ is unspecified)\ntrying URL 'https://cloud.r-project.org/src/contrib/tibble_3.2.1.tar.gz'\nContent type 'application/x-gzip' length 565982 bytes (552 KB)\n==================================================\ndownloaded 552 KB\n\n\nThe downloaded source packages are in\n\t‘/tmp/Rtmp0S0cQ1/downloaded_packages’\nInstalling package into ‘/home/vhepola_linux/R/x86_64-pc-linux-gnu-library/4.1’\n(as ‘lib’ is unspecified)\ntrying URL 'https://cloud.r-project.org/src/contrib/dplyr_1.1.4.tar.gz'\nContent type 'application/x-gzip' length 1207521 bytes (1.2 MB)\n==================================================\ndownloaded 1.2 MB\n\n\nThe downloaded source packages are in\n\t‘/tmp/Rtmp0S0cQ1/downloaded_packages’\nInstalling package into ‘/home/vhepola_linux/R/x86_64-pc-linux-gnu-library/4.1’\n(as ‘lib’ is unspecified)\ntrying URL 'https://cloud.r-project.org/src/contrib/ggplot2_3.5.1.tar.gz'\nContent type 'application/x-gzip' length 3604371 bytes (3.4 MB)\n==================================================\ndownloaded 3.4 MB\n\n\nThe downloaded source packages are in\n\t‘/tmp/Rtmp0S0cQ1/downloaded_packages’\nInstalling package into ‘/home/vhepola_linux/R/x86_64-pc-linux-gnu-library/4.1’\n(as ‘lib’ is unspecified)\nalso installing the dependencies ‘curl’, ‘openssl’, ‘httr’\n\ntrying URL 'https://cloud.r-project.org/src/contrib/curl_5.2.3.tar.gz'\nContent type 'application/x-gzip' length 717168 bytes (700 KB)\n==================================================\ndownloaded 700 KB\n\ntrying URL 'https://cloud.r-project.org/src/contrib/openssl_2.2.2.tar.gz'\nContent type 'application/x-gzip' length 1208018 bytes (1.2 MB)\n==================================================\ndownloaded 1.2 MB\n\ntrying URL 'https://cloud.r-project.org/src/contrib/httr_1.4.7.tar.gz'\nContent type 'application/x-gzip' length 118500 bytes (115 KB)\n==================================================\ndownloaded 115 KB\n\ntrying URL 'https://cloud.r-project.org/src/contrib/ggmap_4.0.0.tar.gz'\nContent type 'application/x-gzip' length 4945591 bytes (4.7 MB)\n==================================================\ndownloaded 4.7 MB\n\n\nThe downloaded source packages are in\n\t‘/tmp/Rtmp0S0cQ1/downloaded_packages’\nInstalling package into ‘/home/vhepola_linux/R/x86_64-pc-linux-gnu-library/4.1’\n(as ‘lib’ is unspecified)\nalso installing the dependencies ‘s2’, ‘units’\n\ntrying URL 'https://cloud.r-project.org/src/contrib/s2_1.1.7.tar.gz'\nContent type 'application/x-gzip' length 2381288 bytes (2.3 MB)\n==================================================\ndownloaded 2.3 MB\n\ntrying URL 'https://cloud.r-project.org/src/contrib/units_0.8-5.tar.gz'\nContent type 'application/x-gzip' length 247974 bytes (242 KB)\n==================================================\ndownloaded 242 KB\n\ntrying URL 'https://cloud.r-project.org/src/contrib/sf_1.0-18.tar.gz'\nContent type 'application/x-gzip' length 3804756 bytes (3.6 MB)\n==================================================\ndownloaded 3.6 MB\n\n\nThe downloaded source packages are in\n\t‘/tmp/Rtmp0S0cQ1/downloaded_packages’\nInstalling package into ‘/home/vhepola_linux/R/x86_64-pc-linux-gnu-library/4.1’\n(as ‘lib’ is unspecified)\nalso installing the dependencies ‘s2’, ‘units’, ‘raster’, ‘sf’, ‘curl’, ‘terra’, ‘slippymath’\n\ntrying URL 'https://cloud.r-project.org/src/contrib/s2_1.1.7.tar.gz'\nContent type 'application/x-gzip' length 2381288 bytes (2.3 MB)\n==================================================\ndownloaded 2.3 MB\n\ntrying URL 'https://cloud.r-project.org/src/contrib/units_0.8-5.tar.gz'\nContent type 'application/x-gzip' length 247974 bytes (242 KB)\n==================================================\ndownloaded 242 KB\n\ntrying URL 'https://cloud.r-project.org/src/contrib/raster_3.6-30.tar.gz'\nContent type 'application/x-gzip' length 575562 bytes (562 KB)\n==================================================\ndownloaded 562 KB\n\ntrying URL 'https://cloud.r-project.org/src/contrib/sf_1.0-18.tar.gz'\nContent type 'application/x-gzip' length 3804756 bytes (3.6 MB)\n==================================================\ndownloaded 3.6 MB\n\ntrying URL 'https://cloud.r-project.org/src/contrib/curl_5.2.3.tar.gz'\nContent type 'application/x-gzip' length 717168 bytes (700 KB)\n==================================================\ndownloaded 700 KB\n\ntrying URL 'https://cloud.r-project.org/src/contrib/terra_1.7-83.tar.gz'\nContent type 'application/x-gzip' length 970353 bytes (947 KB)\n==================================================\ndownloaded 947 KB\n\ntrying URL 'https://cloud.r-project.org/src/contrib/slippymath_0.3.1.tar.gz'\nContent type 'application/x-gzip' length 2670727 bytes (2.5 MB)\n==================================================\ndownloaded 2.5 MB\n\ntrying URL 'https://cloud.r-project.org/src/contrib/maptiles_0.7.0.tar.gz'\nContent type 'application/x-gzip' length 1099091 bytes (1.0 MB)\n==================================================\ndownloaded 1.0 MB\n\n\nThe downloaded source packages are in\n\t‘/tmp/Rtmp0S0cQ1/downloaded_packages’\nInstalling package into ‘/home/vhepola_linux/R/x86_64-pc-linux-gnu-library/4.1’\n(as ‘lib’ is unspecified)\nalso installing the dependencies ‘s2’, ‘units’, ‘sf’, ‘terra’\n\ntrying URL 'https://cloud.r-project.org/src/contrib/s2_1.1.7.tar.gz'\nContent type 'application/x-gzip' length 2381288 bytes (2.3 MB)\n==================================================\ndownloaded 2.3 MB\n\ntrying URL 'https://cloud.r-project.org/src/contrib/units_0.8-5.tar.gz'\nContent type 'application/x-gzip' length 247974 bytes (242 KB)\n==================================================\ndownloaded 242 KB\n\ntrying URL 'https://cloud.r-project.org/src/contrib/sf_1.0-18.tar.gz'\nContent type 'application/x-gzip' length 3804756 bytes (3.6 MB)\n==================================================\ndownloaded 3.6 MB\n\ntrying URL 'https://cloud.r-project.org/src/contrib/terra_1.7-83.tar.gz'\nContent type 'application/x-gzip' length 970353 bytes (947 KB)\n==================================================\ndownloaded 947 KB\n\ntrying URL 'https://cloud.r-project.org/src/contrib/tidyterra_0.6.1.tar.gz'\nContent type 'application/x-gzip' length 1963305 bytes (1.9 MB)\n==================================================\ndownloaded 1.9 MB\n\n\nThe downloaded source packages are in\n\t‘/tmp/Rtmp0S0cQ1/downloaded_packages’\nError in library(ggmap) : there is no package called ‘ggmap’\nIn addition: There were 20 warnings (use warnings() to see them)",
     "output_type": "error",
     "traceback": [
      "\u001b[0;31m---------------------------------------------------------------------------\u001b[0m",
      "\u001b[0;31mRRuntimeError\u001b[0m                             Traceback (most recent call last)",
      "File \u001b[0;32m~/do-env/lib/python3.10/site-packages/rpy2/ipython/rmagic.py:407\u001b[0m, in \u001b[0;36mRMagics.eval\u001b[0;34m(self, code)\u001b[0m\n\u001b[1;32m    406\u001b[0m     r_expr \u001b[38;5;241m=\u001b[39m ri\u001b[38;5;241m.\u001b[39mparse(code)\n\u001b[0;32m--> 407\u001b[0m     value, visible \u001b[38;5;241m=\u001b[39m \u001b[43mri\u001b[49m\u001b[38;5;241;43m.\u001b[39;49m\u001b[43mevalr_expr_with_visible\u001b[49m\u001b[43m(\u001b[49m\n\u001b[1;32m    408\u001b[0m \u001b[43m        \u001b[49m\u001b[43mr_expr\u001b[49m\n\u001b[1;32m    409\u001b[0m \u001b[43m    \u001b[49m\u001b[43m)\u001b[49m\n\u001b[1;32m    410\u001b[0m \u001b[38;5;28;01mexcept\u001b[39;00m (ri\u001b[38;5;241m.\u001b[39membedded\u001b[38;5;241m.\u001b[39mRRuntimeError, \u001b[38;5;167;01mValueError\u001b[39;00m) \u001b[38;5;28;01mas\u001b[39;00m exception:\n\u001b[1;32m    411\u001b[0m     \u001b[38;5;66;03m# Otherwise next return seems to have copy of error.\u001b[39;00m\n",
      "File \u001b[0;32m~/do-env/lib/python3.10/site-packages/rpy2/rinterface.py:192\u001b[0m, in \u001b[0;36mevalr_expr_with_visible\u001b[0;34m(expr, envir)\u001b[0m\n\u001b[1;32m    191\u001b[0m \u001b[38;5;28;01mif\u001b[39;00m error_occured[\u001b[38;5;241m0\u001b[39m]:\n\u001b[0;32m--> 192\u001b[0m     \u001b[38;5;28;01mraise\u001b[39;00m embedded\u001b[38;5;241m.\u001b[39mRRuntimeError(_rinterface\u001b[38;5;241m.\u001b[39m_geterrmessage())\n\u001b[1;32m    193\u001b[0m res \u001b[38;5;241m=\u001b[39m conversion\u001b[38;5;241m.\u001b[39m_cdata_to_rinterface(r_res)\n",
      "\u001b[0;31mRRuntimeError\u001b[0m: Error in library(ggmap) : there is no package called ‘ggmap’\n",
      "\nDuring handling of the above exception, another exception occurred:\n",
      "\u001b[0;31mRInterpreterError\u001b[0m                         Traceback (most recent call last)",
      "Cell \u001b[0;32mIn[4], line 1\u001b[0m\n\u001b[0;32m----> 1\u001b[0m \u001b[43mget_ipython\u001b[49m\u001b[43m(\u001b[49m\u001b[43m)\u001b[49m\u001b[38;5;241;43m.\u001b[39;49m\u001b[43mrun_cell_magic\u001b[49m\u001b[43m(\u001b[49m\u001b[38;5;124;43m'\u001b[39;49m\u001b[38;5;124;43mR\u001b[39;49m\u001b[38;5;124;43m'\u001b[39;49m\u001b[43m,\u001b[49m\u001b[43m \u001b[49m\u001b[38;5;124;43m'\u001b[39;49m\u001b[38;5;124;43m'\u001b[39;49m\u001b[43m,\u001b[49m\u001b[43m \u001b[49m\u001b[38;5;124;43m'\u001b[39;49m\u001b[38;5;130;43;01m\\n\u001b[39;49;00m\u001b[38;5;124;43minstall.packages(\u001b[39;49m\u001b[38;5;124;43m\"\u001b[39;49m\u001b[38;5;124;43mtibble\u001b[39;49m\u001b[38;5;124;43m\"\u001b[39;49m\u001b[38;5;124;43m)\u001b[39;49m\u001b[38;5;130;43;01m\\n\u001b[39;49;00m\u001b[38;5;124;43minstall.packages(\u001b[39;49m\u001b[38;5;124;43m\"\u001b[39;49m\u001b[38;5;124;43mdplyr\u001b[39;49m\u001b[38;5;124;43m\"\u001b[39;49m\u001b[38;5;124;43m)\u001b[39;49m\u001b[38;5;130;43;01m\\n\u001b[39;49;00m\u001b[38;5;124;43minstall.packages(\u001b[39;49m\u001b[38;5;124;43m\"\u001b[39;49m\u001b[38;5;124;43mggplot2\u001b[39;49m\u001b[38;5;124;43m\"\u001b[39;49m\u001b[38;5;124;43m)\u001b[39;49m\u001b[38;5;130;43;01m\\n\u001b[39;49;00m\u001b[38;5;124;43minstall.packages(\u001b[39;49m\u001b[38;5;124;43m\"\u001b[39;49m\u001b[38;5;124;43mggmap\u001b[39;49m\u001b[38;5;124;43m\"\u001b[39;49m\u001b[38;5;124;43m)\u001b[39;49m\u001b[38;5;130;43;01m\\n\u001b[39;49;00m\u001b[38;5;124;43minstall.packages(\u001b[39;49m\u001b[38;5;124;43m\"\u001b[39;49m\u001b[38;5;124;43msf\u001b[39;49m\u001b[38;5;124;43m\"\u001b[39;49m\u001b[38;5;124;43m)\u001b[39;49m\u001b[38;5;130;43;01m\\n\u001b[39;49;00m\u001b[38;5;124;43minstall.packages(\u001b[39;49m\u001b[38;5;124;43m\"\u001b[39;49m\u001b[38;5;124;43mmaptiles\u001b[39;49m\u001b[38;5;124;43m\"\u001b[39;49m\u001b[38;5;124;43m)\u001b[39;49m\u001b[38;5;130;43;01m\\n\u001b[39;49;00m\u001b[38;5;124;43minstall.packages(\u001b[39;49m\u001b[38;5;124;43m\"\u001b[39;49m\u001b[38;5;124;43mtidyterra\u001b[39;49m\u001b[38;5;124;43m\"\u001b[39;49m\u001b[38;5;124;43m)\u001b[39;49m\u001b[38;5;130;43;01m\\n\u001b[39;49;00m\u001b[38;5;130;43;01m\\n\u001b[39;49;00m\u001b[38;5;124;43mlibrary(tibble)\u001b[39;49m\u001b[38;5;130;43;01m\\n\u001b[39;49;00m\u001b[38;5;124;43mlibrary(dplyr)\u001b[39;49m\u001b[38;5;130;43;01m\\n\u001b[39;49;00m\u001b[38;5;124;43mlibrary(ggplot2)\u001b[39;49m\u001b[38;5;130;43;01m\\n\u001b[39;49;00m\u001b[38;5;124;43mlibrary(ggmap)\u001b[39;49m\u001b[38;5;130;43;01m\\n\u001b[39;49;00m\u001b[38;5;124;43mlibrary(sf)\u001b[39;49m\u001b[38;5;130;43;01m\\n\u001b[39;49;00m\u001b[38;5;124;43mlibrary(maptiles)\u001b[39;49m\u001b[38;5;130;43;01m\\n\u001b[39;49;00m\u001b[38;5;124;43mlibrary(tidyterra)\u001b[39;49m\u001b[38;5;130;43;01m\\n\u001b[39;49;00m\u001b[38;5;124;43m'\u001b[39;49m\u001b[43m)\u001b[49m\n",
      "File \u001b[0;32m~/do-env/lib/python3.10/site-packages/IPython/core/interactiveshell.py:2517\u001b[0m, in \u001b[0;36mInteractiveShell.run_cell_magic\u001b[0;34m(self, magic_name, line, cell)\u001b[0m\n\u001b[1;32m   2515\u001b[0m \u001b[38;5;28;01mwith\u001b[39;00m \u001b[38;5;28mself\u001b[39m\u001b[38;5;241m.\u001b[39mbuiltin_trap:\n\u001b[1;32m   2516\u001b[0m     args \u001b[38;5;241m=\u001b[39m (magic_arg_s, cell)\n\u001b[0;32m-> 2517\u001b[0m     result \u001b[38;5;241m=\u001b[39m \u001b[43mfn\u001b[49m\u001b[43m(\u001b[49m\u001b[38;5;241;43m*\u001b[39;49m\u001b[43margs\u001b[49m\u001b[43m,\u001b[49m\u001b[43m \u001b[49m\u001b[38;5;241;43m*\u001b[39;49m\u001b[38;5;241;43m*\u001b[39;49m\u001b[43mkwargs\u001b[49m\u001b[43m)\u001b[49m\n\u001b[1;32m   2519\u001b[0m \u001b[38;5;66;03m# The code below prevents the output from being displayed\u001b[39;00m\n\u001b[1;32m   2520\u001b[0m \u001b[38;5;66;03m# when using magics with decorator @output_can_be_silenced\u001b[39;00m\n\u001b[1;32m   2521\u001b[0m \u001b[38;5;66;03m# when the last Python token in the expression is a ';'.\u001b[39;00m\n\u001b[1;32m   2522\u001b[0m \u001b[38;5;28;01mif\u001b[39;00m \u001b[38;5;28mgetattr\u001b[39m(fn, magic\u001b[38;5;241m.\u001b[39mMAGIC_OUTPUT_CAN_BE_SILENCED, \u001b[38;5;28;01mFalse\u001b[39;00m):\n",
      "File \u001b[0;32m~/do-env/lib/python3.10/site-packages/rpy2/ipython/rmagic.py:984\u001b[0m, in \u001b[0;36mRMagics.R\u001b[0;34m(self, line, cell, local_ns)\u001b[0m\n\u001b[1;32m    982\u001b[0m     \u001b[38;5;28;01mif\u001b[39;00m \u001b[38;5;129;01mnot\u001b[39;00m e\u001b[38;5;241m.\u001b[39mstdout\u001b[38;5;241m.\u001b[39mendswith(e\u001b[38;5;241m.\u001b[39merr):\n\u001b[1;32m    983\u001b[0m         \u001b[38;5;28mprint\u001b[39m(e\u001b[38;5;241m.\u001b[39merr)\n\u001b[0;32m--> 984\u001b[0m     \u001b[38;5;28;01mraise\u001b[39;00m e\n\u001b[1;32m    985\u001b[0m \u001b[38;5;28;01mfinally\u001b[39;00m:\n\u001b[1;32m    986\u001b[0m     \u001b[38;5;28;01mif\u001b[39;00m \u001b[38;5;28mself\u001b[39m\u001b[38;5;241m.\u001b[39mdevice \u001b[38;5;129;01min\u001b[39;00m DEVICES_STATIC:\n",
      "File \u001b[0;32m~/do-env/lib/python3.10/site-packages/rpy2/ipython/rmagic.py:949\u001b[0m, in \u001b[0;36mRMagics.R\u001b[0;34m(self, line, cell, local_ns)\u001b[0m\n\u001b[1;32m    947\u001b[0m         return_output \u001b[38;5;241m=\u001b[39m \u001b[38;5;28;01mFalse\u001b[39;00m\n\u001b[1;32m    948\u001b[0m \u001b[38;5;28;01melse\u001b[39;00m:\n\u001b[0;32m--> 949\u001b[0m     text_result, result, visible \u001b[38;5;241m=\u001b[39m \u001b[38;5;28;43mself\u001b[39;49m\u001b[38;5;241;43m.\u001b[39;49m\u001b[43meval\u001b[49m\u001b[43m(\u001b[49m\u001b[43mcode\u001b[49m\u001b[43m)\u001b[49m\n\u001b[1;32m    950\u001b[0m     text_output \u001b[38;5;241m+\u001b[39m\u001b[38;5;241m=\u001b[39m text_result\n\u001b[1;32m    951\u001b[0m     \u001b[38;5;28;01mif\u001b[39;00m visible:\n",
      "File \u001b[0;32m~/do-env/lib/python3.10/site-packages/rpy2/ipython/rmagic.py:413\u001b[0m, in \u001b[0;36mRMagics.eval\u001b[0;34m(self, code)\u001b[0m\n\u001b[1;32m    410\u001b[0m \u001b[38;5;28;01mexcept\u001b[39;00m (ri\u001b[38;5;241m.\u001b[39membedded\u001b[38;5;241m.\u001b[39mRRuntimeError, \u001b[38;5;167;01mValueError\u001b[39;00m) \u001b[38;5;28;01mas\u001b[39;00m exception:\n\u001b[1;32m    411\u001b[0m     \u001b[38;5;66;03m# Otherwise next return seems to have copy of error.\u001b[39;00m\n\u001b[1;32m    412\u001b[0m     warning_or_other_msg \u001b[38;5;241m=\u001b[39m \u001b[38;5;28mself\u001b[39m\u001b[38;5;241m.\u001b[39mflush()\n\u001b[0;32m--> 413\u001b[0m     \u001b[38;5;28;01mraise\u001b[39;00m RInterpreterError(code, \u001b[38;5;28mstr\u001b[39m(exception),\n\u001b[1;32m    414\u001b[0m                             warning_or_other_msg)\n\u001b[1;32m    415\u001b[0m \u001b[38;5;28;01mfinally\u001b[39;00m:\n\u001b[1;32m    416\u001b[0m     ro\u001b[38;5;241m.\u001b[39m_print_deferred_warnings()\n",
      "\u001b[0;31mRInterpreterError\u001b[0m: Failed to parse and evaluate line '\\ninstall.packages(\"tibble\")\\ninstall.packages(\"dplyr\")\\ninstall.packages(\"ggplot2\")\\ninstall.packages(\"ggmap\")\\ninstall.packages(\"sf\")\\ninstall.packages(\"maptiles\")\\ninstall.packages(\"tidyterra\")\\n\\nlibrary(tibble)\\nlibrary(dplyr)\\nlibrary(ggplot2)\\nlibrary(ggmap)\\nlibrary(sf)\\nlibrary(maptiles)\\nlibrary(tidyterra)\\n'.\nR error message: 'Error in library(ggmap) : there is no package called ‘ggmap’'\nR stdout:\nInstalling package into ‘/home/vhepola_linux/R/x86_64-pc-linux-gnu-library/4.1’\n(as ‘lib’ is unspecified)\ntrying URL 'https://cloud.r-project.org/src/contrib/tibble_3.2.1.tar.gz'\nContent type 'application/x-gzip' length 565982 bytes (552 KB)\n==================================================\ndownloaded 552 KB\n\n\nThe downloaded source packages are in\n\t‘/tmp/Rtmp0S0cQ1/downloaded_packages’\nInstalling package into ‘/home/vhepola_linux/R/x86_64-pc-linux-gnu-library/4.1’\n(as ‘lib’ is unspecified)\ntrying URL 'https://cloud.r-project.org/src/contrib/dplyr_1.1.4.tar.gz'\nContent type 'application/x-gzip' length 1207521 bytes (1.2 MB)\n==================================================\ndownloaded 1.2 MB\n\n\nThe downloaded source packages are in\n\t‘/tmp/Rtmp0S0cQ1/downloaded_packages’\nInstalling package into ‘/home/vhepola_linux/R/x86_64-pc-linux-gnu-library/4.1’\n(as ‘lib’ is unspecified)\ntrying URL 'https://cloud.r-project.org/src/contrib/ggplot2_3.5.1.tar.gz'\nContent type 'application/x-gzip' length 3604371 bytes (3.4 MB)\n==================================================\ndownloaded 3.4 MB\n\n\nThe downloaded source packages are in\n\t‘/tmp/Rtmp0S0cQ1/downloaded_packages’\nInstalling package into ‘/home/vhepola_linux/R/x86_64-pc-linux-gnu-library/4.1’\n(as ‘lib’ is unspecified)\nalso installing the dependencies ‘curl’, ‘openssl’, ‘httr’\n\ntrying URL 'https://cloud.r-project.org/src/contrib/curl_5.2.3.tar.gz'\nContent type 'application/x-gzip' length 717168 bytes (700 KB)\n==================================================\ndownloaded 700 KB\n\ntrying URL 'https://cloud.r-project.org/src/contrib/openssl_2.2.2.tar.gz'\nContent type 'application/x-gzip' length 1208018 bytes (1.2 MB)\n==================================================\ndownloaded 1.2 MB\n\ntrying URL 'https://cloud.r-project.org/src/contrib/httr_1.4.7.tar.gz'\nContent type 'application/x-gzip' length 118500 bytes (115 KB)\n==================================================\ndownloaded 115 KB\n\ntrying URL 'https://cloud.r-project.org/src/contrib/ggmap_4.0.0.tar.gz'\nContent type 'application/x-gzip' length 4945591 bytes (4.7 MB)\n==================================================\ndownloaded 4.7 MB\n\n\nThe downloaded source packages are in\n\t‘/tmp/Rtmp0S0cQ1/downloaded_packages’\nInstalling package into ‘/home/vhepola_linux/R/x86_64-pc-linux-gnu-library/4.1’\n(as ‘lib’ is unspecified)\nalso installing the dependencies ‘s2’, ‘units’\n\ntrying URL 'https://cloud.r-project.org/src/contrib/s2_1.1.7.tar.gz'\nContent type 'application/x-gzip' length 2381288 bytes (2.3 MB)\n==================================================\ndownloaded 2.3 MB\n\ntrying URL 'https://cloud.r-project.org/src/contrib/units_0.8-5.tar.gz'\nContent type 'application/x-gzip' length 247974 bytes (242 KB)\n==================================================\ndownloaded 242 KB\n\ntrying URL 'https://cloud.r-project.org/src/contrib/sf_1.0-18.tar.gz'\nContent type 'application/x-gzip' length 3804756 bytes (3.6 MB)\n==================================================\ndownloaded 3.6 MB\n\n\nThe downloaded source packages are in\n\t‘/tmp/Rtmp0S0cQ1/downloaded_packages’\nInstalling package into ‘/home/vhepola_linux/R/x86_64-pc-linux-gnu-library/4.1’\n(as ‘lib’ is unspecified)\nalso installing the dependencies ‘s2’, ‘units’, ‘raster’, ‘sf’, ‘curl’, ‘terra’, ‘slippymath’\n\ntrying URL 'https://cloud.r-project.org/src/contrib/s2_1.1.7.tar.gz'\nContent type 'application/x-gzip' length 2381288 bytes (2.3 MB)\n==================================================\ndownloaded 2.3 MB\n\ntrying URL 'https://cloud.r-project.org/src/contrib/units_0.8-5.tar.gz'\nContent type 'application/x-gzip' length 247974 bytes (242 KB)\n==================================================\ndownloaded 242 KB\n\ntrying URL 'https://cloud.r-project.org/src/contrib/raster_3.6-30.tar.gz'\nContent type 'application/x-gzip' length 575562 bytes (562 KB)\n==================================================\ndownloaded 562 KB\n\ntrying URL 'https://cloud.r-project.org/src/contrib/sf_1.0-18.tar.gz'\nContent type 'application/x-gzip' length 3804756 bytes (3.6 MB)\n==================================================\ndownloaded 3.6 MB\n\ntrying URL 'https://cloud.r-project.org/src/contrib/curl_5.2.3.tar.gz'\nContent type 'application/x-gzip' length 717168 bytes (700 KB)\n==================================================\ndownloaded 700 KB\n\ntrying URL 'https://cloud.r-project.org/src/contrib/terra_1.7-83.tar.gz'\nContent type 'application/x-gzip' length 970353 bytes (947 KB)\n==================================================\ndownloaded 947 KB\n\ntrying URL 'https://cloud.r-project.org/src/contrib/slippymath_0.3.1.tar.gz'\nContent type 'application/x-gzip' length 2670727 bytes (2.5 MB)\n==================================================\ndownloaded 2.5 MB\n\ntrying URL 'https://cloud.r-project.org/src/contrib/maptiles_0.7.0.tar.gz'\nContent type 'application/x-gzip' length 1099091 bytes (1.0 MB)\n==================================================\ndownloaded 1.0 MB\n\n\nThe downloaded source packages are in\n\t‘/tmp/Rtmp0S0cQ1/downloaded_packages’\nInstalling package into ‘/home/vhepola_linux/R/x86_64-pc-linux-gnu-library/4.1’\n(as ‘lib’ is unspecified)\nalso installing the dependencies ‘s2’, ‘units’, ‘sf’, ‘terra’\n\ntrying URL 'https://cloud.r-project.org/src/contrib/s2_1.1.7.tar.gz'\nContent type 'application/x-gzip' length 2381288 bytes (2.3 MB)\n==================================================\ndownloaded 2.3 MB\n\ntrying URL 'https://cloud.r-project.org/src/contrib/units_0.8-5.tar.gz'\nContent type 'application/x-gzip' length 247974 bytes (242 KB)\n==================================================\ndownloaded 242 KB\n\ntrying URL 'https://cloud.r-project.org/src/contrib/sf_1.0-18.tar.gz'\nContent type 'application/x-gzip' length 3804756 bytes (3.6 MB)\n==================================================\ndownloaded 3.6 MB\n\ntrying URL 'https://cloud.r-project.org/src/contrib/terra_1.7-83.tar.gz'\nContent type 'application/x-gzip' length 970353 bytes (947 KB)\n==================================================\ndownloaded 947 KB\n\ntrying URL 'https://cloud.r-project.org/src/contrib/tidyterra_0.6.1.tar.gz'\nContent type 'application/x-gzip' length 1963305 bytes (1.9 MB)\n==================================================\ndownloaded 1.9 MB\n\n\nThe downloaded source packages are in\n\t‘/tmp/Rtmp0S0cQ1/downloaded_packages’\nError in library(ggmap) : there is no package called ‘ggmap’\nIn addition: There were 20 warnings (use warnings() to see them)"
     ]
    }
   ],
   "source": [
    "%%R\n",
    "\n",
    "install.packages(\"tibble\")\n",
    "install.packages(\"dplyr\")\n",
    "install.packages(\"ggplot2\")\n",
    "install.packages(\"ggmap\")\n",
    "install.packages(\"sf\")\n",
    "install.packages(\"maptiles\")\n",
    "install.packages(\"tidyterra\")\n",
    "\n",
    "library(tibble)\n",
    "library(dplyr)\n",
    "library(ggplot2)\n",
    "library(ggmap)\n",
    "library(sf)\n",
    "library(maptiles)\n",
    "library(tidyterra)\n"
   ]
  },
  {
   "cell_type": "markdown",
   "metadata": {
    "vscode": {
     "languageId": "r"
    }
   },
   "source": [
    "### List desired gmIDs\n"
   ]
  },
  {
   "cell_type": "code",
   "execution_count": null,
   "metadata": {},
   "outputs": [],
   "source": [
    "%%R\n",
    "\n",
    "gmIDs <- c(\n",
    "    #\"3a116996-93a9-11ee-956e-9da2d070324c\"\n",
    "    #,\n",
    "    #\"3a2a78cc-db21-11ee-a158-97f8443fd730\"\n",
    "    #,\n",
    "    \"feaf2ba8-d28d-11ee-b437-336917683bb8\"\n",
    "           )\n",
    "print(gmIDs)\n"
   ]
  },
  {
   "cell_type": "markdown",
   "metadata": {
    "vscode": {
     "languageId": "r"
    }
   },
   "source": [
    "### Define useful functions\n"
   ]
  },
  {
   "cell_type": "code",
   "execution_count": 4,
   "metadata": {},
   "outputs": [],
   "source": [
    "%% R\n",
    "\n",
    "binary_driving_mode <- function (df) {\n",
    "    result <- ifelse(df$drivingMode == \"COMPLETE_AUTO_DRIVE\", 1, 0)\n",
    "\n",
    "    return(result)\n",
    "}\n",
    "\n",
    "merge_chassis_pose <- function (df_chassis, df_pose) {\n",
    "\n",
    "    chassis_time_arr <- df_chassis$time\n",
    "    pose_time_arr <- df_pose$time\n",
    "\n",
    "    matched_vector <- c()\n",
    "\n",
    "    for (chassis_time in chassis_time_arr) {\n",
    "        abs_time_diff_arr <- abs(pose_time_arr - chassis_time)\n",
    "\n",
    "        min_index <-  which(abs_time_diff_arr == min(abs_time_diff_arr))\n",
    "        \n",
    "        matched_vector <-  c(matched_vector, pose_time_arr[min_index])\n",
    "    }\n",
    "\n",
    "\n",
    "\n",
    "    #df_chassis$matched <- df_pose$time[which(abs(pose_time_arr - df_chassis$time) == min(abs(pose_time_arr - df_chassis$time)))]\n",
    "    df_chassis$matched <-  matched_vector\n",
    "    df_pose$matched <-  df_pose$time\n",
    "\n",
    "\n",
    "    return (list(df_chassis = df_chassis, df_pose = df_pose))\n",
    "\n",
    "\n",
    "}"
   ]
  },
  {
   "cell_type": "markdown",
   "metadata": {
    "vscode": {
     "languageId": "r"
    }
   },
   "source": [
    "### Read chassis and best_pose data into one large tibble\n"
   ]
  },
  {
   "cell_type": "code",
   "execution_count": null,
   "metadata": {},
   "outputs": [],
   "source": [
    "%%R\n",
    "\n",
    "df_chassis <- tibble()\n",
    "df_pose <- tibble()\n",
    "\n",
    "df_merged <- tibble()\n",
    "\n",
    "for (id in gmIDs) {\n",
    "    \n",
    "    print(id)\n",
    "    #temp_chassis <- read_csv(sprintf(\"./data/chassis/%s.csv\", id), show_col_types = FALSE)\n",
    "    #temp_pose <- read_csv(sprintf(\"./data/best_pose/%s.csv\", id),show_col_types = FALSE)\n",
    "    temp_chassis <- as_tibble(read.csv(sprintf(\"./data/Raw_Data/%s/_apollo_canbus_chassis/%s_apollo_canbus_chassis.csv\", id, id)))\n",
    "    temp_pose <- as_tibble(read.csv(sprintf(\"./data/Raw_Data/%s/_apollo_sensor_gnss_best_pose/%s_apollo_sensor_gnss_best_pose.csv\", id, id)))\n",
    "    \n",
    "    # Sort by time_col\n",
    "    temp_chassis <- temp_chassis[order(temp_chassis$time), ]\n",
    "    temp_pose <- temp_pose[order(temp_pose$time), ]\n",
    "    \n",
    "    results <- merge_chassis_pose(temp_chassis,temp_pose)\n",
    "\n",
    "    result_full <- full_join(results$df_chassis,results$df_pose, by = \"matched\")\n",
    "\n",
    "\n",
    "    result_full$binaryDrivingMode <- binary_driving_mode(result_full)\n",
    "\n",
    "    df_merged <- bind_rows(df_merged, result_full)\n",
    "}\n",
    "\n",
    "print(\"done loading data\")\n"
   ]
  },
  {
   "cell_type": "markdown",
   "metadata": {
    "vscode": {
     "languageId": "r"
    }
   },
   "source": [
    "### Check distribution of driving modes. 0 = manual, 1 = automatic\n"
   ]
  },
  {
   "cell_type": "code",
   "execution_count": null,
   "metadata": {},
   "outputs": [],
   "source": [
    "%%R\n",
    "table(df_merged$binaryDrivingMode)"
   ]
  },
  {
   "cell_type": "markdown",
   "metadata": {},
   "source": [
    "## Map\n"
   ]
  },
  {
   "cell_type": "code",
   "execution_count": null,
   "metadata": {},
   "outputs": [],
   "source": [
    "%%R\n",
    "\n",
    "options(repr.plot.width=12, repr.plot.height=10)  # Adjust dimensions as needed\n",
    "\n",
    "df <- st_as_sf(df_merged,\n",
    "  coords = c(\"longitude\", \"latitude\"),\n",
    "  crs = \"+proj=lonlat\"\n",
    ")\n",
    "  \n",
    "df_merc <- st_transform(df, 3857)\n",
    "dc <- get_tiles(df_merc, provider = \"OpenStreetMap\", zoom = 15)\n",
    "\n",
    "ggplot() +\n",
    "  geom_spatraster_rgb(data = dc) +\n",
    "  geom_sf(data = df, aes(color = factor(binaryDrivingMode)), alpha = .5) +  # Map color to binaryDrivingMode\n",
    "  coord_sf(crs = 3857) +\n",
    "  scale_color_manual(values = c(\"red\", \"blue\")) +  # Adjust colors as needed\n",
    "  theme_minimal() +  # Add a minimal theme for better aesthetics\n",
    "  labs(color = \"Driving Mode\")  # Label for the legend\n"
   ]
  }
 ],
 "metadata": {
  "kernelspec": {
   "display_name": "do-env",
   "language": "python",
   "name": "python3"
  },
  "language_info": {
   "codemirror_mode": {
    "name": "ipython",
    "version": 3
   },
   "file_extension": ".py",
   "mimetype": "text/x-python",
   "name": "python",
   "nbconvert_exporter": "python",
   "pygments_lexer": "ipython3",
   "version": "3.10.12"
  }
 },
 "nbformat": 4,
 "nbformat_minor": 2
}
