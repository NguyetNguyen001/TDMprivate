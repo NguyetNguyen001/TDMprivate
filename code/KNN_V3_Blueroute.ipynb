{
 "cells": [
  {
   "cell_type": "code",
   "execution_count": 3,
   "id": "e528498e-df08-4457-9f4b-65df043909a0",
   "metadata": {},
   "outputs": [],
   "source": [
    "import CalculatedFieldSubroutines as cfs\n",
    "import pandas as pd\n",
    "from CalculatedFieldSubroutines import BinaryDrivingMode\n",
    "import numpy as np\n",
    "import os\n",
    "from sklearn.metrics import confusion_matrix\n",
    "from sklearn.model_selection import train_test_split\n",
    "from sklearn.preprocessing import StandardScaler, OneHotEncoder\n",
    "from sklearn.neighbors import KNeighborsClassifier\n",
    "from sklearn.metrics import accuracy_score, classification_report, balanced_accuracy_score\n",
    "import matplotlib.pyplot as plt\n",
    "from sklearn.metrics import confusion_matrix, ConfusionMatrixDisplay\n",
    "import plotly.express as px"
   ]
  },
  {
   "cell_type": "code",
   "execution_count": 4,
   "id": "11f9f1d9-1f01-42b0-9c9c-47a88dd41b5f",
   "metadata": {},
   "outputs": [],
   "source": [
    "gmIDS=cfs.list_whitelisted_gmIDs()"
   ]
  },
  {
   "cell_type": "code",
   "execution_count": 5,
   "id": "6cb81cd8-e7c3-4815-a4de-709570d75a67",
   "metadata": {},
   "outputs": [],
   "source": [
    "BluegmIDs=[]\n",
    "for gmID in gmIDS:\n",
    "    if cfs.give_route(gmID)==\"Blue\":\n",
    "        BluegmIDs.append(gmID)\n",
    "        "
   ]
  },
  {
   "cell_type": "code",
   "execution_count": 6,
   "id": "a22b5a33-8d59-4384-8690-77883571df36",
   "metadata": {
    "scrolled": true
   },
   "outputs": [],
   "source": [
    "#print (BluegmIDs)"
   ]
  },
  {
   "cell_type": "code",
   "execution_count": 7,
   "id": "b81ee97a-6425-4bee-b52a-c96a19e4e359",
   "metadata": {},
   "outputs": [
    {
     "name": "stdout",
     "output_type": "stream",
     "text": [
      "97\n"
     ]
    }
   ],
   "source": [
    "print (len(BluegmIDs))"
   ]
  },
  {
   "cell_type": "code",
   "execution_count": 8,
   "id": "07fb2d60-8228-4b8d-a068-ebf7978fd0c1",
   "metadata": {},
   "outputs": [],
   "source": [
    "final_df = pd.DataFrame()"
   ]
  },
  {
   "cell_type": "code",
   "execution_count": 9,
   "id": "383ac745-1535-4981-aeb6-cecb7c89d3dd",
   "metadata": {},
   "outputs": [
    {
     "name": "stdout",
     "output_type": "stream",
     "text": [
      "77\n",
      "20\n"
     ]
    }
   ],
   "source": [
    "training_BluegmIDs_num = int(97 * .8)\n",
    "test_BluegmIDs_num = len( BluegmIDs) - training_BluegmIDs_num\n",
    "print( training_BluegmIDs_num )\n",
    "print( test_BluegmIDs_num )"
   ]
  },
  {
   "cell_type": "code",
   "execution_count": 8,
   "id": "0311105b-aac2-4655-b57c-c15657132242",
   "metadata": {
    "scrolled": true
   },
   "outputs": [
    {
     "name": "stdout",
     "output_type": "stream",
     "text": [
      "Training Set (77 GMIDs):\n",
      "                                   gmids\n",
      "62  c335d84c-a45c-11ee-88ec-eb6a8d5269b4\n",
      "40  530de03a-ed79-11ee-9385-ef789ffde1d3\n",
      "93  3a2a78cc-db21-11ee-a158-97f8443fd730\n",
      "18  aef91c4a-ede5-11ee-9385-ef789ffde1d3\n",
      "81  4d0254fc-ec73-11ee-b297-3b0ad9d5d6c6\n",
      "..                                   ...\n",
      "48  20cbfe8c-ea2b-11ee-b297-3b0ad9d5d6c6\n",
      "84  c0624e24-d9aa-11ee-a158-97f8443fd730\n",
      "57  2d35c522-eba2-11ee-b297-3b0ad9d5d6c6\n",
      "32  b224ef9c-ec10-11ee-b297-3b0ad9d5d6c6\n",
      "91  64875cc0-d054-11ee-9435-f7e542e2436c\n",
      "\n",
      "[77 rows x 1 columns]\n",
      "\n",
      "Test Set (20 GMIDs):\n",
      "                                   gmids\n",
      "1   c7c02bda-ebe0-11ee-b297-3b0ad9d5d6c6\n",
      "2   21376e38-ec01-11ee-b297-3b0ad9d5d6c6\n",
      "14  ed7f2038-ea1e-11ee-b297-3b0ad9d5d6c6\n",
      "20  5f6573ba-ed2f-11ee-9385-ef789ffde1d3\n",
      "21  e8a8b2be-edbf-11ee-9385-ef789ffde1d3\n",
      "23  f6ac3c82-a445-11ee-88ec-eb6a8d5269b4\n",
      "29  d1d090d4-ea7c-11ee-b297-3b0ad9d5d6c6\n",
      "37  04151804-ec20-11ee-b297-3b0ad9d5d6c6\n",
      "51  80340ab8-d054-11ee-9435-f7e542e2436c\n",
      "52  17876fec-ea66-11ee-b297-3b0ad9d5d6c6\n",
      "59  286c70cc-d2f7-11ee-b437-336917683bb8\n",
      "60  d94ef300-ed60-11ee-9385-ef789ffde1d3\n",
      "63  82d39c74-ea59-11ee-b297-3b0ad9d5d6c6\n",
      "71  b76f33be-ea61-11ee-b297-3b0ad9d5d6c6\n",
      "74  721a9830-ece6-11ee-b297-3b0ad9d5d6c6\n",
      "82  64737d98-d312-11ee-b437-336917683bb8\n",
      "86  f9d62032-db2a-11ee-a158-97f8443fd730\n",
      "88  6af236d6-d98f-11ee-a158-97f8443fd730\n",
      "90  60546ef4-edaa-11ee-9385-ef789ffde1d3\n",
      "92  787d9684-d2c2-11ee-b437-336917683bb8\n"
     ]
    }
   ],
   "source": [
    "BluegmIDs = BluegmIDs\n",
    "\n",
    "# Convert the list to a pandas DataFrame\n",
    "BluegmIDs_DF = pd.DataFrame({'gmids': BluegmIDs})\n",
    "\n",
    "# Randomly sample 77 gmids\n",
    "Training_BluegmIDs_DF = BluegmIDs_DF.sample(n=77, random_state=42)\n",
    "\n",
    "# Get the remaining 20 gmids\n",
    "Test_BluegmIDs_DF = BluegmIDs_DF.drop(Training_BluegmIDs_DF.index)\n",
    "\n",
    "# Print the results\n",
    "print(\"Training Set (77 GMIDs):\")\n",
    "print(Training_BluegmIDs_DF)\n",
    "print(\"\\nTest Set (20 GMIDs):\")\n",
    "print(Test_BluegmIDs_DF)"
   ]
  },
  {
   "cell_type": "code",
   "execution_count": 9,
   "id": "c362db27-7ab2-4891-b171-b376a8a9145f",
   "metadata": {},
   "outputs": [],
   "source": [
    "final_df = pd.DataFrame()"
   ]
  },
  {
   "cell_type": "code",
   "execution_count": 10,
   "id": "a8efa0a6-11c8-4aeb-b90f-853421370987",
   "metadata": {},
   "outputs": [],
   "source": [
    "for gmID in BluegmIDs:\n",
    "    gmID_best_pose_df = cfs.retrieve_gmID_topic( gmID, '/apollo/sensor/gnss/best/pose' )\n",
    "    gmID_chassis_df = cfs.retrieve_gmID_topic( gmID, '/apollo/canbus/chassis')\n",
    "    gmID_chassis_df = gmID_chassis_df.sort_values(\"time\")\n",
    "    gmID_best_pose_df = gmID_best_pose_df.sort_values(\"time\")\n",
    "\n",
    "    cfs.BinaryDrivingMode(gmID_chassis_df)\n",
    "    cfs.TernaryDrivingModeTransition(gmID_chassis_df)\n",
    "    cfs.LatLonTotalStdDev(gmID_best_pose_df)\n",
    "    \n",
    "    cfs.ChassisBestPoseMatchedTime(gmID_chassis_df, gmID_best_pose_df)\n",
    "    merged_df = pd.merge(gmID_chassis_df, gmID_best_pose_df, on='ChassisBestPoseMatchedTime')\n",
    "    final_df = pd.concat([final_df,merged_df])\n"
   ]
  },
  {
   "cell_type": "code",
   "execution_count": 11,
   "id": "35f323ce-cc90-4ae3-99e6-65affe94c8f4",
   "metadata": {},
   "outputs": [
    {
     "name": "stdout",
     "output_type": "stream",
     "text": [
      "brakePercentage\n",
      "groupMetadataID_x\n",
      "drivingMode\n",
      "speedMps\n",
      "time_x\n",
      "throttlePercentage\n",
      "steeringPercentage\n",
      "signal.turnSignal\n",
      "BinaryDrivingMode\n",
      "TernaryDrivingModeTransition\n",
      "ChassisBestPoseMatchedTime\n",
      "heightMsl\n",
      "groupMetadataID_y\n",
      "latitudeStdDev\n",
      "longitude\n",
      "solType\n",
      "extendedSolutionStatus\n",
      "time_y\n",
      "heightStdDev\n",
      "solStatus\n",
      "latitude\n",
      "longitudeStdDev\n",
      "numSatsInSolution\n",
      "LatLonTotalStdDev\n"
     ]
    }
   ],
   "source": [
    "for c in final_df.columns:\n",
    "    print(c)"
   ]
  },
  {
   "cell_type": "code",
   "execution_count": 12,
   "id": "6ee668b0-0872-4593-b2b0-6d52f9fc4bc5",
   "metadata": {},
   "outputs": [
    {
     "name": "stdout",
     "output_type": "stream",
     "text": [
      "Accuracy: 0.8213\n",
      "Classification Report:\n",
      "              precision    recall  f1-score   support\n",
      "\n",
      "           0       0.71      0.60      0.65    298100\n",
      "           1       0.86      0.91      0.88    785958\n",
      "\n",
      "    accuracy                           0.82   1084058\n",
      "   macro avg       0.78      0.75      0.76   1084058\n",
      "weighted avg       0.81      0.82      0.82   1084058\n",
      "\n"
     ]
    }
   ],
   "source": [
    "# Specify train and test identifiers\n",
    "Training_BluegmIDs_DF = (\n",
    "'7228e03a-ebf0-11ee-b297-3b0ad9d5d6c6',\n",
    "'8c57e8ac-dbec-11ee-a158-97f8443fd730',\n",
    "'17876fec-ea66-11ee-b297-3b0ad9d5d6c6',\n",
    "'d1d090d4-ea7c-11ee-b297-3b0ad9d5d6c6',\n",
    "'ed7f2038-ea1e-11ee-b297-3b0ad9d5d6c6',\n",
    "'6af236d6-d98f-11ee-a158-97f8443fd730',\n",
    "'64737d98-d312-11ee-b437-336917683bb8',\n",
    "'5240e750-ec30-11ee-b297-3b0ad9d5d6c6',\n",
    "'7613801a-edcb-11ee-9385-ef789ffde1d3',\n",
    "'68c289fa-dbd4-11ee-a158-97f8443fd730',\n",
    "'76683d3c-db18-11ee-a158-97f8443fd730',\n",
    "'69ab88ec-dc17-11ee-a158-97f8443fd730',\n",
    "'7f09f6c6-a5b0-11ee-88ec-eb6a8d5269b4',\n",
    "'3d2a80f0-ec81-11ee-b297-3b0ad9d5d6c6',\n",
    "'feaf2ba8-d28d-11ee-b437-336917683bb8',\n",
    "'e2079a78-dc1d-11ee-a158-97f8443fd730',\n",
    "'b224ef9c-ec10-11ee-b297-3b0ad9d5d6c6',\n",
    "'ba28b352-ec8f-11ee-b297-3b0ad9d5d6c6',\n",
    "'59c189d8-ed54-11ee-9385-ef789ffde1d3',\n",
    "'2d35c522-eba2-11ee-b297-3b0ad9d5d6c6',\n",
    "'3343fd3c-eb87-11ee-b297-3b0ad9d5d6c6',\n",
    "'c0624e24-d9aa-11ee-a158-97f8443fd730',\n",
    "'a253145a-d2a6-11ee-b437-336917683bb8',\n",
    "'9830d896-d2dc-11ee-b437-336917683bb8',\n",
    "'aa86a660-dc05-11ee-a158-97f8443fd730',\n",
    "'90101c36-a621-11ee-88ec-eb6a8d5269b4',\n",
    "'82d39c74-ea59-11ee-b297-3b0ad9d5d6c6',\n",
    "'f9d62032-db2a-11ee-a158-97f8443fd730',\n",
    "'af10e22a-ebb1-11ee-b297-3b0ad9d5d6c6',\n",
    "'47561998-d9c3-11ee-a158-97f8443fd730',\n",
    "'64875cc0-d054-11ee-9435-f7e542e2436c',\n",
    "'df8e3742-ec54-11ee-b297-3b0ad9d5d6c6',\n",
    "'3a2a78cc-db21-11ee-a158-97f8443fd730',\n",
    "'21a9830-ece6-11ee-b297-3b0ad9d5d6c6',\n",
    "'2bc6ebb8-a529-11ee-88ec-eb6a8d5269b4',\n",
    "'4d0254fc-ec73-11ee-b297-3b0ad9d5d6c6',\n",
    "'dc39aa14-db32-11ee-a158-97f8443fd730',\n",
    "'25d3bdc8-ecbc-11ee-b297-3b0ad9d5d6c6',\n",
    "'8b6a6cfc-ed6d-11ee-9385-ef789ffde1d3',\n",
    "'e6d7d384-db40-11ee-a158-97f8443fd730',\n",
    "'a17c1280-ea10-11ee-b297-3b0ad9d5d6c6',\n",
    "'36663b02-ea87-11ee-b297-3b0ad9d5d6c6',\n",
    "'71a18322-ecab-11ee-b297-3b0ad9d5d6c6',\n",
    "'cf6fdf3a-eaa3-11ee-b297-3b0ad9d5d6c6',\n",
    "'57d240d6-ea4d-11ee-b297-3b0ad9d5d6c6',\n",
    "'baf0e4be-bede-11ee-835b-599066b5eb60',\n",
    "'530de03a-ed79-11ee-9385-ef789ffde1d3',\n",
    "'43914d48-ed85-11ee-9385-ef789ffde1d3',\n",
    "'a7c98b32-ebc2-11ee-b297-3b0ad9d5d6c6',\n",
    "'fc119dfc-eb67-11ee-b297-3b0ad9d5d6c6',\n",
    "'c7c02bda-ebe0-11ee-b297-3b0ad9d5d6c6',\n",
    "'39ba7438-d0d5-11ee-9435-f7e542e2436c',\n",
    "'e8a8b2be-edbf-11ee-9385-ef789ffde1d3',\n",
    "'3ea96640-ea37-11ee-b297-3b0ad9d5d6c6',\n",
    "'21376e38-ec01-11ee-b297-3b0ad9d5d6c6',\n",
    "'513a670c-eea9-11ee-9385-ef789ffde1d3',\n",
    "'06cbdbc0-db4d-11ee-a158-97f8443fd730',\n",
    "'559495ca-d270-11ee-b437-336917683bb8',\n",
    "'04151804-ec20-11ee-b297-3b0ad9d5d6c6',\n",
    "'d62ee6e8-ed02-11ee-9385-ef789ffde1d3',\n",
    "'154fab12-a43f-11ee-88ec-eb6a8d5269b4',\n",
    "'58263e34-a45c-11ee-88ec-eb6a8d5269b4',\n",
    "'acd71bc0-ecf4-11ee-9385-ef789ffde1d3',\n",
    "'3441fc36-ecca-11ee-b297-3b0ad9d5d6c6',\n",
    "'f671c05c-a5e4-11ee-88ec-eb6a8d5269b4',\n",
    "'c8f54ac0-ebd2-11ee-b297-3b0ad9d5d6c6',\n",
    "'326699c2-ecd8-11ee-b297-3b0ad9d5d6c6',\n",
    "'3ce8a358-edd8-11ee-9385-ef789ffde1d3',\n",
    "'286c70cc-d2f7-11ee-b437-336917683bb8',\n",
    "'20cbfe8c-ea2b-11ee-b297-3b0ad9d5d6c6',\n",
    "'c9023e32-ed90-11ee-9385-ef789ffde1d3',\n",
    "'f0bcec4e-ed3e-11ee-9385-ef789ffde1d3',\n",
    "'d94ef300-ed60-11ee-9385-ef789ffde1d3',\n",
    "'e269948a-ed9d-11ee-9385-ef789ffde1d3',\n",
    "'f6ac3c82-a445-11ee-88ec-eb6a8d5269b4',\n",
    "'80340ab8-d054-11ee-9435-f7e542e2436c',\n",
    "'b76f33be-ea61-11ee-b297-3b0ad9d5d6c6')\n",
    "\n",
    "Test_BluegmIDs_DF = (\n",
    "'da853e0c-a10f-11ee-981c-d126ddbe9afa',\n",
    "'19b7ebd0-d9b7-11ee-a158-97f8443fd730',\n",
    "'cb205756-ec43-11ee-b297-3b0ad9d5d6c6',\n",
    "'64bbe8e0-eb94-11ee-b297-3b0ad9d5d6c6',\n",
    "'e9d67bf2-ec35-11ee-b297-3b0ad9d5d6c6',\n",
    "'787d9684-d2c2-11ee-b437-336917683bb8',\n",
    "'0f4f0a06-ea98-11ee-b297-3b0ad9d5d6c6',\n",
    "'5f6573ba-ed2f-11ee-9385-ef789ffde1d3',\n",
    "'60546ef4-edaa-11ee-9385-ef789ffde1d3',\n",
    "'20f0b890-ec64-11ee-b297-3b0ad9d5d6c6',\n",
    "'04115e66-ea91-11ee-b297-3b0ad9d5d6c6',\n",
    "'aef91c4a-ede5-11ee-9385-ef789ffde1d3',\n",
    "'c335d84c-a45c-11ee-88ec-eb6a8d5269b4',\n",
    "'75f83e28-eb77-11ee-b297-3b0ad9d5d6c6',\n",
    "'88180f82-ed4f-11ee-9385-ef789ffde1d3',\n",
    "'70060810-eb59-11ee-b297-3b0ad9d5d6c6',\n",
    "'6d62da08-ec9d-11ee-b297-3b0ad9d5d6c6',\n",
    "'5976b77a-a504-11ee-88ec-eb6a8d5269b4',\n",
    "'ba6e1072-9524-11ee-956e-9da2d070324c',\n",
    "'5fcc4fd8-ea71-11ee-b297-3b0ad9d5d6c6')\n",
    "\n",
    "\n",
    "# Filterataframe into training and testing sets based on the identifiers\n",
    "train_df = final_df[final_df['groupMetadataID_x'].isin(Training_BluegmIDs_DF)]\n",
    "test_df = final_df[final_df['groupMetadataID_x'].isin(Test_BluegmIDs_DF)]\n",
    "\n",
    "# Separate features (X) and target (y) for both training and testing sets\n",
    "X_train = train_df[['brakePercentage', 'throttlePercentage', 'steeringPercentage', 'speedMps', 'LatLonTotalStdDev']]\n",
    "y_train = train_df['BinaryDrivingMode']  # Ensure this column name matches your target variable\n",
    "\n",
    "X_test = test_df[['brakePercentage', 'throttlePercentage', 'steeringPercentage', 'speedMps', 'LatLonTotalStdDev']]\n",
    "y_test = test_df['BinaryDrivingMode']\n",
    "\n",
    "# Standardize the continuous features\n",
    "scaler = StandardScaler()\n",
    "X_train_scaled = scaler.fit_transform(X_train)\n",
    "X_test_scaled = scaler.transform(X_test)\n",
    "\n",
    "# Initialize and train the KNN model\n",
    "knn = KNeighborsClassifier(n_neighbors=3)\n",
    "knn.fit(X_train_scaled, y_train)\n",
    "\n",
    "# Make predictions on the test data\n",
    "y_pred = knn.predict(X_test_scaled)\n",
    "\n",
    "# Evaluate the model\n",
    "print(f'Accuracy: {accuracy_score(y_test, y_pred):.4f}')\n",
    "print('Classification Report:')\n",
    "print(classification_report(y_test, y_pred))"
   ]
  },
  {
   "cell_type": "code",
   "execution_count": 13,
   "id": "48c02759-e69b-4c07-ada9-3eb17e18ebfa",
   "metadata": {},
   "outputs": [
    {
     "name": "stdout",
     "output_type": "stream",
     "text": [
      "Confusion Matrix:\n",
      "[[178232 119868]\n",
      " [ 73832 712126]]\n"
     ]
    }
   ],
   "source": [
    "conf_matrix = confusion_matrix(y_test, y_pred)\n",
    "print('Confusion Matrix:')\n",
    "print(conf_matrix)"
   ]
  },
  {
   "cell_type": "code",
   "execution_count": 14,
   "id": "4eefd3e7-70d1-4dcd-9d76-926c689e9c68",
   "metadata": {
    "scrolled": true
   },
   "outputs": [
    {
     "data": {
      "image/png": "[encoded data removed]",
      "text/plain": [
       "<Figure size 640x480 with 2 Axes>"
      ]
     },
     "metadata": {},
     "output_type": "display_data"
    }
   ],
   "source": [
    "# Plot Confusion Matrix\n",
    "cm = confusion_matrix(y_test, y_pred)\n",
    "class_labels = ['ManualMode (0)', 'AutoMode (1)']\n",
    "disp = ConfusionMatrixDisplay(confusion_matrix=cm, display_labels=class_labels)\n",
    "\n",
    "# Plot the confusion matrix with a title\n",
    "disp.plot(cmap=plt.cm.Blues)\n",
    "plt.title(\"KNN Confusion Matrix - Blueroute\")\n",
    "plt.show()"
   ]
  },
  {
   "cell_type": "code",
   "execution_count": 15,
   "id": "df2980ec-dd3c-44b3-84d1-7df154fa6b68",
   "metadata": {},
   "outputs": [
    {
     "name": "stdout",
     "output_type": "stream",
     "text": [
      "Balanced accuracy: 0.7520\n"
     ]
    }
   ],
   "source": [
    "print(f'Balanced accuracy: {balanced_accuracy_score(y_test, y_pred):.4f}')"
   ]
  },
  {
   "cell_type": "code",
   "execution_count": 19,
   "id": "ab9db9c3-ea67-4476-9e5c-f2dacbc4b2af",
   "metadata": {},
   "outputs": [
    {
     "data": {
      "text/plain": [
       "1084058"
      ]
     },
     "execution_count": 19,
     "metadata": {},
     "output_type": "execute_result"
    }
   ],
   "source": [
    "len( test_df[ 'BinaryDrivingMode' ] )"
   ]
  },
  {
   "cell_type": "code",
   "execution_count": null,
   "id": "fbef0a66-4ce5-4ac0-923c-1bc0ebedcc17",
   "metadata": {},
   "outputs": [],
   "source": []
  }
 ],
 "metadata": {
  "kernelspec": {
   "display_name": "Python 3 (ipykernel)",
   "language": "python",
   "name": "python3"
  },
  "language_info": {
   "codemirror_mode": {
    "name": "ipython",
    "version": 3
   },
   "file_extension": ".py",
   "mimetype": "text/x-python",
   "name": "python",
   "nbconvert_exporter": "python",
   "pygments_lexer": "ipython3",
   "version": "3.10.12"
  }
 },
 "nbformat": 4,
 "nbformat_minor": 5
}
