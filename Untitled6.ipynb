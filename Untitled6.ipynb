{
 "cells": [
  {
   "cell_type": "code",
   "execution_count": 1,
   "id": "f22bd52d-77d1-4302-9370-0d50af621dc0",
   "metadata": {},
   "outputs": [],
   "source": [
    "%load_ext rpy2.ipython"
   ]
  },
  {
   "cell_type": "code",
   "execution_count": 2,
   "id": "6ac5fb27-283a-4d45-bc93-a9689ad4adc9",
   "metadata": {},
   "outputs": [
    {
     "data": {
      "text/plain": [
       "\n",
       "Attaching package: ‘dplyr’\n",
       "\n",
       "The following objects are masked from ‘package:stats’:\n",
       "\n",
       "    filter, lag\n",
       "\n",
       "The following objects are masked from ‘package:base’:\n",
       "\n",
       "    intersect, setdiff, setequal, union\n",
       "\n",
       "Loading required package: lattice\n",
       "Type 'citation(\"pROC\")' for a citation.\n",
       "\n",
       "Attaching package: ‘pROC’\n",
       "\n",
       "The following objects are masked from ‘package:stats’:\n",
       "\n",
       "    cov, smooth, var\n",
       "\n",
       "Loaded ROSE 0.0-4\n",
       "\n",
       "Loading required package: Matrix\n",
       "Loaded glmnet 4.1-8\n",
       "In addition: Warning message:\n",
       "In (function (package, help, pos = 2, lib.loc = NULL, character.only = FALSE,  :\n",
       "  libraries ‘/usr/local/lib/R/site-library’, ‘/usr/lib/R/site-library’ contain no packages\n"
      ]
     },
     "metadata": {},
     "output_type": "display_data"
    }
   ],
   "source": [
    "%%R\n",
    "source(\"CalculatedFieldSubroutines.R\")"
   ]
  },
  {
   "cell_type": "code",
   "execution_count": 3,
   "id": "ec41b9d4-c89f-42e0-8a82-0126f3d9d820",
   "metadata": {},
   "outputs": [
    {
     "name": "stdout",
     "output_type": "stream",
     "text": [
      "          drivingMode BinaryDrivingMode\n",
      "1     COMPLETE_MANUAL                 0\n",
      "2      EMERGENCY_MODE                 0\n",
      "3 COMPLETE_AUTO_DRIVE                 1\n",
      "  BinaryDrivingMode TernaryDrivingModeTransition\n",
      "1                 0                            0\n",
      "2                 0                            0\n",
      "3                 1                            1\n",
      "4                 1                            0\n",
      "5                 0                           -1\n"
     ]
    }
   ],
   "source": [
    "%%R\n",
    "\n",
    "# Load the R script\n",
    "source(\"CalculatedFieldSubroutines.R\")\n",
    "\n",
    "# Create a sample dataframe for testing BinaryDrivingMode\n",
    "test_df <- data.frame(\n",
    "  drivingMode = c(\"COMPLETE_MANUAL\", \"EMERGENCY_MODE\", \"COMPLETE_AUTO_DRIVE\")\n",
    ")\n",
    "\n",
    "# Test BinaryDrivingMode\n",
    "binary_result <- BinaryDrivingMode(test_df)\n",
    "print(binary_result)\n",
    "\n",
    "# Create a sample dataframe for testing TernaryDrivingModeTransition\n",
    "test_df_transition <- data.frame(\n",
    "  BinaryDrivingMode = c(0, 0, 1, 1, 0)\n",
    ")\n",
    "\n",
    "# Test TernaryDrivingModeTransition\n",
    "ternary_result <- TernaryDrivingModeTransition(test_df_transition)\n",
    "print(ternary_result)\n"
   ]
  },
  {
   "cell_type": "code",
   "execution_count": 4,
   "id": "9fd3a209-3667-4754-bf7f-aa6856bb5629",
   "metadata": {},
   "outputs": [
    {
     "name": "stdout",
     "output_type": "stream",
     "text": [
      " [1] \"40706f50-f03b-11ee-b96e-fb353e7798cd\"\n",
      " [2] \"9df14b4e-f172-11ee-baa6-fb353e7798cd\"\n",
      " [3] \"88b0613a-d35d-11ee-b437-336917683bb8\"\n",
      " [4] \"7e3d64da-f12d-11ee-ba68-fb353e7798cd\"\n",
      " [5] \"fa9cba86-f0f0-11ee-ba2a-fb353e7798cd\"\n",
      " [6] \"7948628e-f20b-11ee-bb0f-fb353e7798cd\"\n",
      " [7] \"a231c0b0-f142-11ee-ba76-fb353e7798cd\"\n",
      " [8] \"a901fe40-f0fd-11ee-ba39-fb353e7798cd\"\n",
      " [9] \"99b9f446-f1b2-11ee-bad3-fb353e7798cd\"\n",
      "[10] \"c59a54e0-f179-11ee-baab-fb353e7798cd\"\n",
      "[11] \"25641404-cb66-11ee-909c-e1dc60cf66f9\"\n",
      "[12] \"14b6bc9c-f064-11ee-b998-fb353e7798cd\"\n",
      "[13] \"5c7a9ab2-f13b-11ee-ba72-fb353e7798cd\"\n",
      "[14] \"f8fd0fd8-f243-11ee-bb3f-fb353e7798cd\"\n",
      "[15] \"4c88757c-f157-11ee-ba89-fb353e7798cd\"\n",
      "[16] \"ba87f3ec-f07e-11ee-b9b4-fb353e7798cd\"\n",
      "[17] \"58d78342-f24a-11ee-bb45-fb353e7798cd\"\n",
      "[18] \"de493be2-f10f-11ee-ba4b-fb353e7798cd\"\n",
      "[19] \"848e44a6-f134-11ee-ba6d-fb353e7798cd\"\n",
      "[20] \"3d8020aa-cb7f-11ee-909c-e1dc60cf66f9\"\n",
      "[21] \"c4fca7bc-f18e-11ee-bab8-fb353e7798cd\"\n",
      "[22] \"c4146d46-f074-11ee-b9ac-fb353e7798cd\"\n",
      "[23] \"fe0395f0-f1ea-11ee-baf9-fb353e7798cd\"\n",
      "[24] \"271fee10-cb8b-11ee-909c-e1dc60cf66f9\"\n",
      "[25] \"5fc763f6-f1ab-11ee-bacd-fb353e7798cd\"\n",
      "[26] \"b3ee0dd8-f0d7-11ee-ba18-fb353e7798cd\"\n",
      "[27] \"a08a8c7e-f1fb-11ee-bb05-fb353e7798cd\"\n",
      "[28] \"7f824ea2-f05e-11ee-b993-fb353e7798cd\"\n",
      "[29] \"96ceec56-f1cf-11ee-bae4-fb353e7798cd\"\n",
      "[30] \"0f3cdf60-f1f6-11ee-bb00-fb353e7798cd\"\n",
      "[31] \"53fad09e-f0f7-11ee-ba2f-fb353e7798cd\"\n",
      "[32] \"f570c51c-f15d-11ee-ba91-fb353e7798cd\"\n",
      "[33] \"cbdc93f4-f255-11ee-bb4e-fb353e7798cd\"\n",
      "[34] \"d7cb9c92-f164-11ee-ba97-fb353e7798cd\"\n",
      "[35] \"7a22a34c-f1f0-11ee-bafe-fb353e7798cd\"\n",
      "[36] \"d454c586-f11c-11ee-ba55-fb353e7798cd\"\n",
      "[37] \"837fc882-cb5a-11ee-909c-e1dc60cf66f9\"\n",
      "[38] \"8e5c4fc2-f149-11ee-ba7f-fb353e7798cd\"\n",
      "[39] \"c2f54552-f06f-11ee-b9a9-fb353e7798cd\"\n",
      "[40] \"43abeb00-f206-11ee-bb07-fb353e7798cd\"\n",
      "[41] \"25135418-f250-11ee-bb4a-fb353e7798cd\"\n",
      "[42] \"f9c5e53e-f0ea-11ee-ba28-fb353e7798cd\"\n",
      "[43] \"4cf81634-f238-11ee-bb34-fb353e7798cd\"\n",
      "[44] \"d846a080-f115-11ee-ba51-fb353e7798cd\"\n",
      "[45] \"1c74d294-f1e4-11ee-baf0-fb353e7798cd\"\n",
      "[46] \"3c415ade-d353-11ee-b437-336917683bb8\"\n",
      "[47] \"8adb6498-f04d-11ee-b981-fb353e7798cd\"\n",
      "[48] \"de226278-f25a-11ee-bb4e-fb353e7798cd\"\n",
      "[49] \"c14299be-f180-11ee-bab0-fb353e7798cd\"\n",
      "[50] \"870cfd32-f1b9-11ee-bad5-fb353e7798cd\"\n",
      "[51] \"3ed4aa16-f1d6-11ee-bae6-fb353e7798cd\"\n",
      "[52] \"df6c3fb4-f200-11ee-bb07-fb353e7798cd\"\n",
      "[53] \"5f7ce340-f1c8-11ee-bae0-fb353e7798cd\"\n",
      "[54] \"b31aca98-cb95-11ee-909c-e1dc60cf66f9\"\n",
      "[55] \"f12112ba-f1c0-11ee-bada-fb353e7798cd\"\n",
      "[56] \"73bc30cc-f150-11ee-ba84-fb353e7798cd\"\n",
      "[57] \"3a7dc9a6-f042-11ee-b974-fb353e7798cd\"\n",
      "[58] \"dea29156-f123-11ee-ba5d-fb353e7798cd\"\n",
      "[59] \"044d976e-f0e5-11ee-ba20-fb353e7798cd\"\n",
      "[60] \"961fd9cc-f103-11ee-ba3f-fb353e7798cd\"\n",
      "[61] \"bbbd0cc6-f0dc-11ee-ba1e-fb353e7798cd\"\n",
      "[62] \"9736e77c-f187-11ee-bab6-fb353e7798cd\"\n",
      "[63] \"5774dcde-f196-11ee-babe-fb353e7798cd\"\n",
      "[64] \"ece2a8be-f047-11ee-b97d-fb353e7798cd\"\n",
      "[65] \"3ec95686-f053-11ee-b988-fb353e7798cd\"\n",
      "[66] \"51b74168-f19d-11ee-babf-fb353e7798cd\"\n",
      "[67] \"bb4d37d4-f109-11ee-ba46-fb353e7798cd\"\n",
      "[68] \"cf7148d8-f058-11ee-b98a-fb353e7798cd\"\n",
      "[69] \"bf9157f0-f16b-11ee-ba9e-fb353e7798cd\"\n",
      "[70] \"98692fde-f1a4-11ee-bac6-fb353e7798cd\"\n",
      "[71] \"25e27b86-f06a-11ee-b9a3-fb353e7798cd\"\n",
      "[72] \"a6539bd2-cb72-11ee-909c-e1dc60cf66f9\"\n",
      "[73] \"5afabc8c-f035-11ee-b966-fb353e7798cd\"\n",
      "[74] \"c1b320e2-f079-11ee-b9b0-fb353e7798cd\"\n",
      "[75] \"d1a3a310-f091-11ee-b9ce-fb353e7798cd\"\n",
      "[76] \"e9a1d768-f23d-11ee-bb39-fb353e7798cd\"\n",
      "[77] \"c9be2042-f0de-11ee-ba1e-fb353e7798cd\"\n",
      "[78] \"ed352100-cba0-11ee-909c-e1dc60cf66f9\"\n",
      "[79] \"8b0593cc-cb4e-11ee-909c-e1dc60cf66f9\"\n",
      "[80] \"236836f6-f1dd-11ee-bae8-fb353e7798cd\"\n",
      "[81] \"072ef896-cbac-11ee-909c-e1dc60cf66f9\"\n"
     ]
    }
   ],
   "source": [
    "%%R\n",
    "# Print all green route gmIDs\n",
    "print(green_route_gmID_list)\n",
    "\n",
    "# If you want to save it as a dataframe or CSV:\n",
    "green_route_df <- data.frame(gmID = green_route_gmID_list)\n",
    "write.csv(green_route_df, \"GreenRoute_gmIDs.csv\", row.names = FALSE)"
   ]
  },
  {
   "cell_type": "code",
   "execution_count": 5,
   "id": "93b19838-8af0-4bda-a28a-bb84d5b79f90",
   "metadata": {},
   "outputs": [
    {
     "name": "stdout",
     "output_type": "stream",
     "text": [
      "[1] \"Total number of Green Route gmIDs: 81\"\n"
     ]
    }
   ],
   "source": [
    "%%R\n",
    "# Assuming green_route_gmID_list is already defined in your script\n",
    "green_route_total <- length(green_route_gmID_list)\n",
    "\n",
    "# Print the total count\n",
    "print(paste(\"Total number of Green Route gmIDs:\", green_route_total))"
   ]
  },
  {
   "cell_type": "code",
   "execution_count": null,
   "id": "9772668d-c643-48d9-8f3e-b042b4b39190",
   "metadata": {},
   "outputs": [],
   "source": []
  },
  {
   "cell_type": "code",
   "execution_count": null,
   "id": "6903fdd6-cc37-40a0-a81e-0e2e9ec06002",
   "metadata": {},
   "outputs": [],
   "source": []
  },
  {
   "cell_type": "code",
   "execution_count": null,
   "id": "5753b53d-00ac-4474-8870-11a1f29788ae",
   "metadata": {},
   "outputs": [],
   "source": []
  }
 ],
 "metadata": {
  "kernelspec": {
   "display_name": "Python 3 (ipykernel)",
   "language": "python",
   "name": "python3"
  },
  "language_info": {
   "codemirror_mode": {
    "name": "ipython",
    "version": 3
   },
   "file_extension": ".py",
   "mimetype": "text/x-python",
   "name": "python",
   "nbconvert_exporter": "python",
   "pygments_lexer": "ipython3",
   "version": "3.10.12"
  }
 },
 "nbformat": 4,
 "nbformat_minor": 5
}
