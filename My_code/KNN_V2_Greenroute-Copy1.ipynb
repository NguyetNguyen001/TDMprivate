{
 "cells": [
  {
   "cell_type": "code",
   "execution_count": 1,
   "id": "e528498e-df08-4457-9f4b-65df043909a0",
   "metadata": {},
   "outputs": [],
   "source": [
    "import CalculatedFieldSubroutines as cfs\n",
    "import pandas as pd\n",
    "from CalculatedFieldSubroutines import BinaryDrivingMode\n",
    "import numpy as np\n",
    "import os\n",
    "from sklearn.metrics import confusion_matrix\n",
    "from sklearn.model_selection import train_test_split\n",
    "from sklearn.preprocessing import StandardScaler, OneHotEncoder\n",
    "from sklearn.neighbors import KNeighborsClassifier\n",
    "from sklearn.metrics import accuracy_score, classification_report, balanced_accuracy_score\n",
    "import matplotlib.pyplot as plt\n",
    "from sklearn.metrics import confusion_matrix, ConfusionMatrixDisplay"
   ]
  },
  {
   "cell_type": "code",
   "execution_count": 2,
   "id": "11f9f1d9-1f01-42b0-9c9c-47a88dd41b5f",
   "metadata": {},
   "outputs": [],
   "source": [
    "gmIDS=cfs.list_whitelisted_gmIDs()"
   ]
  },
  {
   "cell_type": "code",
   "execution_count": 3,
   "id": "6cb81cd8-e7c3-4815-a4de-709570d75a67",
   "metadata": {},
   "outputs": [],
   "source": [
    "GreengmIDs=[]\n",
    "for gmID in gmIDS:\n",
    "    if cfs.give_route(gmID)==\"Green\":\n",
    "        GreengmIDs.append(gmID)\n",
    "        "
   ]
  },
  {
   "cell_type": "code",
   "execution_count": 4,
   "id": "a22b5a33-8d59-4384-8690-77883571df36",
   "metadata": {
    "scrolled": true
   },
   "outputs": [
    {
     "name": "stdout",
     "output_type": "stream",
     "text": [
      "['a231c0b0-f142-11ee-ba76-fb353e7798cd', '8b0593cc-cb4e-11ee-909c-e1dc60cf66f9', '99b9f446-f1b2-11ee-bad3-fb353e7798cd', 'bf9157f0-f16b-11ee-ba9e-fb353e7798cd', '53fad09e-f0f7-11ee-ba2f-fb353e7798cd', 'bbbd0cc6-f0dc-11ee-ba1e-fb353e7798cd', '9df14b4e-f172-11ee-baa6-fb353e7798cd', '3c415ade-d353-11ee-b437-336917683bb8', '0f3cdf60-f1f6-11ee-bb00-fb353e7798cd', '5774dcde-f196-11ee-babe-fb353e7798cd', '236836f6-f1dd-11ee-bae8-fb353e7798cd', 'fa9cba86-f0f0-11ee-ba2a-fb353e7798cd', '8e5c4fc2-f149-11ee-ba7f-fb353e7798cd', '25135418-f250-11ee-bb4a-fb353e7798cd', '044d976e-f0e5-11ee-ba20-fb353e7798cd', '88b0613a-d35d-11ee-b437-336917683bb8', '3a7dc9a6-f042-11ee-b974-fb353e7798cd', '3ed4aa16-f1d6-11ee-bae6-fb353e7798cd', '5afabc8c-f035-11ee-b966-fb353e7798cd', '1c74d294-f1e4-11ee-baf0-fb353e7798cd', 'ba87f3ec-f07e-11ee-b9b4-fb353e7798cd', 'd846a080-f115-11ee-ba51-fb353e7798cd', '25641404-cb66-11ee-909c-e1dc60cf66f9', '73bc30cc-f150-11ee-ba84-fb353e7798cd', 'cf7148d8-f058-11ee-b98a-fb353e7798cd', '5fc763f6-f1ab-11ee-bacd-fb353e7798cd', 'de493be2-f10f-11ee-ba4b-fb353e7798cd', 'd454c586-f11c-11ee-ba55-fb353e7798cd', 'c1b320e2-f079-11ee-b9b0-fb353e7798cd', 'c14299be-f180-11ee-bab0-fb353e7798cd', 'ed352100-cba0-11ee-909c-e1dc60cf66f9', '40706f50-f03b-11ee-b96e-fb353e7798cd', '848e44a6-f134-11ee-ba6d-fb353e7798cd', '43abeb00-f206-11ee-bb07-fb353e7798cd', 'd1a3a310-f091-11ee-b9ce-fb353e7798cd', '96ceec56-f1cf-11ee-bae4-fb353e7798cd', 'c59a54e0-f179-11ee-baab-fb353e7798cd', '3d8020aa-cb7f-11ee-909c-e1dc60cf66f9', '9736e77c-f187-11ee-bab6-fb353e7798cd', 'df6c3fb4-f200-11ee-bb07-fb353e7798cd', '7a22a34c-f1f0-11ee-bafe-fb353e7798cd', '4cf81634-f238-11ee-bb34-fb353e7798cd', 'd7cb9c92-f164-11ee-ba97-fb353e7798cd', 'de226278-f25a-11ee-bb4e-fb353e7798cd', 'ece2a8be-f047-11ee-b97d-fb353e7798cd', 'b3ee0dd8-f0d7-11ee-ba18-fb353e7798cd', '870cfd32-f1b9-11ee-bad5-fb353e7798cd', 'dea29156-f123-11ee-ba5d-fb353e7798cd', 'bb4d37d4-f109-11ee-ba46-fb353e7798cd', 'a6539bd2-cb72-11ee-909c-e1dc60cf66f9', '7f824ea2-f05e-11ee-b993-fb353e7798cd', 'c9be2042-f0de-11ee-ba1e-fb353e7798cd', 'c4146d46-f074-11ee-b9ac-fb353e7798cd', 'cbdc93f4-f255-11ee-bb4e-fb353e7798cd', 'c4fca7bc-f18e-11ee-bab8-fb353e7798cd', '7948628e-f20b-11ee-bb0f-fb353e7798cd', 'a901fe40-f0fd-11ee-ba39-fb353e7798cd', 'f12112ba-f1c0-11ee-bada-fb353e7798cd', '51b74168-f19d-11ee-babf-fb353e7798cd', '5c7a9ab2-f13b-11ee-ba72-fb353e7798cd', 'f570c51c-f15d-11ee-ba91-fb353e7798cd', '4c88757c-f157-11ee-ba89-fb353e7798cd', '8adb6498-f04d-11ee-b981-fb353e7798cd', 'c2f54552-f06f-11ee-b9a9-fb353e7798cd', '072ef896-cbac-11ee-909c-e1dc60cf66f9', 'e9a1d768-f23d-11ee-bb39-fb353e7798cd', '7e3d64da-f12d-11ee-ba68-fb353e7798cd', '5f7ce340-f1c8-11ee-bae0-fb353e7798cd', 'fe0395f0-f1ea-11ee-baf9-fb353e7798cd', '98692fde-f1a4-11ee-bac6-fb353e7798cd', 'a08a8c7e-f1fb-11ee-bb05-fb353e7798cd', 'f9c5e53e-f0ea-11ee-ba28-fb353e7798cd', '3ec95686-f053-11ee-b988-fb353e7798cd', '58d78342-f24a-11ee-bb45-fb353e7798cd', '837fc882-cb5a-11ee-909c-e1dc60cf66f9', '25e27b86-f06a-11ee-b9a3-fb353e7798cd', 'b31aca98-cb95-11ee-909c-e1dc60cf66f9', 'f8fd0fd8-f243-11ee-bb3f-fb353e7798cd', '271fee10-cb8b-11ee-909c-e1dc60cf66f9', '14b6bc9c-f064-11ee-b998-fb353e7798cd', '961fd9cc-f103-11ee-ba3f-fb353e7798cd']\n"
     ]
    }
   ],
   "source": [
    "print (GreengmIDs)"
   ]
  },
  {
   "cell_type": "code",
   "execution_count": 5,
   "id": "b81ee97a-6425-4bee-b52a-c96a19e4e359",
   "metadata": {},
   "outputs": [
    {
     "name": "stdout",
     "output_type": "stream",
     "text": [
      "81\n"
     ]
    }
   ],
   "source": [
    "print (len(GreengmIDs))"
   ]
  },
  {
   "cell_type": "code",
   "execution_count": 6,
   "id": "07fb2d60-8228-4b8d-a068-ebf7978fd0c1",
   "metadata": {},
   "outputs": [],
   "source": [
    "final_df = pd.DataFrame()"
   ]
  },
  {
   "cell_type": "code",
   "execution_count": 7,
   "id": "383ac745-1535-4981-aeb6-cecb7c89d3dd",
   "metadata": {},
   "outputs": [
    {
     "name": "stdout",
     "output_type": "stream",
     "text": [
      "64\n",
      "17\n"
     ]
    }
   ],
   "source": [
    "training_GreengmIDs_num = int(81 * .8)\n",
    "test_GreengmIDs_num = len( GreengmIDs) - training_GreengmIDs_num\n",
    "print( training_GreengmIDs_num )\n",
    "print( test_GreengmIDs_num )"
   ]
  },
  {
   "cell_type": "code",
   "execution_count": 8,
   "id": "0311105b-aac2-4655-b57c-c15657132242",
   "metadata": {},
   "outputs": [
    {
     "name": "stdout",
     "output_type": "stream",
     "text": [
      "Training Set (64 GMIDs):\n",
      "                                   gmids\n",
      "30  ed352100-cba0-11ee-909c-e1dc60cf66f9\n",
      "0   a231c0b0-f142-11ee-ba76-fb353e7798cd\n",
      "22  25641404-cb66-11ee-909c-e1dc60cf66f9\n",
      "31  40706f50-f03b-11ee-b96e-fb353e7798cd\n",
      "18  5afabc8c-f035-11ee-b966-fb353e7798cd\n",
      "..                                   ...\n",
      "78  271fee10-cb8b-11ee-909c-e1dc60cf66f9\n",
      "57  f12112ba-f1c0-11ee-bada-fb353e7798cd\n",
      "11  fa9cba86-f0f0-11ee-ba2a-fb353e7798cd\n",
      "32  848e44a6-f134-11ee-ba6d-fb353e7798cd\n",
      "76  b31aca98-cb95-11ee-909c-e1dc60cf66f9\n",
      "\n",
      "[64 rows x 1 columns]\n",
      "\n",
      "Test Set (17 GMIDs):\n",
      "                                   gmids\n",
      "1   8b0593cc-cb4e-11ee-909c-e1dc60cf66f9\n",
      "2   99b9f446-f1b2-11ee-bad3-fb353e7798cd\n",
      "14  044d976e-f0e5-11ee-ba20-fb353e7798cd\n",
      "20  ba87f3ec-f07e-11ee-b9b4-fb353e7798cd\n",
      "21  d846a080-f115-11ee-ba51-fb353e7798cd\n",
      "23  73bc30cc-f150-11ee-ba84-fb353e7798cd\n",
      "29  c14299be-f180-11ee-bab0-fb353e7798cd\n",
      "37  3d8020aa-cb7f-11ee-909c-e1dc60cf66f9\n",
      "51  c9be2042-f0de-11ee-ba1e-fb353e7798cd\n",
      "52  c4146d46-f074-11ee-b9ac-fb353e7798cd\n",
      "59  5c7a9ab2-f13b-11ee-ba72-fb353e7798cd\n",
      "60  f570c51c-f15d-11ee-ba91-fb353e7798cd\n",
      "63  c2f54552-f06f-11ee-b9a9-fb353e7798cd\n",
      "69  98692fde-f1a4-11ee-bac6-fb353e7798cd\n",
      "71  f9c5e53e-f0ea-11ee-ba28-fb353e7798cd\n",
      "74  837fc882-cb5a-11ee-909c-e1dc60cf66f9\n",
      "75  25e27b86-f06a-11ee-b9a3-fb353e7798cd\n"
     ]
    }
   ],
   "source": [
    "GreengmIDs = GreengmIDs\n",
    "\n",
    "# Convert the list to a pandas DataFrame\n",
    "GreengmIDs_DF = pd.DataFrame({'gmids': GreengmIDs})\n",
    "\n",
    "# Randomly sample 64 gmids\n",
    "Training_GreengmIDs_DF = GreengmIDs_DF.sample(n=64, random_state=42)\n",
    "\n",
    "# Get the remaining 17 gmids\n",
    "Test_GreengmIDs_DF = GreengmIDs_DF.drop(Training_GreengmIDs_DF.index)\n",
    "\n",
    "# Print the results\n",
    "print(\"Training Set (64 GMIDs):\")\n",
    "print(Training_GreengmIDs_DF)\n",
    "print(\"\\nTest Set (17 GMIDs):\")\n",
    "print(Test_GreengmIDs_DF)"
   ]
  },
  {
   "cell_type": "code",
   "execution_count": 9,
   "id": "f6fe9232-592d-4d38-9329-6e44e2c13f49",
   "metadata": {
    "scrolled": true
   },
   "outputs": [
    {
     "name": "stdout",
     "output_type": "stream",
     "text": [
      "                                   gmids\n",
      "30  ed352100-cba0-11ee-909c-e1dc60cf66f9\n",
      "0   a231c0b0-f142-11ee-ba76-fb353e7798cd\n",
      "22  25641404-cb66-11ee-909c-e1dc60cf66f9\n",
      "31  40706f50-f03b-11ee-b96e-fb353e7798cd\n",
      "18  5afabc8c-f035-11ee-b966-fb353e7798cd\n",
      "28  c1b320e2-f079-11ee-b9b0-fb353e7798cd\n",
      "10  236836f6-f1dd-11ee-bae8-fb353e7798cd\n",
      "70  a08a8c7e-f1fb-11ee-bb05-fb353e7798cd\n",
      "4   53fad09e-f0f7-11ee-ba2f-fb353e7798cd\n",
      "12  8e5c4fc2-f149-11ee-ba7f-fb353e7798cd\n",
      "49  a6539bd2-cb72-11ee-909c-e1dc60cf66f9\n",
      "33  43abeb00-f206-11ee-bb07-fb353e7798cd\n",
      "67  5f7ce340-f1c8-11ee-bae0-fb353e7798cd\n",
      "35  96ceec56-f1cf-11ee-bae4-fb353e7798cd\n",
      "68  fe0395f0-f1ea-11ee-baf9-fb353e7798cd\n",
      "45  b3ee0dd8-f0d7-11ee-ba18-fb353e7798cd\n",
      "73  58d78342-f24a-11ee-bb45-fb353e7798cd\n",
      "61  4c88757c-f157-11ee-ba89-fb353e7798cd\n",
      "55  7948628e-f20b-11ee-bb0f-fb353e7798cd\n",
      "40  7a22a34c-f1f0-11ee-bafe-fb353e7798cd\n",
      "9   5774dcde-f196-11ee-babe-fb353e7798cd\n",
      "64  072ef896-cbac-11ee-909c-e1dc60cf66f9\n",
      "5   bbbd0cc6-f0dc-11ee-ba1e-fb353e7798cd\n",
      "47  dea29156-f123-11ee-ba5d-fb353e7798cd\n",
      "34  d1a3a310-f091-11ee-b9ce-fb353e7798cd\n",
      "62  8adb6498-f04d-11ee-b981-fb353e7798cd\n",
      "42  d7cb9c92-f164-11ee-ba97-fb353e7798cd\n",
      "54  c4fca7bc-f18e-11ee-bab8-fb353e7798cd\n",
      "16  3a7dc9a6-f042-11ee-b974-fb353e7798cd\n",
      "39  df6c3fb4-f200-11ee-bb07-fb353e7798cd\n",
      "56  a901fe40-f0fd-11ee-ba39-fb353e7798cd\n",
      "80  961fd9cc-f103-11ee-ba3f-fb353e7798cd\n",
      "7   3c415ade-d353-11ee-b437-336917683bb8\n",
      "50  7f824ea2-f05e-11ee-b993-fb353e7798cd\n",
      "53  cbdc93f4-f255-11ee-bb4e-fb353e7798cd\n",
      "19  1c74d294-f1e4-11ee-baf0-fb353e7798cd\n",
      "66  7e3d64da-f12d-11ee-ba68-fb353e7798cd\n",
      "25  5fc763f6-f1ab-11ee-bacd-fb353e7798cd\n",
      "44  ece2a8be-f047-11ee-b97d-fb353e7798cd\n",
      "13  25135418-f250-11ee-bb4a-fb353e7798cd\n",
      "77  f8fd0fd8-f243-11ee-bb3f-fb353e7798cd\n",
      "3   bf9157f0-f16b-11ee-ba9e-fb353e7798cd\n",
      "17  3ed4aa16-f1d6-11ee-bae6-fb353e7798cd\n",
      "38  9736e77c-f187-11ee-bab6-fb353e7798cd\n",
      "8   0f3cdf60-f1f6-11ee-bb00-fb353e7798cd\n",
      "65  e9a1d768-f23d-11ee-bb39-fb353e7798cd\n",
      "6   9df14b4e-f172-11ee-baa6-fb353e7798cd\n",
      "36  c59a54e0-f179-11ee-baab-fb353e7798cd\n",
      "72  3ec95686-f053-11ee-b988-fb353e7798cd\n",
      "58  51b74168-f19d-11ee-babf-fb353e7798cd\n",
      "46  870cfd32-f1b9-11ee-bad5-fb353e7798cd\n",
      "79  14b6bc9c-f064-11ee-b998-fb353e7798cd\n",
      "15  88b0613a-d35d-11ee-b437-336917683bb8\n",
      "27  d454c586-f11c-11ee-ba55-fb353e7798cd\n",
      "41  4cf81634-f238-11ee-bb34-fb353e7798cd\n",
      "26  de493be2-f10f-11ee-ba4b-fb353e7798cd\n",
      "48  bb4d37d4-f109-11ee-ba46-fb353e7798cd\n",
      "24  cf7148d8-f058-11ee-b98a-fb353e7798cd\n",
      "43  de226278-f25a-11ee-bb4e-fb353e7798cd\n",
      "78  271fee10-cb8b-11ee-909c-e1dc60cf66f9\n",
      "57  f12112ba-f1c0-11ee-bada-fb353e7798cd\n",
      "11  fa9cba86-f0f0-11ee-ba2a-fb353e7798cd\n",
      "32  848e44a6-f134-11ee-ba6d-fb353e7798cd\n",
      "76  b31aca98-cb95-11ee-909c-e1dc60cf66f9\n"
     ]
    }
   ],
   "source": [
    "# Ensure all rows are printed\n",
    "pd.set_option('display.max_rows', None)\n",
    "\n",
    "# Print the dataframe correctly\n",
    "print(Training_GreengmIDs_DF.to_string())"
   ]
  },
  {
   "cell_type": "code",
   "execution_count": 10,
   "id": "c362db27-7ab2-4891-b171-b376a8a9145f",
   "metadata": {},
   "outputs": [],
   "source": [
    "final_df = pd.DataFrame()"
   ]
  },
  {
   "cell_type": "code",
   "execution_count": 11,
   "id": "a8efa0a6-11c8-4aeb-b90f-853421370987",
   "metadata": {},
   "outputs": [],
   "source": [
    "for gmID in GreengmIDs:\n",
    "    gmID_best_pose_df = cfs.retrieve_gmID_topic( gmID, '/apollo/sensor/gnss/best/pose' )\n",
    "    gmID_chassis_df = cfs.retrieve_gmID_topic( gmID, '/apollo/canbus/chassis')\n",
    "    gmID_chassis_df = gmID_chassis_df.sort_values(\"time\")\n",
    "    gmID_best_pose_df = gmID_best_pose_df.sort_values(\"time\")\n",
    "\n",
    "    cfs.BinaryDrivingMode(gmID_chassis_df)\n",
    "    cfs.TernaryDrivingModeTransition(gmID_chassis_df)\n",
    "    cfs.LatLonTotalStdDev(gmID_best_pose_df)\n",
    "    \n",
    "    cfs.ChassisBestPoseMatchedTime(gmID_chassis_df, gmID_best_pose_df)\n",
    "    merged_df = pd.merge(gmID_chassis_df, gmID_best_pose_df, on='ChassisBestPoseMatchedTime')\n",
    "    final_df = pd.concat([final_df,merged_df])\n"
   ]
  },
  {
   "cell_type": "code",
   "execution_count": 12,
   "id": "35f323ce-cc90-4ae3-99e6-65affe94c8f4",
   "metadata": {},
   "outputs": [
    {
     "name": "stdout",
     "output_type": "stream",
     "text": [
      "brakePercentage\n",
      "groupMetadataID_x\n",
      "drivingMode\n",
      "speedMps\n",
      "time_x\n",
      "throttlePercentage\n",
      "steeringPercentage\n",
      "signal.turnSignal\n",
      "BinaryDrivingMode\n",
      "TernaryDrivingModeTransition\n",
      "ChassisBestPoseMatchedTime\n",
      "heightMsl\n",
      "groupMetadataID_y\n",
      "latitudeStdDev\n",
      "longitude\n",
      "solType\n",
      "extendedSolutionStatus\n",
      "time_y\n",
      "heightStdDev\n",
      "solStatus\n",
      "latitude\n",
      "longitudeStdDev\n",
      "numSatsInSolution\n",
      "LatLonTotalStdDev\n"
     ]
    }
   ],
   "source": [
    "for c in final_df.columns:\n",
    "    print(c)"
   ]
  },
  {
   "cell_type": "code",
   "execution_count": 13,
   "id": "6ee668b0-0872-4593-b2b0-6d52f9fc4bc5",
   "metadata": {},
   "outputs": [
    {
     "name": "stdout",
     "output_type": "stream",
     "text": [
      "Accuracy: 0.8971\n",
      "Classification Report:\n",
      "              precision    recall  f1-score   support\n",
      "\n",
      "           0       0.77      0.47      0.59     69997\n",
      "           1       0.91      0.97      0.94    384572\n",
      "\n",
      "    accuracy                           0.90    454569\n",
      "   macro avg       0.84      0.72      0.76    454569\n",
      "weighted avg       0.89      0.90      0.89    454569\n",
      "\n"
     ]
    }
   ],
   "source": [
    "# Specify train and test identifiers\n",
    "Training_GreengmIDs_DF = (\n",
    "'3ec95686-f053-11ee-b988-fb353e7798cd',\n",
    "'b31aca98-cb95-11ee-909c-e1dc60cf66f9',\n",
    "'25e27b86-f06a-11ee-b9a3-fb353e7798cd',\n",
    "'bf9157f0-f16b-11ee-ba9e-fb353e7798cd',\n",
    "'51b74168-f19d-11ee-babf-fb353e7798cd',\n",
    "'de493be2-f10f-11ee-ba4b-fb353e7798cd',\n",
    "'ece2a8be-f047-11ee-b97d-fb353e7798cd',\n",
    "'044d976e-f0e5-11ee-ba20-fb353e7798cd',\n",
    "'98692fde-f1a4-11ee-bac6-fb353e7798cd',\n",
    "'5afabc8c-f035-11ee-b966-fb353e7798cd',\n",
    "'072ef896-cbac-11ee-909c-e1dc60cf66f9',\n",
    "'c59a54e0-f179-11ee-baab-fb353e7798cd',\n",
    "'bbbd0cc6-f0dc-11ee-ba1e-fb353e7798cd',\n",
    "'ba87f3ec-f07e-11ee-b9b4-fb353e7798cd',\n",
    "'96ceec56-f1cf-11ee-bae4-fb353e7798cd',\n",
    "'40706f50-f03b-11ee-b96e-fb353e7798cd',\n",
    "'f570c51c-f15d-11ee-ba91-fb353e7798cd',\n",
    "'f12112ba-f1c0-11ee-bada-fb353e7798cd',\n",
    "'961fd9cc-f103-11ee-ba3f-fb353e7798cd',\n",
    "'5f7ce340-f1c8-11ee-bae0-fb353e7798cd',\n",
    "'cf7148d8-f058-11ee-b98a-fb353e7798cd',\n",
    "'848e44a6-f134-11ee-ba6d-fb353e7798cd',\n",
    "'3a7dc9a6-f042-11ee-b974-fb353e7798cd',\n",
    "'c9be2042-f0de-11ee-ba1e-fb353e7798cd',\n",
    "'9736e77c-f187-11ee-bab6-fb353e7798cd',\n",
    "'5fc763f6-f1ab-11ee-bacd-fb353e7798cd',\n",
    "'4c88757c-f157-11ee-ba89-fb353e7798cd',\n",
    "'a231c0b0-f142-11ee-ba76-fb353e7798cd',\n",
    "'53fad09e-f0f7-11ee-ba2f-fb353e7798cd',\n",
    "'5c7a9ab2-f13b-11ee-ba72-fb353e7798cd',\n",
    "'4cf81634-f238-11ee-bb34-fb353e7798cd',\n",
    "'a08a8c7e-f1fb-11ee-bb05-fb353e7798cd',\n",
    "'3ed4aa16-f1d6-11ee-bae6-fb353e7798cd',\n",
    "'25135418-f250-11ee-bb4a-fb353e7798cd',\n",
    "'c1b320e2-f079-11ee-b9b0-fb353e7798cd',\n",
    "'43abeb00-f206-11ee-bb07-fb353e7798cd',\n",
    "'fe0395f0-f1ea-11ee-baf9-fb353e7798cd',\n",
    "'3d8020aa-cb7f-11ee-909c-e1dc60cf66f9',\n",
    "'14b6bc9c-f064-11ee-b998-fb353e7798cd',\n",
    "'870cfd32-f1b9-11ee-bad5-fb353e7798cd',\n",
    "'c2f54552-f06f-11ee-b9a9-fb353e7798cd',\n",
    "'dea29156-f123-11ee-ba5d-fb353e7798cd',\n",
    "'3c415ade-d353-11ee-b437-336917683bb8',\n",
    "'a901fe40-f0fd-11ee-ba39-fb353e7798cd',\n",
    "'c4146d46-f074-11ee-b9ac-fb353e7798cd',\n",
    "'de226278-f25a-11ee-bb4e-fb353e7798cd',\n",
    "'d7cb9c92-f164-11ee-ba97-fb353e7798cd',\n",
    "'88b0613a-d35d-11ee-b437-336917683bb8',\n",
    "'c4fca7bc-f18e-11ee-bab8-fb353e7798cd',\n",
    "'ed352100-cba0-11ee-909c-e1dc60cf66f9',\n",
    "'cbdc93f4-f255-11ee-bb4e-fb353e7798cd',\n",
    "'8e5c4fc2-f149-11ee-ba7f-fb353e7798cd',\n",
    "'bb4d37d4-f109-11ee-ba46-fb353e7798cd',\n",
    "'236836f6-f1dd-11ee-bae8-fb353e7798cd',\n",
    "'7948628e-f20b-11ee-bb0f-fb353e7798cd',\n",
    "'c14299be-f180-11ee-bab0-fb353e7798cd',\n",
    "'73bc30cc-f150-11ee-ba84-fb353e7798cd',\n",
    "'7e3d64da-f12d-11ee-ba68-fb353e7798cd',\n",
    "'837fc882-cb5a-11ee-909c-e1dc60cf66f9',\n",
    "'f8fd0fd8-f243-11ee-bb3f-fb353e7798cd',\n",
    "'58d78342-f24a-11ee-bb45-fb353e7798cd',\n",
    "'8adb6498-f04d-11ee-b981-fb353e7798cd',\n",
    "'271fee10-cb8b-11ee-909c-e1dc60cf66f9',\n",
    "'99b9f446-f1b2-11ee-bad3-fb353e7798cd')\n",
    "\n",
    "\n",
    "Test_GreengmIDs_DF = ('5774dcde-f196-11ee-babe-fb353e7798cd',\n",
    "'1c74d294-f1e4-11ee-baf0-fb353e7798cd',\n",
    "'0f3cdf60-f1f6-11ee-bb00-fb353e7798cd',\n",
    "'8b0593cc-cb4e-11ee-909c-e1dc60cf66f9',\n",
    "'a6539bd2-cb72-11ee-909c-e1dc60cf66f9',\n",
    "'9df14b4e-f172-11ee-baa6-fb353e7798cd',\n",
    "'e9a1d768-f23d-11ee-bb39-fb353e7798cd',\n",
    "'d846a080-f115-11ee-ba51-fb353e7798cd',\n",
    "'df6c3fb4-f200-11ee-bb07-fb353e7798cd',\n",
    "'d1a3a310-f091-11ee-b9ce-fb353e7798cd',\n",
    "'fa9cba86-f0f0-11ee-ba2a-fb353e7798cd',\n",
    "'7a22a34c-f1f0-11ee-bafe-fb353e7798cd',\n",
    "'f9c5e53e-f0ea-11ee-ba28-fb353e7798cd',\n",
    "'b3ee0dd8-f0d7-11ee-ba18-fb353e7798cd',\n",
    "'25641404-cb66-11ee-909c-e1dc60cf66f9',\n",
    "'d454c586-f11c-11ee-ba55-fb353e7798cd',\n",
    "'7f824ea2-f05e-11ee-b993-fb353e7798cd')\n",
    "\n",
    "# Filter the dataframe into training and testing sets based on the identifiers\n",
    "train_df = final_df[final_df['groupMetadataID_x'].isin(Training_GreengmIDs_DF)]\n",
    "test_df = final_df[final_df['groupMetadataID_x'].isin(Test_GreengmIDs_DF)]\n",
    "\n",
    "# Separate features (X) and target (y) for both training and testing sets\n",
    "X_train = train_df[['brakePercentage', 'throttlePercentage', 'steeringPercentage', 'speedMps', 'LatLonTotalStdDev']]\n",
    "y_train = train_df['BinaryDrivingMode']  # Ensure this column name matches your target variable\n",
    "\n",
    "X_test = test_df[['brakePercentage', 'throttlePercentage', 'steeringPercentage', 'speedMps', 'LatLonTotalStdDev']]\n",
    "y_test = test_df['BinaryDrivingMode']\n",
    "\n",
    "# Standardize the continuous features\n",
    "scaler = StandardScaler()\n",
    "X_train_scaled = scaler.fit_transform(X_train)\n",
    "X_test_scaled = scaler.transform(X_test)\n",
    "\n",
    "# Initialize and train the KNN model\n",
    "knn = KNeighborsClassifier(n_neighbors=3)\n",
    "knn.fit(X_train_scaled, y_train)\n",
    "\n",
    "# Make predictions on the test data\n",
    "y_pred = knn.predict(X_test_scaled)\n",
    "\n",
    "# Evaluate the model\n",
    "print(f'Accuracy: {accuracy_score(y_test, y_pred):.4f}')\n",
    "print('Classification Report:')\n",
    "print(classification_report(y_test, y_pred))"
   ]
  },
  {
   "cell_type": "code",
   "execution_count": 14,
   "id": "48c02759-e69b-4c07-ada9-3eb17e18ebfa",
   "metadata": {},
   "outputs": [
    {
     "name": "stdout",
     "output_type": "stream",
     "text": [
      "Confusion Matrix:\n",
      "[[ 33169  36828]\n",
      " [  9957 374615]]\n"
     ]
    }
   ],
   "source": [
    "conf_matrix = confusion_matrix(y_test, y_pred)\n",
    "print('Confusion Matrix:')\n",
    "print(conf_matrix)"
   ]
  },
  {
   "cell_type": "code",
   "execution_count": 15,
   "id": "4eefd3e7-70d1-4dcd-9d76-926c689e9c68",
   "metadata": {},
   "outputs": [
    {
     "data": {
      "image/png": "[encoded data removed]",
      "text/plain": [
       "<Figure size 640x480 with 2 Axes>"
      ]
     },
     "metadata": {},
     "output_type": "display_data"
    }
   ],
   "source": [
    "# Plot Confusion Matrix\n",
    "cm = confusion_matrix(y_test, y_pred)\n",
    "class_labels = ['ManualMode (0)', 'AutoMode (1)']\n",
    "disp = ConfusionMatrixDisplay(confusion_matrix=cm, display_labels=class_labels)\n",
    "\n",
    "# Plot the confusion matrix with a title\n",
    "disp.plot(cmap=plt.cm.Greens)\n",
    "plt.title(\"KNN Confusion Matrix - Greenroute\")\n",
    "plt.show()"
   ]
  },
  {
   "cell_type": "code",
   "execution_count": 16,
   "id": "cffe83c8-cf5a-47ec-9737-770a3757713c",
   "metadata": {},
   "outputs": [
    {
     "name": "stdout",
     "output_type": "stream",
     "text": [
      "Balanced accuracy: 0.7240\n"
     ]
    }
   ],
   "source": [
    "print(f'Balanced accuracy: {balanced_accuracy_score(y_test, y_pred):.4f}')"
   ]
  },
  {
   "cell_type": "code",
   "execution_count": null,
   "id": "6172628d-8c29-4e31-97a8-af796f1b9cd6",
   "metadata": {},
   "outputs": [],
   "source": []
  }
 ],
 "metadata": {
  "kernelspec": {
   "display_name": "Python 3 (ipykernel)",
   "language": "python",
   "name": "python3"
  },
  "language_info": {
   "codemirror_mode": {
    "name": "ipython",
    "version": 3
   },
   "file_extension": ".py",
   "mimetype": "text/x-python",
   "name": "python",
   "nbconvert_exporter": "python",
   "pygments_lexer": "ipython3",
   "version": "3.10.12"
  }
 },
 "nbformat": 4,
 "nbformat_minor": 5
}
