{
 "cells": [
  {
   "cell_type": "code",
   "execution_count": 1,
   "id": "e528498e-df08-4457-9f4b-65df043909a0",
   "metadata": {},
   "outputs": [],
   "source": [
    "import CalculatedFieldSubroutines as cfs\n",
    "import pandas as pd\n",
    "from CalculatedFieldSubroutines import BinaryDrivingMode\n",
    "import numpy as np\n",
    "import os\n",
    "from sklearn.metrics import confusion_matrix\n",
    "from sklearn.model_selection import train_test_split\n",
    "from sklearn.preprocessing import StandardScaler, OneHotEncoder\n",
    "from sklearn.neighbors import KNeighborsClassifier\n",
    "from sklearn.metrics import accuracy_score, classification_report, balanced_accuracy_score\n",
    "import matplotlib.pyplot as plt\n",
    "from sklearn.metrics import confusion_matrix, ConfusionMatrixDisplay"
   ]
  },
  {
   "cell_type": "code",
   "execution_count": 2,
   "id": "11f9f1d9-1f01-42b0-9c9c-47a88dd41b5f",
   "metadata": {},
   "outputs": [],
   "source": [
    "gmIDS=cfs.list_whitelisted_gmIDs()"
   ]
  },
  {
   "cell_type": "code",
   "execution_count": 3,
   "id": "bf7495f1-e4fb-42e7-ae89-bab692c4b3d1",
   "metadata": {},
   "outputs": [],
   "source": [
    "RedgmIDs=[]\n",
    "for gmID in gmIDS:\n",
    "    if cfs.give_route(gmID)==\"Red\":\n",
    "        RedgmIDs.append(gmID)\n",
    "        "
   ]
  },
  {
   "cell_type": "code",
   "execution_count": 4,
   "id": "763605a1-4ce5-4bd4-b4d4-fd232dad833d",
   "metadata": {},
   "outputs": [
    {
     "name": "stdout",
     "output_type": "stream",
     "text": [
      "['e7b934a8-ef1a-11ee-9385-ef789ffde1d3', '1ee938a2-f172-11ee-baa6-fb353e7798cd', '817d6848-efb6-11ee-b966-fb353e7798cd', 'c9c6856c-d33c-11ee-b437-336917683bb8', '65cfbfd6-f396-11ee-bb4e-fb353e7798cd', '8fa6fe80-c869-11ee-a7fc-dd032dba19e8', '2462c9d0-eecd-11ee-9385-ef789ffde1d3', '219f7eb8-ef87-11ee-b966-fb353e7798cd', 'fc211bb2-efca-11ee-b966-fb353e7798cd', '171c50bc-f106-11ee-ba42-fb353e7798cd', 'f755cf60-f132-11ee-ba6d-fb353e7798cd', '2f95c748-f009-11ee-b966-fb353e7798cd', 'fd1ab258-efa7-11ee-b966-fb353e7798cd', '211bdb36-f0da-11ee-ba1b-fb353e7798cd', '01e65360-efd4-11ee-b966-fb353e7798cd', '88a68dd8-eef9-11ee-9385-ef789ffde1d3', '853ef120-cad3-11ee-909c-e1dc60cf66f9', 'ce6465b6-f51b-11ee-8afa-cb629b0d53e6', '1bbbfbae-c839-11ee-a7fc-dd032dba19e8', 'd21965e6-f0fa-11ee-ba37-fb353e7798cd', '88dd6fbe-f224-11ee-bb21-fb353e7798cd', 'de933de8-f112-11ee-ba4d-fb353e7798cd', '51ef6da6-ca9f-11ee-909c-e1dc60cf66f9', 'aa5dbcd2-ef10-11ee-9385-ef789ffde1d3', '72a03d4a-efe9-11ee-b966-fb353e7798cd', '622bd2e8-f0e4-11ee-ba1f-fb353e7798cd', '9189a2a8-f121-11ee-ba5b-fb353e7798cd', '3d2d29ec-ef95-11ee-b966-fb353e7798cd', 'c25271be-f3a4-11ee-bb4e-fb353e7798cd', '85b6e70e-ef7a-11ee-b966-fb353e7798cd', '8347b862-efad-11ee-b966-fb353e7798cd', '9798fe24-f143-11ee-ba78-fb353e7798cd', '868de15e-f3b3-11ee-bb4e-fb353e7798cd', '84d96f18-f214-11ee-bb13-fb353e7798cd', '43a1a35e-f362-11ee-bb4e-fb353e7798cd', '05c7c824-cab8-11ee-aa4d-1d66adf2f0c7', '8dbbbf1c-f0ef-11ee-ba29-fb353e7798cd', 'cf831f42-f353-11ee-bb4e-fb353e7798cd', '61b12e7a-f234-11ee-bb33-fb353e7798cd', '286e019a-f204-11ee-bb07-fb353e7798cd', '96f7a614-f549-11ee-8afa-cb629b0d53e6', '2a61b8a8-f528-11ee-8afa-cb629b0d53e6', '6d2ea45a-c839-11ee-a7fc-dd032dba19e8', 'dd72fdec-f0cf-11ee-ba0d-fb353e7798cd', '1b6aca0e-efdf-11ee-b966-fb353e7798cd', 'c338788a-d324-11ee-b437-336917683bb8', 'b82476fe-f1f3-11ee-baff-fb353e7798cd', 'fe973c9c-f53c-11ee-8afa-cb629b0d53e6', '3344a3c0-f502-11ee-8afa-cb629b0d53e6', 'f43b6a70-f01e-11ee-b966-fb353e7798cd', '7cbd932e-f244-11ee-bb3f-fb353e7798cd', 'd3698592-ef9d-11ee-b966-fb353e7798cd', '8437f77a-cab7-11ee-909c-e1dc60cf66f9', 'fcc6fcd2-f013-11ee-b966-fb353e7798cd', 'f711e68e-f0e1-11ee-ba1f-fb353e7798cd', 'd12cd1c4-caec-11ee-909c-e1dc60cf66f9', '35518ec4-f153-11ee-ba88-fb353e7798cd', '3151e9e2-eff3-11ee-b966-fb353e7798cd', 'f41cbd44-eff8-11ee-b966-fb353e7798cd', '457dc5ee-f02a-11ee-b966-fb353e7798cd', 'ecebb942-f162-11ee-ba97-fb353e7798cd', '7fb7b9c0-c881-11ee-a7fc-dd032dba19e8', 'd24820c8-f197-11ee-babe-fb353e7798cd', '41b67a28-f52f-11ee-8afa-cb629b0d53e6', 'be857244-efc0-11ee-b966-fb353e7798cd', '5a4bccf4-effe-11ee-b966-fb353e7798cd', '94c53148-eeed-11ee-9385-ef789ffde1d3', 'f0eebb6a-f0dc-11ee-ba1e-fb353e7798cd', 'c0555ef0-f50f-11ee-8afa-cb629b0d53e6']\n"
     ]
    }
   ],
   "source": [
    "print (RedgmIDs)"
   ]
  },
  {
   "cell_type": "code",
   "execution_count": 5,
   "id": "45a99239-b637-4726-b5fe-e186def07177",
   "metadata": {},
   "outputs": [
    {
     "name": "stdout",
     "output_type": "stream",
     "text": [
      "69\n"
     ]
    }
   ],
   "source": [
    "print(len(RedgmIDs))"
   ]
  },
  {
   "cell_type": "code",
   "execution_count": 6,
   "id": "3ccd78e2-f7ef-45f4-9cd2-427295665270",
   "metadata": {},
   "outputs": [
    {
     "name": "stdout",
     "output_type": "stream",
     "text": [
      "55\n",
      "14\n"
     ]
    }
   ],
   "source": [
    "training_RedgmIDs_num = int(69 * .8)\n",
    "test_RedgmIDs_num = len( RedgmIDs) - training_RedgmIDs_num\n",
    "print( training_RedgmIDs_num )\n",
    "print( test_RedgmIDs_num )"
   ]
  },
  {
   "cell_type": "code",
   "execution_count": 7,
   "id": "25788314-260b-4162-b8b9-86d96d684f67",
   "metadata": {},
   "outputs": [
    {
     "name": "stdout",
     "output_type": "stream",
     "text": [
      "Training Set (55 GMIDs):\n",
      "                                   gmids\n",
      "22  51ef6da6-ca9f-11ee-909c-e1dc60cf66f9\n",
      "0   e7b934a8-ef1a-11ee-9385-ef789ffde1d3\n",
      "47  fe973c9c-f53c-11ee-8afa-cb629b0d53e6\n",
      "4   65cfbfd6-f396-11ee-bb4e-fb353e7798cd\n",
      "53  fcc6fcd2-f013-11ee-b966-fb353e7798cd\n",
      "18  1bbbfbae-c839-11ee-a7fc-dd032dba19e8\n",
      "10  f755cf60-f132-11ee-ba6d-fb353e7798cd\n",
      "33  84d96f18-f214-11ee-bb13-fb353e7798cd\n",
      "44  1b6aca0e-efdf-11ee-b966-fb353e7798cd\n",
      "12  fd1ab258-efa7-11ee-b966-fb353e7798cd\n",
      "31  9798fe24-f143-11ee-ba78-fb353e7798cd\n",
      "9   171c50bc-f106-11ee-ba42-fb353e7798cd\n",
      "59  457dc5ee-f02a-11ee-b966-fb353e7798cd\n",
      "5   8fa6fe80-c869-11ee-a7fc-dd032dba19e8\n",
      "68  c0555ef0-f50f-11ee-8afa-cb629b0d53e6\n",
      "30  8347b862-efad-11ee-b966-fb353e7798cd\n",
      "57  3151e9e2-eff3-11ee-b966-fb353e7798cd\n",
      "35  05c7c824-cab8-11ee-aa4d-1d66adf2f0c7\n",
      "56  35518ec4-f153-11ee-ba88-fb353e7798cd\n",
      "46  b82476fe-f1f3-11ee-baff-fb353e7798cd\n",
      "16  853ef120-cad3-11ee-909c-e1dc60cf66f9\n",
      "34  43a1a35e-f362-11ee-bb4e-fb353e7798cd\n",
      "42  6d2ea45a-c839-11ee-a7fc-dd032dba19e8\n",
      "28  c25271be-f3a4-11ee-bb4e-fb353e7798cd\n",
      "7   219f7eb8-ef87-11ee-b966-fb353e7798cd\n",
      "61  7fb7b9c0-c881-11ee-a7fc-dd032dba19e8\n",
      "40  96f7a614-f549-11ee-8afa-cb629b0d53e6\n",
      "50  7cbd932e-f244-11ee-bb3f-fb353e7798cd\n",
      "45  c338788a-d324-11ee-b437-336917683bb8\n",
      "19  d21965e6-f0fa-11ee-ba37-fb353e7798cd\n",
      "55  d12cd1c4-caec-11ee-909c-e1dc60cf66f9\n",
      "39  286e019a-f204-11ee-bb07-fb353e7798cd\n",
      "25  622bd2e8-f0e4-11ee-ba1f-fb353e7798cd\n",
      "38  61b12e7a-f234-11ee-bb33-fb353e7798cd\n",
      "13  211bdb36-f0da-11ee-ba1b-fb353e7798cd\n",
      "49  f43b6a70-f01e-11ee-b966-fb353e7798cd\n",
      "3   c9c6856c-d33c-11ee-b437-336917683bb8\n",
      "17  ce6465b6-f51b-11ee-8afa-cb629b0d53e6\n",
      "8   fc211bb2-efca-11ee-b966-fb353e7798cd\n",
      "54  f711e68e-f0e1-11ee-ba1f-fb353e7798cd\n",
      "6   2462c9d0-eecd-11ee-9385-ef789ffde1d3\n",
      "36  8dbbbf1c-f0ef-11ee-ba29-fb353e7798cd\n",
      "63  41b67a28-f52f-11ee-8afa-cb629b0d53e6\n",
      "67  f0eebb6a-f0dc-11ee-ba1e-fb353e7798cd\n",
      "15  88a68dd8-eef9-11ee-9385-ef789ffde1d3\n",
      "27  3d2d29ec-ef95-11ee-b966-fb353e7798cd\n",
      "41  2a61b8a8-f528-11ee-8afa-cb629b0d53e6\n",
      "26  9189a2a8-f121-11ee-ba5b-fb353e7798cd\n",
      "48  3344a3c0-f502-11ee-8afa-cb629b0d53e6\n",
      "24  72a03d4a-efe9-11ee-b966-fb353e7798cd\n",
      "58  f41cbd44-eff8-11ee-b966-fb353e7798cd\n",
      "62  d24820c8-f197-11ee-babe-fb353e7798cd\n",
      "11  2f95c748-f009-11ee-b966-fb353e7798cd\n",
      "32  868de15e-f3b3-11ee-bb4e-fb353e7798cd\n",
      "65  5a4bccf4-effe-11ee-b966-fb353e7798cd\n",
      "\n",
      "Test Set (14 GMIDs):\n",
      "                                   gmids\n",
      "1   1ee938a2-f172-11ee-baa6-fb353e7798cd\n",
      "2   817d6848-efb6-11ee-b966-fb353e7798cd\n",
      "14  01e65360-efd4-11ee-b966-fb353e7798cd\n",
      "20  88dd6fbe-f224-11ee-bb21-fb353e7798cd\n",
      "21  de933de8-f112-11ee-ba4d-fb353e7798cd\n",
      "23  aa5dbcd2-ef10-11ee-9385-ef789ffde1d3\n",
      "29  85b6e70e-ef7a-11ee-b966-fb353e7798cd\n",
      "37  cf831f42-f353-11ee-bb4e-fb353e7798cd\n",
      "43  dd72fdec-f0cf-11ee-ba0d-fb353e7798cd\n",
      "51  d3698592-ef9d-11ee-b966-fb353e7798cd\n",
      "52  8437f77a-cab7-11ee-909c-e1dc60cf66f9\n",
      "60  ecebb942-f162-11ee-ba97-fb353e7798cd\n",
      "64  be857244-efc0-11ee-b966-fb353e7798cd\n",
      "66  94c53148-eeed-11ee-9385-ef789ffde1d3\n"
     ]
    }
   ],
   "source": [
    "\n",
    "RedgmIDs = RedgmIDs\n",
    "\n",
    "# Convert the list to a pandas DataFrame\n",
    "RedgmIDs_DF = pd.DataFrame({'gmids': RedgmIDs})\n",
    "\n",
    "# Randomly sample 55 gmids\n",
    "Training_RedgmIDs_DF = RedgmIDs_DF.sample(n=55, random_state=42)\n",
    "\n",
    "# Get the remaining 14 gmids\n",
    "Test_RedgmIDs_DF = RedgmIDs_DF.drop(Training_RedgmIDs_DF.index)\n",
    "\n",
    "# Print the results\n",
    "print(\"Training Set (55 GMIDs):\")\n",
    "print(Training_RedgmIDs_DF)\n",
    "print(\"\\nTest Set (14 GMIDs):\")\n",
    "print(Test_RedgmIDs_DF)"
   ]
  },
  {
   "cell_type": "code",
   "execution_count": 8,
   "id": "07fb2d60-8228-4b8d-a068-ebf7978fd0c1",
   "metadata": {},
   "outputs": [],
   "source": [
    "final_df = pd.DataFrame()"
   ]
  },
  {
   "cell_type": "code",
   "execution_count": 9,
   "id": "a8efa0a6-11c8-4aeb-b90f-853421370987",
   "metadata": {},
   "outputs": [],
   "source": [
    "for gmID in RedgmIDs:\n",
    "    gmID_best_pose_df = cfs.retrieve_gmID_topic( gmID, '/apollo/sensor/gnss/best/pose' )\n",
    "    gmID_chassis_df = cfs.retrieve_gmID_topic( gmID, '/apollo/canbus/chassis')\n",
    "    gmID_chassis_df = gmID_chassis_df.sort_values(\"time\")\n",
    "    gmID_best_pose_df = gmID_best_pose_df.sort_values(\"time\")\n",
    "\n",
    "    cfs.BinaryDrivingMode(gmID_chassis_df)\n",
    "    cfs.TernaryDrivingModeTransition(gmID_chassis_df)\n",
    "    cfs.LatLonTotalStdDev(gmID_best_pose_df)\n",
    "    \n",
    "    cfs.ChassisBestPoseMatchedTime(gmID_chassis_df, gmID_best_pose_df)\n",
    "    merged_df = pd.merge(gmID_chassis_df, gmID_best_pose_df, on='ChassisBestPoseMatchedTime')\n",
    "    final_df = pd.concat([final_df,merged_df])\n"
   ]
  },
  {
   "cell_type": "code",
   "execution_count": 10,
   "id": "35f323ce-cc90-4ae3-99e6-65affe94c8f4",
   "metadata": {},
   "outputs": [
    {
     "name": "stdout",
     "output_type": "stream",
     "text": [
      "brakePercentage\n",
      "groupMetadataID_x\n",
      "drivingMode\n",
      "speedMps\n",
      "time_x\n",
      "throttlePercentage\n",
      "steeringPercentage\n",
      "signal.turnSignal\n",
      "BinaryDrivingMode\n",
      "TernaryDrivingModeTransition\n",
      "ChassisBestPoseMatchedTime\n",
      "heightMsl\n",
      "groupMetadataID_y\n",
      "latitudeStdDev\n",
      "longitude\n",
      "solType\n",
      "extendedSolutionStatus\n",
      "time_y\n",
      "heightStdDev\n",
      "solStatus\n",
      "latitude\n",
      "longitudeStdDev\n",
      "numSatsInSolution\n",
      "LatLonTotalStdDev\n"
     ]
    }
   ],
   "source": [
    "for c in final_df.columns:\n",
    "    print(c)"
   ]
  },
  {
   "cell_type": "code",
   "execution_count": 13,
   "id": "6ee668b0-0872-4593-b2b0-6d52f9fc4bc5",
   "metadata": {},
   "outputs": [
    {
     "name": "stdout",
     "output_type": "stream",
     "text": [
      "Accuracy: 0.8260\n",
      "Classification Report:\n",
      "              precision    recall  f1-score   support\n",
      "\n",
      "           0       0.64      0.58      0.61    183095\n",
      "           1       0.88      0.90      0.89    607086\n",
      "\n",
      "    accuracy                           0.83    790181\n",
      "   macro avg       0.76      0.74      0.75    790181\n",
      "weighted avg       0.82      0.83      0.82    790181\n",
      "\n"
     ]
    }
   ],
   "source": [
    "# Specify train and test identifiers\n",
    "Training_RedgmIDs_DF = ('61b12e7a-f234-11ee-bb33-fb353e7798cd',\n",
    "'fcc6fcd2-f013-11ee-b966-fb353e7798cd',\n",
    "'05c7c824-cab8-11ee-aa4d-1d66adf2f0c7',\n",
    "'211bdb36-f0da-11ee-ba1b-fb353e7798cd',\n",
    "'868de15e-f3b3-11ee-bb4e-fb353e7798cd',\n",
    "'72a03d4a-efe9-11ee-b966-fb353e7798cd',\n",
    "'7fb7b9c0-c881-11ee-a7fc-dd032dba19e8',\n",
    "'96f7a614-f549-11ee-8afa-cb629b0d53e6',\n",
    "'1bbbfbae-c839-11ee-a7fc-dd032dba19e8',\n",
    "'622bd2e8-f0e4-11ee-ba1f-fb353e7798cd',\n",
    "'9798fe24-f143-11ee-ba78-fb353e7798cd',\n",
    "'88dd6fbe-f224-11ee-bb21-fb353e7798cd',\n",
    "'c9c6856c-d33c-11ee-b437-336917683bb8',\n",
    "'d12cd1c4-caec-11ee-909c-e1dc60cf66f9',\n",
    "'817d6848-efb6-11ee-b966-fb353e7798cd',\n",
    "'1b6aca0e-efdf-11ee-b966-fb353e7798cd',\n",
    "'41b67a28-f52f-11ee-8afa-cb629b0d53e6',\n",
    "'fc211bb2-efca-11ee-b966-fb353e7798cd',\n",
    "'84d96f18-f214-11ee-bb13-fb353e7798cd',\n",
    "'fe973c9c-f53c-11ee-8afa-cb629b0d53e6',\n",
    "'3151e9e2-eff3-11ee-b966-fb353e7798cd',\n",
    "'c0555ef0-f50f-11ee-8afa-cb629b0d53e6',\n",
    "'f711e68e-f0e1-11ee-ba1f-fb353e7798cd',\n",
    "'c338788a-d324-11ee-b437-336917683bb8',\n",
    "'d21965e6-f0fa-11ee-ba37-fb353e7798cd',\n",
    "'88a68dd8-eef9-11ee-9385-ef789ffde1d3',\n",
    "'f41cbd44-eff8-11ee-b966-fb353e7798cd',\n",
    "'43a1a35e-f362-11ee-bb4e-fb353e7798cd',\n",
    "'6d2ea45a-c839-11ee-a7fc-dd032dba19e8',\n",
    "'01e65360-efd4-11ee-b966-fb353e7798cd',\n",
    "'7cbd932e-f244-11ee-bb3f-fb353e7798cd',\n",
    "'65cfbfd6-f396-11ee-bb4e-fb353e7798cd',\n",
    "'94c53148-eeed-11ee-9385-ef789ffde1d3',\n",
    "'fd1ab258-efa7-11ee-b966-fb353e7798cd',\n",
    "'e7b934a8-ef1a-11ee-9385-ef789ffde1d3',\n",
    "'de933de8-f112-11ee-ba4d-fb353e7798cd',\n",
    "'d3698592-ef9d-11ee-b966-fb353e7798cd',\n",
    "'dd72fdec-f0cf-11ee-ba0d-fb353e7798cd',\n",
    "'b82476fe-f1f3-11ee-baff-fb353e7798cd',\n",
    "'f755cf60-f132-11ee-ba6d-fb353e7798cd',\n",
    "'853ef120-cad3-11ee-909c-e1dc60cf66f9',\n",
    "'f0eebb6a-f0dc-11ee-ba1e-fb353e7798cd',\n",
    "'cf831f42-f353-11ee-bb4e-fb353e7798cd',\n",
    "'ecebb942-f162-11ee-ba97-fb353e7798cd',\n",
    "'219f7eb8-ef87-11ee-b966-fb353e7798cd',\n",
    "'d24820c8-f197-11ee-babe-fb353e7798cd',\n",
    "'3d2d29ec-ef95-11ee-b966-fb353e7798cd',\n",
    "'457dc5ee-f02a-11ee-b966-fb353e7798cd',\n",
    "'2462c9d0-eecd-11ee-9385-ef789ffde1d3',\n",
    "'51ef6da6-ca9f-11ee-909c-e1dc60cf66f9',\n",
    "'c25271be-f3a4-11ee-bb4e-fb353e7798cd',\n",
    "'8347b862-efad-11ee-b966-fb353e7798cd',\n",
    "'8dbbbf1c-f0ef-11ee-ba29-fb353e7798cd',\n",
    "'9189a2a8-f121-11ee-ba5b-fb353e7798cd',\n",
    "'8fa6fe80-c869-11ee-a7fc-dd032dba19e8')\n",
    "\n",
    "\n",
    "Test_RedgmIDs_DF = ('35518ec4-f153-11ee-ba88-fb353e7798cd',\n",
    "'2f95c748-f009-11ee-b966-fb353e7798cd',\n",
    "'8437f77a-cab7-11ee-909c-e1dc60cf66f9',\n",
    "'2a61b8a8-f528-11ee-8afa-cb629b0d53e6',\n",
    "'5a4bccf4-effe-11ee-b966-fb353e7798cd',\n",
    "'f43b6a70-f01e-11ee-b966-fb353e7798cd',\n",
    "'85b6e70e-ef7a-11ee-b966-fb353e7798cd',\n",
    "'171c50bc-f106-11ee-ba42-fb353e7798cd',\n",
    "'1ee938a2-f172-11ee-baa6-fb353e7798cd',\n",
    "'286e019a-f204-11ee-bb07-fb353e7798cd',\n",
    "'aa5dbcd2-ef10-11ee-9385-ef789ffde1d3',\n",
    "'ce6465b6-f51b-11ee-8afa-cb629b0d53e6',\n",
    "'be857244-efc0-11ee-b966-fb353e7798cd',\n",
    "'3344a3c0-f502-11ee-8afa-cb629b0d53e6')\n",
    "\n",
    "# Filter the dataframe into training and testing sets based on the identifiers\n",
    "train_df = final_df[final_df['groupMetadataID_x'].isin(Training_RedgmIDs_DF)]\n",
    "test_df = final_df[final_df['groupMetadataID_x'].isin(Test_RedgmIDs_DF)]\n",
    "\n",
    "# Separate features (X) and target (y) for both training and testing sets\n",
    "X_train = train_df[['brakePercentage', 'throttlePercentage', 'steeringPercentage', 'speedMps', 'LatLonTotalStdDev']]\n",
    "y_train = train_df['BinaryDrivingMode']  # Ensure this column name matches your target variable\n",
    "\n",
    "X_test = test_df[['brakePercentage', 'throttlePercentage', 'steeringPercentage', 'speedMps', 'LatLonTotalStdDev']]\n",
    "y_test = test_df['BinaryDrivingMode']\n",
    "\n",
    "# Standardize the continuous features\n",
    "scaler = StandardScaler()\n",
    "X_train_scaled = scaler.fit_transform(X_train)\n",
    "X_test_scaled = scaler.transform(X_test)\n",
    "\n",
    "# Initialize and train the KNN model\n",
    "knn = KNeighborsClassifier(n_neighbors=3)\n",
    "knn.fit(X_train_scaled, y_train)\n",
    "\n",
    "# Make predictions on the test data\n",
    "y_pred = knn.predict(X_test_scaled)\n",
    "\n",
    "# Evaluate the model\n",
    "print(f'Accuracy: {accuracy_score(y_test, y_pred):.4f}')\n",
    "print('Classification Report:')\n",
    "print(classification_report(y_test, y_pred))\n"
   ]
  },
  {
   "cell_type": "code",
   "execution_count": 14,
   "id": "10751f8b-de42-442c-9805-cb3336107f54",
   "metadata": {},
   "outputs": [
    {
     "name": "stdout",
     "output_type": "stream",
     "text": [
      "Confusion Matrix:\n",
      "[[105442  77653]\n",
      " [ 59845 547241]]\n"
     ]
    }
   ],
   "source": [
    "conf_matrix = confusion_matrix(y_test, y_pred)\n",
    "print('Confusion Matrix:')\n",
    "print(conf_matrix)"
   ]
  },
  {
   "cell_type": "code",
   "execution_count": 16,
   "id": "2c97ab47-5412-4461-bc6b-3ebc14207f29",
   "metadata": {},
   "outputs": [
    {
     "data": {
      "image/png": "[encoded data removed]",
      "text/plain": [
       "<Figure size 640x480 with 2 Axes>"
      ]
     },
     "metadata": {},
     "output_type": "display_data"
    }
   ],
   "source": [
    "# Plot Confusion Matrix\n",
    "cm = confusion_matrix(y_test, y_pred)\n",
    "class_labels = ['ManualMode (0)', 'AutoMode (1)']\n",
    "disp = ConfusionMatrixDisplay(confusion_matrix=cm, display_labels=class_labels)\n",
    "\n",
    "# Plot the confusion matrix with a title\n",
    "disp.plot(cmap=plt.cm.Blues)\n",
    "plt.title(\"KNN Confusion Matrix - Redroute\")\n",
    "plt.show()"
   ]
  },
  {
   "cell_type": "code",
   "execution_count": 17,
   "id": "cad43293-f8b2-455a-96e4-28fabd1ebad9",
   "metadata": {},
   "outputs": [
    {
     "name": "stdout",
     "output_type": "stream",
     "text": [
      "Balanced accuracy: 0.7387\n"
     ]
    }
   ],
   "source": [
    "print(f'Balanced accuracy: {balanced_accuracy_score(y_test, y_pred):.4f}')"
   ]
  },
  {
   "cell_type": "code",
   "execution_count": null,
   "id": "712951ef-15a8-41ce-bbc3-98c91dc08b73",
   "metadata": {},
   "outputs": [],
   "source": []
  }
 ],
 "metadata": {
  "kernelspec": {
   "display_name": "Python 3 (ipykernel)",
   "language": "python",
   "name": "python3"
  },
  "language_info": {
   "codemirror_mode": {
    "name": "ipython",
    "version": 3
   },
   "file_extension": ".py",
   "mimetype": "text/x-python",
   "name": "python",
   "nbconvert_exporter": "python",
   "pygments_lexer": "ipython3",
   "version": "3.10.12"
  }
 },
 "nbformat": 4,
 "nbformat_minor": 5
}
